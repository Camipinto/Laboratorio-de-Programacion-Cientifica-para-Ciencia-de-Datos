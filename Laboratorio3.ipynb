{
  "cells": [
    {
      "cell_type": "markdown",
      "source": [
        "<h1><center>Laboratorio 3: El Pandas no muerde (act. I) 🐼</center></h1>\n",
        "\n",
        "<center><strong>MDS7202: Laboratorio de Programación Científica para Ciencia de Datos</strong></center>"
      ],
      "metadata": {
        "id": "XUZ1dFPHzAHl",
        "cell_id": "00000-ae4bce0d-d467-4e5f-a49a-58fb5129bd6c",
        "deepnote_cell_type": "markdown",
        "deepnote_cell_height": 156.390625
      }
    },
    {
      "cell_type": "markdown",
      "source": [
        "### Cuerpo Docente:\n",
        "\n",
        "- Profesor: Matías Rojas y Mauricio Araneda\n",
        "- Auxiliar: Ignacio Meza D.\n",
        "- Ayudante: Rodrigo Guerra"
      ],
      "metadata": {
        "id": "UD8X1uhGzAHq",
        "cell_id": "00001-c0f83a9b-e822-4864-8c65-718da74b60b9",
        "deepnote_cell_type": "markdown",
        "deepnote_cell_height": 284.1875
      }
    },
    {
      "cell_type": "markdown",
      "source": [
        "### Equipo: SUPER IMPORTANTE - notebooks sin nombre no serán revisados\n",
        "\n",
        "- Nombre de alumno 1: Camila Pinto\n"
      ],
      "metadata": {
        "id": "tXflExjqzAHr",
        "cell_id": "00002-155246d6-4c8d-43be-872f-880dede73522",
        "deepnote_cell_type": "markdown",
        "deepnote_cell_height": 139.796875
      }
    },
    {
      "cell_type": "markdown",
      "source": [
        "### **Link de repositorio de GitHub:** https://github.com/Camipinto/Laboratorio-de-Programacion-Cientifica-para-Ciencia-de-Datos"
      ],
      "metadata": {
        "id": "AD-V0bbZzAHr",
        "cell_id": "00003-97391d1f-df36-4c70-90b7-bfd91cd6e49e",
        "deepnote_cell_type": "markdown",
        "deepnote_cell_height": 62
      }
    },
    {
      "cell_type": "markdown",
      "source": [
        "### Reglas:\n",
        "\n",
        "- **Grupos de máximo 2 personas**\n",
        "- **Ausentes** deberán realizar la actividad solos. \n",
        "- Cualquier duda fuera del horario de clases al foro. Mensajes al equipo docente serán respondidos por este medio.\n",
        "- Prohibidas las copias. \n",
        "- Pueden usar cualquer matrial del curso que estimen conveniente."
      ],
      "metadata": {
        "tags": [],
        "cell_id": "00004-0e0866f8-5d50-4988-906a-d868ede07df1",
        "deepnote_cell_type": "markdown",
        "deepnote_cell_height": 241.390625,
        "id": "xOzM0ZGoyZlU"
      }
    },
    {
      "cell_type": "markdown",
      "source": [
        "### Temas a tratar\n",
        "\n",
        "- Introducción al manejo de datos tabulares por medio de la libreria `pandas`."
      ],
      "metadata": {
        "tags": [],
        "cell_id": "00005-ea6a4d75-61c0-4a2b-ac8d-1ac736216350",
        "deepnote_cell_type": "markdown",
        "deepnote_cell_height": 114.390625,
        "id": "kE97sZ--yZlU"
      }
    },
    {
      "cell_type": "markdown",
      "source": [
        "### Objetivos principales del laboratorio\n",
        "\n",
        "- Entender, aplicar y aprovechar las ventajas que nos ofrece la libreria `pandas` para manejar datos tabulares.\n",
        "- Aprender a utilizar la documentación de pandas (y en general, de cualquier librería de python) como también a buscar soluciones en la web.\n",
        "\n",
        "> **Nota**: El laboratorio deberá ser desarrollado sin el uso indiscriminado de iteradores nativos de python (aka \"for\", \"while\"). La idea es que aprendan a exprimir al máximo las funciones optimizadas que nos entrega `pandas`, las cuales vale mencionar, son bastante más eficientes que los iteradores nativos sobre DataFrames."
      ],
      "metadata": {
        "id": "6uBLPj1PzAHs",
        "cell_id": "00006-fbe17074-fb3c-4ddb-bb19-2bfd042bf921",
        "deepnote_cell_type": "markdown",
        "deepnote_cell_height": 243.390625
      }
    },
    {
      "cell_type": "markdown",
      "source": [
        "### Librerias utiles para el Lab 😸"
      ],
      "metadata": {
        "id": "MhISwri4zAHy",
        "cell_id": "00007-93c4d22f-7d4f-4cc0-bca9-a2c35a9b8b3e",
        "deepnote_cell_type": "markdown",
        "deepnote_cell_height": 62
      }
    },
    {
      "cell_type": "code",
      "metadata": {
        "ExecuteTime": {
          "end_time": "2021-03-29T00:08:16.884674Z",
          "start_time": "2021-03-29T00:08:16.349846Z"
        },
        "id": "uyc33dKdzAHy",
        "colab": {
          "base_uri": "https://localhost:8080/"
        },
        "outputId": "aa27d780-04b7-4743-d997-7ae569bd8e45",
        "deepnote_to_be_reexecuted": false,
        "source_hash": "8da0b14b",
        "execution_start": 1632493418117,
        "execution_millis": 4154,
        "cell_id": "00008-58834915-07fa-4589-93b7-f1fb0c08b816",
        "deepnote_cell_type": "code",
        "deepnote_cell_height": 327
      },
      "source": [
        "# Libreria Core del lab.\n",
        "import numpy as np\n",
        "import pandas as pd\n",
        "from IPython.display import display\n",
        "\n",
        "#Libreria para plotear\n",
        "!pip install --upgrade plotly\n",
        "import plotly.express as px\n",
        "\n",
        "# Librerias utiles\n",
        "from sklearn.preprocessing import StandardScaler"
      ],
      "execution_count": 1,
      "outputs": [
        {
          "output_type": "stream",
          "name": "stdout",
          "text": [
            "Looking in indexes: https://pypi.org/simple, https://us-python.pkg.dev/colab-wheels/public/simple/\n",
            "Requirement already satisfied: plotly in /usr/local/lib/python3.7/dist-packages (5.10.0)\n",
            "Requirement already satisfied: tenacity>=6.2.0 in /usr/local/lib/python3.7/dist-packages (from plotly) (8.0.1)\n"
          ]
        }
      ]
    },
    {
      "cell_type": "markdown",
      "source": [
        "# 1. Rendimiento en Estudiantes 📚"
      ],
      "metadata": {
        "id": "xpOTbQcxbSiy",
        "cell_id": "00009-429ae3f2-fb38-4b64-b588-014a84e630dd",
        "deepnote_cell_type": "markdown",
        "deepnote_cell_height": 82
      }
    },
    {
      "cell_type": "markdown",
      "source": [],
      "metadata": {
        "id": "3Q93vbNS25bM",
        "cell_id": "00010-37be44cf-4558-4ba9-83df-767bf4f1905d",
        "deepnote_cell_type": "markdown",
        "deepnote_cell_height": 46
      }
    },
    {
      "cell_type": "markdown",
      "source": [
        "Para este laboratorio deberán trabajar con el dataset `students_grades.json` el cual contiene información sobre el rendimiento de alumnos en distintos ramos. \n",
        "El objetivo principal será el de realizar un trabajo de limpieza de prepración y exploración de datos utilizando exclusivamente `DataFrames` y sus métodos asociados. \n",
        "\n",
        "\n"
      ],
      "metadata": {
        "id": "jnmZfFpxTTYX",
        "cell_id": "00011-2ad31a90-832d-4d5e-9c29-4e5d686375fa",
        "deepnote_cell_type": "markdown",
        "deepnote_cell_height": 119.59375
      }
    },
    {
      "cell_type": "code",
      "metadata": {
        "colab": {
          "base_uri": "https://localhost:8080/"
        },
        "id": "Jqq-s010Iwl1",
        "outputId": "d90c065b-1e2f-43f6-81eb-c92ed177f5f5",
        "deepnote_to_be_reexecuted": false,
        "source_hash": "c60dc4a7",
        "execution_start": 1632493422315,
        "execution_millis": 8,
        "cell_id": "00012-6ef52018-06ac-4eb8-8b0a-4142b81e04aa",
        "deepnote_cell_type": "code",
        "deepnote_cell_height": 215
      },
      "source": [
        "# Si usted está utilizando Colabolatory le puede ser útil este código para cargar los archivos.\n",
        "try:\n",
        "    from google.colab import drive\n",
        "    drive.mount(\"/content/drive\")\n",
        "    path = 'Dirección donde tiene los archivos en el Drive'\n",
        "except: \n",
        "    print('Ignorando conexión drive-colab')"
      ],
      "execution_count": null,
      "outputs": [
        {
          "name": "stdout",
          "text": "Ignorando conexión drive-colab\n",
          "output_type": "stream"
        }
      ]
    },
    {
      "cell_type": "markdown",
      "source": [
        "## 1.1 Carga e Inspección de Datos [1.5 Puntos]\n",
        "\n",
        "\n",
        "<p align=\"center\">\n",
        "  <img src=\"https://drive.google.com/uc?export=view&id=1hZZaPQlZe4VupFOXt76_wjuUA5NpUhrw\" width=\"300\" height=\"300\">\n",
        "</p>\n"
      ],
      "metadata": {
        "id": "Y7sGYwOpN1VJ",
        "cell_id": "00013-61182eec-37fa-401b-8e56-9aec91671835",
        "deepnote_cell_type": "markdown",
        "deepnote_cell_height": 493.1875
      }
    },
    {
      "cell_type": "markdown",
      "source": [
        "*Don Caguayo*, rector de la Universidad de la Cachaña, les comenta que actualmente la Universidad no tiene una subdirección de análisis de datos, pero que tiene un gran interés en formar una. Es por esto, que se contacta con ud. y su equipo para iniciar de forma exploratoria diversas tareas de análisis y consolidación de datos respectivos al rendimiento de sus alumnos.\n",
        "\n",
        "Previo a su primera reunión con el rector, el rector le envía una copia de la base de datos, la cuál a usted y su equipo le encantaría examinar. Para esto, la primera tarea que debe realizar es abrir y cargar el dataset. \n",
        "\n",
        "\n",
        "> **Notar que es sumamente importante el formato que posee cada columna** para su manipulación y que posiblemente ustedes deberán especificar algunos tipos de datos a mano. Ver la documentación del método `read_json` para mayor información.\n",
        "\n",
        "A continuación se muestra un ejemplo de los dos primeros registros del dataset:\n",
        "\n",
        "```json\n",
        "[\n",
        "  {\n",
        "    \"names\": \"Rita Courtney\",\n",
        "    \"gender\": \"female\",\n",
        "    \"race/ethnicity\": \"group B\",\n",
        "    \"parental level of education\": \"some high school\",\n",
        "    \"lunch\": \"standard\",\n",
        "    \"test preparation course\": \"none\",\n",
        "    \"math score\": 37,\n",
        "    \"reading score\": 46,\n",
        "    \"writing score\": 46\n",
        "  },\n",
        "  {\n",
        "    \"names\": \"Madeline Fuller\",\n",
        "    \"gender\": \"female\",\n",
        "    \"race/ethnicity\": \"group C\",\n",
        "    \"parental level of education\": \"some high school\",\n",
        "    \"lunch\": \"standard\",\n",
        "    \"test preparation course\": \"none\",\n",
        "    \"math score\": 124,\n",
        "    \"reading score\": 142,\n",
        "    \"writing score\": 142\n",
        "  }\n",
        "]\n",
        "```\n",
        "\n",
        "\n",
        "\n"
      ],
      "metadata": {
        "tags": [],
        "cell_id": "00014-19b7ef4c-d646-4d3c-bc96-0fcf03730924",
        "deepnote_cell_type": "markdown",
        "deepnote_cell_height": 822.796875,
        "id": "liOov3lWyZlb"
      }
    },
    {
      "cell_type": "code",
      "metadata": {
        "tags": [],
        "cell_id": "00014-cf0912c5-504c-459e-a7cb-0bfae6cff886",
        "deepnote_cell_type": "code",
        "deepnote_cell_height": 61,
        "id": "x6U9CinoyZlb"
      },
      "source": [
        "df = pd.read_json('students_grades.json')"
      ],
      "execution_count": 2,
      "outputs": []
    },
    {
      "cell_type": "markdown",
      "source": [
        "\n",
        "<p align=\"center\">\n",
        "  <img src=\"https://i.giphy.com/media/4FQMuOKR6zQRO/giphy.webp\">\n",
        "</p>\n",
        "\n",
        "\n",
        "Posteriormente, el rector les comenta que la sección de TI posee una base de datos con más de **875** filas, en donde cada fila representa un alumno matriculado. Sin embargo, cree fuertemente que existen errores en esta: solo tiene registro de **875** matriculas. Por este motivo, especula que se han realizado malas prácticas al registrar dichos datos.\n",
        "\n",
        "En consecuencia, el rector les solicita a ustedes como tarea inicial que exploren la base de datos y encuentre posibles falencias dentro de sus registros. Para esto, usted debe estar al tanto que las notas están en una escala que van del **0 al 100** (porcentaje de logro) y **no es posible que un alumno haya dado más de una vez el mismo examen**. Cualquier alumno que posea un valor diferente a esta escala, debería ser eliminado de la base de datos.\n"
      ],
      "metadata": {
        "id": "sgVJGeVMMshn",
        "cell_id": "00014-21b2a755-ee5d-4b46-88cc-1d6ec13f2d8e",
        "deepnote_cell_type": "markdown",
        "deepnote_cell_height": 308
      }
    },
    {
      "cell_type": "markdown",
      "source": [
        "> **Instrucciones**\n",
        "\n",
        "**Cree una función** que tome un `DataFrame` y que le permita revisar si las diferentes variables que lo componen son coherentes y si es posible observar anomalías en estas. \n",
        "\n",
        "**To-Do**\n",
        "1. [ ] Imprimir un mensaje con las dimensiones del Dataframe.\n",
        "2. [ ] Imprimir un mensaje con los nombres de las columnas que conforman el DataFrame.\n",
        "3. [ ] Mostrar los primeros 5, los últimos 5 elementos del DataFrame y realice un muestreo de 5 elementos de forma aleatoria.\n",
        "4. [ ] Mostrar una descripción rápida de las variables numéricas del DataFrame (utilice un método visto en clases).\n",
        "5. [ ] Imprimir un mensaje con la cantidad de valores nulos (investigue el método `isna()` y `sum()` de los DataFrames).\n",
        "6. [ ] Imprimir un mensaje que detalle la cantidad de valores unicos (investigue `nunique()`) .\n",
        "7. [ ] Imprimir un mensaje con el total de filas que contengan nombres duplicados (investigue `duplicated()` y su parámetro `subset`).\n",
        "8. [ ] Mostrar las filas que contengan nombres sean duplicados (investigue `duplicated()` y su parámetro `subset`).\n",
        "9. [ ] A traves de `.plot.box()` plotear el boxplot de las notas. De ser necesario, invetigue como funcionan los gráficos de caja (esta sección es provista).\n",
        "10. [ ] Finalmente responda la siguiente pregunta:\n",
        "\n",
        "> ¿Que anomalias es posible observar de los datos que componen el DataFrame? ¿Existen valores nulos o duplicados? ¿Qué puede interpretar de la distribución de las notas en el boxplot? (), comente esto en la celda ubicada debajo de **justificación**.\n",
        "\n",
        "> **Nota:** Para imprmir utilice `print(...)`. Para mostrar `DataFrames`, utilice `display(...)` ya que este permite mostrar estos elementos como tablas.\n",
        "\n",
        "> **Nota 2:** Utilice la documentación de [pandas](https://pandas.pydata.org/docs/index.html) como también StackOverflow para resolver cualquier problema o inconveniente.\n",
        "\n",
        "> **Nota 3:** Si no ha trabajado con boxplot antes, el siguiente link puede serle de mucha ayuda: [boxplot](https://medium.com/dayem-siddiqui/understanding-and-interpreting-box-plots-d07aab9d1b6c) "
      ],
      "metadata": {
        "tags": [],
        "cell_id": "00015-e3e66248-1ff0-488e-8455-35ab2d49d172",
        "deepnote_cell_type": "markdown",
        "deepnote_cell_height": 661.796875,
        "id": "EM045lEcyZlc"
      }
    },
    {
      "cell_type": "markdown",
      "source": [
        "**Respuesta:**"
      ],
      "metadata": {
        "tags": [],
        "cell_id": "00016-f844817e-2dbb-4ef6-8b07-bfb37043bb52",
        "deepnote_cell_type": "markdown",
        "deepnote_cell_height": 52.390625,
        "id": "e2bEK9kCyZlc"
      }
    },
    {
      "cell_type": "code",
      "metadata": {
        "tags": [],
        "cell_id": "00017-5f922af5-3edd-4012-8688-1573576c2703",
        "deepnote_cell_type": "code",
        "deepnote_cell_height": 97,
        "colab": {
          "base_uri": "https://localhost:8080/",
          "height": 1000
        },
        "id": "SeOea16DyZlc",
        "outputId": "b848fc8c-4152-4201-b27d-b4759c3aabaa"
      },
      "source": [
        "def exploratory_data_analysis(dataframe):\n",
        "    print('1.- El dataframe tiene', dataframe.shape[0] , 'filas y', dataframe.shape[1], 'columnas \\n')\n",
        "    print('2.- El DataFrame esta compuesto por las siguientes columnas: ', list(dataframe.columns.values), '\\n')\n",
        "    print('3.- Ejemplos de filas del DataFrame: \\n \\n', 'Primeras 5 filas:')\n",
        "    display(dataframe.loc[0:4,:])\n",
        "    print('\\n', 'Ultimas 5 filas:')\n",
        "    display(dataframe.loc[len(dataframe)-5:,:])\n",
        "    print('\\n', 'Muestreo aleatorio de 5 filas:')\n",
        "    display(dataframe.sample(n=5))\n",
        "    print('\\n','4.- Descripción numérica del Dataframe: \\n')\n",
        "    numeric_df = dataframe.loc[:, ['math score', 'reading score', 'writing score']]\n",
        "    display(numeric_df.describe())\n",
        "    print('5.- Cantidad de valores nulos por columna:\\n', dataframe.isna().sum())\n",
        "    print('\\n6.- Cantidad de valores únicos por columna:\\n', dataframe.nunique())\n",
        "    print('\\n7.- Presenta un total de ', dataframe.duplicated(subset = 'names').sum(), 'filas con nombres duplicados.')\n",
        "    print('\\n8.- Las filas con nombres duplicados son: \\n')\n",
        "    display(dataframe[dataframe.duplicated(subset = 'names')])\n",
        "    print('\\n9.- Boxplot de notas:')\n",
        "    courses = ['math score','reading score', 'writing score']\n",
        "    fig = px.box(dataframe, y=['math score','reading score', 'writing score'])\n",
        "    fig.show()\n",
        "\n",
        "exploratory_data_analysis(df)"
      ],
      "execution_count": 3,
      "outputs": [
        {
          "output_type": "stream",
          "name": "stdout",
          "text": [
            "1.- El dataframe tiene 1400 filas y 9 columnas \n",
            "\n",
            "2.- El DataFrame esta compuesto por las siguientes columnas:  ['names', 'gender', 'race/ethnicity', 'parental level of education', 'lunch', 'test preparation course', 'math score', 'reading score', 'writing score'] \n",
            "\n",
            "3.- Ejemplos de filas del DataFrame: \n",
            " \n",
            " Primeras 5 filas:\n"
          ]
        },
        {
          "output_type": "display_data",
          "data": {
            "text/plain": [
              "              names  gender race/ethnicity parental level of education  \\\n",
              "0     Rita Courtney  female        group B            some high school   \n",
              "1   Madeline Fuller  female        group C            some high school   \n",
              "2     Daniel Rester    male        group E          associate's degree   \n",
              "3  Charles Linstrom    male        group A           bachelor's degree   \n",
              "4    Geraldine Hale  female        group A          associate's degree   \n",
              "\n",
              "      lunch test preparation course math score reading score writing score  \n",
              "0  standard                    none         37            46            46  \n",
              "1  standard                    none        124           142           142  \n",
              "2  standard                    none        156           196           193  \n",
              "3  standard               completed         80            78            81  \n",
              "4  standard                    none        131           166           166  "
            ],
            "text/html": [
              "\n",
              "  <div id=\"df-b00f00fd-295a-4474-9615-1303f00994cd\">\n",
              "    <div class=\"colab-df-container\">\n",
              "      <div>\n",
              "<style scoped>\n",
              "    .dataframe tbody tr th:only-of-type {\n",
              "        vertical-align: middle;\n",
              "    }\n",
              "\n",
              "    .dataframe tbody tr th {\n",
              "        vertical-align: top;\n",
              "    }\n",
              "\n",
              "    .dataframe thead th {\n",
              "        text-align: right;\n",
              "    }\n",
              "</style>\n",
              "<table border=\"1\" class=\"dataframe\">\n",
              "  <thead>\n",
              "    <tr style=\"text-align: right;\">\n",
              "      <th></th>\n",
              "      <th>names</th>\n",
              "      <th>gender</th>\n",
              "      <th>race/ethnicity</th>\n",
              "      <th>parental level of education</th>\n",
              "      <th>lunch</th>\n",
              "      <th>test preparation course</th>\n",
              "      <th>math score</th>\n",
              "      <th>reading score</th>\n",
              "      <th>writing score</th>\n",
              "    </tr>\n",
              "  </thead>\n",
              "  <tbody>\n",
              "    <tr>\n",
              "      <th>0</th>\n",
              "      <td>Rita Courtney</td>\n",
              "      <td>female</td>\n",
              "      <td>group B</td>\n",
              "      <td>some high school</td>\n",
              "      <td>standard</td>\n",
              "      <td>none</td>\n",
              "      <td>37</td>\n",
              "      <td>46</td>\n",
              "      <td>46</td>\n",
              "    </tr>\n",
              "    <tr>\n",
              "      <th>1</th>\n",
              "      <td>Madeline Fuller</td>\n",
              "      <td>female</td>\n",
              "      <td>group C</td>\n",
              "      <td>some high school</td>\n",
              "      <td>standard</td>\n",
              "      <td>none</td>\n",
              "      <td>124</td>\n",
              "      <td>142</td>\n",
              "      <td>142</td>\n",
              "    </tr>\n",
              "    <tr>\n",
              "      <th>2</th>\n",
              "      <td>Daniel Rester</td>\n",
              "      <td>male</td>\n",
              "      <td>group E</td>\n",
              "      <td>associate's degree</td>\n",
              "      <td>standard</td>\n",
              "      <td>none</td>\n",
              "      <td>156</td>\n",
              "      <td>196</td>\n",
              "      <td>193</td>\n",
              "    </tr>\n",
              "    <tr>\n",
              "      <th>3</th>\n",
              "      <td>Charles Linstrom</td>\n",
              "      <td>male</td>\n",
              "      <td>group A</td>\n",
              "      <td>bachelor's degree</td>\n",
              "      <td>standard</td>\n",
              "      <td>completed</td>\n",
              "      <td>80</td>\n",
              "      <td>78</td>\n",
              "      <td>81</td>\n",
              "    </tr>\n",
              "    <tr>\n",
              "      <th>4</th>\n",
              "      <td>Geraldine Hale</td>\n",
              "      <td>female</td>\n",
              "      <td>group A</td>\n",
              "      <td>associate's degree</td>\n",
              "      <td>standard</td>\n",
              "      <td>none</td>\n",
              "      <td>131</td>\n",
              "      <td>166</td>\n",
              "      <td>166</td>\n",
              "    </tr>\n",
              "  </tbody>\n",
              "</table>\n",
              "</div>\n",
              "      <button class=\"colab-df-convert\" onclick=\"convertToInteractive('df-b00f00fd-295a-4474-9615-1303f00994cd')\"\n",
              "              title=\"Convert this dataframe to an interactive table.\"\n",
              "              style=\"display:none;\">\n",
              "        \n",
              "  <svg xmlns=\"http://www.w3.org/2000/svg\" height=\"24px\"viewBox=\"0 0 24 24\"\n",
              "       width=\"24px\">\n",
              "    <path d=\"M0 0h24v24H0V0z\" fill=\"none\"/>\n",
              "    <path d=\"M18.56 5.44l.94 2.06.94-2.06 2.06-.94-2.06-.94-.94-2.06-.94 2.06-2.06.94zm-11 1L8.5 8.5l.94-2.06 2.06-.94-2.06-.94L8.5 2.5l-.94 2.06-2.06.94zm10 10l.94 2.06.94-2.06 2.06-.94-2.06-.94-.94-2.06-.94 2.06-2.06.94z\"/><path d=\"M17.41 7.96l-1.37-1.37c-.4-.4-.92-.59-1.43-.59-.52 0-1.04.2-1.43.59L10.3 9.45l-7.72 7.72c-.78.78-.78 2.05 0 2.83L4 21.41c.39.39.9.59 1.41.59.51 0 1.02-.2 1.41-.59l7.78-7.78 2.81-2.81c.8-.78.8-2.07 0-2.86zM5.41 20L4 18.59l7.72-7.72 1.47 1.35L5.41 20z\"/>\n",
              "  </svg>\n",
              "      </button>\n",
              "      \n",
              "  <style>\n",
              "    .colab-df-container {\n",
              "      display:flex;\n",
              "      flex-wrap:wrap;\n",
              "      gap: 12px;\n",
              "    }\n",
              "\n",
              "    .colab-df-convert {\n",
              "      background-color: #E8F0FE;\n",
              "      border: none;\n",
              "      border-radius: 50%;\n",
              "      cursor: pointer;\n",
              "      display: none;\n",
              "      fill: #1967D2;\n",
              "      height: 32px;\n",
              "      padding: 0 0 0 0;\n",
              "      width: 32px;\n",
              "    }\n",
              "\n",
              "    .colab-df-convert:hover {\n",
              "      background-color: #E2EBFA;\n",
              "      box-shadow: 0px 1px 2px rgba(60, 64, 67, 0.3), 0px 1px 3px 1px rgba(60, 64, 67, 0.15);\n",
              "      fill: #174EA6;\n",
              "    }\n",
              "\n",
              "    [theme=dark] .colab-df-convert {\n",
              "      background-color: #3B4455;\n",
              "      fill: #D2E3FC;\n",
              "    }\n",
              "\n",
              "    [theme=dark] .colab-df-convert:hover {\n",
              "      background-color: #434B5C;\n",
              "      box-shadow: 0px 1px 3px 1px rgba(0, 0, 0, 0.15);\n",
              "      filter: drop-shadow(0px 1px 2px rgba(0, 0, 0, 0.3));\n",
              "      fill: #FFFFFF;\n",
              "    }\n",
              "  </style>\n",
              "\n",
              "      <script>\n",
              "        const buttonEl =\n",
              "          document.querySelector('#df-b00f00fd-295a-4474-9615-1303f00994cd button.colab-df-convert');\n",
              "        buttonEl.style.display =\n",
              "          google.colab.kernel.accessAllowed ? 'block' : 'none';\n",
              "\n",
              "        async function convertToInteractive(key) {\n",
              "          const element = document.querySelector('#df-b00f00fd-295a-4474-9615-1303f00994cd');\n",
              "          const dataTable =\n",
              "            await google.colab.kernel.invokeFunction('convertToInteractive',\n",
              "                                                     [key], {});\n",
              "          if (!dataTable) return;\n",
              "\n",
              "          const docLinkHtml = 'Like what you see? Visit the ' +\n",
              "            '<a target=\"_blank\" href=https://colab.research.google.com/notebooks/data_table.ipynb>data table notebook</a>'\n",
              "            + ' to learn more about interactive tables.';\n",
              "          element.innerHTML = '';\n",
              "          dataTable['output_type'] = 'display_data';\n",
              "          await google.colab.output.renderOutput(dataTable, element);\n",
              "          const docLink = document.createElement('div');\n",
              "          docLink.innerHTML = docLinkHtml;\n",
              "          element.appendChild(docLink);\n",
              "        }\n",
              "      </script>\n",
              "    </div>\n",
              "  </div>\n",
              "  "
            ]
          },
          "metadata": {}
        },
        {
          "output_type": "stream",
          "name": "stdout",
          "text": [
            "\n",
            " Ultimas 5 filas:\n"
          ]
        },
        {
          "output_type": "display_data",
          "data": {
            "text/plain": [
              "                 names  gender race/ethnicity parental level of education  \\\n",
              "1395  Alexander Dillon    male        group D          associate's degree   \n",
              "1396    Marina Zeigler  female        group C           bachelor's degree   \n",
              "1397     Laurie Carter  female        group B            some high school   \n",
              "1398      Joseph Mccoy    male        group D                some college   \n",
              "1399      Amanda Perez  female        group A                 high school   \n",
              "\n",
              "             lunch test preparation course math score reading score  \\\n",
              "1395      standard                    none        193           142   \n",
              "1396  free/reduced               completed         66            74   \n",
              "1397      standard               completed         54            61   \n",
              "1398  free/reduced                    none        193           196   \n",
              "1399      standard               completed         68            80   \n",
              "\n",
              "     writing score  \n",
              "1395           193  \n",
              "1396            81  \n",
              "1397            62  \n",
              "1398           193  \n",
              "1399            76  "
            ],
            "text/html": [
              "\n",
              "  <div id=\"df-f231664e-5429-4876-8e8b-289fec7d8263\">\n",
              "    <div class=\"colab-df-container\">\n",
              "      <div>\n",
              "<style scoped>\n",
              "    .dataframe tbody tr th:only-of-type {\n",
              "        vertical-align: middle;\n",
              "    }\n",
              "\n",
              "    .dataframe tbody tr th {\n",
              "        vertical-align: top;\n",
              "    }\n",
              "\n",
              "    .dataframe thead th {\n",
              "        text-align: right;\n",
              "    }\n",
              "</style>\n",
              "<table border=\"1\" class=\"dataframe\">\n",
              "  <thead>\n",
              "    <tr style=\"text-align: right;\">\n",
              "      <th></th>\n",
              "      <th>names</th>\n",
              "      <th>gender</th>\n",
              "      <th>race/ethnicity</th>\n",
              "      <th>parental level of education</th>\n",
              "      <th>lunch</th>\n",
              "      <th>test preparation course</th>\n",
              "      <th>math score</th>\n",
              "      <th>reading score</th>\n",
              "      <th>writing score</th>\n",
              "    </tr>\n",
              "  </thead>\n",
              "  <tbody>\n",
              "    <tr>\n",
              "      <th>1395</th>\n",
              "      <td>Alexander Dillon</td>\n",
              "      <td>male</td>\n",
              "      <td>group D</td>\n",
              "      <td>associate's degree</td>\n",
              "      <td>standard</td>\n",
              "      <td>none</td>\n",
              "      <td>193</td>\n",
              "      <td>142</td>\n",
              "      <td>193</td>\n",
              "    </tr>\n",
              "    <tr>\n",
              "      <th>1396</th>\n",
              "      <td>Marina Zeigler</td>\n",
              "      <td>female</td>\n",
              "      <td>group C</td>\n",
              "      <td>bachelor's degree</td>\n",
              "      <td>free/reduced</td>\n",
              "      <td>completed</td>\n",
              "      <td>66</td>\n",
              "      <td>74</td>\n",
              "      <td>81</td>\n",
              "    </tr>\n",
              "    <tr>\n",
              "      <th>1397</th>\n",
              "      <td>Laurie Carter</td>\n",
              "      <td>female</td>\n",
              "      <td>group B</td>\n",
              "      <td>some high school</td>\n",
              "      <td>standard</td>\n",
              "      <td>completed</td>\n",
              "      <td>54</td>\n",
              "      <td>61</td>\n",
              "      <td>62</td>\n",
              "    </tr>\n",
              "    <tr>\n",
              "      <th>1398</th>\n",
              "      <td>Joseph Mccoy</td>\n",
              "      <td>male</td>\n",
              "      <td>group D</td>\n",
              "      <td>some college</td>\n",
              "      <td>free/reduced</td>\n",
              "      <td>none</td>\n",
              "      <td>193</td>\n",
              "      <td>196</td>\n",
              "      <td>193</td>\n",
              "    </tr>\n",
              "    <tr>\n",
              "      <th>1399</th>\n",
              "      <td>Amanda Perez</td>\n",
              "      <td>female</td>\n",
              "      <td>group A</td>\n",
              "      <td>high school</td>\n",
              "      <td>standard</td>\n",
              "      <td>completed</td>\n",
              "      <td>68</td>\n",
              "      <td>80</td>\n",
              "      <td>76</td>\n",
              "    </tr>\n",
              "  </tbody>\n",
              "</table>\n",
              "</div>\n",
              "      <button class=\"colab-df-convert\" onclick=\"convertToInteractive('df-f231664e-5429-4876-8e8b-289fec7d8263')\"\n",
              "              title=\"Convert this dataframe to an interactive table.\"\n",
              "              style=\"display:none;\">\n",
              "        \n",
              "  <svg xmlns=\"http://www.w3.org/2000/svg\" height=\"24px\"viewBox=\"0 0 24 24\"\n",
              "       width=\"24px\">\n",
              "    <path d=\"M0 0h24v24H0V0z\" fill=\"none\"/>\n",
              "    <path d=\"M18.56 5.44l.94 2.06.94-2.06 2.06-.94-2.06-.94-.94-2.06-.94 2.06-2.06.94zm-11 1L8.5 8.5l.94-2.06 2.06-.94-2.06-.94L8.5 2.5l-.94 2.06-2.06.94zm10 10l.94 2.06.94-2.06 2.06-.94-2.06-.94-.94-2.06-.94 2.06-2.06.94z\"/><path d=\"M17.41 7.96l-1.37-1.37c-.4-.4-.92-.59-1.43-.59-.52 0-1.04.2-1.43.59L10.3 9.45l-7.72 7.72c-.78.78-.78 2.05 0 2.83L4 21.41c.39.39.9.59 1.41.59.51 0 1.02-.2 1.41-.59l7.78-7.78 2.81-2.81c.8-.78.8-2.07 0-2.86zM5.41 20L4 18.59l7.72-7.72 1.47 1.35L5.41 20z\"/>\n",
              "  </svg>\n",
              "      </button>\n",
              "      \n",
              "  <style>\n",
              "    .colab-df-container {\n",
              "      display:flex;\n",
              "      flex-wrap:wrap;\n",
              "      gap: 12px;\n",
              "    }\n",
              "\n",
              "    .colab-df-convert {\n",
              "      background-color: #E8F0FE;\n",
              "      border: none;\n",
              "      border-radius: 50%;\n",
              "      cursor: pointer;\n",
              "      display: none;\n",
              "      fill: #1967D2;\n",
              "      height: 32px;\n",
              "      padding: 0 0 0 0;\n",
              "      width: 32px;\n",
              "    }\n",
              "\n",
              "    .colab-df-convert:hover {\n",
              "      background-color: #E2EBFA;\n",
              "      box-shadow: 0px 1px 2px rgba(60, 64, 67, 0.3), 0px 1px 3px 1px rgba(60, 64, 67, 0.15);\n",
              "      fill: #174EA6;\n",
              "    }\n",
              "\n",
              "    [theme=dark] .colab-df-convert {\n",
              "      background-color: #3B4455;\n",
              "      fill: #D2E3FC;\n",
              "    }\n",
              "\n",
              "    [theme=dark] .colab-df-convert:hover {\n",
              "      background-color: #434B5C;\n",
              "      box-shadow: 0px 1px 3px 1px rgba(0, 0, 0, 0.15);\n",
              "      filter: drop-shadow(0px 1px 2px rgba(0, 0, 0, 0.3));\n",
              "      fill: #FFFFFF;\n",
              "    }\n",
              "  </style>\n",
              "\n",
              "      <script>\n",
              "        const buttonEl =\n",
              "          document.querySelector('#df-f231664e-5429-4876-8e8b-289fec7d8263 button.colab-df-convert');\n",
              "        buttonEl.style.display =\n",
              "          google.colab.kernel.accessAllowed ? 'block' : 'none';\n",
              "\n",
              "        async function convertToInteractive(key) {\n",
              "          const element = document.querySelector('#df-f231664e-5429-4876-8e8b-289fec7d8263');\n",
              "          const dataTable =\n",
              "            await google.colab.kernel.invokeFunction('convertToInteractive',\n",
              "                                                     [key], {});\n",
              "          if (!dataTable) return;\n",
              "\n",
              "          const docLinkHtml = 'Like what you see? Visit the ' +\n",
              "            '<a target=\"_blank\" href=https://colab.research.google.com/notebooks/data_table.ipynb>data table notebook</a>'\n",
              "            + ' to learn more about interactive tables.';\n",
              "          element.innerHTML = '';\n",
              "          dataTable['output_type'] = 'display_data';\n",
              "          await google.colab.output.renderOutput(dataTable, element);\n",
              "          const docLink = document.createElement('div');\n",
              "          docLink.innerHTML = docLinkHtml;\n",
              "          element.appendChild(docLink);\n",
              "        }\n",
              "      </script>\n",
              "    </div>\n",
              "  </div>\n",
              "  "
            ]
          },
          "metadata": {}
        },
        {
          "output_type": "stream",
          "name": "stdout",
          "text": [
            "\n",
            " Muestreo aleatorio de 5 filas:\n"
          ]
        },
        {
          "output_type": "display_data",
          "data": {
            "text/plain": [
              "                names  gender race/ethnicity parental level of education  \\\n",
              "258     Eric Erickson    male        group B            some high school   \n",
              "36       Bonnie Ramos  female        group B                 high school   \n",
              "333  Stanley Schroder    male        group C          associate's degree   \n",
              "326   Kristen Drayton  female        group E           bachelor's degree   \n",
              "496     Frank Barrera    male        group C                 high school   \n",
              "\n",
              "        lunch test preparation course math score reading score writing score  \n",
              "258  standard               completed        196           124           142  \n",
              "36   standard               completed         69            76            74  \n",
              "333  standard                    none         76            70            68  \n",
              "326  standard                    none        196           196           196  \n",
              "496  standard                    none         75            81            71  "
            ],
            "text/html": [
              "\n",
              "  <div id=\"df-5db63b6a-53c5-4342-9550-085432338732\">\n",
              "    <div class=\"colab-df-container\">\n",
              "      <div>\n",
              "<style scoped>\n",
              "    .dataframe tbody tr th:only-of-type {\n",
              "        vertical-align: middle;\n",
              "    }\n",
              "\n",
              "    .dataframe tbody tr th {\n",
              "        vertical-align: top;\n",
              "    }\n",
              "\n",
              "    .dataframe thead th {\n",
              "        text-align: right;\n",
              "    }\n",
              "</style>\n",
              "<table border=\"1\" class=\"dataframe\">\n",
              "  <thead>\n",
              "    <tr style=\"text-align: right;\">\n",
              "      <th></th>\n",
              "      <th>names</th>\n",
              "      <th>gender</th>\n",
              "      <th>race/ethnicity</th>\n",
              "      <th>parental level of education</th>\n",
              "      <th>lunch</th>\n",
              "      <th>test preparation course</th>\n",
              "      <th>math score</th>\n",
              "      <th>reading score</th>\n",
              "      <th>writing score</th>\n",
              "    </tr>\n",
              "  </thead>\n",
              "  <tbody>\n",
              "    <tr>\n",
              "      <th>258</th>\n",
              "      <td>Eric Erickson</td>\n",
              "      <td>male</td>\n",
              "      <td>group B</td>\n",
              "      <td>some high school</td>\n",
              "      <td>standard</td>\n",
              "      <td>completed</td>\n",
              "      <td>196</td>\n",
              "      <td>124</td>\n",
              "      <td>142</td>\n",
              "    </tr>\n",
              "    <tr>\n",
              "      <th>36</th>\n",
              "      <td>Bonnie Ramos</td>\n",
              "      <td>female</td>\n",
              "      <td>group B</td>\n",
              "      <td>high school</td>\n",
              "      <td>standard</td>\n",
              "      <td>completed</td>\n",
              "      <td>69</td>\n",
              "      <td>76</td>\n",
              "      <td>74</td>\n",
              "    </tr>\n",
              "    <tr>\n",
              "      <th>333</th>\n",
              "      <td>Stanley Schroder</td>\n",
              "      <td>male</td>\n",
              "      <td>group C</td>\n",
              "      <td>associate's degree</td>\n",
              "      <td>standard</td>\n",
              "      <td>none</td>\n",
              "      <td>76</td>\n",
              "      <td>70</td>\n",
              "      <td>68</td>\n",
              "    </tr>\n",
              "    <tr>\n",
              "      <th>326</th>\n",
              "      <td>Kristen Drayton</td>\n",
              "      <td>female</td>\n",
              "      <td>group E</td>\n",
              "      <td>bachelor's degree</td>\n",
              "      <td>standard</td>\n",
              "      <td>none</td>\n",
              "      <td>196</td>\n",
              "      <td>196</td>\n",
              "      <td>196</td>\n",
              "    </tr>\n",
              "    <tr>\n",
              "      <th>496</th>\n",
              "      <td>Frank Barrera</td>\n",
              "      <td>male</td>\n",
              "      <td>group C</td>\n",
              "      <td>high school</td>\n",
              "      <td>standard</td>\n",
              "      <td>none</td>\n",
              "      <td>75</td>\n",
              "      <td>81</td>\n",
              "      <td>71</td>\n",
              "    </tr>\n",
              "  </tbody>\n",
              "</table>\n",
              "</div>\n",
              "      <button class=\"colab-df-convert\" onclick=\"convertToInteractive('df-5db63b6a-53c5-4342-9550-085432338732')\"\n",
              "              title=\"Convert this dataframe to an interactive table.\"\n",
              "              style=\"display:none;\">\n",
              "        \n",
              "  <svg xmlns=\"http://www.w3.org/2000/svg\" height=\"24px\"viewBox=\"0 0 24 24\"\n",
              "       width=\"24px\">\n",
              "    <path d=\"M0 0h24v24H0V0z\" fill=\"none\"/>\n",
              "    <path d=\"M18.56 5.44l.94 2.06.94-2.06 2.06-.94-2.06-.94-.94-2.06-.94 2.06-2.06.94zm-11 1L8.5 8.5l.94-2.06 2.06-.94-2.06-.94L8.5 2.5l-.94 2.06-2.06.94zm10 10l.94 2.06.94-2.06 2.06-.94-2.06-.94-.94-2.06-.94 2.06-2.06.94z\"/><path d=\"M17.41 7.96l-1.37-1.37c-.4-.4-.92-.59-1.43-.59-.52 0-1.04.2-1.43.59L10.3 9.45l-7.72 7.72c-.78.78-.78 2.05 0 2.83L4 21.41c.39.39.9.59 1.41.59.51 0 1.02-.2 1.41-.59l7.78-7.78 2.81-2.81c.8-.78.8-2.07 0-2.86zM5.41 20L4 18.59l7.72-7.72 1.47 1.35L5.41 20z\"/>\n",
              "  </svg>\n",
              "      </button>\n",
              "      \n",
              "  <style>\n",
              "    .colab-df-container {\n",
              "      display:flex;\n",
              "      flex-wrap:wrap;\n",
              "      gap: 12px;\n",
              "    }\n",
              "\n",
              "    .colab-df-convert {\n",
              "      background-color: #E8F0FE;\n",
              "      border: none;\n",
              "      border-radius: 50%;\n",
              "      cursor: pointer;\n",
              "      display: none;\n",
              "      fill: #1967D2;\n",
              "      height: 32px;\n",
              "      padding: 0 0 0 0;\n",
              "      width: 32px;\n",
              "    }\n",
              "\n",
              "    .colab-df-convert:hover {\n",
              "      background-color: #E2EBFA;\n",
              "      box-shadow: 0px 1px 2px rgba(60, 64, 67, 0.3), 0px 1px 3px 1px rgba(60, 64, 67, 0.15);\n",
              "      fill: #174EA6;\n",
              "    }\n",
              "\n",
              "    [theme=dark] .colab-df-convert {\n",
              "      background-color: #3B4455;\n",
              "      fill: #D2E3FC;\n",
              "    }\n",
              "\n",
              "    [theme=dark] .colab-df-convert:hover {\n",
              "      background-color: #434B5C;\n",
              "      box-shadow: 0px 1px 3px 1px rgba(0, 0, 0, 0.15);\n",
              "      filter: drop-shadow(0px 1px 2px rgba(0, 0, 0, 0.3));\n",
              "      fill: #FFFFFF;\n",
              "    }\n",
              "  </style>\n",
              "\n",
              "      <script>\n",
              "        const buttonEl =\n",
              "          document.querySelector('#df-5db63b6a-53c5-4342-9550-085432338732 button.colab-df-convert');\n",
              "        buttonEl.style.display =\n",
              "          google.colab.kernel.accessAllowed ? 'block' : 'none';\n",
              "\n",
              "        async function convertToInteractive(key) {\n",
              "          const element = document.querySelector('#df-5db63b6a-53c5-4342-9550-085432338732');\n",
              "          const dataTable =\n",
              "            await google.colab.kernel.invokeFunction('convertToInteractive',\n",
              "                                                     [key], {});\n",
              "          if (!dataTable) return;\n",
              "\n",
              "          const docLinkHtml = 'Like what you see? Visit the ' +\n",
              "            '<a target=\"_blank\" href=https://colab.research.google.com/notebooks/data_table.ipynb>data table notebook</a>'\n",
              "            + ' to learn more about interactive tables.';\n",
              "          element.innerHTML = '';\n",
              "          dataTable['output_type'] = 'display_data';\n",
              "          await google.colab.output.renderOutput(dataTable, element);\n",
              "          const docLink = document.createElement('div');\n",
              "          docLink.innerHTML = docLinkHtml;\n",
              "          element.appendChild(docLink);\n",
              "        }\n",
              "      </script>\n",
              "    </div>\n",
              "  </div>\n",
              "  "
            ]
          },
          "metadata": {}
        },
        {
          "output_type": "stream",
          "name": "stdout",
          "text": [
            "\n",
            " 4.- Descripción numérica del Dataframe: \n",
            "\n"
          ]
        },
        {
          "output_type": "display_data",
          "data": {
            "text/plain": [
              "        math score  reading score  writing score\n",
              "count         1400           1400           1400\n",
              "unique          97             89             93\n",
              "top            193            193            193\n",
              "freq           120            117            133"
            ],
            "text/html": [
              "\n",
              "  <div id=\"df-b0f15148-f5b2-41bf-9cca-79680d320c39\">\n",
              "    <div class=\"colab-df-container\">\n",
              "      <div>\n",
              "<style scoped>\n",
              "    .dataframe tbody tr th:only-of-type {\n",
              "        vertical-align: middle;\n",
              "    }\n",
              "\n",
              "    .dataframe tbody tr th {\n",
              "        vertical-align: top;\n",
              "    }\n",
              "\n",
              "    .dataframe thead th {\n",
              "        text-align: right;\n",
              "    }\n",
              "</style>\n",
              "<table border=\"1\" class=\"dataframe\">\n",
              "  <thead>\n",
              "    <tr style=\"text-align: right;\">\n",
              "      <th></th>\n",
              "      <th>math score</th>\n",
              "      <th>reading score</th>\n",
              "      <th>writing score</th>\n",
              "    </tr>\n",
              "  </thead>\n",
              "  <tbody>\n",
              "    <tr>\n",
              "      <th>count</th>\n",
              "      <td>1400</td>\n",
              "      <td>1400</td>\n",
              "      <td>1400</td>\n",
              "    </tr>\n",
              "    <tr>\n",
              "      <th>unique</th>\n",
              "      <td>97</td>\n",
              "      <td>89</td>\n",
              "      <td>93</td>\n",
              "    </tr>\n",
              "    <tr>\n",
              "      <th>top</th>\n",
              "      <td>193</td>\n",
              "      <td>193</td>\n",
              "      <td>193</td>\n",
              "    </tr>\n",
              "    <tr>\n",
              "      <th>freq</th>\n",
              "      <td>120</td>\n",
              "      <td>117</td>\n",
              "      <td>133</td>\n",
              "    </tr>\n",
              "  </tbody>\n",
              "</table>\n",
              "</div>\n",
              "      <button class=\"colab-df-convert\" onclick=\"convertToInteractive('df-b0f15148-f5b2-41bf-9cca-79680d320c39')\"\n",
              "              title=\"Convert this dataframe to an interactive table.\"\n",
              "              style=\"display:none;\">\n",
              "        \n",
              "  <svg xmlns=\"http://www.w3.org/2000/svg\" height=\"24px\"viewBox=\"0 0 24 24\"\n",
              "       width=\"24px\">\n",
              "    <path d=\"M0 0h24v24H0V0z\" fill=\"none\"/>\n",
              "    <path d=\"M18.56 5.44l.94 2.06.94-2.06 2.06-.94-2.06-.94-.94-2.06-.94 2.06-2.06.94zm-11 1L8.5 8.5l.94-2.06 2.06-.94-2.06-.94L8.5 2.5l-.94 2.06-2.06.94zm10 10l.94 2.06.94-2.06 2.06-.94-2.06-.94-.94-2.06-.94 2.06-2.06.94z\"/><path d=\"M17.41 7.96l-1.37-1.37c-.4-.4-.92-.59-1.43-.59-.52 0-1.04.2-1.43.59L10.3 9.45l-7.72 7.72c-.78.78-.78 2.05 0 2.83L4 21.41c.39.39.9.59 1.41.59.51 0 1.02-.2 1.41-.59l7.78-7.78 2.81-2.81c.8-.78.8-2.07 0-2.86zM5.41 20L4 18.59l7.72-7.72 1.47 1.35L5.41 20z\"/>\n",
              "  </svg>\n",
              "      </button>\n",
              "      \n",
              "  <style>\n",
              "    .colab-df-container {\n",
              "      display:flex;\n",
              "      flex-wrap:wrap;\n",
              "      gap: 12px;\n",
              "    }\n",
              "\n",
              "    .colab-df-convert {\n",
              "      background-color: #E8F0FE;\n",
              "      border: none;\n",
              "      border-radius: 50%;\n",
              "      cursor: pointer;\n",
              "      display: none;\n",
              "      fill: #1967D2;\n",
              "      height: 32px;\n",
              "      padding: 0 0 0 0;\n",
              "      width: 32px;\n",
              "    }\n",
              "\n",
              "    .colab-df-convert:hover {\n",
              "      background-color: #E2EBFA;\n",
              "      box-shadow: 0px 1px 2px rgba(60, 64, 67, 0.3), 0px 1px 3px 1px rgba(60, 64, 67, 0.15);\n",
              "      fill: #174EA6;\n",
              "    }\n",
              "\n",
              "    [theme=dark] .colab-df-convert {\n",
              "      background-color: #3B4455;\n",
              "      fill: #D2E3FC;\n",
              "    }\n",
              "\n",
              "    [theme=dark] .colab-df-convert:hover {\n",
              "      background-color: #434B5C;\n",
              "      box-shadow: 0px 1px 3px 1px rgba(0, 0, 0, 0.15);\n",
              "      filter: drop-shadow(0px 1px 2px rgba(0, 0, 0, 0.3));\n",
              "      fill: #FFFFFF;\n",
              "    }\n",
              "  </style>\n",
              "\n",
              "      <script>\n",
              "        const buttonEl =\n",
              "          document.querySelector('#df-b0f15148-f5b2-41bf-9cca-79680d320c39 button.colab-df-convert');\n",
              "        buttonEl.style.display =\n",
              "          google.colab.kernel.accessAllowed ? 'block' : 'none';\n",
              "\n",
              "        async function convertToInteractive(key) {\n",
              "          const element = document.querySelector('#df-b0f15148-f5b2-41bf-9cca-79680d320c39');\n",
              "          const dataTable =\n",
              "            await google.colab.kernel.invokeFunction('convertToInteractive',\n",
              "                                                     [key], {});\n",
              "          if (!dataTable) return;\n",
              "\n",
              "          const docLinkHtml = 'Like what you see? Visit the ' +\n",
              "            '<a target=\"_blank\" href=https://colab.research.google.com/notebooks/data_table.ipynb>data table notebook</a>'\n",
              "            + ' to learn more about interactive tables.';\n",
              "          element.innerHTML = '';\n",
              "          dataTable['output_type'] = 'display_data';\n",
              "          await google.colab.output.renderOutput(dataTable, element);\n",
              "          const docLink = document.createElement('div');\n",
              "          docLink.innerHTML = docLinkHtml;\n",
              "          element.appendChild(docLink);\n",
              "        }\n",
              "      </script>\n",
              "    </div>\n",
              "  </div>\n",
              "  "
            ]
          },
          "metadata": {}
        },
        {
          "output_type": "stream",
          "name": "stdout",
          "text": [
            "5.- Cantidad de valores nulos por columna:\n",
            " names                          0\n",
            "gender                         0\n",
            "race/ethnicity                 0\n",
            "parental level of education    0\n",
            "lunch                          0\n",
            "test preparation course        0\n",
            "math score                     0\n",
            "reading score                  0\n",
            "writing score                  0\n",
            "dtype: int64\n",
            "\n",
            "6.- Cantidad de valores únicos por columna:\n",
            " names                          1153\n",
            "gender                            2\n",
            "race/ethnicity                    5\n",
            "parental level of education       6\n",
            "lunch                             2\n",
            "test preparation course           2\n",
            "math score                       97\n",
            "reading score                    89\n",
            "writing score                    93\n",
            "dtype: int64\n",
            "\n",
            "7.- Presenta un total de  247 filas con nombres duplicados.\n",
            "\n",
            "8.- Las filas con nombres duplicados son: \n",
            "\n"
          ]
        },
        {
          "output_type": "display_data",
          "data": {
            "text/plain": [
              "                   names  gender race/ethnicity parental level of education  \\\n",
              "12         Rita Courtney  female        group B            some high school   \n",
              "81    Elizabeth Quintero  female        group B                some college   \n",
              "160    Michelle Gonzales  female        group B            some high school   \n",
              "170        Carla Mendoza  female        group D          associate's degree   \n",
              "176       Darlene Parker  female        group C          associate's degree   \n",
              "...                  ...     ...            ...                         ...   \n",
              "1385      James Crawford    male        group D             master's degree   \n",
              "1390     Gloria Bradford  female        group B                 high school   \n",
              "1393         Adam Romero    male        group C                 high school   \n",
              "1395    Alexander Dillon    male        group D          associate's degree   \n",
              "1398        Joseph Mccoy    male        group D                some college   \n",
              "\n",
              "             lunch test preparation course math score reading score  \\\n",
              "12        standard                    none        193           193   \n",
              "81        standard                    none         82            85   \n",
              "160       standard               completed         60            70   \n",
              "170   free/reduced                    none         43            60   \n",
              "176       standard                    none         54            61   \n",
              "...            ...                     ...        ...           ...   \n",
              "1385      standard                    none        193           147   \n",
              "1390      standard                    none        124            64   \n",
              "1393      standard               completed        124           193   \n",
              "1395      standard                    none        193           142   \n",
              "1398  free/reduced                    none        193           196   \n",
              "\n",
              "     writing score  \n",
              "12             193  \n",
              "81              87  \n",
              "160             74  \n",
              "170             58  \n",
              "176             58  \n",
              "...            ...  \n",
              "1385           131  \n",
              "1390           193  \n",
              "1393            49  \n",
              "1395           193  \n",
              "1398           193  \n",
              "\n",
              "[247 rows x 9 columns]"
            ],
            "text/html": [
              "\n",
              "  <div id=\"df-a01fd9b5-648f-4b56-a15a-a3c7d75be34d\">\n",
              "    <div class=\"colab-df-container\">\n",
              "      <div>\n",
              "<style scoped>\n",
              "    .dataframe tbody tr th:only-of-type {\n",
              "        vertical-align: middle;\n",
              "    }\n",
              "\n",
              "    .dataframe tbody tr th {\n",
              "        vertical-align: top;\n",
              "    }\n",
              "\n",
              "    .dataframe thead th {\n",
              "        text-align: right;\n",
              "    }\n",
              "</style>\n",
              "<table border=\"1\" class=\"dataframe\">\n",
              "  <thead>\n",
              "    <tr style=\"text-align: right;\">\n",
              "      <th></th>\n",
              "      <th>names</th>\n",
              "      <th>gender</th>\n",
              "      <th>race/ethnicity</th>\n",
              "      <th>parental level of education</th>\n",
              "      <th>lunch</th>\n",
              "      <th>test preparation course</th>\n",
              "      <th>math score</th>\n",
              "      <th>reading score</th>\n",
              "      <th>writing score</th>\n",
              "    </tr>\n",
              "  </thead>\n",
              "  <tbody>\n",
              "    <tr>\n",
              "      <th>12</th>\n",
              "      <td>Rita Courtney</td>\n",
              "      <td>female</td>\n",
              "      <td>group B</td>\n",
              "      <td>some high school</td>\n",
              "      <td>standard</td>\n",
              "      <td>none</td>\n",
              "      <td>193</td>\n",
              "      <td>193</td>\n",
              "      <td>193</td>\n",
              "    </tr>\n",
              "    <tr>\n",
              "      <th>81</th>\n",
              "      <td>Elizabeth Quintero</td>\n",
              "      <td>female</td>\n",
              "      <td>group B</td>\n",
              "      <td>some college</td>\n",
              "      <td>standard</td>\n",
              "      <td>none</td>\n",
              "      <td>82</td>\n",
              "      <td>85</td>\n",
              "      <td>87</td>\n",
              "    </tr>\n",
              "    <tr>\n",
              "      <th>160</th>\n",
              "      <td>Michelle Gonzales</td>\n",
              "      <td>female</td>\n",
              "      <td>group B</td>\n",
              "      <td>some high school</td>\n",
              "      <td>standard</td>\n",
              "      <td>completed</td>\n",
              "      <td>60</td>\n",
              "      <td>70</td>\n",
              "      <td>74</td>\n",
              "    </tr>\n",
              "    <tr>\n",
              "      <th>170</th>\n",
              "      <td>Carla Mendoza</td>\n",
              "      <td>female</td>\n",
              "      <td>group D</td>\n",
              "      <td>associate's degree</td>\n",
              "      <td>free/reduced</td>\n",
              "      <td>none</td>\n",
              "      <td>43</td>\n",
              "      <td>60</td>\n",
              "      <td>58</td>\n",
              "    </tr>\n",
              "    <tr>\n",
              "      <th>176</th>\n",
              "      <td>Darlene Parker</td>\n",
              "      <td>female</td>\n",
              "      <td>group C</td>\n",
              "      <td>associate's degree</td>\n",
              "      <td>standard</td>\n",
              "      <td>none</td>\n",
              "      <td>54</td>\n",
              "      <td>61</td>\n",
              "      <td>58</td>\n",
              "    </tr>\n",
              "    <tr>\n",
              "      <th>...</th>\n",
              "      <td>...</td>\n",
              "      <td>...</td>\n",
              "      <td>...</td>\n",
              "      <td>...</td>\n",
              "      <td>...</td>\n",
              "      <td>...</td>\n",
              "      <td>...</td>\n",
              "      <td>...</td>\n",
              "      <td>...</td>\n",
              "    </tr>\n",
              "    <tr>\n",
              "      <th>1385</th>\n",
              "      <td>James Crawford</td>\n",
              "      <td>male</td>\n",
              "      <td>group D</td>\n",
              "      <td>master's degree</td>\n",
              "      <td>standard</td>\n",
              "      <td>none</td>\n",
              "      <td>193</td>\n",
              "      <td>147</td>\n",
              "      <td>131</td>\n",
              "    </tr>\n",
              "    <tr>\n",
              "      <th>1390</th>\n",
              "      <td>Gloria Bradford</td>\n",
              "      <td>female</td>\n",
              "      <td>group B</td>\n",
              "      <td>high school</td>\n",
              "      <td>standard</td>\n",
              "      <td>none</td>\n",
              "      <td>124</td>\n",
              "      <td>64</td>\n",
              "      <td>193</td>\n",
              "    </tr>\n",
              "    <tr>\n",
              "      <th>1393</th>\n",
              "      <td>Adam Romero</td>\n",
              "      <td>male</td>\n",
              "      <td>group C</td>\n",
              "      <td>high school</td>\n",
              "      <td>standard</td>\n",
              "      <td>completed</td>\n",
              "      <td>124</td>\n",
              "      <td>193</td>\n",
              "      <td>49</td>\n",
              "    </tr>\n",
              "    <tr>\n",
              "      <th>1395</th>\n",
              "      <td>Alexander Dillon</td>\n",
              "      <td>male</td>\n",
              "      <td>group D</td>\n",
              "      <td>associate's degree</td>\n",
              "      <td>standard</td>\n",
              "      <td>none</td>\n",
              "      <td>193</td>\n",
              "      <td>142</td>\n",
              "      <td>193</td>\n",
              "    </tr>\n",
              "    <tr>\n",
              "      <th>1398</th>\n",
              "      <td>Joseph Mccoy</td>\n",
              "      <td>male</td>\n",
              "      <td>group D</td>\n",
              "      <td>some college</td>\n",
              "      <td>free/reduced</td>\n",
              "      <td>none</td>\n",
              "      <td>193</td>\n",
              "      <td>196</td>\n",
              "      <td>193</td>\n",
              "    </tr>\n",
              "  </tbody>\n",
              "</table>\n",
              "<p>247 rows × 9 columns</p>\n",
              "</div>\n",
              "      <button class=\"colab-df-convert\" onclick=\"convertToInteractive('df-a01fd9b5-648f-4b56-a15a-a3c7d75be34d')\"\n",
              "              title=\"Convert this dataframe to an interactive table.\"\n",
              "              style=\"display:none;\">\n",
              "        \n",
              "  <svg xmlns=\"http://www.w3.org/2000/svg\" height=\"24px\"viewBox=\"0 0 24 24\"\n",
              "       width=\"24px\">\n",
              "    <path d=\"M0 0h24v24H0V0z\" fill=\"none\"/>\n",
              "    <path d=\"M18.56 5.44l.94 2.06.94-2.06 2.06-.94-2.06-.94-.94-2.06-.94 2.06-2.06.94zm-11 1L8.5 8.5l.94-2.06 2.06-.94-2.06-.94L8.5 2.5l-.94 2.06-2.06.94zm10 10l.94 2.06.94-2.06 2.06-.94-2.06-.94-.94-2.06-.94 2.06-2.06.94z\"/><path d=\"M17.41 7.96l-1.37-1.37c-.4-.4-.92-.59-1.43-.59-.52 0-1.04.2-1.43.59L10.3 9.45l-7.72 7.72c-.78.78-.78 2.05 0 2.83L4 21.41c.39.39.9.59 1.41.59.51 0 1.02-.2 1.41-.59l7.78-7.78 2.81-2.81c.8-.78.8-2.07 0-2.86zM5.41 20L4 18.59l7.72-7.72 1.47 1.35L5.41 20z\"/>\n",
              "  </svg>\n",
              "      </button>\n",
              "      \n",
              "  <style>\n",
              "    .colab-df-container {\n",
              "      display:flex;\n",
              "      flex-wrap:wrap;\n",
              "      gap: 12px;\n",
              "    }\n",
              "\n",
              "    .colab-df-convert {\n",
              "      background-color: #E8F0FE;\n",
              "      border: none;\n",
              "      border-radius: 50%;\n",
              "      cursor: pointer;\n",
              "      display: none;\n",
              "      fill: #1967D2;\n",
              "      height: 32px;\n",
              "      padding: 0 0 0 0;\n",
              "      width: 32px;\n",
              "    }\n",
              "\n",
              "    .colab-df-convert:hover {\n",
              "      background-color: #E2EBFA;\n",
              "      box-shadow: 0px 1px 2px rgba(60, 64, 67, 0.3), 0px 1px 3px 1px rgba(60, 64, 67, 0.15);\n",
              "      fill: #174EA6;\n",
              "    }\n",
              "\n",
              "    [theme=dark] .colab-df-convert {\n",
              "      background-color: #3B4455;\n",
              "      fill: #D2E3FC;\n",
              "    }\n",
              "\n",
              "    [theme=dark] .colab-df-convert:hover {\n",
              "      background-color: #434B5C;\n",
              "      box-shadow: 0px 1px 3px 1px rgba(0, 0, 0, 0.15);\n",
              "      filter: drop-shadow(0px 1px 2px rgba(0, 0, 0, 0.3));\n",
              "      fill: #FFFFFF;\n",
              "    }\n",
              "  </style>\n",
              "\n",
              "      <script>\n",
              "        const buttonEl =\n",
              "          document.querySelector('#df-a01fd9b5-648f-4b56-a15a-a3c7d75be34d button.colab-df-convert');\n",
              "        buttonEl.style.display =\n",
              "          google.colab.kernel.accessAllowed ? 'block' : 'none';\n",
              "\n",
              "        async function convertToInteractive(key) {\n",
              "          const element = document.querySelector('#df-a01fd9b5-648f-4b56-a15a-a3c7d75be34d');\n",
              "          const dataTable =\n",
              "            await google.colab.kernel.invokeFunction('convertToInteractive',\n",
              "                                                     [key], {});\n",
              "          if (!dataTable) return;\n",
              "\n",
              "          const docLinkHtml = 'Like what you see? Visit the ' +\n",
              "            '<a target=\"_blank\" href=https://colab.research.google.com/notebooks/data_table.ipynb>data table notebook</a>'\n",
              "            + ' to learn more about interactive tables.';\n",
              "          element.innerHTML = '';\n",
              "          dataTable['output_type'] = 'display_data';\n",
              "          await google.colab.output.renderOutput(dataTable, element);\n",
              "          const docLink = document.createElement('div');\n",
              "          docLink.innerHTML = docLinkHtml;\n",
              "          element.appendChild(docLink);\n",
              "        }\n",
              "      </script>\n",
              "    </div>\n",
              "  </div>\n",
              "  "
            ]
          },
          "metadata": {}
        },
        {
          "output_type": "stream",
          "name": "stdout",
          "text": [
            "\n",
            "9.- Boxplot de notas:\n"
          ]
        },
        {
          "output_type": "display_data",
          "data": {
            "text/html": [
              "<html>\n",
              "<head><meta charset=\"utf-8\" /></head>\n",
              "<body>\n",
              "    <div>            <script src=\"https://cdnjs.cloudflare.com/ajax/libs/mathjax/2.7.5/MathJax.js?config=TeX-AMS-MML_SVG\"></script><script type=\"text/javascript\">if (window.MathJax && window.MathJax.Hub && window.MathJax.Hub.Config) {window.MathJax.Hub.Config({SVG: {font: \"STIX-Web\"}});}</script>                <script type=\"text/javascript\">window.PlotlyConfig = {MathJaxConfig: 'local'};</script>\n",
              "        <script src=\"https://cdn.plot.ly/plotly-2.14.0.min.js\"></script>                <div id=\"499f9751-7414-4c5a-afdf-72089380e7ec\" class=\"plotly-graph-div\" style=\"height:525px; width:100%;\"></div>            <script type=\"text/javascript\">                                    window.PLOTLYENV=window.PLOTLYENV || {};                                    if (document.getElementById(\"499f9751-7414-4c5a-afdf-72089380e7ec\")) {                    Plotly.newPlot(                        \"499f9751-7414-4c5a-afdf-72089380e7ec\",                        [{\"alignmentgroup\":\"True\",\"hovertemplate\":\"variable=%{x}<br>value=%{y}<extra></extra>\",\"legendgroup\":\"\",\"marker\":{\"color\":\"#636efa\"},\"name\":\"\",\"notched\":false,\"offsetgroup\":\"\",\"orientation\":\"v\",\"showlegend\":false,\"x\":[\"math score\",\"math score\",\"math score\",\"math score\",\"math score\",\"math score\",\"math score\",\"math score\",\"math score\",\"math score\",\"math score\",\"math score\",\"math score\",\"math score\",\"math score\",\"math score\",\"math score\",\"math score\",\"math score\",\"math score\",\"math score\",\"math score\",\"math score\",\"math score\",\"math score\",\"math score\",\"math score\",\"math score\",\"math score\",\"math score\",\"math score\",\"math score\",\"math score\",\"math score\",\"math score\",\"math score\",\"math score\",\"math score\",\"math score\",\"math score\",\"math score\",\"math score\",\"math score\",\"math score\",\"math score\",\"math score\",\"math score\",\"math score\",\"math score\",\"math score\",\"math score\",\"math score\",\"math score\",\"math score\",\"math score\",\"math score\",\"math score\",\"math score\",\"math score\",\"math score\",\"math score\",\"math score\",\"math score\",\"math score\",\"math score\",\"math score\",\"math score\",\"math score\",\"math score\",\"math score\",\"math score\",\"math score\",\"math score\",\"math score\",\"math score\",\"math score\",\"math score\",\"math score\",\"math score\",\"math score\",\"math score\",\"math score\",\"math score\",\"math score\",\"math score\",\"math score\",\"math score\",\"math score\",\"math score\",\"math score\",\"math score\",\"math score\",\"math score\",\"math score\",\"math score\",\"math score\",\"math score\",\"math score\",\"math score\",\"math score\",\"math score\",\"math score\",\"math score\",\"math score\",\"math score\",\"math score\",\"math score\",\"math score\",\"math score\",\"math score\",\"math score\",\"math score\",\"math score\",\"math score\",\"math score\",\"math score\",\"math score\",\"math score\",\"math score\",\"math score\",\"math score\",\"math score\",\"math score\",\"math score\",\"math score\",\"math score\",\"math score\",\"math score\",\"math score\",\"math score\",\"math score\",\"math score\",\"math score\",\"math score\",\"math score\",\"math score\",\"math score\",\"math score\",\"math score\",\"math score\",\"math score\",\"math score\",\"math score\",\"math score\",\"math score\",\"math score\",\"math score\",\"math score\",\"math score\",\"math score\",\"math score\",\"math score\",\"math score\",\"math score\",\"math score\",\"math score\",\"math score\",\"math score\",\"math score\",\"math score\",\"math score\",\"math score\",\"math score\",\"math score\",\"math score\",\"math score\",\"math score\",\"math score\",\"math score\",\"math score\",\"math score\",\"math score\",\"math score\",\"math score\",\"math score\",\"math score\",\"math score\",\"math score\",\"math score\",\"math score\",\"math score\",\"math score\",\"math score\",\"math score\",\"math score\",\"math score\",\"math score\",\"math score\",\"math score\",\"math score\",\"math score\",\"math score\",\"math score\",\"math score\",\"math score\",\"math score\",\"math score\",\"math score\",\"math score\",\"math score\",\"math score\",\"math score\",\"math score\",\"math score\",\"math score\",\"math score\",\"math score\",\"math score\",\"math score\",\"math score\",\"math score\",\"math score\",\"math score\",\"math score\",\"math score\",\"math score\",\"math score\",\"math score\",\"math score\",\"math score\",\"math score\",\"math score\",\"math score\",\"math score\",\"math score\",\"math score\",\"math score\",\"math score\",\"math score\",\"math score\",\"math score\",\"math score\",\"math score\",\"math score\",\"math score\",\"math score\",\"math score\",\"math score\",\"math score\",\"math score\",\"math score\",\"math score\",\"math score\",\"math score\",\"math score\",\"math score\",\"math score\",\"math score\",\"math score\",\"math score\",\"math score\",\"math score\",\"math score\",\"math score\",\"math score\",\"math score\",\"math score\",\"math score\",\"math score\",\"math score\",\"math score\",\"math score\",\"math score\",\"math score\",\"math score\",\"math score\",\"math score\",\"math score\",\"math score\",\"math score\",\"math score\",\"math score\",\"math score\",\"math score\",\"math score\",\"math score\",\"math score\",\"math score\",\"math score\",\"math score\",\"math score\",\"math score\",\"math score\",\"math score\",\"math score\",\"math score\",\"math score\",\"math score\",\"math score\",\"math score\",\"math score\",\"math score\",\"math score\",\"math score\",\"math score\",\"math score\",\"math score\",\"math score\",\"math score\",\"math score\",\"math score\",\"math score\",\"math score\",\"math score\",\"math score\",\"math score\",\"math score\",\"math score\",\"math score\",\"math score\",\"math score\",\"math score\",\"math score\",\"math score\",\"math score\",\"math score\",\"math score\",\"math score\",\"math score\",\"math score\",\"math score\",\"math score\",\"math score\",\"math score\",\"math score\",\"math score\",\"math score\",\"math score\",\"math score\",\"math score\",\"math score\",\"math score\",\"math score\",\"math score\",\"math score\",\"math score\",\"math score\",\"math score\",\"math score\",\"math score\",\"math score\",\"math score\",\"math score\",\"math score\",\"math score\",\"math score\",\"math score\",\"math score\",\"math score\",\"math score\",\"math score\",\"math score\",\"math score\",\"math score\",\"math score\",\"math score\",\"math score\",\"math score\",\"math score\",\"math score\",\"math score\",\"math score\",\"math score\",\"math score\",\"math score\",\"math score\",\"math score\",\"math score\",\"math score\",\"math score\",\"math score\",\"math score\",\"math score\",\"math score\",\"math score\",\"math score\",\"math score\",\"math score\",\"math score\",\"math score\",\"math score\",\"math score\",\"math score\",\"math score\",\"math score\",\"math score\",\"math score\",\"math score\",\"math score\",\"math score\",\"math score\",\"math score\",\"math score\",\"math score\",\"math score\",\"math score\",\"math score\",\"math score\",\"math score\",\"math score\",\"math score\",\"math score\",\"math score\",\"math score\",\"math score\",\"math score\",\"math score\",\"math score\",\"math score\",\"math score\",\"math score\",\"math score\",\"math score\",\"math score\",\"math score\",\"math score\",\"math score\",\"math score\",\"math score\",\"math score\",\"math score\",\"math score\",\"math score\",\"math score\",\"math score\",\"math score\",\"math score\",\"math score\",\"math score\",\"math score\",\"math score\",\"math score\",\"math score\",\"math score\",\"math score\",\"math score\",\"math score\",\"math score\",\"math score\",\"math score\",\"math score\",\"math score\",\"math score\",\"math score\",\"math score\",\"math score\",\"math score\",\"math score\",\"math score\",\"math score\",\"math score\",\"math score\",\"math score\",\"math score\",\"math score\",\"math score\",\"math score\",\"math score\",\"math score\",\"math score\",\"math score\",\"math score\",\"math score\",\"math score\",\"math score\",\"math score\",\"math score\",\"math score\",\"math score\",\"math score\",\"math score\",\"math score\",\"math score\",\"math score\",\"math score\",\"math score\",\"math score\",\"math score\",\"math score\",\"math score\",\"math score\",\"math score\",\"math score\",\"math score\",\"math score\",\"math score\",\"math score\",\"math score\",\"math score\",\"math score\",\"math score\",\"math score\",\"math score\",\"math score\",\"math score\",\"math score\",\"math score\",\"math score\",\"math score\",\"math score\",\"math score\",\"math score\",\"math score\",\"math score\",\"math score\",\"math score\",\"math score\",\"math score\",\"math score\",\"math score\",\"math score\",\"math score\",\"math score\",\"math score\",\"math score\",\"math score\",\"math score\",\"math score\",\"math score\",\"math score\",\"math score\",\"math score\",\"math score\",\"math score\",\"math score\",\"math score\",\"math score\",\"math score\",\"math score\",\"math score\",\"math score\",\"math score\",\"math score\",\"math score\",\"math score\",\"math score\",\"math score\",\"math score\",\"math score\",\"math score\",\"math score\",\"math score\",\"math score\",\"math score\",\"math score\",\"math score\",\"math score\",\"math score\",\"math score\",\"math score\",\"math score\",\"math score\",\"math score\",\"math score\",\"math score\",\"math score\",\"math score\",\"math score\",\"math score\",\"math score\",\"math score\",\"math score\",\"math score\",\"math score\",\"math score\",\"math score\",\"math score\",\"math score\",\"math score\",\"math score\",\"math score\",\"math score\",\"math score\",\"math score\",\"math score\",\"math score\",\"math score\",\"math score\",\"math score\",\"math score\",\"math score\",\"math score\",\"math score\",\"math score\",\"math score\",\"math score\",\"math score\",\"math score\",\"math score\",\"math score\",\"math score\",\"math score\",\"math score\",\"math score\",\"math score\",\"math score\",\"math score\",\"math score\",\"math score\",\"math score\",\"math score\",\"math score\",\"math score\",\"math score\",\"math score\",\"math score\",\"math score\",\"math score\",\"math score\",\"math score\",\"math score\",\"math score\",\"math score\",\"math score\",\"math score\",\"math score\",\"math score\",\"math score\",\"math score\",\"math score\",\"math score\",\"math score\",\"math score\",\"math score\",\"math score\",\"math score\",\"math score\",\"math score\",\"math score\",\"math score\",\"math score\",\"math score\",\"math score\",\"math score\",\"math score\",\"math score\",\"math score\",\"math score\",\"math score\",\"math score\",\"math score\",\"math score\",\"math score\",\"math score\",\"math score\",\"math score\",\"math score\",\"math score\",\"math score\",\"math score\",\"math score\",\"math score\",\"math score\",\"math score\",\"math score\",\"math score\",\"math score\",\"math score\",\"math score\",\"math score\",\"math score\",\"math score\",\"math score\",\"math score\",\"math score\",\"math score\",\"math score\",\"math score\",\"math score\",\"math score\",\"math score\",\"math score\",\"math score\",\"math score\",\"math score\",\"math score\",\"math score\",\"math score\",\"math score\",\"math score\",\"math score\",\"math score\",\"math score\",\"math score\",\"math score\",\"math score\",\"math score\",\"math score\",\"math score\",\"math score\",\"math score\",\"math score\",\"math score\",\"math score\",\"math score\",\"math score\",\"math score\",\"math score\",\"math score\",\"math score\",\"math score\",\"math score\",\"math score\",\"math score\",\"math score\",\"math score\",\"math score\",\"math score\",\"math score\",\"math score\",\"math score\",\"math score\",\"math score\",\"math score\",\"math score\",\"math score\",\"math score\",\"math score\",\"math score\",\"math score\",\"math score\",\"math score\",\"math score\",\"math score\",\"math score\",\"math score\",\"math score\",\"math score\",\"math score\",\"math score\",\"math score\",\"math score\",\"math score\",\"math score\",\"math score\",\"math score\",\"math score\",\"math score\",\"math score\",\"math score\",\"math score\",\"math score\",\"math score\",\"math score\",\"math score\",\"math score\",\"math score\",\"math score\",\"math score\",\"math score\",\"math score\",\"math score\",\"math score\",\"math score\",\"math score\",\"math score\",\"math score\",\"math score\",\"math score\",\"math score\",\"math score\",\"math score\",\"math score\",\"math score\",\"math score\",\"math score\",\"math score\",\"math score\",\"math score\",\"math score\",\"math score\",\"math score\",\"math score\",\"math score\",\"math score\",\"math score\",\"math score\",\"math score\",\"math score\",\"math score\",\"math score\",\"math score\",\"math score\",\"math score\",\"math score\",\"math score\",\"math score\",\"math score\",\"math score\",\"math score\",\"math score\",\"math score\",\"math score\",\"math score\",\"math score\",\"math score\",\"math score\",\"math score\",\"math score\",\"math score\",\"math score\",\"math score\",\"math score\",\"math score\",\"math score\",\"math score\",\"math score\",\"math score\",\"math score\",\"math score\",\"math score\",\"math score\",\"math score\",\"math score\",\"math score\",\"math score\",\"math score\",\"math score\",\"math score\",\"math score\",\"math score\",\"math score\",\"math score\",\"math score\",\"math score\",\"math score\",\"math score\",\"math score\",\"math score\",\"math score\",\"math score\",\"math score\",\"math score\",\"math score\",\"math score\",\"math score\",\"math score\",\"math score\",\"math score\",\"math score\",\"math score\",\"math score\",\"math score\",\"math score\",\"math score\",\"math score\",\"math score\",\"math score\",\"math score\",\"math score\",\"math score\",\"math score\",\"math score\",\"math score\",\"math score\",\"math score\",\"math score\",\"math score\",\"math score\",\"math score\",\"math score\",\"math score\",\"math score\",\"math score\",\"math score\",\"math score\",\"math score\",\"math score\",\"math score\",\"math score\",\"math score\",\"math score\",\"math score\",\"math score\",\"math score\",\"math score\",\"math score\",\"math score\",\"math score\",\"math score\",\"math score\",\"math score\",\"math score\",\"math score\",\"math score\",\"math score\",\"math score\",\"math score\",\"math score\",\"math score\",\"math score\",\"math score\",\"math score\",\"math score\",\"math score\",\"math score\",\"math score\",\"math score\",\"math score\",\"math score\",\"math score\",\"math score\",\"math score\",\"math score\",\"math score\",\"math score\",\"math score\",\"math score\",\"math score\",\"math score\",\"math score\",\"math score\",\"math score\",\"math score\",\"math score\",\"math score\",\"math score\",\"math score\",\"math score\",\"math score\",\"math score\",\"math score\",\"math score\",\"math score\",\"math score\",\"math score\",\"math score\",\"math score\",\"math score\",\"math score\",\"math score\",\"math score\",\"math score\",\"math score\",\"math score\",\"math score\",\"math score\",\"math score\",\"math score\",\"math score\",\"math score\",\"math score\",\"math score\",\"math score\",\"math score\",\"math score\",\"math score\",\"math score\",\"math score\",\"math score\",\"math score\",\"math score\",\"math score\",\"math score\",\"math score\",\"math score\",\"math score\",\"math score\",\"math score\",\"math score\",\"math score\",\"math score\",\"math score\",\"math score\",\"math score\",\"math score\",\"math score\",\"math score\",\"math score\",\"math score\",\"math score\",\"math score\",\"math score\",\"math score\",\"math score\",\"math score\",\"math score\",\"math score\",\"math score\",\"math score\",\"math score\",\"math score\",\"math score\",\"math score\",\"math score\",\"math score\",\"math score\",\"math score\",\"math score\",\"math score\",\"math score\",\"math score\",\"math score\",\"math score\",\"math score\",\"math score\",\"math score\",\"math score\",\"math score\",\"math score\",\"math score\",\"math score\",\"math score\",\"math score\",\"math score\",\"math score\",\"math score\",\"math score\",\"math score\",\"math score\",\"math score\",\"math score\",\"math score\",\"math score\",\"math score\",\"math score\",\"math score\",\"math score\",\"math score\",\"math score\",\"math score\",\"math score\",\"math score\",\"math score\",\"math score\",\"math score\",\"math score\",\"math score\",\"math score\",\"math score\",\"math score\",\"math score\",\"math score\",\"math score\",\"math score\",\"math score\",\"math score\",\"math score\",\"math score\",\"math score\",\"math score\",\"math score\",\"math score\",\"math score\",\"math score\",\"math score\",\"math score\",\"math score\",\"math score\",\"math score\",\"math score\",\"math score\",\"math score\",\"math score\",\"math score\",\"math score\",\"math score\",\"math score\",\"math score\",\"math score\",\"math score\",\"math score\",\"math score\",\"math score\",\"math score\",\"math score\",\"math score\",\"math score\",\"math score\",\"math score\",\"math score\",\"math score\",\"math score\",\"math score\",\"math score\",\"math score\",\"math score\",\"math score\",\"math score\",\"math score\",\"math score\",\"math score\",\"math score\",\"math score\",\"math score\",\"math score\",\"math score\",\"math score\",\"math score\",\"math score\",\"math score\",\"math score\",\"math score\",\"math score\",\"math score\",\"math score\",\"math score\",\"math score\",\"math score\",\"math score\",\"math score\",\"math score\",\"math score\",\"math score\",\"math score\",\"math score\",\"math score\",\"math score\",\"math score\",\"math score\",\"math score\",\"math score\",\"math score\",\"math score\",\"math score\",\"math score\",\"math score\",\"math score\",\"math score\",\"math score\",\"math score\",\"math score\",\"math score\",\"math score\",\"math score\",\"math score\",\"math score\",\"math score\",\"math score\",\"math score\",\"math score\",\"math score\",\"math score\",\"math score\",\"math score\",\"math score\",\"math score\",\"math score\",\"math score\",\"math score\",\"math score\",\"math score\",\"math score\",\"math score\",\"math score\",\"math score\",\"math score\",\"math score\",\"math score\",\"math score\",\"math score\",\"math score\",\"math score\",\"math score\",\"math score\",\"math score\",\"math score\",\"math score\",\"math score\",\"math score\",\"math score\",\"math score\",\"math score\",\"math score\",\"math score\",\"math score\",\"math score\",\"math score\",\"math score\",\"math score\",\"math score\",\"math score\",\"math score\",\"math score\",\"math score\",\"math score\",\"math score\",\"math score\",\"math score\",\"math score\",\"math score\",\"math score\",\"math score\",\"math score\",\"math score\",\"math score\",\"math score\",\"math score\",\"math score\",\"math score\",\"math score\",\"math score\",\"math score\",\"math score\",\"math score\",\"math score\",\"math score\",\"math score\",\"math score\",\"math score\",\"math score\",\"math score\",\"math score\",\"math score\",\"math score\",\"math score\",\"math score\",\"math score\",\"math score\",\"math score\",\"math score\",\"math score\",\"math score\",\"math score\",\"math score\",\"math score\",\"math score\",\"math score\",\"math score\",\"math score\",\"math score\",\"math score\",\"math score\",\"math score\",\"math score\",\"math score\",\"math score\",\"math score\",\"math score\",\"math score\",\"math score\",\"math score\",\"math score\",\"math score\",\"math score\",\"math score\",\"math score\",\"math score\",\"math score\",\"math score\",\"math score\",\"math score\",\"math score\",\"math score\",\"math score\",\"math score\",\"math score\",\"math score\",\"math score\",\"math score\",\"math score\",\"math score\",\"math score\",\"math score\",\"math score\",\"math score\",\"math score\",\"math score\",\"math score\",\"math score\",\"math score\",\"math score\",\"math score\",\"math score\",\"math score\",\"math score\",\"math score\",\"math score\",\"math score\",\"math score\",\"math score\",\"math score\",\"math score\",\"math score\",\"math score\",\"math score\",\"math score\",\"math score\",\"math score\",\"math score\",\"math score\",\"math score\",\"math score\",\"math score\",\"math score\",\"math score\",\"math score\",\"math score\",\"math score\",\"math score\",\"math score\",\"math score\",\"math score\",\"math score\",\"math score\",\"math score\",\"math score\",\"math score\",\"math score\",\"math score\",\"math score\",\"math score\",\"math score\",\"math score\",\"math score\",\"math score\",\"math score\",\"math score\",\"math score\",\"math score\",\"math score\",\"math score\",\"math score\",\"math score\",\"math score\",\"math score\",\"math score\",\"math score\",\"math score\",\"math score\",\"math score\",\"math score\",\"math score\",\"math score\",\"math score\",\"math score\",\"math score\",\"math score\",\"math score\",\"math score\",\"math score\",\"math score\",\"math score\",\"math score\",\"math score\",\"math score\",\"math score\",\"math score\",\"math score\",\"math score\",\"math score\",\"math score\",\"math score\",\"math score\",\"math score\",\"math score\",\"math score\",\"math score\",\"math score\",\"math score\",\"math score\",\"math score\",\"math score\",\"math score\",\"math score\",\"math score\",\"math score\",\"math score\",\"math score\",\"math score\",\"math score\",\"math score\",\"math score\",\"math score\",\"math score\",\"math score\",\"math score\",\"math score\",\"math score\",\"math score\",\"math score\",\"math score\",\"math score\",\"math score\",\"math score\",\"math score\",\"math score\",\"math score\",\"math score\",\"math score\",\"math score\",\"math score\",\"math score\",\"math score\",\"math score\",\"math score\",\"math score\",\"math score\",\"math score\",\"math score\",\"math score\",\"math score\",\"math score\",\"math score\",\"math score\",\"math score\",\"math score\",\"math score\",\"math score\",\"math score\",\"reading score\",\"reading score\",\"reading score\",\"reading score\",\"reading score\",\"reading score\",\"reading score\",\"reading score\",\"reading score\",\"reading score\",\"reading score\",\"reading score\",\"reading score\",\"reading score\",\"reading score\",\"reading score\",\"reading score\",\"reading score\",\"reading score\",\"reading score\",\"reading score\",\"reading score\",\"reading score\",\"reading score\",\"reading score\",\"reading score\",\"reading score\",\"reading score\",\"reading score\",\"reading score\",\"reading score\",\"reading score\",\"reading score\",\"reading score\",\"reading score\",\"reading score\",\"reading score\",\"reading score\",\"reading score\",\"reading score\",\"reading score\",\"reading score\",\"reading score\",\"reading score\",\"reading score\",\"reading score\",\"reading score\",\"reading score\",\"reading score\",\"reading score\",\"reading score\",\"reading score\",\"reading score\",\"reading score\",\"reading score\",\"reading score\",\"reading score\",\"reading score\",\"reading score\",\"reading score\",\"reading score\",\"reading score\",\"reading score\",\"reading score\",\"reading score\",\"reading score\",\"reading score\",\"reading score\",\"reading score\",\"reading score\",\"reading score\",\"reading score\",\"reading score\",\"reading score\",\"reading score\",\"reading score\",\"reading score\",\"reading score\",\"reading score\",\"reading score\",\"reading score\",\"reading score\",\"reading score\",\"reading score\",\"reading score\",\"reading score\",\"reading score\",\"reading score\",\"reading score\",\"reading score\",\"reading score\",\"reading score\",\"reading score\",\"reading score\",\"reading score\",\"reading score\",\"reading score\",\"reading score\",\"reading score\",\"reading score\",\"reading score\",\"reading score\",\"reading score\",\"reading score\",\"reading score\",\"reading score\",\"reading score\",\"reading score\",\"reading score\",\"reading score\",\"reading score\",\"reading score\",\"reading score\",\"reading score\",\"reading score\",\"reading score\",\"reading score\",\"reading score\",\"reading score\",\"reading score\",\"reading score\",\"reading score\",\"reading score\",\"reading score\",\"reading score\",\"reading score\",\"reading score\",\"reading score\",\"reading score\",\"reading score\",\"reading score\",\"reading score\",\"reading score\",\"reading score\",\"reading score\",\"reading score\",\"reading score\",\"reading score\",\"reading score\",\"reading score\",\"reading score\",\"reading score\",\"reading score\",\"reading score\",\"reading score\",\"reading score\",\"reading score\",\"reading score\",\"reading score\",\"reading score\",\"reading score\",\"reading score\",\"reading score\",\"reading score\",\"reading score\",\"reading score\",\"reading score\",\"reading score\",\"reading score\",\"reading score\",\"reading score\",\"reading score\",\"reading score\",\"reading score\",\"reading score\",\"reading score\",\"reading score\",\"reading score\",\"reading score\",\"reading score\",\"reading score\",\"reading score\",\"reading score\",\"reading score\",\"reading score\",\"reading score\",\"reading score\",\"reading score\",\"reading score\",\"reading score\",\"reading score\",\"reading score\",\"reading score\",\"reading score\",\"reading score\",\"reading score\",\"reading score\",\"reading score\",\"reading score\",\"reading score\",\"reading score\",\"reading score\",\"reading score\",\"reading score\",\"reading score\",\"reading score\",\"reading score\",\"reading score\",\"reading score\",\"reading score\",\"reading score\",\"reading score\",\"reading score\",\"reading score\",\"reading score\",\"reading score\",\"reading score\",\"reading score\",\"reading score\",\"reading score\",\"reading score\",\"reading score\",\"reading score\",\"reading score\",\"reading score\",\"reading score\",\"reading score\",\"reading score\",\"reading score\",\"reading score\",\"reading score\",\"reading score\",\"reading score\",\"reading score\",\"reading score\",\"reading score\",\"reading score\",\"reading score\",\"reading score\",\"reading score\",\"reading score\",\"reading score\",\"reading score\",\"reading score\",\"reading score\",\"reading score\",\"reading score\",\"reading score\",\"reading score\",\"reading score\",\"reading score\",\"reading score\",\"reading score\",\"reading score\",\"reading score\",\"reading score\",\"reading score\",\"reading score\",\"reading score\",\"reading score\",\"reading score\",\"reading score\",\"reading score\",\"reading score\",\"reading score\",\"reading score\",\"reading score\",\"reading score\",\"reading score\",\"reading score\",\"reading score\",\"reading score\",\"reading score\",\"reading score\",\"reading score\",\"reading score\",\"reading score\",\"reading score\",\"reading score\",\"reading score\",\"reading score\",\"reading score\",\"reading score\",\"reading score\",\"reading score\",\"reading score\",\"reading score\",\"reading score\",\"reading score\",\"reading score\",\"reading score\",\"reading score\",\"reading score\",\"reading score\",\"reading score\",\"reading score\",\"reading score\",\"reading score\",\"reading score\",\"reading score\",\"reading score\",\"reading score\",\"reading score\",\"reading score\",\"reading score\",\"reading score\",\"reading score\",\"reading score\",\"reading score\",\"reading score\",\"reading score\",\"reading score\",\"reading score\",\"reading score\",\"reading score\",\"reading score\",\"reading score\",\"reading score\",\"reading score\",\"reading score\",\"reading score\",\"reading score\",\"reading score\",\"reading score\",\"reading score\",\"reading score\",\"reading score\",\"reading score\",\"reading score\",\"reading score\",\"reading score\",\"reading score\",\"reading score\",\"reading score\",\"reading score\",\"reading score\",\"reading score\",\"reading score\",\"reading score\",\"reading score\",\"reading score\",\"reading score\",\"reading score\",\"reading score\",\"reading score\",\"reading score\",\"reading score\",\"reading score\",\"reading score\",\"reading score\",\"reading score\",\"reading score\",\"reading score\",\"reading score\",\"reading score\",\"reading score\",\"reading score\",\"reading score\",\"reading score\",\"reading score\",\"reading score\",\"reading score\",\"reading score\",\"reading score\",\"reading score\",\"reading score\",\"reading score\",\"reading score\",\"reading score\",\"reading score\",\"reading score\",\"reading score\",\"reading score\",\"reading score\",\"reading score\",\"reading score\",\"reading score\",\"reading score\",\"reading score\",\"reading score\",\"reading score\",\"reading score\",\"reading score\",\"reading score\",\"reading score\",\"reading score\",\"reading score\",\"reading score\",\"reading score\",\"reading score\",\"reading score\",\"reading score\",\"reading score\",\"reading score\",\"reading score\",\"reading score\",\"reading score\",\"reading score\",\"reading score\",\"reading score\",\"reading score\",\"reading score\",\"reading score\",\"reading score\",\"reading score\",\"reading score\",\"reading score\",\"reading score\",\"reading score\",\"reading score\",\"reading score\",\"reading score\",\"reading score\",\"reading score\",\"reading score\",\"reading score\",\"reading score\",\"reading score\",\"reading score\",\"reading score\",\"reading score\",\"reading score\",\"reading score\",\"reading score\",\"reading score\",\"reading score\",\"reading score\",\"reading score\",\"reading score\",\"reading score\",\"reading score\",\"reading score\",\"reading score\",\"reading score\",\"reading score\",\"reading score\",\"reading score\",\"reading score\",\"reading score\",\"reading score\",\"reading score\",\"reading score\",\"reading score\",\"reading score\",\"reading score\",\"reading score\",\"reading score\",\"reading score\",\"reading score\",\"reading score\",\"reading score\",\"reading score\",\"reading score\",\"reading score\",\"reading score\",\"reading score\",\"reading score\",\"reading score\",\"reading score\",\"reading score\",\"reading score\",\"reading score\",\"reading score\",\"reading score\",\"reading score\",\"reading score\",\"reading score\",\"reading score\",\"reading score\",\"reading score\",\"reading score\",\"reading score\",\"reading score\",\"reading score\",\"reading score\",\"reading score\",\"reading score\",\"reading score\",\"reading score\",\"reading score\",\"reading score\",\"reading score\",\"reading score\",\"reading score\",\"reading score\",\"reading score\",\"reading score\",\"reading score\",\"reading score\",\"reading score\",\"reading score\",\"reading score\",\"reading score\",\"reading score\",\"reading score\",\"reading score\",\"reading score\",\"reading score\",\"reading score\",\"reading score\",\"reading score\",\"reading score\",\"reading score\",\"reading score\",\"reading score\",\"reading score\",\"reading score\",\"reading score\",\"reading score\",\"reading score\",\"reading score\",\"reading score\",\"reading score\",\"reading score\",\"reading score\",\"reading score\",\"reading score\",\"reading score\",\"reading score\",\"reading score\",\"reading score\",\"reading score\",\"reading score\",\"reading score\",\"reading score\",\"reading score\",\"reading score\",\"reading score\",\"reading score\",\"reading score\",\"reading score\",\"reading score\",\"reading score\",\"reading score\",\"reading score\",\"reading score\",\"reading score\",\"reading score\",\"reading score\",\"reading score\",\"reading score\",\"reading score\",\"reading score\",\"reading score\",\"reading score\",\"reading score\",\"reading score\",\"reading score\",\"reading score\",\"reading score\",\"reading score\",\"reading score\",\"reading score\",\"reading score\",\"reading score\",\"reading score\",\"reading score\",\"reading score\",\"reading score\",\"reading score\",\"reading score\",\"reading score\",\"reading score\",\"reading score\",\"reading score\",\"reading score\",\"reading score\",\"reading score\",\"reading score\",\"reading score\",\"reading score\",\"reading score\",\"reading score\",\"reading score\",\"reading score\",\"reading score\",\"reading score\",\"reading score\",\"reading score\",\"reading score\",\"reading score\",\"reading score\",\"reading score\",\"reading score\",\"reading score\",\"reading score\",\"reading score\",\"reading score\",\"reading score\",\"reading score\",\"reading score\",\"reading score\",\"reading score\",\"reading score\",\"reading score\",\"reading score\",\"reading score\",\"reading score\",\"reading score\",\"reading score\",\"reading score\",\"reading score\",\"reading score\",\"reading score\",\"reading score\",\"reading score\",\"reading score\",\"reading score\",\"reading score\",\"reading score\",\"reading score\",\"reading score\",\"reading score\",\"reading score\",\"reading score\",\"reading score\",\"reading score\",\"reading score\",\"reading score\",\"reading score\",\"reading score\",\"reading score\",\"reading score\",\"reading score\",\"reading score\",\"reading score\",\"reading score\",\"reading score\",\"reading score\",\"reading score\",\"reading score\",\"reading score\",\"reading score\",\"reading score\",\"reading score\",\"reading score\",\"reading score\",\"reading score\",\"reading score\",\"reading score\",\"reading score\",\"reading score\",\"reading score\",\"reading score\",\"reading score\",\"reading score\",\"reading score\",\"reading score\",\"reading score\",\"reading score\",\"reading score\",\"reading score\",\"reading score\",\"reading score\",\"reading score\",\"reading score\",\"reading score\",\"reading score\",\"reading score\",\"reading score\",\"reading score\",\"reading score\",\"reading score\",\"reading score\",\"reading score\",\"reading score\",\"reading score\",\"reading score\",\"reading score\",\"reading score\",\"reading score\",\"reading score\",\"reading score\",\"reading score\",\"reading score\",\"reading score\",\"reading score\",\"reading score\",\"reading score\",\"reading score\",\"reading score\",\"reading score\",\"reading score\",\"reading score\",\"reading score\",\"reading score\",\"reading score\",\"reading score\",\"reading score\",\"reading score\",\"reading score\",\"reading score\",\"reading score\",\"reading score\",\"reading score\",\"reading score\",\"reading score\",\"reading score\",\"reading score\",\"reading score\",\"reading score\",\"reading score\",\"reading score\",\"reading score\",\"reading score\",\"reading score\",\"reading score\",\"reading score\",\"reading score\",\"reading score\",\"reading score\",\"reading score\",\"reading score\",\"reading score\",\"reading score\",\"reading score\",\"reading score\",\"reading score\",\"reading score\",\"reading score\",\"reading score\",\"reading score\",\"reading score\",\"reading score\",\"reading score\",\"reading score\",\"reading score\",\"reading score\",\"reading score\",\"reading score\",\"reading score\",\"reading score\",\"reading score\",\"reading score\",\"reading score\",\"reading score\",\"reading score\",\"reading score\",\"reading score\",\"reading score\",\"reading score\",\"reading score\",\"reading score\",\"reading score\",\"reading score\",\"reading score\",\"reading score\",\"reading score\",\"reading score\",\"reading score\",\"reading score\",\"reading score\",\"reading score\",\"reading score\",\"reading score\",\"reading score\",\"reading score\",\"reading score\",\"reading score\",\"reading score\",\"reading score\",\"reading score\",\"reading score\",\"reading score\",\"reading score\",\"reading score\",\"reading score\",\"reading score\",\"reading score\",\"reading score\",\"reading score\",\"reading score\",\"reading score\",\"reading score\",\"reading score\",\"reading score\",\"reading score\",\"reading score\",\"reading score\",\"reading score\",\"reading score\",\"reading score\",\"reading score\",\"reading score\",\"reading score\",\"reading score\",\"reading score\",\"reading score\",\"reading score\",\"reading score\",\"reading score\",\"reading score\",\"reading score\",\"reading score\",\"reading score\",\"reading score\",\"reading score\",\"reading score\",\"reading score\",\"reading score\",\"reading score\",\"reading score\",\"reading score\",\"reading score\",\"reading score\",\"reading score\",\"reading score\",\"reading score\",\"reading score\",\"reading score\",\"reading score\",\"reading score\",\"reading score\",\"reading score\",\"reading score\",\"reading score\",\"reading score\",\"reading score\",\"reading score\",\"reading score\",\"reading score\",\"reading score\",\"reading score\",\"reading score\",\"reading score\",\"reading score\",\"reading score\",\"reading score\",\"reading score\",\"reading score\",\"reading score\",\"reading score\",\"reading score\",\"reading score\",\"reading score\",\"reading score\",\"reading score\",\"reading score\",\"reading score\",\"reading score\",\"reading score\",\"reading score\",\"reading score\",\"reading score\",\"reading score\",\"reading score\",\"reading score\",\"reading score\",\"reading score\",\"reading score\",\"reading score\",\"reading score\",\"reading score\",\"reading score\",\"reading score\",\"reading score\",\"reading score\",\"reading score\",\"reading score\",\"reading score\",\"reading score\",\"reading score\",\"reading score\",\"reading score\",\"reading score\",\"reading score\",\"reading score\",\"reading score\",\"reading score\",\"reading score\",\"reading score\",\"reading score\",\"reading score\",\"reading score\",\"reading score\",\"reading score\",\"reading score\",\"reading score\",\"reading score\",\"reading score\",\"reading score\",\"reading score\",\"reading score\",\"reading score\",\"reading score\",\"reading score\",\"reading score\",\"reading score\",\"reading score\",\"reading score\",\"reading score\",\"reading score\",\"reading score\",\"reading score\",\"reading score\",\"reading score\",\"reading score\",\"reading score\",\"reading score\",\"reading score\",\"reading score\",\"reading score\",\"reading score\",\"reading score\",\"reading score\",\"reading score\",\"reading score\",\"reading score\",\"reading score\",\"reading score\",\"reading score\",\"reading score\",\"reading score\",\"reading score\",\"reading score\",\"reading score\",\"reading score\",\"reading score\",\"reading score\",\"reading score\",\"reading score\",\"reading score\",\"reading score\",\"reading score\",\"reading score\",\"reading score\",\"reading score\",\"reading score\",\"reading score\",\"reading score\",\"reading score\",\"reading score\",\"reading score\",\"reading score\",\"reading score\",\"reading score\",\"reading score\",\"reading score\",\"reading score\",\"reading score\",\"reading score\",\"reading score\",\"reading score\",\"reading score\",\"reading score\",\"reading score\",\"reading score\",\"reading score\",\"reading score\",\"reading score\",\"reading score\",\"reading score\",\"reading score\",\"reading score\",\"reading score\",\"reading score\",\"reading score\",\"reading score\",\"reading score\",\"reading score\",\"reading score\",\"reading score\",\"reading score\",\"reading score\",\"reading score\",\"reading score\",\"reading score\",\"reading score\",\"reading score\",\"reading score\",\"reading score\",\"reading score\",\"reading score\",\"reading score\",\"reading score\",\"reading score\",\"reading score\",\"reading score\",\"reading score\",\"reading score\",\"reading score\",\"reading score\",\"reading score\",\"reading score\",\"reading score\",\"reading score\",\"reading score\",\"reading score\",\"reading score\",\"reading score\",\"reading score\",\"reading score\",\"reading score\",\"reading score\",\"reading score\",\"reading score\",\"reading score\",\"reading score\",\"reading score\",\"reading score\",\"reading score\",\"reading score\",\"reading score\",\"reading score\",\"reading score\",\"reading score\",\"reading score\",\"reading score\",\"reading score\",\"reading score\",\"reading score\",\"reading score\",\"reading score\",\"reading score\",\"reading score\",\"reading score\",\"reading score\",\"reading score\",\"reading score\",\"reading score\",\"reading score\",\"reading score\",\"reading score\",\"reading score\",\"reading score\",\"reading score\",\"reading score\",\"reading score\",\"reading score\",\"reading score\",\"reading score\",\"reading score\",\"reading score\",\"reading score\",\"reading score\",\"reading score\",\"reading score\",\"reading score\",\"reading score\",\"reading score\",\"reading score\",\"reading score\",\"reading score\",\"reading score\",\"reading score\",\"reading score\",\"reading score\",\"reading score\",\"reading score\",\"reading score\",\"reading score\",\"reading score\",\"reading score\",\"reading score\",\"reading score\",\"reading score\",\"reading score\",\"reading score\",\"reading score\",\"reading score\",\"reading score\",\"reading score\",\"reading score\",\"reading score\",\"reading score\",\"reading score\",\"reading score\",\"reading score\",\"reading score\",\"reading score\",\"reading score\",\"reading score\",\"reading score\",\"reading score\",\"reading score\",\"reading score\",\"reading score\",\"reading score\",\"reading score\",\"reading score\",\"reading score\",\"reading score\",\"reading score\",\"reading score\",\"reading score\",\"reading score\",\"reading score\",\"reading score\",\"reading score\",\"reading score\",\"reading score\",\"reading score\",\"reading score\",\"reading score\",\"reading score\",\"reading score\",\"reading score\",\"reading score\",\"reading score\",\"reading score\",\"reading score\",\"reading score\",\"reading score\",\"reading score\",\"reading score\",\"reading score\",\"reading score\",\"reading score\",\"reading score\",\"reading score\",\"reading score\",\"reading score\",\"reading score\",\"reading score\",\"reading score\",\"reading score\",\"reading score\",\"reading score\",\"reading score\",\"reading score\",\"reading score\",\"reading score\",\"reading score\",\"reading score\",\"reading score\",\"reading score\",\"reading score\",\"reading score\",\"reading score\",\"reading score\",\"reading score\",\"reading score\",\"reading score\",\"reading score\",\"reading score\",\"reading score\",\"reading score\",\"reading score\",\"reading score\",\"reading score\",\"reading score\",\"reading score\",\"reading score\",\"reading score\",\"reading score\",\"reading score\",\"reading score\",\"reading score\",\"reading score\",\"reading score\",\"reading score\",\"reading score\",\"reading score\",\"reading score\",\"reading score\",\"reading score\",\"reading score\",\"reading score\",\"reading score\",\"reading score\",\"reading score\",\"reading score\",\"reading score\",\"reading score\",\"reading score\",\"reading score\",\"reading score\",\"reading score\",\"reading score\",\"reading score\",\"reading score\",\"reading score\",\"reading score\",\"reading score\",\"reading score\",\"reading score\",\"reading score\",\"reading score\",\"reading score\",\"reading score\",\"reading score\",\"reading score\",\"reading score\",\"reading score\",\"reading score\",\"reading score\",\"reading score\",\"reading score\",\"reading score\",\"reading score\",\"reading score\",\"reading score\",\"reading score\",\"reading score\",\"reading score\",\"reading score\",\"reading score\",\"reading score\",\"reading score\",\"reading score\",\"reading score\",\"reading score\",\"reading score\",\"reading score\",\"reading score\",\"reading score\",\"reading score\",\"reading score\",\"reading score\",\"reading score\",\"reading score\",\"reading score\",\"reading score\",\"reading score\",\"reading score\",\"reading score\",\"reading score\",\"reading score\",\"reading score\",\"reading score\",\"reading score\",\"reading score\",\"reading score\",\"reading score\",\"reading score\",\"reading score\",\"reading score\",\"reading score\",\"reading score\",\"reading score\",\"reading score\",\"reading score\",\"reading score\",\"reading score\",\"reading score\",\"reading score\",\"reading score\",\"reading score\",\"reading score\",\"reading score\",\"reading score\",\"reading score\",\"reading score\",\"reading score\",\"reading score\",\"reading score\",\"reading score\",\"reading score\",\"reading score\",\"reading score\",\"reading score\",\"reading score\",\"reading score\",\"reading score\",\"reading score\",\"reading score\",\"reading score\",\"reading score\",\"reading score\",\"reading score\",\"reading score\",\"reading score\",\"reading score\",\"reading score\",\"reading score\",\"reading score\",\"reading score\",\"reading score\",\"reading score\",\"reading score\",\"reading score\",\"reading score\",\"reading score\",\"reading score\",\"reading score\",\"reading score\",\"reading score\",\"reading score\",\"reading score\",\"reading score\",\"reading score\",\"reading score\",\"reading score\",\"reading score\",\"reading score\",\"reading score\",\"reading score\",\"reading score\",\"reading score\",\"reading score\",\"reading score\",\"reading score\",\"reading score\",\"reading score\",\"reading score\",\"reading score\",\"reading score\",\"reading score\",\"reading score\",\"reading score\",\"reading score\",\"reading score\",\"reading score\",\"reading score\",\"reading score\",\"reading score\",\"reading score\",\"reading score\",\"reading score\",\"reading score\",\"reading score\",\"reading score\",\"reading score\",\"reading score\",\"reading score\",\"reading score\",\"reading score\",\"reading score\",\"reading score\",\"reading score\",\"reading score\",\"reading score\",\"reading score\",\"reading score\",\"reading score\",\"reading score\",\"reading score\",\"reading score\",\"reading score\",\"reading score\",\"reading score\",\"reading score\",\"reading score\",\"reading score\",\"reading score\",\"reading score\",\"reading score\",\"reading score\",\"reading score\",\"reading score\",\"reading score\",\"reading score\",\"reading score\",\"reading score\",\"reading score\",\"reading score\",\"reading score\",\"reading score\",\"reading score\",\"reading score\",\"reading score\",\"reading score\",\"reading score\",\"reading score\",\"reading score\",\"reading score\",\"reading score\",\"reading score\",\"reading score\",\"reading score\",\"reading score\",\"reading score\",\"reading score\",\"reading score\",\"reading score\",\"reading score\",\"reading score\",\"reading score\",\"reading score\",\"reading score\",\"reading score\",\"reading score\",\"reading score\",\"reading score\",\"reading score\",\"reading score\",\"reading score\",\"reading score\",\"reading score\",\"reading score\",\"reading score\",\"reading score\",\"reading score\",\"reading score\",\"reading score\",\"reading score\",\"reading score\",\"reading score\",\"reading score\",\"reading score\",\"reading score\",\"reading score\",\"reading score\",\"reading score\",\"reading score\",\"reading score\",\"reading score\",\"reading score\",\"reading score\",\"reading score\",\"reading score\",\"reading score\",\"reading score\",\"reading score\",\"reading score\",\"reading score\",\"reading score\",\"reading score\",\"reading score\",\"reading score\",\"writing score\",\"writing score\",\"writing score\",\"writing score\",\"writing score\",\"writing score\",\"writing score\",\"writing score\",\"writing score\",\"writing score\",\"writing score\",\"writing score\",\"writing score\",\"writing score\",\"writing score\",\"writing score\",\"writing score\",\"writing score\",\"writing score\",\"writing score\",\"writing score\",\"writing score\",\"writing score\",\"writing score\",\"writing score\",\"writing score\",\"writing score\",\"writing score\",\"writing score\",\"writing score\",\"writing score\",\"writing score\",\"writing score\",\"writing score\",\"writing score\",\"writing score\",\"writing score\",\"writing score\",\"writing score\",\"writing score\",\"writing score\",\"writing score\",\"writing score\",\"writing score\",\"writing score\",\"writing score\",\"writing score\",\"writing score\",\"writing score\",\"writing score\",\"writing score\",\"writing score\",\"writing score\",\"writing score\",\"writing score\",\"writing score\",\"writing score\",\"writing score\",\"writing score\",\"writing score\",\"writing score\",\"writing score\",\"writing score\",\"writing score\",\"writing score\",\"writing score\",\"writing score\",\"writing score\",\"writing score\",\"writing score\",\"writing score\",\"writing score\",\"writing score\",\"writing score\",\"writing score\",\"writing score\",\"writing score\",\"writing score\",\"writing score\",\"writing score\",\"writing score\",\"writing score\",\"writing score\",\"writing score\",\"writing score\",\"writing score\",\"writing score\",\"writing score\",\"writing score\",\"writing score\",\"writing score\",\"writing score\",\"writing score\",\"writing score\",\"writing score\",\"writing score\",\"writing score\",\"writing score\",\"writing score\",\"writing score\",\"writing score\",\"writing score\",\"writing score\",\"writing score\",\"writing score\",\"writing score\",\"writing score\",\"writing score\",\"writing score\",\"writing score\",\"writing score\",\"writing score\",\"writing score\",\"writing score\",\"writing score\",\"writing score\",\"writing score\",\"writing score\",\"writing score\",\"writing score\",\"writing score\",\"writing score\",\"writing score\",\"writing score\",\"writing score\",\"writing score\",\"writing score\",\"writing score\",\"writing score\",\"writing score\",\"writing score\",\"writing score\",\"writing score\",\"writing score\",\"writing score\",\"writing score\",\"writing score\",\"writing score\",\"writing score\",\"writing score\",\"writing score\",\"writing score\",\"writing score\",\"writing score\",\"writing score\",\"writing score\",\"writing score\",\"writing score\",\"writing score\",\"writing score\",\"writing score\",\"writing score\",\"writing score\",\"writing score\",\"writing score\",\"writing score\",\"writing score\",\"writing score\",\"writing score\",\"writing score\",\"writing score\",\"writing score\",\"writing score\",\"writing score\",\"writing score\",\"writing score\",\"writing score\",\"writing score\",\"writing score\",\"writing score\",\"writing score\",\"writing score\",\"writing score\",\"writing score\",\"writing score\",\"writing score\",\"writing score\",\"writing score\",\"writing score\",\"writing score\",\"writing score\",\"writing score\",\"writing score\",\"writing score\",\"writing score\",\"writing score\",\"writing score\",\"writing score\",\"writing score\",\"writing score\",\"writing score\",\"writing score\",\"writing score\",\"writing score\",\"writing score\",\"writing score\",\"writing score\",\"writing score\",\"writing score\",\"writing score\",\"writing score\",\"writing score\",\"writing score\",\"writing score\",\"writing score\",\"writing score\",\"writing score\",\"writing score\",\"writing score\",\"writing score\",\"writing score\",\"writing score\",\"writing score\",\"writing score\",\"writing score\",\"writing score\",\"writing score\",\"writing score\",\"writing score\",\"writing score\",\"writing score\",\"writing score\",\"writing score\",\"writing score\",\"writing score\",\"writing score\",\"writing score\",\"writing score\",\"writing score\",\"writing score\",\"writing score\",\"writing score\",\"writing score\",\"writing score\",\"writing score\",\"writing score\",\"writing score\",\"writing score\",\"writing score\",\"writing score\",\"writing score\",\"writing score\",\"writing score\",\"writing score\",\"writing score\",\"writing score\",\"writing score\",\"writing score\",\"writing score\",\"writing score\",\"writing score\",\"writing score\",\"writing score\",\"writing score\",\"writing score\",\"writing score\",\"writing score\",\"writing score\",\"writing score\",\"writing score\",\"writing score\",\"writing score\",\"writing score\",\"writing score\",\"writing score\",\"writing score\",\"writing score\",\"writing score\",\"writing score\",\"writing score\",\"writing score\",\"writing score\",\"writing score\",\"writing score\",\"writing score\",\"writing score\",\"writing score\",\"writing score\",\"writing score\",\"writing score\",\"writing score\",\"writing score\",\"writing score\",\"writing score\",\"writing score\",\"writing score\",\"writing score\",\"writing score\",\"writing score\",\"writing score\",\"writing score\",\"writing score\",\"writing score\",\"writing score\",\"writing score\",\"writing score\",\"writing score\",\"writing score\",\"writing score\",\"writing score\",\"writing score\",\"writing score\",\"writing score\",\"writing score\",\"writing score\",\"writing score\",\"writing score\",\"writing score\",\"writing score\",\"writing score\",\"writing score\",\"writing score\",\"writing score\",\"writing score\",\"writing score\",\"writing score\",\"writing score\",\"writing score\",\"writing score\",\"writing score\",\"writing score\",\"writing score\",\"writing score\",\"writing score\",\"writing score\",\"writing score\",\"writing score\",\"writing score\",\"writing score\",\"writing score\",\"writing score\",\"writing score\",\"writing score\",\"writing score\",\"writing score\",\"writing score\",\"writing score\",\"writing score\",\"writing score\",\"writing score\",\"writing score\",\"writing score\",\"writing score\",\"writing score\",\"writing score\",\"writing score\",\"writing score\",\"writing score\",\"writing score\",\"writing score\",\"writing score\",\"writing score\",\"writing score\",\"writing score\",\"writing score\",\"writing score\",\"writing score\",\"writing score\",\"writing score\",\"writing score\",\"writing score\",\"writing score\",\"writing score\",\"writing score\",\"writing score\",\"writing score\",\"writing score\",\"writing score\",\"writing score\",\"writing score\",\"writing score\",\"writing score\",\"writing score\",\"writing score\",\"writing score\",\"writing score\",\"writing score\",\"writing score\",\"writing score\",\"writing score\",\"writing score\",\"writing score\",\"writing score\",\"writing score\",\"writing score\",\"writing score\",\"writing score\",\"writing score\",\"writing score\",\"writing score\",\"writing score\",\"writing score\",\"writing score\",\"writing score\",\"writing score\",\"writing score\",\"writing score\",\"writing score\",\"writing score\",\"writing score\",\"writing score\",\"writing score\",\"writing score\",\"writing score\",\"writing score\",\"writing score\",\"writing score\",\"writing score\",\"writing score\",\"writing score\",\"writing score\",\"writing score\",\"writing score\",\"writing score\",\"writing score\",\"writing score\",\"writing score\",\"writing score\",\"writing score\",\"writing score\",\"writing score\",\"writing score\",\"writing score\",\"writing score\",\"writing score\",\"writing score\",\"writing score\",\"writing score\",\"writing score\",\"writing score\",\"writing score\",\"writing score\",\"writing score\",\"writing score\",\"writing score\",\"writing score\",\"writing score\",\"writing score\",\"writing score\",\"writing score\",\"writing score\",\"writing score\",\"writing score\",\"writing score\",\"writing score\",\"writing score\",\"writing score\",\"writing score\",\"writing score\",\"writing score\",\"writing score\",\"writing score\",\"writing score\",\"writing score\",\"writing score\",\"writing score\",\"writing score\",\"writing score\",\"writing score\",\"writing score\",\"writing score\",\"writing score\",\"writing score\",\"writing score\",\"writing score\",\"writing score\",\"writing score\",\"writing score\",\"writing score\",\"writing score\",\"writing score\",\"writing score\",\"writing score\",\"writing score\",\"writing score\",\"writing score\",\"writing score\",\"writing score\",\"writing score\",\"writing score\",\"writing score\",\"writing score\",\"writing score\",\"writing score\",\"writing score\",\"writing score\",\"writing score\",\"writing score\",\"writing score\",\"writing score\",\"writing score\",\"writing score\",\"writing score\",\"writing score\",\"writing score\",\"writing score\",\"writing score\",\"writing score\",\"writing score\",\"writing score\",\"writing score\",\"writing score\",\"writing score\",\"writing score\",\"writing score\",\"writing score\",\"writing score\",\"writing score\",\"writing score\",\"writing score\",\"writing score\",\"writing score\",\"writing score\",\"writing score\",\"writing score\",\"writing score\",\"writing score\",\"writing score\",\"writing score\",\"writing score\",\"writing score\",\"writing score\",\"writing score\",\"writing score\",\"writing score\",\"writing score\",\"writing score\",\"writing score\",\"writing score\",\"writing score\",\"writing score\",\"writing score\",\"writing score\",\"writing score\",\"writing score\",\"writing score\",\"writing score\",\"writing score\",\"writing score\",\"writing score\",\"writing score\",\"writing score\",\"writing score\",\"writing score\",\"writing score\",\"writing score\",\"writing score\",\"writing score\",\"writing score\",\"writing score\",\"writing score\",\"writing score\",\"writing score\",\"writing score\",\"writing score\",\"writing score\",\"writing score\",\"writing score\",\"writing score\",\"writing score\",\"writing score\",\"writing score\",\"writing score\",\"writing score\",\"writing score\",\"writing score\",\"writing score\",\"writing score\",\"writing score\",\"writing score\",\"writing score\",\"writing score\",\"writing score\",\"writing score\",\"writing score\",\"writing score\",\"writing score\",\"writing score\",\"writing score\",\"writing score\",\"writing score\",\"writing score\",\"writing score\",\"writing score\",\"writing score\",\"writing score\",\"writing score\",\"writing score\",\"writing score\",\"writing score\",\"writing score\",\"writing score\",\"writing score\",\"writing score\",\"writing score\",\"writing score\",\"writing score\",\"writing score\",\"writing score\",\"writing score\",\"writing score\",\"writing score\",\"writing score\",\"writing score\",\"writing score\",\"writing score\",\"writing score\",\"writing score\",\"writing score\",\"writing score\",\"writing score\",\"writing score\",\"writing score\",\"writing score\",\"writing score\",\"writing score\",\"writing score\",\"writing score\",\"writing score\",\"writing score\",\"writing score\",\"writing score\",\"writing score\",\"writing score\",\"writing score\",\"writing score\",\"writing score\",\"writing score\",\"writing score\",\"writing score\",\"writing score\",\"writing score\",\"writing score\",\"writing score\",\"writing score\",\"writing score\",\"writing score\",\"writing score\",\"writing score\",\"writing score\",\"writing score\",\"writing score\",\"writing score\",\"writing score\",\"writing score\",\"writing score\",\"writing score\",\"writing score\",\"writing score\",\"writing score\",\"writing score\",\"writing score\",\"writing score\",\"writing score\",\"writing score\",\"writing score\",\"writing score\",\"writing score\",\"writing score\",\"writing score\",\"writing score\",\"writing score\",\"writing score\",\"writing score\",\"writing score\",\"writing score\",\"writing score\",\"writing score\",\"writing score\",\"writing score\",\"writing score\",\"writing score\",\"writing score\",\"writing score\",\"writing score\",\"writing score\",\"writing score\",\"writing score\",\"writing score\",\"writing score\",\"writing score\",\"writing score\",\"writing score\",\"writing score\",\"writing score\",\"writing score\",\"writing score\",\"writing score\",\"writing score\",\"writing score\",\"writing score\",\"writing score\",\"writing score\",\"writing score\",\"writing score\",\"writing score\",\"writing score\",\"writing score\",\"writing score\",\"writing score\",\"writing score\",\"writing score\",\"writing score\",\"writing score\",\"writing score\",\"writing score\",\"writing score\",\"writing score\",\"writing score\",\"writing score\",\"writing score\",\"writing score\",\"writing score\",\"writing score\",\"writing score\",\"writing score\",\"writing score\",\"writing score\",\"writing score\",\"writing score\",\"writing score\",\"writing score\",\"writing score\",\"writing score\",\"writing score\",\"writing score\",\"writing score\",\"writing score\",\"writing score\",\"writing score\",\"writing score\",\"writing score\",\"writing score\",\"writing score\",\"writing score\",\"writing score\",\"writing score\",\"writing score\",\"writing score\",\"writing score\",\"writing score\",\"writing score\",\"writing score\",\"writing score\",\"writing score\",\"writing score\",\"writing score\",\"writing score\",\"writing score\",\"writing score\",\"writing score\",\"writing score\",\"writing score\",\"writing score\",\"writing score\",\"writing score\",\"writing score\",\"writing score\",\"writing score\",\"writing score\",\"writing score\",\"writing score\",\"writing score\",\"writing score\",\"writing score\",\"writing score\",\"writing score\",\"writing score\",\"writing score\",\"writing score\",\"writing score\",\"writing score\",\"writing score\",\"writing score\",\"writing score\",\"writing score\",\"writing score\",\"writing score\",\"writing score\",\"writing score\",\"writing score\",\"writing score\",\"writing score\",\"writing score\",\"writing score\",\"writing score\",\"writing score\",\"writing score\",\"writing score\",\"writing score\",\"writing score\",\"writing score\",\"writing score\",\"writing score\",\"writing score\",\"writing score\",\"writing score\",\"writing score\",\"writing score\",\"writing score\",\"writing score\",\"writing score\",\"writing score\",\"writing score\",\"writing score\",\"writing score\",\"writing score\",\"writing score\",\"writing score\",\"writing score\",\"writing score\",\"writing score\",\"writing score\",\"writing score\",\"writing score\",\"writing score\",\"writing score\",\"writing score\",\"writing score\",\"writing score\",\"writing score\",\"writing score\",\"writing score\",\"writing score\",\"writing score\",\"writing score\",\"writing score\",\"writing score\",\"writing score\",\"writing score\",\"writing score\",\"writing score\",\"writing score\",\"writing score\",\"writing score\",\"writing score\",\"writing score\",\"writing score\",\"writing score\",\"writing score\",\"writing score\",\"writing score\",\"writing score\",\"writing score\",\"writing score\",\"writing score\",\"writing score\",\"writing score\",\"writing score\",\"writing score\",\"writing score\",\"writing score\",\"writing score\",\"writing score\",\"writing score\",\"writing score\",\"writing score\",\"writing score\",\"writing score\",\"writing score\",\"writing score\",\"writing score\",\"writing score\",\"writing score\",\"writing score\",\"writing score\",\"writing score\",\"writing score\",\"writing score\",\"writing score\",\"writing score\",\"writing score\",\"writing score\",\"writing score\",\"writing score\",\"writing score\",\"writing score\",\"writing score\",\"writing score\",\"writing score\",\"writing score\",\"writing score\",\"writing score\",\"writing score\",\"writing score\",\"writing score\",\"writing score\",\"writing score\",\"writing score\",\"writing score\",\"writing score\",\"writing score\",\"writing score\",\"writing score\",\"writing score\",\"writing score\",\"writing score\",\"writing score\",\"writing score\",\"writing score\",\"writing score\",\"writing score\",\"writing score\",\"writing score\",\"writing score\",\"writing score\",\"writing score\",\"writing score\",\"writing score\",\"writing score\",\"writing score\",\"writing score\",\"writing score\",\"writing score\",\"writing score\",\"writing score\",\"writing score\",\"writing score\",\"writing score\",\"writing score\",\"writing score\",\"writing score\",\"writing score\",\"writing score\",\"writing score\",\"writing score\",\"writing score\",\"writing score\",\"writing score\",\"writing score\",\"writing score\",\"writing score\",\"writing score\",\"writing score\",\"writing score\",\"writing score\",\"writing score\",\"writing score\",\"writing score\",\"writing score\",\"writing score\",\"writing score\",\"writing score\",\"writing score\",\"writing score\",\"writing score\",\"writing score\",\"writing score\",\"writing score\",\"writing score\",\"writing score\",\"writing score\",\"writing score\",\"writing score\",\"writing score\",\"writing score\",\"writing score\",\"writing score\",\"writing score\",\"writing score\",\"writing score\",\"writing score\",\"writing score\",\"writing score\",\"writing score\",\"writing score\",\"writing score\",\"writing score\",\"writing score\",\"writing score\",\"writing score\",\"writing score\",\"writing score\",\"writing score\",\"writing score\",\"writing score\",\"writing score\",\"writing score\",\"writing score\",\"writing score\",\"writing score\",\"writing score\",\"writing score\",\"writing score\",\"writing score\",\"writing score\",\"writing score\",\"writing score\",\"writing score\",\"writing score\",\"writing score\",\"writing score\",\"writing score\",\"writing score\",\"writing score\",\"writing score\",\"writing score\",\"writing score\",\"writing score\",\"writing score\",\"writing score\",\"writing score\",\"writing score\",\"writing score\",\"writing score\",\"writing score\",\"writing score\",\"writing score\",\"writing score\",\"writing score\",\"writing score\",\"writing score\",\"writing score\",\"writing score\",\"writing score\",\"writing score\",\"writing score\",\"writing score\",\"writing score\",\"writing score\",\"writing score\",\"writing score\",\"writing score\",\"writing score\",\"writing score\",\"writing score\",\"writing score\",\"writing score\",\"writing score\",\"writing score\",\"writing score\",\"writing score\",\"writing score\",\"writing score\",\"writing score\",\"writing score\",\"writing score\",\"writing score\",\"writing score\",\"writing score\",\"writing score\",\"writing score\",\"writing score\",\"writing score\",\"writing score\",\"writing score\",\"writing score\",\"writing score\",\"writing score\",\"writing score\",\"writing score\",\"writing score\",\"writing score\",\"writing score\",\"writing score\",\"writing score\",\"writing score\",\"writing score\",\"writing score\",\"writing score\",\"writing score\",\"writing score\",\"writing score\",\"writing score\",\"writing score\",\"writing score\",\"writing score\",\"writing score\",\"writing score\",\"writing score\",\"writing score\",\"writing score\",\"writing score\",\"writing score\",\"writing score\",\"writing score\",\"writing score\",\"writing score\",\"writing score\",\"writing score\",\"writing score\",\"writing score\",\"writing score\",\"writing score\",\"writing score\",\"writing score\",\"writing score\",\"writing score\",\"writing score\",\"writing score\",\"writing score\",\"writing score\",\"writing score\",\"writing score\",\"writing score\",\"writing score\",\"writing score\",\"writing score\",\"writing score\",\"writing score\",\"writing score\",\"writing score\",\"writing score\",\"writing score\",\"writing score\",\"writing score\",\"writing score\",\"writing score\",\"writing score\",\"writing score\",\"writing score\",\"writing score\",\"writing score\",\"writing score\",\"writing score\",\"writing score\",\"writing score\",\"writing score\",\"writing score\",\"writing score\",\"writing score\",\"writing score\",\"writing score\",\"writing score\",\"writing score\",\"writing score\",\"writing score\",\"writing score\",\"writing score\",\"writing score\",\"writing score\",\"writing score\",\"writing score\",\"writing score\",\"writing score\",\"writing score\",\"writing score\",\"writing score\",\"writing score\",\"writing score\",\"writing score\",\"writing score\",\"writing score\",\"writing score\",\"writing score\",\"writing score\",\"writing score\",\"writing score\",\"writing score\",\"writing score\",\"writing score\",\"writing score\",\"writing score\",\"writing score\",\"writing score\",\"writing score\",\"writing score\",\"writing score\",\"writing score\",\"writing score\",\"writing score\",\"writing score\",\"writing score\",\"writing score\",\"writing score\",\"writing score\",\"writing score\",\"writing score\",\"writing score\",\"writing score\",\"writing score\",\"writing score\",\"writing score\",\"writing score\",\"writing score\",\"writing score\",\"writing score\",\"writing score\",\"writing score\",\"writing score\",\"writing score\",\"writing score\",\"writing score\",\"writing score\",\"writing score\",\"writing score\",\"writing score\",\"writing score\",\"writing score\",\"writing score\",\"writing score\",\"writing score\",\"writing score\",\"writing score\",\"writing score\",\"writing score\",\"writing score\",\"writing score\",\"writing score\",\"writing score\",\"writing score\",\"writing score\",\"writing score\",\"writing score\",\"writing score\",\"writing score\",\"writing score\",\"writing score\",\"writing score\",\"writing score\",\"writing score\",\"writing score\",\"writing score\",\"writing score\",\"writing score\",\"writing score\",\"writing score\",\"writing score\",\"writing score\",\"writing score\",\"writing score\",\"writing score\",\"writing score\",\"writing score\",\"writing score\",\"writing score\",\"writing score\",\"writing score\",\"writing score\",\"writing score\",\"writing score\",\"writing score\",\"writing score\",\"writing score\",\"writing score\",\"writing score\",\"writing score\",\"writing score\",\"writing score\",\"writing score\",\"writing score\",\"writing score\",\"writing score\",\"writing score\",\"writing score\",\"writing score\",\"writing score\",\"writing score\",\"writing score\",\"writing score\",\"writing score\",\"writing score\",\"writing score\",\"writing score\",\"writing score\",\"writing score\",\"writing score\",\"writing score\",\"writing score\",\"writing score\",\"writing score\",\"writing score\",\"writing score\",\"writing score\",\"writing score\",\"writing score\",\"writing score\",\"writing score\",\"writing score\",\"writing score\",\"writing score\",\"writing score\",\"writing score\",\"writing score\",\"writing score\",\"writing score\",\"writing score\",\"writing score\",\"writing score\",\"writing score\",\"writing score\",\"writing score\",\"writing score\",\"writing score\",\"writing score\",\"writing score\",\"writing score\",\"writing score\",\"writing score\",\"writing score\",\"writing score\",\"writing score\",\"writing score\",\"writing score\",\"writing score\",\"writing score\",\"writing score\",\"writing score\",\"writing score\",\"writing score\",\"writing score\",\"writing score\",\"writing score\",\"writing score\",\"writing score\",\"writing score\",\"writing score\",\"writing score\",\"writing score\",\"writing score\",\"writing score\",\"writing score\",\"writing score\",\"writing score\",\"writing score\",\"writing score\",\"writing score\",\"writing score\",\"writing score\",\"writing score\",\"writing score\",\"writing score\",\"writing score\",\"writing score\",\"writing score\",\"writing score\",\"writing score\",\"writing score\",\"writing score\",\"writing score\",\"writing score\",\"writing score\",\"writing score\",\"writing score\",\"writing score\",\"writing score\",\"writing score\",\"writing score\",\"writing score\",\"writing score\",\"writing score\",\"writing score\",\"writing score\",\"writing score\",\"writing score\",\"writing score\",\"writing score\",\"writing score\",\"writing score\",\"writing score\",\"writing score\",\"writing score\",\"writing score\",\"writing score\",\"writing score\",\"writing score\",\"writing score\",\"writing score\",\"writing score\",\"writing score\",\"writing score\",\"writing score\",\"writing score\",\"writing score\",\"writing score\",\"writing score\",\"writing score\",\"writing score\",\"writing score\",\"writing score\",\"writing score\",\"writing score\",\"writing score\",\"writing score\",\"writing score\",\"writing score\",\"writing score\",\"writing score\",\"writing score\",\"writing score\",\"writing score\",\"writing score\",\"writing score\",\"writing score\",\"writing score\",\"writing score\",\"writing score\",\"writing score\",\"writing score\",\"writing score\",\"writing score\",\"writing score\",\"writing score\",\"writing score\",\"writing score\",\"writing score\",\"writing score\",\"writing score\",\"writing score\",\"writing score\"],\"x0\":\" \",\"xaxis\":\"x\",\"y\":[37,124,156,80,131,73,81,94,71,75,124,188,193,34,193,63,94,65,95,52,62,74,142,124,62,73,46,82,124,63,64,80,124,131,\"\",93,69,46,86,59,84,64,73,83,131,75,69,68,193,57,66,61,40,50,48,36,78,196,57,122,196,69,124,40,92,188,35,63,193,73,63,52,131,73,63,124,71,45,85,80,40,82,188,77,91,\"\",196,60,63,40,174,57,58,147,188,97,81,68,59,96,87,57,193,193,142,94,97,124,65,82,72,62,44,49,196,82,75,193,59,75,72,68,193,124,66,196,\"\",67,93,69,142,63,46,66,193,49,62,182,48,\"\",71,193,147,193,54,80,55,193,90,94,81,34,193,53,124,61,75,74,62,70,60,59,193,62,53,80,69,69,69,49,43,83,65,73,68,64,54,65,193,49,58,66,65,65,193,70,79,50,193,188,64,124,68,32,68,58,19,193,69,72,53,64,61,78,53,45,44,196,83,65,88,88,91,84,51,196,196,\"\",38,193,47,66,61,60,71,45,77,53,193,193,57,124,193,131,193,72,76,45,193,99,51,64,52,80,51,193,193,196,50,64,74,196,71,57,69,77,193,75,196,43,80,193,\"\",122,59,85,55,44,42,58,61,50,64,88,73,95,124,174,67,97,61,62,79,54,66,193,174,193,174,78,193,85,84,76,44,122,81,54,58,124,81,35,72,71,61,66,71,71,89,73,81,46,22,124,48,124,44,79,91,76,124,54,77,62,67,131,196,86,58,53,57,182,69,76,78,69,124,62,37,196,88,90,57,193,68,65,63,124,52,48,65,54,50,124,193,122,40,29,26,70,196,75,53,64,60,98,93,59,46,\"\",76,79,28,55,61,142,196,193,193,35,193,94,193,46,100,67,49,193,50,79,142,71,\"\",83,55,193,48,76,77,79,193,62,56,124,68,84,124,80,62,124,60,64,29,52,53,131,67,82,56,79,142,73,66,52,52,73,66,84,82,193,74,193,76,81,79,124,68,128,63,142,124,\"\",50,196,196,72,85,196,83,84,65,\"\",85,70,58,86,64,65,124,61,193,49,53,97,196,75,72,124,74,59,68,78,53,57,72,99,\"\",79,91,83,\"\",72,142,188,\"\",61,73,59,100,61,77,71,49,62,193,86,75,\"\",58,47,\"\",131,193,63,69,\"\",70,68,61,71,122,124,142,81,100,84,77,53,71,73,193,65,124,193,49,52,65,59,80,193,62,57,46,58,67,73,72,40,78,63,61,79,77,70,53,156,151,76,45,40,193,82,124,193,78,75,70,55,39,188,\"\",70,30,75,63,82,74,54,124,71,196,142,73,77,77,87,87,74,67,43,49,42,49,\"\",124,193,53,64,64,196,61,79,\"\",69,54,65,77,58,49,73,124,54,142,54,64,\"\",59,76,75,85,131,97,193,188,53,52,142,77,79,57,87,66,193,193,63,65,64,124,68,55,72,86,142,35,97,124,75,52,74,70,39,61,193,44,193,32,193,77,49,87,193,66,68,196,193,65,62,81,196,70,124,\"\",74,94,142,193,76,59,156,68,124,193,193,73,\"\",193,124,100,131,8,65,40,48,89,77,193,65,69,68,49,62,50,56,46,124,38,53,142,193,60,91,90,73,70,47,65,81,55,93,142,193,124,142,65,131,62,48,196,68,66,55,42,54,74,37,66,88,69,166,61,193,39,87,142,64,44,131,59,80,33,71,76,53,78,55,70,65,193,86,47,54,41,193,78,83,54,90,59,65,\"\",67,193,\"\",89,59,73,74,86,55,61,57,58,42,45,\"\",63,61,81,92,193,67,94,56,62,70,142,70,76,64,47,66,86,40,66,68,51,45,88,90,52,49,53,171,193,71,50,58,42,67,39,85,62,78,73,68,89,40,82,69,\"\",77,69,79,53,43,58,76,40,88,69,49,85,69,72,57,58,62,62,142,142,75,88,81,193,\"\",193,67,142,67,166,74,188,74,95,71,193,85,193,124,131,188,142,196,56,82,124,85,60,63,51,50,81,64,87,46,58,62,76,60,193,50,124,193,142,77,124,64,\"\",61,60,193,67,64,193,196,90,59,53,48,193,35,60,82,58,60,66,\"\",85,124,49,77,67,69,131,50,62,83,81,92,70,72,92,51,156,87,71,59,193,124,88,61,193,82,193,71,75,43,142,51,62,75,63,174,71,67,71,61,56,98,82,75,59,193,71,44,77,65,196,57,60,27,58,70,38,42,100,193,89,35,74,77,62,79,124,46,74,196,59,66,124,47,142,77,78,52,\"\",70,193,58,193,68,69,87,52,72,85,196,41,61,67,54,75,80,63,52,62,58,62,65,74,182,142,142,79,49,68,63,52,59,55,66,38,193,193,74,91,64,142,74,142,81,79,142,90,142,124,\"\",54,78,46,193,88,62,193,80,124,142,80,71,64,75,60,68,88,55,50,124,97,42,\"\",188,49,69,40,122,42,196,58,24,48,124,67,59,193,59,96,45,88,72,166,61,81,59,73,193,79,68,193,47,124,64,49,124,54,71,\"\",59,89,37,59,\"\",57,47,77,62,77,51,131,69,74,60,76,51,32,124,193,73,49,76,193,64,62,63,156,50,44,66,67,142,142,61,75,147,69,76,65,53,87,53,\"\",66,196,49,67,55,30,73,62,79,63,52,193,58,124,142,193,78,81,142,193,74,68,82,73,35,142,59,74,62,49,84,67,81,33,142,59,87,77,58,69,\"\",65,92,87,69,\"\",73,61,55,67,193,69,74,64,56,36,41,142,124,49,59,34,142,84,76,142,61,193,193,62,87,67,54,59,68,67,91,142,80,96,68,193,156,30,124,\"\",74,71,35,81,53,49,147,40,80,76,142,76,29,196,63,57,58,\"\",72,196,55,53,\"\",80,41,55,51,85,81,52,18,193,73,48,56,142,124,63,58,32,59,193,142,193,63,142,63,80,60,64,98,59,65,193,87,66,52,193,28,174,73,87,79,60,81,74,196,69,47,47,79,82,92,57,41,49,88,79,59,71,193,81,65,82,65,40,73,156,56,69,193,67,91,67,188,124,87,124,65,124,58,55,48,88,53,85,193,62,65,82,62,63,84,193,131,77,50,69,0,188,193,65,79,69,193,72,100,65,47,99,51,71,124,82,91,55,75,66,95,72,70,57,84,193,61,45,65,27,88,65,63,78,193,65,90,100,67,74,76,193,66,59,62,41,124,29,69,124,23,193,66,54,193,68,46,142,196,78,166,66,75,86,61,68,196,131,193,48,171,61,73,78,142,76,65,74,\"\",142,57,69,42,82,193,61,73,75,\"\",97,\"\",100,76,61,81,72,83,64,76,86,124,88,74,72,142,61,64,61,59,67,62,29,79,142,67,124,\"\",58,142,55,87,193,28,67,128,74,64,59,142,79,73,196,60,59,92,76,196,85,193,94,85,193,142,62,48,48,193,54,54,193,188,82,82,65,71,90,84,75,193,142,193,88,93,142,81,93,57,74,54,193,\"\",84,90,193,41,73,68,78,193,\"\",74,124,193,62,90,63,124,74,64,68,124,\"\",73,142,56,193,70,124,124,142,72,83,59,\"\",87,99,73,42,\"\",43,64,68,85,81,72,78,70,51,188,72,50,85,66,78,77,45,60,93,61,64,83,66,61,77,171,57,67,78,70,79,142,68,81,67,193,142,54,124,60,51,51,57,38,193,77,79,58,188,51,72,62,56,51,193,83,76,78,95,89,87,66,196,193,193,49,193,53,57,73,68,71,63,86,58,142,124,51,151,193,171,193,64,71,48,193,93,72,60,61,73,54,128,142,124,48,73,74,95,77,74,70,90,196,74,124,51,68,\"\",142,166,72,81,76,63,62,59,47,66,64,74,78,193,196,142,86,100,58,64,81,63,71,142,124,\"\",124,91,196,75,84,94,61,193,84,49,63,193,82,174,81,49,42,77,76,66,88,83,81,34,39,124,52,147,64,82,81,80,193,59,78,72,64,188,196,81,70,52,58,124,73,70,87,64,142,66,57,193,89,75,56,124,70,75,69,193,57,43,54,54,53,193,142,193,59,41,31,75,124,74,39,124,57,87,84,54,54,193,64,88,23,71,57,142,124,64,124,53,124,85,124,58,100,80,196,124,47,84,124,81,124,82,64,\"\",58,73,77,79,\"\",78,68,193,86,77,49,75,70,174,66,62,40,65,61,124,61,95,79,76,196,68,74,66,67,86,65,73,75,124,77,\"\",71,72,89,124,71,193,78,193,\"\",193,56,\"\",193,65,92,142,78,95,77,\"\",86,70,63,80,82,81,193,55,\"\",51,51,97,\"\",72,73,196,79,67,68,77,58,78,57,100,193,89,73,72,193,79,156,196,142,62,74,54,96,66,79,67,53,61,156,92,81,\"\",62,59,142,\"\",64,75,67,193,75,63,56,66,95,156,156,97,100,77,90,44,83,68,\"\",82,193,171,49,59,75,60,64,142,49,43,43,73,54,66,72,43,83,65,72,74,82,84,54,196,42,62,53,58,\"\",85,64,196,72,66,64,55,42,142,49,89,26,84,64,82,81,59,147,84,156,124,84,88,88,84,74,73,64,62,52,193,65,142,124,193,54,53,131,193,86,92,156,71,52,86,91,61,63,76,193,64,188,53,58,196,72,74,69,84,193,92,142,193,70,55,142,76,72,77,85,69,193,124,73,85,124,193,67,58,66,76,193,55,87,124,68,49,70,82,52,74,196,50,156,151,193,90,193,84,193,65,77,182,182,67,67,66,142,63,193,182,75,90,193,196,78,70,188,68,193,131,193,66,142,196,142,100,131,24,64,65,66,84,82,64,73,77,72,51,69,50,68,56,\"\",142,55,147,182,51,95,90,56,72,49,65,77,46,100,196,188,193,193,70,124,61,45,193,59,69,46,55,65,77,56,63,78,77,196,71,64,64,100,124,63,41,193,78,79,142,87,87,58,81,73,70,69,131,73,49,52,51,193,81,80,64,90,58,81,142,79,64,124,84,63,71,90,83,56,58,78,52,193,37,193,63,70,91,100,142,73,87,52,66,65,122,74,83,74,54,74,85,52,74,74,31,73,84,95,57,53,52,142,156,74,48,55,52,57,39,90,61,74,78,70,100,42,67,80,142,85,84,86,62,45,55,85,42,77,70,50,91,60,80,50,61,67,63,142,142,77,99,91,124,142,142,78,193,69,147,71,193,79,81,74,193,84,193,124,166,193,142,\"\",54,62,\"\",84,64,72,52,64,75,193,85,43,68,55,72,68,\"\",42,124,196,64,89,188,50,\"\",68,59,142,57,73,193,193,85,73,45,56,193,28,70,90,67,75,59,193,95,193,52,69,76,79,131,60,56,85,71,100,56,79,100,63,156,73,70,52,193,142,99,64,193,93,193,69,82,53,193,49,55,81,55,196,83,72,83,56,61,86,84,88,62,64,75,45,68,76,142,48,60,34,50,64,43,66,92,142,76,44,72,62,64,82,156,41,64,124,70,77,193,37,142,68,77,48,\"\",71,156,57,142,54,72,94,53,80,89,133,39,71,89,48,81,90,63,58,55,60,67,77,88,193,193,151,73,196,68,80,70,42,47,60,60,196,42,76,86,64,193,63,196,74,82,\"\",78,193,193,142,58,82,43,196,92,67,196,86,124,193,63,79,85,86,72,60,75,61,60,\"\",166,61,193,124,193,75,196,142,39,\"\",75,38,51,193,84,62,142,62,96,47,85,67,171,67,80,53,76,\"\",85,75,142,62,196,79,58,193,60,71,174,58,87,45,85,193,58,43,67,68,67,58,147,77,71,63,78,60,34,193,188,78,57,62,142,76,64,78,156,53,51,62,84,193,156,60,58,128,84,76,73,72,90,66,142,83,193,65,74,72,24,92,62,60,57,65,193,76,193,142,49,90,86,193,193,89,76,97,70,124,122,66,86,68,193,83,86,88,41,147,65,95,97,51,66,\"\",66,100,74,54,193,67,60,59,81,193,90,81,60,65,53,52,193,193,58,69,42,196,87,83,171,72,142,\"\",67,89,75,64,63,67,84,74,188,80,100,64,124,142,26,193,193,75,76,61,78,37,193,193,182,76,71,188,70,142,196,71,68,70,\"\",66,\"\",65,71,193,92,55,69,56,76,92,59,32,193,79,54,58,196,\"\",67,49,39,73,156,156,193,60,\"\",73,90,44,56,100,71,69,49,91,76,55,124,182,193,75,84,67,72,78,79,142,60,58,46,77,80,79,69,45,58,95,78,70,62,174,81,81,78,69,46,80,188,72,58,122,72,96,75,193,49,100,193,74,142,59,41,58,93,61,66,142,67,84,82,70,61,80,174,142,62,64,65,17,193,196,67,86,86,193,67,100,58,57,87,51,74,\"\",82,96,65,82,66,89,72,55,56,89,196,48,52,59,34,73,82,66,81,124,72,87,97,74,75,67,147,72,64,76,46,64,29,75,193,44,142,74,61,196,80,46,142,193,81,166,63,76,87,69,64,193,193,193,41,131,61,71,82,147,70,58,72,193,124,62,68,46,74,193,60,68,77,\"\",124,142,100,74,55,80,70,75,67,78,88,124,85,74,65,124,54,62,62,54,63,60,27,76,142,72,193,193,57,124,53,78,142,27,70,188,61,67,65,193,79,71,196,61,64,85,65,196,87,193,95,85,122,196,60,47,50,182,56,52,124,142,88,82,61,65,92,86,73,196,124,193,78,91,124,81,93,58,70,53,142,\"\",78,88,193,42,74,67,77,\"\",193,78,142,\"\",60,83,61,196,74,66,64,193,142,70,193,51,142,70,193,196,124,59,83,54,\"\",85,100,72,151,124,43,193,63,82,71,65,78,74,43,188,74,60,85,61,76,77,45,58,95,71,57,78,59,58,74,193,46,62,78,74,81,193,72,82,73,128,124,50,124,59,44,57,54,32,142,73,74,57,193,52,69,53,54,48,124,90,75,83,94,92,91,62,64,124,193,45,193,58,52,63,60,74,59,86,55,131,142,54,193,193,196,193,63,73,46,156,90,79,58,66,72,41,122,142,193,42,70,72,131,77,76,67,85,\"\",66,142,54,72,193,196,166,68,85,76,62,60,58,56,64,\"\",75,72,193,196,196,83,100,56,66,71,67,76,142,193,\"\",124,96,188,68,80,87,52,142,82,47,65,124,84,142,79,52,41,73,83,65,82,76,79,36,33,\"\",45,193,58,80,79,73,142,62,73,70,61,196,196,75,68,49,64,124,73,68,91,68,142,68,56,193,86,69,57,142,66,70,74,128,56,45,57,45,58,193,156,193,51,47,38,78,193,69,37,124,51,90,90,51,58,142,66,94,19,69,56,193,\"\",193,174,46,196,82,124,57,100,81,193,131,54,91,193,80,142,84,70,156,52,68,73,78,142,79,70,193,84,74,193,69,75,193,70,68,44,69,68,193,68,89,72,65,196,66,69,73,72,82,69,69,77,142,73,124,72,77,86,142,75,\"\",80,142,156,124,54,193,193,68,93,193,73,92,74,142,98,70,73,75,77,81,124,52,193,51,51,96,\"\",62,74,196,75,61,67,77,44,67,62,100,142,89,80,78,64,77,124,196,142,61,72,67,86,61,80,67,53,55,\"\",87,71,\"\",59,50,142,124,\"\",81,69,147,74,54,55,60,193,196,\"\",96,93,71,91,42,83,66,193,81,124,147,41,56,77,58,66,124,52,47,41,68,63,62,71,39,80,61,70,72,89,81,48,193,38,60,55,54,\"\",86,124,196,70,73,72,47,38,131,49,88,22,80,66,80,83,50,131,87,\"\",\"\",85,87,85,87,70,67,70,61,51,142,61,193,\"\",193,48,57,193,147,87,89,\"\",65,52,80,88,52,56,80,193,68,156,47,51,193,80,73,68,89,193,86,142,142,70,57,193,77,69,80,73,63,124,124,78,76,196,193,73,52,66,74,142,60,82,193,65,46,69,76,46,72,38,51,\"\",33,142,84,193,85,193,60,80,\"\",42,65,58,64,\"\",58,131,142,83,91,193,97,80,66,193,64,\"\",193,193,66,156,124,193,100,193,23,62,64,65,82,91,\"\",75,69,64,43,69,47,74,57,124,193,48,147,193,56,94,91,57,76,50,63,79,44,95,193,193,193,193,71,131,57,41,193,62,68,43,54,65,76,47,64,75,78,196,73,193,57,95,131,66,38,124,76,79,182,82,85,65,86,73,65,76,124,70,49,51,48,\"\",80,73,65,82,59,73,193,84,142,\"\",77,75,68,88,86,51,62,79,54,193,37,42,62,76,89,97,124,68,92,55,68,60,171,71,88,75,53,73,91,43,81,74,36,70,75,93,50,52,42,124,156,64,53,53,51,53,34,92,58,72,76,66,100,38,61,71,193,87,85,92,56,50,48,82,38,77,63,52,89,54,83,54,66,69,56,188,193,83,100,87,156,196,188,79,124,75,171,78,193,82,84,68,196,78,142,193,166,156,142,156,52,62,142,82,74,70,44,66,78,193,93,44,61,55,71,72,\"\",48,174,193,193,98,142,43,193,66,54,\"\",59,71,124,196,84,72,40,58,193,27,70,94,72,74,52,\"\",100,42,54,68,75,81,193,59,53,90,73,100,51,82,100,61,124,72,76,46,\"\",193,95,62,193,93,196,68,79,53,\"\",51,49,84,63,196,78,74,77,56,60,90,82,85,64,174,70,45,69,76,193,51,60,36,45,70,43,69,97,193,74,43,72,62,64,82,64,43,60,193,65,70,193,35,193,77,80,49,124,74,124,53,\"\",53,77,95,49,75,95,36,34,78,82,52,74,89,60,58,54,57,67,74,90,193,124,34,67,196,61,80,62,41,44,57,50,193,142,73,84,70,\"\",57,196,71,73,\"\",81,193,124,196,61,79,42,142,95,62,193,83,193,188,63,71,85,79,74,53,76,54,60,\"\",196,58,142,142,196,78,124,128,34,142,77,27,46,142,86,69,193,61,99,49,76,65,128,66,76,52,78,156,86,81,193,66,193,77,55,193,63,80,\"\",47,79,38,80,193,57,41,64,75,68,54,142,77,80,59,75,58,38,196,131,74,52,66,\"\",74,55,79,193,55,55,64,81,64,193,55,62,142,82,74,68,64,88,73,188,83,49,55,77,79,15,84,63,65,56,61,124,78,193,124,42,93,87,193,193,84,67,96,75,193,124,67,89,68,124,78,83,90,43,193,66,86,94,52,60,124,62,99,76,55,193,59,57,59,79,\"\",88,76,74,63,43,51,\"\",193,60,65,39,40,81,79,166,70,128,124,61,94,70,67,64,69,84,76,193,72,100,66,124,188,22,193,124,82,70,54,78,40,142,193,151,64,67,147,69,\"\",182,69,73,67,\"\",72,64,62,67,142,88,51,65,53,71,91,62,28,193,84,53,64,124,\"\",67,42,33,69,\"\",193,193,57,\"\",68,82,47,52,99,70,67,193,81,68,49,124,124,193,80,76,67,68,81,80,124,63,67,42,75,77,84,68,40,60,92,77,73,50,124,84,77,74,70,50,82,193,65,53,131,67,91,72,124,\"\",100,193,77,193,66,48,54,93,62,71,196,64,84,80,72,54,80,193,193,64,59,74,10,193,142,62,81,81,193,64,100,49,44,81,54,68,193,88,92,62,90,59,92,74,56,54,90,193,46,49,53,32,78,78,67,82,193,74,75,99,70,79,67,131,70,75,80,43,193,30,71,49,36,193,81,62,193,76],\"y0\":\" \",\"yaxis\":\"y\",\"type\":\"box\"}],                        {\"template\":{\"data\":{\"histogram2dcontour\":[{\"type\":\"histogram2dcontour\",\"colorbar\":{\"outlinewidth\":0,\"ticks\":\"\"},\"colorscale\":[[0.0,\"#0d0887\"],[0.1111111111111111,\"#46039f\"],[0.2222222222222222,\"#7201a8\"],[0.3333333333333333,\"#9c179e\"],[0.4444444444444444,\"#bd3786\"],[0.5555555555555556,\"#d8576b\"],[0.6666666666666666,\"#ed7953\"],[0.7777777777777778,\"#fb9f3a\"],[0.8888888888888888,\"#fdca26\"],[1.0,\"#f0f921\"]]}],\"choropleth\":[{\"type\":\"choropleth\",\"colorbar\":{\"outlinewidth\":0,\"ticks\":\"\"}}],\"histogram2d\":[{\"type\":\"histogram2d\",\"colorbar\":{\"outlinewidth\":0,\"ticks\":\"\"},\"colorscale\":[[0.0,\"#0d0887\"],[0.1111111111111111,\"#46039f\"],[0.2222222222222222,\"#7201a8\"],[0.3333333333333333,\"#9c179e\"],[0.4444444444444444,\"#bd3786\"],[0.5555555555555556,\"#d8576b\"],[0.6666666666666666,\"#ed7953\"],[0.7777777777777778,\"#fb9f3a\"],[0.8888888888888888,\"#fdca26\"],[1.0,\"#f0f921\"]]}],\"heatmap\":[{\"type\":\"heatmap\",\"colorbar\":{\"outlinewidth\":0,\"ticks\":\"\"},\"colorscale\":[[0.0,\"#0d0887\"],[0.1111111111111111,\"#46039f\"],[0.2222222222222222,\"#7201a8\"],[0.3333333333333333,\"#9c179e\"],[0.4444444444444444,\"#bd3786\"],[0.5555555555555556,\"#d8576b\"],[0.6666666666666666,\"#ed7953\"],[0.7777777777777778,\"#fb9f3a\"],[0.8888888888888888,\"#fdca26\"],[1.0,\"#f0f921\"]]}],\"heatmapgl\":[{\"type\":\"heatmapgl\",\"colorbar\":{\"outlinewidth\":0,\"ticks\":\"\"},\"colorscale\":[[0.0,\"#0d0887\"],[0.1111111111111111,\"#46039f\"],[0.2222222222222222,\"#7201a8\"],[0.3333333333333333,\"#9c179e\"],[0.4444444444444444,\"#bd3786\"],[0.5555555555555556,\"#d8576b\"],[0.6666666666666666,\"#ed7953\"],[0.7777777777777778,\"#fb9f3a\"],[0.8888888888888888,\"#fdca26\"],[1.0,\"#f0f921\"]]}],\"contourcarpet\":[{\"type\":\"contourcarpet\",\"colorbar\":{\"outlinewidth\":0,\"ticks\":\"\"}}],\"contour\":[{\"type\":\"contour\",\"colorbar\":{\"outlinewidth\":0,\"ticks\":\"\"},\"colorscale\":[[0.0,\"#0d0887\"],[0.1111111111111111,\"#46039f\"],[0.2222222222222222,\"#7201a8\"],[0.3333333333333333,\"#9c179e\"],[0.4444444444444444,\"#bd3786\"],[0.5555555555555556,\"#d8576b\"],[0.6666666666666666,\"#ed7953\"],[0.7777777777777778,\"#fb9f3a\"],[0.8888888888888888,\"#fdca26\"],[1.0,\"#f0f921\"]]}],\"surface\":[{\"type\":\"surface\",\"colorbar\":{\"outlinewidth\":0,\"ticks\":\"\"},\"colorscale\":[[0.0,\"#0d0887\"],[0.1111111111111111,\"#46039f\"],[0.2222222222222222,\"#7201a8\"],[0.3333333333333333,\"#9c179e\"],[0.4444444444444444,\"#bd3786\"],[0.5555555555555556,\"#d8576b\"],[0.6666666666666666,\"#ed7953\"],[0.7777777777777778,\"#fb9f3a\"],[0.8888888888888888,\"#fdca26\"],[1.0,\"#f0f921\"]]}],\"mesh3d\":[{\"type\":\"mesh3d\",\"colorbar\":{\"outlinewidth\":0,\"ticks\":\"\"}}],\"scatter\":[{\"fillpattern\":{\"fillmode\":\"overlay\",\"size\":10,\"solidity\":0.2},\"type\":\"scatter\"}],\"parcoords\":[{\"type\":\"parcoords\",\"line\":{\"colorbar\":{\"outlinewidth\":0,\"ticks\":\"\"}}}],\"scatterpolargl\":[{\"type\":\"scatterpolargl\",\"marker\":{\"colorbar\":{\"outlinewidth\":0,\"ticks\":\"\"}}}],\"bar\":[{\"error_x\":{\"color\":\"#2a3f5f\"},\"error_y\":{\"color\":\"#2a3f5f\"},\"marker\":{\"line\":{\"color\":\"#E5ECF6\",\"width\":0.5},\"pattern\":{\"fillmode\":\"overlay\",\"size\":10,\"solidity\":0.2}},\"type\":\"bar\"}],\"scattergeo\":[{\"type\":\"scattergeo\",\"marker\":{\"colorbar\":{\"outlinewidth\":0,\"ticks\":\"\"}}}],\"scatterpolar\":[{\"type\":\"scatterpolar\",\"marker\":{\"colorbar\":{\"outlinewidth\":0,\"ticks\":\"\"}}}],\"histogram\":[{\"marker\":{\"pattern\":{\"fillmode\":\"overlay\",\"size\":10,\"solidity\":0.2}},\"type\":\"histogram\"}],\"scattergl\":[{\"type\":\"scattergl\",\"marker\":{\"colorbar\":{\"outlinewidth\":0,\"ticks\":\"\"}}}],\"scatter3d\":[{\"type\":\"scatter3d\",\"line\":{\"colorbar\":{\"outlinewidth\":0,\"ticks\":\"\"}},\"marker\":{\"colorbar\":{\"outlinewidth\":0,\"ticks\":\"\"}}}],\"scattermapbox\":[{\"type\":\"scattermapbox\",\"marker\":{\"colorbar\":{\"outlinewidth\":0,\"ticks\":\"\"}}}],\"scatterternary\":[{\"type\":\"scatterternary\",\"marker\":{\"colorbar\":{\"outlinewidth\":0,\"ticks\":\"\"}}}],\"scattercarpet\":[{\"type\":\"scattercarpet\",\"marker\":{\"colorbar\":{\"outlinewidth\":0,\"ticks\":\"\"}}}],\"carpet\":[{\"aaxis\":{\"endlinecolor\":\"#2a3f5f\",\"gridcolor\":\"white\",\"linecolor\":\"white\",\"minorgridcolor\":\"white\",\"startlinecolor\":\"#2a3f5f\"},\"baxis\":{\"endlinecolor\":\"#2a3f5f\",\"gridcolor\":\"white\",\"linecolor\":\"white\",\"minorgridcolor\":\"white\",\"startlinecolor\":\"#2a3f5f\"},\"type\":\"carpet\"}],\"table\":[{\"cells\":{\"fill\":{\"color\":\"#EBF0F8\"},\"line\":{\"color\":\"white\"}},\"header\":{\"fill\":{\"color\":\"#C8D4E3\"},\"line\":{\"color\":\"white\"}},\"type\":\"table\"}],\"barpolar\":[{\"marker\":{\"line\":{\"color\":\"#E5ECF6\",\"width\":0.5},\"pattern\":{\"fillmode\":\"overlay\",\"size\":10,\"solidity\":0.2}},\"type\":\"barpolar\"}],\"pie\":[{\"automargin\":true,\"type\":\"pie\"}]},\"layout\":{\"autotypenumbers\":\"strict\",\"colorway\":[\"#636efa\",\"#EF553B\",\"#00cc96\",\"#ab63fa\",\"#FFA15A\",\"#19d3f3\",\"#FF6692\",\"#B6E880\",\"#FF97FF\",\"#FECB52\"],\"font\":{\"color\":\"#2a3f5f\"},\"hovermode\":\"closest\",\"hoverlabel\":{\"align\":\"left\"},\"paper_bgcolor\":\"white\",\"plot_bgcolor\":\"#E5ECF6\",\"polar\":{\"bgcolor\":\"#E5ECF6\",\"angularaxis\":{\"gridcolor\":\"white\",\"linecolor\":\"white\",\"ticks\":\"\"},\"radialaxis\":{\"gridcolor\":\"white\",\"linecolor\":\"white\",\"ticks\":\"\"}},\"ternary\":{\"bgcolor\":\"#E5ECF6\",\"aaxis\":{\"gridcolor\":\"white\",\"linecolor\":\"white\",\"ticks\":\"\"},\"baxis\":{\"gridcolor\":\"white\",\"linecolor\":\"white\",\"ticks\":\"\"},\"caxis\":{\"gridcolor\":\"white\",\"linecolor\":\"white\",\"ticks\":\"\"}},\"coloraxis\":{\"colorbar\":{\"outlinewidth\":0,\"ticks\":\"\"}},\"colorscale\":{\"sequential\":[[0.0,\"#0d0887\"],[0.1111111111111111,\"#46039f\"],[0.2222222222222222,\"#7201a8\"],[0.3333333333333333,\"#9c179e\"],[0.4444444444444444,\"#bd3786\"],[0.5555555555555556,\"#d8576b\"],[0.6666666666666666,\"#ed7953\"],[0.7777777777777778,\"#fb9f3a\"],[0.8888888888888888,\"#fdca26\"],[1.0,\"#f0f921\"]],\"sequentialminus\":[[0.0,\"#0d0887\"],[0.1111111111111111,\"#46039f\"],[0.2222222222222222,\"#7201a8\"],[0.3333333333333333,\"#9c179e\"],[0.4444444444444444,\"#bd3786\"],[0.5555555555555556,\"#d8576b\"],[0.6666666666666666,\"#ed7953\"],[0.7777777777777778,\"#fb9f3a\"],[0.8888888888888888,\"#fdca26\"],[1.0,\"#f0f921\"]],\"diverging\":[[0,\"#8e0152\"],[0.1,\"#c51b7d\"],[0.2,\"#de77ae\"],[0.3,\"#f1b6da\"],[0.4,\"#fde0ef\"],[0.5,\"#f7f7f7\"],[0.6,\"#e6f5d0\"],[0.7,\"#b8e186\"],[0.8,\"#7fbc41\"],[0.9,\"#4d9221\"],[1,\"#276419\"]]},\"xaxis\":{\"gridcolor\":\"white\",\"linecolor\":\"white\",\"ticks\":\"\",\"title\":{\"standoff\":15},\"zerolinecolor\":\"white\",\"automargin\":true,\"zerolinewidth\":2},\"yaxis\":{\"gridcolor\":\"white\",\"linecolor\":\"white\",\"ticks\":\"\",\"title\":{\"standoff\":15},\"zerolinecolor\":\"white\",\"automargin\":true,\"zerolinewidth\":2},\"scene\":{\"xaxis\":{\"backgroundcolor\":\"#E5ECF6\",\"gridcolor\":\"white\",\"linecolor\":\"white\",\"showbackground\":true,\"ticks\":\"\",\"zerolinecolor\":\"white\",\"gridwidth\":2},\"yaxis\":{\"backgroundcolor\":\"#E5ECF6\",\"gridcolor\":\"white\",\"linecolor\":\"white\",\"showbackground\":true,\"ticks\":\"\",\"zerolinecolor\":\"white\",\"gridwidth\":2},\"zaxis\":{\"backgroundcolor\":\"#E5ECF6\",\"gridcolor\":\"white\",\"linecolor\":\"white\",\"showbackground\":true,\"ticks\":\"\",\"zerolinecolor\":\"white\",\"gridwidth\":2}},\"shapedefaults\":{\"line\":{\"color\":\"#2a3f5f\"}},\"annotationdefaults\":{\"arrowcolor\":\"#2a3f5f\",\"arrowhead\":0,\"arrowwidth\":1},\"geo\":{\"bgcolor\":\"white\",\"landcolor\":\"#E5ECF6\",\"subunitcolor\":\"white\",\"showland\":true,\"showlakes\":true,\"lakecolor\":\"white\"},\"title\":{\"x\":0.05},\"mapbox\":{\"style\":\"light\"}}},\"xaxis\":{\"anchor\":\"y\",\"domain\":[0.0,1.0],\"title\":{\"text\":\"variable\"}},\"yaxis\":{\"anchor\":\"x\",\"domain\":[0.0,1.0],\"title\":{\"text\":\"value\"}},\"legend\":{\"tracegroupgap\":0},\"margin\":{\"t\":60},\"boxmode\":\"group\"},                        {\"responsive\": true}                    ).then(function(){\n",
              "                            \n",
              "var gd = document.getElementById('499f9751-7414-4c5a-afdf-72089380e7ec');\n",
              "var x = new MutationObserver(function (mutations, observer) {{\n",
              "        var display = window.getComputedStyle(gd).display;\n",
              "        if (!display || display === 'none') {{\n",
              "            console.log([gd, 'removed!']);\n",
              "            Plotly.purge(gd);\n",
              "            observer.disconnect();\n",
              "        }}\n",
              "}});\n",
              "\n",
              "// Listen for the removal of the full notebook cells\n",
              "var notebookContainer = gd.closest('#notebook-container');\n",
              "if (notebookContainer) {{\n",
              "    x.observe(notebookContainer, {childList: true});\n",
              "}}\n",
              "\n",
              "// Listen for the clearing of the current output cell\n",
              "var outputEl = gd.closest('.output');\n",
              "if (outputEl) {{\n",
              "    x.observe(outputEl, {childList: true});\n",
              "}}\n",
              "\n",
              "                        })                };                            </script>        </div>\n",
              "</body>\n",
              "</html>"
            ]
          },
          "metadata": {}
        }
      ]
    },
    {
      "cell_type": "markdown",
      "source": [
        "**Justificación:**"
      ],
      "metadata": {
        "id": "nxRj-Hi2QUHQ",
        "cell_id": "00021-f548a297-97a4-4d9b-9501-ae5571aa3068",
        "deepnote_cell_type": "markdown",
        "deepnote_cell_height": 52.390625
      }
    },
    {
      "cell_type": "markdown",
      "source": [
        "En primer lugar, se puede observar que hay 247 alumnos con el mismo nombre, se podría estudiar cuantos son efectivamente filas duplicadas y cuantos son coincidencias de nombre.\n",
        "\n",
        "A partir del boxplot se puede ver que los puntajes obtenidos en math, reading y writing distribuyen de manera similar (todos distribuyen normal) Como writing es la caja que levemente sobresale sobre las otras se podría decir que los alumnos tienen mejor desempeño en esta área.\n",
        "\n",
        "Por otro lado se puede reconocer que los alumnos que obtienen puntajes sobre 100 en las 3 áreas, se escapan de la escala establecida y por ende son outliers, y no deberían ser considerados."
      ],
      "metadata": {
        "id": "CR2ZEOcbQW9X",
        "cell_id": "00022-a0fee108-5903-4074-8b11-104b98a94a67",
        "deepnote_cell_type": "markdown",
        "deepnote_cell_height": 70.796875
      }
    },
    {
      "cell_type": "markdown",
      "source": [
        "**Respuesta Esperada:**"
      ],
      "metadata": {
        "id": "45jxMTJHNPC3",
        "cell_id": "00017-b4a9f1a1-c50d-47f6-95af-4ce1416feed7",
        "deepnote_cell_type": "markdown",
        "deepnote_cell_height": 52.390625
      }
    },
    {
      "cell_type": "code",
      "metadata": {
        "colab": {
          "base_uri": "https://localhost:8080/",
          "height": 1000
        },
        "id": "Vu2Y7Q4wuBXg",
        "outputId": "589784c1-3dc8-4c6a-c63d-2d0aa4211878",
        "deepnote_to_be_reexecuted": false,
        "source_hash": "fc6a5c17",
        "execution_start": 1632493422320,
        "execution_millis": 1940,
        "cell_id": "00020-9bc24dfa-b47a-4545-8336-6470008a1527",
        "deepnote_cell_type": "code",
        "deepnote_cell_height": 3055.796875
      },
      "source": [
        "exploratory_data_analysis(df_grades)"
      ],
      "execution_count": null,
      "outputs": [
        {
          "name": "stdout",
          "text": "1.- El DataFrame tiene 1400 filas y 9 columnas\n\n2.- El DataFrame esta compuesto por las siguientes columnas: ['names', 'gender', 'race/ethnicity', 'parental level of education', 'lunch', 'test preparation course', 'math score', 'reading score', 'writing score']\n\n3.- Ejemplos de filas del DataFrame:\n\nPrimeras 5 filas:\n",
          "output_type": "stream"
        },
        {
          "data": {
            "application/vnd.deepnote.dataframe.v2+json": {
              "row_count": 5,
              "column_count": 9,
              "columns": [
                {
                  "name": "names",
                  "dtype": "object",
                  "stats": {
                    "unique_count": 5,
                    "nan_count": 0,
                    "categories": [
                      {
                        "name": "Rita Courtney",
                        "count": 1
                      },
                      {
                        "name": "Madeline Fuller",
                        "count": 1
                      },
                      {
                        "name": "3 others",
                        "count": 3
                      }
                    ]
                  }
                },
                {
                  "name": "gender",
                  "dtype": "object",
                  "stats": {
                    "unique_count": 2,
                    "nan_count": 0,
                    "categories": [
                      {
                        "name": "female",
                        "count": 3
                      },
                      {
                        "name": "male",
                        "count": 2
                      }
                    ]
                  }
                },
                {
                  "name": "race/ethnicity",
                  "dtype": "object",
                  "stats": {
                    "unique_count": 4,
                    "nan_count": 0,
                    "categories": [
                      {
                        "name": "group A",
                        "count": 2
                      },
                      {
                        "name": "group B",
                        "count": 1
                      },
                      {
                        "name": "2 others",
                        "count": 2
                      }
                    ]
                  }
                },
                {
                  "name": "parental level of education",
                  "dtype": "object",
                  "stats": {
                    "unique_count": 3,
                    "nan_count": 0,
                    "categories": [
                      {
                        "name": "some high school",
                        "count": 2
                      },
                      {
                        "name": "associate's degree",
                        "count": 2
                      },
                      {
                        "name": "bachelor's degree",
                        "count": 1
                      }
                    ]
                  }
                },
                {
                  "name": "lunch",
                  "dtype": "object",
                  "stats": {
                    "unique_count": 1,
                    "nan_count": 0,
                    "categories": [
                      {
                        "name": "standard",
                        "count": 5
                      }
                    ]
                  }
                },
                {
                  "name": "test preparation course",
                  "dtype": "object",
                  "stats": {
                    "unique_count": 2,
                    "nan_count": 0,
                    "categories": [
                      {
                        "name": "none",
                        "count": 4
                      },
                      {
                        "name": "completed",
                        "count": 1
                      }
                    ]
                  }
                },
                {
                  "name": "math score",
                  "dtype": "float64",
                  "stats": {
                    "unique_count": 5,
                    "nan_count": 0,
                    "min": "37.0",
                    "max": "156.0",
                    "histogram": [
                      {
                        "bin_start": 37,
                        "bin_end": 48.9,
                        "count": 1
                      },
                      {
                        "bin_start": 48.9,
                        "bin_end": 60.8,
                        "count": 0
                      },
                      {
                        "bin_start": 60.8,
                        "bin_end": 72.7,
                        "count": 0
                      },
                      {
                        "bin_start": 72.7,
                        "bin_end": 84.6,
                        "count": 1
                      },
                      {
                        "bin_start": 84.6,
                        "bin_end": 96.5,
                        "count": 0
                      },
                      {
                        "bin_start": 96.5,
                        "bin_end": 108.4,
                        "count": 0
                      },
                      {
                        "bin_start": 108.4,
                        "bin_end": 120.3,
                        "count": 0
                      },
                      {
                        "bin_start": 120.3,
                        "bin_end": 132.2,
                        "count": 2
                      },
                      {
                        "bin_start": 132.2,
                        "bin_end": 144.10000000000002,
                        "count": 0
                      },
                      {
                        "bin_start": 144.10000000000002,
                        "bin_end": 156,
                        "count": 1
                      }
                    ]
                  }
                },
                {
                  "name": "reading score",
                  "dtype": "float64",
                  "stats": {
                    "unique_count": 5,
                    "nan_count": 0,
                    "min": "46.0",
                    "max": "196.0",
                    "histogram": [
                      {
                        "bin_start": 46,
                        "bin_end": 61,
                        "count": 1
                      },
                      {
                        "bin_start": 61,
                        "bin_end": 76,
                        "count": 0
                      },
                      {
                        "bin_start": 76,
                        "bin_end": 91,
                        "count": 1
                      },
                      {
                        "bin_start": 91,
                        "bin_end": 106,
                        "count": 0
                      },
                      {
                        "bin_start": 106,
                        "bin_end": 121,
                        "count": 0
                      },
                      {
                        "bin_start": 121,
                        "bin_end": 136,
                        "count": 0
                      },
                      {
                        "bin_start": 136,
                        "bin_end": 151,
                        "count": 1
                      },
                      {
                        "bin_start": 151,
                        "bin_end": 166,
                        "count": 0
                      },
                      {
                        "bin_start": 166,
                        "bin_end": 181,
                        "count": 1
                      },
                      {
                        "bin_start": 181,
                        "bin_end": 196,
                        "count": 1
                      }
                    ]
                  }
                },
                {
                  "name": "writing score",
                  "dtype": "float64",
                  "stats": {
                    "unique_count": 5,
                    "nan_count": 0,
                    "min": "46.0",
                    "max": "193.0",
                    "histogram": [
                      {
                        "bin_start": 46,
                        "bin_end": 60.7,
                        "count": 1
                      },
                      {
                        "bin_start": 60.7,
                        "bin_end": 75.4,
                        "count": 0
                      },
                      {
                        "bin_start": 75.4,
                        "bin_end": 90.1,
                        "count": 1
                      },
                      {
                        "bin_start": 90.1,
                        "bin_end": 104.8,
                        "count": 0
                      },
                      {
                        "bin_start": 104.8,
                        "bin_end": 119.5,
                        "count": 0
                      },
                      {
                        "bin_start": 119.5,
                        "bin_end": 134.2,
                        "count": 0
                      },
                      {
                        "bin_start": 134.2,
                        "bin_end": 148.89999999999998,
                        "count": 1
                      },
                      {
                        "bin_start": 148.89999999999998,
                        "bin_end": 163.6,
                        "count": 0
                      },
                      {
                        "bin_start": 163.6,
                        "bin_end": 178.29999999999998,
                        "count": 1
                      },
                      {
                        "bin_start": 178.29999999999998,
                        "bin_end": 193,
                        "count": 1
                      }
                    ]
                  }
                },
                {
                  "name": "_deepnote_index_column",
                  "dtype": "int64"
                }
              ],
              "rows_top": [
                {
                  "names": "Rita Courtney",
                  "gender": "female",
                  "race/ethnicity": "group B",
                  "parental level of education": "some high school",
                  "lunch": "standard",
                  "test preparation course": "none",
                  "math score": 37,
                  "reading score": 46,
                  "writing score": 46,
                  "_deepnote_index_column": 0
                },
                {
                  "names": "Madeline Fuller",
                  "gender": "female",
                  "race/ethnicity": "group C",
                  "parental level of education": "some high school",
                  "lunch": "standard",
                  "test preparation course": "none",
                  "math score": 124,
                  "reading score": 142,
                  "writing score": 142,
                  "_deepnote_index_column": 1
                },
                {
                  "names": "Daniel Rester",
                  "gender": "male",
                  "race/ethnicity": "group E",
                  "parental level of education": "associate's degree",
                  "lunch": "standard",
                  "test preparation course": "none",
                  "math score": 156,
                  "reading score": 196,
                  "writing score": 193,
                  "_deepnote_index_column": 2
                },
                {
                  "names": "Charles Linstrom",
                  "gender": "male",
                  "race/ethnicity": "group A",
                  "parental level of education": "bachelor's degree",
                  "lunch": "standard",
                  "test preparation course": "completed",
                  "math score": 80,
                  "reading score": 78,
                  "writing score": 81,
                  "_deepnote_index_column": 3
                },
                {
                  "names": "Geraldine Hale",
                  "gender": "female",
                  "race/ethnicity": "group A",
                  "parental level of education": "associate's degree",
                  "lunch": "standard",
                  "test preparation course": "none",
                  "math score": 131,
                  "reading score": 166,
                  "writing score": 166,
                  "_deepnote_index_column": 4
                }
              ],
              "rows_bottom": null
            },
            "text/plain": "              names  gender race/ethnicity parental level of education  \\\n0     Rita Courtney  female        group B            some high school   \n1   Madeline Fuller  female        group C            some high school   \n2     Daniel Rester    male        group E          associate's degree   \n3  Charles Linstrom    male        group A           bachelor's degree   \n4    Geraldine Hale  female        group A          associate's degree   \n\n      lunch test preparation course  math score  reading score  writing score  \n0  standard                    none        37.0           46.0           46.0  \n1  standard                    none       124.0          142.0          142.0  \n2  standard                    none       156.0          196.0          193.0  \n3  standard               completed        80.0           78.0           81.0  \n4  standard                    none       131.0          166.0          166.0  ",
            "text/html": "<div>\n<style scoped>\n    .dataframe tbody tr th:only-of-type {\n        vertical-align: middle;\n    }\n\n    .dataframe tbody tr th {\n        vertical-align: top;\n    }\n\n    .dataframe thead th {\n        text-align: right;\n    }\n</style>\n<table border=\"1\" class=\"dataframe\">\n  <thead>\n    <tr style=\"text-align: right;\">\n      <th></th>\n      <th>names</th>\n      <th>gender</th>\n      <th>race/ethnicity</th>\n      <th>parental level of education</th>\n      <th>lunch</th>\n      <th>test preparation course</th>\n      <th>math score</th>\n      <th>reading score</th>\n      <th>writing score</th>\n    </tr>\n  </thead>\n  <tbody>\n    <tr>\n      <th>0</th>\n      <td>Rita Courtney</td>\n      <td>female</td>\n      <td>group B</td>\n      <td>some high school</td>\n      <td>standard</td>\n      <td>none</td>\n      <td>37.0</td>\n      <td>46.0</td>\n      <td>46.0</td>\n    </tr>\n    <tr>\n      <th>1</th>\n      <td>Madeline Fuller</td>\n      <td>female</td>\n      <td>group C</td>\n      <td>some high school</td>\n      <td>standard</td>\n      <td>none</td>\n      <td>124.0</td>\n      <td>142.0</td>\n      <td>142.0</td>\n    </tr>\n    <tr>\n      <th>2</th>\n      <td>Daniel Rester</td>\n      <td>male</td>\n      <td>group E</td>\n      <td>associate's degree</td>\n      <td>standard</td>\n      <td>none</td>\n      <td>156.0</td>\n      <td>196.0</td>\n      <td>193.0</td>\n    </tr>\n    <tr>\n      <th>3</th>\n      <td>Charles Linstrom</td>\n      <td>male</td>\n      <td>group A</td>\n      <td>bachelor's degree</td>\n      <td>standard</td>\n      <td>completed</td>\n      <td>80.0</td>\n      <td>78.0</td>\n      <td>81.0</td>\n    </tr>\n    <tr>\n      <th>4</th>\n      <td>Geraldine Hale</td>\n      <td>female</td>\n      <td>group A</td>\n      <td>associate's degree</td>\n      <td>standard</td>\n      <td>none</td>\n      <td>131.0</td>\n      <td>166.0</td>\n      <td>166.0</td>\n    </tr>\n  </tbody>\n</table>\n</div>"
          },
          "metadata": {},
          "output_type": "display_data"
        },
        {
          "name": "stdout",
          "text": "\nÚltimas 5 filas:\n",
          "output_type": "stream"
        },
        {
          "data": {
            "application/vnd.deepnote.dataframe.v2+json": {
              "row_count": 5,
              "column_count": 9,
              "columns": [
                {
                  "name": "names",
                  "dtype": "object",
                  "stats": {
                    "unique_count": 5,
                    "nan_count": 0,
                    "categories": [
                      {
                        "name": "Alexander Dillon",
                        "count": 1
                      },
                      {
                        "name": "Marina Zeigler",
                        "count": 1
                      },
                      {
                        "name": "3 others",
                        "count": 3
                      }
                    ]
                  }
                },
                {
                  "name": "gender",
                  "dtype": "object",
                  "stats": {
                    "unique_count": 2,
                    "nan_count": 0,
                    "categories": [
                      {
                        "name": "female",
                        "count": 3
                      },
                      {
                        "name": "male",
                        "count": 2
                      }
                    ]
                  }
                },
                {
                  "name": "race/ethnicity",
                  "dtype": "object",
                  "stats": {
                    "unique_count": 4,
                    "nan_count": 0,
                    "categories": [
                      {
                        "name": "group D",
                        "count": 2
                      },
                      {
                        "name": "group C",
                        "count": 1
                      },
                      {
                        "name": "2 others",
                        "count": 2
                      }
                    ]
                  }
                },
                {
                  "name": "parental level of education",
                  "dtype": "object",
                  "stats": {
                    "unique_count": 5,
                    "nan_count": 0,
                    "categories": [
                      {
                        "name": "associate's degree",
                        "count": 1
                      },
                      {
                        "name": "bachelor's degree",
                        "count": 1
                      },
                      {
                        "name": "3 others",
                        "count": 3
                      }
                    ]
                  }
                },
                {
                  "name": "lunch",
                  "dtype": "object",
                  "stats": {
                    "unique_count": 2,
                    "nan_count": 0,
                    "categories": [
                      {
                        "name": "standard",
                        "count": 3
                      },
                      {
                        "name": "free/reduced",
                        "count": 2
                      }
                    ]
                  }
                },
                {
                  "name": "test preparation course",
                  "dtype": "object",
                  "stats": {
                    "unique_count": 2,
                    "nan_count": 0,
                    "categories": [
                      {
                        "name": "completed",
                        "count": 3
                      },
                      {
                        "name": "none",
                        "count": 2
                      }
                    ]
                  }
                },
                {
                  "name": "math score",
                  "dtype": "float64",
                  "stats": {
                    "unique_count": 4,
                    "nan_count": 0,
                    "min": "54.0",
                    "max": "193.0",
                    "histogram": [
                      {
                        "bin_start": 54,
                        "bin_end": 67.9,
                        "count": 2
                      },
                      {
                        "bin_start": 67.9,
                        "bin_end": 81.8,
                        "count": 1
                      },
                      {
                        "bin_start": 81.8,
                        "bin_end": 95.7,
                        "count": 0
                      },
                      {
                        "bin_start": 95.7,
                        "bin_end": 109.6,
                        "count": 0
                      },
                      {
                        "bin_start": 109.6,
                        "bin_end": 123.5,
                        "count": 0
                      },
                      {
                        "bin_start": 123.5,
                        "bin_end": 137.4,
                        "count": 0
                      },
                      {
                        "bin_start": 137.4,
                        "bin_end": 151.3,
                        "count": 0
                      },
                      {
                        "bin_start": 151.3,
                        "bin_end": 165.2,
                        "count": 0
                      },
                      {
                        "bin_start": 165.2,
                        "bin_end": 179.10000000000002,
                        "count": 0
                      },
                      {
                        "bin_start": 179.10000000000002,
                        "bin_end": 193,
                        "count": 2
                      }
                    ]
                  }
                },
                {
                  "name": "reading score",
                  "dtype": "float64",
                  "stats": {
                    "unique_count": 5,
                    "nan_count": 0,
                    "min": "61.0",
                    "max": "196.0",
                    "histogram": [
                      {
                        "bin_start": 61,
                        "bin_end": 74.5,
                        "count": 2
                      },
                      {
                        "bin_start": 74.5,
                        "bin_end": 88,
                        "count": 1
                      },
                      {
                        "bin_start": 88,
                        "bin_end": 101.5,
                        "count": 0
                      },
                      {
                        "bin_start": 101.5,
                        "bin_end": 115,
                        "count": 0
                      },
                      {
                        "bin_start": 115,
                        "bin_end": 128.5,
                        "count": 0
                      },
                      {
                        "bin_start": 128.5,
                        "bin_end": 142,
                        "count": 0
                      },
                      {
                        "bin_start": 142,
                        "bin_end": 155.5,
                        "count": 1
                      },
                      {
                        "bin_start": 155.5,
                        "bin_end": 169,
                        "count": 0
                      },
                      {
                        "bin_start": 169,
                        "bin_end": 182.5,
                        "count": 0
                      },
                      {
                        "bin_start": 182.5,
                        "bin_end": 196,
                        "count": 1
                      }
                    ]
                  }
                },
                {
                  "name": "writing score",
                  "dtype": "float64",
                  "stats": {
                    "unique_count": 4,
                    "nan_count": 0,
                    "min": "62.0",
                    "max": "193.0",
                    "histogram": [
                      {
                        "bin_start": 62,
                        "bin_end": 75.1,
                        "count": 1
                      },
                      {
                        "bin_start": 75.1,
                        "bin_end": 88.2,
                        "count": 2
                      },
                      {
                        "bin_start": 88.2,
                        "bin_end": 101.3,
                        "count": 0
                      },
                      {
                        "bin_start": 101.3,
                        "bin_end": 114.4,
                        "count": 0
                      },
                      {
                        "bin_start": 114.4,
                        "bin_end": 127.5,
                        "count": 0
                      },
                      {
                        "bin_start": 127.5,
                        "bin_end": 140.6,
                        "count": 0
                      },
                      {
                        "bin_start": 140.6,
                        "bin_end": 153.7,
                        "count": 0
                      },
                      {
                        "bin_start": 153.7,
                        "bin_end": 166.8,
                        "count": 0
                      },
                      {
                        "bin_start": 166.8,
                        "bin_end": 179.89999999999998,
                        "count": 0
                      },
                      {
                        "bin_start": 179.89999999999998,
                        "bin_end": 193,
                        "count": 2
                      }
                    ]
                  }
                },
                {
                  "name": "_deepnote_index_column",
                  "dtype": "int64"
                }
              ],
              "rows_top": [
                {
                  "names": "Alexander Dillon",
                  "gender": "male",
                  "race/ethnicity": "group D",
                  "parental level of education": "associate's degree",
                  "lunch": "standard",
                  "test preparation course": "none",
                  "math score": 193,
                  "reading score": 142,
                  "writing score": 193,
                  "_deepnote_index_column": 1395
                },
                {
                  "names": "Marina Zeigler",
                  "gender": "female",
                  "race/ethnicity": "group C",
                  "parental level of education": "bachelor's degree",
                  "lunch": "free/reduced",
                  "test preparation course": "completed",
                  "math score": 66,
                  "reading score": 74,
                  "writing score": 81,
                  "_deepnote_index_column": 1396
                },
                {
                  "names": "Laurie Carter",
                  "gender": "female",
                  "race/ethnicity": "group B",
                  "parental level of education": "some high school",
                  "lunch": "standard",
                  "test preparation course": "completed",
                  "math score": 54,
                  "reading score": 61,
                  "writing score": 62,
                  "_deepnote_index_column": 1397
                },
                {
                  "names": "Joseph Mccoy",
                  "gender": "male",
                  "race/ethnicity": "group D",
                  "parental level of education": "some college",
                  "lunch": "free/reduced",
                  "test preparation course": "none",
                  "math score": 193,
                  "reading score": 196,
                  "writing score": 193,
                  "_deepnote_index_column": 1398
                },
                {
                  "names": "Amanda Perez",
                  "gender": "female",
                  "race/ethnicity": "group A",
                  "parental level of education": "high school",
                  "lunch": "standard",
                  "test preparation course": "completed",
                  "math score": 68,
                  "reading score": 80,
                  "writing score": 76,
                  "_deepnote_index_column": 1399
                }
              ],
              "rows_bottom": null
            },
            "text/plain": "                 names  gender race/ethnicity parental level of education  \\\n1395  Alexander Dillon    male        group D          associate's degree   \n1396    Marina Zeigler  female        group C           bachelor's degree   \n1397     Laurie Carter  female        group B            some high school   \n1398      Joseph Mccoy    male        group D                some college   \n1399      Amanda Perez  female        group A                 high school   \n\n             lunch test preparation course  math score  reading score  \\\n1395      standard                    none       193.0          142.0   \n1396  free/reduced               completed        66.0           74.0   \n1397      standard               completed        54.0           61.0   \n1398  free/reduced                    none       193.0          196.0   \n1399      standard               completed        68.0           80.0   \n\n      writing score  \n1395          193.0  \n1396           81.0  \n1397           62.0  \n1398          193.0  \n1399           76.0  ",
            "text/html": "<div>\n<style scoped>\n    .dataframe tbody tr th:only-of-type {\n        vertical-align: middle;\n    }\n\n    .dataframe tbody tr th {\n        vertical-align: top;\n    }\n\n    .dataframe thead th {\n        text-align: right;\n    }\n</style>\n<table border=\"1\" class=\"dataframe\">\n  <thead>\n    <tr style=\"text-align: right;\">\n      <th></th>\n      <th>names</th>\n      <th>gender</th>\n      <th>race/ethnicity</th>\n      <th>parental level of education</th>\n      <th>lunch</th>\n      <th>test preparation course</th>\n      <th>math score</th>\n      <th>reading score</th>\n      <th>writing score</th>\n    </tr>\n  </thead>\n  <tbody>\n    <tr>\n      <th>1395</th>\n      <td>Alexander Dillon</td>\n      <td>male</td>\n      <td>group D</td>\n      <td>associate's degree</td>\n      <td>standard</td>\n      <td>none</td>\n      <td>193.0</td>\n      <td>142.0</td>\n      <td>193.0</td>\n    </tr>\n    <tr>\n      <th>1396</th>\n      <td>Marina Zeigler</td>\n      <td>female</td>\n      <td>group C</td>\n      <td>bachelor's degree</td>\n      <td>free/reduced</td>\n      <td>completed</td>\n      <td>66.0</td>\n      <td>74.0</td>\n      <td>81.0</td>\n    </tr>\n    <tr>\n      <th>1397</th>\n      <td>Laurie Carter</td>\n      <td>female</td>\n      <td>group B</td>\n      <td>some high school</td>\n      <td>standard</td>\n      <td>completed</td>\n      <td>54.0</td>\n      <td>61.0</td>\n      <td>62.0</td>\n    </tr>\n    <tr>\n      <th>1398</th>\n      <td>Joseph Mccoy</td>\n      <td>male</td>\n      <td>group D</td>\n      <td>some college</td>\n      <td>free/reduced</td>\n      <td>none</td>\n      <td>193.0</td>\n      <td>196.0</td>\n      <td>193.0</td>\n    </tr>\n    <tr>\n      <th>1399</th>\n      <td>Amanda Perez</td>\n      <td>female</td>\n      <td>group A</td>\n      <td>high school</td>\n      <td>standard</td>\n      <td>completed</td>\n      <td>68.0</td>\n      <td>80.0</td>\n      <td>76.0</td>\n    </tr>\n  </tbody>\n</table>\n</div>"
          },
          "metadata": {},
          "output_type": "display_data"
        },
        {
          "name": "stdout",
          "text": "\nMuestreo aleatorio de 5 filas:\n",
          "output_type": "stream"
        },
        {
          "data": {
            "application/vnd.deepnote.dataframe.v2+json": {
              "row_count": 5,
              "column_count": 9,
              "columns": [
                {
                  "name": "names",
                  "dtype": "object",
                  "stats": {
                    "unique_count": 5,
                    "nan_count": 0,
                    "categories": [
                      {
                        "name": "Alberto Roberts",
                        "count": 1
                      },
                      {
                        "name": "Ronald Wilson",
                        "count": 1
                      },
                      {
                        "name": "3 others",
                        "count": 3
                      }
                    ]
                  }
                },
                {
                  "name": "gender",
                  "dtype": "object",
                  "stats": {
                    "unique_count": 2,
                    "nan_count": 0,
                    "categories": [
                      {
                        "name": "male",
                        "count": 3
                      },
                      {
                        "name": "female",
                        "count": 2
                      }
                    ]
                  }
                },
                {
                  "name": "race/ethnicity",
                  "dtype": "object",
                  "stats": {
                    "unique_count": 3,
                    "nan_count": 0,
                    "categories": [
                      {
                        "name": "group D",
                        "count": 2
                      },
                      {
                        "name": "group E",
                        "count": 2
                      },
                      {
                        "name": "group C",
                        "count": 1
                      }
                    ]
                  }
                },
                {
                  "name": "parental level of education",
                  "dtype": "object",
                  "stats": {
                    "unique_count": 5,
                    "nan_count": 0,
                    "categories": [
                      {
                        "name": "associate's degree",
                        "count": 1
                      },
                      {
                        "name": "some high school",
                        "count": 1
                      },
                      {
                        "name": "3 others",
                        "count": 3
                      }
                    ]
                  }
                },
                {
                  "name": "lunch",
                  "dtype": "object",
                  "stats": {
                    "unique_count": 1,
                    "nan_count": 0,
                    "categories": [
                      {
                        "name": "standard",
                        "count": 5
                      }
                    ]
                  }
                },
                {
                  "name": "test preparation course",
                  "dtype": "object",
                  "stats": {
                    "unique_count": 2,
                    "nan_count": 0,
                    "categories": [
                      {
                        "name": "none",
                        "count": 3
                      },
                      {
                        "name": "completed",
                        "count": 2
                      }
                    ]
                  }
                },
                {
                  "name": "math score",
                  "dtype": "float64",
                  "stats": {
                    "unique_count": 5,
                    "nan_count": 0,
                    "min": "52.0",
                    "max": "193.0",
                    "histogram": [
                      {
                        "bin_start": 52,
                        "bin_end": 66.1,
                        "count": 2
                      },
                      {
                        "bin_start": 66.1,
                        "bin_end": 80.2,
                        "count": 1
                      },
                      {
                        "bin_start": 80.2,
                        "bin_end": 94.3,
                        "count": 0
                      },
                      {
                        "bin_start": 94.3,
                        "bin_end": 108.4,
                        "count": 0
                      },
                      {
                        "bin_start": 108.4,
                        "bin_end": 122.5,
                        "count": 0
                      },
                      {
                        "bin_start": 122.5,
                        "bin_end": 136.6,
                        "count": 0
                      },
                      {
                        "bin_start": 136.6,
                        "bin_end": 150.7,
                        "count": 0
                      },
                      {
                        "bin_start": 150.7,
                        "bin_end": 164.8,
                        "count": 0
                      },
                      {
                        "bin_start": 164.8,
                        "bin_end": 178.89999999999998,
                        "count": 0
                      },
                      {
                        "bin_start": 178.89999999999998,
                        "bin_end": 193,
                        "count": 2
                      }
                    ]
                  }
                },
                {
                  "name": "reading score",
                  "dtype": "float64",
                  "stats": {
                    "unique_count": 5,
                    "nan_count": 0,
                    "min": "55.0",
                    "max": "142.0",
                    "histogram": [
                      {
                        "bin_start": 55,
                        "bin_end": 63.7,
                        "count": 2
                      },
                      {
                        "bin_start": 63.7,
                        "bin_end": 72.4,
                        "count": 0
                      },
                      {
                        "bin_start": 72.4,
                        "bin_end": 81.1,
                        "count": 1
                      },
                      {
                        "bin_start": 81.1,
                        "bin_end": 89.8,
                        "count": 0
                      },
                      {
                        "bin_start": 89.8,
                        "bin_end": 98.5,
                        "count": 0
                      },
                      {
                        "bin_start": 98.5,
                        "bin_end": 107.19999999999999,
                        "count": 0
                      },
                      {
                        "bin_start": 107.19999999999999,
                        "bin_end": 115.89999999999999,
                        "count": 0
                      },
                      {
                        "bin_start": 115.89999999999999,
                        "bin_end": 124.6,
                        "count": 1
                      },
                      {
                        "bin_start": 124.6,
                        "bin_end": 133.3,
                        "count": 0
                      },
                      {
                        "bin_start": 133.3,
                        "bin_end": 142,
                        "count": 1
                      }
                    ]
                  }
                },
                {
                  "name": "writing score",
                  "dtype": "float64",
                  "stats": {
                    "unique_count": 5,
                    "nan_count": 0,
                    "min": "49.0",
                    "max": "196.0",
                    "histogram": [
                      {
                        "bin_start": 49,
                        "bin_end": 63.7,
                        "count": 2
                      },
                      {
                        "bin_start": 63.7,
                        "bin_end": 78.4,
                        "count": 1
                      },
                      {
                        "bin_start": 78.4,
                        "bin_end": 93.1,
                        "count": 0
                      },
                      {
                        "bin_start": 93.1,
                        "bin_end": 107.8,
                        "count": 0
                      },
                      {
                        "bin_start": 107.8,
                        "bin_end": 122.5,
                        "count": 0
                      },
                      {
                        "bin_start": 122.5,
                        "bin_end": 137.2,
                        "count": 1
                      },
                      {
                        "bin_start": 137.2,
                        "bin_end": 151.89999999999998,
                        "count": 0
                      },
                      {
                        "bin_start": 151.89999999999998,
                        "bin_end": 166.6,
                        "count": 0
                      },
                      {
                        "bin_start": 166.6,
                        "bin_end": 181.29999999999998,
                        "count": 0
                      },
                      {
                        "bin_start": 181.29999999999998,
                        "bin_end": 196,
                        "count": 1
                      }
                    ]
                  }
                },
                {
                  "name": "_deepnote_index_column",
                  "dtype": "int64"
                }
              ],
              "rows_top": [
                {
                  "names": "Alberto Roberts",
                  "gender": "male",
                  "race/ethnicity": "group D",
                  "parental level of education": "associate's degree",
                  "lunch": "standard",
                  "test preparation course": "none",
                  "math score": 52,
                  "reading score": 55,
                  "writing score": 49,
                  "_deepnote_index_column": 1282
                },
                {
                  "names": "Ronald Wilson",
                  "gender": "male",
                  "race/ethnicity": "group C",
                  "parental level of education": "some high school",
                  "lunch": "standard",
                  "test preparation course": "none",
                  "math score": 64,
                  "reading score": 58,
                  "writing score": 51,
                  "_deepnote_index_column": 604
                },
                {
                  "names": "Christine Reed",
                  "gender": "female",
                  "race/ethnicity": "group E",
                  "parental level of education": "bachelor's degree",
                  "lunch": "standard",
                  "test preparation course": "completed",
                  "math score": 188,
                  "reading score": 142,
                  "writing score": 131,
                  "_deepnote_index_column": 559
                },
                {
                  "names": "Edna Johnson",
                  "gender": "female",
                  "race/ethnicity": "group E",
                  "parental level of education": "some college",
                  "lunch": "standard",
                  "test preparation course": "completed",
                  "math score": 193,
                  "reading score": 124,
                  "writing score": 196,
                  "_deepnote_index_column": 380
                },
                {
                  "names": "Richard Young",
                  "gender": "male",
                  "race/ethnicity": "group D",
                  "parental level of education": "high school",
                  "lunch": "standard",
                  "test preparation course": "none",
                  "math score": 69,
                  "reading score": 75,
                  "writing score": 71,
                  "_deepnote_index_column": 1392
                }
              ],
              "rows_bottom": null
            },
            "text/plain": "                names  gender race/ethnicity parental level of education  \\\n1282  Alberto Roberts    male        group D          associate's degree   \n604     Ronald Wilson    male        group C            some high school   \n559    Christine Reed  female        group E           bachelor's degree   \n380      Edna Johnson  female        group E                some college   \n1392    Richard Young    male        group D                 high school   \n\n         lunch test preparation course  math score  reading score  \\\n1282  standard                    none        52.0           55.0   \n604   standard                    none        64.0           58.0   \n559   standard               completed       188.0          142.0   \n380   standard               completed       193.0          124.0   \n1392  standard                    none        69.0           75.0   \n\n      writing score  \n1282           49.0  \n604            51.0  \n559           131.0  \n380           196.0  \n1392           71.0  ",
            "text/html": "<div>\n<style scoped>\n    .dataframe tbody tr th:only-of-type {\n        vertical-align: middle;\n    }\n\n    .dataframe tbody tr th {\n        vertical-align: top;\n    }\n\n    .dataframe thead th {\n        text-align: right;\n    }\n</style>\n<table border=\"1\" class=\"dataframe\">\n  <thead>\n    <tr style=\"text-align: right;\">\n      <th></th>\n      <th>names</th>\n      <th>gender</th>\n      <th>race/ethnicity</th>\n      <th>parental level of education</th>\n      <th>lunch</th>\n      <th>test preparation course</th>\n      <th>math score</th>\n      <th>reading score</th>\n      <th>writing score</th>\n    </tr>\n  </thead>\n  <tbody>\n    <tr>\n      <th>1282</th>\n      <td>Alberto Roberts</td>\n      <td>male</td>\n      <td>group D</td>\n      <td>associate's degree</td>\n      <td>standard</td>\n      <td>none</td>\n      <td>52.0</td>\n      <td>55.0</td>\n      <td>49.0</td>\n    </tr>\n    <tr>\n      <th>604</th>\n      <td>Ronald Wilson</td>\n      <td>male</td>\n      <td>group C</td>\n      <td>some high school</td>\n      <td>standard</td>\n      <td>none</td>\n      <td>64.0</td>\n      <td>58.0</td>\n      <td>51.0</td>\n    </tr>\n    <tr>\n      <th>559</th>\n      <td>Christine Reed</td>\n      <td>female</td>\n      <td>group E</td>\n      <td>bachelor's degree</td>\n      <td>standard</td>\n      <td>completed</td>\n      <td>188.0</td>\n      <td>142.0</td>\n      <td>131.0</td>\n    </tr>\n    <tr>\n      <th>380</th>\n      <td>Edna Johnson</td>\n      <td>female</td>\n      <td>group E</td>\n      <td>some college</td>\n      <td>standard</td>\n      <td>completed</td>\n      <td>193.0</td>\n      <td>124.0</td>\n      <td>196.0</td>\n    </tr>\n    <tr>\n      <th>1392</th>\n      <td>Richard Young</td>\n      <td>male</td>\n      <td>group D</td>\n      <td>high school</td>\n      <td>standard</td>\n      <td>none</td>\n      <td>69.0</td>\n      <td>75.0</td>\n      <td>71.0</td>\n    </tr>\n  </tbody>\n</table>\n</div>"
          },
          "metadata": {},
          "output_type": "display_data"
        },
        {
          "name": "stdout",
          "text": "\n4.- Descripción numérica del Dataframe:\n",
          "output_type": "stream"
        },
        {
          "data": {
            "application/vnd.deepnote.dataframe.v2+json": {
              "row_count": 8,
              "column_count": 3,
              "columns": [
                {
                  "name": "math score",
                  "dtype": "float64",
                  "stats": {
                    "unique_count": 8,
                    "nan_count": 0,
                    "min": "0.0",
                    "max": "1360.0",
                    "histogram": [
                      {
                        "bin_start": 0,
                        "bin_end": 136,
                        "count": 6
                      },
                      {
                        "bin_start": 136,
                        "bin_end": 272,
                        "count": 1
                      },
                      {
                        "bin_start": 272,
                        "bin_end": 408,
                        "count": 0
                      },
                      {
                        "bin_start": 408,
                        "bin_end": 544,
                        "count": 0
                      },
                      {
                        "bin_start": 544,
                        "bin_end": 680,
                        "count": 0
                      },
                      {
                        "bin_start": 680,
                        "bin_end": 816,
                        "count": 0
                      },
                      {
                        "bin_start": 816,
                        "bin_end": 952,
                        "count": 0
                      },
                      {
                        "bin_start": 952,
                        "bin_end": 1088,
                        "count": 0
                      },
                      {
                        "bin_start": 1088,
                        "bin_end": 1224,
                        "count": 0
                      },
                      {
                        "bin_start": 1224,
                        "bin_end": 1360,
                        "count": 1
                      }
                    ]
                  }
                },
                {
                  "name": "reading score",
                  "dtype": "float64",
                  "stats": {
                    "unique_count": 8,
                    "nan_count": 0,
                    "min": "17.0",
                    "max": "1360.0",
                    "histogram": [
                      {
                        "bin_start": 17,
                        "bin_end": 151.3,
                        "count": 6
                      },
                      {
                        "bin_start": 151.3,
                        "bin_end": 285.6,
                        "count": 1
                      },
                      {
                        "bin_start": 285.6,
                        "bin_end": 419.90000000000003,
                        "count": 0
                      },
                      {
                        "bin_start": 419.90000000000003,
                        "bin_end": 554.2,
                        "count": 0
                      },
                      {
                        "bin_start": 554.2,
                        "bin_end": 688.5,
                        "count": 0
                      },
                      {
                        "bin_start": 688.5,
                        "bin_end": 822.8000000000001,
                        "count": 0
                      },
                      {
                        "bin_start": 822.8000000000001,
                        "bin_end": 957.1000000000001,
                        "count": 0
                      },
                      {
                        "bin_start": 957.1000000000001,
                        "bin_end": 1091.4,
                        "count": 0
                      },
                      {
                        "bin_start": 1091.4,
                        "bin_end": 1225.7,
                        "count": 0
                      },
                      {
                        "bin_start": 1225.7,
                        "bin_end": 1360,
                        "count": 1
                      }
                    ]
                  }
                },
                {
                  "name": "writing score",
                  "dtype": "float64",
                  "stats": {
                    "unique_count": 8,
                    "nan_count": 0,
                    "min": "10.0",
                    "max": "1353.0",
                    "histogram": [
                      {
                        "bin_start": 10,
                        "bin_end": 144.3,
                        "count": 6
                      },
                      {
                        "bin_start": 144.3,
                        "bin_end": 278.6,
                        "count": 1
                      },
                      {
                        "bin_start": 278.6,
                        "bin_end": 412.90000000000003,
                        "count": 0
                      },
                      {
                        "bin_start": 412.90000000000003,
                        "bin_end": 547.2,
                        "count": 0
                      },
                      {
                        "bin_start": 547.2,
                        "bin_end": 681.5,
                        "count": 0
                      },
                      {
                        "bin_start": 681.5,
                        "bin_end": 815.8000000000001,
                        "count": 0
                      },
                      {
                        "bin_start": 815.8000000000001,
                        "bin_end": 950.1000000000001,
                        "count": 0
                      },
                      {
                        "bin_start": 950.1000000000001,
                        "bin_end": 1084.4,
                        "count": 0
                      },
                      {
                        "bin_start": 1084.4,
                        "bin_end": 1218.7,
                        "count": 0
                      },
                      {
                        "bin_start": 1218.7,
                        "bin_end": 1353,
                        "count": 1
                      }
                    ]
                  }
                },
                {
                  "name": "_deepnote_index_column",
                  "dtype": "object"
                }
              ],
              "rows_top": [
                {
                  "math score": 1360,
                  "reading score": 1360,
                  "writing score": 1353,
                  "_deepnote_index_column": "count"
                },
                {
                  "math score": 89.53897058823529,
                  "reading score": 93.08602941176471,
                  "writing score": 91.8529194382853,
                  "_deepnote_index_column": "mean"
                },
                {
                  "math score": 47.15242247460426,
                  "reading score": 46.38577506570869,
                  "writing score": 47.04356953025664,
                  "_deepnote_index_column": "std"
                },
                {
                  "math score": 0,
                  "reading score": 17,
                  "writing score": 10,
                  "_deepnote_index_column": "min"
                },
                {
                  "math score": 59,
                  "reading score": 63,
                  "writing score": 62,
                  "_deepnote_index_column": "25%"
                },
                {
                  "math score": 72,
                  "reading score": 76,
                  "writing score": 75,
                  "_deepnote_index_column": "50%"
                },
                {
                  "math score": 97.25,
                  "reading score": 100,
                  "writing score": 100,
                  "_deepnote_index_column": "75%"
                },
                {
                  "math score": 196,
                  "reading score": 196,
                  "writing score": 196,
                  "_deepnote_index_column": "max"
                }
              ],
              "rows_bottom": null
            },
            "text/plain": "        math score  reading score  writing score\ncount  1360.000000    1360.000000    1353.000000\nmean     89.538971      93.086029      91.852919\nstd      47.152422      46.385775      47.043570\nmin       0.000000      17.000000      10.000000\n25%      59.000000      63.000000      62.000000\n50%      72.000000      76.000000      75.000000\n75%      97.250000     100.000000     100.000000\nmax     196.000000     196.000000     196.000000",
            "text/html": "<div>\n<style scoped>\n    .dataframe tbody tr th:only-of-type {\n        vertical-align: middle;\n    }\n\n    .dataframe tbody tr th {\n        vertical-align: top;\n    }\n\n    .dataframe thead th {\n        text-align: right;\n    }\n</style>\n<table border=\"1\" class=\"dataframe\">\n  <thead>\n    <tr style=\"text-align: right;\">\n      <th></th>\n      <th>math score</th>\n      <th>reading score</th>\n      <th>writing score</th>\n    </tr>\n  </thead>\n  <tbody>\n    <tr>\n      <th>count</th>\n      <td>1360.000000</td>\n      <td>1360.000000</td>\n      <td>1353.000000</td>\n    </tr>\n    <tr>\n      <th>mean</th>\n      <td>89.538971</td>\n      <td>93.086029</td>\n      <td>91.852919</td>\n    </tr>\n    <tr>\n      <th>std</th>\n      <td>47.152422</td>\n      <td>46.385775</td>\n      <td>47.043570</td>\n    </tr>\n    <tr>\n      <th>min</th>\n      <td>0.000000</td>\n      <td>17.000000</td>\n      <td>10.000000</td>\n    </tr>\n    <tr>\n      <th>25%</th>\n      <td>59.000000</td>\n      <td>63.000000</td>\n      <td>62.000000</td>\n    </tr>\n    <tr>\n      <th>50%</th>\n      <td>72.000000</td>\n      <td>76.000000</td>\n      <td>75.000000</td>\n    </tr>\n    <tr>\n      <th>75%</th>\n      <td>97.250000</td>\n      <td>100.000000</td>\n      <td>100.000000</td>\n    </tr>\n    <tr>\n      <th>max</th>\n      <td>196.000000</td>\n      <td>196.000000</td>\n      <td>196.000000</td>\n    </tr>\n  </tbody>\n</table>\n</div>"
          },
          "metadata": {},
          "output_type": "display_data"
        },
        {
          "name": "stdout",
          "text": "\n5.- Cantidad de valores nulos por columna:\n",
          "output_type": "stream"
        },
        {
          "data": {
            "text/plain": "names                           0\ngender                          0\nrace/ethnicity                  0\nparental level of education     0\nlunch                           0\ntest preparation course         0\nmath score                     40\nreading score                  40\nwriting score                  47\ndtype: int64"
          },
          "metadata": {},
          "output_type": "display_data"
        },
        {
          "name": "stdout",
          "text": "\n6.- Cantidad de valores únicos por columna:\n",
          "output_type": "stream"
        },
        {
          "data": {
            "text/plain": "names                          1153\ngender                            2\nrace/ethnicity                    5\nparental level of education       6\nlunch                             2\ntest preparation course           2\nmath score                       96\nreading score                    88\nwriting score                    92\ndtype: int64"
          },
          "metadata": {},
          "output_type": "display_data"
        },
        {
          "name": "stdout",
          "text": "\n7.- Presenta un total de 247 filas con nombres duplicados.\n\n8.- Las filas con nombres duplicados son:\n",
          "output_type": "stream"
        },
        {
          "data": {
            "application/vnd.deepnote.dataframe.v2+json": {
              "row_count": 247,
              "column_count": 9,
              "columns": [
                {
                  "name": "names",
                  "dtype": "object",
                  "stats": {
                    "unique_count": 246,
                    "nan_count": 0,
                    "categories": [
                      {
                        "name": "Robert Frazier",
                        "count": 2
                      },
                      {
                        "name": "Rita Courtney",
                        "count": 1
                      },
                      {
                        "name": "244 others",
                        "count": 244
                      }
                    ]
                  }
                },
                {
                  "name": "gender",
                  "dtype": "object",
                  "stats": {
                    "unique_count": 2,
                    "nan_count": 0,
                    "categories": [
                      {
                        "name": "female",
                        "count": 129
                      },
                      {
                        "name": "male",
                        "count": 118
                      }
                    ]
                  }
                },
                {
                  "name": "race/ethnicity",
                  "dtype": "object",
                  "stats": {
                    "unique_count": 5,
                    "nan_count": 0,
                    "categories": [
                      {
                        "name": "group C",
                        "count": 85
                      },
                      {
                        "name": "group D",
                        "count": 65
                      },
                      {
                        "name": "3 others",
                        "count": 97
                      }
                    ]
                  }
                },
                {
                  "name": "parental level of education",
                  "dtype": "object",
                  "stats": {
                    "unique_count": 6,
                    "nan_count": 0,
                    "categories": [
                      {
                        "name": "some college",
                        "count": 66
                      },
                      {
                        "name": "associate's degree",
                        "count": 50
                      },
                      {
                        "name": "4 others",
                        "count": 131
                      }
                    ]
                  }
                },
                {
                  "name": "lunch",
                  "dtype": "object",
                  "stats": {
                    "unique_count": 2,
                    "nan_count": 0,
                    "categories": [
                      {
                        "name": "standard",
                        "count": 155
                      },
                      {
                        "name": "free/reduced",
                        "count": 92
                      }
                    ]
                  }
                },
                {
                  "name": "test preparation course",
                  "dtype": "object",
                  "stats": {
                    "unique_count": 2,
                    "nan_count": 0,
                    "categories": [
                      {
                        "name": "none",
                        "count": 167
                      },
                      {
                        "name": "completed",
                        "count": 80
                      }
                    ]
                  }
                },
                {
                  "name": "math score",
                  "dtype": "float64",
                  "stats": {
                    "unique_count": 72,
                    "nan_count": 14,
                    "min": "29.0",
                    "max": "196.0",
                    "histogram": [
                      {
                        "bin_start": 29,
                        "bin_end": 45.7,
                        "count": 20
                      },
                      {
                        "bin_start": 45.7,
                        "bin_end": 62.4,
                        "count": 54
                      },
                      {
                        "bin_start": 62.4,
                        "bin_end": 79.1,
                        "count": 39
                      },
                      {
                        "bin_start": 79.1,
                        "bin_end": 95.8,
                        "count": 25
                      },
                      {
                        "bin_start": 95.8,
                        "bin_end": 112.5,
                        "count": 2
                      },
                      {
                        "bin_start": 112.5,
                        "bin_end": 129.2,
                        "count": 16
                      },
                      {
                        "bin_start": 129.2,
                        "bin_end": 145.89999999999998,
                        "count": 20
                      },
                      {
                        "bin_start": 145.89999999999998,
                        "bin_end": 162.6,
                        "count": 4
                      },
                      {
                        "bin_start": 162.6,
                        "bin_end": 179.29999999999998,
                        "count": 3
                      },
                      {
                        "bin_start": 179.29999999999998,
                        "bin_end": 196,
                        "count": 50
                      }
                    ]
                  }
                },
                {
                  "name": "reading score",
                  "dtype": "float64",
                  "stats": {
                    "unique_count": 64,
                    "nan_count": 14,
                    "min": "26.0",
                    "max": "196.0",
                    "histogram": [
                      {
                        "bin_start": 26,
                        "bin_end": 43,
                        "count": 9
                      },
                      {
                        "bin_start": 43,
                        "bin_end": 60,
                        "count": 30
                      },
                      {
                        "bin_start": 60,
                        "bin_end": 77,
                        "count": 51
                      },
                      {
                        "bin_start": 77,
                        "bin_end": 94,
                        "count": 39
                      },
                      {
                        "bin_start": 94,
                        "bin_end": 111,
                        "count": 4
                      },
                      {
                        "bin_start": 111,
                        "bin_end": 128,
                        "count": 8
                      },
                      {
                        "bin_start": 128,
                        "bin_end": 145,
                        "count": 22
                      },
                      {
                        "bin_start": 145,
                        "bin_end": 162,
                        "count": 9
                      },
                      {
                        "bin_start": 162,
                        "bin_end": 179,
                        "count": 5
                      },
                      {
                        "bin_start": 179,
                        "bin_end": 196,
                        "count": 56
                      }
                    ]
                  }
                },
                {
                  "name": "writing score",
                  "dtype": "float64",
                  "stats": {
                    "unique_count": 70,
                    "nan_count": 18,
                    "min": "22.0",
                    "max": "196.0",
                    "histogram": [
                      {
                        "bin_start": 22,
                        "bin_end": 39.4,
                        "count": 8
                      },
                      {
                        "bin_start": 39.4,
                        "bin_end": 56.8,
                        "count": 26
                      },
                      {
                        "bin_start": 56.8,
                        "bin_end": 74.19999999999999,
                        "count": 56
                      },
                      {
                        "bin_start": 74.19999999999999,
                        "bin_end": 91.6,
                        "count": 34
                      },
                      {
                        "bin_start": 91.6,
                        "bin_end": 109,
                        "count": 7
                      },
                      {
                        "bin_start": 109,
                        "bin_end": 126.39999999999999,
                        "count": 18
                      },
                      {
                        "bin_start": 126.39999999999999,
                        "bin_end": 143.79999999999998,
                        "count": 20
                      },
                      {
                        "bin_start": 143.79999999999998,
                        "bin_end": 161.2,
                        "count": 4
                      },
                      {
                        "bin_start": 161.2,
                        "bin_end": 178.6,
                        "count": 2
                      },
                      {
                        "bin_start": 178.6,
                        "bin_end": 196,
                        "count": 54
                      }
                    ]
                  }
                },
                {
                  "name": "_deepnote_index_column",
                  "dtype": "int64"
                }
              ],
              "rows_top": [
                {
                  "names": "Rita Courtney",
                  "gender": "female",
                  "race/ethnicity": "group B",
                  "parental level of education": "some high school",
                  "lunch": "standard",
                  "test preparation course": "none",
                  "math score": 193,
                  "reading score": 193,
                  "writing score": 193,
                  "_deepnote_index_column": 12
                },
                {
                  "names": "Elizabeth Quintero",
                  "gender": "female",
                  "race/ethnicity": "group B",
                  "parental level of education": "some college",
                  "lunch": "standard",
                  "test preparation course": "none",
                  "math score": 82,
                  "reading score": 85,
                  "writing score": 87,
                  "_deepnote_index_column": 81
                },
                {
                  "names": "Michelle Gonzales",
                  "gender": "female",
                  "race/ethnicity": "group B",
                  "parental level of education": "some high school",
                  "lunch": "standard",
                  "test preparation course": "completed",
                  "math score": 60,
                  "reading score": 70,
                  "writing score": 74,
                  "_deepnote_index_column": 160
                },
                {
                  "names": "Carla Mendoza",
                  "gender": "female",
                  "race/ethnicity": "group D",
                  "parental level of education": "associate's degree",
                  "lunch": "free/reduced",
                  "test preparation course": "none",
                  "math score": 43,
                  "reading score": 60,
                  "writing score": 58,
                  "_deepnote_index_column": 170
                },
                {
                  "names": "Darlene Parker",
                  "gender": "female",
                  "race/ethnicity": "group C",
                  "parental level of education": "associate's degree",
                  "lunch": "standard",
                  "test preparation course": "none",
                  "math score": 54,
                  "reading score": 61,
                  "writing score": 58,
                  "_deepnote_index_column": 176
                },
                {
                  "names": "Larry Dunn",
                  "gender": "male",
                  "race/ethnicity": "group C",
                  "parental level of education": "some high school",
                  "lunch": "standard",
                  "test preparation course": "none",
                  "math score": 196,
                  "reading score": 193,
                  "writing score": 124,
                  "_deepnote_index_column": 207
                },
                {
                  "names": "Donita Hill",
                  "gender": "female",
                  "race/ethnicity": "group A",
                  "parental level of education": "bachelor's degree",
                  "lunch": "standard",
                  "test preparation course": "none",
                  "math score": 196,
                  "reading score": 196,
                  "writing score": 64,
                  "_deepnote_index_column": 215
                },
                {
                  "names": "Rodrick Rasch",
                  "gender": "male",
                  "race/ethnicity": "group E",
                  "parental level of education": "some high school",
                  "lunch": "standard",
                  "test preparation course": "none",
                  "math score": 193,
                  "reading score": 124,
                  "writing score": 142,
                  "_deepnote_index_column": 229
                },
                {
                  "names": "Eric Acosta",
                  "gender": "male",
                  "race/ethnicity": "group C",
                  "parental level of education": "master's degree",
                  "lunch": "free/reduced",
                  "test preparation course": "none",
                  "math score": 79,
                  "reading score": 81,
                  "writing score": 71,
                  "_deepnote_index_column": 282
                },
                {
                  "names": "Ana Rodriguez",
                  "gender": "female",
                  "race/ethnicity": "group C",
                  "parental level of education": "high school",
                  "lunch": "standard",
                  "test preparation course": "none",
                  "math score": 193,
                  "reading score": "nan",
                  "writing score": "nan",
                  "_deepnote_index_column": 287
                },
                {
                  "names": "Joel Reed",
                  "gender": "male",
                  "race/ethnicity": "group D",
                  "parental level of education": "some high school",
                  "lunch": "standard",
                  "test preparation course": "completed",
                  "math score": 122,
                  "reading score": 193,
                  "writing score": 142,
                  "_deepnote_index_column": 295
                },
                {
                  "names": "Leon Shipley",
                  "gender": "male",
                  "race/ethnicity": "group B",
                  "parental level of education": "some college",
                  "lunch": "standard",
                  "test preparation course": "completed",
                  "math score": 124,
                  "reading score": 147,
                  "writing score": 193,
                  "_deepnote_index_column": 315
                },
                {
                  "names": "Frankie Malan",
                  "gender": "male",
                  "race/ethnicity": "group D",
                  "parental level of education": "associate's degree",
                  "lunch": "free/reduced",
                  "test preparation course": "completed",
                  "math score": 79,
                  "reading score": 82,
                  "writing score": 80,
                  "_deepnote_index_column": 317
                },
                {
                  "names": "Karen Ogburn",
                  "gender": "female",
                  "race/ethnicity": "group A",
                  "parental level of education": "high school",
                  "lunch": "free/reduced",
                  "test preparation course": "completed",
                  "math score": 124,
                  "reading score": 193,
                  "writing score": 142,
                  "_deepnote_index_column": 320
                },
                {
                  "names": "Nancy Bassett",
                  "gender": "female",
                  "race/ethnicity": "group C",
                  "parental level of education": "high school",
                  "lunch": "standard",
                  "test preparation course": "none",
                  "math score": 54,
                  "reading score": 59,
                  "writing score": 62,
                  "_deepnote_index_column": 321
                },
                {
                  "names": "Ana Loredo",
                  "gender": "female",
                  "race/ethnicity": "group E",
                  "parental level of education": "master's degree",
                  "lunch": "standard",
                  "test preparation course": "completed",
                  "math score": 131,
                  "reading score": 188,
                  "writing score": 196,
                  "_deepnote_index_column": 325
                },
                {
                  "names": "Stanley Schroder",
                  "gender": "male",
                  "race/ethnicity": "group C",
                  "parental level of education": "associate's degree",
                  "lunch": "standard",
                  "test preparation course": "none",
                  "math score": 76,
                  "reading score": 70,
                  "writing score": 68,
                  "_deepnote_index_column": 333
                },
                {
                  "names": "Nancy Ramos",
                  "gender": "female",
                  "race/ethnicity": "group A",
                  "parental level of education": "some college",
                  "lunch": "standard",
                  "test preparation course": "completed",
                  "math score": 78,
                  "reading score": 87,
                  "writing score": 91,
                  "_deepnote_index_column": 334
                },
                {
                  "names": "Jeff Carlson",
                  "gender": "male",
                  "race/ethnicity": "group C",
                  "parental level of education": "some college",
                  "lunch": "standard",
                  "test preparation course": "none",
                  "math score": 69,
                  "reading score": 64,
                  "writing score": 68,
                  "_deepnote_index_column": 335
                },
                {
                  "names": "Robert Frazier",
                  "gender": "male",
                  "race/ethnicity": "group B",
                  "parental level of education": "associate's degree",
                  "lunch": "free/reduced",
                  "test preparation course": "none",
                  "math score": 57,
                  "reading score": 56,
                  "writing score": 57,
                  "_deepnote_index_column": 342
                },
                {
                  "names": "Catherine Grenier",
                  "gender": "female",
                  "race/ethnicity": "group A",
                  "parental level of education": "master's degree",
                  "lunch": "standard",
                  "test preparation course": "none",
                  "math score": 50,
                  "reading score": 53,
                  "writing score": 58,
                  "_deepnote_index_column": 352
                },
                {
                  "names": "Andrea Mcdavid",
                  "gender": "female",
                  "race/ethnicity": "group C",
                  "parental level of education": "associate's degree",
                  "lunch": "standard",
                  "test preparation course": "none",
                  "math score": 40,
                  "reading score": 59,
                  "writing score": 51,
                  "_deepnote_index_column": 356
                },
                {
                  "names": "Richard Garr",
                  "gender": "male",
                  "race/ethnicity": "group C",
                  "parental level of education": "some college",
                  "lunch": "standard",
                  "test preparation course": "none",
                  "math score": 53,
                  "reading score": 39,
                  "writing score": 37,
                  "_deepnote_index_column": 362
                },
                {
                  "names": "Howard Jimenez",
                  "gender": "male",
                  "race/ethnicity": "group E",
                  "parental level of education": "some high school",
                  "lunch": "standard",
                  "test preparation course": "completed",
                  "math score": 142,
                  "reading score": 142,
                  "writing score": 193,
                  "_deepnote_index_column": 375
                },
                {
                  "names": "Richard Harden",
                  "gender": "male",
                  "race/ethnicity": "group D",
                  "parental level of education": "some college",
                  "lunch": "free/reduced",
                  "test preparation course": "none",
                  "math score": 49,
                  "reading score": 196,
                  "writing score": 193,
                  "_deepnote_index_column": 386
                },
                {
                  "names": "George Mooney",
                  "gender": "male",
                  "race/ethnicity": "group C",
                  "parental level of education": "some college",
                  "lunch": "standard",
                  "test preparation course": "completed",
                  "math score": 79,
                  "reading score": 79,
                  "writing score": 78,
                  "_deepnote_index_column": 399
                },
                {
                  "names": "Audrey Mcdonald",
                  "gender": "female",
                  "race/ethnicity": "group D",
                  "parental level of education": "some college",
                  "lunch": "standard",
                  "test preparation course": "none",
                  "math score": 124,
                  "reading score": 193,
                  "writing score": 193,
                  "_deepnote_index_column": 403
                },
                {
                  "names": "Charles Smith",
                  "gender": "male",
                  "race/ethnicity": "group D",
                  "parental level of education": "some college",
                  "lunch": "standard",
                  "test preparation course": "none",
                  "math score": 124,
                  "reading score": 49,
                  "writing score": 193,
                  "_deepnote_index_column": 406
                },
                {
                  "names": "Carolyn Smartt",
                  "gender": "female",
                  "race/ethnicity": "group B",
                  "parental level of education": "associate's degree",
                  "lunch": "standard",
                  "test preparation course": "completed",
                  "math score": 52,
                  "reading score": 66,
                  "writing score": 73,
                  "_deepnote_index_column": 423
                },
                {
                  "names": "Julia Nicole",
                  "gender": "female",
                  "race/ethnicity": "group B",
                  "parental level of education": "some high school",
                  "lunch": "free/reduced",
                  "test preparation course": "completed",
                  "math score": 52,
                  "reading score": 67,
                  "writing score": 72,
                  "_deepnote_index_column": 424
                },
                {
                  "names": "Charles Kong",
                  "gender": "male",
                  "race/ethnicity": "group C",
                  "parental level of education": "associate's degree",
                  "lunch": "standard",
                  "test preparation course": "completed",
                  "math score": 82,
                  "reading score": 75,
                  "writing score": 77,
                  "_deepnote_index_column": 428
                },
                {
                  "names": "Aaron Oakden",
                  "gender": "male",
                  "race/ethnicity": "group D",
                  "parental level of education": "high school",
                  "lunch": "free/reduced",
                  "test preparation course": "none",
                  "math score": "nan",
                  "reading score": 193,
                  "writing score": 124,
                  "_deepnote_index_column": 441
                },
                {
                  "names": "Autumn Miller",
                  "gender": "female",
                  "race/ethnicity": "group D",
                  "parental level of education": "high school",
                  "lunch": "standard",
                  "test preparation course": "none",
                  "math score": 196,
                  "reading score": "nan",
                  "writing score": 193,
                  "_deepnote_index_column": 443
                },
                {
                  "names": "Tanya Freeman",
                  "gender": "female",
                  "race/ethnicity": "group C",
                  "parental level of education": "associate's degree",
                  "lunch": "free/reduced",
                  "test preparation course": "none",
                  "math score": 57,
                  "reading score": 78,
                  "writing score": 67,
                  "_deepnote_index_column": 473
                },
                {
                  "names": "Willie Neff",
                  "gender": "female",
                  "race/ethnicity": "group E",
                  "parental level of education": "associate's degree",
                  "lunch": "free/reduced",
                  "test preparation course": "none",
                  "math score": "nan",
                  "reading score": 193,
                  "writing score": 142,
                  "_deepnote_index_column": 476
                },
                {
                  "names": "Emma Gray",
                  "gender": "female",
                  "race/ethnicity": "group E",
                  "parental level of education": "bachelor's degree",
                  "lunch": "standard",
                  "test preparation course": "completed",
                  "math score": 188,
                  "reading score": 196,
                  "writing score": 196,
                  "_deepnote_index_column": 483
                },
                {
                  "names": "Kathryn Dale",
                  "gender": "female",
                  "race/ethnicity": "group B",
                  "parental level of education": "some college",
                  "lunch": "standard",
                  "test preparation course": "none",
                  "math score": "nan",
                  "reading score": 142,
                  "writing score": 142,
                  "_deepnote_index_column": 484
                },
                {
                  "names": "Milton Chaput",
                  "gender": "male",
                  "race/ethnicity": "group D",
                  "parental level of education": "high school",
                  "lunch": "standard",
                  "test preparation course": "none",
                  "math score": "nan",
                  "reading score": "nan",
                  "writing score": "nan",
                  "_deepnote_index_column": 497
                },
                {
                  "names": "Tammy Patterson",
                  "gender": "female",
                  "race/ethnicity": "group B",
                  "parental level of education": "high school",
                  "lunch": "standard",
                  "test preparation course": "none",
                  "math score": 58,
                  "reading score": 62,
                  "writing score": 59,
                  "_deepnote_index_column": 498
                },
                {
                  "names": "Audrey Darby",
                  "gender": "female",
                  "race/ethnicity": "group D",
                  "parental level of education": "some high school",
                  "lunch": "standard",
                  "test preparation course": "completed",
                  "math score": "nan",
                  "reading score": 142,
                  "writing score": 142,
                  "_deepnote_index_column": 500
                },
                {
                  "names": "Aubrey Thompson",
                  "gender": "male",
                  "race/ethnicity": "group A",
                  "parental level of education": "some college",
                  "lunch": "standard",
                  "test preparation course": "none",
                  "math score": 69,
                  "reading score": 67,
                  "writing score": 69,
                  "_deepnote_index_column": 504
                },
                {
                  "names": "Robert Miranda",
                  "gender": "male",
                  "race/ethnicity": "group C",
                  "parental level of education": "high school",
                  "lunch": "free/reduced",
                  "test preparation course": "none",
                  "math score": 124,
                  "reading score": 156,
                  "writing score": 196,
                  "_deepnote_index_column": 511
                },
                {
                  "names": "Ned Burke",
                  "gender": "male",
                  "race/ethnicity": "group E",
                  "parental level of education": "some college",
                  "lunch": "standard",
                  "test preparation course": "none",
                  "math score": 84,
                  "reading score": 77,
                  "writing score": 71,
                  "_deepnote_index_column": 515
                },
                {
                  "names": "Jonathan Clingan",
                  "gender": "male",
                  "race/ethnicity": "group D",
                  "parental level of education": "some college",
                  "lunch": "standard",
                  "test preparation course": "completed",
                  "math score": 124,
                  "reading score": 193,
                  "writing score": 124,
                  "_deepnote_index_column": 522
                },
                {
                  "names": "David Carnagey",
                  "gender": "male",
                  "race/ethnicity": "group D",
                  "parental level of education": "associate's degree",
                  "lunch": "standard",
                  "test preparation course": "none",
                  "math score": 193,
                  "reading score": 142,
                  "writing score": 124,
                  "_deepnote_index_column": 529
                },
                {
                  "names": "Andrew Duran",
                  "gender": "male",
                  "race/ethnicity": "group D",
                  "parental level of education": "some college",
                  "lunch": "standard",
                  "test preparation course": "none",
                  "math score": 156,
                  "reading score": 196,
                  "writing score": 193,
                  "_deepnote_index_column": 545
                },
                {
                  "names": "Oliver Seldon",
                  "gender": "male",
                  "race/ethnicity": "group B",
                  "parental level of education": "high school",
                  "lunch": "standard",
                  "test preparation course": "completed",
                  "math score": 76,
                  "reading score": 62,
                  "writing score": 60,
                  "_deepnote_index_column": 547
                },
                {
                  "names": "James Lydon",
                  "gender": "male",
                  "race/ethnicity": "group A",
                  "parental level of education": "high school",
                  "lunch": "standard",
                  "test preparation course": "none",
                  "math score": 193,
                  "reading score": "nan",
                  "writing score": "nan",
                  "_deepnote_index_column": 550
                },
                {
                  "names": "Johnathan Bishop",
                  "gender": "male",
                  "race/ethnicity": "group D",
                  "parental level of education": "bachelor's degree",
                  "lunch": "free/reduced",
                  "test preparation course": "completed",
                  "math score": 39,
                  "reading score": 42,
                  "writing score": 38,
                  "_deepnote_index_column": 558
                },
                {
                  "names": "Betty Buntin",
                  "gender": "female",
                  "race/ethnicity": "group A",
                  "parental level of education": "bachelor's degree",
                  "lunch": "standard",
                  "test preparation course": "none",
                  "math score": 196,
                  "reading score": 156,
                  "writing score": "nan",
                  "_deepnote_index_column": 570
                },
                {
                  "names": "Tina Willis",
                  "gender": "female",
                  "race/ethnicity": "group C",
                  "parental level of education": "high school",
                  "lunch": "free/reduced",
                  "test preparation course": "none",
                  "math score": 42,
                  "reading score": 193,
                  "writing score": 142,
                  "_deepnote_index_column": 581
                },
                {
                  "names": "Nicole Roberts",
                  "gender": "female",
                  "race/ethnicity": "group C",
                  "parental level of education": "some college",
                  "lunch": "standard",
                  "test preparation course": "completed",
                  "math score": 64,
                  "reading score": 131,
                  "writing score": 193,
                  "_deepnote_index_column": 588
                },
                {
                  "names": "Odette Carter",
                  "gender": "female",
                  "race/ethnicity": "group C",
                  "parental level of education": "some high school",
                  "lunch": "standard",
                  "test preparation course": "none",
                  "math score": 49,
                  "reading score": 63,
                  "writing score": 56,
                  "_deepnote_index_column": 598
                },
                {
                  "names": "Todd Bernard",
                  "gender": "male",
                  "race/ethnicity": "group C",
                  "parental level of education": "high school",
                  "lunch": "standard",
                  "test preparation course": "completed",
                  "math score": 75,
                  "reading score": 69,
                  "writing score": 68,
                  "_deepnote_index_column": 608
                },
                {
                  "names": "Richard Taylor",
                  "gender": "male",
                  "race/ethnicity": "group B",
                  "parental level of education": "associate's degree",
                  "lunch": "standard",
                  "test preparation course": "none",
                  "math score": 87,
                  "reading score": 85,
                  "writing score": 73,
                  "_deepnote_index_column": 620
                }
              ],
              "rows_bottom": [
                {
                  "names": "Charles Jackson",
                  "gender": "male",
                  "race/ethnicity": "group E",
                  "parental level of education": "some high school",
                  "lunch": "standard",
                  "test preparation course": "none",
                  "math score": 30,
                  "reading score": 26,
                  "writing score": 22,
                  "_deepnote_index_column": 1223
                },
                {
                  "names": "William Barich",
                  "gender": "male",
                  "race/ethnicity": "group A",
                  "parental level of education": "bachelor's degree",
                  "lunch": "free/reduced",
                  "test preparation course": "completed",
                  "math score": 49,
                  "reading score": 193,
                  "writing score": 142,
                  "_deepnote_index_column": 1231
                },
                {
                  "names": "Joseph Jaco",
                  "gender": "male",
                  "race/ethnicity": "group B",
                  "parental level of education": "some college",
                  "lunch": "free/reduced",
                  "test preparation course": "none",
                  "math score": 40,
                  "reading score": 182,
                  "writing score": 151,
                  "_deepnote_index_column": 1233
                },
                {
                  "names": "Joe Cooper",
                  "gender": "male",
                  "race/ethnicity": "group E",
                  "parental level of education": "associate's degree",
                  "lunch": "standard",
                  "test preparation course": "none",
                  "math score": 76,
                  "reading score": 71,
                  "writing score": 67,
                  "_deepnote_index_column": 1235
                },
                {
                  "names": "Jacqueline Holton",
                  "gender": "female",
                  "race/ethnicity": "group C",
                  "parental level of education": "high school",
                  "lunch": "free/reduced",
                  "test preparation course": "completed",
                  "math score": 142,
                  "reading score": 188,
                  "writing score": 147,
                  "_deepnote_index_column": 1236
                },
                {
                  "names": "Paula Barriere",
                  "gender": "female",
                  "race/ethnicity": "group D",
                  "parental level of education": "bachelor's degree",
                  "lunch": "free/reduced",
                  "test preparation course": "none",
                  "math score": 29,
                  "reading score": 142,
                  "writing score": "nan",
                  "_deepnote_index_column": 1238
                },
                {
                  "names": "Scott Mercer",
                  "gender": "male",
                  "race/ethnicity": "group E",
                  "parental level of education": "some college",
                  "lunch": "standard",
                  "test preparation course": "none",
                  "math score": 196,
                  "reading score": 196,
                  "writing score": 182,
                  "_deepnote_index_column": 1239
                },
                {
                  "names": "Brian Young",
                  "gender": "male",
                  "race/ethnicity": "group C",
                  "parental level of education": "some high school",
                  "lunch": "standard",
                  "test preparation course": "none",
                  "math score": "nan",
                  "reading score": "nan",
                  "writing score": "nan",
                  "_deepnote_index_column": 1243
                },
                {
                  "names": "Sheron Luzar",
                  "gender": "female",
                  "race/ethnicity": "group B",
                  "parental level of education": "some high school",
                  "lunch": "free/reduced",
                  "test preparation course": "completed",
                  "math score": 196,
                  "reading score": "nan",
                  "writing score": 64,
                  "_deepnote_index_column": 1245
                },
                {
                  "names": "Carmelia Solis",
                  "gender": "female",
                  "race/ethnicity": "group B",
                  "parental level of education": "associate's degree",
                  "lunch": "free/reduced",
                  "test preparation course": "none",
                  "math score": 53,
                  "reading score": 71,
                  "writing score": 67,
                  "_deepnote_index_column": 1247
                },
                {
                  "names": "Dale Sylvain",
                  "gender": "male",
                  "race/ethnicity": "group D",
                  "parental level of education": "some college",
                  "lunch": "free/reduced",
                  "test preparation course": "none",
                  "math score": "nan",
                  "reading score": 193,
                  "writing score": 142,
                  "_deepnote_index_column": 1248
                },
                {
                  "names": "Kathryn Neville",
                  "gender": "female",
                  "race/ethnicity": "group C",
                  "parental level of education": "some college",
                  "lunch": "standard",
                  "test preparation course": "none",
                  "math score": 55,
                  "reading score": 69,
                  "writing score": 65,
                  "_deepnote_index_column": 1251
                },
                {
                  "names": "Joshua Davis",
                  "gender": "male",
                  "race/ethnicity": "group C",
                  "parental level of education": "some college",
                  "lunch": "free/reduced",
                  "test preparation course": "none",
                  "math score": 193,
                  "reading score": 193,
                  "writing score": 193,
                  "_deepnote_index_column": 1257
                },
                {
                  "names": "Maxine Gulbranson",
                  "gender": "female",
                  "race/ethnicity": "group D",
                  "parental level of education": "some high school",
                  "lunch": "free/reduced",
                  "test preparation course": "none",
                  "math score": 48,
                  "reading score": 54,
                  "writing score": 53,
                  "_deepnote_index_column": 1259
                },
                {
                  "names": "Leona Markow",
                  "gender": "female",
                  "race/ethnicity": "group A",
                  "parental level of education": "some college",
                  "lunch": "standard",
                  "test preparation course": "none",
                  "math score": 56,
                  "reading score": 58,
                  "writing score": 64,
                  "_deepnote_index_column": 1260
                },
                {
                  "names": "Bobby Lloyd",
                  "gender": "male",
                  "race/ethnicity": "group C",
                  "parental level of education": "some college",
                  "lunch": "standard",
                  "test preparation course": "none",
                  "math score": 58,
                  "reading score": 49,
                  "writing score": 42,
                  "_deepnote_index_column": 1264
                },
                {
                  "names": "Sofia Williams",
                  "gender": "female",
                  "race/ethnicity": "group C",
                  "parental level of education": "some college",
                  "lunch": "free/reduced",
                  "test preparation course": "none",
                  "math score": 32,
                  "reading score": 39,
                  "writing score": 33,
                  "_deepnote_index_column": 1265
                },
                {
                  "names": "Norman Reed",
                  "gender": "male",
                  "race/ethnicity": "group E",
                  "parental level of education": "some college",
                  "lunch": "standard",
                  "test preparation course": "none",
                  "math score": 193,
                  "reading score": 193,
                  "writing score": 193,
                  "_deepnote_index_column": 1269
                },
                {
                  "names": "Mary Levy",
                  "gender": "female",
                  "race/ethnicity": "group D",
                  "parental level of education": "some college",
                  "lunch": "free/reduced",
                  "test preparation course": "none",
                  "math score": 142,
                  "reading score": "nan",
                  "writing score": "nan",
                  "_deepnote_index_column": 1271
                },
                {
                  "names": "Matthew Freeman",
                  "gender": "male",
                  "race/ethnicity": "group B",
                  "parental level of education": "high school",
                  "lunch": "standard",
                  "test preparation course": "completed",
                  "math score": 193,
                  "reading score": 49,
                  "writing score": 193,
                  "_deepnote_index_column": 1279
                },
                {
                  "names": "Nicole Obrien",
                  "gender": "female",
                  "race/ethnicity": "group B",
                  "parental level of education": "bachelor's degree",
                  "lunch": "free/reduced",
                  "test preparation course": "none",
                  "math score": 193,
                  "reading score": 124,
                  "writing score": 124,
                  "_deepnote_index_column": 1283
                },
                {
                  "names": "Harvey Pribbenow",
                  "gender": "male",
                  "race/ethnicity": "group D",
                  "parental level of education": "bachelor's degree",
                  "lunch": "free/reduced",
                  "test preparation course": "none",
                  "math score": 174,
                  "reading score": 193,
                  "writing score": 193,
                  "_deepnote_index_column": 1285
                },
                {
                  "names": "Anna Johnson",
                  "gender": "female",
                  "race/ethnicity": "group B",
                  "parental level of education": "high school",
                  "lunch": "free/reduced",
                  "test preparation course": "none",
                  "math score": 60,
                  "reading score": 72,
                  "writing score": 68,
                  "_deepnote_index_column": 1289
                },
                {
                  "names": "Jason Keck",
                  "gender": "male",
                  "race/ethnicity": "group A",
                  "parental level of education": "some college",
                  "lunch": "free/reduced",
                  "test preparation course": "completed",
                  "math score": 81,
                  "reading score": 78,
                  "writing score": 81,
                  "_deepnote_index_column": 1290
                },
                {
                  "names": "Bonnie Rodriguez",
                  "gender": "female",
                  "race/ethnicity": "group E",
                  "parental level of education": "high school",
                  "lunch": "standard",
                  "test preparation course": "completed",
                  "math score": 74,
                  "reading score": 79,
                  "writing score": 80,
                  "_deepnote_index_column": 1291
                },
                {
                  "names": "Oscar Markow",
                  "gender": "male",
                  "race/ethnicity": "group C",
                  "parental level of education": "some high school",
                  "lunch": "free/reduced",
                  "test preparation course": "completed",
                  "math score": 196,
                  "reading score": 142,
                  "writing score": 124,
                  "_deepnote_index_column": 1292
                },
                {
                  "names": "Tom Sastre",
                  "gender": "male",
                  "race/ethnicity": "group B",
                  "parental level of education": "high school",
                  "lunch": "standard",
                  "test preparation course": "none",
                  "math score": 47,
                  "reading score": 46,
                  "writing score": 42,
                  "_deepnote_index_column": 1295
                },
                {
                  "names": "Shane Polite",
                  "gender": "male",
                  "race/ethnicity": "group C",
                  "parental level of education": "master's degree",
                  "lunch": "free/reduced",
                  "test preparation course": "completed",
                  "math score": 79,
                  "reading score": 77,
                  "writing score": 75,
                  "_deepnote_index_column": 1296
                },
                {
                  "names": "Ashley Mcray",
                  "gender": "female",
                  "race/ethnicity": "group B",
                  "parental level of education": "associate's degree",
                  "lunch": "standard",
                  "test preparation course": "none",
                  "math score": 82,
                  "reading score": 80,
                  "writing score": 77,
                  "_deepnote_index_column": 1297
                },
                {
                  "names": "Kelle Lanterman",
                  "gender": "female",
                  "race/ethnicity": "group E",
                  "parental level of education": "high school",
                  "lunch": "free/reduced",
                  "test preparation course": "none",
                  "math score": 41,
                  "reading score": 45,
                  "writing score": 40,
                  "_deepnote_index_column": 1300
                },
                {
                  "names": "Sheila Friel",
                  "gender": "female",
                  "race/ethnicity": "group D",
                  "parental level of education": "some college",
                  "lunch": "free/reduced",
                  "test preparation course": "none",
                  "math score": 49,
                  "reading score": 58,
                  "writing score": 60,
                  "_deepnote_index_column": 1301
                },
                {
                  "names": "Dolores Reddy",
                  "gender": "female",
                  "race/ethnicity": "group D",
                  "parental level of education": "bachelor's degree",
                  "lunch": "standard",
                  "test preparation course": "none",
                  "math score": 59,
                  "reading score": 70,
                  "writing score": 73,
                  "_deepnote_index_column": 1304
                },
                {
                  "names": "Raymond Wiggins",
                  "gender": "male",
                  "race/ethnicity": "group C",
                  "parental level of education": "associate's degree",
                  "lunch": "free/reduced",
                  "test preparation course": "none",
                  "math score": 193,
                  "reading score": 174,
                  "writing score": 124,
                  "_deepnote_index_column": 1306
                },
                {
                  "names": "Jacqueline Mayrant",
                  "gender": "female",
                  "race/ethnicity": "group E",
                  "parental level of education": "some high school",
                  "lunch": "free/reduced",
                  "test preparation course": "none",
                  "math score": 156,
                  "reading score": 188,
                  "writing score": 193,
                  "_deepnote_index_column": 1313
                },
                {
                  "names": "Edward Lee",
                  "gender": "male",
                  "race/ethnicity": "group D",
                  "parental level of education": "some high school",
                  "lunch": "standard",
                  "test preparation course": "completed",
                  "math score": 193,
                  "reading score": 122,
                  "writing score": 131,
                  "_deepnote_index_column": 1316
                },
                {
                  "names": "Cleo Jefferson",
                  "gender": "female",
                  "race/ethnicity": "group D",
                  "parental level of education": "master's degree",
                  "lunch": "standard",
                  "test preparation course": "none",
                  "math score": 87,
                  "reading score": 100,
                  "writing score": 100,
                  "_deepnote_index_column": 1322
                },
                {
                  "names": "Connie Banda",
                  "gender": "female",
                  "race/ethnicity": "group C",
                  "parental level of education": "some college",
                  "lunch": "standard",
                  "test preparation course": "completed",
                  "math score": 88,
                  "reading score": 93,
                  "writing score": 93,
                  "_deepnote_index_column": 1329
                },
                {
                  "names": "Jeane Budds",
                  "gender": "female",
                  "race/ethnicity": "group D",
                  "parental level of education": "some college",
                  "lunch": "standard",
                  "test preparation course": "none",
                  "math score": 62,
                  "reading score": 70,
                  "writing score": 72,
                  "_deepnote_index_column": 1336
                },
                {
                  "names": "Scott Price",
                  "gender": "male",
                  "race/ethnicity": "group C",
                  "parental level of education": "some college",
                  "lunch": "free/reduced",
                  "test preparation course": "none",
                  "math score": 63,
                  "reading score": 61,
                  "writing score": 54,
                  "_deepnote_index_column": 1337
                },
                {
                  "names": "James Daniel",
                  "gender": "male",
                  "race/ethnicity": "group C",
                  "parental level of education": "associate's degree",
                  "lunch": "standard",
                  "test preparation course": "none",
                  "math score": 84,
                  "reading score": 80,
                  "writing score": 80,
                  "_deepnote_index_column": 1338
                },
                {
                  "names": "Richard Henry",
                  "gender": "male",
                  "race/ethnicity": "group D",
                  "parental level of education": "associate's degree",
                  "lunch": "standard",
                  "test preparation course": "none",
                  "math score": 193,
                  "reading score": 174,
                  "writing score": 193,
                  "_deepnote_index_column": 1339
                },
                {
                  "names": "Derrick Crasco",
                  "gender": "male",
                  "race/ethnicity": "group B",
                  "parental level of education": "associate's degree",
                  "lunch": "free/reduced",
                  "test preparation course": "completed",
                  "math score": 131,
                  "reading score": 142,
                  "writing score": 193,
                  "_deepnote_index_column": 1340
                },
                {
                  "names": "Sara Kochan",
                  "gender": "female",
                  "race/ethnicity": "group D",
                  "parental level of education": "bachelor's degree",
                  "lunch": "standard",
                  "test preparation course": "none",
                  "math score": 188,
                  "reading score": 193,
                  "writing score": 193,
                  "_deepnote_index_column": 1345
                },
                {
                  "names": "Bambi Dyer",
                  "gender": "female",
                  "race/ethnicity": "group D",
                  "parental level of education": "associate's degree",
                  "lunch": "free/reduced",
                  "test preparation course": "none",
                  "math score": 193,
                  "reading score": 196,
                  "writing score": 142,
                  "_deepnote_index_column": 1346
                },
                {
                  "names": "Carolyn Greer",
                  "gender": "female",
                  "race/ethnicity": "group D",
                  "parental level of education": "some college",
                  "lunch": "standard",
                  "test preparation course": "none",
                  "math score": 79,
                  "reading score": 86,
                  "writing score": 81,
                  "_deepnote_index_column": 1348
                },
                {
                  "names": "Kari Mitchell",
                  "gender": "female",
                  "race/ethnicity": "group D",
                  "parental level of education": "some college",
                  "lunch": "free/reduced",
                  "test preparation course": "none",
                  "math score": 193,
                  "reading score": 193,
                  "writing score": 193,
                  "_deepnote_index_column": 1350
                },
                {
                  "names": "Zachary Glenn",
                  "gender": "male",
                  "race/ethnicity": "group E",
                  "parental level of education": "some college",
                  "lunch": "standard",
                  "test preparation course": "completed",
                  "math score": 99,
                  "reading score": 87,
                  "writing score": 81,
                  "_deepnote_index_column": 1355
                },
                {
                  "names": "Frank Shaffer",
                  "gender": "male",
                  "race/ethnicity": "group A",
                  "parental level of education": "bachelor's degree",
                  "lunch": "standard",
                  "test preparation course": "none",
                  "math score": 91,
                  "reading score": 96,
                  "writing score": 92,
                  "_deepnote_index_column": 1360
                },
                {
                  "names": "Tammi Aline",
                  "gender": "female",
                  "race/ethnicity": "group E",
                  "parental level of education": "associate's degree",
                  "lunch": "standard",
                  "test preparation course": "completed",
                  "math score": 95,
                  "reading score": 89,
                  "writing score": 92,
                  "_deepnote_index_column": 1364
                },
                {
                  "names": "Shawn Lopez",
                  "gender": "male",
                  "race/ethnicity": "group D",
                  "parental level of education": "some college",
                  "lunch": "standard",
                  "test preparation course": "completed",
                  "math score": 193,
                  "reading score": 196,
                  "writing score": 193,
                  "_deepnote_index_column": 1369
                },
                {
                  "names": "Logan Camp",
                  "gender": "male",
                  "race/ethnicity": "group C",
                  "parental level of education": "associate's degree",
                  "lunch": "free/reduced",
                  "test preparation course": "none",
                  "math score": 193,
                  "reading score": 124,
                  "writing score": 193,
                  "_deepnote_index_column": 1378
                },
                {
                  "names": "James Crawford",
                  "gender": "male",
                  "race/ethnicity": "group D",
                  "parental level of education": "master's degree",
                  "lunch": "standard",
                  "test preparation course": "none",
                  "math score": 193,
                  "reading score": 147,
                  "writing score": 131,
                  "_deepnote_index_column": 1385
                },
                {
                  "names": "Gloria Bradford",
                  "gender": "female",
                  "race/ethnicity": "group B",
                  "parental level of education": "high school",
                  "lunch": "standard",
                  "test preparation course": "none",
                  "math score": 124,
                  "reading score": 64,
                  "writing score": 193,
                  "_deepnote_index_column": 1390
                },
                {
                  "names": "Adam Romero",
                  "gender": "male",
                  "race/ethnicity": "group C",
                  "parental level of education": "high school",
                  "lunch": "standard",
                  "test preparation course": "completed",
                  "math score": 124,
                  "reading score": 193,
                  "writing score": 49,
                  "_deepnote_index_column": 1393
                },
                {
                  "names": "Alexander Dillon",
                  "gender": "male",
                  "race/ethnicity": "group D",
                  "parental level of education": "associate's degree",
                  "lunch": "standard",
                  "test preparation course": "none",
                  "math score": 193,
                  "reading score": 142,
                  "writing score": 193,
                  "_deepnote_index_column": 1395
                },
                {
                  "names": "Joseph Mccoy",
                  "gender": "male",
                  "race/ethnicity": "group D",
                  "parental level of education": "some college",
                  "lunch": "free/reduced",
                  "test preparation course": "none",
                  "math score": 193,
                  "reading score": 196,
                  "writing score": 193,
                  "_deepnote_index_column": 1398
                }
              ]
            },
            "text/plain": "                   names  gender race/ethnicity parental level of education  \\\n12         Rita Courtney  female        group B            some high school   \n81    Elizabeth Quintero  female        group B                some college   \n160    Michelle Gonzales  female        group B            some high school   \n170        Carla Mendoza  female        group D          associate's degree   \n176       Darlene Parker  female        group C          associate's degree   \n...                  ...     ...            ...                         ...   \n1385      James Crawford    male        group D             master's degree   \n1390     Gloria Bradford  female        group B                 high school   \n1393         Adam Romero    male        group C                 high school   \n1395    Alexander Dillon    male        group D          associate's degree   \n1398        Joseph Mccoy    male        group D                some college   \n\n             lunch test preparation course  math score  reading score  \\\n12        standard                    none       193.0          193.0   \n81        standard                    none        82.0           85.0   \n160       standard               completed        60.0           70.0   \n170   free/reduced                    none        43.0           60.0   \n176       standard                    none        54.0           61.0   \n...            ...                     ...         ...            ...   \n1385      standard                    none       193.0          147.0   \n1390      standard                    none       124.0           64.0   \n1393      standard               completed       124.0          193.0   \n1395      standard                    none       193.0          142.0   \n1398  free/reduced                    none       193.0          196.0   \n\n      writing score  \n12            193.0  \n81             87.0  \n160            74.0  \n170            58.0  \n176            58.0  \n...             ...  \n1385          131.0  \n1390          193.0  \n1393           49.0  \n1395          193.0  \n1398          193.0  \n\n[247 rows x 9 columns]",
            "text/html": "<div>\n<style scoped>\n    .dataframe tbody tr th:only-of-type {\n        vertical-align: middle;\n    }\n\n    .dataframe tbody tr th {\n        vertical-align: top;\n    }\n\n    .dataframe thead th {\n        text-align: right;\n    }\n</style>\n<table border=\"1\" class=\"dataframe\">\n  <thead>\n    <tr style=\"text-align: right;\">\n      <th></th>\n      <th>names</th>\n      <th>gender</th>\n      <th>race/ethnicity</th>\n      <th>parental level of education</th>\n      <th>lunch</th>\n      <th>test preparation course</th>\n      <th>math score</th>\n      <th>reading score</th>\n      <th>writing score</th>\n    </tr>\n  </thead>\n  <tbody>\n    <tr>\n      <th>12</th>\n      <td>Rita Courtney</td>\n      <td>female</td>\n      <td>group B</td>\n      <td>some high school</td>\n      <td>standard</td>\n      <td>none</td>\n      <td>193.0</td>\n      <td>193.0</td>\n      <td>193.0</td>\n    </tr>\n    <tr>\n      <th>81</th>\n      <td>Elizabeth Quintero</td>\n      <td>female</td>\n      <td>group B</td>\n      <td>some college</td>\n      <td>standard</td>\n      <td>none</td>\n      <td>82.0</td>\n      <td>85.0</td>\n      <td>87.0</td>\n    </tr>\n    <tr>\n      <th>160</th>\n      <td>Michelle Gonzales</td>\n      <td>female</td>\n      <td>group B</td>\n      <td>some high school</td>\n      <td>standard</td>\n      <td>completed</td>\n      <td>60.0</td>\n      <td>70.0</td>\n      <td>74.0</td>\n    </tr>\n    <tr>\n      <th>170</th>\n      <td>Carla Mendoza</td>\n      <td>female</td>\n      <td>group D</td>\n      <td>associate's degree</td>\n      <td>free/reduced</td>\n      <td>none</td>\n      <td>43.0</td>\n      <td>60.0</td>\n      <td>58.0</td>\n    </tr>\n    <tr>\n      <th>176</th>\n      <td>Darlene Parker</td>\n      <td>female</td>\n      <td>group C</td>\n      <td>associate's degree</td>\n      <td>standard</td>\n      <td>none</td>\n      <td>54.0</td>\n      <td>61.0</td>\n      <td>58.0</td>\n    </tr>\n    <tr>\n      <th>...</th>\n      <td>...</td>\n      <td>...</td>\n      <td>...</td>\n      <td>...</td>\n      <td>...</td>\n      <td>...</td>\n      <td>...</td>\n      <td>...</td>\n      <td>...</td>\n    </tr>\n    <tr>\n      <th>1385</th>\n      <td>James Crawford</td>\n      <td>male</td>\n      <td>group D</td>\n      <td>master's degree</td>\n      <td>standard</td>\n      <td>none</td>\n      <td>193.0</td>\n      <td>147.0</td>\n      <td>131.0</td>\n    </tr>\n    <tr>\n      <th>1390</th>\n      <td>Gloria Bradford</td>\n      <td>female</td>\n      <td>group B</td>\n      <td>high school</td>\n      <td>standard</td>\n      <td>none</td>\n      <td>124.0</td>\n      <td>64.0</td>\n      <td>193.0</td>\n    </tr>\n    <tr>\n      <th>1393</th>\n      <td>Adam Romero</td>\n      <td>male</td>\n      <td>group C</td>\n      <td>high school</td>\n      <td>standard</td>\n      <td>completed</td>\n      <td>124.0</td>\n      <td>193.0</td>\n      <td>49.0</td>\n    </tr>\n    <tr>\n      <th>1395</th>\n      <td>Alexander Dillon</td>\n      <td>male</td>\n      <td>group D</td>\n      <td>associate's degree</td>\n      <td>standard</td>\n      <td>none</td>\n      <td>193.0</td>\n      <td>142.0</td>\n      <td>193.0</td>\n    </tr>\n    <tr>\n      <th>1398</th>\n      <td>Joseph Mccoy</td>\n      <td>male</td>\n      <td>group D</td>\n      <td>some college</td>\n      <td>free/reduced</td>\n      <td>none</td>\n      <td>193.0</td>\n      <td>196.0</td>\n      <td>193.0</td>\n    </tr>\n  </tbody>\n</table>\n<p>247 rows × 9 columns</p>\n</div>"
          },
          "metadata": {},
          "output_type": "display_data"
        },
        {
          "name": "stdout",
          "text": "\n9.- Boxplot de notas:\n",
          "output_type": "stream"
        },
        {
          "data": {
            "text/html": "<html>\n<head><meta charset=\"utf-8\" /></head>\n<body>\n    <div>            <script src=\"https://cdnjs.cloudflare.com/ajax/libs/mathjax/2.7.5/MathJax.js?config=TeX-AMS-MML_SVG\"></script><script type=\"text/javascript\">if (window.MathJax) {MathJax.Hub.Config({SVG: {font: \"STIX-Web\"}});}</script>                <script type=\"text/javascript\">window.PlotlyConfig = {MathJaxConfig: 'local'};</script>\n        <script src=\"https://cdn.plot.ly/plotly-2.4.2.min.js\"></script>                <div id=\"c29d6797-23b9-45a1-b905-5e2778425a29\" class=\"plotly-graph-div\" style=\"height:525px; width:100%;\"></div>            <script type=\"text/javascript\">                                    window.PLOTLYENV=window.PLOTLYENV || {};                                    if (document.getElementById(\"c29d6797-23b9-45a1-b905-5e2778425a29\")) {                    Plotly.newPlot(                        \"c29d6797-23b9-45a1-b905-5e2778425a29\",                        [{\"alignmentgroup\":\"True\",\"hovertemplate\":\"subject=math score<br>score=%{y}<extra></extra>\",\"legendgroup\":\"math score\",\"marker\":{\"color\":\"#636efa\"},\"name\":\"math score\",\"notched\":false,\"offsetgroup\":\"math score\",\"orientation\":\"v\",\"showlegend\":true,\"type\":\"box\",\"x0\":\" \",\"xaxis\":\"x\",\"y\":[37.0,124.0,156.0,80.0,131.0,73.0,81.0,94.0,71.0,75.0,124.0,188.0,193.0,34.0,193.0,63.0,94.0,65.0,95.0,52.0,62.0,74.0,142.0,124.0,62.0,73.0,46.0,82.0,124.0,63.0,64.0,80.0,124.0,131.0,null,93.0,69.0,46.0,86.0,59.0,84.0,64.0,73.0,83.0,131.0,75.0,69.0,68.0,193.0,57.0,66.0,61.0,40.0,50.0,48.0,36.0,78.0,196.0,57.0,122.0,196.0,69.0,124.0,40.0,92.0,188.0,35.0,63.0,193.0,73.0,63.0,52.0,131.0,73.0,63.0,124.0,71.0,45.0,85.0,80.0,40.0,82.0,188.0,77.0,91.0,null,196.0,60.0,63.0,40.0,174.0,57.0,58.0,147.0,188.0,97.0,81.0,68.0,59.0,96.0,87.0,57.0,193.0,193.0,142.0,94.0,97.0,124.0,65.0,82.0,72.0,62.0,44.0,49.0,196.0,82.0,75.0,193.0,59.0,75.0,72.0,68.0,193.0,124.0,66.0,196.0,null,67.0,93.0,69.0,142.0,63.0,46.0,66.0,193.0,49.0,62.0,182.0,48.0,null,71.0,193.0,147.0,193.0,54.0,80.0,55.0,193.0,90.0,94.0,81.0,34.0,193.0,53.0,124.0,61.0,75.0,74.0,62.0,70.0,60.0,59.0,193.0,62.0,53.0,80.0,69.0,69.0,69.0,49.0,43.0,83.0,65.0,73.0,68.0,64.0,54.0,65.0,193.0,49.0,58.0,66.0,65.0,65.0,193.0,70.0,79.0,50.0,193.0,188.0,64.0,124.0,68.0,32.0,68.0,58.0,19.0,193.0,69.0,72.0,53.0,64.0,61.0,78.0,53.0,45.0,44.0,196.0,83.0,65.0,88.0,88.0,91.0,84.0,51.0,196.0,196.0,null,38.0,193.0,47.0,66.0,61.0,60.0,71.0,45.0,77.0,53.0,193.0,193.0,57.0,124.0,193.0,131.0,193.0,72.0,76.0,45.0,193.0,99.0,51.0,64.0,52.0,80.0,51.0,193.0,193.0,196.0,50.0,64.0,74.0,196.0,71.0,57.0,69.0,77.0,193.0,75.0,196.0,43.0,80.0,193.0,null,122.0,59.0,85.0,55.0,44.0,42.0,58.0,61.0,50.0,64.0,88.0,73.0,95.0,124.0,174.0,67.0,97.0,61.0,62.0,79.0,54.0,66.0,193.0,174.0,193.0,174.0,78.0,193.0,85.0,84.0,76.0,44.0,122.0,81.0,54.0,58.0,124.0,81.0,35.0,72.0,71.0,61.0,66.0,71.0,71.0,89.0,73.0,81.0,46.0,22.0,124.0,48.0,124.0,44.0,79.0,91.0,76.0,124.0,54.0,77.0,62.0,67.0,131.0,196.0,86.0,58.0,53.0,57.0,182.0,69.0,76.0,78.0,69.0,124.0,62.0,37.0,196.0,88.0,90.0,57.0,193.0,68.0,65.0,63.0,124.0,52.0,48.0,65.0,54.0,50.0,124.0,193.0,122.0,40.0,29.0,26.0,70.0,196.0,75.0,53.0,64.0,60.0,98.0,93.0,59.0,46.0,null,76.0,79.0,28.0,55.0,61.0,142.0,196.0,193.0,193.0,35.0,193.0,94.0,193.0,46.0,100.0,67.0,49.0,193.0,50.0,79.0,142.0,71.0,null,83.0,55.0,193.0,48.0,76.0,77.0,79.0,193.0,62.0,56.0,124.0,68.0,84.0,124.0,80.0,62.0,124.0,60.0,64.0,29.0,52.0,53.0,131.0,67.0,82.0,56.0,79.0,142.0,73.0,66.0,52.0,52.0,73.0,66.0,84.0,82.0,193.0,74.0,193.0,76.0,81.0,79.0,124.0,68.0,128.0,63.0,142.0,124.0,null,50.0,196.0,196.0,72.0,85.0,196.0,83.0,84.0,65.0,null,85.0,70.0,58.0,86.0,64.0,65.0,124.0,61.0,193.0,49.0,53.0,97.0,196.0,75.0,72.0,124.0,74.0,59.0,68.0,78.0,53.0,57.0,72.0,99.0,null,79.0,91.0,83.0,null,72.0,142.0,188.0,null,61.0,73.0,59.0,100.0,61.0,77.0,71.0,49.0,62.0,193.0,86.0,75.0,null,58.0,47.0,null,131.0,193.0,63.0,69.0,null,70.0,68.0,61.0,71.0,122.0,124.0,142.0,81.0,100.0,84.0,77.0,53.0,71.0,73.0,193.0,65.0,124.0,193.0,49.0,52.0,65.0,59.0,80.0,193.0,62.0,57.0,46.0,58.0,67.0,73.0,72.0,40.0,78.0,63.0,61.0,79.0,77.0,70.0,53.0,156.0,151.0,76.0,45.0,40.0,193.0,82.0,124.0,193.0,78.0,75.0,70.0,55.0,39.0,188.0,null,70.0,30.0,75.0,63.0,82.0,74.0,54.0,124.0,71.0,196.0,142.0,73.0,77.0,77.0,87.0,87.0,74.0,67.0,43.0,49.0,42.0,49.0,null,124.0,193.0,53.0,64.0,64.0,196.0,61.0,79.0,null,69.0,54.0,65.0,77.0,58.0,49.0,73.0,124.0,54.0,142.0,54.0,64.0,null,59.0,76.0,75.0,85.0,131.0,97.0,193.0,188.0,53.0,52.0,142.0,77.0,79.0,57.0,87.0,66.0,193.0,193.0,63.0,65.0,64.0,124.0,68.0,55.0,72.0,86.0,142.0,35.0,97.0,124.0,75.0,52.0,74.0,70.0,39.0,61.0,193.0,44.0,193.0,32.0,193.0,77.0,49.0,87.0,193.0,66.0,68.0,196.0,193.0,65.0,62.0,81.0,196.0,70.0,124.0,null,74.0,94.0,142.0,193.0,76.0,59.0,156.0,68.0,124.0,193.0,193.0,73.0,null,193.0,124.0,100.0,131.0,8.0,65.0,40.0,48.0,89.0,77.0,193.0,65.0,69.0,68.0,49.0,62.0,50.0,56.0,46.0,124.0,38.0,53.0,142.0,193.0,60.0,91.0,90.0,73.0,70.0,47.0,65.0,81.0,55.0,93.0,142.0,193.0,124.0,142.0,65.0,131.0,62.0,48.0,196.0,68.0,66.0,55.0,42.0,54.0,74.0,37.0,66.0,88.0,69.0,166.0,61.0,193.0,39.0,87.0,142.0,64.0,44.0,131.0,59.0,80.0,33.0,71.0,76.0,53.0,78.0,55.0,70.0,65.0,193.0,86.0,47.0,54.0,41.0,193.0,78.0,83.0,54.0,90.0,59.0,65.0,null,67.0,193.0,null,89.0,59.0,73.0,74.0,86.0,55.0,61.0,57.0,58.0,42.0,45.0,null,63.0,61.0,81.0,92.0,193.0,67.0,94.0,56.0,62.0,70.0,142.0,70.0,76.0,64.0,47.0,66.0,86.0,40.0,66.0,68.0,51.0,45.0,88.0,90.0,52.0,49.0,53.0,171.0,193.0,71.0,50.0,58.0,42.0,67.0,39.0,85.0,62.0,78.0,73.0,68.0,89.0,40.0,82.0,69.0,null,77.0,69.0,79.0,53.0,43.0,58.0,76.0,40.0,88.0,69.0,49.0,85.0,69.0,72.0,57.0,58.0,62.0,62.0,142.0,142.0,75.0,88.0,81.0,193.0,null,193.0,67.0,142.0,67.0,166.0,74.0,188.0,74.0,95.0,71.0,193.0,85.0,193.0,124.0,131.0,188.0,142.0,196.0,56.0,82.0,124.0,85.0,60.0,63.0,51.0,50.0,81.0,64.0,87.0,46.0,58.0,62.0,76.0,60.0,193.0,50.0,124.0,193.0,142.0,77.0,124.0,64.0,null,61.0,60.0,193.0,67.0,64.0,193.0,196.0,90.0,59.0,53.0,48.0,193.0,35.0,60.0,82.0,58.0,60.0,66.0,null,85.0,124.0,49.0,77.0,67.0,69.0,131.0,50.0,62.0,83.0,81.0,92.0,70.0,72.0,92.0,51.0,156.0,87.0,71.0,59.0,193.0,124.0,88.0,61.0,193.0,82.0,193.0,71.0,75.0,43.0,142.0,51.0,62.0,75.0,63.0,174.0,71.0,67.0,71.0,61.0,56.0,98.0,82.0,75.0,59.0,193.0,71.0,44.0,77.0,65.0,196.0,57.0,60.0,27.0,58.0,70.0,38.0,42.0,100.0,193.0,89.0,35.0,74.0,77.0,62.0,79.0,124.0,46.0,74.0,196.0,59.0,66.0,124.0,47.0,142.0,77.0,78.0,52.0,null,70.0,193.0,58.0,193.0,68.0,69.0,87.0,52.0,72.0,85.0,196.0,41.0,61.0,67.0,54.0,75.0,80.0,63.0,52.0,62.0,58.0,62.0,65.0,74.0,182.0,142.0,142.0,79.0,49.0,68.0,63.0,52.0,59.0,55.0,66.0,38.0,193.0,193.0,74.0,91.0,64.0,142.0,74.0,142.0,81.0,79.0,142.0,90.0,142.0,124.0,null,54.0,78.0,46.0,193.0,88.0,62.0,193.0,80.0,124.0,142.0,80.0,71.0,64.0,75.0,60.0,68.0,88.0,55.0,50.0,124.0,97.0,42.0,null,188.0,49.0,69.0,40.0,122.0,42.0,196.0,58.0,24.0,48.0,124.0,67.0,59.0,193.0,59.0,96.0,45.0,88.0,72.0,166.0,61.0,81.0,59.0,73.0,193.0,79.0,68.0,193.0,47.0,124.0,64.0,49.0,124.0,54.0,71.0,null,59.0,89.0,37.0,59.0,null,57.0,47.0,77.0,62.0,77.0,51.0,131.0,69.0,74.0,60.0,76.0,51.0,32.0,124.0,193.0,73.0,49.0,76.0,193.0,64.0,62.0,63.0,156.0,50.0,44.0,66.0,67.0,142.0,142.0,61.0,75.0,147.0,69.0,76.0,65.0,53.0,87.0,53.0,null,66.0,196.0,49.0,67.0,55.0,30.0,73.0,62.0,79.0,63.0,52.0,193.0,58.0,124.0,142.0,193.0,78.0,81.0,142.0,193.0,74.0,68.0,82.0,73.0,35.0,142.0,59.0,74.0,62.0,49.0,84.0,67.0,81.0,33.0,142.0,59.0,87.0,77.0,58.0,69.0,null,65.0,92.0,87.0,69.0,null,73.0,61.0,55.0,67.0,193.0,69.0,74.0,64.0,56.0,36.0,41.0,142.0,124.0,49.0,59.0,34.0,142.0,84.0,76.0,142.0,61.0,193.0,193.0,62.0,87.0,67.0,54.0,59.0,68.0,67.0,91.0,142.0,80.0,96.0,68.0,193.0,156.0,30.0,124.0,null,74.0,71.0,35.0,81.0,53.0,49.0,147.0,40.0,80.0,76.0,142.0,76.0,29.0,196.0,63.0,57.0,58.0,null,72.0,196.0,55.0,53.0,null,80.0,41.0,55.0,51.0,85.0,81.0,52.0,18.0,193.0,73.0,48.0,56.0,142.0,124.0,63.0,58.0,32.0,59.0,193.0,142.0,193.0,63.0,142.0,63.0,80.0,60.0,64.0,98.0,59.0,65.0,193.0,87.0,66.0,52.0,193.0,28.0,174.0,73.0,87.0,79.0,60.0,81.0,74.0,196.0,69.0,47.0,47.0,79.0,82.0,92.0,57.0,41.0,49.0,88.0,79.0,59.0,71.0,193.0,81.0,65.0,82.0,65.0,40.0,73.0,156.0,56.0,69.0,193.0,67.0,91.0,67.0,188.0,124.0,87.0,124.0,65.0,124.0,58.0,55.0,48.0,88.0,53.0,85.0,193.0,62.0,65.0,82.0,62.0,63.0,84.0,193.0,131.0,77.0,50.0,69.0,0.0,188.0,193.0,65.0,79.0,69.0,193.0,72.0,100.0,65.0,47.0,99.0,51.0,71.0,124.0,82.0,91.0,55.0,75.0,66.0,95.0,72.0,70.0,57.0,84.0,193.0,61.0,45.0,65.0,27.0,88.0,65.0,63.0,78.0,193.0,65.0,90.0,100.0,67.0,74.0,76.0,193.0,66.0,59.0,62.0,41.0,124.0,29.0,69.0,124.0,23.0,193.0,66.0,54.0,193.0,68.0],\"y0\":\" \",\"yaxis\":\"y\"},{\"alignmentgroup\":\"True\",\"hovertemplate\":\"subject=reading score<br>score=%{y}<extra></extra>\",\"legendgroup\":\"reading score\",\"marker\":{\"color\":\"#EF553B\"},\"name\":\"reading score\",\"notched\":false,\"offsetgroup\":\"reading score\",\"orientation\":\"v\",\"showlegend\":true,\"type\":\"box\",\"x0\":\" \",\"xaxis\":\"x\",\"y\":[46.0,142.0,196.0,78.0,166.0,66.0,75.0,86.0,61.0,68.0,196.0,131.0,193.0,48.0,171.0,61.0,73.0,78.0,142.0,76.0,65.0,74.0,null,142.0,57.0,69.0,42.0,82.0,193.0,61.0,73.0,75.0,null,97.0,null,100.0,76.0,61.0,81.0,72.0,83.0,64.0,76.0,86.0,124.0,88.0,74.0,72.0,142.0,61.0,64.0,61.0,59.0,67.0,62.0,29.0,79.0,142.0,67.0,124.0,null,58.0,142.0,55.0,87.0,193.0,28.0,67.0,128.0,74.0,64.0,59.0,142.0,79.0,73.0,196.0,60.0,59.0,92.0,76.0,196.0,85.0,193.0,94.0,85.0,193.0,142.0,62.0,48.0,48.0,193.0,54.0,54.0,193.0,188.0,82.0,82.0,65.0,71.0,90.0,84.0,75.0,193.0,142.0,193.0,88.0,93.0,142.0,81.0,93.0,57.0,74.0,54.0,193.0,null,84.0,90.0,193.0,41.0,73.0,68.0,78.0,193.0,null,74.0,124.0,193.0,62.0,90.0,63.0,124.0,74.0,64.0,68.0,124.0,null,73.0,142.0,56.0,193.0,70.0,124.0,124.0,142.0,72.0,83.0,59.0,null,87.0,99.0,73.0,42.0,null,43.0,64.0,68.0,85.0,81.0,72.0,78.0,70.0,51.0,188.0,72.0,50.0,85.0,66.0,78.0,77.0,45.0,60.0,93.0,61.0,64.0,83.0,66.0,61.0,77.0,171.0,57.0,67.0,78.0,70.0,79.0,142.0,68.0,81.0,67.0,193.0,142.0,54.0,124.0,60.0,51.0,51.0,57.0,38.0,193.0,77.0,79.0,58.0,188.0,51.0,72.0,62.0,56.0,51.0,193.0,83.0,76.0,78.0,95.0,89.0,87.0,66.0,196.0,193.0,193.0,49.0,193.0,53.0,57.0,73.0,68.0,71.0,63.0,86.0,58.0,142.0,124.0,51.0,151.0,193.0,171.0,193.0,64.0,71.0,48.0,193.0,93.0,72.0,60.0,61.0,73.0,54.0,128.0,142.0,124.0,48.0,73.0,74.0,95.0,77.0,74.0,70.0,90.0,196.0,74.0,124.0,51.0,68.0,null,142.0,166.0,72.0,81.0,76.0,63.0,62.0,59.0,47.0,66.0,64.0,74.0,78.0,193.0,196.0,142.0,86.0,100.0,58.0,64.0,81.0,63.0,71.0,142.0,124.0,null,124.0,91.0,196.0,75.0,84.0,94.0,61.0,193.0,84.0,49.0,63.0,193.0,82.0,174.0,81.0,49.0,42.0,77.0,76.0,66.0,88.0,83.0,81.0,34.0,39.0,124.0,52.0,147.0,64.0,82.0,81.0,80.0,193.0,59.0,78.0,72.0,64.0,188.0,196.0,81.0,70.0,52.0,58.0,124.0,73.0,70.0,87.0,64.0,142.0,66.0,57.0,193.0,89.0,75.0,56.0,124.0,70.0,75.0,69.0,193.0,57.0,43.0,54.0,54.0,53.0,193.0,142.0,193.0,59.0,41.0,31.0,75.0,124.0,74.0,39.0,124.0,57.0,87.0,84.0,54.0,54.0,193.0,64.0,88.0,23.0,71.0,57.0,142.0,124.0,64.0,124.0,53.0,124.0,85.0,124.0,58.0,100.0,80.0,196.0,124.0,47.0,84.0,124.0,81.0,124.0,82.0,64.0,null,58.0,73.0,77.0,79.0,null,78.0,68.0,193.0,86.0,77.0,49.0,75.0,70.0,174.0,66.0,62.0,40.0,65.0,61.0,124.0,61.0,95.0,79.0,76.0,196.0,68.0,74.0,66.0,67.0,86.0,65.0,73.0,75.0,124.0,77.0,null,71.0,72.0,89.0,124.0,71.0,193.0,78.0,193.0,null,193.0,56.0,null,193.0,65.0,92.0,142.0,78.0,95.0,77.0,null,86.0,70.0,63.0,80.0,82.0,81.0,193.0,55.0,null,51.0,51.0,97.0,null,72.0,73.0,196.0,79.0,67.0,68.0,77.0,58.0,78.0,57.0,100.0,193.0,89.0,73.0,72.0,193.0,79.0,156.0,196.0,142.0,62.0,74.0,54.0,96.0,66.0,79.0,67.0,53.0,61.0,156.0,92.0,81.0,null,62.0,59.0,142.0,null,64.0,75.0,67.0,193.0,75.0,63.0,56.0,66.0,95.0,156.0,156.0,97.0,100.0,77.0,90.0,44.0,83.0,68.0,null,82.0,193.0,171.0,49.0,59.0,75.0,60.0,64.0,142.0,49.0,43.0,43.0,73.0,54.0,66.0,72.0,43.0,83.0,65.0,72.0,74.0,82.0,84.0,54.0,196.0,42.0,62.0,53.0,58.0,null,85.0,64.0,196.0,72.0,66.0,64.0,55.0,42.0,142.0,49.0,89.0,26.0,84.0,64.0,82.0,81.0,59.0,147.0,84.0,156.0,124.0,84.0,88.0,88.0,84.0,74.0,73.0,64.0,62.0,52.0,193.0,65.0,142.0,124.0,193.0,54.0,53.0,131.0,193.0,86.0,92.0,156.0,71.0,52.0,86.0,91.0,61.0,63.0,76.0,193.0,64.0,188.0,53.0,58.0,196.0,72.0,74.0,69.0,84.0,193.0,92.0,142.0,193.0,70.0,55.0,142.0,76.0,72.0,77.0,85.0,69.0,193.0,124.0,73.0,85.0,124.0,193.0,67.0,58.0,66.0,76.0,193.0,55.0,87.0,124.0,68.0,49.0,70.0,82.0,52.0,74.0,196.0,50.0,156.0,151.0,193.0,90.0,193.0,84.0,193.0,65.0,77.0,182.0,182.0,67.0,67.0,66.0,142.0,63.0,193.0,182.0,75.0,90.0,193.0,196.0,78.0,70.0,188.0,68.0,193.0,131.0,193.0,66.0,142.0,196.0,142.0,100.0,131.0,24.0,64.0,65.0,66.0,84.0,82.0,64.0,73.0,77.0,72.0,51.0,69.0,50.0,68.0,56.0,null,142.0,55.0,147.0,182.0,51.0,95.0,90.0,56.0,72.0,49.0,65.0,77.0,46.0,100.0,196.0,188.0,193.0,193.0,70.0,124.0,61.0,45.0,193.0,59.0,69.0,46.0,55.0,65.0,77.0,56.0,63.0,78.0,77.0,196.0,71.0,64.0,64.0,100.0,124.0,63.0,41.0,193.0,78.0,79.0,142.0,87.0,87.0,58.0,81.0,73.0,70.0,69.0,131.0,73.0,49.0,52.0,51.0,193.0,81.0,80.0,64.0,90.0,58.0,81.0,142.0,79.0,64.0,124.0,84.0,63.0,71.0,90.0,83.0,56.0,58.0,78.0,52.0,193.0,37.0,193.0,63.0,70.0,91.0,100.0,142.0,73.0,87.0,52.0,66.0,65.0,122.0,74.0,83.0,74.0,54.0,74.0,85.0,52.0,74.0,74.0,31.0,73.0,84.0,95.0,57.0,53.0,52.0,142.0,156.0,74.0,48.0,55.0,52.0,57.0,39.0,90.0,61.0,74.0,78.0,70.0,100.0,42.0,67.0,80.0,142.0,85.0,84.0,86.0,62.0,45.0,55.0,85.0,42.0,77.0,70.0,50.0,91.0,60.0,80.0,50.0,61.0,67.0,63.0,142.0,142.0,77.0,99.0,91.0,124.0,142.0,142.0,78.0,193.0,69.0,147.0,71.0,193.0,79.0,81.0,74.0,193.0,84.0,193.0,124.0,166.0,193.0,142.0,null,54.0,62.0,null,84.0,64.0,72.0,52.0,64.0,75.0,193.0,85.0,43.0,68.0,55.0,72.0,68.0,null,42.0,124.0,196.0,64.0,89.0,188.0,50.0,null,68.0,59.0,142.0,57.0,73.0,193.0,193.0,85.0,73.0,45.0,56.0,193.0,28.0,70.0,90.0,67.0,75.0,59.0,193.0,95.0,193.0,52.0,69.0,76.0,79.0,131.0,60.0,56.0,85.0,71.0,100.0,56.0,79.0,100.0,63.0,156.0,73.0,70.0,52.0,193.0,142.0,99.0,64.0,193.0,93.0,193.0,69.0,82.0,53.0,193.0,49.0,55.0,81.0,55.0,196.0,83.0,72.0,83.0,56.0,61.0,86.0,84.0,88.0,62.0,64.0,75.0,45.0,68.0,76.0,142.0,48.0,60.0,34.0,50.0,64.0,43.0,66.0,92.0,142.0,76.0,44.0,72.0,62.0,64.0,82.0,156.0,41.0,64.0,124.0,70.0,77.0,193.0,37.0,142.0,68.0,77.0,48.0,null,71.0,156.0,57.0,142.0,54.0,72.0,94.0,53.0,80.0,89.0,133.0,39.0,71.0,89.0,48.0,81.0,90.0,63.0,58.0,55.0,60.0,67.0,77.0,88.0,193.0,193.0,151.0,73.0,196.0,68.0,80.0,70.0,42.0,47.0,60.0,60.0,196.0,42.0,76.0,86.0,64.0,193.0,63.0,196.0,74.0,82.0,null,78.0,193.0,193.0,142.0,58.0,82.0,43.0,196.0,92.0,67.0,196.0,86.0,124.0,193.0,63.0,79.0,85.0,86.0,72.0,60.0,75.0,61.0,60.0,null,166.0,61.0,193.0,124.0,193.0,75.0,196.0,142.0,39.0,null,75.0,38.0,51.0,193.0,84.0,62.0,142.0,62.0,96.0,47.0,85.0,67.0,171.0,67.0,80.0,53.0,76.0,null,85.0,75.0,142.0,62.0,196.0,79.0,58.0,193.0,60.0,71.0,174.0,58.0,87.0,45.0,85.0,193.0,58.0,43.0,67.0,68.0,67.0,58.0,147.0,77.0,71.0,63.0,78.0,60.0,34.0,193.0,188.0,78.0,57.0,62.0,142.0,76.0,64.0,78.0,156.0,53.0,51.0,62.0,84.0,193.0,156.0,60.0,58.0,128.0,84.0,76.0,73.0,72.0,90.0,66.0,142.0,83.0,193.0,65.0,74.0,72.0,24.0,92.0,62.0,60.0,57.0,65.0,193.0,76.0,193.0,142.0,49.0,90.0,86.0,193.0,193.0,89.0,76.0,97.0,70.0,124.0,122.0,66.0,86.0,68.0,193.0,83.0,86.0,88.0,41.0,147.0,65.0,95.0,97.0,51.0,66.0,null,66.0,100.0,74.0,54.0,193.0,67.0,60.0,59.0,81.0,193.0,90.0,81.0,60.0,65.0,53.0,52.0,193.0,193.0,58.0,69.0,42.0,196.0,87.0,83.0,171.0,72.0,142.0,null,67.0,89.0,75.0,64.0,63.0,67.0,84.0,74.0,188.0,80.0,100.0,64.0,124.0,142.0,26.0,193.0,193.0,75.0,76.0,61.0,78.0,37.0,193.0,193.0,182.0,76.0,71.0,188.0,70.0,142.0,196.0,71.0,68.0,70.0,null,66.0,null,65.0,71.0,193.0,92.0,55.0,69.0,56.0,76.0,92.0,59.0,32.0,193.0,79.0,54.0,58.0,196.0,null,67.0,49.0,39.0,73.0,156.0,156.0,193.0,60.0,null,73.0,90.0,44.0,56.0,100.0,71.0,69.0,49.0,91.0,76.0,55.0,124.0,182.0,193.0,75.0,84.0,67.0,72.0,78.0,79.0,142.0,60.0,58.0,46.0,77.0,80.0,79.0,69.0,45.0,58.0,95.0,78.0,70.0,62.0,174.0,81.0,81.0,78.0,69.0,46.0,80.0,188.0,72.0,58.0,122.0,72.0,96.0,75.0,193.0,49.0,100.0,193.0,74.0,142.0,59.0,41.0,58.0,93.0,61.0,66.0,142.0,67.0,84.0,82.0,70.0,61.0,80.0,174.0,142.0,62.0,64.0,65.0,17.0,193.0,196.0,67.0,86.0,86.0,193.0,67.0,100.0,58.0,57.0,87.0,51.0,74.0,null,82.0,96.0,65.0,82.0,66.0,89.0,72.0,55.0,56.0,89.0,196.0,48.0,52.0,59.0,34.0,73.0,82.0,66.0,81.0,124.0,72.0,87.0,97.0,74.0,75.0,67.0,147.0,72.0,64.0,76.0,46.0,64.0,29.0,75.0,193.0,44.0,142.0,74.0,61.0,196.0,80.0],\"y0\":\" \",\"yaxis\":\"y\"},{\"alignmentgroup\":\"True\",\"hovertemplate\":\"subject=writing score<br>score=%{y}<extra></extra>\",\"legendgroup\":\"writing score\",\"marker\":{\"color\":\"#00cc96\"},\"name\":\"writing score\",\"notched\":false,\"offsetgroup\":\"writing score\",\"orientation\":\"v\",\"showlegend\":true,\"type\":\"box\",\"x0\":\" \",\"xaxis\":\"x\",\"y\":[46.0,142.0,193.0,81.0,166.0,63.0,76.0,87.0,69.0,64.0,193.0,193.0,193.0,41.0,131.0,61.0,71.0,82.0,147.0,70.0,58.0,72.0,193.0,124.0,62.0,68.0,46.0,74.0,193.0,60.0,68.0,77.0,null,124.0,142.0,100.0,74.0,55.0,80.0,70.0,75.0,67.0,78.0,88.0,124.0,85.0,74.0,65.0,124.0,54.0,62.0,62.0,54.0,63.0,60.0,27.0,76.0,142.0,72.0,193.0,193.0,57.0,124.0,53.0,78.0,142.0,27.0,70.0,188.0,61.0,67.0,65.0,193.0,79.0,71.0,196.0,61.0,64.0,85.0,65.0,196.0,87.0,193.0,95.0,85.0,122.0,196.0,60.0,47.0,50.0,182.0,56.0,52.0,124.0,142.0,88.0,82.0,61.0,65.0,92.0,86.0,73.0,196.0,124.0,193.0,78.0,91.0,124.0,81.0,93.0,58.0,70.0,53.0,142.0,null,78.0,88.0,193.0,42.0,74.0,67.0,77.0,null,193.0,78.0,142.0,null,60.0,83.0,61.0,196.0,74.0,66.0,64.0,193.0,142.0,70.0,193.0,51.0,142.0,70.0,193.0,196.0,124.0,59.0,83.0,54.0,null,85.0,100.0,72.0,151.0,124.0,43.0,193.0,63.0,82.0,71.0,65.0,78.0,74.0,43.0,188.0,74.0,60.0,85.0,61.0,76.0,77.0,45.0,58.0,95.0,71.0,57.0,78.0,59.0,58.0,74.0,193.0,46.0,62.0,78.0,74.0,81.0,193.0,72.0,82.0,73.0,128.0,124.0,50.0,124.0,59.0,44.0,57.0,54.0,32.0,142.0,73.0,74.0,57.0,193.0,52.0,69.0,53.0,54.0,48.0,124.0,90.0,75.0,83.0,94.0,92.0,91.0,62.0,64.0,124.0,193.0,45.0,193.0,58.0,52.0,63.0,60.0,74.0,59.0,86.0,55.0,131.0,142.0,54.0,193.0,193.0,196.0,193.0,63.0,73.0,46.0,156.0,90.0,79.0,58.0,66.0,72.0,41.0,122.0,142.0,193.0,42.0,70.0,72.0,131.0,77.0,76.0,67.0,85.0,null,66.0,142.0,54.0,72.0,193.0,196.0,166.0,68.0,85.0,76.0,62.0,60.0,58.0,56.0,64.0,null,75.0,72.0,193.0,196.0,196.0,83.0,100.0,56.0,66.0,71.0,67.0,76.0,142.0,193.0,null,124.0,96.0,188.0,68.0,80.0,87.0,52.0,142.0,82.0,47.0,65.0,124.0,84.0,142.0,79.0,52.0,41.0,73.0,83.0,65.0,82.0,76.0,79.0,36.0,33.0,null,45.0,193.0,58.0,80.0,79.0,73.0,142.0,62.0,73.0,70.0,61.0,196.0,196.0,75.0,68.0,49.0,64.0,124.0,73.0,68.0,91.0,68.0,142.0,68.0,56.0,193.0,86.0,69.0,57.0,142.0,66.0,70.0,74.0,128.0,56.0,45.0,57.0,45.0,58.0,193.0,156.0,193.0,51.0,47.0,38.0,78.0,193.0,69.0,37.0,124.0,51.0,90.0,90.0,51.0,58.0,142.0,66.0,94.0,19.0,69.0,56.0,193.0,null,193.0,174.0,46.0,196.0,82.0,124.0,57.0,100.0,81.0,193.0,131.0,54.0,91.0,193.0,80.0,142.0,84.0,70.0,156.0,52.0,68.0,73.0,78.0,142.0,79.0,70.0,193.0,84.0,74.0,193.0,69.0,75.0,193.0,70.0,68.0,44.0,69.0,68.0,193.0,68.0,89.0,72.0,65.0,196.0,66.0,69.0,73.0,72.0,82.0,69.0,69.0,77.0,142.0,73.0,124.0,72.0,77.0,86.0,142.0,75.0,null,80.0,142.0,156.0,124.0,54.0,193.0,193.0,68.0,93.0,193.0,73.0,92.0,74.0,142.0,98.0,70.0,73.0,75.0,77.0,81.0,124.0,52.0,193.0,51.0,51.0,96.0,null,62.0,74.0,196.0,75.0,61.0,67.0,77.0,44.0,67.0,62.0,100.0,142.0,89.0,80.0,78.0,64.0,77.0,124.0,196.0,142.0,61.0,72.0,67.0,86.0,61.0,80.0,67.0,53.0,55.0,null,87.0,71.0,null,59.0,50.0,142.0,124.0,null,81.0,69.0,147.0,74.0,54.0,55.0,60.0,193.0,196.0,null,96.0,93.0,71.0,91.0,42.0,83.0,66.0,193.0,81.0,124.0,147.0,41.0,56.0,77.0,58.0,66.0,124.0,52.0,47.0,41.0,68.0,63.0,62.0,71.0,39.0,80.0,61.0,70.0,72.0,89.0,81.0,48.0,193.0,38.0,60.0,55.0,54.0,null,86.0,124.0,196.0,70.0,73.0,72.0,47.0,38.0,131.0,49.0,88.0,22.0,80.0,66.0,80.0,83.0,50.0,131.0,87.0,null,null,85.0,87.0,85.0,87.0,70.0,67.0,70.0,61.0,51.0,142.0,61.0,193.0,null,193.0,48.0,57.0,193.0,147.0,87.0,89.0,null,65.0,52.0,80.0,88.0,52.0,56.0,80.0,193.0,68.0,156.0,47.0,51.0,193.0,80.0,73.0,68.0,89.0,193.0,86.0,142.0,142.0,70.0,57.0,193.0,77.0,69.0,80.0,73.0,63.0,124.0,124.0,78.0,76.0,196.0,193.0,73.0,52.0,66.0,74.0,142.0,60.0,82.0,193.0,65.0,46.0,69.0,76.0,46.0,72.0,38.0,51.0,null,33.0,142.0,84.0,193.0,85.0,193.0,60.0,80.0,null,42.0,65.0,58.0,64.0,null,58.0,131.0,142.0,83.0,91.0,193.0,97.0,80.0,66.0,193.0,64.0,null,193.0,193.0,66.0,156.0,124.0,193.0,100.0,193.0,23.0,62.0,64.0,65.0,82.0,91.0,null,75.0,69.0,64.0,43.0,69.0,47.0,74.0,57.0,124.0,193.0,48.0,147.0,193.0,56.0,94.0,91.0,57.0,76.0,50.0,63.0,79.0,44.0,95.0,193.0,193.0,193.0,193.0,71.0,131.0,57.0,41.0,193.0,62.0,68.0,43.0,54.0,65.0,76.0,47.0,64.0,75.0,78.0,196.0,73.0,193.0,57.0,95.0,131.0,66.0,38.0,124.0,76.0,79.0,182.0,82.0,85.0,65.0,86.0,73.0,65.0,76.0,124.0,70.0,49.0,51.0,48.0,null,80.0,73.0,65.0,82.0,59.0,73.0,193.0,84.0,142.0,null,77.0,75.0,68.0,88.0,86.0,51.0,62.0,79.0,54.0,193.0,37.0,42.0,62.0,76.0,89.0,97.0,124.0,68.0,92.0,55.0,68.0,60.0,171.0,71.0,88.0,75.0,53.0,73.0,91.0,43.0,81.0,74.0,36.0,70.0,75.0,93.0,50.0,52.0,42.0,124.0,156.0,64.0,53.0,53.0,51.0,53.0,34.0,92.0,58.0,72.0,76.0,66.0,100.0,38.0,61.0,71.0,193.0,87.0,85.0,92.0,56.0,50.0,48.0,82.0,38.0,77.0,63.0,52.0,89.0,54.0,83.0,54.0,66.0,69.0,56.0,188.0,193.0,83.0,100.0,87.0,156.0,196.0,188.0,79.0,124.0,75.0,171.0,78.0,193.0,82.0,84.0,68.0,196.0,78.0,142.0,193.0,166.0,156.0,142.0,156.0,52.0,62.0,142.0,82.0,74.0,70.0,44.0,66.0,78.0,193.0,93.0,44.0,61.0,55.0,71.0,72.0,null,48.0,174.0,193.0,193.0,98.0,142.0,43.0,193.0,66.0,54.0,null,59.0,71.0,124.0,196.0,84.0,72.0,40.0,58.0,193.0,27.0,70.0,94.0,72.0,74.0,52.0,null,100.0,42.0,54.0,68.0,75.0,81.0,193.0,59.0,53.0,90.0,73.0,100.0,51.0,82.0,100.0,61.0,124.0,72.0,76.0,46.0,null,193.0,95.0,62.0,193.0,93.0,196.0,68.0,79.0,53.0,null,51.0,49.0,84.0,63.0,196.0,78.0,74.0,77.0,56.0,60.0,90.0,82.0,85.0,64.0,174.0,70.0,45.0,69.0,76.0,193.0,51.0,60.0,36.0,45.0,70.0,43.0,69.0,97.0,193.0,74.0,43.0,72.0,62.0,64.0,82.0,64.0,43.0,60.0,193.0,65.0,70.0,193.0,35.0,193.0,77.0,80.0,49.0,124.0,74.0,124.0,53.0,null,53.0,77.0,95.0,49.0,75.0,95.0,36.0,34.0,78.0,82.0,52.0,74.0,89.0,60.0,58.0,54.0,57.0,67.0,74.0,90.0,193.0,124.0,34.0,67.0,196.0,61.0,80.0,62.0,41.0,44.0,57.0,50.0,193.0,142.0,73.0,84.0,70.0,null,57.0,196.0,71.0,73.0,null,81.0,193.0,124.0,196.0,61.0,79.0,42.0,142.0,95.0,62.0,193.0,83.0,193.0,188.0,63.0,71.0,85.0,79.0,74.0,53.0,76.0,54.0,60.0,null,196.0,58.0,142.0,142.0,196.0,78.0,124.0,128.0,34.0,142.0,77.0,27.0,46.0,142.0,86.0,69.0,193.0,61.0,99.0,49.0,76.0,65.0,128.0,66.0,76.0,52.0,78.0,156.0,86.0,81.0,193.0,66.0,193.0,77.0,55.0,193.0,63.0,80.0,null,47.0,79.0,38.0,80.0,193.0,57.0,41.0,64.0,75.0,68.0,54.0,142.0,77.0,80.0,59.0,75.0,58.0,38.0,196.0,131.0,74.0,52.0,66.0,null,74.0,55.0,79.0,193.0,55.0,55.0,64.0,81.0,64.0,193.0,55.0,62.0,142.0,82.0,74.0,68.0,64.0,88.0,73.0,188.0,83.0,49.0,55.0,77.0,79.0,15.0,84.0,63.0,65.0,56.0,61.0,124.0,78.0,193.0,124.0,42.0,93.0,87.0,193.0,193.0,84.0,67.0,96.0,75.0,193.0,124.0,67.0,89.0,68.0,124.0,78.0,83.0,90.0,43.0,193.0,66.0,86.0,94.0,52.0,60.0,124.0,62.0,99.0,76.0,55.0,193.0,59.0,57.0,59.0,79.0,null,88.0,76.0,74.0,63.0,43.0,51.0,null,193.0,60.0,65.0,39.0,40.0,81.0,79.0,166.0,70.0,128.0,124.0,61.0,94.0,70.0,67.0,64.0,69.0,84.0,76.0,193.0,72.0,100.0,66.0,124.0,188.0,22.0,193.0,124.0,82.0,70.0,54.0,78.0,40.0,142.0,193.0,151.0,64.0,67.0,147.0,69.0,null,182.0,69.0,73.0,67.0,null,72.0,64.0,62.0,67.0,142.0,88.0,51.0,65.0,53.0,71.0,91.0,62.0,28.0,193.0,84.0,53.0,64.0,124.0,null,67.0,42.0,33.0,69.0,null,193.0,193.0,57.0,null,68.0,82.0,47.0,52.0,99.0,70.0,67.0,193.0,81.0,68.0,49.0,124.0,124.0,193.0,80.0,76.0,67.0,68.0,81.0,80.0,124.0,63.0,67.0,42.0,75.0,77.0,84.0,68.0,40.0,60.0,92.0,77.0,73.0,50.0,124.0,84.0,77.0,74.0,70.0,50.0,82.0,193.0,65.0,53.0,131.0,67.0,91.0,72.0,124.0,null,100.0,193.0,77.0,193.0,66.0,48.0,54.0,93.0,62.0,71.0,196.0,64.0,84.0,80.0,72.0,54.0,80.0,193.0,193.0,64.0,59.0,74.0,10.0,193.0,142.0,62.0,81.0,81.0,193.0,64.0,100.0,49.0,44.0,81.0,54.0,68.0,193.0,88.0,92.0,62.0,90.0,59.0,92.0,74.0,56.0,54.0,90.0,193.0,46.0,49.0,53.0,32.0,78.0,78.0,67.0,82.0,193.0,74.0,75.0,99.0,70.0,79.0,67.0,131.0,70.0,75.0,80.0,43.0,193.0,30.0,71.0,49.0,36.0,193.0,81.0,62.0,193.0,76.0],\"y0\":\" \",\"yaxis\":\"y\"}],                        {\"boxmode\":\"group\",\"legend\":{\"title\":{\"text\":\"subject\"},\"tracegroupgap\":0},\"margin\":{\"t\":60},\"template\":{\"data\":{\"bar\":[{\"error_x\":{\"color\":\"#2a3f5f\"},\"error_y\":{\"color\":\"#2a3f5f\"},\"marker\":{\"line\":{\"color\":\"#E5ECF6\",\"width\":0.5},\"pattern\":{\"fillmode\":\"overlay\",\"size\":10,\"solidity\":0.2}},\"type\":\"bar\"}],\"barpolar\":[{\"marker\":{\"line\":{\"color\":\"#E5ECF6\",\"width\":0.5},\"pattern\":{\"fillmode\":\"overlay\",\"size\":10,\"solidity\":0.2}},\"type\":\"barpolar\"}],\"carpet\":[{\"aaxis\":{\"endlinecolor\":\"#2a3f5f\",\"gridcolor\":\"white\",\"linecolor\":\"white\",\"minorgridcolor\":\"white\",\"startlinecolor\":\"#2a3f5f\"},\"baxis\":{\"endlinecolor\":\"#2a3f5f\",\"gridcolor\":\"white\",\"linecolor\":\"white\",\"minorgridcolor\":\"white\",\"startlinecolor\":\"#2a3f5f\"},\"type\":\"carpet\"}],\"choropleth\":[{\"colorbar\":{\"outlinewidth\":0,\"ticks\":\"\"},\"type\":\"choropleth\"}],\"contour\":[{\"colorbar\":{\"outlinewidth\":0,\"ticks\":\"\"},\"colorscale\":[[0.0,\"#0d0887\"],[0.1111111111111111,\"#46039f\"],[0.2222222222222222,\"#7201a8\"],[0.3333333333333333,\"#9c179e\"],[0.4444444444444444,\"#bd3786\"],[0.5555555555555556,\"#d8576b\"],[0.6666666666666666,\"#ed7953\"],[0.7777777777777778,\"#fb9f3a\"],[0.8888888888888888,\"#fdca26\"],[1.0,\"#f0f921\"]],\"type\":\"contour\"}],\"contourcarpet\":[{\"colorbar\":{\"outlinewidth\":0,\"ticks\":\"\"},\"type\":\"contourcarpet\"}],\"heatmap\":[{\"colorbar\":{\"outlinewidth\":0,\"ticks\":\"\"},\"colorscale\":[[0.0,\"#0d0887\"],[0.1111111111111111,\"#46039f\"],[0.2222222222222222,\"#7201a8\"],[0.3333333333333333,\"#9c179e\"],[0.4444444444444444,\"#bd3786\"],[0.5555555555555556,\"#d8576b\"],[0.6666666666666666,\"#ed7953\"],[0.7777777777777778,\"#fb9f3a\"],[0.8888888888888888,\"#fdca26\"],[1.0,\"#f0f921\"]],\"type\":\"heatmap\"}],\"heatmapgl\":[{\"colorbar\":{\"outlinewidth\":0,\"ticks\":\"\"},\"colorscale\":[[0.0,\"#0d0887\"],[0.1111111111111111,\"#46039f\"],[0.2222222222222222,\"#7201a8\"],[0.3333333333333333,\"#9c179e\"],[0.4444444444444444,\"#bd3786\"],[0.5555555555555556,\"#d8576b\"],[0.6666666666666666,\"#ed7953\"],[0.7777777777777778,\"#fb9f3a\"],[0.8888888888888888,\"#fdca26\"],[1.0,\"#f0f921\"]],\"type\":\"heatmapgl\"}],\"histogram\":[{\"marker\":{\"pattern\":{\"fillmode\":\"overlay\",\"size\":10,\"solidity\":0.2}},\"type\":\"histogram\"}],\"histogram2d\":[{\"colorbar\":{\"outlinewidth\":0,\"ticks\":\"\"},\"colorscale\":[[0.0,\"#0d0887\"],[0.1111111111111111,\"#46039f\"],[0.2222222222222222,\"#7201a8\"],[0.3333333333333333,\"#9c179e\"],[0.4444444444444444,\"#bd3786\"],[0.5555555555555556,\"#d8576b\"],[0.6666666666666666,\"#ed7953\"],[0.7777777777777778,\"#fb9f3a\"],[0.8888888888888888,\"#fdca26\"],[1.0,\"#f0f921\"]],\"type\":\"histogram2d\"}],\"histogram2dcontour\":[{\"colorbar\":{\"outlinewidth\":0,\"ticks\":\"\"},\"colorscale\":[[0.0,\"#0d0887\"],[0.1111111111111111,\"#46039f\"],[0.2222222222222222,\"#7201a8\"],[0.3333333333333333,\"#9c179e\"],[0.4444444444444444,\"#bd3786\"],[0.5555555555555556,\"#d8576b\"],[0.6666666666666666,\"#ed7953\"],[0.7777777777777778,\"#fb9f3a\"],[0.8888888888888888,\"#fdca26\"],[1.0,\"#f0f921\"]],\"type\":\"histogram2dcontour\"}],\"mesh3d\":[{\"colorbar\":{\"outlinewidth\":0,\"ticks\":\"\"},\"type\":\"mesh3d\"}],\"parcoords\":[{\"line\":{\"colorbar\":{\"outlinewidth\":0,\"ticks\":\"\"}},\"type\":\"parcoords\"}],\"pie\":[{\"automargin\":true,\"type\":\"pie\"}],\"scatter\":[{\"marker\":{\"colorbar\":{\"outlinewidth\":0,\"ticks\":\"\"}},\"type\":\"scatter\"}],\"scatter3d\":[{\"line\":{\"colorbar\":{\"outlinewidth\":0,\"ticks\":\"\"}},\"marker\":{\"colorbar\":{\"outlinewidth\":0,\"ticks\":\"\"}},\"type\":\"scatter3d\"}],\"scattercarpet\":[{\"marker\":{\"colorbar\":{\"outlinewidth\":0,\"ticks\":\"\"}},\"type\":\"scattercarpet\"}],\"scattergeo\":[{\"marker\":{\"colorbar\":{\"outlinewidth\":0,\"ticks\":\"\"}},\"type\":\"scattergeo\"}],\"scattergl\":[{\"marker\":{\"colorbar\":{\"outlinewidth\":0,\"ticks\":\"\"}},\"type\":\"scattergl\"}],\"scattermapbox\":[{\"marker\":{\"colorbar\":{\"outlinewidth\":0,\"ticks\":\"\"}},\"type\":\"scattermapbox\"}],\"scatterpolar\":[{\"marker\":{\"colorbar\":{\"outlinewidth\":0,\"ticks\":\"\"}},\"type\":\"scatterpolar\"}],\"scatterpolargl\":[{\"marker\":{\"colorbar\":{\"outlinewidth\":0,\"ticks\":\"\"}},\"type\":\"scatterpolargl\"}],\"scatterternary\":[{\"marker\":{\"colorbar\":{\"outlinewidth\":0,\"ticks\":\"\"}},\"type\":\"scatterternary\"}],\"surface\":[{\"colorbar\":{\"outlinewidth\":0,\"ticks\":\"\"},\"colorscale\":[[0.0,\"#0d0887\"],[0.1111111111111111,\"#46039f\"],[0.2222222222222222,\"#7201a8\"],[0.3333333333333333,\"#9c179e\"],[0.4444444444444444,\"#bd3786\"],[0.5555555555555556,\"#d8576b\"],[0.6666666666666666,\"#ed7953\"],[0.7777777777777778,\"#fb9f3a\"],[0.8888888888888888,\"#fdca26\"],[1.0,\"#f0f921\"]],\"type\":\"surface\"}],\"table\":[{\"cells\":{\"fill\":{\"color\":\"#EBF0F8\"},\"line\":{\"color\":\"white\"}},\"header\":{\"fill\":{\"color\":\"#C8D4E3\"},\"line\":{\"color\":\"white\"}},\"type\":\"table\"}]},\"layout\":{\"annotationdefaults\":{\"arrowcolor\":\"#2a3f5f\",\"arrowhead\":0,\"arrowwidth\":1},\"autotypenumbers\":\"strict\",\"coloraxis\":{\"colorbar\":{\"outlinewidth\":0,\"ticks\":\"\"}},\"colorscale\":{\"diverging\":[[0,\"#8e0152\"],[0.1,\"#c51b7d\"],[0.2,\"#de77ae\"],[0.3,\"#f1b6da\"],[0.4,\"#fde0ef\"],[0.5,\"#f7f7f7\"],[0.6,\"#e6f5d0\"],[0.7,\"#b8e186\"],[0.8,\"#7fbc41\"],[0.9,\"#4d9221\"],[1,\"#276419\"]],\"sequential\":[[0.0,\"#0d0887\"],[0.1111111111111111,\"#46039f\"],[0.2222222222222222,\"#7201a8\"],[0.3333333333333333,\"#9c179e\"],[0.4444444444444444,\"#bd3786\"],[0.5555555555555556,\"#d8576b\"],[0.6666666666666666,\"#ed7953\"],[0.7777777777777778,\"#fb9f3a\"],[0.8888888888888888,\"#fdca26\"],[1.0,\"#f0f921\"]],\"sequentialminus\":[[0.0,\"#0d0887\"],[0.1111111111111111,\"#46039f\"],[0.2222222222222222,\"#7201a8\"],[0.3333333333333333,\"#9c179e\"],[0.4444444444444444,\"#bd3786\"],[0.5555555555555556,\"#d8576b\"],[0.6666666666666666,\"#ed7953\"],[0.7777777777777778,\"#fb9f3a\"],[0.8888888888888888,\"#fdca26\"],[1.0,\"#f0f921\"]]},\"colorway\":[\"#636efa\",\"#EF553B\",\"#00cc96\",\"#ab63fa\",\"#FFA15A\",\"#19d3f3\",\"#FF6692\",\"#B6E880\",\"#FF97FF\",\"#FECB52\"],\"font\":{\"color\":\"#2a3f5f\"},\"geo\":{\"bgcolor\":\"white\",\"lakecolor\":\"white\",\"landcolor\":\"#E5ECF6\",\"showlakes\":true,\"showland\":true,\"subunitcolor\":\"white\"},\"hoverlabel\":{\"align\":\"left\"},\"hovermode\":\"closest\",\"mapbox\":{\"style\":\"light\"},\"paper_bgcolor\":\"white\",\"plot_bgcolor\":\"#E5ECF6\",\"polar\":{\"angularaxis\":{\"gridcolor\":\"white\",\"linecolor\":\"white\",\"ticks\":\"\"},\"bgcolor\":\"#E5ECF6\",\"radialaxis\":{\"gridcolor\":\"white\",\"linecolor\":\"white\",\"ticks\":\"\"}},\"scene\":{\"xaxis\":{\"backgroundcolor\":\"#E5ECF6\",\"gridcolor\":\"white\",\"gridwidth\":2,\"linecolor\":\"white\",\"showbackground\":true,\"ticks\":\"\",\"zerolinecolor\":\"white\"},\"yaxis\":{\"backgroundcolor\":\"#E5ECF6\",\"gridcolor\":\"white\",\"gridwidth\":2,\"linecolor\":\"white\",\"showbackground\":true,\"ticks\":\"\",\"zerolinecolor\":\"white\"},\"zaxis\":{\"backgroundcolor\":\"#E5ECF6\",\"gridcolor\":\"white\",\"gridwidth\":2,\"linecolor\":\"white\",\"showbackground\":true,\"ticks\":\"\",\"zerolinecolor\":\"white\"}},\"shapedefaults\":{\"line\":{\"color\":\"#2a3f5f\"}},\"ternary\":{\"aaxis\":{\"gridcolor\":\"white\",\"linecolor\":\"white\",\"ticks\":\"\"},\"baxis\":{\"gridcolor\":\"white\",\"linecolor\":\"white\",\"ticks\":\"\"},\"bgcolor\":\"#E5ECF6\",\"caxis\":{\"gridcolor\":\"white\",\"linecolor\":\"white\",\"ticks\":\"\"}},\"title\":{\"x\":0.05},\"xaxis\":{\"automargin\":true,\"gridcolor\":\"white\",\"linecolor\":\"white\",\"ticks\":\"\",\"title\":{\"standoff\":15},\"zerolinecolor\":\"white\",\"zerolinewidth\":2},\"yaxis\":{\"automargin\":true,\"gridcolor\":\"white\",\"linecolor\":\"white\",\"ticks\":\"\",\"title\":{\"standoff\":15},\"zerolinecolor\":\"white\",\"zerolinewidth\":2}}},\"xaxis\":{\"anchor\":\"y\",\"domain\":[0.0,1.0]},\"yaxis\":{\"anchor\":\"x\",\"domain\":[0.0,1.0],\"title\":{\"text\":\"score\"}}},                        {\"responsive\": true}                    ).then(function(){\n                            \nvar gd = document.getElementById('c29d6797-23b9-45a1-b905-5e2778425a29');\nvar x = new MutationObserver(function (mutations, observer) {{\n        var display = window.getComputedStyle(gd).display;\n        if (!display || display === 'none') {{\n            console.log([gd, 'removed!']);\n            Plotly.purge(gd);\n            observer.disconnect();\n        }}\n}});\n\n// Listen for the removal of the full notebook cells\nvar notebookContainer = gd.closest('#notebook-container');\nif (notebookContainer) {{\n    x.observe(notebookContainer, {childList: true});\n}}\n\n// Listen for the clearing of the current output cell\nvar outputEl = gd.closest('.output');\nif (outputEl) {{\n    x.observe(outputEl, {childList: true});\n}}\n\n                        })                };                            </script>        </div>\n</body>\n</html>"
          },
          "metadata": {},
          "output_type": "display_data"
        }
      ]
    },
    {
      "cell_type": "markdown",
      "source": [
        "## 1.2 Limpieza de Datos [1 punto]\n",
        "\n",
        "<p align=\"center\">\n",
        "  <img src=\"https://blogdatlas.files.wordpress.com/2020/07/datlas_mx_blog_limpieza_bds_data-scrubbing-service.gif\">\n",
        "</p>\n"
      ],
      "metadata": {
        "id": "YJfqPXFZjQiA",
        "cell_id": "00023-ff3bb417-54d5-425c-9dfc-d6bb2115277e",
        "deepnote_cell_type": "markdown",
        "deepnote_cell_height": 193.1875
      }
    },
    {
      "cell_type": "markdown",
      "source": [
        "En base a lo realizado anteriormente, realice una limpieza de los dataset. Asuma los supuestos señalados en la pregunta anterior para limpiar el `DataFrame` y cree una función que le permita limpiar los datos. Una vez limpiado cada uno de los `DataFrames` compruebe nuevamente los datos con la función creada en la sección 1.1.\n",
        "\n",
        "**To-Do:**\n",
        "\n",
        "- [ ] Crear función que permita limpiar el dataset.\n",
        "- [ ] Comprobar que no existen anomalías en los datos a traves de la función de la sección 1.1.\n",
        "\n",
        "**Hint**\n",
        "\n",
        "Puede ser útil los métodos ```.drop_duplicates()``` y ```.dropna()``` como también utilizar queries con máscaras booleanas.\n"
      ],
      "metadata": {
        "id": "syO5lHKvv6Wt",
        "cell_id": "00024-a0d43035-41b5-4b1c-99c6-f93dc8847789",
        "deepnote_cell_type": "markdown",
        "deepnote_cell_height": 268.1875
      }
    },
    {
      "cell_type": "markdown",
      "source": [
        "**Respuesta:**"
      ],
      "metadata": {
        "tags": [],
        "cell_id": "00025-7728a191-b359-4030-ac04-3b7d9070c53d",
        "deepnote_cell_type": "markdown",
        "deepnote_cell_height": 52.390625,
        "id": "V_QWHkWfyZle"
      }
    },
    {
      "cell_type": "code",
      "source": [
        "#Se convierten los datos de Object a su respectivo tipo para poder realizar operaciones aritmeticas\n",
        "df.convert_dtypes().dtypes\n",
        "\n",
        "df[df['reading score'] == ''] = np.nan\n",
        "df[df['writing score'] == ''] = np.nan\n",
        "df[df['math score'] == ''] = np.nan"
      ],
      "metadata": {
        "id": "oE6j5R7UsILK"
      },
      "execution_count": 4,
      "outputs": []
    },
    {
      "cell_type": "code",
      "source": [
        "def clean_data(df):\n",
        "    #Para eliminar valores duplicados\n",
        "    if df.duplicated().sum()>0:\n",
        "        df.drop_duplicates()\n",
        "    #Para eliminar filas con valores nulos\n",
        "    if df.isna().sum().sum()>0: \n",
        "        df.dropna()\n",
        "    #Para eliminar scores outliers\n",
        "    new_df = df[(df['math score'] <= 100 ) & (df['reading score'] <= 100 ) & (df['writing score'] <= 100)] \n",
        "\n",
        "    return new_df"
      ],
      "metadata": {
        "id": "ubZ_4PU3sDlk"
      },
      "execution_count": 5,
      "outputs": []
    },
    {
      "cell_type": "code",
      "metadata": {
        "colab": {
          "base_uri": "https://localhost:8080/",
          "height": 424
        },
        "id": "Vl6MkQYHhXao",
        "outputId": "62e77d6e-bff6-4783-89b9-b935b09bba22",
        "deepnote_to_be_reexecuted": false,
        "source_hash": "2f2b6eb",
        "execution_start": 1632493424310,
        "execution_millis": 73,
        "cell_id": "00027-afa227d9-32aa-49eb-9ae8-7c2fb625253a",
        "deepnote_cell_type": "code",
        "deepnote_cell_height": 490.6875
      },
      "source": [
        "cleaned_data = clean_data(df)\n",
        "cleaned_data"
      ],
      "execution_count": 6,
      "outputs": [
        {
          "output_type": "execute_result",
          "data": {
            "text/plain": [
              "                 names  gender race/ethnicity parental level of education  \\\n",
              "0        Rita Courtney  female        group B            some high school   \n",
              "3     Charles Linstrom    male        group A           bachelor's degree   \n",
              "5          Brian Young    male        group C            some high school   \n",
              "6       Howard Jimenez    male        group E            some high school   \n",
              "7         Wayne Wilson    male        group B            some high school   \n",
              "...                ...     ...            ...                         ...   \n",
              "1392     Richard Young    male        group D                 high school   \n",
              "1394     Wanda Russell  female        group B                 high school   \n",
              "1396    Marina Zeigler  female        group C           bachelor's degree   \n",
              "1397     Laurie Carter  female        group B            some high school   \n",
              "1399      Amanda Perez  female        group A                 high school   \n",
              "\n",
              "             lunch test preparation course math score reading score  \\\n",
              "0         standard                    none         37            46   \n",
              "3         standard               completed         80            78   \n",
              "5         standard                    none         73            66   \n",
              "6         standard               completed         81            75   \n",
              "7         standard               completed         94            86   \n",
              "...            ...                     ...        ...           ...   \n",
              "1392      standard                    none         69            75   \n",
              "1394  free/reduced               completed         23            44   \n",
              "1396  free/reduced               completed         66            74   \n",
              "1397      standard               completed         54            61   \n",
              "1399      standard               completed         68            80   \n",
              "\n",
              "     writing score  \n",
              "0               46  \n",
              "3               81  \n",
              "5               63  \n",
              "6               76  \n",
              "7               87  \n",
              "...            ...  \n",
              "1392            71  \n",
              "1394            36  \n",
              "1396            81  \n",
              "1397            62  \n",
              "1399            76  \n",
              "\n",
              "[1003 rows x 9 columns]"
            ],
            "text/html": [
              "\n",
              "  <div id=\"df-3826a896-8aac-4a65-b9a3-69b4707cf598\">\n",
              "    <div class=\"colab-df-container\">\n",
              "      <div>\n",
              "<style scoped>\n",
              "    .dataframe tbody tr th:only-of-type {\n",
              "        vertical-align: middle;\n",
              "    }\n",
              "\n",
              "    .dataframe tbody tr th {\n",
              "        vertical-align: top;\n",
              "    }\n",
              "\n",
              "    .dataframe thead th {\n",
              "        text-align: right;\n",
              "    }\n",
              "</style>\n",
              "<table border=\"1\" class=\"dataframe\">\n",
              "  <thead>\n",
              "    <tr style=\"text-align: right;\">\n",
              "      <th></th>\n",
              "      <th>names</th>\n",
              "      <th>gender</th>\n",
              "      <th>race/ethnicity</th>\n",
              "      <th>parental level of education</th>\n",
              "      <th>lunch</th>\n",
              "      <th>test preparation course</th>\n",
              "      <th>math score</th>\n",
              "      <th>reading score</th>\n",
              "      <th>writing score</th>\n",
              "    </tr>\n",
              "  </thead>\n",
              "  <tbody>\n",
              "    <tr>\n",
              "      <th>0</th>\n",
              "      <td>Rita Courtney</td>\n",
              "      <td>female</td>\n",
              "      <td>group B</td>\n",
              "      <td>some high school</td>\n",
              "      <td>standard</td>\n",
              "      <td>none</td>\n",
              "      <td>37</td>\n",
              "      <td>46</td>\n",
              "      <td>46</td>\n",
              "    </tr>\n",
              "    <tr>\n",
              "      <th>3</th>\n",
              "      <td>Charles Linstrom</td>\n",
              "      <td>male</td>\n",
              "      <td>group A</td>\n",
              "      <td>bachelor's degree</td>\n",
              "      <td>standard</td>\n",
              "      <td>completed</td>\n",
              "      <td>80</td>\n",
              "      <td>78</td>\n",
              "      <td>81</td>\n",
              "    </tr>\n",
              "    <tr>\n",
              "      <th>5</th>\n",
              "      <td>Brian Young</td>\n",
              "      <td>male</td>\n",
              "      <td>group C</td>\n",
              "      <td>some high school</td>\n",
              "      <td>standard</td>\n",
              "      <td>none</td>\n",
              "      <td>73</td>\n",
              "      <td>66</td>\n",
              "      <td>63</td>\n",
              "    </tr>\n",
              "    <tr>\n",
              "      <th>6</th>\n",
              "      <td>Howard Jimenez</td>\n",
              "      <td>male</td>\n",
              "      <td>group E</td>\n",
              "      <td>some high school</td>\n",
              "      <td>standard</td>\n",
              "      <td>completed</td>\n",
              "      <td>81</td>\n",
              "      <td>75</td>\n",
              "      <td>76</td>\n",
              "    </tr>\n",
              "    <tr>\n",
              "      <th>7</th>\n",
              "      <td>Wayne Wilson</td>\n",
              "      <td>male</td>\n",
              "      <td>group B</td>\n",
              "      <td>some high school</td>\n",
              "      <td>standard</td>\n",
              "      <td>completed</td>\n",
              "      <td>94</td>\n",
              "      <td>86</td>\n",
              "      <td>87</td>\n",
              "    </tr>\n",
              "    <tr>\n",
              "      <th>...</th>\n",
              "      <td>...</td>\n",
              "      <td>...</td>\n",
              "      <td>...</td>\n",
              "      <td>...</td>\n",
              "      <td>...</td>\n",
              "      <td>...</td>\n",
              "      <td>...</td>\n",
              "      <td>...</td>\n",
              "      <td>...</td>\n",
              "    </tr>\n",
              "    <tr>\n",
              "      <th>1392</th>\n",
              "      <td>Richard Young</td>\n",
              "      <td>male</td>\n",
              "      <td>group D</td>\n",
              "      <td>high school</td>\n",
              "      <td>standard</td>\n",
              "      <td>none</td>\n",
              "      <td>69</td>\n",
              "      <td>75</td>\n",
              "      <td>71</td>\n",
              "    </tr>\n",
              "    <tr>\n",
              "      <th>1394</th>\n",
              "      <td>Wanda Russell</td>\n",
              "      <td>female</td>\n",
              "      <td>group B</td>\n",
              "      <td>high school</td>\n",
              "      <td>free/reduced</td>\n",
              "      <td>completed</td>\n",
              "      <td>23</td>\n",
              "      <td>44</td>\n",
              "      <td>36</td>\n",
              "    </tr>\n",
              "    <tr>\n",
              "      <th>1396</th>\n",
              "      <td>Marina Zeigler</td>\n",
              "      <td>female</td>\n",
              "      <td>group C</td>\n",
              "      <td>bachelor's degree</td>\n",
              "      <td>free/reduced</td>\n",
              "      <td>completed</td>\n",
              "      <td>66</td>\n",
              "      <td>74</td>\n",
              "      <td>81</td>\n",
              "    </tr>\n",
              "    <tr>\n",
              "      <th>1397</th>\n",
              "      <td>Laurie Carter</td>\n",
              "      <td>female</td>\n",
              "      <td>group B</td>\n",
              "      <td>some high school</td>\n",
              "      <td>standard</td>\n",
              "      <td>completed</td>\n",
              "      <td>54</td>\n",
              "      <td>61</td>\n",
              "      <td>62</td>\n",
              "    </tr>\n",
              "    <tr>\n",
              "      <th>1399</th>\n",
              "      <td>Amanda Perez</td>\n",
              "      <td>female</td>\n",
              "      <td>group A</td>\n",
              "      <td>high school</td>\n",
              "      <td>standard</td>\n",
              "      <td>completed</td>\n",
              "      <td>68</td>\n",
              "      <td>80</td>\n",
              "      <td>76</td>\n",
              "    </tr>\n",
              "  </tbody>\n",
              "</table>\n",
              "<p>1003 rows × 9 columns</p>\n",
              "</div>\n",
              "      <button class=\"colab-df-convert\" onclick=\"convertToInteractive('df-3826a896-8aac-4a65-b9a3-69b4707cf598')\"\n",
              "              title=\"Convert this dataframe to an interactive table.\"\n",
              "              style=\"display:none;\">\n",
              "        \n",
              "  <svg xmlns=\"http://www.w3.org/2000/svg\" height=\"24px\"viewBox=\"0 0 24 24\"\n",
              "       width=\"24px\">\n",
              "    <path d=\"M0 0h24v24H0V0z\" fill=\"none\"/>\n",
              "    <path d=\"M18.56 5.44l.94 2.06.94-2.06 2.06-.94-2.06-.94-.94-2.06-.94 2.06-2.06.94zm-11 1L8.5 8.5l.94-2.06 2.06-.94-2.06-.94L8.5 2.5l-.94 2.06-2.06.94zm10 10l.94 2.06.94-2.06 2.06-.94-2.06-.94-.94-2.06-.94 2.06-2.06.94z\"/><path d=\"M17.41 7.96l-1.37-1.37c-.4-.4-.92-.59-1.43-.59-.52 0-1.04.2-1.43.59L10.3 9.45l-7.72 7.72c-.78.78-.78 2.05 0 2.83L4 21.41c.39.39.9.59 1.41.59.51 0 1.02-.2 1.41-.59l7.78-7.78 2.81-2.81c.8-.78.8-2.07 0-2.86zM5.41 20L4 18.59l7.72-7.72 1.47 1.35L5.41 20z\"/>\n",
              "  </svg>\n",
              "      </button>\n",
              "      \n",
              "  <style>\n",
              "    .colab-df-container {\n",
              "      display:flex;\n",
              "      flex-wrap:wrap;\n",
              "      gap: 12px;\n",
              "    }\n",
              "\n",
              "    .colab-df-convert {\n",
              "      background-color: #E8F0FE;\n",
              "      border: none;\n",
              "      border-radius: 50%;\n",
              "      cursor: pointer;\n",
              "      display: none;\n",
              "      fill: #1967D2;\n",
              "      height: 32px;\n",
              "      padding: 0 0 0 0;\n",
              "      width: 32px;\n",
              "    }\n",
              "\n",
              "    .colab-df-convert:hover {\n",
              "      background-color: #E2EBFA;\n",
              "      box-shadow: 0px 1px 2px rgba(60, 64, 67, 0.3), 0px 1px 3px 1px rgba(60, 64, 67, 0.15);\n",
              "      fill: #174EA6;\n",
              "    }\n",
              "\n",
              "    [theme=dark] .colab-df-convert {\n",
              "      background-color: #3B4455;\n",
              "      fill: #D2E3FC;\n",
              "    }\n",
              "\n",
              "    [theme=dark] .colab-df-convert:hover {\n",
              "      background-color: #434B5C;\n",
              "      box-shadow: 0px 1px 3px 1px rgba(0, 0, 0, 0.15);\n",
              "      filter: drop-shadow(0px 1px 2px rgba(0, 0, 0, 0.3));\n",
              "      fill: #FFFFFF;\n",
              "    }\n",
              "  </style>\n",
              "\n",
              "      <script>\n",
              "        const buttonEl =\n",
              "          document.querySelector('#df-3826a896-8aac-4a65-b9a3-69b4707cf598 button.colab-df-convert');\n",
              "        buttonEl.style.display =\n",
              "          google.colab.kernel.accessAllowed ? 'block' : 'none';\n",
              "\n",
              "        async function convertToInteractive(key) {\n",
              "          const element = document.querySelector('#df-3826a896-8aac-4a65-b9a3-69b4707cf598');\n",
              "          const dataTable =\n",
              "            await google.colab.kernel.invokeFunction('convertToInteractive',\n",
              "                                                     [key], {});\n",
              "          if (!dataTable) return;\n",
              "\n",
              "          const docLinkHtml = 'Like what you see? Visit the ' +\n",
              "            '<a target=\"_blank\" href=https://colab.research.google.com/notebooks/data_table.ipynb>data table notebook</a>'\n",
              "            + ' to learn more about interactive tables.';\n",
              "          element.innerHTML = '';\n",
              "          dataTable['output_type'] = 'display_data';\n",
              "          await google.colab.output.renderOutput(dataTable, element);\n",
              "          const docLink = document.createElement('div');\n",
              "          docLink.innerHTML = docLinkHtml;\n",
              "          element.appendChild(docLink);\n",
              "        }\n",
              "      </script>\n",
              "    </div>\n",
              "  </div>\n",
              "  "
            ]
          },
          "metadata": {},
          "execution_count": 6
        }
      ]
    },
    {
      "cell_type": "markdown",
      "source": [
        "> Utilice la función creada en el punto 1.1 para verificar sus resultados."
      ],
      "metadata": {
        "id": "iAnb7kcRj9gJ",
        "cell_id": "00028-7d461c3c-584a-437b-a3b0-8eb3a9a60b08",
        "deepnote_cell_type": "markdown",
        "deepnote_cell_height": 66.390625
      }
    },
    {
      "cell_type": "code",
      "source": [
        "exploratory_data_analysis(cleaned_data)"
      ],
      "metadata": {
        "colab": {
          "base_uri": "https://localhost:8080/",
          "height": 1000
        },
        "id": "IJfD5OB8sVVY",
        "outputId": "7ab4e58a-8fde-4b6c-d80c-47981b5ec572"
      },
      "execution_count": 7,
      "outputs": [
        {
          "output_type": "stream",
          "name": "stdout",
          "text": [
            "1.- El dataframe tiene 1003 filas y 9 columnas \n",
            "\n",
            "2.- El DataFrame esta compuesto por las siguientes columnas:  ['names', 'gender', 'race/ethnicity', 'parental level of education', 'lunch', 'test preparation course', 'math score', 'reading score', 'writing score'] \n",
            "\n",
            "3.- Ejemplos de filas del DataFrame: \n",
            " \n",
            " Primeras 5 filas:\n"
          ]
        },
        {
          "output_type": "display_data",
          "data": {
            "text/plain": [
              "              names  gender race/ethnicity parental level of education  \\\n",
              "0     Rita Courtney  female        group B            some high school   \n",
              "3  Charles Linstrom    male        group A           bachelor's degree   \n",
              "\n",
              "      lunch test preparation course math score reading score writing score  \n",
              "0  standard                    none         37            46            46  \n",
              "3  standard               completed         80            78            81  "
            ],
            "text/html": [
              "\n",
              "  <div id=\"df-18915597-0ac8-453d-bfcc-5f7047f65089\">\n",
              "    <div class=\"colab-df-container\">\n",
              "      <div>\n",
              "<style scoped>\n",
              "    .dataframe tbody tr th:only-of-type {\n",
              "        vertical-align: middle;\n",
              "    }\n",
              "\n",
              "    .dataframe tbody tr th {\n",
              "        vertical-align: top;\n",
              "    }\n",
              "\n",
              "    .dataframe thead th {\n",
              "        text-align: right;\n",
              "    }\n",
              "</style>\n",
              "<table border=\"1\" class=\"dataframe\">\n",
              "  <thead>\n",
              "    <tr style=\"text-align: right;\">\n",
              "      <th></th>\n",
              "      <th>names</th>\n",
              "      <th>gender</th>\n",
              "      <th>race/ethnicity</th>\n",
              "      <th>parental level of education</th>\n",
              "      <th>lunch</th>\n",
              "      <th>test preparation course</th>\n",
              "      <th>math score</th>\n",
              "      <th>reading score</th>\n",
              "      <th>writing score</th>\n",
              "    </tr>\n",
              "  </thead>\n",
              "  <tbody>\n",
              "    <tr>\n",
              "      <th>0</th>\n",
              "      <td>Rita Courtney</td>\n",
              "      <td>female</td>\n",
              "      <td>group B</td>\n",
              "      <td>some high school</td>\n",
              "      <td>standard</td>\n",
              "      <td>none</td>\n",
              "      <td>37</td>\n",
              "      <td>46</td>\n",
              "      <td>46</td>\n",
              "    </tr>\n",
              "    <tr>\n",
              "      <th>3</th>\n",
              "      <td>Charles Linstrom</td>\n",
              "      <td>male</td>\n",
              "      <td>group A</td>\n",
              "      <td>bachelor's degree</td>\n",
              "      <td>standard</td>\n",
              "      <td>completed</td>\n",
              "      <td>80</td>\n",
              "      <td>78</td>\n",
              "      <td>81</td>\n",
              "    </tr>\n",
              "  </tbody>\n",
              "</table>\n",
              "</div>\n",
              "      <button class=\"colab-df-convert\" onclick=\"convertToInteractive('df-18915597-0ac8-453d-bfcc-5f7047f65089')\"\n",
              "              title=\"Convert this dataframe to an interactive table.\"\n",
              "              style=\"display:none;\">\n",
              "        \n",
              "  <svg xmlns=\"http://www.w3.org/2000/svg\" height=\"24px\"viewBox=\"0 0 24 24\"\n",
              "       width=\"24px\">\n",
              "    <path d=\"M0 0h24v24H0V0z\" fill=\"none\"/>\n",
              "    <path d=\"M18.56 5.44l.94 2.06.94-2.06 2.06-.94-2.06-.94-.94-2.06-.94 2.06-2.06.94zm-11 1L8.5 8.5l.94-2.06 2.06-.94-2.06-.94L8.5 2.5l-.94 2.06-2.06.94zm10 10l.94 2.06.94-2.06 2.06-.94-2.06-.94-.94-2.06-.94 2.06-2.06.94z\"/><path d=\"M17.41 7.96l-1.37-1.37c-.4-.4-.92-.59-1.43-.59-.52 0-1.04.2-1.43.59L10.3 9.45l-7.72 7.72c-.78.78-.78 2.05 0 2.83L4 21.41c.39.39.9.59 1.41.59.51 0 1.02-.2 1.41-.59l7.78-7.78 2.81-2.81c.8-.78.8-2.07 0-2.86zM5.41 20L4 18.59l7.72-7.72 1.47 1.35L5.41 20z\"/>\n",
              "  </svg>\n",
              "      </button>\n",
              "      \n",
              "  <style>\n",
              "    .colab-df-container {\n",
              "      display:flex;\n",
              "      flex-wrap:wrap;\n",
              "      gap: 12px;\n",
              "    }\n",
              "\n",
              "    .colab-df-convert {\n",
              "      background-color: #E8F0FE;\n",
              "      border: none;\n",
              "      border-radius: 50%;\n",
              "      cursor: pointer;\n",
              "      display: none;\n",
              "      fill: #1967D2;\n",
              "      height: 32px;\n",
              "      padding: 0 0 0 0;\n",
              "      width: 32px;\n",
              "    }\n",
              "\n",
              "    .colab-df-convert:hover {\n",
              "      background-color: #E2EBFA;\n",
              "      box-shadow: 0px 1px 2px rgba(60, 64, 67, 0.3), 0px 1px 3px 1px rgba(60, 64, 67, 0.15);\n",
              "      fill: #174EA6;\n",
              "    }\n",
              "\n",
              "    [theme=dark] .colab-df-convert {\n",
              "      background-color: #3B4455;\n",
              "      fill: #D2E3FC;\n",
              "    }\n",
              "\n",
              "    [theme=dark] .colab-df-convert:hover {\n",
              "      background-color: #434B5C;\n",
              "      box-shadow: 0px 1px 3px 1px rgba(0, 0, 0, 0.15);\n",
              "      filter: drop-shadow(0px 1px 2px rgba(0, 0, 0, 0.3));\n",
              "      fill: #FFFFFF;\n",
              "    }\n",
              "  </style>\n",
              "\n",
              "      <script>\n",
              "        const buttonEl =\n",
              "          document.querySelector('#df-18915597-0ac8-453d-bfcc-5f7047f65089 button.colab-df-convert');\n",
              "        buttonEl.style.display =\n",
              "          google.colab.kernel.accessAllowed ? 'block' : 'none';\n",
              "\n",
              "        async function convertToInteractive(key) {\n",
              "          const element = document.querySelector('#df-18915597-0ac8-453d-bfcc-5f7047f65089');\n",
              "          const dataTable =\n",
              "            await google.colab.kernel.invokeFunction('convertToInteractive',\n",
              "                                                     [key], {});\n",
              "          if (!dataTable) return;\n",
              "\n",
              "          const docLinkHtml = 'Like what you see? Visit the ' +\n",
              "            '<a target=\"_blank\" href=https://colab.research.google.com/notebooks/data_table.ipynb>data table notebook</a>'\n",
              "            + ' to learn more about interactive tables.';\n",
              "          element.innerHTML = '';\n",
              "          dataTable['output_type'] = 'display_data';\n",
              "          await google.colab.output.renderOutput(dataTable, element);\n",
              "          const docLink = document.createElement('div');\n",
              "          docLink.innerHTML = docLinkHtml;\n",
              "          element.appendChild(docLink);\n",
              "        }\n",
              "      </script>\n",
              "    </div>\n",
              "  </div>\n",
              "  "
            ]
          },
          "metadata": {}
        },
        {
          "output_type": "stream",
          "name": "stdout",
          "text": [
            "\n",
            " Ultimas 5 filas:\n"
          ]
        },
        {
          "output_type": "display_data",
          "data": {
            "text/plain": [
              "                names  gender race/ethnicity parental level of education  \\\n",
              "998   Doris Sandiford  female        group D             master's degree   \n",
              "999   Ashley Bradburn  female        group B            some high school   \n",
              "1000  Catalina Brooks  female        group C                some college   \n",
              "1001  Morris Mcfaddin    male        group A                some college   \n",
              "1002     Cynthia Sisk  female        group D                some college   \n",
              "...               ...     ...            ...                         ...   \n",
              "1392    Richard Young    male        group D                 high school   \n",
              "1394    Wanda Russell  female        group B                 high school   \n",
              "1396   Marina Zeigler  female        group C           bachelor's degree   \n",
              "1397    Laurie Carter  female        group B            some high school   \n",
              "1399     Amanda Perez  female        group A                 high school   \n",
              "\n",
              "             lunch test preparation course math score reading score  \\\n",
              "998   free/reduced               completed         61            71   \n",
              "999       standard                    none         67            89   \n",
              "1000      standard                    none         54            48   \n",
              "1001  free/reduced                    none         75            81   \n",
              "1002      standard                    none         80            90   \n",
              "...            ...                     ...        ...           ...   \n",
              "1392      standard                    none         69            75   \n",
              "1394  free/reduced               completed         23            44   \n",
              "1396  free/reduced               completed         66            74   \n",
              "1397      standard               completed         54            61   \n",
              "1399      standard               completed         68            80   \n",
              "\n",
              "     writing score  \n",
              "998             78  \n",
              "999             82  \n",
              "1000            52  \n",
              "1001            74  \n",
              "1002            89  \n",
              "...            ...  \n",
              "1392            71  \n",
              "1394            36  \n",
              "1396            81  \n",
              "1397            62  \n",
              "1399            76  \n",
              "\n",
              "[293 rows x 9 columns]"
            ],
            "text/html": [
              "\n",
              "  <div id=\"df-f16b365a-7853-4897-9540-60b72dc50f8b\">\n",
              "    <div class=\"colab-df-container\">\n",
              "      <div>\n",
              "<style scoped>\n",
              "    .dataframe tbody tr th:only-of-type {\n",
              "        vertical-align: middle;\n",
              "    }\n",
              "\n",
              "    .dataframe tbody tr th {\n",
              "        vertical-align: top;\n",
              "    }\n",
              "\n",
              "    .dataframe thead th {\n",
              "        text-align: right;\n",
              "    }\n",
              "</style>\n",
              "<table border=\"1\" class=\"dataframe\">\n",
              "  <thead>\n",
              "    <tr style=\"text-align: right;\">\n",
              "      <th></th>\n",
              "      <th>names</th>\n",
              "      <th>gender</th>\n",
              "      <th>race/ethnicity</th>\n",
              "      <th>parental level of education</th>\n",
              "      <th>lunch</th>\n",
              "      <th>test preparation course</th>\n",
              "      <th>math score</th>\n",
              "      <th>reading score</th>\n",
              "      <th>writing score</th>\n",
              "    </tr>\n",
              "  </thead>\n",
              "  <tbody>\n",
              "    <tr>\n",
              "      <th>998</th>\n",
              "      <td>Doris Sandiford</td>\n",
              "      <td>female</td>\n",
              "      <td>group D</td>\n",
              "      <td>master's degree</td>\n",
              "      <td>free/reduced</td>\n",
              "      <td>completed</td>\n",
              "      <td>61</td>\n",
              "      <td>71</td>\n",
              "      <td>78</td>\n",
              "    </tr>\n",
              "    <tr>\n",
              "      <th>999</th>\n",
              "      <td>Ashley Bradburn</td>\n",
              "      <td>female</td>\n",
              "      <td>group B</td>\n",
              "      <td>some high school</td>\n",
              "      <td>standard</td>\n",
              "      <td>none</td>\n",
              "      <td>67</td>\n",
              "      <td>89</td>\n",
              "      <td>82</td>\n",
              "    </tr>\n",
              "    <tr>\n",
              "      <th>1000</th>\n",
              "      <td>Catalina Brooks</td>\n",
              "      <td>female</td>\n",
              "      <td>group C</td>\n",
              "      <td>some college</td>\n",
              "      <td>standard</td>\n",
              "      <td>none</td>\n",
              "      <td>54</td>\n",
              "      <td>48</td>\n",
              "      <td>52</td>\n",
              "    </tr>\n",
              "    <tr>\n",
              "      <th>1001</th>\n",
              "      <td>Morris Mcfaddin</td>\n",
              "      <td>male</td>\n",
              "      <td>group A</td>\n",
              "      <td>some college</td>\n",
              "      <td>free/reduced</td>\n",
              "      <td>none</td>\n",
              "      <td>75</td>\n",
              "      <td>81</td>\n",
              "      <td>74</td>\n",
              "    </tr>\n",
              "    <tr>\n",
              "      <th>1002</th>\n",
              "      <td>Cynthia Sisk</td>\n",
              "      <td>female</td>\n",
              "      <td>group D</td>\n",
              "      <td>some college</td>\n",
              "      <td>standard</td>\n",
              "      <td>none</td>\n",
              "      <td>80</td>\n",
              "      <td>90</td>\n",
              "      <td>89</td>\n",
              "    </tr>\n",
              "    <tr>\n",
              "      <th>...</th>\n",
              "      <td>...</td>\n",
              "      <td>...</td>\n",
              "      <td>...</td>\n",
              "      <td>...</td>\n",
              "      <td>...</td>\n",
              "      <td>...</td>\n",
              "      <td>...</td>\n",
              "      <td>...</td>\n",
              "      <td>...</td>\n",
              "    </tr>\n",
              "    <tr>\n",
              "      <th>1392</th>\n",
              "      <td>Richard Young</td>\n",
              "      <td>male</td>\n",
              "      <td>group D</td>\n",
              "      <td>high school</td>\n",
              "      <td>standard</td>\n",
              "      <td>none</td>\n",
              "      <td>69</td>\n",
              "      <td>75</td>\n",
              "      <td>71</td>\n",
              "    </tr>\n",
              "    <tr>\n",
              "      <th>1394</th>\n",
              "      <td>Wanda Russell</td>\n",
              "      <td>female</td>\n",
              "      <td>group B</td>\n",
              "      <td>high school</td>\n",
              "      <td>free/reduced</td>\n",
              "      <td>completed</td>\n",
              "      <td>23</td>\n",
              "      <td>44</td>\n",
              "      <td>36</td>\n",
              "    </tr>\n",
              "    <tr>\n",
              "      <th>1396</th>\n",
              "      <td>Marina Zeigler</td>\n",
              "      <td>female</td>\n",
              "      <td>group C</td>\n",
              "      <td>bachelor's degree</td>\n",
              "      <td>free/reduced</td>\n",
              "      <td>completed</td>\n",
              "      <td>66</td>\n",
              "      <td>74</td>\n",
              "      <td>81</td>\n",
              "    </tr>\n",
              "    <tr>\n",
              "      <th>1397</th>\n",
              "      <td>Laurie Carter</td>\n",
              "      <td>female</td>\n",
              "      <td>group B</td>\n",
              "      <td>some high school</td>\n",
              "      <td>standard</td>\n",
              "      <td>completed</td>\n",
              "      <td>54</td>\n",
              "      <td>61</td>\n",
              "      <td>62</td>\n",
              "    </tr>\n",
              "    <tr>\n",
              "      <th>1399</th>\n",
              "      <td>Amanda Perez</td>\n",
              "      <td>female</td>\n",
              "      <td>group A</td>\n",
              "      <td>high school</td>\n",
              "      <td>standard</td>\n",
              "      <td>completed</td>\n",
              "      <td>68</td>\n",
              "      <td>80</td>\n",
              "      <td>76</td>\n",
              "    </tr>\n",
              "  </tbody>\n",
              "</table>\n",
              "<p>293 rows × 9 columns</p>\n",
              "</div>\n",
              "      <button class=\"colab-df-convert\" onclick=\"convertToInteractive('df-f16b365a-7853-4897-9540-60b72dc50f8b')\"\n",
              "              title=\"Convert this dataframe to an interactive table.\"\n",
              "              style=\"display:none;\">\n",
              "        \n",
              "  <svg xmlns=\"http://www.w3.org/2000/svg\" height=\"24px\"viewBox=\"0 0 24 24\"\n",
              "       width=\"24px\">\n",
              "    <path d=\"M0 0h24v24H0V0z\" fill=\"none\"/>\n",
              "    <path d=\"M18.56 5.44l.94 2.06.94-2.06 2.06-.94-2.06-.94-.94-2.06-.94 2.06-2.06.94zm-11 1L8.5 8.5l.94-2.06 2.06-.94-2.06-.94L8.5 2.5l-.94 2.06-2.06.94zm10 10l.94 2.06.94-2.06 2.06-.94-2.06-.94-.94-2.06-.94 2.06-2.06.94z\"/><path d=\"M17.41 7.96l-1.37-1.37c-.4-.4-.92-.59-1.43-.59-.52 0-1.04.2-1.43.59L10.3 9.45l-7.72 7.72c-.78.78-.78 2.05 0 2.83L4 21.41c.39.39.9.59 1.41.59.51 0 1.02-.2 1.41-.59l7.78-7.78 2.81-2.81c.8-.78.8-2.07 0-2.86zM5.41 20L4 18.59l7.72-7.72 1.47 1.35L5.41 20z\"/>\n",
              "  </svg>\n",
              "      </button>\n",
              "      \n",
              "  <style>\n",
              "    .colab-df-container {\n",
              "      display:flex;\n",
              "      flex-wrap:wrap;\n",
              "      gap: 12px;\n",
              "    }\n",
              "\n",
              "    .colab-df-convert {\n",
              "      background-color: #E8F0FE;\n",
              "      border: none;\n",
              "      border-radius: 50%;\n",
              "      cursor: pointer;\n",
              "      display: none;\n",
              "      fill: #1967D2;\n",
              "      height: 32px;\n",
              "      padding: 0 0 0 0;\n",
              "      width: 32px;\n",
              "    }\n",
              "\n",
              "    .colab-df-convert:hover {\n",
              "      background-color: #E2EBFA;\n",
              "      box-shadow: 0px 1px 2px rgba(60, 64, 67, 0.3), 0px 1px 3px 1px rgba(60, 64, 67, 0.15);\n",
              "      fill: #174EA6;\n",
              "    }\n",
              "\n",
              "    [theme=dark] .colab-df-convert {\n",
              "      background-color: #3B4455;\n",
              "      fill: #D2E3FC;\n",
              "    }\n",
              "\n",
              "    [theme=dark] .colab-df-convert:hover {\n",
              "      background-color: #434B5C;\n",
              "      box-shadow: 0px 1px 3px 1px rgba(0, 0, 0, 0.15);\n",
              "      filter: drop-shadow(0px 1px 2px rgba(0, 0, 0, 0.3));\n",
              "      fill: #FFFFFF;\n",
              "    }\n",
              "  </style>\n",
              "\n",
              "      <script>\n",
              "        const buttonEl =\n",
              "          document.querySelector('#df-f16b365a-7853-4897-9540-60b72dc50f8b button.colab-df-convert');\n",
              "        buttonEl.style.display =\n",
              "          google.colab.kernel.accessAllowed ? 'block' : 'none';\n",
              "\n",
              "        async function convertToInteractive(key) {\n",
              "          const element = document.querySelector('#df-f16b365a-7853-4897-9540-60b72dc50f8b');\n",
              "          const dataTable =\n",
              "            await google.colab.kernel.invokeFunction('convertToInteractive',\n",
              "                                                     [key], {});\n",
              "          if (!dataTable) return;\n",
              "\n",
              "          const docLinkHtml = 'Like what you see? Visit the ' +\n",
              "            '<a target=\"_blank\" href=https://colab.research.google.com/notebooks/data_table.ipynb>data table notebook</a>'\n",
              "            + ' to learn more about interactive tables.';\n",
              "          element.innerHTML = '';\n",
              "          dataTable['output_type'] = 'display_data';\n",
              "          await google.colab.output.renderOutput(dataTable, element);\n",
              "          const docLink = document.createElement('div');\n",
              "          docLink.innerHTML = docLinkHtml;\n",
              "          element.appendChild(docLink);\n",
              "        }\n",
              "      </script>\n",
              "    </div>\n",
              "  </div>\n",
              "  "
            ]
          },
          "metadata": {}
        },
        {
          "output_type": "stream",
          "name": "stdout",
          "text": [
            "\n",
            " Muestreo aleatorio de 5 filas:\n"
          ]
        },
        {
          "output_type": "display_data",
          "data": {
            "text/plain": [
              "                 names  gender race/ethnicity parental level of education  \\\n",
              "496      Frank Barrera    male        group C                 high school   \n",
              "638   Mauricio Deering    male        group D                 high school   \n",
              "1349   Nancy Mccormick  female        group D            some high school   \n",
              "565       Annie Roeder  female        group B            some high school   \n",
              "998    Doris Sandiford  female        group D             master's degree   \n",
              "\n",
              "             lunch test preparation course math score reading score  \\\n",
              "496       standard                    none         75            81   \n",
              "638   free/reduced                    none         74            70   \n",
              "1349  free/reduced               completed         69            86   \n",
              "565       standard                    none         82            82   \n",
              "998   free/reduced               completed         61            71   \n",
              "\n",
              "     writing score  \n",
              "496             71  \n",
              "638             69  \n",
              "1349            81  \n",
              "565             80  \n",
              "998             78  "
            ],
            "text/html": [
              "\n",
              "  <div id=\"df-97b2e7af-ed21-423f-a474-5b9c4c6c1555\">\n",
              "    <div class=\"colab-df-container\">\n",
              "      <div>\n",
              "<style scoped>\n",
              "    .dataframe tbody tr th:only-of-type {\n",
              "        vertical-align: middle;\n",
              "    }\n",
              "\n",
              "    .dataframe tbody tr th {\n",
              "        vertical-align: top;\n",
              "    }\n",
              "\n",
              "    .dataframe thead th {\n",
              "        text-align: right;\n",
              "    }\n",
              "</style>\n",
              "<table border=\"1\" class=\"dataframe\">\n",
              "  <thead>\n",
              "    <tr style=\"text-align: right;\">\n",
              "      <th></th>\n",
              "      <th>names</th>\n",
              "      <th>gender</th>\n",
              "      <th>race/ethnicity</th>\n",
              "      <th>parental level of education</th>\n",
              "      <th>lunch</th>\n",
              "      <th>test preparation course</th>\n",
              "      <th>math score</th>\n",
              "      <th>reading score</th>\n",
              "      <th>writing score</th>\n",
              "    </tr>\n",
              "  </thead>\n",
              "  <tbody>\n",
              "    <tr>\n",
              "      <th>496</th>\n",
              "      <td>Frank Barrera</td>\n",
              "      <td>male</td>\n",
              "      <td>group C</td>\n",
              "      <td>high school</td>\n",
              "      <td>standard</td>\n",
              "      <td>none</td>\n",
              "      <td>75</td>\n",
              "      <td>81</td>\n",
              "      <td>71</td>\n",
              "    </tr>\n",
              "    <tr>\n",
              "      <th>638</th>\n",
              "      <td>Mauricio Deering</td>\n",
              "      <td>male</td>\n",
              "      <td>group D</td>\n",
              "      <td>high school</td>\n",
              "      <td>free/reduced</td>\n",
              "      <td>none</td>\n",
              "      <td>74</td>\n",
              "      <td>70</td>\n",
              "      <td>69</td>\n",
              "    </tr>\n",
              "    <tr>\n",
              "      <th>1349</th>\n",
              "      <td>Nancy Mccormick</td>\n",
              "      <td>female</td>\n",
              "      <td>group D</td>\n",
              "      <td>some high school</td>\n",
              "      <td>free/reduced</td>\n",
              "      <td>completed</td>\n",
              "      <td>69</td>\n",
              "      <td>86</td>\n",
              "      <td>81</td>\n",
              "    </tr>\n",
              "    <tr>\n",
              "      <th>565</th>\n",
              "      <td>Annie Roeder</td>\n",
              "      <td>female</td>\n",
              "      <td>group B</td>\n",
              "      <td>some high school</td>\n",
              "      <td>standard</td>\n",
              "      <td>none</td>\n",
              "      <td>82</td>\n",
              "      <td>82</td>\n",
              "      <td>80</td>\n",
              "    </tr>\n",
              "    <tr>\n",
              "      <th>998</th>\n",
              "      <td>Doris Sandiford</td>\n",
              "      <td>female</td>\n",
              "      <td>group D</td>\n",
              "      <td>master's degree</td>\n",
              "      <td>free/reduced</td>\n",
              "      <td>completed</td>\n",
              "      <td>61</td>\n",
              "      <td>71</td>\n",
              "      <td>78</td>\n",
              "    </tr>\n",
              "  </tbody>\n",
              "</table>\n",
              "</div>\n",
              "      <button class=\"colab-df-convert\" onclick=\"convertToInteractive('df-97b2e7af-ed21-423f-a474-5b9c4c6c1555')\"\n",
              "              title=\"Convert this dataframe to an interactive table.\"\n",
              "              style=\"display:none;\">\n",
              "        \n",
              "  <svg xmlns=\"http://www.w3.org/2000/svg\" height=\"24px\"viewBox=\"0 0 24 24\"\n",
              "       width=\"24px\">\n",
              "    <path d=\"M0 0h24v24H0V0z\" fill=\"none\"/>\n",
              "    <path d=\"M18.56 5.44l.94 2.06.94-2.06 2.06-.94-2.06-.94-.94-2.06-.94 2.06-2.06.94zm-11 1L8.5 8.5l.94-2.06 2.06-.94-2.06-.94L8.5 2.5l-.94 2.06-2.06.94zm10 10l.94 2.06.94-2.06 2.06-.94-2.06-.94-.94-2.06-.94 2.06-2.06.94z\"/><path d=\"M17.41 7.96l-1.37-1.37c-.4-.4-.92-.59-1.43-.59-.52 0-1.04.2-1.43.59L10.3 9.45l-7.72 7.72c-.78.78-.78 2.05 0 2.83L4 21.41c.39.39.9.59 1.41.59.51 0 1.02-.2 1.41-.59l7.78-7.78 2.81-2.81c.8-.78.8-2.07 0-2.86zM5.41 20L4 18.59l7.72-7.72 1.47 1.35L5.41 20z\"/>\n",
              "  </svg>\n",
              "      </button>\n",
              "      \n",
              "  <style>\n",
              "    .colab-df-container {\n",
              "      display:flex;\n",
              "      flex-wrap:wrap;\n",
              "      gap: 12px;\n",
              "    }\n",
              "\n",
              "    .colab-df-convert {\n",
              "      background-color: #E8F0FE;\n",
              "      border: none;\n",
              "      border-radius: 50%;\n",
              "      cursor: pointer;\n",
              "      display: none;\n",
              "      fill: #1967D2;\n",
              "      height: 32px;\n",
              "      padding: 0 0 0 0;\n",
              "      width: 32px;\n",
              "    }\n",
              "\n",
              "    .colab-df-convert:hover {\n",
              "      background-color: #E2EBFA;\n",
              "      box-shadow: 0px 1px 2px rgba(60, 64, 67, 0.3), 0px 1px 3px 1px rgba(60, 64, 67, 0.15);\n",
              "      fill: #174EA6;\n",
              "    }\n",
              "\n",
              "    [theme=dark] .colab-df-convert {\n",
              "      background-color: #3B4455;\n",
              "      fill: #D2E3FC;\n",
              "    }\n",
              "\n",
              "    [theme=dark] .colab-df-convert:hover {\n",
              "      background-color: #434B5C;\n",
              "      box-shadow: 0px 1px 3px 1px rgba(0, 0, 0, 0.15);\n",
              "      filter: drop-shadow(0px 1px 2px rgba(0, 0, 0, 0.3));\n",
              "      fill: #FFFFFF;\n",
              "    }\n",
              "  </style>\n",
              "\n",
              "      <script>\n",
              "        const buttonEl =\n",
              "          document.querySelector('#df-97b2e7af-ed21-423f-a474-5b9c4c6c1555 button.colab-df-convert');\n",
              "        buttonEl.style.display =\n",
              "          google.colab.kernel.accessAllowed ? 'block' : 'none';\n",
              "\n",
              "        async function convertToInteractive(key) {\n",
              "          const element = document.querySelector('#df-97b2e7af-ed21-423f-a474-5b9c4c6c1555');\n",
              "          const dataTable =\n",
              "            await google.colab.kernel.invokeFunction('convertToInteractive',\n",
              "                                                     [key], {});\n",
              "          if (!dataTable) return;\n",
              "\n",
              "          const docLinkHtml = 'Like what you see? Visit the ' +\n",
              "            '<a target=\"_blank\" href=https://colab.research.google.com/notebooks/data_table.ipynb>data table notebook</a>'\n",
              "            + ' to learn more about interactive tables.';\n",
              "          element.innerHTML = '';\n",
              "          dataTable['output_type'] = 'display_data';\n",
              "          await google.colab.output.renderOutput(dataTable, element);\n",
              "          const docLink = document.createElement('div');\n",
              "          docLink.innerHTML = docLinkHtml;\n",
              "          element.appendChild(docLink);\n",
              "        }\n",
              "      </script>\n",
              "    </div>\n",
              "  </div>\n",
              "  "
            ]
          },
          "metadata": {}
        },
        {
          "output_type": "stream",
          "name": "stdout",
          "text": [
            "\n",
            " 4.- Descripción numérica del Dataframe: \n",
            "\n"
          ]
        },
        {
          "output_type": "display_data",
          "data": {
            "text/plain": [
              "        math score  reading score  writing score\n",
              "count         1003           1003           1003\n",
              "unique          81             72             77\n",
              "top             65             72             74\n",
              "freq            36             34             35"
            ],
            "text/html": [
              "\n",
              "  <div id=\"df-4dd5f435-dc3e-4ec0-82e2-2ad3d5084a78\">\n",
              "    <div class=\"colab-df-container\">\n",
              "      <div>\n",
              "<style scoped>\n",
              "    .dataframe tbody tr th:only-of-type {\n",
              "        vertical-align: middle;\n",
              "    }\n",
              "\n",
              "    .dataframe tbody tr th {\n",
              "        vertical-align: top;\n",
              "    }\n",
              "\n",
              "    .dataframe thead th {\n",
              "        text-align: right;\n",
              "    }\n",
              "</style>\n",
              "<table border=\"1\" class=\"dataframe\">\n",
              "  <thead>\n",
              "    <tr style=\"text-align: right;\">\n",
              "      <th></th>\n",
              "      <th>math score</th>\n",
              "      <th>reading score</th>\n",
              "      <th>writing score</th>\n",
              "    </tr>\n",
              "  </thead>\n",
              "  <tbody>\n",
              "    <tr>\n",
              "      <th>count</th>\n",
              "      <td>1003</td>\n",
              "      <td>1003</td>\n",
              "      <td>1003</td>\n",
              "    </tr>\n",
              "    <tr>\n",
              "      <th>unique</th>\n",
              "      <td>81</td>\n",
              "      <td>72</td>\n",
              "      <td>77</td>\n",
              "    </tr>\n",
              "    <tr>\n",
              "      <th>top</th>\n",
              "      <td>65</td>\n",
              "      <td>72</td>\n",
              "      <td>74</td>\n",
              "    </tr>\n",
              "    <tr>\n",
              "      <th>freq</th>\n",
              "      <td>36</td>\n",
              "      <td>34</td>\n",
              "      <td>35</td>\n",
              "    </tr>\n",
              "  </tbody>\n",
              "</table>\n",
              "</div>\n",
              "      <button class=\"colab-df-convert\" onclick=\"convertToInteractive('df-4dd5f435-dc3e-4ec0-82e2-2ad3d5084a78')\"\n",
              "              title=\"Convert this dataframe to an interactive table.\"\n",
              "              style=\"display:none;\">\n",
              "        \n",
              "  <svg xmlns=\"http://www.w3.org/2000/svg\" height=\"24px\"viewBox=\"0 0 24 24\"\n",
              "       width=\"24px\">\n",
              "    <path d=\"M0 0h24v24H0V0z\" fill=\"none\"/>\n",
              "    <path d=\"M18.56 5.44l.94 2.06.94-2.06 2.06-.94-2.06-.94-.94-2.06-.94 2.06-2.06.94zm-11 1L8.5 8.5l.94-2.06 2.06-.94-2.06-.94L8.5 2.5l-.94 2.06-2.06.94zm10 10l.94 2.06.94-2.06 2.06-.94-2.06-.94-.94-2.06-.94 2.06-2.06.94z\"/><path d=\"M17.41 7.96l-1.37-1.37c-.4-.4-.92-.59-1.43-.59-.52 0-1.04.2-1.43.59L10.3 9.45l-7.72 7.72c-.78.78-.78 2.05 0 2.83L4 21.41c.39.39.9.59 1.41.59.51 0 1.02-.2 1.41-.59l7.78-7.78 2.81-2.81c.8-.78.8-2.07 0-2.86zM5.41 20L4 18.59l7.72-7.72 1.47 1.35L5.41 20z\"/>\n",
              "  </svg>\n",
              "      </button>\n",
              "      \n",
              "  <style>\n",
              "    .colab-df-container {\n",
              "      display:flex;\n",
              "      flex-wrap:wrap;\n",
              "      gap: 12px;\n",
              "    }\n",
              "\n",
              "    .colab-df-convert {\n",
              "      background-color: #E8F0FE;\n",
              "      border: none;\n",
              "      border-radius: 50%;\n",
              "      cursor: pointer;\n",
              "      display: none;\n",
              "      fill: #1967D2;\n",
              "      height: 32px;\n",
              "      padding: 0 0 0 0;\n",
              "      width: 32px;\n",
              "    }\n",
              "\n",
              "    .colab-df-convert:hover {\n",
              "      background-color: #E2EBFA;\n",
              "      box-shadow: 0px 1px 2px rgba(60, 64, 67, 0.3), 0px 1px 3px 1px rgba(60, 64, 67, 0.15);\n",
              "      fill: #174EA6;\n",
              "    }\n",
              "\n",
              "    [theme=dark] .colab-df-convert {\n",
              "      background-color: #3B4455;\n",
              "      fill: #D2E3FC;\n",
              "    }\n",
              "\n",
              "    [theme=dark] .colab-df-convert:hover {\n",
              "      background-color: #434B5C;\n",
              "      box-shadow: 0px 1px 3px 1px rgba(0, 0, 0, 0.15);\n",
              "      filter: drop-shadow(0px 1px 2px rgba(0, 0, 0, 0.3));\n",
              "      fill: #FFFFFF;\n",
              "    }\n",
              "  </style>\n",
              "\n",
              "      <script>\n",
              "        const buttonEl =\n",
              "          document.querySelector('#df-4dd5f435-dc3e-4ec0-82e2-2ad3d5084a78 button.colab-df-convert');\n",
              "        buttonEl.style.display =\n",
              "          google.colab.kernel.accessAllowed ? 'block' : 'none';\n",
              "\n",
              "        async function convertToInteractive(key) {\n",
              "          const element = document.querySelector('#df-4dd5f435-dc3e-4ec0-82e2-2ad3d5084a78');\n",
              "          const dataTable =\n",
              "            await google.colab.kernel.invokeFunction('convertToInteractive',\n",
              "                                                     [key], {});\n",
              "          if (!dataTable) return;\n",
              "\n",
              "          const docLinkHtml = 'Like what you see? Visit the ' +\n",
              "            '<a target=\"_blank\" href=https://colab.research.google.com/notebooks/data_table.ipynb>data table notebook</a>'\n",
              "            + ' to learn more about interactive tables.';\n",
              "          element.innerHTML = '';\n",
              "          dataTable['output_type'] = 'display_data';\n",
              "          await google.colab.output.renderOutput(dataTable, element);\n",
              "          const docLink = document.createElement('div');\n",
              "          docLink.innerHTML = docLinkHtml;\n",
              "          element.appendChild(docLink);\n",
              "        }\n",
              "      </script>\n",
              "    </div>\n",
              "  </div>\n",
              "  "
            ]
          },
          "metadata": {}
        },
        {
          "output_type": "stream",
          "name": "stdout",
          "text": [
            "5.- Cantidad de valores nulos por columna:\n",
            " names                          0\n",
            "gender                         0\n",
            "race/ethnicity                 0\n",
            "parental level of education    0\n",
            "lunch                          0\n",
            "test preparation course        0\n",
            "math score                     0\n",
            "reading score                  0\n",
            "writing score                  0\n",
            "dtype: int64\n",
            "\n",
            "6.- Cantidad de valores únicos por columna:\n",
            " names                          1000\n",
            "gender                            2\n",
            "race/ethnicity                    5\n",
            "parental level of education       6\n",
            "lunch                             2\n",
            "test preparation course           2\n",
            "math score                       81\n",
            "reading score                    72\n",
            "writing score                    77\n",
            "dtype: int64\n",
            "\n",
            "7.- Presenta un total de  3 filas con nombres duplicados.\n",
            "\n",
            "8.- Las filas con nombres duplicados son: \n",
            "\n"
          ]
        },
        {
          "output_type": "display_data",
          "data": {
            "text/plain": [
              "                names gender race/ethnicity parental level of education  \\\n",
              "827     Justin Harris   male        group D                some college   \n",
              "900   Anthony Malcomb   male        group C                some college   \n",
              "1223  Charles Jackson   male        group E            some high school   \n",
              "\n",
              "             lunch test preparation course math score reading score  \\\n",
              "827       standard                    none         40            42   \n",
              "900   free/reduced                    none         35            28   \n",
              "1223      standard                    none         30            26   \n",
              "\n",
              "     writing score  \n",
              "827             38  \n",
              "900             27  \n",
              "1223            22  "
            ],
            "text/html": [
              "\n",
              "  <div id=\"df-ee1c1a31-70fe-4b63-bb6a-ef14f8c56e26\">\n",
              "    <div class=\"colab-df-container\">\n",
              "      <div>\n",
              "<style scoped>\n",
              "    .dataframe tbody tr th:only-of-type {\n",
              "        vertical-align: middle;\n",
              "    }\n",
              "\n",
              "    .dataframe tbody tr th {\n",
              "        vertical-align: top;\n",
              "    }\n",
              "\n",
              "    .dataframe thead th {\n",
              "        text-align: right;\n",
              "    }\n",
              "</style>\n",
              "<table border=\"1\" class=\"dataframe\">\n",
              "  <thead>\n",
              "    <tr style=\"text-align: right;\">\n",
              "      <th></th>\n",
              "      <th>names</th>\n",
              "      <th>gender</th>\n",
              "      <th>race/ethnicity</th>\n",
              "      <th>parental level of education</th>\n",
              "      <th>lunch</th>\n",
              "      <th>test preparation course</th>\n",
              "      <th>math score</th>\n",
              "      <th>reading score</th>\n",
              "      <th>writing score</th>\n",
              "    </tr>\n",
              "  </thead>\n",
              "  <tbody>\n",
              "    <tr>\n",
              "      <th>827</th>\n",
              "      <td>Justin Harris</td>\n",
              "      <td>male</td>\n",
              "      <td>group D</td>\n",
              "      <td>some college</td>\n",
              "      <td>standard</td>\n",
              "      <td>none</td>\n",
              "      <td>40</td>\n",
              "      <td>42</td>\n",
              "      <td>38</td>\n",
              "    </tr>\n",
              "    <tr>\n",
              "      <th>900</th>\n",
              "      <td>Anthony Malcomb</td>\n",
              "      <td>male</td>\n",
              "      <td>group C</td>\n",
              "      <td>some college</td>\n",
              "      <td>free/reduced</td>\n",
              "      <td>none</td>\n",
              "      <td>35</td>\n",
              "      <td>28</td>\n",
              "      <td>27</td>\n",
              "    </tr>\n",
              "    <tr>\n",
              "      <th>1223</th>\n",
              "      <td>Charles Jackson</td>\n",
              "      <td>male</td>\n",
              "      <td>group E</td>\n",
              "      <td>some high school</td>\n",
              "      <td>standard</td>\n",
              "      <td>none</td>\n",
              "      <td>30</td>\n",
              "      <td>26</td>\n",
              "      <td>22</td>\n",
              "    </tr>\n",
              "  </tbody>\n",
              "</table>\n",
              "</div>\n",
              "      <button class=\"colab-df-convert\" onclick=\"convertToInteractive('df-ee1c1a31-70fe-4b63-bb6a-ef14f8c56e26')\"\n",
              "              title=\"Convert this dataframe to an interactive table.\"\n",
              "              style=\"display:none;\">\n",
              "        \n",
              "  <svg xmlns=\"http://www.w3.org/2000/svg\" height=\"24px\"viewBox=\"0 0 24 24\"\n",
              "       width=\"24px\">\n",
              "    <path d=\"M0 0h24v24H0V0z\" fill=\"none\"/>\n",
              "    <path d=\"M18.56 5.44l.94 2.06.94-2.06 2.06-.94-2.06-.94-.94-2.06-.94 2.06-2.06.94zm-11 1L8.5 8.5l.94-2.06 2.06-.94-2.06-.94L8.5 2.5l-.94 2.06-2.06.94zm10 10l.94 2.06.94-2.06 2.06-.94-2.06-.94-.94-2.06-.94 2.06-2.06.94z\"/><path d=\"M17.41 7.96l-1.37-1.37c-.4-.4-.92-.59-1.43-.59-.52 0-1.04.2-1.43.59L10.3 9.45l-7.72 7.72c-.78.78-.78 2.05 0 2.83L4 21.41c.39.39.9.59 1.41.59.51 0 1.02-.2 1.41-.59l7.78-7.78 2.81-2.81c.8-.78.8-2.07 0-2.86zM5.41 20L4 18.59l7.72-7.72 1.47 1.35L5.41 20z\"/>\n",
              "  </svg>\n",
              "      </button>\n",
              "      \n",
              "  <style>\n",
              "    .colab-df-container {\n",
              "      display:flex;\n",
              "      flex-wrap:wrap;\n",
              "      gap: 12px;\n",
              "    }\n",
              "\n",
              "    .colab-df-convert {\n",
              "      background-color: #E8F0FE;\n",
              "      border: none;\n",
              "      border-radius: 50%;\n",
              "      cursor: pointer;\n",
              "      display: none;\n",
              "      fill: #1967D2;\n",
              "      height: 32px;\n",
              "      padding: 0 0 0 0;\n",
              "      width: 32px;\n",
              "    }\n",
              "\n",
              "    .colab-df-convert:hover {\n",
              "      background-color: #E2EBFA;\n",
              "      box-shadow: 0px 1px 2px rgba(60, 64, 67, 0.3), 0px 1px 3px 1px rgba(60, 64, 67, 0.15);\n",
              "      fill: #174EA6;\n",
              "    }\n",
              "\n",
              "    [theme=dark] .colab-df-convert {\n",
              "      background-color: #3B4455;\n",
              "      fill: #D2E3FC;\n",
              "    }\n",
              "\n",
              "    [theme=dark] .colab-df-convert:hover {\n",
              "      background-color: #434B5C;\n",
              "      box-shadow: 0px 1px 3px 1px rgba(0, 0, 0, 0.15);\n",
              "      filter: drop-shadow(0px 1px 2px rgba(0, 0, 0, 0.3));\n",
              "      fill: #FFFFFF;\n",
              "    }\n",
              "  </style>\n",
              "\n",
              "      <script>\n",
              "        const buttonEl =\n",
              "          document.querySelector('#df-ee1c1a31-70fe-4b63-bb6a-ef14f8c56e26 button.colab-df-convert');\n",
              "        buttonEl.style.display =\n",
              "          google.colab.kernel.accessAllowed ? 'block' : 'none';\n",
              "\n",
              "        async function convertToInteractive(key) {\n",
              "          const element = document.querySelector('#df-ee1c1a31-70fe-4b63-bb6a-ef14f8c56e26');\n",
              "          const dataTable =\n",
              "            await google.colab.kernel.invokeFunction('convertToInteractive',\n",
              "                                                     [key], {});\n",
              "          if (!dataTable) return;\n",
              "\n",
              "          const docLinkHtml = 'Like what you see? Visit the ' +\n",
              "            '<a target=\"_blank\" href=https://colab.research.google.com/notebooks/data_table.ipynb>data table notebook</a>'\n",
              "            + ' to learn more about interactive tables.';\n",
              "          element.innerHTML = '';\n",
              "          dataTable['output_type'] = 'display_data';\n",
              "          await google.colab.output.renderOutput(dataTable, element);\n",
              "          const docLink = document.createElement('div');\n",
              "          docLink.innerHTML = docLinkHtml;\n",
              "          element.appendChild(docLink);\n",
              "        }\n",
              "      </script>\n",
              "    </div>\n",
              "  </div>\n",
              "  "
            ]
          },
          "metadata": {}
        },
        {
          "output_type": "stream",
          "name": "stdout",
          "text": [
            "\n",
            "9.- Boxplot de notas:\n"
          ]
        },
        {
          "output_type": "display_data",
          "data": {
            "text/html": [
              "<html>\n",
              "<head><meta charset=\"utf-8\" /></head>\n",
              "<body>\n",
              "    <div>            <script src=\"https://cdnjs.cloudflare.com/ajax/libs/mathjax/2.7.5/MathJax.js?config=TeX-AMS-MML_SVG\"></script><script type=\"text/javascript\">if (window.MathJax && window.MathJax.Hub && window.MathJax.Hub.Config) {window.MathJax.Hub.Config({SVG: {font: \"STIX-Web\"}});}</script>                <script type=\"text/javascript\">window.PlotlyConfig = {MathJaxConfig: 'local'};</script>\n",
              "        <script src=\"https://cdn.plot.ly/plotly-2.14.0.min.js\"></script>                <div id=\"4b1325f0-35f0-4dd4-ae17-c69410e887e3\" class=\"plotly-graph-div\" style=\"height:525px; width:100%;\"></div>            <script type=\"text/javascript\">                                    window.PLOTLYENV=window.PLOTLYENV || {};                                    if (document.getElementById(\"4b1325f0-35f0-4dd4-ae17-c69410e887e3\")) {                    Plotly.newPlot(                        \"4b1325f0-35f0-4dd4-ae17-c69410e887e3\",                        [{\"alignmentgroup\":\"True\",\"hovertemplate\":\"variable=%{x}<br>value=%{y}<extra></extra>\",\"legendgroup\":\"\",\"marker\":{\"color\":\"#636efa\"},\"name\":\"\",\"notched\":false,\"offsetgroup\":\"\",\"orientation\":\"v\",\"showlegend\":false,\"x\":[\"math score\",\"math score\",\"math score\",\"math score\",\"math score\",\"math score\",\"math score\",\"math score\",\"math score\",\"math score\",\"math score\",\"math score\",\"math score\",\"math score\",\"math score\",\"math score\",\"math score\",\"math score\",\"math score\",\"math score\",\"math score\",\"math score\",\"math score\",\"math score\",\"math score\",\"math score\",\"math score\",\"math score\",\"math score\",\"math score\",\"math score\",\"math score\",\"math score\",\"math score\",\"math score\",\"math score\",\"math score\",\"math score\",\"math score\",\"math score\",\"math score\",\"math score\",\"math score\",\"math score\",\"math score\",\"math score\",\"math score\",\"math score\",\"math score\",\"math score\",\"math score\",\"math score\",\"math score\",\"math score\",\"math score\",\"math score\",\"math score\",\"math score\",\"math score\",\"math score\",\"math score\",\"math score\",\"math score\",\"math score\",\"math score\",\"math score\",\"math score\",\"math score\",\"math score\",\"math score\",\"math score\",\"math score\",\"math score\",\"math score\",\"math score\",\"math score\",\"math score\",\"math score\",\"math score\",\"math score\",\"math score\",\"math score\",\"math score\",\"math score\",\"math score\",\"math score\",\"math score\",\"math score\",\"math score\",\"math score\",\"math score\",\"math score\",\"math score\",\"math score\",\"math score\",\"math score\",\"math score\",\"math score\",\"math score\",\"math score\",\"math score\",\"math score\",\"math score\",\"math score\",\"math score\",\"math score\",\"math score\",\"math score\",\"math score\",\"math score\",\"math score\",\"math score\",\"math score\",\"math score\",\"math score\",\"math score\",\"math score\",\"math score\",\"math score\",\"math score\",\"math score\",\"math score\",\"math score\",\"math score\",\"math score\",\"math score\",\"math score\",\"math score\",\"math score\",\"math score\",\"math score\",\"math score\",\"math score\",\"math score\",\"math score\",\"math score\",\"math score\",\"math score\",\"math score\",\"math score\",\"math score\",\"math score\",\"math score\",\"math score\",\"math score\",\"math score\",\"math score\",\"math score\",\"math score\",\"math score\",\"math score\",\"math score\",\"math score\",\"math score\",\"math score\",\"math score\",\"math score\",\"math score\",\"math score\",\"math score\",\"math score\",\"math score\",\"math score\",\"math score\",\"math score\",\"math score\",\"math score\",\"math score\",\"math score\",\"math score\",\"math score\",\"math score\",\"math score\",\"math score\",\"math score\",\"math score\",\"math score\",\"math score\",\"math score\",\"math score\",\"math score\",\"math score\",\"math score\",\"math score\",\"math score\",\"math score\",\"math score\",\"math score\",\"math score\",\"math score\",\"math score\",\"math score\",\"math score\",\"math score\",\"math score\",\"math score\",\"math score\",\"math score\",\"math score\",\"math score\",\"math score\",\"math score\",\"math score\",\"math score\",\"math score\",\"math score\",\"math score\",\"math score\",\"math score\",\"math score\",\"math score\",\"math score\",\"math score\",\"math score\",\"math score\",\"math score\",\"math score\",\"math score\",\"math score\",\"math score\",\"math score\",\"math score\",\"math score\",\"math score\",\"math score\",\"math score\",\"math score\",\"math score\",\"math score\",\"math score\",\"math score\",\"math score\",\"math score\",\"math score\",\"math score\",\"math score\",\"math score\",\"math score\",\"math score\",\"math score\",\"math score\",\"math score\",\"math score\",\"math score\",\"math score\",\"math score\",\"math score\",\"math score\",\"math score\",\"math score\",\"math score\",\"math score\",\"math score\",\"math score\",\"math score\",\"math score\",\"math score\",\"math score\",\"math score\",\"math score\",\"math score\",\"math score\",\"math score\",\"math score\",\"math score\",\"math score\",\"math score\",\"math score\",\"math score\",\"math score\",\"math score\",\"math score\",\"math score\",\"math score\",\"math score\",\"math score\",\"math score\",\"math score\",\"math score\",\"math score\",\"math score\",\"math score\",\"math score\",\"math score\",\"math score\",\"math score\",\"math score\",\"math score\",\"math score\",\"math score\",\"math score\",\"math score\",\"math score\",\"math score\",\"math score\",\"math score\",\"math score\",\"math score\",\"math score\",\"math score\",\"math score\",\"math score\",\"math score\",\"math score\",\"math score\",\"math score\",\"math score\",\"math score\",\"math score\",\"math score\",\"math score\",\"math score\",\"math score\",\"math score\",\"math score\",\"math score\",\"math score\",\"math score\",\"math score\",\"math score\",\"math score\",\"math score\",\"math score\",\"math score\",\"math score\",\"math score\",\"math score\",\"math score\",\"math score\",\"math score\",\"math score\",\"math score\",\"math score\",\"math score\",\"math score\",\"math score\",\"math score\",\"math score\",\"math score\",\"math score\",\"math score\",\"math score\",\"math score\",\"math score\",\"math score\",\"math score\",\"math score\",\"math score\",\"math score\",\"math score\",\"math score\",\"math score\",\"math score\",\"math score\",\"math score\",\"math score\",\"math score\",\"math score\",\"math score\",\"math score\",\"math score\",\"math score\",\"math score\",\"math score\",\"math score\",\"math score\",\"math score\",\"math score\",\"math score\",\"math score\",\"math score\",\"math score\",\"math score\",\"math score\",\"math score\",\"math score\",\"math score\",\"math score\",\"math score\",\"math score\",\"math score\",\"math score\",\"math score\",\"math score\",\"math score\",\"math score\",\"math score\",\"math score\",\"math score\",\"math score\",\"math score\",\"math score\",\"math score\",\"math score\",\"math score\",\"math score\",\"math score\",\"math score\",\"math score\",\"math score\",\"math score\",\"math score\",\"math score\",\"math score\",\"math score\",\"math score\",\"math score\",\"math score\",\"math score\",\"math score\",\"math score\",\"math score\",\"math score\",\"math score\",\"math score\",\"math score\",\"math score\",\"math score\",\"math score\",\"math score\",\"math score\",\"math score\",\"math score\",\"math score\",\"math score\",\"math score\",\"math score\",\"math score\",\"math score\",\"math score\",\"math score\",\"math score\",\"math score\",\"math score\",\"math score\",\"math score\",\"math score\",\"math score\",\"math score\",\"math score\",\"math score\",\"math score\",\"math score\",\"math score\",\"math score\",\"math score\",\"math score\",\"math score\",\"math score\",\"math score\",\"math score\",\"math score\",\"math score\",\"math score\",\"math score\",\"math score\",\"math score\",\"math score\",\"math score\",\"math score\",\"math score\",\"math score\",\"math score\",\"math score\",\"math score\",\"math score\",\"math score\",\"math score\",\"math score\",\"math score\",\"math score\",\"math score\",\"math score\",\"math score\",\"math score\",\"math score\",\"math score\",\"math score\",\"math score\",\"math score\",\"math score\",\"math score\",\"math score\",\"math score\",\"math score\",\"math score\",\"math score\",\"math score\",\"math score\",\"math score\",\"math score\",\"math score\",\"math score\",\"math score\",\"math score\",\"math score\",\"math score\",\"math score\",\"math score\",\"math score\",\"math score\",\"math score\",\"math score\",\"math score\",\"math score\",\"math score\",\"math score\",\"math score\",\"math score\",\"math score\",\"math score\",\"math score\",\"math score\",\"math score\",\"math score\",\"math score\",\"math score\",\"math score\",\"math score\",\"math score\",\"math score\",\"math score\",\"math score\",\"math score\",\"math score\",\"math score\",\"math score\",\"math score\",\"math score\",\"math score\",\"math score\",\"math score\",\"math score\",\"math score\",\"math score\",\"math score\",\"math score\",\"math score\",\"math score\",\"math score\",\"math score\",\"math score\",\"math score\",\"math score\",\"math score\",\"math score\",\"math score\",\"math score\",\"math score\",\"math score\",\"math score\",\"math score\",\"math score\",\"math score\",\"math score\",\"math score\",\"math score\",\"math score\",\"math score\",\"math score\",\"math score\",\"math score\",\"math score\",\"math score\",\"math score\",\"math score\",\"math score\",\"math score\",\"math score\",\"math score\",\"math score\",\"math score\",\"math score\",\"math score\",\"math score\",\"math score\",\"math score\",\"math score\",\"math score\",\"math score\",\"math score\",\"math score\",\"math score\",\"math score\",\"math score\",\"math score\",\"math score\",\"math score\",\"math score\",\"math score\",\"math score\",\"math score\",\"math score\",\"math score\",\"math score\",\"math score\",\"math score\",\"math score\",\"math score\",\"math score\",\"math score\",\"math score\",\"math score\",\"math score\",\"math score\",\"math score\",\"math score\",\"math score\",\"math score\",\"math score\",\"math score\",\"math score\",\"math score\",\"math score\",\"math score\",\"math score\",\"math score\",\"math score\",\"math score\",\"math score\",\"math score\",\"math score\",\"math score\",\"math score\",\"math score\",\"math score\",\"math score\",\"math score\",\"math score\",\"math score\",\"math score\",\"math score\",\"math score\",\"math score\",\"math score\",\"math score\",\"math score\",\"math score\",\"math score\",\"math score\",\"math score\",\"math score\",\"math score\",\"math score\",\"math score\",\"math score\",\"math score\",\"math score\",\"math score\",\"math score\",\"math score\",\"math score\",\"math score\",\"math score\",\"math score\",\"math score\",\"math score\",\"math score\",\"math score\",\"math score\",\"math score\",\"math score\",\"math score\",\"math score\",\"math score\",\"math score\",\"math score\",\"math score\",\"math score\",\"math score\",\"math score\",\"math score\",\"math score\",\"math score\",\"math score\",\"math score\",\"math score\",\"math score\",\"math score\",\"math score\",\"math score\",\"math score\",\"math score\",\"math score\",\"math score\",\"math score\",\"math score\",\"math score\",\"math score\",\"math score\",\"math score\",\"math score\",\"math score\",\"math score\",\"math score\",\"math score\",\"math score\",\"math score\",\"math score\",\"math score\",\"math score\",\"math score\",\"math score\",\"math score\",\"math score\",\"math score\",\"math score\",\"math score\",\"math score\",\"math score\",\"math score\",\"math score\",\"math score\",\"math score\",\"math score\",\"math score\",\"math score\",\"math score\",\"math score\",\"math score\",\"math score\",\"math score\",\"math score\",\"math score\",\"math score\",\"math score\",\"math score\",\"math score\",\"math score\",\"math score\",\"math score\",\"math score\",\"math score\",\"math score\",\"math score\",\"math score\",\"math score\",\"math score\",\"math score\",\"math score\",\"math score\",\"math score\",\"math score\",\"math score\",\"math score\",\"math score\",\"math score\",\"math score\",\"math score\",\"math score\",\"math score\",\"math score\",\"math score\",\"math score\",\"math score\",\"math score\",\"math score\",\"math score\",\"math score\",\"math score\",\"math score\",\"math score\",\"math score\",\"math score\",\"math score\",\"math score\",\"math score\",\"math score\",\"math score\",\"math score\",\"math score\",\"math score\",\"math score\",\"math score\",\"math score\",\"math score\",\"math score\",\"math score\",\"math score\",\"math score\",\"math score\",\"math score\",\"math score\",\"math score\",\"math score\",\"math score\",\"math score\",\"math score\",\"math score\",\"math score\",\"math score\",\"math score\",\"math score\",\"math score\",\"math score\",\"math score\",\"math score\",\"math score\",\"math score\",\"math score\",\"math score\",\"math score\",\"math score\",\"math score\",\"math score\",\"math score\",\"math score\",\"math score\",\"math score\",\"math score\",\"math score\",\"math score\",\"math score\",\"math score\",\"math score\",\"math score\",\"math score\",\"math score\",\"math score\",\"math score\",\"math score\",\"math score\",\"math score\",\"math score\",\"math score\",\"math score\",\"math score\",\"math score\",\"math score\",\"math score\",\"math score\",\"math score\",\"math score\",\"math score\",\"math score\",\"math score\",\"math score\",\"math score\",\"math score\",\"math score\",\"math score\",\"math score\",\"math score\",\"math score\",\"math score\",\"math score\",\"math score\",\"math score\",\"math score\",\"math score\",\"math score\",\"math score\",\"math score\",\"math score\",\"math score\",\"math score\",\"math score\",\"math score\",\"math score\",\"math score\",\"math score\",\"math score\",\"math score\",\"math score\",\"math score\",\"math score\",\"math score\",\"math score\",\"math score\",\"math score\",\"math score\",\"math score\",\"math score\",\"math score\",\"math score\",\"math score\",\"math score\",\"math score\",\"math score\",\"math score\",\"math score\",\"math score\",\"math score\",\"math score\",\"math score\",\"math score\",\"math score\",\"math score\",\"math score\",\"math score\",\"math score\",\"math score\",\"math score\",\"math score\",\"math score\",\"math score\",\"math score\",\"math score\",\"math score\",\"math score\",\"math score\",\"math score\",\"math score\",\"math score\",\"math score\",\"math score\",\"math score\",\"math score\",\"math score\",\"math score\",\"math score\",\"math score\",\"math score\",\"math score\",\"math score\",\"math score\",\"math score\",\"math score\",\"math score\",\"math score\",\"math score\",\"math score\",\"math score\",\"math score\",\"math score\",\"math score\",\"math score\",\"math score\",\"math score\",\"math score\",\"math score\",\"math score\",\"math score\",\"math score\",\"math score\",\"math score\",\"math score\",\"math score\",\"math score\",\"math score\",\"math score\",\"math score\",\"math score\",\"math score\",\"math score\",\"math score\",\"math score\",\"math score\",\"math score\",\"math score\",\"math score\",\"math score\",\"math score\",\"math score\",\"math score\",\"math score\",\"math score\",\"math score\",\"math score\",\"math score\",\"math score\",\"math score\",\"math score\",\"math score\",\"math score\",\"math score\",\"math score\",\"math score\",\"math score\",\"math score\",\"math score\",\"math score\",\"math score\",\"math score\",\"math score\",\"math score\",\"math score\",\"math score\",\"math score\",\"math score\",\"math score\",\"math score\",\"math score\",\"math score\",\"math score\",\"math score\",\"math score\",\"math score\",\"math score\",\"math score\",\"math score\",\"math score\",\"math score\",\"math score\",\"math score\",\"math score\",\"math score\",\"math score\",\"math score\",\"math score\",\"math score\",\"math score\",\"math score\",\"reading score\",\"reading score\",\"reading score\",\"reading score\",\"reading score\",\"reading score\",\"reading score\",\"reading score\",\"reading score\",\"reading score\",\"reading score\",\"reading score\",\"reading score\",\"reading score\",\"reading score\",\"reading score\",\"reading score\",\"reading score\",\"reading score\",\"reading score\",\"reading score\",\"reading score\",\"reading score\",\"reading score\",\"reading score\",\"reading score\",\"reading score\",\"reading score\",\"reading score\",\"reading score\",\"reading score\",\"reading score\",\"reading score\",\"reading score\",\"reading score\",\"reading score\",\"reading score\",\"reading score\",\"reading score\",\"reading score\",\"reading score\",\"reading score\",\"reading score\",\"reading score\",\"reading score\",\"reading score\",\"reading score\",\"reading score\",\"reading score\",\"reading score\",\"reading score\",\"reading score\",\"reading score\",\"reading score\",\"reading score\",\"reading score\",\"reading score\",\"reading score\",\"reading score\",\"reading score\",\"reading score\",\"reading score\",\"reading score\",\"reading score\",\"reading score\",\"reading score\",\"reading score\",\"reading score\",\"reading score\",\"reading score\",\"reading score\",\"reading score\",\"reading score\",\"reading score\",\"reading score\",\"reading score\",\"reading score\",\"reading score\",\"reading score\",\"reading score\",\"reading score\",\"reading score\",\"reading score\",\"reading score\",\"reading score\",\"reading score\",\"reading score\",\"reading score\",\"reading score\",\"reading score\",\"reading score\",\"reading score\",\"reading score\",\"reading score\",\"reading score\",\"reading score\",\"reading score\",\"reading score\",\"reading score\",\"reading score\",\"reading score\",\"reading score\",\"reading score\",\"reading score\",\"reading score\",\"reading score\",\"reading score\",\"reading score\",\"reading score\",\"reading score\",\"reading score\",\"reading score\",\"reading score\",\"reading score\",\"reading score\",\"reading score\",\"reading score\",\"reading score\",\"reading score\",\"reading score\",\"reading score\",\"reading score\",\"reading score\",\"reading score\",\"reading score\",\"reading score\",\"reading score\",\"reading score\",\"reading score\",\"reading score\",\"reading score\",\"reading score\",\"reading score\",\"reading score\",\"reading score\",\"reading score\",\"reading score\",\"reading score\",\"reading score\",\"reading score\",\"reading score\",\"reading score\",\"reading score\",\"reading score\",\"reading score\",\"reading score\",\"reading score\",\"reading score\",\"reading score\",\"reading score\",\"reading score\",\"reading score\",\"reading score\",\"reading score\",\"reading score\",\"reading score\",\"reading score\",\"reading score\",\"reading score\",\"reading score\",\"reading score\",\"reading score\",\"reading score\",\"reading score\",\"reading score\",\"reading score\",\"reading score\",\"reading score\",\"reading score\",\"reading score\",\"reading score\",\"reading score\",\"reading score\",\"reading score\",\"reading score\",\"reading score\",\"reading score\",\"reading score\",\"reading score\",\"reading score\",\"reading score\",\"reading score\",\"reading score\",\"reading score\",\"reading score\",\"reading score\",\"reading score\",\"reading score\",\"reading score\",\"reading score\",\"reading score\",\"reading score\",\"reading score\",\"reading score\",\"reading score\",\"reading score\",\"reading score\",\"reading score\",\"reading score\",\"reading score\",\"reading score\",\"reading score\",\"reading score\",\"reading score\",\"reading score\",\"reading score\",\"reading score\",\"reading score\",\"reading score\",\"reading score\",\"reading score\",\"reading score\",\"reading score\",\"reading score\",\"reading score\",\"reading score\",\"reading score\",\"reading score\",\"reading score\",\"reading score\",\"reading score\",\"reading score\",\"reading score\",\"reading score\",\"reading score\",\"reading score\",\"reading score\",\"reading score\",\"reading score\",\"reading score\",\"reading score\",\"reading score\",\"reading score\",\"reading score\",\"reading score\",\"reading score\",\"reading score\",\"reading score\",\"reading score\",\"reading score\",\"reading score\",\"reading score\",\"reading score\",\"reading score\",\"reading score\",\"reading score\",\"reading score\",\"reading score\",\"reading score\",\"reading score\",\"reading score\",\"reading score\",\"reading score\",\"reading score\",\"reading score\",\"reading score\",\"reading score\",\"reading score\",\"reading score\",\"reading score\",\"reading score\",\"reading score\",\"reading score\",\"reading score\",\"reading score\",\"reading score\",\"reading score\",\"reading score\",\"reading score\",\"reading score\",\"reading score\",\"reading score\",\"reading score\",\"reading score\",\"reading score\",\"reading score\",\"reading score\",\"reading score\",\"reading score\",\"reading score\",\"reading score\",\"reading score\",\"reading score\",\"reading score\",\"reading score\",\"reading score\",\"reading score\",\"reading score\",\"reading score\",\"reading score\",\"reading score\",\"reading score\",\"reading score\",\"reading score\",\"reading score\",\"reading score\",\"reading score\",\"reading score\",\"reading score\",\"reading score\",\"reading score\",\"reading score\",\"reading score\",\"reading score\",\"reading score\",\"reading score\",\"reading score\",\"reading score\",\"reading score\",\"reading score\",\"reading score\",\"reading score\",\"reading score\",\"reading score\",\"reading score\",\"reading score\",\"reading score\",\"reading score\",\"reading score\",\"reading score\",\"reading score\",\"reading score\",\"reading score\",\"reading score\",\"reading score\",\"reading score\",\"reading score\",\"reading score\",\"reading score\",\"reading score\",\"reading score\",\"reading score\",\"reading score\",\"reading score\",\"reading score\",\"reading score\",\"reading score\",\"reading score\",\"reading score\",\"reading score\",\"reading score\",\"reading score\",\"reading score\",\"reading score\",\"reading score\",\"reading score\",\"reading score\",\"reading score\",\"reading score\",\"reading score\",\"reading score\",\"reading score\",\"reading score\",\"reading score\",\"reading score\",\"reading score\",\"reading score\",\"reading score\",\"reading score\",\"reading score\",\"reading score\",\"reading score\",\"reading score\",\"reading score\",\"reading score\",\"reading score\",\"reading score\",\"reading score\",\"reading score\",\"reading score\",\"reading score\",\"reading score\",\"reading score\",\"reading score\",\"reading score\",\"reading score\",\"reading score\",\"reading score\",\"reading score\",\"reading score\",\"reading score\",\"reading score\",\"reading score\",\"reading score\",\"reading score\",\"reading score\",\"reading score\",\"reading score\",\"reading score\",\"reading score\",\"reading score\",\"reading score\",\"reading score\",\"reading score\",\"reading score\",\"reading score\",\"reading score\",\"reading score\",\"reading score\",\"reading score\",\"reading score\",\"reading score\",\"reading score\",\"reading score\",\"reading score\",\"reading score\",\"reading score\",\"reading score\",\"reading score\",\"reading score\",\"reading score\",\"reading score\",\"reading score\",\"reading score\",\"reading score\",\"reading score\",\"reading score\",\"reading score\",\"reading score\",\"reading score\",\"reading score\",\"reading score\",\"reading score\",\"reading score\",\"reading score\",\"reading score\",\"reading score\",\"reading score\",\"reading score\",\"reading score\",\"reading score\",\"reading score\",\"reading score\",\"reading score\",\"reading score\",\"reading score\",\"reading score\",\"reading score\",\"reading score\",\"reading score\",\"reading score\",\"reading score\",\"reading score\",\"reading score\",\"reading score\",\"reading score\",\"reading score\",\"reading score\",\"reading score\",\"reading score\",\"reading score\",\"reading score\",\"reading score\",\"reading score\",\"reading score\",\"reading score\",\"reading score\",\"reading score\",\"reading score\",\"reading score\",\"reading score\",\"reading score\",\"reading score\",\"reading score\",\"reading score\",\"reading score\",\"reading score\",\"reading score\",\"reading score\",\"reading score\",\"reading score\",\"reading score\",\"reading score\",\"reading score\",\"reading score\",\"reading score\",\"reading score\",\"reading score\",\"reading score\",\"reading score\",\"reading score\",\"reading score\",\"reading score\",\"reading score\",\"reading score\",\"reading score\",\"reading score\",\"reading score\",\"reading score\",\"reading score\",\"reading score\",\"reading score\",\"reading score\",\"reading score\",\"reading score\",\"reading score\",\"reading score\",\"reading score\",\"reading score\",\"reading score\",\"reading score\",\"reading score\",\"reading score\",\"reading score\",\"reading score\",\"reading score\",\"reading score\",\"reading score\",\"reading score\",\"reading score\",\"reading score\",\"reading score\",\"reading score\",\"reading score\",\"reading score\",\"reading score\",\"reading score\",\"reading score\",\"reading score\",\"reading score\",\"reading score\",\"reading score\",\"reading score\",\"reading score\",\"reading score\",\"reading score\",\"reading score\",\"reading score\",\"reading score\",\"reading score\",\"reading score\",\"reading score\",\"reading score\",\"reading score\",\"reading score\",\"reading score\",\"reading score\",\"reading score\",\"reading score\",\"reading score\",\"reading score\",\"reading score\",\"reading score\",\"reading score\",\"reading score\",\"reading score\",\"reading score\",\"reading score\",\"reading score\",\"reading score\",\"reading score\",\"reading score\",\"reading score\",\"reading score\",\"reading score\",\"reading score\",\"reading score\",\"reading score\",\"reading score\",\"reading score\",\"reading score\",\"reading score\",\"reading score\",\"reading score\",\"reading score\",\"reading score\",\"reading score\",\"reading score\",\"reading score\",\"reading score\",\"reading score\",\"reading score\",\"reading score\",\"reading score\",\"reading score\",\"reading score\",\"reading score\",\"reading score\",\"reading score\",\"reading score\",\"reading score\",\"reading score\",\"reading score\",\"reading score\",\"reading score\",\"reading score\",\"reading score\",\"reading score\",\"reading score\",\"reading score\",\"reading score\",\"reading score\",\"reading score\",\"reading score\",\"reading score\",\"reading score\",\"reading score\",\"reading score\",\"reading score\",\"reading score\",\"reading score\",\"reading score\",\"reading score\",\"reading score\",\"reading score\",\"reading score\",\"reading score\",\"reading score\",\"reading score\",\"reading score\",\"reading score\",\"reading score\",\"reading score\",\"reading score\",\"reading score\",\"reading score\",\"reading score\",\"reading score\",\"reading score\",\"reading score\",\"reading score\",\"reading score\",\"reading score\",\"reading score\",\"reading score\",\"reading score\",\"reading score\",\"reading score\",\"reading score\",\"reading score\",\"reading score\",\"reading score\",\"reading score\",\"reading score\",\"reading score\",\"reading score\",\"reading score\",\"reading score\",\"reading score\",\"reading score\",\"reading score\",\"reading score\",\"reading score\",\"reading score\",\"reading score\",\"reading score\",\"reading score\",\"reading score\",\"reading score\",\"reading score\",\"reading score\",\"reading score\",\"reading score\",\"reading score\",\"reading score\",\"reading score\",\"reading score\",\"reading score\",\"reading score\",\"reading score\",\"reading score\",\"reading score\",\"reading score\",\"reading score\",\"reading score\",\"reading score\",\"reading score\",\"reading score\",\"reading score\",\"reading score\",\"reading score\",\"reading score\",\"reading score\",\"reading score\",\"reading score\",\"reading score\",\"reading score\",\"reading score\",\"reading score\",\"reading score\",\"reading score\",\"reading score\",\"reading score\",\"reading score\",\"reading score\",\"reading score\",\"reading score\",\"reading score\",\"reading score\",\"reading score\",\"reading score\",\"reading score\",\"reading score\",\"reading score\",\"reading score\",\"reading score\",\"reading score\",\"reading score\",\"reading score\",\"reading score\",\"reading score\",\"reading score\",\"reading score\",\"reading score\",\"reading score\",\"reading score\",\"reading score\",\"reading score\",\"reading score\",\"reading score\",\"reading score\",\"reading score\",\"reading score\",\"reading score\",\"reading score\",\"reading score\",\"reading score\",\"reading score\",\"reading score\",\"reading score\",\"reading score\",\"reading score\",\"reading score\",\"reading score\",\"reading score\",\"reading score\",\"reading score\",\"reading score\",\"reading score\",\"reading score\",\"reading score\",\"reading score\",\"reading score\",\"reading score\",\"reading score\",\"reading score\",\"reading score\",\"reading score\",\"reading score\",\"reading score\",\"reading score\",\"reading score\",\"reading score\",\"reading score\",\"reading score\",\"reading score\",\"reading score\",\"reading score\",\"reading score\",\"reading score\",\"reading score\",\"reading score\",\"reading score\",\"reading score\",\"reading score\",\"reading score\",\"reading score\",\"reading score\",\"reading score\",\"reading score\",\"reading score\",\"reading score\",\"reading score\",\"reading score\",\"reading score\",\"reading score\",\"reading score\",\"reading score\",\"reading score\",\"reading score\",\"reading score\",\"reading score\",\"reading score\",\"reading score\",\"reading score\",\"reading score\",\"reading score\",\"reading score\",\"reading score\",\"reading score\",\"reading score\",\"reading score\",\"reading score\",\"reading score\",\"reading score\",\"reading score\",\"reading score\",\"reading score\",\"reading score\",\"reading score\",\"reading score\",\"reading score\",\"reading score\",\"reading score\",\"reading score\",\"reading score\",\"reading score\",\"reading score\",\"reading score\",\"reading score\",\"reading score\",\"reading score\",\"reading score\",\"reading score\",\"reading score\",\"reading score\",\"reading score\",\"reading score\",\"reading score\",\"reading score\",\"reading score\",\"reading score\",\"reading score\",\"reading score\",\"reading score\",\"reading score\",\"reading score\",\"reading score\",\"reading score\",\"reading score\",\"reading score\",\"reading score\",\"reading score\",\"reading score\",\"reading score\",\"reading score\",\"reading score\",\"reading score\",\"reading score\",\"reading score\",\"reading score\",\"reading score\",\"reading score\",\"reading score\",\"reading score\",\"reading score\",\"reading score\",\"reading score\",\"reading score\",\"reading score\",\"reading score\",\"reading score\",\"reading score\",\"reading score\",\"reading score\",\"reading score\",\"reading score\",\"reading score\",\"reading score\",\"reading score\",\"reading score\",\"reading score\",\"reading score\",\"reading score\",\"reading score\",\"reading score\",\"reading score\",\"reading score\",\"reading score\",\"reading score\",\"reading score\",\"reading score\",\"reading score\",\"reading score\",\"reading score\",\"reading score\",\"reading score\",\"reading score\",\"reading score\",\"reading score\",\"reading score\",\"reading score\",\"reading score\",\"reading score\",\"reading score\",\"reading score\",\"reading score\",\"reading score\",\"reading score\",\"reading score\",\"reading score\",\"reading score\",\"reading score\",\"reading score\",\"reading score\",\"reading score\",\"reading score\",\"reading score\",\"reading score\",\"reading score\",\"reading score\",\"reading score\",\"reading score\",\"reading score\",\"reading score\",\"reading score\",\"reading score\",\"reading score\",\"reading score\",\"reading score\",\"reading score\",\"reading score\",\"reading score\",\"reading score\",\"reading score\",\"reading score\",\"reading score\",\"reading score\",\"reading score\",\"reading score\",\"reading score\",\"reading score\",\"reading score\",\"reading score\",\"reading score\",\"reading score\",\"reading score\",\"reading score\",\"reading score\",\"reading score\",\"reading score\",\"reading score\",\"reading score\",\"reading score\",\"reading score\",\"reading score\",\"reading score\",\"reading score\",\"reading score\",\"reading score\",\"reading score\",\"reading score\",\"reading score\",\"reading score\",\"reading score\",\"reading score\",\"reading score\",\"reading score\",\"reading score\",\"reading score\",\"reading score\",\"reading score\",\"reading score\",\"reading score\",\"reading score\",\"reading score\",\"reading score\",\"reading score\",\"reading score\",\"reading score\",\"reading score\",\"reading score\",\"reading score\",\"reading score\",\"reading score\",\"reading score\",\"reading score\",\"reading score\",\"reading score\",\"reading score\",\"reading score\",\"reading score\",\"reading score\",\"reading score\",\"reading score\",\"reading score\",\"reading score\",\"reading score\",\"reading score\",\"reading score\",\"reading score\",\"reading score\",\"reading score\",\"reading score\",\"reading score\",\"reading score\",\"reading score\",\"reading score\",\"reading score\",\"reading score\",\"reading score\",\"reading score\",\"reading score\",\"reading score\",\"reading score\",\"reading score\",\"reading score\",\"reading score\",\"reading score\",\"reading score\",\"reading score\",\"reading score\",\"reading score\",\"reading score\",\"reading score\",\"reading score\",\"reading score\",\"reading score\",\"reading score\",\"reading score\",\"reading score\",\"reading score\",\"reading score\",\"writing score\",\"writing score\",\"writing score\",\"writing score\",\"writing score\",\"writing score\",\"writing score\",\"writing score\",\"writing score\",\"writing score\",\"writing score\",\"writing score\",\"writing score\",\"writing score\",\"writing score\",\"writing score\",\"writing score\",\"writing score\",\"writing score\",\"writing score\",\"writing score\",\"writing score\",\"writing score\",\"writing score\",\"writing score\",\"writing score\",\"writing score\",\"writing score\",\"writing score\",\"writing score\",\"writing score\",\"writing score\",\"writing score\",\"writing score\",\"writing score\",\"writing score\",\"writing score\",\"writing score\",\"writing score\",\"writing score\",\"writing score\",\"writing score\",\"writing score\",\"writing score\",\"writing score\",\"writing score\",\"writing score\",\"writing score\",\"writing score\",\"writing score\",\"writing score\",\"writing score\",\"writing score\",\"writing score\",\"writing score\",\"writing score\",\"writing score\",\"writing score\",\"writing score\",\"writing score\",\"writing score\",\"writing score\",\"writing score\",\"writing score\",\"writing score\",\"writing score\",\"writing score\",\"writing score\",\"writing score\",\"writing score\",\"writing score\",\"writing score\",\"writing score\",\"writing score\",\"writing score\",\"writing score\",\"writing score\",\"writing score\",\"writing score\",\"writing score\",\"writing score\",\"writing score\",\"writing score\",\"writing score\",\"writing score\",\"writing score\",\"writing score\",\"writing score\",\"writing score\",\"writing score\",\"writing score\",\"writing score\",\"writing score\",\"writing score\",\"writing score\",\"writing score\",\"writing score\",\"writing score\",\"writing score\",\"writing score\",\"writing score\",\"writing score\",\"writing score\",\"writing score\",\"writing score\",\"writing score\",\"writing score\",\"writing score\",\"writing score\",\"writing score\",\"writing score\",\"writing score\",\"writing score\",\"writing score\",\"writing score\",\"writing score\",\"writing score\",\"writing score\",\"writing score\",\"writing score\",\"writing score\",\"writing score\",\"writing score\",\"writing score\",\"writing score\",\"writing score\",\"writing score\",\"writing score\",\"writing score\",\"writing score\",\"writing score\",\"writing score\",\"writing score\",\"writing score\",\"writing score\",\"writing score\",\"writing score\",\"writing score\",\"writing score\",\"writing score\",\"writing score\",\"writing score\",\"writing score\",\"writing score\",\"writing score\",\"writing score\",\"writing score\",\"writing score\",\"writing score\",\"writing score\",\"writing score\",\"writing score\",\"writing score\",\"writing score\",\"writing score\",\"writing score\",\"writing score\",\"writing score\",\"writing score\",\"writing score\",\"writing score\",\"writing score\",\"writing score\",\"writing score\",\"writing score\",\"writing score\",\"writing score\",\"writing score\",\"writing score\",\"writing score\",\"writing score\",\"writing score\",\"writing score\",\"writing score\",\"writing score\",\"writing score\",\"writing score\",\"writing score\",\"writing score\",\"writing score\",\"writing score\",\"writing score\",\"writing score\",\"writing score\",\"writing score\",\"writing score\",\"writing score\",\"writing score\",\"writing score\",\"writing score\",\"writing score\",\"writing score\",\"writing score\",\"writing score\",\"writing score\",\"writing score\",\"writing score\",\"writing score\",\"writing score\",\"writing score\",\"writing score\",\"writing score\",\"writing score\",\"writing score\",\"writing score\",\"writing score\",\"writing score\",\"writing score\",\"writing score\",\"writing score\",\"writing score\",\"writing score\",\"writing score\",\"writing score\",\"writing score\",\"writing score\",\"writing score\",\"writing score\",\"writing score\",\"writing score\",\"writing score\",\"writing score\",\"writing score\",\"writing score\",\"writing score\",\"writing score\",\"writing score\",\"writing score\",\"writing score\",\"writing score\",\"writing score\",\"writing score\",\"writing score\",\"writing score\",\"writing score\",\"writing score\",\"writing score\",\"writing score\",\"writing score\",\"writing score\",\"writing score\",\"writing score\",\"writing score\",\"writing score\",\"writing score\",\"writing score\",\"writing score\",\"writing score\",\"writing score\",\"writing score\",\"writing score\",\"writing score\",\"writing score\",\"writing score\",\"writing score\",\"writing score\",\"writing score\",\"writing score\",\"writing score\",\"writing score\",\"writing score\",\"writing score\",\"writing score\",\"writing score\",\"writing score\",\"writing score\",\"writing score\",\"writing score\",\"writing score\",\"writing score\",\"writing score\",\"writing score\",\"writing score\",\"writing score\",\"writing score\",\"writing score\",\"writing score\",\"writing score\",\"writing score\",\"writing score\",\"writing score\",\"writing score\",\"writing score\",\"writing score\",\"writing score\",\"writing score\",\"writing score\",\"writing score\",\"writing score\",\"writing score\",\"writing score\",\"writing score\",\"writing score\",\"writing score\",\"writing score\",\"writing score\",\"writing score\",\"writing score\",\"writing score\",\"writing score\",\"writing score\",\"writing score\",\"writing score\",\"writing score\",\"writing score\",\"writing score\",\"writing score\",\"writing score\",\"writing score\",\"writing score\",\"writing score\",\"writing score\",\"writing score\",\"writing score\",\"writing score\",\"writing score\",\"writing score\",\"writing score\",\"writing score\",\"writing score\",\"writing score\",\"writing score\",\"writing score\",\"writing score\",\"writing score\",\"writing score\",\"writing score\",\"writing score\",\"writing score\",\"writing score\",\"writing score\",\"writing score\",\"writing score\",\"writing score\",\"writing score\",\"writing score\",\"writing score\",\"writing score\",\"writing score\",\"writing score\",\"writing score\",\"writing score\",\"writing score\",\"writing score\",\"writing score\",\"writing score\",\"writing score\",\"writing score\",\"writing score\",\"writing score\",\"writing score\",\"writing score\",\"writing score\",\"writing score\",\"writing score\",\"writing score\",\"writing score\",\"writing score\",\"writing score\",\"writing score\",\"writing score\",\"writing score\",\"writing score\",\"writing score\",\"writing score\",\"writing score\",\"writing score\",\"writing score\",\"writing score\",\"writing score\",\"writing score\",\"writing score\",\"writing score\",\"writing score\",\"writing score\",\"writing score\",\"writing score\",\"writing score\",\"writing score\",\"writing score\",\"writing score\",\"writing score\",\"writing score\",\"writing score\",\"writing score\",\"writing score\",\"writing score\",\"writing score\",\"writing score\",\"writing score\",\"writing score\",\"writing score\",\"writing score\",\"writing score\",\"writing score\",\"writing score\",\"writing score\",\"writing score\",\"writing score\",\"writing score\",\"writing score\",\"writing score\",\"writing score\",\"writing score\",\"writing score\",\"writing score\",\"writing score\",\"writing score\",\"writing score\",\"writing score\",\"writing score\",\"writing score\",\"writing score\",\"writing score\",\"writing score\",\"writing score\",\"writing score\",\"writing score\",\"writing score\",\"writing score\",\"writing score\",\"writing score\",\"writing score\",\"writing score\",\"writing score\",\"writing score\",\"writing score\",\"writing score\",\"writing score\",\"writing score\",\"writing score\",\"writing score\",\"writing score\",\"writing score\",\"writing score\",\"writing score\",\"writing score\",\"writing score\",\"writing score\",\"writing score\",\"writing score\",\"writing score\",\"writing score\",\"writing score\",\"writing score\",\"writing score\",\"writing score\",\"writing score\",\"writing score\",\"writing score\",\"writing score\",\"writing score\",\"writing score\",\"writing score\",\"writing score\",\"writing score\",\"writing score\",\"writing score\",\"writing score\",\"writing score\",\"writing score\",\"writing score\",\"writing score\",\"writing score\",\"writing score\",\"writing score\",\"writing score\",\"writing score\",\"writing score\",\"writing score\",\"writing score\",\"writing score\",\"writing score\",\"writing score\",\"writing score\",\"writing score\",\"writing score\",\"writing score\",\"writing score\",\"writing score\",\"writing score\",\"writing score\",\"writing score\",\"writing score\",\"writing score\",\"writing score\",\"writing score\",\"writing score\",\"writing score\",\"writing score\",\"writing score\",\"writing score\",\"writing score\",\"writing score\",\"writing score\",\"writing score\",\"writing score\",\"writing score\",\"writing score\",\"writing score\",\"writing score\",\"writing score\",\"writing score\",\"writing score\",\"writing score\",\"writing score\",\"writing score\",\"writing score\",\"writing score\",\"writing score\",\"writing score\",\"writing score\",\"writing score\",\"writing score\",\"writing score\",\"writing score\",\"writing score\",\"writing score\",\"writing score\",\"writing score\",\"writing score\",\"writing score\",\"writing score\",\"writing score\",\"writing score\",\"writing score\",\"writing score\",\"writing score\",\"writing score\",\"writing score\",\"writing score\",\"writing score\",\"writing score\",\"writing score\",\"writing score\",\"writing score\",\"writing score\",\"writing score\",\"writing score\",\"writing score\",\"writing score\",\"writing score\",\"writing score\",\"writing score\",\"writing score\",\"writing score\",\"writing score\",\"writing score\",\"writing score\",\"writing score\",\"writing score\",\"writing score\",\"writing score\",\"writing score\",\"writing score\",\"writing score\",\"writing score\",\"writing score\",\"writing score\",\"writing score\",\"writing score\",\"writing score\",\"writing score\",\"writing score\",\"writing score\",\"writing score\",\"writing score\",\"writing score\",\"writing score\",\"writing score\",\"writing score\",\"writing score\",\"writing score\",\"writing score\",\"writing score\",\"writing score\",\"writing score\",\"writing score\",\"writing score\",\"writing score\",\"writing score\",\"writing score\",\"writing score\",\"writing score\",\"writing score\",\"writing score\",\"writing score\",\"writing score\",\"writing score\",\"writing score\",\"writing score\",\"writing score\",\"writing score\",\"writing score\",\"writing score\",\"writing score\",\"writing score\",\"writing score\",\"writing score\",\"writing score\",\"writing score\",\"writing score\",\"writing score\",\"writing score\",\"writing score\",\"writing score\",\"writing score\",\"writing score\",\"writing score\",\"writing score\",\"writing score\",\"writing score\",\"writing score\",\"writing score\",\"writing score\",\"writing score\",\"writing score\",\"writing score\",\"writing score\",\"writing score\",\"writing score\",\"writing score\",\"writing score\",\"writing score\",\"writing score\",\"writing score\",\"writing score\",\"writing score\",\"writing score\",\"writing score\",\"writing score\",\"writing score\",\"writing score\",\"writing score\",\"writing score\",\"writing score\",\"writing score\",\"writing score\",\"writing score\",\"writing score\",\"writing score\",\"writing score\",\"writing score\",\"writing score\",\"writing score\",\"writing score\",\"writing score\",\"writing score\",\"writing score\",\"writing score\",\"writing score\",\"writing score\",\"writing score\",\"writing score\",\"writing score\",\"writing score\",\"writing score\",\"writing score\",\"writing score\",\"writing score\",\"writing score\",\"writing score\",\"writing score\",\"writing score\",\"writing score\",\"writing score\",\"writing score\",\"writing score\",\"writing score\",\"writing score\",\"writing score\",\"writing score\",\"writing score\",\"writing score\",\"writing score\",\"writing score\",\"writing score\",\"writing score\",\"writing score\",\"writing score\",\"writing score\",\"writing score\",\"writing score\",\"writing score\",\"writing score\",\"writing score\",\"writing score\",\"writing score\",\"writing score\",\"writing score\",\"writing score\",\"writing score\",\"writing score\",\"writing score\",\"writing score\",\"writing score\",\"writing score\",\"writing score\",\"writing score\",\"writing score\",\"writing score\",\"writing score\",\"writing score\",\"writing score\",\"writing score\",\"writing score\",\"writing score\",\"writing score\",\"writing score\",\"writing score\",\"writing score\",\"writing score\",\"writing score\",\"writing score\",\"writing score\",\"writing score\",\"writing score\",\"writing score\",\"writing score\",\"writing score\",\"writing score\",\"writing score\",\"writing score\",\"writing score\",\"writing score\",\"writing score\",\"writing score\",\"writing score\",\"writing score\",\"writing score\",\"writing score\",\"writing score\",\"writing score\",\"writing score\",\"writing score\",\"writing score\",\"writing score\",\"writing score\",\"writing score\",\"writing score\",\"writing score\",\"writing score\",\"writing score\",\"writing score\",\"writing score\",\"writing score\",\"writing score\",\"writing score\",\"writing score\",\"writing score\",\"writing score\",\"writing score\",\"writing score\",\"writing score\",\"writing score\",\"writing score\",\"writing score\",\"writing score\",\"writing score\",\"writing score\",\"writing score\",\"writing score\",\"writing score\",\"writing score\",\"writing score\",\"writing score\",\"writing score\",\"writing score\",\"writing score\",\"writing score\",\"writing score\",\"writing score\",\"writing score\",\"writing score\",\"writing score\",\"writing score\",\"writing score\",\"writing score\",\"writing score\",\"writing score\",\"writing score\",\"writing score\",\"writing score\",\"writing score\",\"writing score\",\"writing score\",\"writing score\",\"writing score\",\"writing score\",\"writing score\",\"writing score\",\"writing score\",\"writing score\",\"writing score\",\"writing score\",\"writing score\",\"writing score\",\"writing score\",\"writing score\",\"writing score\",\"writing score\",\"writing score\",\"writing score\",\"writing score\",\"writing score\",\"writing score\",\"writing score\",\"writing score\",\"writing score\",\"writing score\",\"writing score\",\"writing score\",\"writing score\",\"writing score\",\"writing score\",\"writing score\",\"writing score\",\"writing score\",\"writing score\",\"writing score\",\"writing score\",\"writing score\",\"writing score\",\"writing score\",\"writing score\",\"writing score\",\"writing score\",\"writing score\",\"writing score\",\"writing score\",\"writing score\",\"writing score\",\"writing score\",\"writing score\",\"writing score\",\"writing score\",\"writing score\",\"writing score\",\"writing score\",\"writing score\",\"writing score\",\"writing score\",\"writing score\",\"writing score\",\"writing score\",\"writing score\",\"writing score\",\"writing score\",\"writing score\",\"writing score\",\"writing score\",\"writing score\",\"writing score\",\"writing score\",\"writing score\",\"writing score\",\"writing score\",\"writing score\",\"writing score\",\"writing score\",\"writing score\",\"writing score\",\"writing score\",\"writing score\",\"writing score\",\"writing score\",\"writing score\",\"writing score\",\"writing score\",\"writing score\",\"writing score\",\"writing score\",\"writing score\",\"writing score\",\"writing score\",\"writing score\",\"writing score\",\"writing score\",\"writing score\",\"writing score\",\"writing score\",\"writing score\",\"writing score\",\"writing score\",\"writing score\",\"writing score\",\"writing score\",\"writing score\",\"writing score\",\"writing score\",\"writing score\",\"writing score\",\"writing score\",\"writing score\",\"writing score\",\"writing score\",\"writing score\",\"writing score\",\"writing score\",\"writing score\",\"writing score\",\"writing score\",\"writing score\",\"writing score\",\"writing score\",\"writing score\",\"writing score\",\"writing score\",\"writing score\",\"writing score\",\"writing score\",\"writing score\",\"writing score\",\"writing score\",\"writing score\",\"writing score\",\"writing score\",\"writing score\",\"writing score\",\"writing score\",\"writing score\",\"writing score\",\"writing score\",\"writing score\",\"writing score\",\"writing score\",\"writing score\",\"writing score\",\"writing score\",\"writing score\",\"writing score\",\"writing score\",\"writing score\",\"writing score\",\"writing score\",\"writing score\",\"writing score\",\"writing score\",\"writing score\",\"writing score\",\"writing score\",\"writing score\",\"writing score\",\"writing score\",\"writing score\",\"writing score\",\"writing score\",\"writing score\",\"writing score\",\"writing score\",\"writing score\",\"writing score\",\"writing score\",\"writing score\",\"writing score\",\"writing score\",\"writing score\",\"writing score\",\"writing score\",\"writing score\",\"writing score\",\"writing score\",\"writing score\",\"writing score\",\"writing score\",\"writing score\",\"writing score\",\"writing score\",\"writing score\",\"writing score\",\"writing score\",\"writing score\",\"writing score\",\"writing score\",\"writing score\",\"writing score\",\"writing score\",\"writing score\",\"writing score\",\"writing score\",\"writing score\",\"writing score\",\"writing score\",\"writing score\",\"writing score\",\"writing score\",\"writing score\",\"writing score\",\"writing score\",\"writing score\",\"writing score\",\"writing score\",\"writing score\",\"writing score\",\"writing score\",\"writing score\",\"writing score\",\"writing score\",\"writing score\",\"writing score\",\"writing score\",\"writing score\",\"writing score\"],\"x0\":\" \",\"xaxis\":\"x\",\"y\":[37,80,73,81,94,71,75,34,63,94,65,52,62,74,62,73,46,82,63,64,80,93,69,46,86,59,84,64,73,83,75,69,68,57,66,61,40,50,48,36,78,57,69,40,92,35,63,73,63,52,73,63,71,45,85,80,82,77,91,60,63,40,57,58,97,81,68,59,96,87,57,94,97,65,82,72,62,44,82,75,59,75,72,68,66,67,93,69,63,46,66,62,48,71,54,80,55,90,94,81,53,61,75,74,62,70,60,59,62,53,80,69,69,69,49,43,83,65,73,68,64,54,65,49,58,66,65,65,70,79,50,64,68,32,68,58,19,69,72,53,61,78,53,45,44,83,65,88,88,91,84,51,38,47,66,61,60,71,45,77,53,57,72,76,45,99,51,64,52,80,51,50,64,74,71,57,69,77,75,43,80,59,85,55,44,42,58,61,50,88,73,67,97,61,62,79,54,66,78,85,84,76,44,81,54,58,81,72,71,61,66,71,71,89,73,81,46,22,48,44,79,91,76,54,77,62,67,86,58,53,57,69,76,78,69,62,37,88,90,57,68,65,63,52,48,65,54,50,40,29,26,70,75,53,60,98,93,59,46,76,79,28,55,61,35,94,46,100,67,50,79,71,83,55,48,76,77,79,62,56,68,84,80,62,60,64,29,52,53,67,82,56,79,73,66,52,52,73,66,84,82,74,76,81,79,68,63,50,72,85,83,84,65,85,70,58,86,64,65,61,49,53,97,75,72,74,59,68,78,53,57,72,99,79,91,83,72,61,73,59,100,61,77,71,49,62,86,75,58,47,63,69,70,68,61,71,81,100,84,77,53,71,73,65,49,52,65,59,80,62,57,46,58,67,73,72,40,78,63,61,79,77,70,53,76,45,40,82,78,75,70,55,39,70,30,75,63,82,74,54,71,73,77,77,87,87,74,67,43,49,49,53,64,61,79,69,54,65,77,58,49,73,54,54,64,59,76,75,85,97,53,52,77,79,57,87,66,63,65,68,55,72,86,35,97,75,52,74,70,39,61,44,77,87,66,68,65,62,81,70,74,94,76,59,68,73,100,8,65,40,48,89,77,65,69,68,49,62,50,56,46,53,60,91,90,73,70,47,65,81,55,93,65,62,48,68,66,55,42,54,74,37,66,88,69,61,39,87,64,44,59,80,71,76,53,78,55,70,65,86,47,54,41,78,83,54,90,59,65,67,89,59,73,74,86,55,61,57,58,45,63,61,81,92,67,94,56,62,70,70,76,64,47,66,86,40,66,68,51,45,88,90,52,49,53,71,50,58,42,67,39,85,62,78,73,68,89,40,82,69,77,69,79,53,43,58,76,40,88,69,49,85,69,72,57,58,62,62,75,88,81,67,67,74,74,95,71,85,56,82,85,60,63,51,50,81,87,46,58,62,76,60,50,77,64,61,60,67,64,90,59,53,48,35,60,82,58,60,66,85,49,77,67,69,50,62,83,81,92,70,72,92,51,87,71,59,88,61,82,71,75,43,51,62,75,63,71,67,71,61,56,98,82,75,59,71,44,77,65,57,60,27,58,70,38,42,100,89,35,74,77,62,79,46,74,59,66,47,77,78,52,70,58,68,69,87,52,72,85,41,61,67,54,75,80,63,52,62,58,62,65,74,79,68,63,52,59,55,66,38,74,91,64,74,81,79,90,54,78,46,88,62,80,80,71,64,75,60,68,88,55,50,42,69,42,58,24,48,67,59,59,96,45,88,72,61,81,59,73,79,68,47,64,49,54,71,59,89,37,59,57,47,77,62,77,51,69,74,60,76,51,32,73,49,76,64,62,63,50,44,66,67,61,75,69,76,65,53,87,53,66,49,67,55,30,73,62,79,63,52,58,78,81,74,68,82,73,59,74,62,84,67,81,33,59,87,77,58,69,65,92,87,69,73,61,55,67,69,74,64,56,36,41,49,59,34,84,76,61,62,87,67,54,59,68,67,91,80,96,68,30,74,71,35,81,53,80,76,76,63,57,58,72,55,53,80,41,55,51,85,81,52,18,73,48,56,63,58,32,59,63,63,80,60,64,98,59,65,87,66,52,73,87,79,60,81,74,69,47,47,79,82,92,57,41,49,88,79,59,71,81,65,82,65,40,73,56,69,67,91,67,87,65,58,55,48,88,53,85,62,65,82,62,63,84,77,50,69,0,65,79,69,72,100,65,47,99,51,71,82,91,55,75,66,95,72,70,57,84,61,45,65,27,88,65,63,78,65,90,100,67,74,76,66,59,62,41,29,69,23,66,54,68,46,78,66,75,86,61,68,48,61,73,78,76,65,74,57,69,42,82,61,73,75,100,76,61,81,72,83,64,76,86,88,74,72,61,64,61,59,67,62,29,79,67,58,55,87,28,67,74,64,59,79,73,60,59,92,76,85,94,85,62,48,48,54,54,82,82,65,71,90,84,75,88,93,81,93,57,74,54,84,90,41,73,68,78,74,62,90,63,74,64,68,73,56,70,72,83,59,87,99,73,43,68,85,81,72,78,70,51,72,50,85,66,78,77,45,60,93,61,64,83,66,61,77,57,67,78,70,79,68,81,67,54,60,51,51,57,38,77,79,58,51,72,62,56,51,83,76,78,95,89,87,66,49,53,57,73,68,71,63,86,58,51,64,71,48,93,72,60,61,73,54,48,73,74,77,74,70,90,74,51,68,72,81,76,63,62,59,47,66,74,78,86,100,58,64,81,63,71,91,75,84,94,61,84,49,63,82,81,49,42,77,76,66,88,83,81,34,39,52,64,82,81,80,59,78,72,64,81,70,52,58,73,70,87,64,66,57,89,75,56,70,75,69,57,43,54,54,53,59,41,31,75,74,39,57,87,84,54,54,64,88,23,71,57,53,85,58,100,80,47,84,81,82,64,58,73,77,79,78,68,86,77,75,70,66,62,40,65,61,61,95,79,76,68,74,66,67,86,65,73,75,77,71,72,89,71,78,56,65,92,78,95,77,86,70,63,80,82,81,55,51,51,97,72,73,79,67,68,77,58,78,57,100,89,73,72,79,62,74,54,96,66,79,67,53,61,92,81,62,59,75,67,75,63,56,66,97,100,77,90,44,83,68,82,49,59,75,60,64,49,43,43,73,54,66,72,43,83,65,72,74,82,84,54,62,53,58,85,72,66,64,55,42,89,26,84,64,82,81,59,84,84,88,88,84,74,73,64,62,52,65,54,53,86,92,71,52,86,91,61,63,76,64,53,58,72,74,69,84,92,70,55,76,72,77,85,69,73,85,67,58,66,76,55,87,68,49,70,82,52,74,50,90,84,65,77,67,67,66,63,75,90,78,70,68,66,100,24,64,65,66,84,82,73,77,72,51,69,50,68,56,55,51,95,90,56,72,49,65,77,46,100,70,61,45,59,69,46,55,65,77,56,63,78,77,71,64,100,63,41,78,79,87,87,58,81,73,70,69,73,49,52,51,81,80,64,90,58,81,79,84,63,71,90,83,56,58,78,52,37,63,70,91,100,73,87,52,66,65,74,83,74,54,74,85,52,74,74,31,73,84,95,57,53,52,74,48,55,52,57,39,90,61,74,78,70,100,42,67,80,85,84,86,62,45,55,85,42,77,70,50,91,60,80,50,61,67,63,77,99,91,78,69,71,79,81,74,84,54,62,84,64,72,52,64,75,85,43,68,55,72,68,42,89,50,68,59,57,73,85,73,45,56,28,70,90,67,75,59,95,52,69,76,79,60,56,85,71,100,56,79,100,63,73,70,52,99,64,93,69,82,53,49,55,81,55,83,72,83,56,61,86,84,88,62,75,45,68,76,48,60,34,50,64,43,66,92,76,44,72,62,64,82,41,64,70,77,37,68,77,48,71,57,54,72,94,53,80,89,39,71,89,48,81,90,63,58,55,60,67,77,88,73,68,80,70,42,47,60,60,76,86,64,63,74,82,78,58,82,43,92,67,86,63,79,85,86,72,60,75,61,60,61,75,39,75,38,51,84,62,62,96,47,85,67,67,80,53,76,85,75,62,79,58,60,71,58,87,45,85,58,43,67,68,67,58,77,71,63,78,60,34,78,57,62,76,64,78,53,51,62,84,60,58,84,76,73,72,90,66,83,65,74,72,24,92,62,60,57,65,76,90,86,89,76,97,70,66,86,68,83,86,88,41,65,95,97,51,66,66,100,74,54,67,60,59,81,90,81,60,65,53,52,58,69,42,87,83,72,67,89,75,64,63,67,84,74,80,100,64,26,75,76,61,78,37,76,71,70,71,68,70,66,65,71,92,55,69,56,76,92,59,32,79,54,58,67,49,39,73,60,73,90,44,56,100,71,69,91,76,55,75,84,67,72,78,79,60,58,46,77,80,79,69,45,58,95,78,70,62,81,81,78,69,46,80,72,58,72,96,75,100,74,59,41,58,93,61,66,67,84,82,70,61,80,62,64,65,17,67,86,86,67,100,58,57,87,51,74,82,96,65,82,66,89,72,55,56,89,48,52,59,34,73,82,66,81,72,87,97,74,75,67,72,64,76,46,29,75,44,74,61,80,46,81,63,76,87,69,64,41,61,71,82,70,58,72,62,68,46,74,60,68,77,100,74,55,80,70,75,67,78,88,85,74,65,54,62,62,54,63,60,27,76,72,57,53,78,27,70,61,67,65,79,71,61,64,85,65,87,95,85,60,47,50,56,52,88,82,61,65,92,86,73,78,91,81,93,58,70,53,78,88,42,74,67,77,78,60,83,61,74,66,64,70,51,70,59,83,54,85,100,72,43,63,82,71,65,78,74,43,74,60,85,61,76,77,45,58,95,71,57,78,59,58,74,46,62,78,74,81,72,82,73,50,59,44,57,54,32,73,74,57,52,69,53,54,48,90,75,83,94,92,91,62,45,58,52,63,60,74,59,86,55,54,63,73,46,90,79,58,66,72,41,42,70,72,77,76,67,85,66,54,72,68,85,76,62,60,58,56,64,75,72,83,100,56,66,71,67,76,96,68,80,87,52,82,47,65,84,79,52,41,73,83,65,82,76,79,36,33,45,58,80,79,73,62,73,70,61,75,68,49,64,73,68,91,68,68,56,86,69,57,66,70,74,56,45,57,45,58,51,47,38,78,69,37,51,90,90,51,58,66,94,19,69,56,46,82,57,100,81,54,91,80,84,70,52,68,73,78,79,70,84,74,69,75,70,68,44,69,68,68,89,72,65,66,69,73,72,82,69,69,77,73,72,77,86,75,80,54,68,93,73,92,74,98,70,73,75,77,81,52,51,51,96,62,74,75,61,67,77,44,67,62,100,89,80,78,77,61,72,67,86,61,80,67,53,55,87,71,59,50,81,69,74,54,55,60,96,93,71,91,42,83,66,81,41,56,77,58,66,52,47,41,68,63,62,71,39,80,61,70,72,89,81,48,60,55,54,86,70,73,72,47,38,88,22,80,66,80,83,50,87,85,87,85,87,70,67,70,61,51,61,48,57,87,89,65,52,80,88,52,56,80,68,47,51,80,73,68,89,86,70,57,77,69,80,73,63,78,76,73,52,66,74,60,82,65,46,69,76,46,72,51,84,85,60,80,65,58,64,58,83,91,80,66,64,66,100,23,62,64,65,82,91,75,69,64,43,69,47,74,57,48,56,94,91,57,76,50,63,79,44,95,71,57,41,62,68,43,54,65,76,47,64,75,78,73,57,95,66,38,76,79,82,85,65,86,73,65,76,70,49,51,48,80,73,65,82,59,73,84,77,75,68,88,86,51,62,79,54,37,62,76,89,97,68,92,55,68,60,71,88,75,53,73,91,43,81,74,36,70,75,93,50,52,42,64,53,53,51,53,34,92,58,72,76,66,100,38,61,71,87,85,92,56,50,48,82,38,77,63,52,89,54,83,54,66,69,56,83,100,87,79,75,78,82,84,68,78,52,62,82,74,70,44,66,78,93,44,61,55,71,72,48,98,43,66,54,59,71,84,72,40,58,27,70,94,72,74,52,100,54,68,75,81,59,53,90,73,100,51,82,100,61,72,76,46,95,62,93,68,79,53,51,49,84,63,78,74,77,56,60,90,82,85,64,70,45,69,76,51,60,36,45,70,43,69,97,74,43,72,62,64,82,43,60,65,70,35,77,80,49,74,53,53,77,95,49,75,95,34,78,82,52,74,89,60,58,54,57,67,74,90,67,61,80,62,41,44,57,50,73,84,70,57,71,73,81,61,79,42,95,62,83,63,71,85,79,74,53,76,54,60,58,78,34,77,27,46,86,69,61,99,49,76,65,66,76,52,78,86,81,66,77,55,63,80,47,79,38,80,57,41,64,75,68,54,77,80,59,75,58,38,74,52,66,74,55,79,55,55,64,81,55,62,82,74,68,64,88,73,83,55,77,79,15,84,63,65,56,61,78,93,87,84,67,96,75,67,89,68,78,83,90,43,66,86,94,52,60,62,99,76,55,59,57,59,79,88,76,74,63,43,51,60,65,39,81,79,70,61,94,70,67,64,69,84,76,72,100,66,22,82,70,54,78,40,64,67,69,69,73,67,72,62,67,88,51,65,53,71,91,62,28,84,53,64,67,42,33,69,57,68,82,47,52,99,70,67,81,68,49,80,76,67,68,81,80,63,67,42,75,77,84,68,40,60,92,77,73,50,84,77,74,70,50,82,65,53,67,91,72,100,77,66,48,54,93,62,71,64,84,80,72,54,80,64,59,74,10,62,81,81,64,100,49,44,81,54,68,88,92,62,90,59,92,74,56,54,90,46,49,53,32,78,78,67,82,74,75,99,70,79,67,70,75,80,43,30,71,36,81,62,76],\"y0\":\" \",\"yaxis\":\"y\",\"type\":\"box\"}],                        {\"template\":{\"data\":{\"histogram2dcontour\":[{\"type\":\"histogram2dcontour\",\"colorbar\":{\"outlinewidth\":0,\"ticks\":\"\"},\"colorscale\":[[0.0,\"#0d0887\"],[0.1111111111111111,\"#46039f\"],[0.2222222222222222,\"#7201a8\"],[0.3333333333333333,\"#9c179e\"],[0.4444444444444444,\"#bd3786\"],[0.5555555555555556,\"#d8576b\"],[0.6666666666666666,\"#ed7953\"],[0.7777777777777778,\"#fb9f3a\"],[0.8888888888888888,\"#fdca26\"],[1.0,\"#f0f921\"]]}],\"choropleth\":[{\"type\":\"choropleth\",\"colorbar\":{\"outlinewidth\":0,\"ticks\":\"\"}}],\"histogram2d\":[{\"type\":\"histogram2d\",\"colorbar\":{\"outlinewidth\":0,\"ticks\":\"\"},\"colorscale\":[[0.0,\"#0d0887\"],[0.1111111111111111,\"#46039f\"],[0.2222222222222222,\"#7201a8\"],[0.3333333333333333,\"#9c179e\"],[0.4444444444444444,\"#bd3786\"],[0.5555555555555556,\"#d8576b\"],[0.6666666666666666,\"#ed7953\"],[0.7777777777777778,\"#fb9f3a\"],[0.8888888888888888,\"#fdca26\"],[1.0,\"#f0f921\"]]}],\"heatmap\":[{\"type\":\"heatmap\",\"colorbar\":{\"outlinewidth\":0,\"ticks\":\"\"},\"colorscale\":[[0.0,\"#0d0887\"],[0.1111111111111111,\"#46039f\"],[0.2222222222222222,\"#7201a8\"],[0.3333333333333333,\"#9c179e\"],[0.4444444444444444,\"#bd3786\"],[0.5555555555555556,\"#d8576b\"],[0.6666666666666666,\"#ed7953\"],[0.7777777777777778,\"#fb9f3a\"],[0.8888888888888888,\"#fdca26\"],[1.0,\"#f0f921\"]]}],\"heatmapgl\":[{\"type\":\"heatmapgl\",\"colorbar\":{\"outlinewidth\":0,\"ticks\":\"\"},\"colorscale\":[[0.0,\"#0d0887\"],[0.1111111111111111,\"#46039f\"],[0.2222222222222222,\"#7201a8\"],[0.3333333333333333,\"#9c179e\"],[0.4444444444444444,\"#bd3786\"],[0.5555555555555556,\"#d8576b\"],[0.6666666666666666,\"#ed7953\"],[0.7777777777777778,\"#fb9f3a\"],[0.8888888888888888,\"#fdca26\"],[1.0,\"#f0f921\"]]}],\"contourcarpet\":[{\"type\":\"contourcarpet\",\"colorbar\":{\"outlinewidth\":0,\"ticks\":\"\"}}],\"contour\":[{\"type\":\"contour\",\"colorbar\":{\"outlinewidth\":0,\"ticks\":\"\"},\"colorscale\":[[0.0,\"#0d0887\"],[0.1111111111111111,\"#46039f\"],[0.2222222222222222,\"#7201a8\"],[0.3333333333333333,\"#9c179e\"],[0.4444444444444444,\"#bd3786\"],[0.5555555555555556,\"#d8576b\"],[0.6666666666666666,\"#ed7953\"],[0.7777777777777778,\"#fb9f3a\"],[0.8888888888888888,\"#fdca26\"],[1.0,\"#f0f921\"]]}],\"surface\":[{\"type\":\"surface\",\"colorbar\":{\"outlinewidth\":0,\"ticks\":\"\"},\"colorscale\":[[0.0,\"#0d0887\"],[0.1111111111111111,\"#46039f\"],[0.2222222222222222,\"#7201a8\"],[0.3333333333333333,\"#9c179e\"],[0.4444444444444444,\"#bd3786\"],[0.5555555555555556,\"#d8576b\"],[0.6666666666666666,\"#ed7953\"],[0.7777777777777778,\"#fb9f3a\"],[0.8888888888888888,\"#fdca26\"],[1.0,\"#f0f921\"]]}],\"mesh3d\":[{\"type\":\"mesh3d\",\"colorbar\":{\"outlinewidth\":0,\"ticks\":\"\"}}],\"scatter\":[{\"fillpattern\":{\"fillmode\":\"overlay\",\"size\":10,\"solidity\":0.2},\"type\":\"scatter\"}],\"parcoords\":[{\"type\":\"parcoords\",\"line\":{\"colorbar\":{\"outlinewidth\":0,\"ticks\":\"\"}}}],\"scatterpolargl\":[{\"type\":\"scatterpolargl\",\"marker\":{\"colorbar\":{\"outlinewidth\":0,\"ticks\":\"\"}}}],\"bar\":[{\"error_x\":{\"color\":\"#2a3f5f\"},\"error_y\":{\"color\":\"#2a3f5f\"},\"marker\":{\"line\":{\"color\":\"#E5ECF6\",\"width\":0.5},\"pattern\":{\"fillmode\":\"overlay\",\"size\":10,\"solidity\":0.2}},\"type\":\"bar\"}],\"scattergeo\":[{\"type\":\"scattergeo\",\"marker\":{\"colorbar\":{\"outlinewidth\":0,\"ticks\":\"\"}}}],\"scatterpolar\":[{\"type\":\"scatterpolar\",\"marker\":{\"colorbar\":{\"outlinewidth\":0,\"ticks\":\"\"}}}],\"histogram\":[{\"marker\":{\"pattern\":{\"fillmode\":\"overlay\",\"size\":10,\"solidity\":0.2}},\"type\":\"histogram\"}],\"scattergl\":[{\"type\":\"scattergl\",\"marker\":{\"colorbar\":{\"outlinewidth\":0,\"ticks\":\"\"}}}],\"scatter3d\":[{\"type\":\"scatter3d\",\"line\":{\"colorbar\":{\"outlinewidth\":0,\"ticks\":\"\"}},\"marker\":{\"colorbar\":{\"outlinewidth\":0,\"ticks\":\"\"}}}],\"scattermapbox\":[{\"type\":\"scattermapbox\",\"marker\":{\"colorbar\":{\"outlinewidth\":0,\"ticks\":\"\"}}}],\"scatterternary\":[{\"type\":\"scatterternary\",\"marker\":{\"colorbar\":{\"outlinewidth\":0,\"ticks\":\"\"}}}],\"scattercarpet\":[{\"type\":\"scattercarpet\",\"marker\":{\"colorbar\":{\"outlinewidth\":0,\"ticks\":\"\"}}}],\"carpet\":[{\"aaxis\":{\"endlinecolor\":\"#2a3f5f\",\"gridcolor\":\"white\",\"linecolor\":\"white\",\"minorgridcolor\":\"white\",\"startlinecolor\":\"#2a3f5f\"},\"baxis\":{\"endlinecolor\":\"#2a3f5f\",\"gridcolor\":\"white\",\"linecolor\":\"white\",\"minorgridcolor\":\"white\",\"startlinecolor\":\"#2a3f5f\"},\"type\":\"carpet\"}],\"table\":[{\"cells\":{\"fill\":{\"color\":\"#EBF0F8\"},\"line\":{\"color\":\"white\"}},\"header\":{\"fill\":{\"color\":\"#C8D4E3\"},\"line\":{\"color\":\"white\"}},\"type\":\"table\"}],\"barpolar\":[{\"marker\":{\"line\":{\"color\":\"#E5ECF6\",\"width\":0.5},\"pattern\":{\"fillmode\":\"overlay\",\"size\":10,\"solidity\":0.2}},\"type\":\"barpolar\"}],\"pie\":[{\"automargin\":true,\"type\":\"pie\"}]},\"layout\":{\"autotypenumbers\":\"strict\",\"colorway\":[\"#636efa\",\"#EF553B\",\"#00cc96\",\"#ab63fa\",\"#FFA15A\",\"#19d3f3\",\"#FF6692\",\"#B6E880\",\"#FF97FF\",\"#FECB52\"],\"font\":{\"color\":\"#2a3f5f\"},\"hovermode\":\"closest\",\"hoverlabel\":{\"align\":\"left\"},\"paper_bgcolor\":\"white\",\"plot_bgcolor\":\"#E5ECF6\",\"polar\":{\"bgcolor\":\"#E5ECF6\",\"angularaxis\":{\"gridcolor\":\"white\",\"linecolor\":\"white\",\"ticks\":\"\"},\"radialaxis\":{\"gridcolor\":\"white\",\"linecolor\":\"white\",\"ticks\":\"\"}},\"ternary\":{\"bgcolor\":\"#E5ECF6\",\"aaxis\":{\"gridcolor\":\"white\",\"linecolor\":\"white\",\"ticks\":\"\"},\"baxis\":{\"gridcolor\":\"white\",\"linecolor\":\"white\",\"ticks\":\"\"},\"caxis\":{\"gridcolor\":\"white\",\"linecolor\":\"white\",\"ticks\":\"\"}},\"coloraxis\":{\"colorbar\":{\"outlinewidth\":0,\"ticks\":\"\"}},\"colorscale\":{\"sequential\":[[0.0,\"#0d0887\"],[0.1111111111111111,\"#46039f\"],[0.2222222222222222,\"#7201a8\"],[0.3333333333333333,\"#9c179e\"],[0.4444444444444444,\"#bd3786\"],[0.5555555555555556,\"#d8576b\"],[0.6666666666666666,\"#ed7953\"],[0.7777777777777778,\"#fb9f3a\"],[0.8888888888888888,\"#fdca26\"],[1.0,\"#f0f921\"]],\"sequentialminus\":[[0.0,\"#0d0887\"],[0.1111111111111111,\"#46039f\"],[0.2222222222222222,\"#7201a8\"],[0.3333333333333333,\"#9c179e\"],[0.4444444444444444,\"#bd3786\"],[0.5555555555555556,\"#d8576b\"],[0.6666666666666666,\"#ed7953\"],[0.7777777777777778,\"#fb9f3a\"],[0.8888888888888888,\"#fdca26\"],[1.0,\"#f0f921\"]],\"diverging\":[[0,\"#8e0152\"],[0.1,\"#c51b7d\"],[0.2,\"#de77ae\"],[0.3,\"#f1b6da\"],[0.4,\"#fde0ef\"],[0.5,\"#f7f7f7\"],[0.6,\"#e6f5d0\"],[0.7,\"#b8e186\"],[0.8,\"#7fbc41\"],[0.9,\"#4d9221\"],[1,\"#276419\"]]},\"xaxis\":{\"gridcolor\":\"white\",\"linecolor\":\"white\",\"ticks\":\"\",\"title\":{\"standoff\":15},\"zerolinecolor\":\"white\",\"automargin\":true,\"zerolinewidth\":2},\"yaxis\":{\"gridcolor\":\"white\",\"linecolor\":\"white\",\"ticks\":\"\",\"title\":{\"standoff\":15},\"zerolinecolor\":\"white\",\"automargin\":true,\"zerolinewidth\":2},\"scene\":{\"xaxis\":{\"backgroundcolor\":\"#E5ECF6\",\"gridcolor\":\"white\",\"linecolor\":\"white\",\"showbackground\":true,\"ticks\":\"\",\"zerolinecolor\":\"white\",\"gridwidth\":2},\"yaxis\":{\"backgroundcolor\":\"#E5ECF6\",\"gridcolor\":\"white\",\"linecolor\":\"white\",\"showbackground\":true,\"ticks\":\"\",\"zerolinecolor\":\"white\",\"gridwidth\":2},\"zaxis\":{\"backgroundcolor\":\"#E5ECF6\",\"gridcolor\":\"white\",\"linecolor\":\"white\",\"showbackground\":true,\"ticks\":\"\",\"zerolinecolor\":\"white\",\"gridwidth\":2}},\"shapedefaults\":{\"line\":{\"color\":\"#2a3f5f\"}},\"annotationdefaults\":{\"arrowcolor\":\"#2a3f5f\",\"arrowhead\":0,\"arrowwidth\":1},\"geo\":{\"bgcolor\":\"white\",\"landcolor\":\"#E5ECF6\",\"subunitcolor\":\"white\",\"showland\":true,\"showlakes\":true,\"lakecolor\":\"white\"},\"title\":{\"x\":0.05},\"mapbox\":{\"style\":\"light\"}}},\"xaxis\":{\"anchor\":\"y\",\"domain\":[0.0,1.0],\"title\":{\"text\":\"variable\"}},\"yaxis\":{\"anchor\":\"x\",\"domain\":[0.0,1.0],\"title\":{\"text\":\"value\"}},\"legend\":{\"tracegroupgap\":0},\"margin\":{\"t\":60},\"boxmode\":\"group\"},                        {\"responsive\": true}                    ).then(function(){\n",
              "                            \n",
              "var gd = document.getElementById('4b1325f0-35f0-4dd4-ae17-c69410e887e3');\n",
              "var x = new MutationObserver(function (mutations, observer) {{\n",
              "        var display = window.getComputedStyle(gd).display;\n",
              "        if (!display || display === 'none') {{\n",
              "            console.log([gd, 'removed!']);\n",
              "            Plotly.purge(gd);\n",
              "            observer.disconnect();\n",
              "        }}\n",
              "}});\n",
              "\n",
              "// Listen for the removal of the full notebook cells\n",
              "var notebookContainer = gd.closest('#notebook-container');\n",
              "if (notebookContainer) {{\n",
              "    x.observe(notebookContainer, {childList: true});\n",
              "}}\n",
              "\n",
              "// Listen for the clearing of the current output cell\n",
              "var outputEl = gd.closest('.output');\n",
              "if (outputEl) {{\n",
              "    x.observe(outputEl, {childList: true});\n",
              "}}\n",
              "\n",
              "                        })                };                            </script>        </div>\n",
              "</body>\n",
              "</html>"
            ]
          },
          "metadata": {}
        }
      ]
    },
    {
      "cell_type": "markdown",
      "source": [
        "## 1.3 Trabajando con Datos\n",
        "\n",
        "<p align=\"center\">\n",
        "  <img src=\"https://media3.giphy.com/media/YQitE4YNQNahy/giphy-downsized-large.gif\">\n",
        "</p>"
      ],
      "metadata": {
        "id": "2tnenh4uOF6k",
        "cell_id": "00032-35743f33-7587-4206-903d-5922c094c121",
        "deepnote_cell_type": "markdown"
      }
    },
    {
      "cell_type": "markdown",
      "source": [
        "### 1.3.1 Transformación de notas a \"Nota Chilena\" [0.5 Puntos]"
      ],
      "metadata": {
        "id": "Qecw0sKor_Au",
        "cell_id": "00033-ae1d6c24-6c73-49d9-961d-4f6a9da3f5a1",
        "deepnote_cell_type": "markdown"
      }
    },
    {
      "cell_type": "markdown",
      "source": [
        "En una de las reuniones con Don Caguayo este les comenta su intención de pasar todas sus notas a la \"Escala Chilena\". Para esto les facilita la siguiente ecuación:\n",
        "\n",
        "$$Nota \\, Chilena= \\% \\, de \\, logro*0.06 + 1$$\n",
        "\n",
        "Utilizando la ecuación entregada, cree una función que le permita pasar a la escala Chilena las notas que se escapan del rango [1,7] y entregue las notas redondeadas al segundo decimal.\n",
        "\n",
        "**To-Do**\n",
        "\n",
        "- [ ] Tranforme los valores a la escala chilena."
      ],
      "metadata": {
        "id": "BfmD-9yi4PnX",
        "cell_id": "00034-0c2d3679-984b-4d24-8ab0-fc8de61bb42e",
        "deepnote_cell_type": "markdown"
      }
    },
    {
      "cell_type": "markdown",
      "source": [
        "**Respuesta:**"
      ],
      "metadata": {
        "tags": [],
        "cell_id": "00035-7dd5d2b3-12e5-4cb8-a9ab-e3f0e4870b94",
        "deepnote_cell_type": "markdown",
        "id": "AtwLZc6syZlg"
      }
    },
    {
      "cell_type": "code",
      "metadata": {
        "id": "GQ0gDEvd3T1m",
        "deepnote_to_be_reexecuted": false,
        "source_hash": "e84f9f19",
        "execution_start": 1632493424541,
        "execution_millis": 1,
        "cell_id": "00036-4f869d3b-f09e-4986-8f77-604d440d0b99",
        "deepnote_cell_type": "code",
        "colab": {
          "base_uri": "https://localhost:8080/",
          "height": 569
        },
        "outputId": "814dcfd1-8ff2-482b-86e9-0a321fb37d57"
      },
      "source": [
        "def nota_chilena(df):\n",
        "    df[['math score', 'reading score', 'writing score']] = df[['math score', 'reading score', 'writing score']]*0.06+1\n",
        "    return df\n",
        "\n",
        "chile = nota_chilena(cleaned_data)\n",
        "chile"
      ],
      "execution_count": 8,
      "outputs": [
        {
          "output_type": "stream",
          "name": "stderr",
          "text": [
            "/usr/local/lib/python3.7/dist-packages/pandas/core/frame.py:3641: SettingWithCopyWarning:\n",
            "\n",
            "\n",
            "A value is trying to be set on a copy of a slice from a DataFrame.\n",
            "Try using .loc[row_indexer,col_indexer] = value instead\n",
            "\n",
            "See the caveats in the documentation: https://pandas.pydata.org/pandas-docs/stable/user_guide/indexing.html#returning-a-view-versus-a-copy\n",
            "\n"
          ]
        },
        {
          "output_type": "execute_result",
          "data": {
            "text/plain": [
              "                 names  gender race/ethnicity parental level of education  \\\n",
              "0        Rita Courtney  female        group B            some high school   \n",
              "3     Charles Linstrom    male        group A           bachelor's degree   \n",
              "5          Brian Young    male        group C            some high school   \n",
              "6       Howard Jimenez    male        group E            some high school   \n",
              "7         Wayne Wilson    male        group B            some high school   \n",
              "...                ...     ...            ...                         ...   \n",
              "1392     Richard Young    male        group D                 high school   \n",
              "1394     Wanda Russell  female        group B                 high school   \n",
              "1396    Marina Zeigler  female        group C           bachelor's degree   \n",
              "1397     Laurie Carter  female        group B            some high school   \n",
              "1399      Amanda Perez  female        group A                 high school   \n",
              "\n",
              "             lunch test preparation course math score reading score  \\\n",
              "0         standard                    none       3.22          3.76   \n",
              "3         standard               completed        5.8          5.68   \n",
              "5         standard                    none       5.38          4.96   \n",
              "6         standard               completed       5.86           5.5   \n",
              "7         standard               completed       6.64          6.16   \n",
              "...            ...                     ...        ...           ...   \n",
              "1392      standard                    none       5.14           5.5   \n",
              "1394  free/reduced               completed       2.38          3.64   \n",
              "1396  free/reduced               completed       4.96          5.44   \n",
              "1397      standard               completed       4.24          4.66   \n",
              "1399      standard               completed       5.08           5.8   \n",
              "\n",
              "     writing score  \n",
              "0             3.76  \n",
              "3             5.86  \n",
              "5             4.78  \n",
              "6             5.56  \n",
              "7             6.22  \n",
              "...            ...  \n",
              "1392          5.26  \n",
              "1394          3.16  \n",
              "1396          5.86  \n",
              "1397          4.72  \n",
              "1399          5.56  \n",
              "\n",
              "[1003 rows x 9 columns]"
            ],
            "text/html": [
              "\n",
              "  <div id=\"df-1c621291-76e9-4df6-829f-418febcff243\">\n",
              "    <div class=\"colab-df-container\">\n",
              "      <div>\n",
              "<style scoped>\n",
              "    .dataframe tbody tr th:only-of-type {\n",
              "        vertical-align: middle;\n",
              "    }\n",
              "\n",
              "    .dataframe tbody tr th {\n",
              "        vertical-align: top;\n",
              "    }\n",
              "\n",
              "    .dataframe thead th {\n",
              "        text-align: right;\n",
              "    }\n",
              "</style>\n",
              "<table border=\"1\" class=\"dataframe\">\n",
              "  <thead>\n",
              "    <tr style=\"text-align: right;\">\n",
              "      <th></th>\n",
              "      <th>names</th>\n",
              "      <th>gender</th>\n",
              "      <th>race/ethnicity</th>\n",
              "      <th>parental level of education</th>\n",
              "      <th>lunch</th>\n",
              "      <th>test preparation course</th>\n",
              "      <th>math score</th>\n",
              "      <th>reading score</th>\n",
              "      <th>writing score</th>\n",
              "    </tr>\n",
              "  </thead>\n",
              "  <tbody>\n",
              "    <tr>\n",
              "      <th>0</th>\n",
              "      <td>Rita Courtney</td>\n",
              "      <td>female</td>\n",
              "      <td>group B</td>\n",
              "      <td>some high school</td>\n",
              "      <td>standard</td>\n",
              "      <td>none</td>\n",
              "      <td>3.22</td>\n",
              "      <td>3.76</td>\n",
              "      <td>3.76</td>\n",
              "    </tr>\n",
              "    <tr>\n",
              "      <th>3</th>\n",
              "      <td>Charles Linstrom</td>\n",
              "      <td>male</td>\n",
              "      <td>group A</td>\n",
              "      <td>bachelor's degree</td>\n",
              "      <td>standard</td>\n",
              "      <td>completed</td>\n",
              "      <td>5.8</td>\n",
              "      <td>5.68</td>\n",
              "      <td>5.86</td>\n",
              "    </tr>\n",
              "    <tr>\n",
              "      <th>5</th>\n",
              "      <td>Brian Young</td>\n",
              "      <td>male</td>\n",
              "      <td>group C</td>\n",
              "      <td>some high school</td>\n",
              "      <td>standard</td>\n",
              "      <td>none</td>\n",
              "      <td>5.38</td>\n",
              "      <td>4.96</td>\n",
              "      <td>4.78</td>\n",
              "    </tr>\n",
              "    <tr>\n",
              "      <th>6</th>\n",
              "      <td>Howard Jimenez</td>\n",
              "      <td>male</td>\n",
              "      <td>group E</td>\n",
              "      <td>some high school</td>\n",
              "      <td>standard</td>\n",
              "      <td>completed</td>\n",
              "      <td>5.86</td>\n",
              "      <td>5.5</td>\n",
              "      <td>5.56</td>\n",
              "    </tr>\n",
              "    <tr>\n",
              "      <th>7</th>\n",
              "      <td>Wayne Wilson</td>\n",
              "      <td>male</td>\n",
              "      <td>group B</td>\n",
              "      <td>some high school</td>\n",
              "      <td>standard</td>\n",
              "      <td>completed</td>\n",
              "      <td>6.64</td>\n",
              "      <td>6.16</td>\n",
              "      <td>6.22</td>\n",
              "    </tr>\n",
              "    <tr>\n",
              "      <th>...</th>\n",
              "      <td>...</td>\n",
              "      <td>...</td>\n",
              "      <td>...</td>\n",
              "      <td>...</td>\n",
              "      <td>...</td>\n",
              "      <td>...</td>\n",
              "      <td>...</td>\n",
              "      <td>...</td>\n",
              "      <td>...</td>\n",
              "    </tr>\n",
              "    <tr>\n",
              "      <th>1392</th>\n",
              "      <td>Richard Young</td>\n",
              "      <td>male</td>\n",
              "      <td>group D</td>\n",
              "      <td>high school</td>\n",
              "      <td>standard</td>\n",
              "      <td>none</td>\n",
              "      <td>5.14</td>\n",
              "      <td>5.5</td>\n",
              "      <td>5.26</td>\n",
              "    </tr>\n",
              "    <tr>\n",
              "      <th>1394</th>\n",
              "      <td>Wanda Russell</td>\n",
              "      <td>female</td>\n",
              "      <td>group B</td>\n",
              "      <td>high school</td>\n",
              "      <td>free/reduced</td>\n",
              "      <td>completed</td>\n",
              "      <td>2.38</td>\n",
              "      <td>3.64</td>\n",
              "      <td>3.16</td>\n",
              "    </tr>\n",
              "    <tr>\n",
              "      <th>1396</th>\n",
              "      <td>Marina Zeigler</td>\n",
              "      <td>female</td>\n",
              "      <td>group C</td>\n",
              "      <td>bachelor's degree</td>\n",
              "      <td>free/reduced</td>\n",
              "      <td>completed</td>\n",
              "      <td>4.96</td>\n",
              "      <td>5.44</td>\n",
              "      <td>5.86</td>\n",
              "    </tr>\n",
              "    <tr>\n",
              "      <th>1397</th>\n",
              "      <td>Laurie Carter</td>\n",
              "      <td>female</td>\n",
              "      <td>group B</td>\n",
              "      <td>some high school</td>\n",
              "      <td>standard</td>\n",
              "      <td>completed</td>\n",
              "      <td>4.24</td>\n",
              "      <td>4.66</td>\n",
              "      <td>4.72</td>\n",
              "    </tr>\n",
              "    <tr>\n",
              "      <th>1399</th>\n",
              "      <td>Amanda Perez</td>\n",
              "      <td>female</td>\n",
              "      <td>group A</td>\n",
              "      <td>high school</td>\n",
              "      <td>standard</td>\n",
              "      <td>completed</td>\n",
              "      <td>5.08</td>\n",
              "      <td>5.8</td>\n",
              "      <td>5.56</td>\n",
              "    </tr>\n",
              "  </tbody>\n",
              "</table>\n",
              "<p>1003 rows × 9 columns</p>\n",
              "</div>\n",
              "      <button class=\"colab-df-convert\" onclick=\"convertToInteractive('df-1c621291-76e9-4df6-829f-418febcff243')\"\n",
              "              title=\"Convert this dataframe to an interactive table.\"\n",
              "              style=\"display:none;\">\n",
              "        \n",
              "  <svg xmlns=\"http://www.w3.org/2000/svg\" height=\"24px\"viewBox=\"0 0 24 24\"\n",
              "       width=\"24px\">\n",
              "    <path d=\"M0 0h24v24H0V0z\" fill=\"none\"/>\n",
              "    <path d=\"M18.56 5.44l.94 2.06.94-2.06 2.06-.94-2.06-.94-.94-2.06-.94 2.06-2.06.94zm-11 1L8.5 8.5l.94-2.06 2.06-.94-2.06-.94L8.5 2.5l-.94 2.06-2.06.94zm10 10l.94 2.06.94-2.06 2.06-.94-2.06-.94-.94-2.06-.94 2.06-2.06.94z\"/><path d=\"M17.41 7.96l-1.37-1.37c-.4-.4-.92-.59-1.43-.59-.52 0-1.04.2-1.43.59L10.3 9.45l-7.72 7.72c-.78.78-.78 2.05 0 2.83L4 21.41c.39.39.9.59 1.41.59.51 0 1.02-.2 1.41-.59l7.78-7.78 2.81-2.81c.8-.78.8-2.07 0-2.86zM5.41 20L4 18.59l7.72-7.72 1.47 1.35L5.41 20z\"/>\n",
              "  </svg>\n",
              "      </button>\n",
              "      \n",
              "  <style>\n",
              "    .colab-df-container {\n",
              "      display:flex;\n",
              "      flex-wrap:wrap;\n",
              "      gap: 12px;\n",
              "    }\n",
              "\n",
              "    .colab-df-convert {\n",
              "      background-color: #E8F0FE;\n",
              "      border: none;\n",
              "      border-radius: 50%;\n",
              "      cursor: pointer;\n",
              "      display: none;\n",
              "      fill: #1967D2;\n",
              "      height: 32px;\n",
              "      padding: 0 0 0 0;\n",
              "      width: 32px;\n",
              "    }\n",
              "\n",
              "    .colab-df-convert:hover {\n",
              "      background-color: #E2EBFA;\n",
              "      box-shadow: 0px 1px 2px rgba(60, 64, 67, 0.3), 0px 1px 3px 1px rgba(60, 64, 67, 0.15);\n",
              "      fill: #174EA6;\n",
              "    }\n",
              "\n",
              "    [theme=dark] .colab-df-convert {\n",
              "      background-color: #3B4455;\n",
              "      fill: #D2E3FC;\n",
              "    }\n",
              "\n",
              "    [theme=dark] .colab-df-convert:hover {\n",
              "      background-color: #434B5C;\n",
              "      box-shadow: 0px 1px 3px 1px rgba(0, 0, 0, 0.15);\n",
              "      filter: drop-shadow(0px 1px 2px rgba(0, 0, 0, 0.3));\n",
              "      fill: #FFFFFF;\n",
              "    }\n",
              "  </style>\n",
              "\n",
              "      <script>\n",
              "        const buttonEl =\n",
              "          document.querySelector('#df-1c621291-76e9-4df6-829f-418febcff243 button.colab-df-convert');\n",
              "        buttonEl.style.display =\n",
              "          google.colab.kernel.accessAllowed ? 'block' : 'none';\n",
              "\n",
              "        async function convertToInteractive(key) {\n",
              "          const element = document.querySelector('#df-1c621291-76e9-4df6-829f-418febcff243');\n",
              "          const dataTable =\n",
              "            await google.colab.kernel.invokeFunction('convertToInteractive',\n",
              "                                                     [key], {});\n",
              "          if (!dataTable) return;\n",
              "\n",
              "          const docLinkHtml = 'Like what you see? Visit the ' +\n",
              "            '<a target=\"_blank\" href=https://colab.research.google.com/notebooks/data_table.ipynb>data table notebook</a>'\n",
              "            + ' to learn more about interactive tables.';\n",
              "          element.innerHTML = '';\n",
              "          dataTable['output_type'] = 'display_data';\n",
              "          await google.colab.output.renderOutput(dataTable, element);\n",
              "          const docLink = document.createElement('div');\n",
              "          docLink.innerHTML = docLinkHtml;\n",
              "          element.appendChild(docLink);\n",
              "        }\n",
              "      </script>\n",
              "    </div>\n",
              "  </div>\n",
              "  "
            ]
          },
          "metadata": {},
          "execution_count": 8
        }
      ]
    },
    {
      "cell_type": "markdown",
      "source": [
        "### 1.3.2 Obtención de promedio de alumnos [0.5]"
      ],
      "metadata": {
        "id": "QGe-Hb2UTAE1",
        "cell_id": "00038-3045a9c7-3dc1-4909-a993-3346ce27103d",
        "deepnote_cell_type": "markdown"
      }
    },
    {
      "cell_type": "markdown",
      "source": [
        "Con todas las notas adjuntadas, la prestigiosa Universidad De la Cachaña necesita obtener el promedio general de cada uno de los alumnos. Para esto se le solicita que calcule el promedio con cada una de las asignaturas y el promedio se anexe como una nueva columna al final del DataFrame original. Cabe señalar que las notas deben ser redondeadas al segundo decimal.\n",
        "\n",
        "**To-Do:**\n",
        "- [ ] Crear función que nos permite obtener el promedio de cada uno de los alumnos y anexar esta información en el DataFrame original.\n"
      ],
      "metadata": {
        "id": "AEkWI5K-OZgt",
        "cell_id": "00039-5e16ce47-71fb-4750-9d81-c7bdb854141d",
        "deepnote_cell_type": "markdown"
      }
    },
    {
      "cell_type": "markdown",
      "source": [
        "**Respuesta:**"
      ],
      "metadata": {
        "tags": [],
        "cell_id": "00040-ed949f3e-dd9b-44a7-aa8c-b75d7651546d",
        "deepnote_cell_type": "markdown",
        "id": "PuNkRZp8yZlh"
      }
    },
    {
      "cell_type": "code",
      "metadata": {
        "id": "b6CTPp5TAMhE",
        "deepnote_to_be_reexecuted": false,
        "source_hash": "810948b",
        "execution_start": 1632493424597,
        "execution_millis": 0,
        "cell_id": "00041-71c0f72b-1361-4b83-a3d2-cd5a916f0bb0",
        "deepnote_cell_type": "code"
      },
      "source": [
        "def alumnos_promedio(df):\n",
        "    df['promedio'] = df[['math score', 'reading score', 'writing score']].mean(axis=1)\n",
        "    return df"
      ],
      "execution_count": 9,
      "outputs": []
    },
    {
      "cell_type": "code",
      "source": [
        "df_grades = alumnos_promedio(chile)\n",
        "chile.head()"
      ],
      "metadata": {
        "colab": {
          "base_uri": "https://localhost:8080/",
          "height": 352
        },
        "id": "QmBWuxNptwjH",
        "outputId": "e0e95032-a508-4791-84f6-fffc9b7bf972"
      },
      "execution_count": 10,
      "outputs": [
        {
          "output_type": "stream",
          "name": "stderr",
          "text": [
            "/usr/local/lib/python3.7/dist-packages/ipykernel_launcher.py:2: SettingWithCopyWarning:\n",
            "\n",
            "\n",
            "A value is trying to be set on a copy of a slice from a DataFrame.\n",
            "Try using .loc[row_indexer,col_indexer] = value instead\n",
            "\n",
            "See the caveats in the documentation: https://pandas.pydata.org/pandas-docs/stable/user_guide/indexing.html#returning-a-view-versus-a-copy\n",
            "\n"
          ]
        },
        {
          "output_type": "execute_result",
          "data": {
            "text/plain": [
              "              names  gender race/ethnicity parental level of education  \\\n",
              "0     Rita Courtney  female        group B            some high school   \n",
              "3  Charles Linstrom    male        group A           bachelor's degree   \n",
              "5       Brian Young    male        group C            some high school   \n",
              "6    Howard Jimenez    male        group E            some high school   \n",
              "7      Wayne Wilson    male        group B            some high school   \n",
              "\n",
              "      lunch test preparation course math score reading score writing score  \\\n",
              "0  standard                    none       3.22          3.76          3.76   \n",
              "3  standard               completed        5.8          5.68          5.86   \n",
              "5  standard                    none       5.38          4.96          4.78   \n",
              "6  standard               completed       5.86           5.5          5.56   \n",
              "7  standard               completed       6.64          6.16          6.22   \n",
              "\n",
              "   promedio  \n",
              "0      3.58  \n",
              "3      5.78  \n",
              "5      5.04  \n",
              "6      5.64  \n",
              "7      6.34  "
            ],
            "text/html": [
              "\n",
              "  <div id=\"df-2bd1a9b6-d34f-4b79-baba-d5218f50677d\">\n",
              "    <div class=\"colab-df-container\">\n",
              "      <div>\n",
              "<style scoped>\n",
              "    .dataframe tbody tr th:only-of-type {\n",
              "        vertical-align: middle;\n",
              "    }\n",
              "\n",
              "    .dataframe tbody tr th {\n",
              "        vertical-align: top;\n",
              "    }\n",
              "\n",
              "    .dataframe thead th {\n",
              "        text-align: right;\n",
              "    }\n",
              "</style>\n",
              "<table border=\"1\" class=\"dataframe\">\n",
              "  <thead>\n",
              "    <tr style=\"text-align: right;\">\n",
              "      <th></th>\n",
              "      <th>names</th>\n",
              "      <th>gender</th>\n",
              "      <th>race/ethnicity</th>\n",
              "      <th>parental level of education</th>\n",
              "      <th>lunch</th>\n",
              "      <th>test preparation course</th>\n",
              "      <th>math score</th>\n",
              "      <th>reading score</th>\n",
              "      <th>writing score</th>\n",
              "      <th>promedio</th>\n",
              "    </tr>\n",
              "  </thead>\n",
              "  <tbody>\n",
              "    <tr>\n",
              "      <th>0</th>\n",
              "      <td>Rita Courtney</td>\n",
              "      <td>female</td>\n",
              "      <td>group B</td>\n",
              "      <td>some high school</td>\n",
              "      <td>standard</td>\n",
              "      <td>none</td>\n",
              "      <td>3.22</td>\n",
              "      <td>3.76</td>\n",
              "      <td>3.76</td>\n",
              "      <td>3.58</td>\n",
              "    </tr>\n",
              "    <tr>\n",
              "      <th>3</th>\n",
              "      <td>Charles Linstrom</td>\n",
              "      <td>male</td>\n",
              "      <td>group A</td>\n",
              "      <td>bachelor's degree</td>\n",
              "      <td>standard</td>\n",
              "      <td>completed</td>\n",
              "      <td>5.8</td>\n",
              "      <td>5.68</td>\n",
              "      <td>5.86</td>\n",
              "      <td>5.78</td>\n",
              "    </tr>\n",
              "    <tr>\n",
              "      <th>5</th>\n",
              "      <td>Brian Young</td>\n",
              "      <td>male</td>\n",
              "      <td>group C</td>\n",
              "      <td>some high school</td>\n",
              "      <td>standard</td>\n",
              "      <td>none</td>\n",
              "      <td>5.38</td>\n",
              "      <td>4.96</td>\n",
              "      <td>4.78</td>\n",
              "      <td>5.04</td>\n",
              "    </tr>\n",
              "    <tr>\n",
              "      <th>6</th>\n",
              "      <td>Howard Jimenez</td>\n",
              "      <td>male</td>\n",
              "      <td>group E</td>\n",
              "      <td>some high school</td>\n",
              "      <td>standard</td>\n",
              "      <td>completed</td>\n",
              "      <td>5.86</td>\n",
              "      <td>5.5</td>\n",
              "      <td>5.56</td>\n",
              "      <td>5.64</td>\n",
              "    </tr>\n",
              "    <tr>\n",
              "      <th>7</th>\n",
              "      <td>Wayne Wilson</td>\n",
              "      <td>male</td>\n",
              "      <td>group B</td>\n",
              "      <td>some high school</td>\n",
              "      <td>standard</td>\n",
              "      <td>completed</td>\n",
              "      <td>6.64</td>\n",
              "      <td>6.16</td>\n",
              "      <td>6.22</td>\n",
              "      <td>6.34</td>\n",
              "    </tr>\n",
              "  </tbody>\n",
              "</table>\n",
              "</div>\n",
              "      <button class=\"colab-df-convert\" onclick=\"convertToInteractive('df-2bd1a9b6-d34f-4b79-baba-d5218f50677d')\"\n",
              "              title=\"Convert this dataframe to an interactive table.\"\n",
              "              style=\"display:none;\">\n",
              "        \n",
              "  <svg xmlns=\"http://www.w3.org/2000/svg\" height=\"24px\"viewBox=\"0 0 24 24\"\n",
              "       width=\"24px\">\n",
              "    <path d=\"M0 0h24v24H0V0z\" fill=\"none\"/>\n",
              "    <path d=\"M18.56 5.44l.94 2.06.94-2.06 2.06-.94-2.06-.94-.94-2.06-.94 2.06-2.06.94zm-11 1L8.5 8.5l.94-2.06 2.06-.94-2.06-.94L8.5 2.5l-.94 2.06-2.06.94zm10 10l.94 2.06.94-2.06 2.06-.94-2.06-.94-.94-2.06-.94 2.06-2.06.94z\"/><path d=\"M17.41 7.96l-1.37-1.37c-.4-.4-.92-.59-1.43-.59-.52 0-1.04.2-1.43.59L10.3 9.45l-7.72 7.72c-.78.78-.78 2.05 0 2.83L4 21.41c.39.39.9.59 1.41.59.51 0 1.02-.2 1.41-.59l7.78-7.78 2.81-2.81c.8-.78.8-2.07 0-2.86zM5.41 20L4 18.59l7.72-7.72 1.47 1.35L5.41 20z\"/>\n",
              "  </svg>\n",
              "      </button>\n",
              "      \n",
              "  <style>\n",
              "    .colab-df-container {\n",
              "      display:flex;\n",
              "      flex-wrap:wrap;\n",
              "      gap: 12px;\n",
              "    }\n",
              "\n",
              "    .colab-df-convert {\n",
              "      background-color: #E8F0FE;\n",
              "      border: none;\n",
              "      border-radius: 50%;\n",
              "      cursor: pointer;\n",
              "      display: none;\n",
              "      fill: #1967D2;\n",
              "      height: 32px;\n",
              "      padding: 0 0 0 0;\n",
              "      width: 32px;\n",
              "    }\n",
              "\n",
              "    .colab-df-convert:hover {\n",
              "      background-color: #E2EBFA;\n",
              "      box-shadow: 0px 1px 2px rgba(60, 64, 67, 0.3), 0px 1px 3px 1px rgba(60, 64, 67, 0.15);\n",
              "      fill: #174EA6;\n",
              "    }\n",
              "\n",
              "    [theme=dark] .colab-df-convert {\n",
              "      background-color: #3B4455;\n",
              "      fill: #D2E3FC;\n",
              "    }\n",
              "\n",
              "    [theme=dark] .colab-df-convert:hover {\n",
              "      background-color: #434B5C;\n",
              "      box-shadow: 0px 1px 3px 1px rgba(0, 0, 0, 0.15);\n",
              "      filter: drop-shadow(0px 1px 2px rgba(0, 0, 0, 0.3));\n",
              "      fill: #FFFFFF;\n",
              "    }\n",
              "  </style>\n",
              "\n",
              "      <script>\n",
              "        const buttonEl =\n",
              "          document.querySelector('#df-2bd1a9b6-d34f-4b79-baba-d5218f50677d button.colab-df-convert');\n",
              "        buttonEl.style.display =\n",
              "          google.colab.kernel.accessAllowed ? 'block' : 'none';\n",
              "\n",
              "        async function convertToInteractive(key) {\n",
              "          const element = document.querySelector('#df-2bd1a9b6-d34f-4b79-baba-d5218f50677d');\n",
              "          const dataTable =\n",
              "            await google.colab.kernel.invokeFunction('convertToInteractive',\n",
              "                                                     [key], {});\n",
              "          if (!dataTable) return;\n",
              "\n",
              "          const docLinkHtml = 'Like what you see? Visit the ' +\n",
              "            '<a target=\"_blank\" href=https://colab.research.google.com/notebooks/data_table.ipynb>data table notebook</a>'\n",
              "            + ' to learn more about interactive tables.';\n",
              "          element.innerHTML = '';\n",
              "          dataTable['output_type'] = 'display_data';\n",
              "          await google.colab.output.renderOutput(dataTable, element);\n",
              "          const docLink = document.createElement('div');\n",
              "          docLink.innerHTML = docLinkHtml;\n",
              "          element.appendChild(docLink);\n",
              "        }\n",
              "      </script>\n",
              "    </div>\n",
              "  </div>\n",
              "  "
            ]
          },
          "metadata": {},
          "execution_count": 10
        }
      ]
    },
    {
      "cell_type": "markdown",
      "source": [
        "**Respuesta Esperada:**"
      ],
      "metadata": {
        "id": "hrakfq02Si8z",
        "cell_id": "00042-507bb30d-9670-4be3-9854-1617ba8f2095",
        "deepnote_cell_type": "markdown"
      }
    },
    {
      "cell_type": "code",
      "metadata": {
        "colab": {
          "base_uri": "https://localhost:8080/",
          "height": 204
        },
        "id": "g9Fiwt8USiac",
        "outputId": "1e4da1d8-62d8-41b1-923d-68bfd65bed38",
        "deepnote_to_be_reexecuted": false,
        "source_hash": "55e53e3b",
        "execution_start": 1632493424603,
        "execution_millis": 43,
        "cell_id": "00043-e16930f7-fe82-453a-8e9a-7421732ac929",
        "deepnote_cell_type": "code"
      },
      "source": [
        "df_grades = alumnos_promedio(chile)\n",
        "chile.head()"
      ],
      "execution_count": null,
      "outputs": [
        {
          "output_type": "execute_result",
          "execution_count": 12,
          "data": {
            "application/vnd.deepnote.dataframe.v2+json": {
              "row_count": 5,
              "column_count": 10,
              "columns": [
                {
                  "name": "names",
                  "dtype": "object",
                  "stats": {
                    "unique_count": 5,
                    "nan_count": 0,
                    "categories": [
                      {
                        "name": "Rita Courtney",
                        "count": 1
                      },
                      {
                        "name": "Charles Linstrom",
                        "count": 1
                      },
                      {
                        "name": "3 others",
                        "count": 3
                      }
                    ]
                  }
                },
                {
                  "name": "gender",
                  "dtype": "object",
                  "stats": {
                    "unique_count": 2,
                    "nan_count": 0,
                    "categories": [
                      {
                        "name": "male",
                        "count": 4
                      },
                      {
                        "name": "female",
                        "count": 1
                      }
                    ]
                  }
                },
                {
                  "name": "race/ethnicity",
                  "dtype": "object",
                  "stats": {
                    "unique_count": 4,
                    "nan_count": 0,
                    "categories": [
                      {
                        "name": "group B",
                        "count": 2
                      },
                      {
                        "name": "group A",
                        "count": 1
                      },
                      {
                        "name": "2 others",
                        "count": 2
                      }
                    ]
                  }
                },
                {
                  "name": "parental level of education",
                  "dtype": "object",
                  "stats": {
                    "unique_count": 2,
                    "nan_count": 0,
                    "categories": [
                      {
                        "name": "some high school",
                        "count": 4
                      },
                      {
                        "name": "bachelor's degree",
                        "count": 1
                      }
                    ]
                  }
                },
                {
                  "name": "lunch",
                  "dtype": "object",
                  "stats": {
                    "unique_count": 1,
                    "nan_count": 0,
                    "categories": [
                      {
                        "name": "standard",
                        "count": 5
                      }
                    ]
                  }
                },
                {
                  "name": "test preparation course",
                  "dtype": "object",
                  "stats": {
                    "unique_count": 2,
                    "nan_count": 0,
                    "categories": [
                      {
                        "name": "completed",
                        "count": 3
                      },
                      {
                        "name": "none",
                        "count": 2
                      }
                    ]
                  }
                },
                {
                  "name": "math score",
                  "dtype": "float64",
                  "stats": {
                    "unique_count": 5,
                    "nan_count": 0,
                    "min": "3.22",
                    "max": "6.64",
                    "histogram": [
                      {
                        "bin_start": 3.22,
                        "bin_end": 3.5620000000000003,
                        "count": 1
                      },
                      {
                        "bin_start": 3.5620000000000003,
                        "bin_end": 3.904,
                        "count": 0
                      },
                      {
                        "bin_start": 3.904,
                        "bin_end": 4.246,
                        "count": 0
                      },
                      {
                        "bin_start": 4.246,
                        "bin_end": 4.588,
                        "count": 0
                      },
                      {
                        "bin_start": 4.588,
                        "bin_end": 4.93,
                        "count": 0
                      },
                      {
                        "bin_start": 4.93,
                        "bin_end": 5.272,
                        "count": 0
                      },
                      {
                        "bin_start": 5.272,
                        "bin_end": 5.614,
                        "count": 1
                      },
                      {
                        "bin_start": 5.614,
                        "bin_end": 5.9559999999999995,
                        "count": 2
                      },
                      {
                        "bin_start": 5.9559999999999995,
                        "bin_end": 6.298,
                        "count": 0
                      },
                      {
                        "bin_start": 6.298,
                        "bin_end": 6.64,
                        "count": 1
                      }
                    ]
                  }
                },
                {
                  "name": "reading score",
                  "dtype": "float64",
                  "stats": {
                    "unique_count": 5,
                    "nan_count": 0,
                    "min": "3.76",
                    "max": "6.16",
                    "histogram": [
                      {
                        "bin_start": 3.76,
                        "bin_end": 4,
                        "count": 1
                      },
                      {
                        "bin_start": 4,
                        "bin_end": 4.24,
                        "count": 0
                      },
                      {
                        "bin_start": 4.24,
                        "bin_end": 4.48,
                        "count": 0
                      },
                      {
                        "bin_start": 4.48,
                        "bin_end": 4.72,
                        "count": 0
                      },
                      {
                        "bin_start": 4.72,
                        "bin_end": 4.96,
                        "count": 0
                      },
                      {
                        "bin_start": 4.96,
                        "bin_end": 5.2,
                        "count": 1
                      },
                      {
                        "bin_start": 5.2,
                        "bin_end": 5.44,
                        "count": 0
                      },
                      {
                        "bin_start": 5.44,
                        "bin_end": 5.68,
                        "count": 1
                      },
                      {
                        "bin_start": 5.68,
                        "bin_end": 5.92,
                        "count": 1
                      },
                      {
                        "bin_start": 5.92,
                        "bin_end": 6.16,
                        "count": 1
                      }
                    ]
                  }
                },
                {
                  "name": "writing score",
                  "dtype": "float64",
                  "stats": {
                    "unique_count": 5,
                    "nan_count": 0,
                    "min": "3.76",
                    "max": "6.22",
                    "histogram": [
                      {
                        "bin_start": 3.76,
                        "bin_end": 4.006,
                        "count": 1
                      },
                      {
                        "bin_start": 4.006,
                        "bin_end": 4.252,
                        "count": 0
                      },
                      {
                        "bin_start": 4.252,
                        "bin_end": 4.497999999999999,
                        "count": 0
                      },
                      {
                        "bin_start": 4.497999999999999,
                        "bin_end": 4.744,
                        "count": 0
                      },
                      {
                        "bin_start": 4.744,
                        "bin_end": 4.99,
                        "count": 1
                      },
                      {
                        "bin_start": 4.99,
                        "bin_end": 5.236,
                        "count": 0
                      },
                      {
                        "bin_start": 5.236,
                        "bin_end": 5.481999999999999,
                        "count": 0
                      },
                      {
                        "bin_start": 5.481999999999999,
                        "bin_end": 5.728,
                        "count": 1
                      },
                      {
                        "bin_start": 5.728,
                        "bin_end": 5.974,
                        "count": 1
                      },
                      {
                        "bin_start": 5.974,
                        "bin_end": 6.22,
                        "count": 1
                      }
                    ]
                  }
                },
                {
                  "name": "GPA",
                  "dtype": "float64",
                  "stats": {
                    "unique_count": 5,
                    "nan_count": 0,
                    "min": "3.58",
                    "max": "6.34",
                    "histogram": [
                      {
                        "bin_start": 3.58,
                        "bin_end": 3.856,
                        "count": 1
                      },
                      {
                        "bin_start": 3.856,
                        "bin_end": 4.132,
                        "count": 0
                      },
                      {
                        "bin_start": 4.132,
                        "bin_end": 4.4079999999999995,
                        "count": 0
                      },
                      {
                        "bin_start": 4.4079999999999995,
                        "bin_end": 4.684,
                        "count": 0
                      },
                      {
                        "bin_start": 4.684,
                        "bin_end": 4.96,
                        "count": 0
                      },
                      {
                        "bin_start": 4.96,
                        "bin_end": 5.236,
                        "count": 1
                      },
                      {
                        "bin_start": 5.236,
                        "bin_end": 5.512,
                        "count": 0
                      },
                      {
                        "bin_start": 5.512,
                        "bin_end": 5.788,
                        "count": 2
                      },
                      {
                        "bin_start": 5.788,
                        "bin_end": 6.064,
                        "count": 0
                      },
                      {
                        "bin_start": 6.064,
                        "bin_end": 6.34,
                        "count": 1
                      }
                    ]
                  }
                },
                {
                  "name": "_deepnote_index_column",
                  "dtype": "int64"
                }
              ],
              "rows_top": [
                {
                  "names": "Rita Courtney",
                  "gender": "female",
                  "race/ethnicity": "group B",
                  "parental level of education": "some high school",
                  "lunch": "standard",
                  "test preparation course": "none",
                  "math score": 3.22,
                  "reading score": 3.76,
                  "writing score": 3.76,
                  "GPA": 3.58,
                  "_deepnote_index_column": 0
                },
                {
                  "names": "Charles Linstrom",
                  "gender": "male",
                  "race/ethnicity": "group A",
                  "parental level of education": "bachelor's degree",
                  "lunch": "standard",
                  "test preparation course": "completed",
                  "math score": 5.8,
                  "reading score": 5.68,
                  "writing score": 5.86,
                  "GPA": 5.78,
                  "_deepnote_index_column": 1
                },
                {
                  "names": "Brian Young",
                  "gender": "male",
                  "race/ethnicity": "group C",
                  "parental level of education": "some high school",
                  "lunch": "standard",
                  "test preparation course": "none",
                  "math score": 5.38,
                  "reading score": 4.96,
                  "writing score": 4.78,
                  "GPA": 5.04,
                  "_deepnote_index_column": 2
                },
                {
                  "names": "Howard Jimenez",
                  "gender": "male",
                  "race/ethnicity": "group E",
                  "parental level of education": "some high school",
                  "lunch": "standard",
                  "test preparation course": "completed",
                  "math score": 5.86,
                  "reading score": 5.5,
                  "writing score": 5.56,
                  "GPA": 5.64,
                  "_deepnote_index_column": 3
                },
                {
                  "names": "Wayne Wilson",
                  "gender": "male",
                  "race/ethnicity": "group B",
                  "parental level of education": "some high school",
                  "lunch": "standard",
                  "test preparation course": "completed",
                  "math score": 6.64,
                  "reading score": 6.16,
                  "writing score": 6.22,
                  "GPA": 6.34,
                  "_deepnote_index_column": 4
                }
              ],
              "rows_bottom": null
            },
            "text/plain": "              names  gender race/ethnicity parental level of education  \\\n0     Rita Courtney  female        group B            some high school   \n1  Charles Linstrom    male        group A           bachelor's degree   \n2       Brian Young    male        group C            some high school   \n3    Howard Jimenez    male        group E            some high school   \n4      Wayne Wilson    male        group B            some high school   \n\n      lunch test preparation course  math score  reading score  writing score  \\\n0  standard                    none        3.22           3.76           3.76   \n1  standard               completed        5.80           5.68           5.86   \n2  standard                    none        5.38           4.96           4.78   \n3  standard               completed        5.86           5.50           5.56   \n4  standard               completed        6.64           6.16           6.22   \n\n    GPA  \n0  3.58  \n1  5.78  \n2  5.04  \n3  5.64  \n4  6.34  ",
            "text/html": "<div>\n<style scoped>\n    .dataframe tbody tr th:only-of-type {\n        vertical-align: middle;\n    }\n\n    .dataframe tbody tr th {\n        vertical-align: top;\n    }\n\n    .dataframe thead th {\n        text-align: right;\n    }\n</style>\n<table border=\"1\" class=\"dataframe\">\n  <thead>\n    <tr style=\"text-align: right;\">\n      <th></th>\n      <th>names</th>\n      <th>gender</th>\n      <th>race/ethnicity</th>\n      <th>parental level of education</th>\n      <th>lunch</th>\n      <th>test preparation course</th>\n      <th>math score</th>\n      <th>reading score</th>\n      <th>writing score</th>\n      <th>GPA</th>\n    </tr>\n  </thead>\n  <tbody>\n    <tr>\n      <th>0</th>\n      <td>Rita Courtney</td>\n      <td>female</td>\n      <td>group B</td>\n      <td>some high school</td>\n      <td>standard</td>\n      <td>none</td>\n      <td>3.22</td>\n      <td>3.76</td>\n      <td>3.76</td>\n      <td>3.58</td>\n    </tr>\n    <tr>\n      <th>1</th>\n      <td>Charles Linstrom</td>\n      <td>male</td>\n      <td>group A</td>\n      <td>bachelor's degree</td>\n      <td>standard</td>\n      <td>completed</td>\n      <td>5.80</td>\n      <td>5.68</td>\n      <td>5.86</td>\n      <td>5.78</td>\n    </tr>\n    <tr>\n      <th>2</th>\n      <td>Brian Young</td>\n      <td>male</td>\n      <td>group C</td>\n      <td>some high school</td>\n      <td>standard</td>\n      <td>none</td>\n      <td>5.38</td>\n      <td>4.96</td>\n      <td>4.78</td>\n      <td>5.04</td>\n    </tr>\n    <tr>\n      <th>3</th>\n      <td>Howard Jimenez</td>\n      <td>male</td>\n      <td>group E</td>\n      <td>some high school</td>\n      <td>standard</td>\n      <td>completed</td>\n      <td>5.86</td>\n      <td>5.50</td>\n      <td>5.56</td>\n      <td>5.64</td>\n    </tr>\n    <tr>\n      <th>4</th>\n      <td>Wayne Wilson</td>\n      <td>male</td>\n      <td>group B</td>\n      <td>some high school</td>\n      <td>standard</td>\n      <td>completed</td>\n      <td>6.64</td>\n      <td>6.16</td>\n      <td>6.22</td>\n      <td>6.34</td>\n    </tr>\n  </tbody>\n</table>\n</div>"
          },
          "metadata": {}
        }
      ]
    },
    {
      "cell_type": "markdown",
      "source": [
        "### 1.3.3 Reprobados y Destacados [1.5 Punto, 0.5 Cada DataFrame]"
      ],
      "metadata": {
        "id": "uA0ZXAWyBoLX",
        "cell_id": "00044-362969a2-b0d5-4d45-a6f1-0293e36c0417",
        "deepnote_cell_type": "markdown"
      }
    },
    {
      "cell_type": "markdown",
      "source": [
        "Contentos con su desempeño, la Universidad les solicita que obtengan los alumnos quienes han reprobado el año y los que han tenido desempeño de destacado. Para esto se considerará que un alumno ha reprobado el año cuando el promedio de notas es inferior a 4.0 en la Escala Chilena, y se considerará destacado si posee notas superiores a 5.8 en todas las asignaturas (o sea notas superiores a 5.8 en `math score`, `reading score` y `writing score`).\n",
        "\n",
        "Cree una función que permita obtener tres Dataframes: \n",
        "- El primero deberá poseer solamente los alumnos que han reprobado en la prestigiosa universidad.\n",
        "- El segundo debe entregar un DataFrame similar al original, pero marcado con una \"R\" el promedio de notas de los alumnos reprobados.\n",
        "- El tercero será un Data Frame con los alumnos destacados ordenados de mayor a menor.\n",
        "\n",
        "**To-Do:**\n",
        "\n",
        "- [ ] Obtener DataFrame con los alumnos que reprobaron el año.\n",
        "- [ ] Obtener DataFrame similar al original, pero marcados con una \"R\" el atributo GPA de los alumnos reprobados.\n",
        "- [ ] Obtener DataFrame con los alumnos destacados ordenados de mayor a menor."
      ],
      "metadata": {
        "id": "k1FKahC3_g5_",
        "cell_id": "00045-7514bdf0-01ec-4c0a-83d1-12a2a8c8d3c3",
        "deepnote_cell_type": "markdown"
      }
    },
    {
      "cell_type": "markdown",
      "source": [
        "**Respuesta:**"
      ],
      "metadata": {
        "tags": [],
        "cell_id": "00046-8337183c-cd19-4dc0-b936-9dadeda8418e",
        "deepnote_cell_type": "markdown",
        "id": "m1gAlyiIyZli"
      }
    },
    {
      "cell_type": "code",
      "source": [
        "def reprobados(dataframe):\n",
        "    df = dataframe.copy()\n",
        "    df1 = df[df['promedio'] < 4].copy()\n",
        "    return df1\n",
        "\n",
        "def reprobados_identificados(dataframe):\n",
        "    df = dataframe.copy()\n",
        "    df.loc[df['promedio'] < 4, 'promedio'] = 'R'\n",
        "    return df\n",
        "\n",
        "def destacados(dataframe):\n",
        "    df = dataframe.copy()\n",
        "    df3 = df[df['promedio'] > 5.80].sort_values('promedio',ascending = False)\n",
        "    return df3"
      ],
      "metadata": {
        "id": "BvvrxfFe0Szm"
      },
      "execution_count": 20,
      "outputs": []
    },
    {
      "cell_type": "code",
      "metadata": {
        "colab": {
          "base_uri": "https://localhost:8080/",
          "height": 424
        },
        "id": "LlxNXK11XBGn",
        "outputId": "1221669d-5b32-4e9d-90c9-679be688620e",
        "deepnote_to_be_reexecuted": false,
        "source_hash": "73b6de2",
        "execution_start": 1632493424642,
        "execution_millis": 69,
        "cell_id": "00048-58c77591-f1eb-4497-af40-252bcc9ed099",
        "deepnote_cell_type": "code"
      },
      "source": [
        "dataframe1 = reprobados(df_grades)\n",
        "dataframe1"
      ],
      "execution_count": 21,
      "outputs": [
        {
          "output_type": "execute_result",
          "data": {
            "text/plain": [
              "                names  gender race/ethnicity parental level of education  \\\n",
              "0       Rita Courtney  female        group B            some high school   \n",
              "13        Mikki Amaya  female        group A                 high school   \n",
              "26      Samuel Dougal    male        group C             master's degree   \n",
              "55    Rodger Talavera    male        group B                 high school   \n",
              "63     Morris Johnson    male        group A          associate's degree   \n",
              "...               ...     ...            ...                         ...   \n",
              "1371   Charles Harian    male        group C            some high school   \n",
              "1373    Wendy Gunnell  female        group D            some high school   \n",
              "1389      Diana Costa  female        group C                 high school   \n",
              "1391      Amy Sieving  female        group C                 high school   \n",
              "1394    Wanda Russell  female        group B                 high school   \n",
              "\n",
              "             lunch test preparation course math score reading score  \\\n",
              "0         standard                    none       3.22          3.76   \n",
              "13    free/reduced               completed       3.04          3.88   \n",
              "26    free/reduced               completed       3.76          3.52   \n",
              "55    free/reduced                    none       3.16          2.74   \n",
              "63    free/reduced               completed        3.4           4.3   \n",
              "...            ...                     ...        ...           ...   \n",
              "1371  free/reduced               completed        3.7          4.12   \n",
              "1373  free/reduced                    none       2.62          3.04   \n",
              "1389  free/reduced                    none       3.46          3.76   \n",
              "1391      standard                    none       2.74          2.74   \n",
              "1394  free/reduced               completed       2.38          3.64   \n",
              "\n",
              "     writing score  promedio  \n",
              "0             3.76      3.58  \n",
              "13            3.46      3.46  \n",
              "26            3.76      3.68  \n",
              "55            2.62      2.84  \n",
              "63            4.18      3.96  \n",
              "...            ...       ...  \n",
              "1371          3.94      3.92  \n",
              "1373          2.92      2.86  \n",
              "1389          3.58      3.60  \n",
              "1391           2.8      2.76  \n",
              "1394          3.16      3.06  \n",
              "\n",
              "[106 rows x 10 columns]"
            ],
            "text/html": [
              "\n",
              "  <div id=\"df-90159c89-ed95-402e-bfed-af97e99764c9\">\n",
              "    <div class=\"colab-df-container\">\n",
              "      <div>\n",
              "<style scoped>\n",
              "    .dataframe tbody tr th:only-of-type {\n",
              "        vertical-align: middle;\n",
              "    }\n",
              "\n",
              "    .dataframe tbody tr th {\n",
              "        vertical-align: top;\n",
              "    }\n",
              "\n",
              "    .dataframe thead th {\n",
              "        text-align: right;\n",
              "    }\n",
              "</style>\n",
              "<table border=\"1\" class=\"dataframe\">\n",
              "  <thead>\n",
              "    <tr style=\"text-align: right;\">\n",
              "      <th></th>\n",
              "      <th>names</th>\n",
              "      <th>gender</th>\n",
              "      <th>race/ethnicity</th>\n",
              "      <th>parental level of education</th>\n",
              "      <th>lunch</th>\n",
              "      <th>test preparation course</th>\n",
              "      <th>math score</th>\n",
              "      <th>reading score</th>\n",
              "      <th>writing score</th>\n",
              "      <th>promedio</th>\n",
              "    </tr>\n",
              "  </thead>\n",
              "  <tbody>\n",
              "    <tr>\n",
              "      <th>0</th>\n",
              "      <td>Rita Courtney</td>\n",
              "      <td>female</td>\n",
              "      <td>group B</td>\n",
              "      <td>some high school</td>\n",
              "      <td>standard</td>\n",
              "      <td>none</td>\n",
              "      <td>3.22</td>\n",
              "      <td>3.76</td>\n",
              "      <td>3.76</td>\n",
              "      <td>3.58</td>\n",
              "    </tr>\n",
              "    <tr>\n",
              "      <th>13</th>\n",
              "      <td>Mikki Amaya</td>\n",
              "      <td>female</td>\n",
              "      <td>group A</td>\n",
              "      <td>high school</td>\n",
              "      <td>free/reduced</td>\n",
              "      <td>completed</td>\n",
              "      <td>3.04</td>\n",
              "      <td>3.88</td>\n",
              "      <td>3.46</td>\n",
              "      <td>3.46</td>\n",
              "    </tr>\n",
              "    <tr>\n",
              "      <th>26</th>\n",
              "      <td>Samuel Dougal</td>\n",
              "      <td>male</td>\n",
              "      <td>group C</td>\n",
              "      <td>master's degree</td>\n",
              "      <td>free/reduced</td>\n",
              "      <td>completed</td>\n",
              "      <td>3.76</td>\n",
              "      <td>3.52</td>\n",
              "      <td>3.76</td>\n",
              "      <td>3.68</td>\n",
              "    </tr>\n",
              "    <tr>\n",
              "      <th>55</th>\n",
              "      <td>Rodger Talavera</td>\n",
              "      <td>male</td>\n",
              "      <td>group B</td>\n",
              "      <td>high school</td>\n",
              "      <td>free/reduced</td>\n",
              "      <td>none</td>\n",
              "      <td>3.16</td>\n",
              "      <td>2.74</td>\n",
              "      <td>2.62</td>\n",
              "      <td>2.84</td>\n",
              "    </tr>\n",
              "    <tr>\n",
              "      <th>63</th>\n",
              "      <td>Morris Johnson</td>\n",
              "      <td>male</td>\n",
              "      <td>group A</td>\n",
              "      <td>associate's degree</td>\n",
              "      <td>free/reduced</td>\n",
              "      <td>completed</td>\n",
              "      <td>3.4</td>\n",
              "      <td>4.3</td>\n",
              "      <td>4.18</td>\n",
              "      <td>3.96</td>\n",
              "    </tr>\n",
              "    <tr>\n",
              "      <th>...</th>\n",
              "      <td>...</td>\n",
              "      <td>...</td>\n",
              "      <td>...</td>\n",
              "      <td>...</td>\n",
              "      <td>...</td>\n",
              "      <td>...</td>\n",
              "      <td>...</td>\n",
              "      <td>...</td>\n",
              "      <td>...</td>\n",
              "      <td>...</td>\n",
              "    </tr>\n",
              "    <tr>\n",
              "      <th>1371</th>\n",
              "      <td>Charles Harian</td>\n",
              "      <td>male</td>\n",
              "      <td>group C</td>\n",
              "      <td>some high school</td>\n",
              "      <td>free/reduced</td>\n",
              "      <td>completed</td>\n",
              "      <td>3.7</td>\n",
              "      <td>4.12</td>\n",
              "      <td>3.94</td>\n",
              "      <td>3.92</td>\n",
              "    </tr>\n",
              "    <tr>\n",
              "      <th>1373</th>\n",
              "      <td>Wendy Gunnell</td>\n",
              "      <td>female</td>\n",
              "      <td>group D</td>\n",
              "      <td>some high school</td>\n",
              "      <td>free/reduced</td>\n",
              "      <td>none</td>\n",
              "      <td>2.62</td>\n",
              "      <td>3.04</td>\n",
              "      <td>2.92</td>\n",
              "      <td>2.86</td>\n",
              "    </tr>\n",
              "    <tr>\n",
              "      <th>1389</th>\n",
              "      <td>Diana Costa</td>\n",
              "      <td>female</td>\n",
              "      <td>group C</td>\n",
              "      <td>high school</td>\n",
              "      <td>free/reduced</td>\n",
              "      <td>none</td>\n",
              "      <td>3.46</td>\n",
              "      <td>3.76</td>\n",
              "      <td>3.58</td>\n",
              "      <td>3.60</td>\n",
              "    </tr>\n",
              "    <tr>\n",
              "      <th>1391</th>\n",
              "      <td>Amy Sieving</td>\n",
              "      <td>female</td>\n",
              "      <td>group C</td>\n",
              "      <td>high school</td>\n",
              "      <td>standard</td>\n",
              "      <td>none</td>\n",
              "      <td>2.74</td>\n",
              "      <td>2.74</td>\n",
              "      <td>2.8</td>\n",
              "      <td>2.76</td>\n",
              "    </tr>\n",
              "    <tr>\n",
              "      <th>1394</th>\n",
              "      <td>Wanda Russell</td>\n",
              "      <td>female</td>\n",
              "      <td>group B</td>\n",
              "      <td>high school</td>\n",
              "      <td>free/reduced</td>\n",
              "      <td>completed</td>\n",
              "      <td>2.38</td>\n",
              "      <td>3.64</td>\n",
              "      <td>3.16</td>\n",
              "      <td>3.06</td>\n",
              "    </tr>\n",
              "  </tbody>\n",
              "</table>\n",
              "<p>106 rows × 10 columns</p>\n",
              "</div>\n",
              "      <button class=\"colab-df-convert\" onclick=\"convertToInteractive('df-90159c89-ed95-402e-bfed-af97e99764c9')\"\n",
              "              title=\"Convert this dataframe to an interactive table.\"\n",
              "              style=\"display:none;\">\n",
              "        \n",
              "  <svg xmlns=\"http://www.w3.org/2000/svg\" height=\"24px\"viewBox=\"0 0 24 24\"\n",
              "       width=\"24px\">\n",
              "    <path d=\"M0 0h24v24H0V0z\" fill=\"none\"/>\n",
              "    <path d=\"M18.56 5.44l.94 2.06.94-2.06 2.06-.94-2.06-.94-.94-2.06-.94 2.06-2.06.94zm-11 1L8.5 8.5l.94-2.06 2.06-.94-2.06-.94L8.5 2.5l-.94 2.06-2.06.94zm10 10l.94 2.06.94-2.06 2.06-.94-2.06-.94-.94-2.06-.94 2.06-2.06.94z\"/><path d=\"M17.41 7.96l-1.37-1.37c-.4-.4-.92-.59-1.43-.59-.52 0-1.04.2-1.43.59L10.3 9.45l-7.72 7.72c-.78.78-.78 2.05 0 2.83L4 21.41c.39.39.9.59 1.41.59.51 0 1.02-.2 1.41-.59l7.78-7.78 2.81-2.81c.8-.78.8-2.07 0-2.86zM5.41 20L4 18.59l7.72-7.72 1.47 1.35L5.41 20z\"/>\n",
              "  </svg>\n",
              "      </button>\n",
              "      \n",
              "  <style>\n",
              "    .colab-df-container {\n",
              "      display:flex;\n",
              "      flex-wrap:wrap;\n",
              "      gap: 12px;\n",
              "    }\n",
              "\n",
              "    .colab-df-convert {\n",
              "      background-color: #E8F0FE;\n",
              "      border: none;\n",
              "      border-radius: 50%;\n",
              "      cursor: pointer;\n",
              "      display: none;\n",
              "      fill: #1967D2;\n",
              "      height: 32px;\n",
              "      padding: 0 0 0 0;\n",
              "      width: 32px;\n",
              "    }\n",
              "\n",
              "    .colab-df-convert:hover {\n",
              "      background-color: #E2EBFA;\n",
              "      box-shadow: 0px 1px 2px rgba(60, 64, 67, 0.3), 0px 1px 3px 1px rgba(60, 64, 67, 0.15);\n",
              "      fill: #174EA6;\n",
              "    }\n",
              "\n",
              "    [theme=dark] .colab-df-convert {\n",
              "      background-color: #3B4455;\n",
              "      fill: #D2E3FC;\n",
              "    }\n",
              "\n",
              "    [theme=dark] .colab-df-convert:hover {\n",
              "      background-color: #434B5C;\n",
              "      box-shadow: 0px 1px 3px 1px rgba(0, 0, 0, 0.15);\n",
              "      filter: drop-shadow(0px 1px 2px rgba(0, 0, 0, 0.3));\n",
              "      fill: #FFFFFF;\n",
              "    }\n",
              "  </style>\n",
              "\n",
              "      <script>\n",
              "        const buttonEl =\n",
              "          document.querySelector('#df-90159c89-ed95-402e-bfed-af97e99764c9 button.colab-df-convert');\n",
              "        buttonEl.style.display =\n",
              "          google.colab.kernel.accessAllowed ? 'block' : 'none';\n",
              "\n",
              "        async function convertToInteractive(key) {\n",
              "          const element = document.querySelector('#df-90159c89-ed95-402e-bfed-af97e99764c9');\n",
              "          const dataTable =\n",
              "            await google.colab.kernel.invokeFunction('convertToInteractive',\n",
              "                                                     [key], {});\n",
              "          if (!dataTable) return;\n",
              "\n",
              "          const docLinkHtml = 'Like what you see? Visit the ' +\n",
              "            '<a target=\"_blank\" href=https://colab.research.google.com/notebooks/data_table.ipynb>data table notebook</a>'\n",
              "            + ' to learn more about interactive tables.';\n",
              "          element.innerHTML = '';\n",
              "          dataTable['output_type'] = 'display_data';\n",
              "          await google.colab.output.renderOutput(dataTable, element);\n",
              "          const docLink = document.createElement('div');\n",
              "          docLink.innerHTML = docLinkHtml;\n",
              "          element.appendChild(docLink);\n",
              "        }\n",
              "      </script>\n",
              "    </div>\n",
              "  </div>\n",
              "  "
            ]
          },
          "metadata": {},
          "execution_count": 21
        }
      ]
    },
    {
      "cell_type": "code",
      "metadata": {
        "colab": {
          "base_uri": "https://localhost:8080/",
          "height": 424
        },
        "id": "tpG_2VzNEpf7",
        "outputId": "79b41af0-6d6b-4bea-ff7c-ef2ead6d123e",
        "deepnote_to_be_reexecuted": false,
        "source_hash": "6205a86b",
        "execution_start": 1632493424700,
        "execution_millis": 67,
        "cell_id": "00049-8240c0ec-b1ea-41d3-8b5e-4970d3ef59dc",
        "deepnote_cell_type": "code"
      },
      "source": [
        "dataframe2 = reprobados_identificados(df_grades)\n",
        "dataframe2"
      ],
      "execution_count": 22,
      "outputs": [
        {
          "output_type": "execute_result",
          "data": {
            "text/plain": [
              "                 names  gender race/ethnicity parental level of education  \\\n",
              "0        Rita Courtney  female        group B            some high school   \n",
              "3     Charles Linstrom    male        group A           bachelor's degree   \n",
              "5          Brian Young    male        group C            some high school   \n",
              "6       Howard Jimenez    male        group E            some high school   \n",
              "7         Wayne Wilson    male        group B            some high school   \n",
              "...                ...     ...            ...                         ...   \n",
              "1392     Richard Young    male        group D                 high school   \n",
              "1394     Wanda Russell  female        group B                 high school   \n",
              "1396    Marina Zeigler  female        group C           bachelor's degree   \n",
              "1397     Laurie Carter  female        group B            some high school   \n",
              "1399      Amanda Perez  female        group A                 high school   \n",
              "\n",
              "             lunch test preparation course math score reading score  \\\n",
              "0         standard                    none       3.22          3.76   \n",
              "3         standard               completed        5.8          5.68   \n",
              "5         standard                    none       5.38          4.96   \n",
              "6         standard               completed       5.86           5.5   \n",
              "7         standard               completed       6.64          6.16   \n",
              "...            ...                     ...        ...           ...   \n",
              "1392      standard                    none       5.14           5.5   \n",
              "1394  free/reduced               completed       2.38          3.64   \n",
              "1396  free/reduced               completed       4.96          5.44   \n",
              "1397      standard               completed       4.24          4.66   \n",
              "1399      standard               completed       5.08           5.8   \n",
              "\n",
              "     writing score promedio  \n",
              "0             3.76        R  \n",
              "3             5.86     5.78  \n",
              "5             4.78     5.04  \n",
              "6             5.56     5.64  \n",
              "7             6.22     6.34  \n",
              "...            ...      ...  \n",
              "1392          5.26      5.3  \n",
              "1394          3.16        R  \n",
              "1396          5.86     5.42  \n",
              "1397          4.72     4.54  \n",
              "1399          5.56     5.48  \n",
              "\n",
              "[1003 rows x 10 columns]"
            ],
            "text/html": [
              "\n",
              "  <div id=\"df-a79a5221-1d77-47b8-bd12-4d18bd8e722c\">\n",
              "    <div class=\"colab-df-container\">\n",
              "      <div>\n",
              "<style scoped>\n",
              "    .dataframe tbody tr th:only-of-type {\n",
              "        vertical-align: middle;\n",
              "    }\n",
              "\n",
              "    .dataframe tbody tr th {\n",
              "        vertical-align: top;\n",
              "    }\n",
              "\n",
              "    .dataframe thead th {\n",
              "        text-align: right;\n",
              "    }\n",
              "</style>\n",
              "<table border=\"1\" class=\"dataframe\">\n",
              "  <thead>\n",
              "    <tr style=\"text-align: right;\">\n",
              "      <th></th>\n",
              "      <th>names</th>\n",
              "      <th>gender</th>\n",
              "      <th>race/ethnicity</th>\n",
              "      <th>parental level of education</th>\n",
              "      <th>lunch</th>\n",
              "      <th>test preparation course</th>\n",
              "      <th>math score</th>\n",
              "      <th>reading score</th>\n",
              "      <th>writing score</th>\n",
              "      <th>promedio</th>\n",
              "    </tr>\n",
              "  </thead>\n",
              "  <tbody>\n",
              "    <tr>\n",
              "      <th>0</th>\n",
              "      <td>Rita Courtney</td>\n",
              "      <td>female</td>\n",
              "      <td>group B</td>\n",
              "      <td>some high school</td>\n",
              "      <td>standard</td>\n",
              "      <td>none</td>\n",
              "      <td>3.22</td>\n",
              "      <td>3.76</td>\n",
              "      <td>3.76</td>\n",
              "      <td>R</td>\n",
              "    </tr>\n",
              "    <tr>\n",
              "      <th>3</th>\n",
              "      <td>Charles Linstrom</td>\n",
              "      <td>male</td>\n",
              "      <td>group A</td>\n",
              "      <td>bachelor's degree</td>\n",
              "      <td>standard</td>\n",
              "      <td>completed</td>\n",
              "      <td>5.8</td>\n",
              "      <td>5.68</td>\n",
              "      <td>5.86</td>\n",
              "      <td>5.78</td>\n",
              "    </tr>\n",
              "    <tr>\n",
              "      <th>5</th>\n",
              "      <td>Brian Young</td>\n",
              "      <td>male</td>\n",
              "      <td>group C</td>\n",
              "      <td>some high school</td>\n",
              "      <td>standard</td>\n",
              "      <td>none</td>\n",
              "      <td>5.38</td>\n",
              "      <td>4.96</td>\n",
              "      <td>4.78</td>\n",
              "      <td>5.04</td>\n",
              "    </tr>\n",
              "    <tr>\n",
              "      <th>6</th>\n",
              "      <td>Howard Jimenez</td>\n",
              "      <td>male</td>\n",
              "      <td>group E</td>\n",
              "      <td>some high school</td>\n",
              "      <td>standard</td>\n",
              "      <td>completed</td>\n",
              "      <td>5.86</td>\n",
              "      <td>5.5</td>\n",
              "      <td>5.56</td>\n",
              "      <td>5.64</td>\n",
              "    </tr>\n",
              "    <tr>\n",
              "      <th>7</th>\n",
              "      <td>Wayne Wilson</td>\n",
              "      <td>male</td>\n",
              "      <td>group B</td>\n",
              "      <td>some high school</td>\n",
              "      <td>standard</td>\n",
              "      <td>completed</td>\n",
              "      <td>6.64</td>\n",
              "      <td>6.16</td>\n",
              "      <td>6.22</td>\n",
              "      <td>6.34</td>\n",
              "    </tr>\n",
              "    <tr>\n",
              "      <th>...</th>\n",
              "      <td>...</td>\n",
              "      <td>...</td>\n",
              "      <td>...</td>\n",
              "      <td>...</td>\n",
              "      <td>...</td>\n",
              "      <td>...</td>\n",
              "      <td>...</td>\n",
              "      <td>...</td>\n",
              "      <td>...</td>\n",
              "      <td>...</td>\n",
              "    </tr>\n",
              "    <tr>\n",
              "      <th>1392</th>\n",
              "      <td>Richard Young</td>\n",
              "      <td>male</td>\n",
              "      <td>group D</td>\n",
              "      <td>high school</td>\n",
              "      <td>standard</td>\n",
              "      <td>none</td>\n",
              "      <td>5.14</td>\n",
              "      <td>5.5</td>\n",
              "      <td>5.26</td>\n",
              "      <td>5.3</td>\n",
              "    </tr>\n",
              "    <tr>\n",
              "      <th>1394</th>\n",
              "      <td>Wanda Russell</td>\n",
              "      <td>female</td>\n",
              "      <td>group B</td>\n",
              "      <td>high school</td>\n",
              "      <td>free/reduced</td>\n",
              "      <td>completed</td>\n",
              "      <td>2.38</td>\n",
              "      <td>3.64</td>\n",
              "      <td>3.16</td>\n",
              "      <td>R</td>\n",
              "    </tr>\n",
              "    <tr>\n",
              "      <th>1396</th>\n",
              "      <td>Marina Zeigler</td>\n",
              "      <td>female</td>\n",
              "      <td>group C</td>\n",
              "      <td>bachelor's degree</td>\n",
              "      <td>free/reduced</td>\n",
              "      <td>completed</td>\n",
              "      <td>4.96</td>\n",
              "      <td>5.44</td>\n",
              "      <td>5.86</td>\n",
              "      <td>5.42</td>\n",
              "    </tr>\n",
              "    <tr>\n",
              "      <th>1397</th>\n",
              "      <td>Laurie Carter</td>\n",
              "      <td>female</td>\n",
              "      <td>group B</td>\n",
              "      <td>some high school</td>\n",
              "      <td>standard</td>\n",
              "      <td>completed</td>\n",
              "      <td>4.24</td>\n",
              "      <td>4.66</td>\n",
              "      <td>4.72</td>\n",
              "      <td>4.54</td>\n",
              "    </tr>\n",
              "    <tr>\n",
              "      <th>1399</th>\n",
              "      <td>Amanda Perez</td>\n",
              "      <td>female</td>\n",
              "      <td>group A</td>\n",
              "      <td>high school</td>\n",
              "      <td>standard</td>\n",
              "      <td>completed</td>\n",
              "      <td>5.08</td>\n",
              "      <td>5.8</td>\n",
              "      <td>5.56</td>\n",
              "      <td>5.48</td>\n",
              "    </tr>\n",
              "  </tbody>\n",
              "</table>\n",
              "<p>1003 rows × 10 columns</p>\n",
              "</div>\n",
              "      <button class=\"colab-df-convert\" onclick=\"convertToInteractive('df-a79a5221-1d77-47b8-bd12-4d18bd8e722c')\"\n",
              "              title=\"Convert this dataframe to an interactive table.\"\n",
              "              style=\"display:none;\">\n",
              "        \n",
              "  <svg xmlns=\"http://www.w3.org/2000/svg\" height=\"24px\"viewBox=\"0 0 24 24\"\n",
              "       width=\"24px\">\n",
              "    <path d=\"M0 0h24v24H0V0z\" fill=\"none\"/>\n",
              "    <path d=\"M18.56 5.44l.94 2.06.94-2.06 2.06-.94-2.06-.94-.94-2.06-.94 2.06-2.06.94zm-11 1L8.5 8.5l.94-2.06 2.06-.94-2.06-.94L8.5 2.5l-.94 2.06-2.06.94zm10 10l.94 2.06.94-2.06 2.06-.94-2.06-.94-.94-2.06-.94 2.06-2.06.94z\"/><path d=\"M17.41 7.96l-1.37-1.37c-.4-.4-.92-.59-1.43-.59-.52 0-1.04.2-1.43.59L10.3 9.45l-7.72 7.72c-.78.78-.78 2.05 0 2.83L4 21.41c.39.39.9.59 1.41.59.51 0 1.02-.2 1.41-.59l7.78-7.78 2.81-2.81c.8-.78.8-2.07 0-2.86zM5.41 20L4 18.59l7.72-7.72 1.47 1.35L5.41 20z\"/>\n",
              "  </svg>\n",
              "      </button>\n",
              "      \n",
              "  <style>\n",
              "    .colab-df-container {\n",
              "      display:flex;\n",
              "      flex-wrap:wrap;\n",
              "      gap: 12px;\n",
              "    }\n",
              "\n",
              "    .colab-df-convert {\n",
              "      background-color: #E8F0FE;\n",
              "      border: none;\n",
              "      border-radius: 50%;\n",
              "      cursor: pointer;\n",
              "      display: none;\n",
              "      fill: #1967D2;\n",
              "      height: 32px;\n",
              "      padding: 0 0 0 0;\n",
              "      width: 32px;\n",
              "    }\n",
              "\n",
              "    .colab-df-convert:hover {\n",
              "      background-color: #E2EBFA;\n",
              "      box-shadow: 0px 1px 2px rgba(60, 64, 67, 0.3), 0px 1px 3px 1px rgba(60, 64, 67, 0.15);\n",
              "      fill: #174EA6;\n",
              "    }\n",
              "\n",
              "    [theme=dark] .colab-df-convert {\n",
              "      background-color: #3B4455;\n",
              "      fill: #D2E3FC;\n",
              "    }\n",
              "\n",
              "    [theme=dark] .colab-df-convert:hover {\n",
              "      background-color: #434B5C;\n",
              "      box-shadow: 0px 1px 3px 1px rgba(0, 0, 0, 0.15);\n",
              "      filter: drop-shadow(0px 1px 2px rgba(0, 0, 0, 0.3));\n",
              "      fill: #FFFFFF;\n",
              "    }\n",
              "  </style>\n",
              "\n",
              "      <script>\n",
              "        const buttonEl =\n",
              "          document.querySelector('#df-a79a5221-1d77-47b8-bd12-4d18bd8e722c button.colab-df-convert');\n",
              "        buttonEl.style.display =\n",
              "          google.colab.kernel.accessAllowed ? 'block' : 'none';\n",
              "\n",
              "        async function convertToInteractive(key) {\n",
              "          const element = document.querySelector('#df-a79a5221-1d77-47b8-bd12-4d18bd8e722c');\n",
              "          const dataTable =\n",
              "            await google.colab.kernel.invokeFunction('convertToInteractive',\n",
              "                                                     [key], {});\n",
              "          if (!dataTable) return;\n",
              "\n",
              "          const docLinkHtml = 'Like what you see? Visit the ' +\n",
              "            '<a target=\"_blank\" href=https://colab.research.google.com/notebooks/data_table.ipynb>data table notebook</a>'\n",
              "            + ' to learn more about interactive tables.';\n",
              "          element.innerHTML = '';\n",
              "          dataTable['output_type'] = 'display_data';\n",
              "          await google.colab.output.renderOutput(dataTable, element);\n",
              "          const docLink = document.createElement('div');\n",
              "          docLink.innerHTML = docLinkHtml;\n",
              "          element.appendChild(docLink);\n",
              "        }\n",
              "      </script>\n",
              "    </div>\n",
              "  </div>\n",
              "  "
            ]
          },
          "metadata": {},
          "execution_count": 22
        }
      ]
    },
    {
      "cell_type": "code",
      "metadata": {
        "tags": [],
        "deepnote_to_be_reexecuted": false,
        "source_hash": "142d1b25",
        "execution_start": 1632493424750,
        "execution_millis": 44,
        "cell_id": "00050-19596313-6c35-480a-b2e2-0e17df76f2b9",
        "deepnote_cell_type": "code",
        "colab": {
          "base_uri": "https://localhost:8080/",
          "height": 424
        },
        "id": "ADMmKBEDyZlj",
        "outputId": "034c977a-c252-42ff-d1f9-f1ea00e8a8ae"
      },
      "source": [
        "dataframe3 = destacados(df_grades)\n",
        "dataframe3"
      ],
      "execution_count": 23,
      "outputs": [
        {
          "output_type": "execute_result",
          "data": {
            "text/plain": [
              "                  names  gender race/ethnicity parental level of education  \\\n",
              "677       Richard Pryor    male        group E           bachelor's degree   \n",
              "1352      Sandra Pompey  female        group E          associate's degree   \n",
              "384   Elizabeth Beasley  female        group E           bachelor's degree   \n",
              "475           Emma Gray  female        group E           bachelor's degree   \n",
              "279        Emma Brasher  female        group D            some high school   \n",
              "...                 ...     ...            ...                         ...   \n",
              "317       Frankie Malan    male        group D          associate's degree   \n",
              "726    Anthony Anderson    male        group D                 high school   \n",
              "538    Matthew Thompson    male        group E            some high school   \n",
              "455     Osvaldo Barraza    male        group D            some high school   \n",
              "1216       Robert Beard    male        group C                some college   \n",
              "\n",
              "             lunch test preparation course math score reading score  \\\n",
              "677       standard               completed        7.0           7.0   \n",
              "1352      standard                    none        7.0           7.0   \n",
              "384       standard                    none        7.0           7.0   \n",
              "475       standard               completed       6.94           7.0   \n",
              "279       standard               completed       6.82           7.0   \n",
              "...            ...                     ...        ...           ...   \n",
              "317   free/reduced               completed       5.74          5.92   \n",
              "726       standard                    none       6.28          5.68   \n",
              "538   free/reduced               completed       5.68          5.98   \n",
              "455       standard                    none       6.16           5.8   \n",
              "1216      standard                    none       6.46          5.44   \n",
              "\n",
              "     writing score  promedio  \n",
              "677            7.0      7.00  \n",
              "1352           7.0      7.00  \n",
              "384            7.0      7.00  \n",
              "475            7.0      6.98  \n",
              "279            7.0      6.94  \n",
              "...            ...       ...  \n",
              "317            5.8      5.82  \n",
              "726            5.5      5.82  \n",
              "538            5.8      5.82  \n",
              "455            5.5      5.82  \n",
              "1216          5.56      5.82  \n",
              "\n",
              "[194 rows x 10 columns]"
            ],
            "text/html": [
              "\n",
              "  <div id=\"df-2873dc8c-f34b-41c8-9019-b2115cbd1458\">\n",
              "    <div class=\"colab-df-container\">\n",
              "      <div>\n",
              "<style scoped>\n",
              "    .dataframe tbody tr th:only-of-type {\n",
              "        vertical-align: middle;\n",
              "    }\n",
              "\n",
              "    .dataframe tbody tr th {\n",
              "        vertical-align: top;\n",
              "    }\n",
              "\n",
              "    .dataframe thead th {\n",
              "        text-align: right;\n",
              "    }\n",
              "</style>\n",
              "<table border=\"1\" class=\"dataframe\">\n",
              "  <thead>\n",
              "    <tr style=\"text-align: right;\">\n",
              "      <th></th>\n",
              "      <th>names</th>\n",
              "      <th>gender</th>\n",
              "      <th>race/ethnicity</th>\n",
              "      <th>parental level of education</th>\n",
              "      <th>lunch</th>\n",
              "      <th>test preparation course</th>\n",
              "      <th>math score</th>\n",
              "      <th>reading score</th>\n",
              "      <th>writing score</th>\n",
              "      <th>promedio</th>\n",
              "    </tr>\n",
              "  </thead>\n",
              "  <tbody>\n",
              "    <tr>\n",
              "      <th>677</th>\n",
              "      <td>Richard Pryor</td>\n",
              "      <td>male</td>\n",
              "      <td>group E</td>\n",
              "      <td>bachelor's degree</td>\n",
              "      <td>standard</td>\n",
              "      <td>completed</td>\n",
              "      <td>7.0</td>\n",
              "      <td>7.0</td>\n",
              "      <td>7.0</td>\n",
              "      <td>7.00</td>\n",
              "    </tr>\n",
              "    <tr>\n",
              "      <th>1352</th>\n",
              "      <td>Sandra Pompey</td>\n",
              "      <td>female</td>\n",
              "      <td>group E</td>\n",
              "      <td>associate's degree</td>\n",
              "      <td>standard</td>\n",
              "      <td>none</td>\n",
              "      <td>7.0</td>\n",
              "      <td>7.0</td>\n",
              "      <td>7.0</td>\n",
              "      <td>7.00</td>\n",
              "    </tr>\n",
              "    <tr>\n",
              "      <th>384</th>\n",
              "      <td>Elizabeth Beasley</td>\n",
              "      <td>female</td>\n",
              "      <td>group E</td>\n",
              "      <td>bachelor's degree</td>\n",
              "      <td>standard</td>\n",
              "      <td>none</td>\n",
              "      <td>7.0</td>\n",
              "      <td>7.0</td>\n",
              "      <td>7.0</td>\n",
              "      <td>7.00</td>\n",
              "    </tr>\n",
              "    <tr>\n",
              "      <th>475</th>\n",
              "      <td>Emma Gray</td>\n",
              "      <td>female</td>\n",
              "      <td>group E</td>\n",
              "      <td>bachelor's degree</td>\n",
              "      <td>standard</td>\n",
              "      <td>completed</td>\n",
              "      <td>6.94</td>\n",
              "      <td>7.0</td>\n",
              "      <td>7.0</td>\n",
              "      <td>6.98</td>\n",
              "    </tr>\n",
              "    <tr>\n",
              "      <th>279</th>\n",
              "      <td>Emma Brasher</td>\n",
              "      <td>female</td>\n",
              "      <td>group D</td>\n",
              "      <td>some high school</td>\n",
              "      <td>standard</td>\n",
              "      <td>completed</td>\n",
              "      <td>6.82</td>\n",
              "      <td>7.0</td>\n",
              "      <td>7.0</td>\n",
              "      <td>6.94</td>\n",
              "    </tr>\n",
              "    <tr>\n",
              "      <th>...</th>\n",
              "      <td>...</td>\n",
              "      <td>...</td>\n",
              "      <td>...</td>\n",
              "      <td>...</td>\n",
              "      <td>...</td>\n",
              "      <td>...</td>\n",
              "      <td>...</td>\n",
              "      <td>...</td>\n",
              "      <td>...</td>\n",
              "      <td>...</td>\n",
              "    </tr>\n",
              "    <tr>\n",
              "      <th>317</th>\n",
              "      <td>Frankie Malan</td>\n",
              "      <td>male</td>\n",
              "      <td>group D</td>\n",
              "      <td>associate's degree</td>\n",
              "      <td>free/reduced</td>\n",
              "      <td>completed</td>\n",
              "      <td>5.74</td>\n",
              "      <td>5.92</td>\n",
              "      <td>5.8</td>\n",
              "      <td>5.82</td>\n",
              "    </tr>\n",
              "    <tr>\n",
              "      <th>726</th>\n",
              "      <td>Anthony Anderson</td>\n",
              "      <td>male</td>\n",
              "      <td>group D</td>\n",
              "      <td>high school</td>\n",
              "      <td>standard</td>\n",
              "      <td>none</td>\n",
              "      <td>6.28</td>\n",
              "      <td>5.68</td>\n",
              "      <td>5.5</td>\n",
              "      <td>5.82</td>\n",
              "    </tr>\n",
              "    <tr>\n",
              "      <th>538</th>\n",
              "      <td>Matthew Thompson</td>\n",
              "      <td>male</td>\n",
              "      <td>group E</td>\n",
              "      <td>some high school</td>\n",
              "      <td>free/reduced</td>\n",
              "      <td>completed</td>\n",
              "      <td>5.68</td>\n",
              "      <td>5.98</td>\n",
              "      <td>5.8</td>\n",
              "      <td>5.82</td>\n",
              "    </tr>\n",
              "    <tr>\n",
              "      <th>455</th>\n",
              "      <td>Osvaldo Barraza</td>\n",
              "      <td>male</td>\n",
              "      <td>group D</td>\n",
              "      <td>some high school</td>\n",
              "      <td>standard</td>\n",
              "      <td>none</td>\n",
              "      <td>6.16</td>\n",
              "      <td>5.8</td>\n",
              "      <td>5.5</td>\n",
              "      <td>5.82</td>\n",
              "    </tr>\n",
              "    <tr>\n",
              "      <th>1216</th>\n",
              "      <td>Robert Beard</td>\n",
              "      <td>male</td>\n",
              "      <td>group C</td>\n",
              "      <td>some college</td>\n",
              "      <td>standard</td>\n",
              "      <td>none</td>\n",
              "      <td>6.46</td>\n",
              "      <td>5.44</td>\n",
              "      <td>5.56</td>\n",
              "      <td>5.82</td>\n",
              "    </tr>\n",
              "  </tbody>\n",
              "</table>\n",
              "<p>194 rows × 10 columns</p>\n",
              "</div>\n",
              "      <button class=\"colab-df-convert\" onclick=\"convertToInteractive('df-2873dc8c-f34b-41c8-9019-b2115cbd1458')\"\n",
              "              title=\"Convert this dataframe to an interactive table.\"\n",
              "              style=\"display:none;\">\n",
              "        \n",
              "  <svg xmlns=\"http://www.w3.org/2000/svg\" height=\"24px\"viewBox=\"0 0 24 24\"\n",
              "       width=\"24px\">\n",
              "    <path d=\"M0 0h24v24H0V0z\" fill=\"none\"/>\n",
              "    <path d=\"M18.56 5.44l.94 2.06.94-2.06 2.06-.94-2.06-.94-.94-2.06-.94 2.06-2.06.94zm-11 1L8.5 8.5l.94-2.06 2.06-.94-2.06-.94L8.5 2.5l-.94 2.06-2.06.94zm10 10l.94 2.06.94-2.06 2.06-.94-2.06-.94-.94-2.06-.94 2.06-2.06.94z\"/><path d=\"M17.41 7.96l-1.37-1.37c-.4-.4-.92-.59-1.43-.59-.52 0-1.04.2-1.43.59L10.3 9.45l-7.72 7.72c-.78.78-.78 2.05 0 2.83L4 21.41c.39.39.9.59 1.41.59.51 0 1.02-.2 1.41-.59l7.78-7.78 2.81-2.81c.8-.78.8-2.07 0-2.86zM5.41 20L4 18.59l7.72-7.72 1.47 1.35L5.41 20z\"/>\n",
              "  </svg>\n",
              "      </button>\n",
              "      \n",
              "  <style>\n",
              "    .colab-df-container {\n",
              "      display:flex;\n",
              "      flex-wrap:wrap;\n",
              "      gap: 12px;\n",
              "    }\n",
              "\n",
              "    .colab-df-convert {\n",
              "      background-color: #E8F0FE;\n",
              "      border: none;\n",
              "      border-radius: 50%;\n",
              "      cursor: pointer;\n",
              "      display: none;\n",
              "      fill: #1967D2;\n",
              "      height: 32px;\n",
              "      padding: 0 0 0 0;\n",
              "      width: 32px;\n",
              "    }\n",
              "\n",
              "    .colab-df-convert:hover {\n",
              "      background-color: #E2EBFA;\n",
              "      box-shadow: 0px 1px 2px rgba(60, 64, 67, 0.3), 0px 1px 3px 1px rgba(60, 64, 67, 0.15);\n",
              "      fill: #174EA6;\n",
              "    }\n",
              "\n",
              "    [theme=dark] .colab-df-convert {\n",
              "      background-color: #3B4455;\n",
              "      fill: #D2E3FC;\n",
              "    }\n",
              "\n",
              "    [theme=dark] .colab-df-convert:hover {\n",
              "      background-color: #434B5C;\n",
              "      box-shadow: 0px 1px 3px 1px rgba(0, 0, 0, 0.15);\n",
              "      filter: drop-shadow(0px 1px 2px rgba(0, 0, 0, 0.3));\n",
              "      fill: #FFFFFF;\n",
              "    }\n",
              "  </style>\n",
              "\n",
              "      <script>\n",
              "        const buttonEl =\n",
              "          document.querySelector('#df-2873dc8c-f34b-41c8-9019-b2115cbd1458 button.colab-df-convert');\n",
              "        buttonEl.style.display =\n",
              "          google.colab.kernel.accessAllowed ? 'block' : 'none';\n",
              "\n",
              "        async function convertToInteractive(key) {\n",
              "          const element = document.querySelector('#df-2873dc8c-f34b-41c8-9019-b2115cbd1458');\n",
              "          const dataTable =\n",
              "            await google.colab.kernel.invokeFunction('convertToInteractive',\n",
              "                                                     [key], {});\n",
              "          if (!dataTable) return;\n",
              "\n",
              "          const docLinkHtml = 'Like what you see? Visit the ' +\n",
              "            '<a target=\"_blank\" href=https://colab.research.google.com/notebooks/data_table.ipynb>data table notebook</a>'\n",
              "            + ' to learn more about interactive tables.';\n",
              "          element.innerHTML = '';\n",
              "          dataTable['output_type'] = 'display_data';\n",
              "          await google.colab.output.renderOutput(dataTable, element);\n",
              "          const docLink = document.createElement('div');\n",
              "          docLink.innerHTML = docLinkHtml;\n",
              "          element.appendChild(docLink);\n",
              "        }\n",
              "      </script>\n",
              "    </div>\n",
              "  </div>\n",
              "  "
            ]
          },
          "metadata": {},
          "execution_count": 23
        }
      ]
    },
    {
      "cell_type": "markdown",
      "source": [
        "### 1.3.4 Consultas de Alumnos [0.5 Puntos]"
      ],
      "metadata": {
        "tags": [],
        "cell_id": "00053-c26e032f-9917-4088-ac1d-9ba2983ba419",
        "deepnote_cell_type": "markdown",
        "id": "VJ_WismsyZlk"
      }
    },
    {
      "cell_type": "markdown",
      "source": [
        "Algunos padres (extremadamente entrometidos y...) preocupados por el desempeño de sus hijos, desean saber estos han aprobado o no el año. Como la tarea de buscar a mano cada uno de estos alumnos en el `DataFrame` resulta demasiado tedioso, el rector le solicita crear una función que tenga como entrada el `DataFrame` donde se realizará la busqueda y una lista con los nombres de los alumnos, luego la función deberá retornar un `DataFrame` con los nombres de los alumnos y el promedio general de cada uno. \n",
        "\n",
        "Creada la función busque el promedio general de los siguientes alumnos en el segundo Data frame creado en la sección 1.3.3:\n",
        "\n",
        "`['Lucille Stanphill','Marcus Mcfarland', 'Matthew Freeman', 'Dana Mojica', 'Paul Hyder', 'Jeffrey Korn', 'Robert Strain',\n",
        "'Ronald Jett', 'Lorena Reed', 'Hazel Posey']`\n",
        "\n",
        "**Hint:** Puede serle de utilidad utilizar `isin()`."
      ],
      "metadata": {
        "tags": [],
        "cell_id": "00054-265dbcea-43c7-4418-b289-48906d0c1626",
        "deepnote_cell_type": "markdown",
        "id": "XV_lagTvyZlk"
      }
    },
    {
      "cell_type": "markdown",
      "source": [
        "**Respuesta:**"
      ],
      "metadata": {
        "tags": [],
        "cell_id": "00055-f296cada-4f15-4a9b-900c-cde55391c32b",
        "deepnote_cell_type": "markdown",
        "id": "pu2OWjrDyZlk"
      }
    },
    {
      "cell_type": "code",
      "metadata": {
        "tags": [],
        "deepnote_to_be_reexecuted": false,
        "source_hash": "f3ff8aa7",
        "execution_start": 1632493424802,
        "execution_millis": 21,
        "cell_id": "00056-1625f6ad-80ec-45be-9bbb-c08ddd6df2fb",
        "deepnote_cell_type": "code",
        "colab": {
          "base_uri": "https://localhost:8080/",
          "height": 363
        },
        "id": "49Ko_YE4yZlk",
        "outputId": "f023fb87-c873-44d0-9d94-01dbcdcae906"
      },
      "source": [
        "def consulta_gpa(dataframe_in, lista_alumnos):\n",
        "    dataframe_med = dataframe_in.loc[:, ['names', 'promedio']]\n",
        "    dataframe_out = dataframe_med[dataframe_med['names'].isin(lista_alumnos)]\n",
        "    return dataframe_out\n",
        "\n",
        "\n",
        "lista_alumnos = [\n",
        "    \"Lucille Stanphill\",\n",
        "    \"Marcus Mcfarland\",\n",
        "    \"Matthew Freeman\",\n",
        "    \"Dana Mojica\",\n",
        "    \"Paul Hyder\",\n",
        "    \"Jeffrey Korn\",\n",
        "    \"Robert Strain\",\n",
        "    \"Ronald Jett\",\n",
        "    \"Lorena Reed\",\n",
        "    \"Hazel Posey\",\n",
        "]\n",
        "consulta_gpa(dataframe2, lista_alumnos)"
      ],
      "execution_count": 24,
      "outputs": [
        {
          "output_type": "execute_result",
          "data": {
            "text/plain": [
              "                  names promedio\n",
              "296   Lucille Stanphill     5.94\n",
              "564    Marcus Mcfarland     4.86\n",
              "637     Matthew Freeman        R\n",
              "640         Dana Mojica        R\n",
              "853          Paul Hyder      6.2\n",
              "919        Jeffrey Korn     4.54\n",
              "1054      Robert Strain      4.4\n",
              "1065        Ronald Jett        R\n",
              "1068        Hazel Posey        R\n",
              "1195        Lorena Reed        R"
            ],
            "text/html": [
              "\n",
              "  <div id=\"df-22712c0f-84be-48f6-873e-0f1939770cbf\">\n",
              "    <div class=\"colab-df-container\">\n",
              "      <div>\n",
              "<style scoped>\n",
              "    .dataframe tbody tr th:only-of-type {\n",
              "        vertical-align: middle;\n",
              "    }\n",
              "\n",
              "    .dataframe tbody tr th {\n",
              "        vertical-align: top;\n",
              "    }\n",
              "\n",
              "    .dataframe thead th {\n",
              "        text-align: right;\n",
              "    }\n",
              "</style>\n",
              "<table border=\"1\" class=\"dataframe\">\n",
              "  <thead>\n",
              "    <tr style=\"text-align: right;\">\n",
              "      <th></th>\n",
              "      <th>names</th>\n",
              "      <th>promedio</th>\n",
              "    </tr>\n",
              "  </thead>\n",
              "  <tbody>\n",
              "    <tr>\n",
              "      <th>296</th>\n",
              "      <td>Lucille Stanphill</td>\n",
              "      <td>5.94</td>\n",
              "    </tr>\n",
              "    <tr>\n",
              "      <th>564</th>\n",
              "      <td>Marcus Mcfarland</td>\n",
              "      <td>4.86</td>\n",
              "    </tr>\n",
              "    <tr>\n",
              "      <th>637</th>\n",
              "      <td>Matthew Freeman</td>\n",
              "      <td>R</td>\n",
              "    </tr>\n",
              "    <tr>\n",
              "      <th>640</th>\n",
              "      <td>Dana Mojica</td>\n",
              "      <td>R</td>\n",
              "    </tr>\n",
              "    <tr>\n",
              "      <th>853</th>\n",
              "      <td>Paul Hyder</td>\n",
              "      <td>6.2</td>\n",
              "    </tr>\n",
              "    <tr>\n",
              "      <th>919</th>\n",
              "      <td>Jeffrey Korn</td>\n",
              "      <td>4.54</td>\n",
              "    </tr>\n",
              "    <tr>\n",
              "      <th>1054</th>\n",
              "      <td>Robert Strain</td>\n",
              "      <td>4.4</td>\n",
              "    </tr>\n",
              "    <tr>\n",
              "      <th>1065</th>\n",
              "      <td>Ronald Jett</td>\n",
              "      <td>R</td>\n",
              "    </tr>\n",
              "    <tr>\n",
              "      <th>1068</th>\n",
              "      <td>Hazel Posey</td>\n",
              "      <td>R</td>\n",
              "    </tr>\n",
              "    <tr>\n",
              "      <th>1195</th>\n",
              "      <td>Lorena Reed</td>\n",
              "      <td>R</td>\n",
              "    </tr>\n",
              "  </tbody>\n",
              "</table>\n",
              "</div>\n",
              "      <button class=\"colab-df-convert\" onclick=\"convertToInteractive('df-22712c0f-84be-48f6-873e-0f1939770cbf')\"\n",
              "              title=\"Convert this dataframe to an interactive table.\"\n",
              "              style=\"display:none;\">\n",
              "        \n",
              "  <svg xmlns=\"http://www.w3.org/2000/svg\" height=\"24px\"viewBox=\"0 0 24 24\"\n",
              "       width=\"24px\">\n",
              "    <path d=\"M0 0h24v24H0V0z\" fill=\"none\"/>\n",
              "    <path d=\"M18.56 5.44l.94 2.06.94-2.06 2.06-.94-2.06-.94-.94-2.06-.94 2.06-2.06.94zm-11 1L8.5 8.5l.94-2.06 2.06-.94-2.06-.94L8.5 2.5l-.94 2.06-2.06.94zm10 10l.94 2.06.94-2.06 2.06-.94-2.06-.94-.94-2.06-.94 2.06-2.06.94z\"/><path d=\"M17.41 7.96l-1.37-1.37c-.4-.4-.92-.59-1.43-.59-.52 0-1.04.2-1.43.59L10.3 9.45l-7.72 7.72c-.78.78-.78 2.05 0 2.83L4 21.41c.39.39.9.59 1.41.59.51 0 1.02-.2 1.41-.59l7.78-7.78 2.81-2.81c.8-.78.8-2.07 0-2.86zM5.41 20L4 18.59l7.72-7.72 1.47 1.35L5.41 20z\"/>\n",
              "  </svg>\n",
              "      </button>\n",
              "      \n",
              "  <style>\n",
              "    .colab-df-container {\n",
              "      display:flex;\n",
              "      flex-wrap:wrap;\n",
              "      gap: 12px;\n",
              "    }\n",
              "\n",
              "    .colab-df-convert {\n",
              "      background-color: #E8F0FE;\n",
              "      border: none;\n",
              "      border-radius: 50%;\n",
              "      cursor: pointer;\n",
              "      display: none;\n",
              "      fill: #1967D2;\n",
              "      height: 32px;\n",
              "      padding: 0 0 0 0;\n",
              "      width: 32px;\n",
              "    }\n",
              "\n",
              "    .colab-df-convert:hover {\n",
              "      background-color: #E2EBFA;\n",
              "      box-shadow: 0px 1px 2px rgba(60, 64, 67, 0.3), 0px 1px 3px 1px rgba(60, 64, 67, 0.15);\n",
              "      fill: #174EA6;\n",
              "    }\n",
              "\n",
              "    [theme=dark] .colab-df-convert {\n",
              "      background-color: #3B4455;\n",
              "      fill: #D2E3FC;\n",
              "    }\n",
              "\n",
              "    [theme=dark] .colab-df-convert:hover {\n",
              "      background-color: #434B5C;\n",
              "      box-shadow: 0px 1px 3px 1px rgba(0, 0, 0, 0.15);\n",
              "      filter: drop-shadow(0px 1px 2px rgba(0, 0, 0, 0.3));\n",
              "      fill: #FFFFFF;\n",
              "    }\n",
              "  </style>\n",
              "\n",
              "      <script>\n",
              "        const buttonEl =\n",
              "          document.querySelector('#df-22712c0f-84be-48f6-873e-0f1939770cbf button.colab-df-convert');\n",
              "        buttonEl.style.display =\n",
              "          google.colab.kernel.accessAllowed ? 'block' : 'none';\n",
              "\n",
              "        async function convertToInteractive(key) {\n",
              "          const element = document.querySelector('#df-22712c0f-84be-48f6-873e-0f1939770cbf');\n",
              "          const dataTable =\n",
              "            await google.colab.kernel.invokeFunction('convertToInteractive',\n",
              "                                                     [key], {});\n",
              "          if (!dataTable) return;\n",
              "\n",
              "          const docLinkHtml = 'Like what you see? Visit the ' +\n",
              "            '<a target=\"_blank\" href=https://colab.research.google.com/notebooks/data_table.ipynb>data table notebook</a>'\n",
              "            + ' to learn more about interactive tables.';\n",
              "          element.innerHTML = '';\n",
              "          dataTable['output_type'] = 'display_data';\n",
              "          await google.colab.output.renderOutput(dataTable, element);\n",
              "          const docLink = document.createElement('div');\n",
              "          docLink.innerHTML = docLinkHtml;\n",
              "          element.appendChild(docLink);\n",
              "        }\n",
              "      </script>\n",
              "    </div>\n",
              "  </div>\n",
              "  "
            ]
          },
          "metadata": {},
          "execution_count": 24
        }
      ]
    },
    {
      "cell_type": "markdown",
      "source": [
        "### 1.3.5 Quintiles de Rendimiento [0.5 Puntos]"
      ],
      "metadata": {
        "tags": [],
        "cell_id": "00057-ce0783ee-ebbf-47e2-a857-88811fd99f73",
        "deepnote_cell_type": "markdown",
        "id": "ZitYqIw7yZll"
      }
    },
    {
      "cell_type": "markdown",
      "source": [
        "El rector, intrigado por saber si existe una relación entre el nivel educacional de los padres y las notas de sus hijos les plantea estudiar dicha relación. Para esto, les solicita que desde el `DataFrame` que posee a todos los alumnos (`DataFrame` obtenido tras la limpieza), generen una nueva columna que clasifique en quintiles de rendimiento para sus alumnos: `['Bajísimo', 'Bajo', 'Medio', 'Alto', 'Muy alto']`. (investigar `qcut()`)\n",
        "\n",
        "Hecho esto, grafique a través de un scatter plot el nivel educacional de los padres v/s el promedio de los alumnos, utilice los cuantiles generados anteriormente para mostrar en que cuantil se encuentra cada uno de los datos.\n",
        "\n",
        "Realizado el grafico, responda la siguiente pregunta: **¿Es posible visualizar alguna tendencia en el gráfico?.**\n",
        "\n"
      ],
      "metadata": {
        "tags": [],
        "cell_id": "00058-f22b06aa-362f-481f-a003-b9e5796120b0",
        "deepnote_cell_type": "markdown",
        "id": "netd5GWZyZll"
      }
    },
    {
      "cell_type": "markdown",
      "source": [
        "**Respuesta:**"
      ],
      "metadata": {
        "tags": [],
        "cell_id": "00059-9f08f4c4-c59b-443a-83c3-677c0e9be877",
        "deepnote_cell_type": "markdown",
        "id": "cbyC7ke6yZll"
      }
    },
    {
      "cell_type": "code",
      "source": [
        "quintiles = pd.qcut(cleaned_data['promedio'], q=5, labels = ['Bajísimo', 'Bajo', 'Medio', 'Alto', 'Muy alto'])\n",
        "\n",
        "quintiles.head()"
      ],
      "metadata": {
        "colab": {
          "base_uri": "https://localhost:8080/"
        },
        "id": "s4iW5UZZ2PeF",
        "outputId": "e66af3a2-8287-49d0-dbd4-c5044860ac4f"
      },
      "execution_count": 29,
      "outputs": [
        {
          "output_type": "execute_result",
          "data": {
            "text/plain": [
              "0    Bajísimo\n",
              "3        Alto\n",
              "5       Medio\n",
              "6        Alto\n",
              "7    Muy alto\n",
              "Name: promedio, dtype: category\n",
              "Categories (5, object): ['Bajísimo' < 'Bajo' < 'Medio' < 'Alto' < 'Muy alto']"
            ]
          },
          "metadata": {},
          "execution_count": 29
        }
      ]
    },
    {
      "cell_type": "code",
      "source": [
        "df_grades['GPA cuantiles'] = quintiles\n",
        "df_grades"
      ],
      "metadata": {
        "colab": {
          "base_uri": "https://localhost:8080/",
          "height": 569
        },
        "id": "PvtUHTg12NCn",
        "outputId": "ee5c929d-8fba-4e19-bd95-77fa91186369"
      },
      "execution_count": 37,
      "outputs": [
        {
          "output_type": "stream",
          "name": "stderr",
          "text": [
            "/usr/local/lib/python3.7/dist-packages/ipykernel_launcher.py:1: SettingWithCopyWarning:\n",
            "\n",
            "\n",
            "A value is trying to be set on a copy of a slice from a DataFrame.\n",
            "Try using .loc[row_indexer,col_indexer] = value instead\n",
            "\n",
            "See the caveats in the documentation: https://pandas.pydata.org/pandas-docs/stable/user_guide/indexing.html#returning-a-view-versus-a-copy\n",
            "\n"
          ]
        },
        {
          "output_type": "execute_result",
          "data": {
            "text/plain": [
              "                 names  gender race/ethnicity parental level of education  \\\n",
              "0        Rita Courtney  female        group B            some high school   \n",
              "3     Charles Linstrom    male        group A           bachelor's degree   \n",
              "5          Brian Young    male        group C            some high school   \n",
              "6       Howard Jimenez    male        group E            some high school   \n",
              "7         Wayne Wilson    male        group B            some high school   \n",
              "...                ...     ...            ...                         ...   \n",
              "1392     Richard Young    male        group D                 high school   \n",
              "1394     Wanda Russell  female        group B                 high school   \n",
              "1396    Marina Zeigler  female        group C           bachelor's degree   \n",
              "1397     Laurie Carter  female        group B            some high school   \n",
              "1399      Amanda Perez  female        group A                 high school   \n",
              "\n",
              "             lunch test preparation course math score reading score  \\\n",
              "0         standard                    none       3.22          3.76   \n",
              "3         standard               completed        5.8          5.68   \n",
              "5         standard                    none       5.38          4.96   \n",
              "6         standard               completed       5.86           5.5   \n",
              "7         standard               completed       6.64          6.16   \n",
              "...            ...                     ...        ...           ...   \n",
              "1392      standard                    none       5.14           5.5   \n",
              "1394  free/reduced               completed       2.38          3.64   \n",
              "1396  free/reduced               completed       4.96          5.44   \n",
              "1397      standard               completed       4.24          4.66   \n",
              "1399      standard               completed       5.08           5.8   \n",
              "\n",
              "     writing score  promedio GPA cuantiles  \n",
              "0             3.76      3.58      Bajísimo  \n",
              "3             5.86      5.78          Alto  \n",
              "5             4.78      5.04         Medio  \n",
              "6             5.56      5.64          Alto  \n",
              "7             6.22      6.34      Muy alto  \n",
              "...            ...       ...           ...  \n",
              "1392          5.26      5.30         Medio  \n",
              "1394          3.16      3.06      Bajísimo  \n",
              "1396          5.86      5.42          Alto  \n",
              "1397          4.72      4.54          Bajo  \n",
              "1399          5.56      5.48          Alto  \n",
              "\n",
              "[1003 rows x 11 columns]"
            ],
            "text/html": [
              "\n",
              "  <div id=\"df-5d48e00e-e457-4587-aa4b-9f50ab946d9c\">\n",
              "    <div class=\"colab-df-container\">\n",
              "      <div>\n",
              "<style scoped>\n",
              "    .dataframe tbody tr th:only-of-type {\n",
              "        vertical-align: middle;\n",
              "    }\n",
              "\n",
              "    .dataframe tbody tr th {\n",
              "        vertical-align: top;\n",
              "    }\n",
              "\n",
              "    .dataframe thead th {\n",
              "        text-align: right;\n",
              "    }\n",
              "</style>\n",
              "<table border=\"1\" class=\"dataframe\">\n",
              "  <thead>\n",
              "    <tr style=\"text-align: right;\">\n",
              "      <th></th>\n",
              "      <th>names</th>\n",
              "      <th>gender</th>\n",
              "      <th>race/ethnicity</th>\n",
              "      <th>parental level of education</th>\n",
              "      <th>lunch</th>\n",
              "      <th>test preparation course</th>\n",
              "      <th>math score</th>\n",
              "      <th>reading score</th>\n",
              "      <th>writing score</th>\n",
              "      <th>promedio</th>\n",
              "      <th>GPA cuantiles</th>\n",
              "    </tr>\n",
              "  </thead>\n",
              "  <tbody>\n",
              "    <tr>\n",
              "      <th>0</th>\n",
              "      <td>Rita Courtney</td>\n",
              "      <td>female</td>\n",
              "      <td>group B</td>\n",
              "      <td>some high school</td>\n",
              "      <td>standard</td>\n",
              "      <td>none</td>\n",
              "      <td>3.22</td>\n",
              "      <td>3.76</td>\n",
              "      <td>3.76</td>\n",
              "      <td>3.58</td>\n",
              "      <td>Bajísimo</td>\n",
              "    </tr>\n",
              "    <tr>\n",
              "      <th>3</th>\n",
              "      <td>Charles Linstrom</td>\n",
              "      <td>male</td>\n",
              "      <td>group A</td>\n",
              "      <td>bachelor's degree</td>\n",
              "      <td>standard</td>\n",
              "      <td>completed</td>\n",
              "      <td>5.8</td>\n",
              "      <td>5.68</td>\n",
              "      <td>5.86</td>\n",
              "      <td>5.78</td>\n",
              "      <td>Alto</td>\n",
              "    </tr>\n",
              "    <tr>\n",
              "      <th>5</th>\n",
              "      <td>Brian Young</td>\n",
              "      <td>male</td>\n",
              "      <td>group C</td>\n",
              "      <td>some high school</td>\n",
              "      <td>standard</td>\n",
              "      <td>none</td>\n",
              "      <td>5.38</td>\n",
              "      <td>4.96</td>\n",
              "      <td>4.78</td>\n",
              "      <td>5.04</td>\n",
              "      <td>Medio</td>\n",
              "    </tr>\n",
              "    <tr>\n",
              "      <th>6</th>\n",
              "      <td>Howard Jimenez</td>\n",
              "      <td>male</td>\n",
              "      <td>group E</td>\n",
              "      <td>some high school</td>\n",
              "      <td>standard</td>\n",
              "      <td>completed</td>\n",
              "      <td>5.86</td>\n",
              "      <td>5.5</td>\n",
              "      <td>5.56</td>\n",
              "      <td>5.64</td>\n",
              "      <td>Alto</td>\n",
              "    </tr>\n",
              "    <tr>\n",
              "      <th>7</th>\n",
              "      <td>Wayne Wilson</td>\n",
              "      <td>male</td>\n",
              "      <td>group B</td>\n",
              "      <td>some high school</td>\n",
              "      <td>standard</td>\n",
              "      <td>completed</td>\n",
              "      <td>6.64</td>\n",
              "      <td>6.16</td>\n",
              "      <td>6.22</td>\n",
              "      <td>6.34</td>\n",
              "      <td>Muy alto</td>\n",
              "    </tr>\n",
              "    <tr>\n",
              "      <th>...</th>\n",
              "      <td>...</td>\n",
              "      <td>...</td>\n",
              "      <td>...</td>\n",
              "      <td>...</td>\n",
              "      <td>...</td>\n",
              "      <td>...</td>\n",
              "      <td>...</td>\n",
              "      <td>...</td>\n",
              "      <td>...</td>\n",
              "      <td>...</td>\n",
              "      <td>...</td>\n",
              "    </tr>\n",
              "    <tr>\n",
              "      <th>1392</th>\n",
              "      <td>Richard Young</td>\n",
              "      <td>male</td>\n",
              "      <td>group D</td>\n",
              "      <td>high school</td>\n",
              "      <td>standard</td>\n",
              "      <td>none</td>\n",
              "      <td>5.14</td>\n",
              "      <td>5.5</td>\n",
              "      <td>5.26</td>\n",
              "      <td>5.30</td>\n",
              "      <td>Medio</td>\n",
              "    </tr>\n",
              "    <tr>\n",
              "      <th>1394</th>\n",
              "      <td>Wanda Russell</td>\n",
              "      <td>female</td>\n",
              "      <td>group B</td>\n",
              "      <td>high school</td>\n",
              "      <td>free/reduced</td>\n",
              "      <td>completed</td>\n",
              "      <td>2.38</td>\n",
              "      <td>3.64</td>\n",
              "      <td>3.16</td>\n",
              "      <td>3.06</td>\n",
              "      <td>Bajísimo</td>\n",
              "    </tr>\n",
              "    <tr>\n",
              "      <th>1396</th>\n",
              "      <td>Marina Zeigler</td>\n",
              "      <td>female</td>\n",
              "      <td>group C</td>\n",
              "      <td>bachelor's degree</td>\n",
              "      <td>free/reduced</td>\n",
              "      <td>completed</td>\n",
              "      <td>4.96</td>\n",
              "      <td>5.44</td>\n",
              "      <td>5.86</td>\n",
              "      <td>5.42</td>\n",
              "      <td>Alto</td>\n",
              "    </tr>\n",
              "    <tr>\n",
              "      <th>1397</th>\n",
              "      <td>Laurie Carter</td>\n",
              "      <td>female</td>\n",
              "      <td>group B</td>\n",
              "      <td>some high school</td>\n",
              "      <td>standard</td>\n",
              "      <td>completed</td>\n",
              "      <td>4.24</td>\n",
              "      <td>4.66</td>\n",
              "      <td>4.72</td>\n",
              "      <td>4.54</td>\n",
              "      <td>Bajo</td>\n",
              "    </tr>\n",
              "    <tr>\n",
              "      <th>1399</th>\n",
              "      <td>Amanda Perez</td>\n",
              "      <td>female</td>\n",
              "      <td>group A</td>\n",
              "      <td>high school</td>\n",
              "      <td>standard</td>\n",
              "      <td>completed</td>\n",
              "      <td>5.08</td>\n",
              "      <td>5.8</td>\n",
              "      <td>5.56</td>\n",
              "      <td>5.48</td>\n",
              "      <td>Alto</td>\n",
              "    </tr>\n",
              "  </tbody>\n",
              "</table>\n",
              "<p>1003 rows × 11 columns</p>\n",
              "</div>\n",
              "      <button class=\"colab-df-convert\" onclick=\"convertToInteractive('df-5d48e00e-e457-4587-aa4b-9f50ab946d9c')\"\n",
              "              title=\"Convert this dataframe to an interactive table.\"\n",
              "              style=\"display:none;\">\n",
              "        \n",
              "  <svg xmlns=\"http://www.w3.org/2000/svg\" height=\"24px\"viewBox=\"0 0 24 24\"\n",
              "       width=\"24px\">\n",
              "    <path d=\"M0 0h24v24H0V0z\" fill=\"none\"/>\n",
              "    <path d=\"M18.56 5.44l.94 2.06.94-2.06 2.06-.94-2.06-.94-.94-2.06-.94 2.06-2.06.94zm-11 1L8.5 8.5l.94-2.06 2.06-.94-2.06-.94L8.5 2.5l-.94 2.06-2.06.94zm10 10l.94 2.06.94-2.06 2.06-.94-2.06-.94-.94-2.06-.94 2.06-2.06.94z\"/><path d=\"M17.41 7.96l-1.37-1.37c-.4-.4-.92-.59-1.43-.59-.52 0-1.04.2-1.43.59L10.3 9.45l-7.72 7.72c-.78.78-.78 2.05 0 2.83L4 21.41c.39.39.9.59 1.41.59.51 0 1.02-.2 1.41-.59l7.78-7.78 2.81-2.81c.8-.78.8-2.07 0-2.86zM5.41 20L4 18.59l7.72-7.72 1.47 1.35L5.41 20z\"/>\n",
              "  </svg>\n",
              "      </button>\n",
              "      \n",
              "  <style>\n",
              "    .colab-df-container {\n",
              "      display:flex;\n",
              "      flex-wrap:wrap;\n",
              "      gap: 12px;\n",
              "    }\n",
              "\n",
              "    .colab-df-convert {\n",
              "      background-color: #E8F0FE;\n",
              "      border: none;\n",
              "      border-radius: 50%;\n",
              "      cursor: pointer;\n",
              "      display: none;\n",
              "      fill: #1967D2;\n",
              "      height: 32px;\n",
              "      padding: 0 0 0 0;\n",
              "      width: 32px;\n",
              "    }\n",
              "\n",
              "    .colab-df-convert:hover {\n",
              "      background-color: #E2EBFA;\n",
              "      box-shadow: 0px 1px 2px rgba(60, 64, 67, 0.3), 0px 1px 3px 1px rgba(60, 64, 67, 0.15);\n",
              "      fill: #174EA6;\n",
              "    }\n",
              "\n",
              "    [theme=dark] .colab-df-convert {\n",
              "      background-color: #3B4455;\n",
              "      fill: #D2E3FC;\n",
              "    }\n",
              "\n",
              "    [theme=dark] .colab-df-convert:hover {\n",
              "      background-color: #434B5C;\n",
              "      box-shadow: 0px 1px 3px 1px rgba(0, 0, 0, 0.15);\n",
              "      filter: drop-shadow(0px 1px 2px rgba(0, 0, 0, 0.3));\n",
              "      fill: #FFFFFF;\n",
              "    }\n",
              "  </style>\n",
              "\n",
              "      <script>\n",
              "        const buttonEl =\n",
              "          document.querySelector('#df-5d48e00e-e457-4587-aa4b-9f50ab946d9c button.colab-df-convert');\n",
              "        buttonEl.style.display =\n",
              "          google.colab.kernel.accessAllowed ? 'block' : 'none';\n",
              "\n",
              "        async function convertToInteractive(key) {\n",
              "          const element = document.querySelector('#df-5d48e00e-e457-4587-aa4b-9f50ab946d9c');\n",
              "          const dataTable =\n",
              "            await google.colab.kernel.invokeFunction('convertToInteractive',\n",
              "                                                     [key], {});\n",
              "          if (!dataTable) return;\n",
              "\n",
              "          const docLinkHtml = 'Like what you see? Visit the ' +\n",
              "            '<a target=\"_blank\" href=https://colab.research.google.com/notebooks/data_table.ipynb>data table notebook</a>'\n",
              "            + ' to learn more about interactive tables.';\n",
              "          element.innerHTML = '';\n",
              "          dataTable['output_type'] = 'display_data';\n",
              "          await google.colab.output.renderOutput(dataTable, element);\n",
              "          const docLink = document.createElement('div');\n",
              "          docLink.innerHTML = docLinkHtml;\n",
              "          element.appendChild(docLink);\n",
              "        }\n",
              "      </script>\n",
              "    </div>\n",
              "  </div>\n",
              "  "
            ]
          },
          "metadata": {},
          "execution_count": 37
        }
      ]
    },
    {
      "cell_type": "code",
      "metadata": {
        "tags": [],
        "deepnote_to_be_reexecuted": false,
        "source_hash": "8fe13806",
        "execution_start": 1632493424819,
        "execution_millis": 134,
        "cell_id": "00061-795d8f8c-5718-4f38-adc1-4a1733bd3ccb",
        "deepnote_cell_type": "code",
        "colab": {
          "base_uri": "https://localhost:8080/",
          "height": 542
        },
        "id": "Unug7MMTyZll",
        "outputId": "5cca4d24-63f2-43ad-ac1b-34a96c385a3d"
      },
      "source": [
        "# Código para quintiles \n",
        "# La variable que contenga los quintiles debe llamarse GPA cuantiles para que el gráfico funcione.\n",
        "#datos limpieza: cleaned_data\n",
        "\n",
        "# Código de gráfico \n",
        "fig = px.scatter(\n",
        "    df_grades.sort_values(by='promedio'),\n",
        "    x='promedio',\n",
        "    y=\"parental level of education\",\n",
        "    hover_data=[\"gender\"],\n",
        "    color=\"GPA cuantiles\",\n",
        "    title=\"GPA por Nivel de educación de los padres\",\n",
        "    color_discrete_sequence=[\"tomato\", \"orange\", \"yellow\", \"greenyellow\", \"green\"]\n",
        ")\n",
        "\n",
        "fig\n"
      ],
      "execution_count": 38,
      "outputs": [
        {
          "output_type": "display_data",
          "data": {
            "text/html": [
              "<html>\n",
              "<head><meta charset=\"utf-8\" /></head>\n",
              "<body>\n",
              "    <div>            <script src=\"https://cdnjs.cloudflare.com/ajax/libs/mathjax/2.7.5/MathJax.js?config=TeX-AMS-MML_SVG\"></script><script type=\"text/javascript\">if (window.MathJax && window.MathJax.Hub && window.MathJax.Hub.Config) {window.MathJax.Hub.Config({SVG: {font: \"STIX-Web\"}});}</script>                <script type=\"text/javascript\">window.PlotlyConfig = {MathJaxConfig: 'local'};</script>\n",
              "        <script src=\"https://cdn.plot.ly/plotly-2.14.0.min.js\"></script>                <div id=\"1a2b5dca-9678-42a9-9683-24974dd04b8d\" class=\"plotly-graph-div\" style=\"height:525px; width:100%;\"></div>            <script type=\"text/javascript\">                                    window.PLOTLYENV=window.PLOTLYENV || {};                                    if (document.getElementById(\"1a2b5dca-9678-42a9-9683-24974dd04b8d\")) {                    Plotly.newPlot(                        \"1a2b5dca-9678-42a9-9683-24974dd04b8d\",                        [{\"customdata\":[[\"female\"],[\"female\"],[\"male\"],[\"male\"],[\"male\"],[\"female\"],[\"male\"],[\"female\"],[\"female\"],[\"female\"],[\"male\"],[\"male\"],[\"male\"],[\"female\"],[\"female\"],[\"female\"],[\"male\"],[\"female\"],[\"female\"],[\"female\"],[\"male\"],[\"female\"],[\"male\"],[\"male\"],[\"female\"],[\"male\"],[\"female\"],[\"female\"],[\"male\"],[\"male\"],[\"male\"],[\"male\"],[\"male\"],[\"male\"],[\"female\"],[\"male\"],[\"female\"],[\"male\"],[\"female\"],[\"female\"],[\"female\"],[\"female\"],[\"male\"],[\"female\"],[\"male\"],[\"male\"],[\"male\"],[\"female\"],[\"male\"],[\"male\"],[\"female\"],[\"female\"],[\"male\"],[\"male\"],[\"female\"],[\"male\"],[\"female\"],[\"male\"],[\"male\"],[\"male\"],[\"male\"],[\"female\"],[\"female\"],[\"male\"],[\"male\"],[\"male\"],[\"male\"],[\"male\"],[\"male\"],[\"male\"],[\"male\"],[\"male\"],[\"male\"],[\"female\"],[\"male\"],[\"male\"],[\"male\"],[\"male\"],[\"male\"],[\"male\"],[\"male\"],[\"male\"],[\"male\"],[\"male\"],[\"male\"],[\"male\"],[\"female\"],[\"male\"],[\"female\"],[\"male\"],[\"female\"],[\"male\"],[\"male\"],[\"female\"],[\"male\"],[\"male\"],[\"male\"],[\"male\"],[\"female\"],[\"female\"],[\"male\"],[\"male\"],[\"female\"],[\"male\"],[\"male\"],[\"female\"],[\"female\"],[\"female\"],[\"female\"],[\"male\"],[\"female\"],[\"female\"],[\"male\"],[\"male\"],[\"male\"],[\"male\"],[\"female\"],[\"female\"],[\"male\"],[\"male\"],[\"male\"],[\"male\"],[\"female\"],[\"female\"],[\"male\"],[\"male\"],[\"female\"],[\"male\"],[\"male\"],[\"male\"],[\"male\"],[\"male\"],[\"female\"],[\"female\"],[\"female\"],[\"female\"],[\"male\"],[\"female\"],[\"male\"],[\"female\"],[\"male\"],[\"female\"],[\"male\"],[\"male\"],[\"male\"],[\"female\"],[\"female\"],[\"male\"],[\"male\"],[\"male\"],[\"male\"],[\"male\"],[\"male\"],[\"female\"],[\"female\"],[\"female\"],[\"female\"],[\"female\"],[\"female\"],[\"male\"],[\"male\"],[\"female\"],[\"male\"],[\"female\"],[\"female\"],[\"female\"],[\"male\"],[\"female\"],[\"male\"],[\"male\"],[\"male\"],[\"female\"],[\"female\"],[\"female\"],[\"female\"],[\"male\"],[\"female\"],[\"female\"],[\"male\"],[\"male\"],[\"female\"],[\"male\"],[\"female\"],[\"female\"],[\"male\"],[\"male\"],[\"male\"],[\"male\"],[\"male\"],[\"female\"],[\"male\"],[\"male\"],[\"female\"],[\"male\"],[\"female\"],[\"male\"],[\"male\"],[\"female\"],[\"male\"],[\"male\"],[\"female\"]],\"hovertemplate\":\"GPA cuantiles=Baj\\u00edsimo<br>promedio=%{x}<br>parental level of education=%{y}<br>gender=%{customdata[0]}<extra></extra>\",\"legendgroup\":\"Baj\\u00edsimo\",\"marker\":{\"color\":\"tomato\",\"symbol\":\"circle\"},\"mode\":\"markers\",\"name\":\"Baj\\u00edsimo\",\"showlegend\":true,\"x\":[1.54,2.1,2.3800000000000003,2.4,2.56,2.56,2.56,2.7600000000000002,2.78,2.78,2.7999999999999994,2.7999999999999994,2.84,2.86,2.8800000000000003,2.9,2.94,3.06,3.08,3.08,3.2399999999999998,3.2600000000000002,3.28,3.2999999999999994,3.3000000000000003,3.3200000000000003,3.34,3.34,3.36,3.3799999999999994,3.3799999999999994,3.3800000000000003,3.4,3.4,3.4,3.44,3.44,3.4599999999999995,3.4599999999999995,3.48,3.52,3.5400000000000005,3.5799999999999996,3.5799999999999996,3.5999999999999996,3.6,3.6,3.6,3.6199999999999997,3.6199999999999997,3.64,3.64,3.66,3.6799999999999997,3.6799999999999997,3.6799999999999997,3.6799999999999997,3.6999999999999997,3.6999999999999997,3.72,3.72,3.7399999999999998,3.76,3.76,3.76,3.78,3.78,3.78,3.78,3.78,3.7999999999999994,3.7999999999999994,3.8000000000000003,3.8000000000000003,3.82,3.84,3.84,3.86,3.86,3.8799999999999994,3.8800000000000003,3.8800000000000003,3.8800000000000003,3.9,3.9,3.9,3.9,3.9,3.9000000000000004,3.9199999999999995,3.92,3.92,3.9200000000000004,3.94,3.94,3.94,3.94,3.94,3.94,3.9599999999999995,3.9599999999999995,3.9599999999999995,3.9600000000000004,3.98,3.98,3.98,4.0,4.0,4.0,4.0,4.0,4.0,4.02,4.02,4.02,4.02,4.0200000000000005,4.0200000000000005,4.0200000000000005,4.0200000000000005,4.04,4.04,4.04,4.06,4.06,4.06,4.06,4.0600000000000005,4.079999999999999,4.08,4.08,4.08,4.08,4.080000000000001,4.1,4.1,4.1,4.1,4.1000000000000005,4.1000000000000005,4.1000000000000005,4.1000000000000005,4.1000000000000005,4.1000000000000005,4.12,4.12,4.12,4.12,4.12,4.14,4.14,4.14,4.14,4.140000000000001,4.16,4.16,4.16,4.16,4.16,4.16,4.16,4.18,4.18,4.2,4.2,4.2,4.2,4.22,4.22,4.22,4.22,4.22,4.22,4.22,4.239999999999999,4.239999999999999,4.239999999999999,4.239999999999999,4.24,4.24,4.26,4.260000000000001,4.260000000000001,4.260000000000001,4.260000000000001,4.28,4.28,4.28,4.28,4.28,4.28,4.28,4.28,4.28,4.3,4.300000000000001,4.319999999999999,4.32,4.32,4.32,4.32],\"xaxis\":\"x\",\"y\":[\"some high school\",\"high school\",\"high school\",\"some college\",\"some high school\",\"some high school\",\"some high school\",\"high school\",\"some high school\",\"some college\",\"some college\",\"some college\",\"high school\",\"some high school\",\"some college\",\"associate's degree\",\"high school\",\"high school\",\"some college\",\"some high school\",\"some high school\",\"some high school\",\"some college\",\"high school\",\"high school\",\"high school\",\"high school\",\"bachelor's degree\",\"some high school\",\"bachelor's degree\",\"associate's degree\",\"some high school\",\"some college\",\"some college\",\"bachelor's degree\",\"some college\",\"some college\",\"associate's degree\",\"high school\",\"some high school\",\"high school\",\"some high school\",\"some college\",\"some high school\",\"some high school\",\"some high school\",\"associate's degree\",\"high school\",\"associate's degree\",\"some college\",\"some high school\",\"high school\",\"associate's degree\",\"high school\",\"high school\",\"master's degree\",\"some high school\",\"associate's degree\",\"high school\",\"high school\",\"associate's degree\",\"high school\",\"associate's degree\",\"associate's degree\",\"associate's degree\",\"some high school\",\"high school\",\"some college\",\"high school\",\"some college\",\"bachelor's degree\",\"bachelor's degree\",\"high school\",\"associate's degree\",\"high school\",\"some high school\",\"some college\",\"high school\",\"associate's degree\",\"some high school\",\"high school\",\"high school\",\"associate's degree\",\"bachelor's degree\",\"some high school\",\"some high school\",\"some high school\",\"bachelor's degree\",\"high school\",\"some high school\",\"associate's degree\",\"some high school\",\"some high school\",\"high school\",\"high school\",\"some high school\",\"high school\",\"high school\",\"some high school\",\"high school\",\"associate's degree\",\"associate's degree\",\"bachelor's degree\",\"some college\",\"high school\",\"some high school\",\"associate's degree\",\"high school\",\"some high school\",\"bachelor's degree\",\"associate's degree\",\"some high school\",\"some high school\",\"high school\",\"some college\",\"some college\",\"bachelor's degree\",\"some college\",\"some college\",\"associate's degree\",\"some college\",\"some college\",\"master's degree\",\"master's degree\",\"some college\",\"some college\",\"some college\",\"some college\",\"master's degree\",\"associate's degree\",\"high school\",\"high school\",\"some high school\",\"some college\",\"some high school\",\"associate's degree\",\"associate's degree\",\"master's degree\",\"high school\",\"some high school\",\"associate's degree\",\"associate's degree\",\"some high school\",\"high school\",\"high school\",\"associate's degree\",\"some high school\",\"some college\",\"associate's degree\",\"high school\",\"some college\",\"some college\",\"some high school\",\"high school\",\"high school\",\"high school\",\"associate's degree\",\"high school\",\"some high school\",\"high school\",\"high school\",\"associate's degree\",\"associate's degree\",\"some high school\",\"associate's degree\",\"associate's degree\",\"some high school\",\"master's degree\",\"high school\",\"high school\",\"bachelor's degree\",\"associate's degree\",\"associate's degree\",\"associate's degree\",\"some college\",\"some high school\",\"some high school\",\"associate's degree\",\"high school\",\"high school\",\"high school\",\"master's degree\",\"high school\",\"some college\",\"some high school\",\"high school\",\"associate's degree\",\"high school\",\"high school\",\"high school\",\"bachelor's degree\",\"some college\",\"associate's degree\",\"some college\",\"high school\",\"some college\",\"high school\",\"bachelor's degree\",\"bachelor's degree\",\"associate's degree\",\"some high school\"],\"yaxis\":\"y\",\"type\":\"scattergl\"},{\"customdata\":[[\"male\"],[\"female\"],[\"male\"],[\"male\"],[\"male\"],[\"female\"],[\"female\"],[\"female\"],[\"female\"],[\"male\"],[\"male\"],[\"male\"],[\"male\"],[\"female\"],[\"female\"],[\"female\"],[\"male\"],[\"female\"],[\"female\"],[\"female\"],[\"male\"],[\"female\"],[\"male\"],[\"male\"],[\"female\"],[\"female\"],[\"male\"],[\"female\"],[\"male\"],[\"male\"],[\"male\"],[\"male\"],[\"male\"],[\"female\"],[\"male\"],[\"male\"],[\"male\"],[\"female\"],[\"male\"],[\"male\"],[\"male\"],[\"female\"],[\"female\"],[\"female\"],[\"male\"],[\"female\"],[\"male\"],[\"male\"],[\"male\"],[\"male\"],[\"female\"],[\"male\"],[\"male\"],[\"female\"],[\"female\"],[\"male\"],[\"male\"],[\"female\"],[\"female\"],[\"male\"],[\"female\"],[\"female\"],[\"male\"],[\"male\"],[\"female\"],[\"male\"],[\"female\"],[\"male\"],[\"female\"],[\"male\"],[\"male\"],[\"male\"],[\"male\"],[\"male\"],[\"female\"],[\"female\"],[\"male\"],[\"female\"],[\"female\"],[\"male\"],[\"male\"],[\"female\"],[\"female\"],[\"female\"],[\"female\"],[\"female\"],[\"female\"],[\"male\"],[\"male\"],[\"male\"],[\"female\"],[\"female\"],[\"female\"],[\"female\"],[\"male\"],[\"male\"],[\"female\"],[\"male\"],[\"male\"],[\"male\"],[\"male\"],[\"male\"],[\"male\"],[\"female\"],[\"male\"],[\"male\"],[\"female\"],[\"male\"],[\"male\"],[\"female\"],[\"male\"],[\"male\"],[\"female\"],[\"female\"],[\"male\"],[\"male\"],[\"male\"],[\"male\"],[\"female\"],[\"male\"],[\"male\"],[\"female\"],[\"female\"],[\"male\"],[\"female\"],[\"male\"],[\"female\"],[\"female\"],[\"male\"],[\"female\"],[\"male\"],[\"male\"],[\"female\"],[\"male\"],[\"female\"],[\"male\"],[\"female\"],[\"female\"],[\"female\"],[\"male\"],[\"female\"],[\"female\"],[\"male\"],[\"female\"],[\"female\"],[\"male\"],[\"male\"],[\"male\"],[\"male\"],[\"female\"],[\"male\"],[\"male\"],[\"female\"],[\"female\"],[\"female\"],[\"male\"],[\"female\"],[\"female\"],[\"female\"],[\"male\"],[\"female\"],[\"male\"],[\"female\"],[\"male\"],[\"female\"],[\"male\"],[\"female\"],[\"female\"],[\"female\"],[\"male\"],[\"male\"],[\"male\"],[\"female\"],[\"male\"],[\"male\"],[\"female\"],[\"male\"],[\"female\"],[\"female\"],[\"male\"],[\"male\"],[\"female\"],[\"male\"],[\"female\"],[\"male\"],[\"female\"],[\"male\"],[\"female\"],[\"male\"],[\"male\"],[\"female\"],[\"male\"],[\"female\"],[\"female\"],[\"female\"],[\"male\"],[\"female\"],[\"male\"],[\"female\"],[\"male\"],[\"female\"]],\"hovertemplate\":\"GPA cuantiles=Bajo<br>promedio=%{x}<br>parental level of education=%{y}<br>gender=%{customdata[0]}<extra></extra>\",\"legendgroup\":\"Bajo\",\"marker\":{\"color\":\"orange\",\"symbol\":\"circle\"},\"mode\":\"markers\",\"name\":\"Bajo\",\"showlegend\":true,\"x\":[4.34,4.34,4.34,4.34,4.34,4.34,4.34,4.359999999999999,4.359999999999999,4.36,4.36,4.36,4.36,4.36,4.36,4.36,4.36,4.379999999999999,4.38,4.38,4.38,4.38,4.38,4.3999999999999995,4.3999999999999995,4.3999999999999995,4.4,4.419999999999999,4.419999999999999,4.42,4.420000000000001,4.44,4.44,4.44,4.44,4.44,4.44,4.44,4.44,4.46,4.46,4.46,4.46,4.46,4.46,4.46,4.46,4.4799999999999995,4.4799999999999995,4.5,4.5,4.5,4.5,4.5,4.5,4.5,4.5,4.5,4.52,4.52,4.52,4.52,4.52,4.5200000000000005,4.5200000000000005,4.5200000000000005,4.5200000000000005,4.54,4.54,4.54,4.54,4.54,4.54,4.54,4.54,4.54,4.56,4.56,4.56,4.56,4.56,4.56,4.579999999999999,4.579999999999999,4.58,4.58,4.580000000000001,4.6,4.6,4.6,4.6,4.6000000000000005,4.6000000000000005,4.6000000000000005,4.6000000000000005,4.619999999999999,4.62,4.62,4.62,4.62,4.62,4.62,4.62,4.64,4.64,4.64,4.64,4.64,4.64,4.64,4.659999999999999,4.659999999999999,4.66,4.66,4.66,4.66,4.68,4.68,4.68,4.68,4.68,4.68,4.68,4.680000000000001,4.680000000000001,4.7,4.7,4.7,4.7,4.7,4.7,4.7,4.72,4.72,4.72,4.72,4.72,4.72,4.739999999999999,4.739999999999999,4.739999999999999,4.739999999999999,4.739999999999999,4.739999999999999,4.74,4.74,4.759999999999999,4.76,4.760000000000001,4.760000000000001,4.779999999999999,4.78,4.78,4.78,4.78,4.78,4.78,4.8,4.8,4.8,4.8,4.800000000000001,4.819999999999999,4.819999999999999,4.819999999999999,4.82,4.82,4.82,4.82,4.82,4.82,4.839999999999999,4.84,4.84,4.84,4.84,4.84,4.84,4.84,4.84,4.859999999999999,4.859999999999999,4.859999999999999,4.859999999999999,4.859999999999999,4.859999999999999,4.859999999999999,4.86,4.86,4.86,4.88,4.88,4.88,4.88,4.88,4.88,4.88,4.88,4.88,4.88,4.88],\"xaxis\":\"x\",\"y\":[\"associate's degree\",\"some college\",\"bachelor's degree\",\"associate's degree\",\"high school\",\"associate's degree\",\"high school\",\"some high school\",\"associate's degree\",\"high school\",\"associate's degree\",\"bachelor's degree\",\"associate's degree\",\"bachelor's degree\",\"some college\",\"some college\",\"high school\",\"bachelor's degree\",\"some college\",\"some high school\",\"associate's degree\",\"bachelor's degree\",\"some college\",\"associate's degree\",\"some high school\",\"high school\",\"associate's degree\",\"some college\",\"associate's degree\",\"high school\",\"high school\",\"some college\",\"some college\",\"high school\",\"some high school\",\"high school\",\"associate's degree\",\"master's degree\",\"high school\",\"some high school\",\"some high school\",\"associate's degree\",\"associate's degree\",\"some high school\",\"some high school\",\"associate's degree\",\"some high school\",\"some high school\",\"some high school\",\"some high school\",\"bachelor's degree\",\"some college\",\"associate's degree\",\"some high school\",\"high school\",\"some college\",\"some college\",\"some college\",\"some high school\",\"high school\",\"some college\",\"associate's degree\",\"high school\",\"associate's degree\",\"associate's degree\",\"some high school\",\"some college\",\"some high school\",\"some college\",\"high school\",\"some college\",\"some high school\",\"some college\",\"associate's degree\",\"master's degree\",\"some high school\",\"associate's degree\",\"some college\",\"master's degree\",\"some college\",\"some college\",\"some college\",\"high school\",\"high school\",\"some high school\",\"high school\",\"bachelor's degree\",\"some college\",\"some high school\",\"some college\",\"high school\",\"high school\",\"some college\",\"some high school\",\"high school\",\"some college\",\"bachelor's degree\",\"associate's degree\",\"some college\",\"bachelor's degree\",\"high school\",\"high school\",\"some high school\",\"associate's degree\",\"some college\",\"some college\",\"some high school\",\"some college\",\"bachelor's degree\",\"master's degree\",\"some college\",\"bachelor's degree\",\"some college\",\"some college\",\"some high school\",\"master's degree\",\"associate's degree\",\"some college\",\"associate's degree\",\"some high school\",\"some college\",\"master's degree\",\"some college\",\"bachelor's degree\",\"associate's degree\",\"some high school\",\"some college\",\"master's degree\",\"associate's degree\",\"some college\",\"associate's degree\",\"high school\",\"associate's degree\",\"bachelor's degree\",\"bachelor's degree\",\"some college\",\"high school\",\"some high school\",\"some college\",\"some college\",\"some college\",\"high school\",\"high school\",\"some high school\",\"high school\",\"some college\",\"high school\",\"high school\",\"bachelor's degree\",\"some college\",\"associate's degree\",\"some college\",\"master's degree\",\"some college\",\"high school\",\"associate's degree\",\"some college\",\"associate's degree\",\"master's degree\",\"some high school\",\"high school\",\"some college\",\"associate's degree\",\"some college\",\"some college\",\"high school\",\"high school\",\"associate's degree\",\"some high school\",\"some college\",\"associate's degree\",\"some college\",\"some college\",\"bachelor's degree\",\"associate's degree\",\"associate's degree\",\"high school\",\"some high school\",\"high school\",\"some high school\",\"bachelor's degree\",\"associate's degree\",\"associate's degree\",\"master's degree\",\"bachelor's degree\",\"high school\",\"some high school\",\"master's degree\",\"associate's degree\",\"some high school\",\"associate's degree\",\"high school\",\"some college\",\"associate's degree\",\"some college\",\"some high school\",\"bachelor's degree\",\"master's degree\",\"associate's degree\",\"associate's degree\",\"high school\"],\"yaxis\":\"y\",\"type\":\"scattergl\"},{\"customdata\":[[\"male\"],[\"female\"],[\"male\"],[\"female\"],[\"female\"],[\"female\"],[\"male\"],[\"female\"],[\"male\"],[\"female\"],[\"male\"],[\"female\"],[\"male\"],[\"male\"],[\"male\"],[\"female\"],[\"female\"],[\"male\"],[\"female\"],[\"male\"],[\"male\"],[\"female\"],[\"female\"],[\"female\"],[\"male\"],[\"male\"],[\"male\"],[\"male\"],[\"female\"],[\"female\"],[\"female\"],[\"male\"],[\"male\"],[\"female\"],[\"male\"],[\"female\"],[\"male\"],[\"female\"],[\"female\"],[\"female\"],[\"male\"],[\"male\"],[\"female\"],[\"female\"],[\"male\"],[\"female\"],[\"female\"],[\"female\"],[\"female\"],[\"male\"],[\"female\"],[\"female\"],[\"female\"],[\"female\"],[\"male\"],[\"male\"],[\"female\"],[\"female\"],[\"male\"],[\"male\"],[\"female\"],[\"male\"],[\"male\"],[\"female\"],[\"male\"],[\"male\"],[\"female\"],[\"female\"],[\"male\"],[\"female\"],[\"male\"],[\"female\"],[\"female\"],[\"male\"],[\"male\"],[\"male\"],[\"male\"],[\"female\"],[\"female\"],[\"female\"],[\"female\"],[\"male\"],[\"female\"],[\"male\"],[\"female\"],[\"female\"],[\"male\"],[\"male\"],[\"female\"],[\"male\"],[\"male\"],[\"female\"],[\"male\"],[\"female\"],[\"male\"],[\"male\"],[\"male\"],[\"female\"],[\"male\"],[\"female\"],[\"male\"],[\"male\"],[\"male\"],[\"male\"],[\"female\"],[\"female\"],[\"male\"],[\"male\"],[\"male\"],[\"male\"],[\"male\"],[\"female\"],[\"female\"],[\"female\"],[\"female\"],[\"female\"],[\"male\"],[\"male\"],[\"female\"],[\"female\"],[\"female\"],[\"female\"],[\"male\"],[\"female\"],[\"female\"],[\"male\"],[\"male\"],[\"male\"],[\"female\"],[\"male\"],[\"female\"],[\"female\"],[\"male\"],[\"female\"],[\"female\"],[\"male\"],[\"male\"],[\"female\"],[\"male\"],[\"male\"],[\"male\"],[\"female\"],[\"male\"],[\"female\"],[\"male\"],[\"male\"],[\"female\"],[\"male\"],[\"female\"],[\"female\"],[\"male\"],[\"female\"],[\"male\"],[\"male\"],[\"female\"],[\"male\"],[\"male\"],[\"female\"],[\"female\"],[\"female\"],[\"female\"],[\"female\"],[\"female\"],[\"female\"],[\"male\"],[\"male\"],[\"male\"],[\"female\"],[\"female\"],[\"female\"],[\"female\"],[\"male\"],[\"male\"],[\"male\"],[\"female\"],[\"female\"],[\"male\"],[\"male\"],[\"female\"],[\"male\"],[\"male\"],[\"female\"],[\"male\"],[\"male\"],[\"female\"],[\"female\"],[\"male\"],[\"male\"],[\"female\"],[\"female\"],[\"female\"],[\"male\"],[\"female\"],[\"male\"],[\"male\"],[\"male\"],[\"male\"],[\"female\"],[\"female\"],[\"female\"],[\"male\"],[\"male\"],[\"female\"]],\"hovertemplate\":\"GPA cuantiles=Medio<br>promedio=%{x}<br>parental level of education=%{y}<br>gender=%{customdata[0]}<extra></extra>\",\"legendgroup\":\"Medio\",\"marker\":{\"color\":\"yellow\",\"symbol\":\"circle\"},\"mode\":\"markers\",\"name\":\"Medio\",\"showlegend\":true,\"x\":[4.8999999999999995,4.8999999999999995,4.8999999999999995,4.8999999999999995,4.8999999999999995,4.8999999999999995,4.8999999999999995,4.9,4.9,4.919999999999999,4.919999999999999,4.919999999999999,4.92,4.92,4.92,4.92,4.92,4.92,4.9399999999999995,4.9399999999999995,4.9399999999999995,4.94,4.94,4.94,4.94,4.94,4.96,4.96,4.96,4.96,4.96,4.96,4.96,4.96,4.96,4.96,4.96,4.96,4.96,4.96,4.9799999999999995,4.9799999999999995,4.9799999999999995,4.9799999999999995,4.9799999999999995,5.0,5.0,5.0,5.0,5.0,5.0,5.0,5.0,5.02,5.02,5.02,5.02,5.02,5.02,5.02,5.02,5.0200000000000005,5.04,5.04,5.04,5.04,5.04,5.04,5.06,5.06,5.06,5.06,5.06,5.06,5.06,5.079999999999999,5.079999999999999,5.079999999999999,5.079999999999999,5.079999999999999,5.08,5.08,5.08,5.08,5.08,5.08,5.08,5.080000000000001,5.080000000000001,5.080000000000001,5.1,5.1,5.1,5.1000000000000005,5.1000000000000005,5.1000000000000005,5.1000000000000005,5.1000000000000005,5.1000000000000005,5.1000000000000005,5.1000000000000005,5.1000000000000005,5.1000000000000005,5.119999999999999,5.119999999999999,5.12,5.12,5.12,5.12,5.12,5.12,5.12,5.12,5.12,5.12,5.14,5.14,5.14,5.14,5.14,5.14,5.14,5.14,5.14,5.14,5.140000000000001,5.140000000000001,5.159999999999999,5.159999999999999,5.159999999999999,5.159999999999999,5.159999999999999,5.16,5.16,5.16,5.16,5.16,5.18,5.18,5.18,5.18,5.180000000000001,5.199999999999999,5.199999999999999,5.2,5.2,5.2,5.2,5.2,5.2,5.2,5.2,5.2,5.2,5.22,5.22,5.22,5.22,5.22,5.22,5.22,5.22,5.239999999999999,5.239999999999999,5.24,5.24,5.24,5.259999999999999,5.259999999999999,5.259999999999999,5.26,5.26,5.26,5.26,5.26,5.260000000000001,5.260000000000001,5.260000000000001,5.279999999999999,5.28,5.28,5.28,5.28,5.28,5.28,5.28,5.28,5.28,5.28,5.28,5.3,5.3,5.3,5.3,5.3,5.3,5.3,5.3,5.319999999999999,5.319999999999999,5.319999999999999,5.319999999999999,5.319999999999999],\"xaxis\":\"x\",\"y\":[\"bachelor's degree\",\"some college\",\"high school\",\"some college\",\"some college\",\"associate's degree\",\"some college\",\"high school\",\"high school\",\"some college\",\"bachelor's degree\",\"some college\",\"some high school\",\"some high school\",\"some college\",\"high school\",\"some high school\",\"bachelor's degree\",\"high school\",\"associate's degree\",\"some high school\",\"high school\",\"high school\",\"some college\",\"some college\",\"associate's degree\",\"high school\",\"some high school\",\"associate's degree\",\"associate's degree\",\"high school\",\"some high school\",\"some high school\",\"bachelor's degree\",\"high school\",\"some high school\",\"high school\",\"high school\",\"master's degree\",\"associate's degree\",\"associate's degree\",\"bachelor's degree\",\"high school\",\"associate's degree\",\"some high school\",\"some high school\",\"associate's degree\",\"some college\",\"associate's degree\",\"bachelor's degree\",\"some college\",\"high school\",\"high school\",\"some high school\",\"some high school\",\"some college\",\"bachelor's degree\",\"high school\",\"some college\",\"some college\",\"high school\",\"some college\",\"associate's degree\",\"bachelor's degree\",\"high school\",\"some high school\",\"bachelor's degree\",\"associate's degree\",\"bachelor's degree\",\"some high school\",\"some college\",\"bachelor's degree\",\"high school\",\"high school\",\"bachelor's degree\",\"bachelor's degree\",\"bachelor's degree\",\"associate's degree\",\"some college\",\"associate's degree\",\"some high school\",\"high school\",\"some high school\",\"high school\",\"some college\",\"associate's degree\",\"some high school\",\"high school\",\"some college\",\"high school\",\"some high school\",\"associate's degree\",\"master's degree\",\"some college\",\"associate's degree\",\"high school\",\"some college\",\"high school\",\"master's degree\",\"some college\",\"some college\",\"some high school\",\"high school\",\"associate's degree\",\"high school\",\"some college\",\"associate's degree\",\"some college\",\"associate's degree\",\"high school\",\"bachelor's degree\",\"some college\",\"some high school\",\"associate's degree\",\"associate's degree\",\"some high school\",\"associate's degree\",\"bachelor's degree\",\"some college\",\"associate's degree\",\"bachelor's degree\",\"associate's degree\",\"some high school\",\"bachelor's degree\",\"master's degree\",\"high school\",\"associate's degree\",\"some high school\",\"some college\",\"some high school\",\"bachelor's degree\",\"high school\",\"some college\",\"high school\",\"associate's degree\",\"some college\",\"associate's degree\",\"associate's degree\",\"high school\",\"some high school\",\"high school\",\"associate's degree\",\"some college\",\"some high school\",\"high school\",\"some college\",\"high school\",\"bachelor's degree\",\"high school\",\"master's degree\",\"some high school\",\"some college\",\"high school\",\"master's degree\",\"some high school\",\"some college\",\"high school\",\"bachelor's degree\",\"bachelor's degree\",\"associate's degree\",\"bachelor's degree\",\"some college\",\"master's degree\",\"some college\",\"bachelor's degree\",\"high school\",\"high school\",\"some college\",\"some college\",\"high school\",\"high school\",\"some college\",\"associate's degree\",\"bachelor's degree\",\"some college\",\"bachelor's degree\",\"high school\",\"high school\",\"associate's degree\",\"associate's degree\",\"some high school\",\"bachelor's degree\",\"associate's degree\",\"associate's degree\",\"some high school\",\"bachelor's degree\",\"associate's degree\",\"associate's degree\",\"associate's degree\",\"associate's degree\",\"master's degree\",\"high school\",\"some college\",\"some high school\",\"high school\",\"high school\",\"associate's degree\",\"some high school\",\"associate's degree\",\"associate's degree\",\"bachelor's degree\",\"some college\",\"associate's degree\"],\"yaxis\":\"y\",\"type\":\"scattergl\"},{\"customdata\":[[\"male\"],[\"female\"],[\"female\"],[\"female\"],[\"female\"],[\"female\"],[\"female\"],[\"female\"],[\"female\"],[\"male\"],[\"female\"],[\"female\"],[\"female\"],[\"male\"],[\"female\"],[\"female\"],[\"female\"],[\"male\"],[\"female\"],[\"female\"],[\"male\"],[\"female\"],[\"male\"],[\"male\"],[\"female\"],[\"male\"],[\"male\"],[\"female\"],[\"female\"],[\"male\"],[\"female\"],[\"female\"],[\"male\"],[\"female\"],[\"male\"],[\"female\"],[\"female\"],[\"male\"],[\"male\"],[\"male\"],[\"female\"],[\"male\"],[\"male\"],[\"female\"],[\"male\"],[\"female\"],[\"male\"],[\"female\"],[\"female\"],[\"female\"],[\"female\"],[\"male\"],[\"male\"],[\"female\"],[\"female\"],[\"male\"],[\"female\"],[\"female\"],[\"male\"],[\"female\"],[\"female\"],[\"female\"],[\"female\"],[\"male\"],[\"female\"],[\"female\"],[\"female\"],[\"female\"],[\"male\"],[\"female\"],[\"female\"],[\"male\"],[\"female\"],[\"male\"],[\"male\"],[\"female\"],[\"female\"],[\"female\"],[\"male\"],[\"female\"],[\"male\"],[\"male\"],[\"female\"],[\"female\"],[\"male\"],[\"female\"],[\"male\"],[\"female\"],[\"female\"],[\"female\"],[\"male\"],[\"male\"],[\"female\"],[\"female\"],[\"male\"],[\"male\"],[\"female\"],[\"female\"],[\"female\"],[\"female\"],[\"female\"],[\"female\"],[\"female\"],[\"female\"],[\"male\"],[\"male\"],[\"female\"],[\"male\"],[\"female\"],[\"female\"],[\"female\"],[\"female\"],[\"female\"],[\"male\"],[\"male\"],[\"female\"],[\"male\"],[\"male\"],[\"male\"],[\"female\"],[\"female\"],[\"male\"],[\"female\"],[\"male\"],[\"male\"],[\"female\"],[\"female\"],[\"female\"],[\"female\"],[\"male\"],[\"female\"],[\"male\"],[\"female\"],[\"female\"],[\"female\"],[\"female\"],[\"female\"],[\"male\"],[\"male\"],[\"male\"],[\"female\"],[\"male\"],[\"male\"],[\"male\"],[\"female\"],[\"female\"],[\"female\"],[\"male\"],[\"female\"],[\"male\"],[\"male\"],[\"male\"],[\"male\"],[\"female\"],[\"female\"],[\"male\"],[\"male\"],[\"female\"],[\"male\"],[\"female\"],[\"female\"],[\"female\"],[\"male\"],[\"male\"],[\"female\"],[\"female\"],[\"female\"],[\"female\"],[\"male\"],[\"male\"],[\"female\"],[\"female\"],[\"female\"],[\"male\"],[\"female\"],[\"female\"],[\"female\"],[\"female\"],[\"male\"],[\"male\"],[\"male\"],[\"male\"],[\"female\"],[\"female\"],[\"female\"],[\"female\"],[\"female\"],[\"female\"],[\"male\"],[\"male\"],[\"male\"],[\"male\"],[\"male\"],[\"female\"],[\"female\"],[\"male\"],[\"female\"],[\"male\"],[\"male\"],[\"female\"]],\"hovertemplate\":\"GPA cuantiles=Alto<br>promedio=%{x}<br>parental level of education=%{y}<br>gender=%{customdata[0]}<extra></extra>\",\"legendgroup\":\"Alto\",\"marker\":{\"color\":\"greenyellow\",\"symbol\":\"circle\"},\"mode\":\"markers\",\"name\":\"Alto\",\"showlegend\":true,\"x\":[5.32,5.32,5.32,5.32,5.339999999999999,5.34,5.34,5.34,5.34,5.34,5.359999999999999,5.359999999999999,5.359999999999999,5.359999999999999,5.359999999999999,5.359999999999999,5.359999999999999,5.359999999999999,5.359999999999999,5.36,5.38,5.38,5.38,5.38,5.38,5.38,5.38,5.38,5.38,5.38,5.38,5.38,5.3999999999999995,5.3999999999999995,5.3999999999999995,5.3999999999999995,5.3999999999999995,5.3999999999999995,5.3999999999999995,5.3999999999999995,5.3999999999999995,5.3999999999999995,5.400000000000001,5.419999999999999,5.419999999999999,5.419999999999999,5.419999999999999,5.419999999999999,5.44,5.44,5.44,5.44,5.44,5.44,5.46,5.46,5.46,5.46,5.46,5.46,5.46,5.46,5.46,5.46,5.46,5.46,5.4799999999999995,5.4799999999999995,5.4799999999999995,5.4799999999999995,5.4799999999999995,5.4799999999999995,5.48,5.48,5.5,5.5,5.5,5.5,5.5,5.5,5.5,5.5,5.5,5.5,5.5,5.52,5.52,5.52,5.52,5.52,5.52,5.52,5.539999999999999,5.539999999999999,5.539999999999999,5.539999999999999,5.539999999999999,5.539999999999999,5.539999999999999,5.539999999999999,5.54,5.54,5.56,5.56,5.56,5.56,5.56,5.56,5.56,5.56,5.56,5.579999999999999,5.579999999999999,5.579999999999999,5.579999999999999,5.579999999999999,5.579999999999999,5.599999999999999,5.6000000000000005,5.6000000000000005,5.6000000000000005,5.6000000000000005,5.62,5.62,5.62,5.62,5.62,5.62,5.62,5.62,5.64,5.64,5.64,5.64,5.64,5.64,5.64,5.640000000000001,5.640000000000001,5.640000000000001,5.640000000000001,5.640000000000001,5.640000000000001,5.640000000000001,5.66,5.66,5.66,5.66,5.66,5.68,5.68,5.68,5.68,5.68,5.68,5.68,5.68,5.68,5.68,5.699999999999999,5.7,5.7,5.7,5.7,5.7,5.7,5.7,5.7,5.719999999999999,5.72,5.72,5.72,5.72,5.72,5.72,5.72,5.72,5.739999999999999,5.739999999999999,5.739999999999999,5.739999999999999,5.739999999999999,5.739999999999999,5.739999999999999,5.759999999999999,5.760000000000001,5.760000000000001,5.760000000000001,5.760000000000001,5.760000000000001,5.760000000000001,5.760000000000001,5.7799999999999985,5.78,5.78,5.78,5.78,5.78,5.78,5.78],\"xaxis\":\"x\",\"y\":[\"some college\",\"associate's degree\",\"some high school\",\"some high school\",\"some college\",\"some college\",\"associate's degree\",\"some college\",\"associate's degree\",\"high school\",\"some college\",\"high school\",\"high school\",\"some high school\",\"bachelor's degree\",\"associate's degree\",\"some high school\",\"master's degree\",\"some college\",\"high school\",\"master's degree\",\"bachelor's degree\",\"some college\",\"bachelor's degree\",\"bachelor's degree\",\"some high school\",\"high school\",\"high school\",\"high school\",\"some college\",\"high school\",\"some high school\",\"associate's degree\",\"some high school\",\"some college\",\"associate's degree\",\"some high school\",\"associate's degree\",\"some high school\",\"master's degree\",\"some high school\",\"some college\",\"some high school\",\"bachelor's degree\",\"high school\",\"some college\",\"high school\",\"bachelor's degree\",\"some college\",\"some college\",\"some high school\",\"bachelor's degree\",\"bachelor's degree\",\"some high school\",\"some college\",\"some high school\",\"some college\",\"some college\",\"associate's degree\",\"some college\",\"associate's degree\",\"some college\",\"some college\",\"some college\",\"some college\",\"high school\",\"bachelor's degree\",\"high school\",\"associate's degree\",\"high school\",\"high school\",\"some college\",\"some high school\",\"associate's degree\",\"bachelor's degree\",\"associate's degree\",\"master's degree\",\"associate's degree\",\"bachelor's degree\",\"bachelor's degree\",\"bachelor's degree\",\"associate's degree\",\"some high school\",\"some high school\",\"associate's degree\",\"high school\",\"associate's degree\",\"some college\",\"associate's degree\",\"high school\",\"high school\",\"some college\",\"some college\",\"some college\",\"some college\",\"high school\",\"associate's degree\",\"master's degree\",\"some college\",\"bachelor's degree\",\"associate's degree\",\"high school\",\"associate's degree\",\"some high school\",\"some college\",\"bachelor's degree\",\"some high school\",\"associate's degree\",\"high school\",\"some high school\",\"some college\",\"associate's degree\",\"high school\",\"some high school\",\"some high school\",\"some college\",\"some college\",\"some college\",\"some high school\",\"high school\",\"bachelor's degree\",\"associate's degree\",\"some high school\",\"master's degree\",\"master's degree\",\"some high school\",\"some college\",\"some high school\",\"some high school\",\"some college\",\"associate's degree\",\"some high school\",\"bachelor's degree\",\"associate's degree\",\"associate's degree\",\"some college\",\"associate's degree\",\"associate's degree\",\"associate's degree\",\"associate's degree\",\"some high school\",\"master's degree\",\"associate's degree\",\"some college\",\"some college\",\"high school\",\"bachelor's degree\",\"associate's degree\",\"associate's degree\",\"high school\",\"bachelor's degree\",\"master's degree\",\"associate's degree\",\"some college\",\"associate's degree\",\"associate's degree\",\"associate's degree\",\"some college\",\"some high school\",\"some high school\",\"some college\",\"associate's degree\",\"high school\",\"high school\",\"some college\",\"master's degree\",\"high school\",\"some college\",\"some college\",\"some college\",\"bachelor's degree\",\"some high school\",\"some college\",\"some college\",\"some high school\",\"high school\",\"bachelor's degree\",\"associate's degree\",\"high school\",\"some high school\",\"some high school\",\"associate's degree\",\"associate's degree\",\"some college\",\"associate's degree\",\"some high school\",\"associate's degree\",\"master's degree\",\"some high school\",\"master's degree\",\"high school\",\"some college\",\"associate's degree\",\"bachelor's degree\",\"bachelor's degree\",\"some college\",\"high school\",\"bachelor's degree\",\"bachelor's degree\",\"associate's degree\"],\"yaxis\":\"y\",\"type\":\"scattergl\"},{\"customdata\":[[\"female\"],[\"female\"],[\"male\"],[\"female\"],[\"male\"],[\"male\"],[\"male\"],[\"male\"],[\"male\"],[\"male\"],[\"male\"],[\"female\"],[\"male\"],[\"male\"],[\"male\"],[\"female\"],[\"female\"],[\"female\"],[\"female\"],[\"female\"],[\"male\"],[\"male\"],[\"male\"],[\"male\"],[\"female\"],[\"male\"],[\"male\"],[\"male\"],[\"male\"],[\"male\"],[\"male\"],[\"female\"],[\"female\"],[\"female\"],[\"female\"],[\"male\"],[\"male\"],[\"male\"],[\"female\"],[\"male\"],[\"male\"],[\"female\"],[\"female\"],[\"female\"],[\"male\"],[\"female\"],[\"female\"],[\"female\"],[\"female\"],[\"male\"],[\"male\"],[\"male\"],[\"female\"],[\"female\"],[\"female\"],[\"male\"],[\"male\"],[\"female\"],[\"female\"],[\"male\"],[\"female\"],[\"female\"],[\"male\"],[\"female\"],[\"male\"],[\"female\"],[\"male\"],[\"female\"],[\"female\"],[\"male\"],[\"female\"],[\"male\"],[\"female\"],[\"female\"],[\"female\"],[\"male\"],[\"female\"],[\"female\"],[\"female\"],[\"female\"],[\"female\"],[\"female\"],[\"male\"],[\"male\"],[\"male\"],[\"male\"],[\"female\"],[\"female\"],[\"female\"],[\"male\"],[\"female\"],[\"male\"],[\"female\"],[\"female\"],[\"male\"],[\"female\"],[\"female\"],[\"male\"],[\"male\"],[\"female\"],[\"male\"],[\"female\"],[\"male\"],[\"female\"],[\"male\"],[\"female\"],[\"male\"],[\"male\"],[\"female\"],[\"female\"],[\"male\"],[\"female\"],[\"male\"],[\"female\"],[\"female\"],[\"female\"],[\"male\"],[\"female\"],[\"female\"],[\"female\"],[\"male\"],[\"male\"],[\"male\"],[\"female\"],[\"female\"],[\"female\"],[\"male\"],[\"female\"],[\"female\"],[\"female\"],[\"female\"],[\"female\"],[\"male\"],[\"female\"],[\"male\"],[\"male\"],[\"male\"],[\"male\"],[\"female\"],[\"male\"],[\"female\"],[\"female\"],[\"female\"],[\"female\"],[\"female\"],[\"female\"],[\"female\"],[\"female\"],[\"female\"],[\"female\"],[\"female\"],[\"male\"],[\"female\"],[\"female\"],[\"male\"],[\"female\"],[\"female\"],[\"female\"],[\"male\"],[\"male\"],[\"male\"],[\"female\"],[\"female\"],[\"female\"],[\"female\"],[\"female\"],[\"male\"],[\"male\"],[\"male\"],[\"female\"],[\"female\"],[\"male\"],[\"male\"],[\"female\"],[\"female\"],[\"male\"],[\"female\"],[\"female\"],[\"female\"],[\"female\"],[\"female\"],[\"female\"],[\"female\"],[\"female\"],[\"female\"],[\"female\"],[\"female\"],[\"male\"],[\"female\"],[\"female\"],[\"female\"],[\"male\"],[\"female\"],[\"female\"],[\"female\"],[\"male\"],[\"female\"],[\"female\"]],\"hovertemplate\":\"GPA cuantiles=Muy alto<br>promedio=%{x}<br>parental level of education=%{y}<br>gender=%{customdata[0]}<extra></extra>\",\"legendgroup\":\"Muy alto\",\"marker\":{\"color\":\"green\",\"symbol\":\"circle\"},\"mode\":\"markers\",\"name\":\"Muy alto\",\"showlegend\":true,\"x\":[5.8,5.8,5.8,5.8,5.819999999999999,5.82,5.82,5.82,5.82,5.82,5.82,5.82,5.84,5.84,5.84,5.84,5.84,5.84,5.84,5.859999999999999,5.859999999999999,5.88,5.88,5.88,5.88,5.88,5.8999999999999995,5.8999999999999995,5.8999999999999995,5.8999999999999995,5.919999999999999,5.919999999999999,5.919999999999999,5.94,5.94,5.94,5.94,5.94,5.94,5.94,5.94,5.94,5.94,5.94,5.96,5.96,5.96,5.96,5.96,5.960000000000001,5.9799999999999995,5.9799999999999995,5.9799999999999995,5.9799999999999995,5.9799999999999995,5.9799999999999995,5.9799999999999995,5.98,5.98,6.0,6.0,6.0,6.0,6.0,6.02,6.02,6.0200000000000005,6.0200000000000005,6.039999999999999,6.039999999999999,6.039999999999999,6.039999999999999,6.039999999999999,6.039999999999999,6.039999999999999,6.039999999999999,6.06,6.06,6.079999999999999,6.079999999999999,6.080000000000001,6.080000000000001,6.099999999999999,6.099999999999999,6.1000000000000005,6.1000000000000005,6.12,6.12,6.12,6.12,6.14,6.14,6.140000000000001,6.140000000000001,6.140000000000001,6.140000000000001,6.159999999999999,6.16,6.16,6.16,6.18,6.18,6.18,6.18,6.18,6.18,6.199999999999999,6.199999999999999,6.2,6.2,6.219999999999999,6.219999999999999,6.219999999999999,6.22,6.22,6.22,6.239999999999999,6.239999999999999,6.239999999999999,6.239999999999999,6.239999999999999,6.259999999999999,6.260000000000001,6.28,6.28,6.3,6.3,6.3,6.3,6.3,6.32,6.32,6.32,6.32,6.32,6.339999999999999,6.34,6.34,6.34,6.34,6.359999999999999,6.359999999999999,6.359999999999999,6.359999999999999,6.38,6.38,6.3999999999999995,6.3999999999999995,6.419999999999999,6.419999999999999,6.419999999999999,6.44,6.46,6.4799999999999995,6.4799999999999995,6.4799999999999995,6.5,6.5,6.5,6.5,6.5,6.5,6.52,6.52,6.54,6.56,6.56,6.56,6.579999999999999,6.6000000000000005,6.6000000000000005,6.62,6.64,6.64,6.64,6.640000000000001,6.739999999999999,6.739999999999999,6.760000000000001,6.78,6.78,6.78,6.8,6.82,6.82,6.84,6.84,6.859999999999999,6.859999999999999,6.859999999999999,6.919999999999999,6.919999999999999,6.94,6.94,6.9799999999999995,7.0,7.0,7.0],\"xaxis\":\"x\",\"y\":[\"high school\",\"some college\",\"some college\",\"high school\",\"some college\",\"some high school\",\"some high school\",\"high school\",\"associate's degree\",\"associate's degree\",\"associate's degree\",\"some high school\",\"high school\",\"some college\",\"some high school\",\"bachelor's degree\",\"some high school\",\"bachelor's degree\",\"some high school\",\"high school\",\"associate's degree\",\"associate's degree\",\"associate's degree\",\"associate's degree\",\"some high school\",\"high school\",\"some college\",\"some high school\",\"associate's degree\",\"associate's degree\",\"master's degree\",\"some college\",\"bachelor's degree\",\"some college\",\"some college\",\"some high school\",\"high school\",\"some high school\",\"some college\",\"some college\",\"some high school\",\"some college\",\"associate's degree\",\"high school\",\"some high school\",\"high school\",\"some high school\",\"high school\",\"some college\",\"high school\",\"bachelor's degree\",\"some college\",\"bachelor's degree\",\"high school\",\"bachelor's degree\",\"associate's degree\",\"bachelor's degree\",\"some college\",\"associate's degree\",\"some high school\",\"master's degree\",\"some high school\",\"some high school\",\"high school\",\"some college\",\"master's degree\",\"bachelor's degree\",\"associate's degree\",\"some high school\",\"some college\",\"some high school\",\"associate's degree\",\"bachelor's degree\",\"associate's degree\",\"some high school\",\"some college\",\"associate's degree\",\"associate's degree\",\"some college\",\"master's degree\",\"some college\",\"some college\",\"high school\",\"master's degree\",\"associate's degree\",\"bachelor's degree\",\"some college\",\"some college\",\"some high school\",\"associate's degree\",\"associate's degree\",\"some high school\",\"some college\",\"associate's degree\",\"some college\",\"bachelor's degree\",\"associate's degree\",\"bachelor's degree\",\"master's degree\",\"some college\",\"high school\",\"some college\",\"some high school\",\"master's degree\",\"master's degree\",\"bachelor's degree\",\"some high school\",\"master's degree\",\"bachelor's degree\",\"some high school\",\"associate's degree\",\"bachelor's degree\",\"master's degree\",\"associate's degree\",\"high school\",\"associate's degree\",\"associate's degree\",\"some college\",\"some college\",\"associate's degree\",\"associate's degree\",\"master's degree\",\"high school\",\"associate's degree\",\"master's degree\",\"bachelor's degree\",\"bachelor's degree\",\"associate's degree\",\"master's degree\",\"some college\",\"bachelor's degree\",\"associate's degree\",\"some college\",\"some college\",\"some college\",\"associate's degree\",\"some college\",\"some college\",\"some high school\",\"some high school\",\"master's degree\",\"associate's degree\",\"associate's degree\",\"high school\",\"some college\",\"associate's degree\",\"some high school\",\"some college\",\"associate's degree\",\"bachelor's degree\",\"associate's degree\",\"associate's degree\",\"associate's degree\",\"some college\",\"some college\",\"some high school\",\"some college\",\"some college\",\"associate's degree\",\"bachelor's degree\",\"associate's degree\",\"associate's degree\",\"associate's degree\",\"associate's degree\",\"some college\",\"master's degree\",\"bachelor's degree\",\"some college\",\"bachelor's degree\",\"master's degree\",\"associate's degree\",\"associate's degree\",\"associate's degree\",\"master's degree\",\"high school\",\"some college\",\"master's degree\",\"high school\",\"associate's degree\",\"some high school\",\"some college\",\"bachelor's degree\",\"bachelor's degree\",\"bachelor's degree\",\"associate's degree\",\"bachelor's degree\",\"master's degree\",\"associate's degree\",\"bachelor's degree\",\"master's degree\",\"bachelor's degree\",\"some college\",\"some high school\",\"some college\",\"bachelor's degree\",\"bachelor's degree\",\"bachelor's degree\",\"associate's degree\"],\"yaxis\":\"y\",\"type\":\"scattergl\"}],                        {\"template\":{\"data\":{\"histogram2dcontour\":[{\"type\":\"histogram2dcontour\",\"colorbar\":{\"outlinewidth\":0,\"ticks\":\"\"},\"colorscale\":[[0.0,\"#0d0887\"],[0.1111111111111111,\"#46039f\"],[0.2222222222222222,\"#7201a8\"],[0.3333333333333333,\"#9c179e\"],[0.4444444444444444,\"#bd3786\"],[0.5555555555555556,\"#d8576b\"],[0.6666666666666666,\"#ed7953\"],[0.7777777777777778,\"#fb9f3a\"],[0.8888888888888888,\"#fdca26\"],[1.0,\"#f0f921\"]]}],\"choropleth\":[{\"type\":\"choropleth\",\"colorbar\":{\"outlinewidth\":0,\"ticks\":\"\"}}],\"histogram2d\":[{\"type\":\"histogram2d\",\"colorbar\":{\"outlinewidth\":0,\"ticks\":\"\"},\"colorscale\":[[0.0,\"#0d0887\"],[0.1111111111111111,\"#46039f\"],[0.2222222222222222,\"#7201a8\"],[0.3333333333333333,\"#9c179e\"],[0.4444444444444444,\"#bd3786\"],[0.5555555555555556,\"#d8576b\"],[0.6666666666666666,\"#ed7953\"],[0.7777777777777778,\"#fb9f3a\"],[0.8888888888888888,\"#fdca26\"],[1.0,\"#f0f921\"]]}],\"heatmap\":[{\"type\":\"heatmap\",\"colorbar\":{\"outlinewidth\":0,\"ticks\":\"\"},\"colorscale\":[[0.0,\"#0d0887\"],[0.1111111111111111,\"#46039f\"],[0.2222222222222222,\"#7201a8\"],[0.3333333333333333,\"#9c179e\"],[0.4444444444444444,\"#bd3786\"],[0.5555555555555556,\"#d8576b\"],[0.6666666666666666,\"#ed7953\"],[0.7777777777777778,\"#fb9f3a\"],[0.8888888888888888,\"#fdca26\"],[1.0,\"#f0f921\"]]}],\"heatmapgl\":[{\"type\":\"heatmapgl\",\"colorbar\":{\"outlinewidth\":0,\"ticks\":\"\"},\"colorscale\":[[0.0,\"#0d0887\"],[0.1111111111111111,\"#46039f\"],[0.2222222222222222,\"#7201a8\"],[0.3333333333333333,\"#9c179e\"],[0.4444444444444444,\"#bd3786\"],[0.5555555555555556,\"#d8576b\"],[0.6666666666666666,\"#ed7953\"],[0.7777777777777778,\"#fb9f3a\"],[0.8888888888888888,\"#fdca26\"],[1.0,\"#f0f921\"]]}],\"contourcarpet\":[{\"type\":\"contourcarpet\",\"colorbar\":{\"outlinewidth\":0,\"ticks\":\"\"}}],\"contour\":[{\"type\":\"contour\",\"colorbar\":{\"outlinewidth\":0,\"ticks\":\"\"},\"colorscale\":[[0.0,\"#0d0887\"],[0.1111111111111111,\"#46039f\"],[0.2222222222222222,\"#7201a8\"],[0.3333333333333333,\"#9c179e\"],[0.4444444444444444,\"#bd3786\"],[0.5555555555555556,\"#d8576b\"],[0.6666666666666666,\"#ed7953\"],[0.7777777777777778,\"#fb9f3a\"],[0.8888888888888888,\"#fdca26\"],[1.0,\"#f0f921\"]]}],\"surface\":[{\"type\":\"surface\",\"colorbar\":{\"outlinewidth\":0,\"ticks\":\"\"},\"colorscale\":[[0.0,\"#0d0887\"],[0.1111111111111111,\"#46039f\"],[0.2222222222222222,\"#7201a8\"],[0.3333333333333333,\"#9c179e\"],[0.4444444444444444,\"#bd3786\"],[0.5555555555555556,\"#d8576b\"],[0.6666666666666666,\"#ed7953\"],[0.7777777777777778,\"#fb9f3a\"],[0.8888888888888888,\"#fdca26\"],[1.0,\"#f0f921\"]]}],\"mesh3d\":[{\"type\":\"mesh3d\",\"colorbar\":{\"outlinewidth\":0,\"ticks\":\"\"}}],\"scatter\":[{\"fillpattern\":{\"fillmode\":\"overlay\",\"size\":10,\"solidity\":0.2},\"type\":\"scatter\"}],\"parcoords\":[{\"type\":\"parcoords\",\"line\":{\"colorbar\":{\"outlinewidth\":0,\"ticks\":\"\"}}}],\"scatterpolargl\":[{\"type\":\"scatterpolargl\",\"marker\":{\"colorbar\":{\"outlinewidth\":0,\"ticks\":\"\"}}}],\"bar\":[{\"error_x\":{\"color\":\"#2a3f5f\"},\"error_y\":{\"color\":\"#2a3f5f\"},\"marker\":{\"line\":{\"color\":\"#E5ECF6\",\"width\":0.5},\"pattern\":{\"fillmode\":\"overlay\",\"size\":10,\"solidity\":0.2}},\"type\":\"bar\"}],\"scattergeo\":[{\"type\":\"scattergeo\",\"marker\":{\"colorbar\":{\"outlinewidth\":0,\"ticks\":\"\"}}}],\"scatterpolar\":[{\"type\":\"scatterpolar\",\"marker\":{\"colorbar\":{\"outlinewidth\":0,\"ticks\":\"\"}}}],\"histogram\":[{\"marker\":{\"pattern\":{\"fillmode\":\"overlay\",\"size\":10,\"solidity\":0.2}},\"type\":\"histogram\"}],\"scattergl\":[{\"type\":\"scattergl\",\"marker\":{\"colorbar\":{\"outlinewidth\":0,\"ticks\":\"\"}}}],\"scatter3d\":[{\"type\":\"scatter3d\",\"line\":{\"colorbar\":{\"outlinewidth\":0,\"ticks\":\"\"}},\"marker\":{\"colorbar\":{\"outlinewidth\":0,\"ticks\":\"\"}}}],\"scattermapbox\":[{\"type\":\"scattermapbox\",\"marker\":{\"colorbar\":{\"outlinewidth\":0,\"ticks\":\"\"}}}],\"scatterternary\":[{\"type\":\"scatterternary\",\"marker\":{\"colorbar\":{\"outlinewidth\":0,\"ticks\":\"\"}}}],\"scattercarpet\":[{\"type\":\"scattercarpet\",\"marker\":{\"colorbar\":{\"outlinewidth\":0,\"ticks\":\"\"}}}],\"carpet\":[{\"aaxis\":{\"endlinecolor\":\"#2a3f5f\",\"gridcolor\":\"white\",\"linecolor\":\"white\",\"minorgridcolor\":\"white\",\"startlinecolor\":\"#2a3f5f\"},\"baxis\":{\"endlinecolor\":\"#2a3f5f\",\"gridcolor\":\"white\",\"linecolor\":\"white\",\"minorgridcolor\":\"white\",\"startlinecolor\":\"#2a3f5f\"},\"type\":\"carpet\"}],\"table\":[{\"cells\":{\"fill\":{\"color\":\"#EBF0F8\"},\"line\":{\"color\":\"white\"}},\"header\":{\"fill\":{\"color\":\"#C8D4E3\"},\"line\":{\"color\":\"white\"}},\"type\":\"table\"}],\"barpolar\":[{\"marker\":{\"line\":{\"color\":\"#E5ECF6\",\"width\":0.5},\"pattern\":{\"fillmode\":\"overlay\",\"size\":10,\"solidity\":0.2}},\"type\":\"barpolar\"}],\"pie\":[{\"automargin\":true,\"type\":\"pie\"}]},\"layout\":{\"autotypenumbers\":\"strict\",\"colorway\":[\"#636efa\",\"#EF553B\",\"#00cc96\",\"#ab63fa\",\"#FFA15A\",\"#19d3f3\",\"#FF6692\",\"#B6E880\",\"#FF97FF\",\"#FECB52\"],\"font\":{\"color\":\"#2a3f5f\"},\"hovermode\":\"closest\",\"hoverlabel\":{\"align\":\"left\"},\"paper_bgcolor\":\"white\",\"plot_bgcolor\":\"#E5ECF6\",\"polar\":{\"bgcolor\":\"#E5ECF6\",\"angularaxis\":{\"gridcolor\":\"white\",\"linecolor\":\"white\",\"ticks\":\"\"},\"radialaxis\":{\"gridcolor\":\"white\",\"linecolor\":\"white\",\"ticks\":\"\"}},\"ternary\":{\"bgcolor\":\"#E5ECF6\",\"aaxis\":{\"gridcolor\":\"white\",\"linecolor\":\"white\",\"ticks\":\"\"},\"baxis\":{\"gridcolor\":\"white\",\"linecolor\":\"white\",\"ticks\":\"\"},\"caxis\":{\"gridcolor\":\"white\",\"linecolor\":\"white\",\"ticks\":\"\"}},\"coloraxis\":{\"colorbar\":{\"outlinewidth\":0,\"ticks\":\"\"}},\"colorscale\":{\"sequential\":[[0.0,\"#0d0887\"],[0.1111111111111111,\"#46039f\"],[0.2222222222222222,\"#7201a8\"],[0.3333333333333333,\"#9c179e\"],[0.4444444444444444,\"#bd3786\"],[0.5555555555555556,\"#d8576b\"],[0.6666666666666666,\"#ed7953\"],[0.7777777777777778,\"#fb9f3a\"],[0.8888888888888888,\"#fdca26\"],[1.0,\"#f0f921\"]],\"sequentialminus\":[[0.0,\"#0d0887\"],[0.1111111111111111,\"#46039f\"],[0.2222222222222222,\"#7201a8\"],[0.3333333333333333,\"#9c179e\"],[0.4444444444444444,\"#bd3786\"],[0.5555555555555556,\"#d8576b\"],[0.6666666666666666,\"#ed7953\"],[0.7777777777777778,\"#fb9f3a\"],[0.8888888888888888,\"#fdca26\"],[1.0,\"#f0f921\"]],\"diverging\":[[0,\"#8e0152\"],[0.1,\"#c51b7d\"],[0.2,\"#de77ae\"],[0.3,\"#f1b6da\"],[0.4,\"#fde0ef\"],[0.5,\"#f7f7f7\"],[0.6,\"#e6f5d0\"],[0.7,\"#b8e186\"],[0.8,\"#7fbc41\"],[0.9,\"#4d9221\"],[1,\"#276419\"]]},\"xaxis\":{\"gridcolor\":\"white\",\"linecolor\":\"white\",\"ticks\":\"\",\"title\":{\"standoff\":15},\"zerolinecolor\":\"white\",\"automargin\":true,\"zerolinewidth\":2},\"yaxis\":{\"gridcolor\":\"white\",\"linecolor\":\"white\",\"ticks\":\"\",\"title\":{\"standoff\":15},\"zerolinecolor\":\"white\",\"automargin\":true,\"zerolinewidth\":2},\"scene\":{\"xaxis\":{\"backgroundcolor\":\"#E5ECF6\",\"gridcolor\":\"white\",\"linecolor\":\"white\",\"showbackground\":true,\"ticks\":\"\",\"zerolinecolor\":\"white\",\"gridwidth\":2},\"yaxis\":{\"backgroundcolor\":\"#E5ECF6\",\"gridcolor\":\"white\",\"linecolor\":\"white\",\"showbackground\":true,\"ticks\":\"\",\"zerolinecolor\":\"white\",\"gridwidth\":2},\"zaxis\":{\"backgroundcolor\":\"#E5ECF6\",\"gridcolor\":\"white\",\"linecolor\":\"white\",\"showbackground\":true,\"ticks\":\"\",\"zerolinecolor\":\"white\",\"gridwidth\":2}},\"shapedefaults\":{\"line\":{\"color\":\"#2a3f5f\"}},\"annotationdefaults\":{\"arrowcolor\":\"#2a3f5f\",\"arrowhead\":0,\"arrowwidth\":1},\"geo\":{\"bgcolor\":\"white\",\"landcolor\":\"#E5ECF6\",\"subunitcolor\":\"white\",\"showland\":true,\"showlakes\":true,\"lakecolor\":\"white\"},\"title\":{\"x\":0.05},\"mapbox\":{\"style\":\"light\"}}},\"xaxis\":{\"anchor\":\"y\",\"domain\":[0.0,1.0],\"title\":{\"text\":\"promedio\"}},\"yaxis\":{\"anchor\":\"x\",\"domain\":[0.0,1.0],\"title\":{\"text\":\"parental level of education\"}},\"legend\":{\"title\":{\"text\":\"GPA cuantiles\"},\"tracegroupgap\":0},\"title\":{\"text\":\"GPA por Nivel de educaci\\u00f3n de los padres\"}},                        {\"responsive\": true}                    ).then(function(){\n",
              "                            \n",
              "var gd = document.getElementById('1a2b5dca-9678-42a9-9683-24974dd04b8d');\n",
              "var x = new MutationObserver(function (mutations, observer) {{\n",
              "        var display = window.getComputedStyle(gd).display;\n",
              "        if (!display || display === 'none') {{\n",
              "            console.log([gd, 'removed!']);\n",
              "            Plotly.purge(gd);\n",
              "            observer.disconnect();\n",
              "        }}\n",
              "}});\n",
              "\n",
              "// Listen for the removal of the full notebook cells\n",
              "var notebookContainer = gd.closest('#notebook-container');\n",
              "if (notebookContainer) {{\n",
              "    x.observe(notebookContainer, {childList: true});\n",
              "}}\n",
              "\n",
              "// Listen for the clearing of the current output cell\n",
              "var outputEl = gd.closest('.output');\n",
              "if (outputEl) {{\n",
              "    x.observe(outputEl, {childList: true});\n",
              "}}\n",
              "\n",
              "                        })                };                            </script>        </div>\n",
              "</body>\n",
              "</html>"
            ]
          },
          "metadata": {}
        }
      ]
    },
    {
      "cell_type": "markdown",
      "source": [
        "# **¿Es posible visualizar alguna tendencia en el gráfico?**\n",
        "\n",
        "A simple vista los datos están distribuidos muy similarmente, incluso el cuantil 'Medio' pareciera mantenerse igual a través de todos los niveles educacionales de los padres.\n",
        "Pero observando con detención los valores mínimos y máximos se puede ver que a mayor nivel educacional son mejores los peores rendimientos de los alumnos. Es decir mientras más educación tengan los padres es menos probable que el alumno tenga un rendimiento 'Bajísimo'.\n",
        "Para el rendimiento 'Muy Alto' la tendencia no es tan clara, pero pareciera que mientras menos educación tengan los padres es menos probable que el alumno tenga un rendimiento 'Muy Alto'"
      ],
      "metadata": {
        "tags": [],
        "cell_id": "00062-ad093927-5bf2-4f2f-bc1d-55aee96cf311",
        "deepnote_cell_type": "markdown",
        "id": "SCmCsjNvyZlm"
      }
    },
    {
      "cell_type": "markdown",
      "source": [
        "# Conclusión\n",
        "Eso ha sido todo para el lab de hoy, recuerden que el laboratorio tiene un plazo de entrega de una semana. Cualquier duda del laboratorio, no duden en contactarnos por mail o U-cursos.\n",
        "\n",
        "<p align=\"center\">\n",
        "  <img src=\"https://media1.tenor.com/images/2f7df460196625edc45b8380d158e5ee/tenor.gif?itemid=16669403\">\n",
        "</p>"
      ],
      "metadata": {
        "id": "Rg4ZMq8ezAH6",
        "cell_id": "00063-0d54c0f4-3d67-4c1d-92c0-dcc7882faae0",
        "owner_user_id": "badcc427-fd3d-4615-9296-faa43ec69cfb",
        "deepnote_cell_type": "markdown"
      }
    },
    {
      "cell_type": "markdown",
      "source": [
        "<br>\n",
        "<center>\n",
        "<img src=\"https://i.kym-cdn.com/photos/images/original/001/194/195/b18.png\" width=100 height=50 />\n",
        "</center>\n",
        "<br>"
      ],
      "metadata": {
        "id": "wCL1lACBzAH7",
        "cell_id": "00064-230f1ae7-660b-4bae-822a-fee59dada1d1",
        "deepnote_cell_type": "markdown"
      }
    },
    {
      "cell_type": "markdown",
      "source": [
        "<a style='text-decoration:none;line-height:16px;display:flex;color:#5B5B62;padding:10px;justify-content:end;' href='https://deepnote.com?utm_source=created-in-deepnote-cell&projectId=87110296-876e-426f-b91d-aaf681223468' target=\"_blank\">\n",
        "<img alt='Created in deepnote.com' style='display:inline;max-height:16px;margin:0px;margin-right:7.5px;' src='data:image/svg+xml;base64,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' > </img>\n",
        "Created in <span style='font-weight:600;margin-left:4px;'>Deepnote</span></a>"
      ],
      "metadata": {
        "tags": [],
        "created_in_deepnote_cell": true,
        "deepnote_cell_type": "markdown",
        "id": "rMQ_EEd_yZlr"
      }
    }
  ],
  "nbformat": 4,
  "nbformat_minor": 0,
  "metadata": {
    "kernelspec": {
      "display_name": "Python 3",
      "language": "python",
      "name": "python3"
    },
    "language_info": {
      "codemirror_mode": {
        "name": "ipython",
        "version": 3
      },
      "file_extension": ".py",
      "mimetype": "text/x-python",
      "name": "python",
      "nbconvert_exporter": "python",
      "pygments_lexer": "ipython3",
      "version": "3.8.3"
    },
    "toc": {
      "base_numbering": 1,
      "nav_menu": {},
      "number_sections": true,
      "sideBar": true,
      "skip_h1_title": true,
      "title_cell": "Tabla de Contenidos",
      "title_sidebar": "Contenidos",
      "toc_cell": false,
      "toc_position": {
        "height": "calc(100% - 180px)",
        "left": "10px",
        "top": "150px",
        "width": "241.867px"
      },
      "toc_section_display": true,
      "toc_window_display": true
    },
    "varInspector": {
      "cols": {
        "lenName": 16,
        "lenType": 16,
        "lenVar": 40
      },
      "kernels_config": {
        "python": {
          "delete_cmd_postfix": "",
          "delete_cmd_prefix": "del ",
          "library": "var_list.py",
          "varRefreshCmd": "print(var_dic_list())"
        },
        "r": {
          "delete_cmd_postfix": ") ",
          "delete_cmd_prefix": "rm(",
          "library": "var_list.r",
          "varRefreshCmd": "cat(var_dic_list()) "
        }
      },
      "types_to_exclude": [
        "module",
        "function",
        "builtin_function_or_method",
        "instance",
        "_Feature"
      ],
      "window_display": false
    },
    "colab": {
      "provenance": [],
      "collapsed_sections": []
    },
    "deepnote_notebook_id": "7ce98c1f-486d-455c-8cea-d01f96f5dab9",
    "deepnote": {},
    "deepnote_execution_queue": []
  }
}