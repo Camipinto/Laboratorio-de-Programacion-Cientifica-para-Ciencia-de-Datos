{
  "cells": [
    {
      "cell_type": "markdown",
      "metadata": {
        "id": "view-in-github",
        "colab_type": "text"
      },
      "source": [
        "<a href=\"https://colab.research.google.com/github/Camipinto/Laboratorio-de-Programacion-Cientifica-para-Ciencia-de-Datos/blob/main/Lab05/Lab05.ipynb\" target=\"_parent\"><img src=\"https://colab.research.google.com/assets/colab-badge.svg\" alt=\"Open In Colab\"/></a>"
      ]
    },
    {
      "cell_type": "markdown",
      "metadata": {
        "cell_id": "00000-d922277a-c096-45e6-919d-d08ca8ca4c9c",
        "deepnote_cell_height": 155.43333435058594,
        "deepnote_cell_type": "markdown",
        "id": "XUZ1dFPHzAHl"
      },
      "source": [
        "<h1><center>Laboratorio 5: El Pandas no Muerde (act IV) 🐼</center></h1>\n",
        "\n",
        "<center><strong>MDS7202: Laboratorio de Programación Científica para Ciencia de Datos</strong></center>"
      ]
    },
    {
      "cell_type": "markdown",
      "metadata": {
        "cell_id": "00001-41058c5a-e4f2-45ba-8925-5dee28b63c02",
        "deepnote_cell_height": 165.78334045410156,
        "deepnote_cell_type": "markdown",
        "id": "UD8X1uhGzAHq"
      },
      "source": [
        "### Cuerpo Docente:\n",
        "\n",
        "- Profesor: Matias Rojas y Mauricio Araneda\n",
        "- Auxiliar: Ignacio Meza D.\n",
        "- Ayudante: Rodrigo Ortiz"
      ]
    },
    {
      "cell_type": "markdown",
      "metadata": {
        "cell_id": "00002-e1842bc9-c821-4133-b500-4fe9b07f9071",
        "deepnote_cell_height": 171.86666870117188,
        "deepnote_cell_type": "markdown",
        "id": "tXflExjqzAHr"
      },
      "source": [
        "### Equipo: SUPER IMPORTANTE - notebooks sin nombre no serán revisados\n",
        "\n",
        "- Nombre de alumno 1: **Camila Pinto L.**\n",
        "- Nombre de alumno 2: **Camilo Ramírez C.**\n"
      ]
    },
    {
      "cell_type": "markdown",
      "metadata": {
        "cell_id": "00003-1ff7590e-80bb-4f14-b210-a464229ab3d9",
        "deepnote_cell_height": 61.56666564941406,
        "deepnote_cell_type": "markdown",
        "id": "AD-V0bbZzAHr"
      },
      "source": [
        "### **Link de repositorio de GitHub:** https://github.com/Camilormz/MDS7202-labs"
      ]
    },
    {
      "cell_type": "markdown",
      "metadata": {
        "cell_id": "00005-9b6fbc71-5250-4293-939d-cff84ea69ac4",
        "deepnote_cell_height": 571,
        "deepnote_cell_type": "markdown",
        "id": "6uBLPj1PzAHs"
      },
      "source": [
        "\n",
        "## Reglas:\n",
        "\n",
        "- **Grupos de 2 personas**\n",
        "- **Ausentes** deberán realizar la actividad solos. \n",
        "- Cualquier duda fuera del horario de clases al foro. Mensajes al equipo docente serán respondidos por este medio.\n",
        "- Prohibidas las copias. \n",
        "- Pueden usar cualquer matrial del curso que estimen conveniente.\n",
        "\n",
        "### Objetivos principales del laboratorio\n",
        "\n",
        "- Aplicar los paradigmas y buenas prácticas de programación vistas hasta este momento.\n",
        "- Comprender y aprovechar las ventajas que nos ofrece la liberia `numpy` con respecto a trabajar en Python 'puro'.\n",
        "- Visualizar aplicaciones de filtros de imágenes sin el uso de librerías.\n",
        "- Verificar que el uso indiscriminado de `for` puede afectar en la eficiencia en al procesar datos masivos.\n",
        "\n",
        "\n",
        "El laboratorio deberá ser desarrollado sin el uso indiscriminado de iteradores nativos de python (aka \"for\", \"while\"). La idea es que aprendan a exprimir al máximo las funciones optimizadas que nos entrega `numpy`, las cuales vale mencionar, son bastante más eficientes que los iteradores nativos sobre arreglos (*o tensores*)."
      ]
    },
    {
      "cell_type": "markdown",
      "metadata": {
        "cell_id": "00006-aba27b6e-506c-4de4-9ba7-161e8fa8eeb6",
        "deepnote_cell_height": 69.03334045410156,
        "deepnote_cell_type": "markdown",
        "id": "wrG4gYabzAHs"
      },
      "source": [
        "## Descripción del laboratorio."
      ]
    },
    {
      "cell_type": "markdown",
      "metadata": {
        "cell_id": "00007-92b497a3-20e7-40e4-8a65-2115c3cf717b",
        "deepnote_cell_height": 61.03334045410156,
        "deepnote_cell_type": "markdown",
        "id": "MhISwri4zAHy"
      },
      "source": [
        "### Importamos librerias utiles 😸"
      ]
    },
    {
      "cell_type": "code",
      "execution_count": 1,
      "metadata": {
        "ExecuteTime": {
          "end_time": "2021-03-29T00:08:16.884674Z",
          "start_time": "2021-03-29T00:08:16.349846Z"
        },
        "cell_id": "00008-02ea8e34-1cb6-4773-a4b1-3369d7843ddf",
        "colab": {
          "base_uri": "https://localhost:8080/"
        },
        "deepnote_cell_height": 987.5499877929688,
        "deepnote_cell_type": "code",
        "deepnote_to_be_reexecuted": false,
        "execution_millis": 15959,
        "execution_start": 1634325916301,
        "id": "uyc33dKdzAHy",
        "outputId": "a07203ff-28ca-47dd-caaf-538204b546a7",
        "source_hash": "80b1c1a9"
      },
      "outputs": [
        {
          "output_type": "stream",
          "name": "stdout",
          "text": [
            "Looking in indexes: https://pypi.org/simple, https://us-python.pkg.dev/colab-wheels/public/simple/\n",
            "Requirement already satisfied: pandas in /usr/local/lib/python3.7/dist-packages (1.3.5)\n",
            "Requirement already satisfied: python-dateutil>=2.7.3 in /usr/local/lib/python3.7/dist-packages (from pandas) (2.8.2)\n",
            "Requirement already satisfied: numpy>=1.17.3 in /usr/local/lib/python3.7/dist-packages (from pandas) (1.21.6)\n",
            "Requirement already satisfied: pytz>=2017.3 in /usr/local/lib/python3.7/dist-packages (from pandas) (2022.2.1)\n",
            "Requirement already satisfied: six>=1.5 in /usr/local/lib/python3.7/dist-packages (from python-dateutil>=2.7.3->pandas) (1.15.0)\n",
            "Looking in indexes: https://pypi.org/simple, https://us-python.pkg.dev/colab-wheels/public/simple/\n",
            "Requirement already satisfied: xlrd in /usr/local/lib/python3.7/dist-packages (1.1.0)\n",
            "Looking in indexes: https://pypi.org/simple, https://us-python.pkg.dev/colab-wheels/public/simple/\n",
            "Requirement already satisfied: openpyxl in /usr/local/lib/python3.7/dist-packages (3.0.10)\n",
            "Requirement already satisfied: et-xmlfile in /usr/local/lib/python3.7/dist-packages (from openpyxl) (1.1.0)\n",
            "Looking in indexes: https://pypi.org/simple, https://us-python.pkg.dev/colab-wheels/public/simple/\n",
            "Requirement already satisfied: plotly in /usr/local/lib/python3.7/dist-packages (5.5.0)\n",
            "Collecting plotly\n",
            "  Downloading plotly-5.10.0-py2.py3-none-any.whl (15.2 MB)\n",
            "\u001b[K     |████████████████████████████████| 15.2 MB 195 kB/s \n",
            "\u001b[?25hRequirement already satisfied: tenacity>=6.2.0 in /usr/local/lib/python3.7/dist-packages (from plotly) (8.0.1)\n",
            "Installing collected packages: plotly\n",
            "  Attempting uninstall: plotly\n",
            "    Found existing installation: plotly 5.5.0\n",
            "    Uninstalling plotly-5.5.0:\n",
            "      Successfully uninstalled plotly-5.5.0\n",
            "Successfully installed plotly-5.10.0\n",
            "Looking in indexes: https://pypi.org/simple, https://us-python.pkg.dev/colab-wheels/public/simple/\n",
            "Requirement already satisfied: missingno in /usr/local/lib/python3.7/dist-packages (0.5.1)\n",
            "Requirement already satisfied: numpy in /usr/local/lib/python3.7/dist-packages (from missingno) (1.21.6)\n",
            "Requirement already satisfied: matplotlib in /usr/local/lib/python3.7/dist-packages (from missingno) (3.2.2)\n",
            "Requirement already satisfied: seaborn in /usr/local/lib/python3.7/dist-packages (from missingno) (0.11.2)\n",
            "Requirement already satisfied: scipy in /usr/local/lib/python3.7/dist-packages (from missingno) (1.7.3)\n",
            "Requirement already satisfied: cycler>=0.10 in /usr/local/lib/python3.7/dist-packages (from matplotlib->missingno) (0.11.0)\n",
            "Requirement already satisfied: pyparsing!=2.0.4,!=2.1.2,!=2.1.6,>=2.0.1 in /usr/local/lib/python3.7/dist-packages (from matplotlib->missingno) (3.0.9)\n",
            "Requirement already satisfied: python-dateutil>=2.1 in /usr/local/lib/python3.7/dist-packages (from matplotlib->missingno) (2.8.2)\n",
            "Requirement already satisfied: kiwisolver>=1.0.1 in /usr/local/lib/python3.7/dist-packages (from matplotlib->missingno) (1.4.4)\n",
            "Requirement already satisfied: typing-extensions in /usr/local/lib/python3.7/dist-packages (from kiwisolver>=1.0.1->matplotlib->missingno) (4.1.1)\n",
            "Requirement already satisfied: six>=1.5 in /usr/local/lib/python3.7/dist-packages (from python-dateutil>=2.1->matplotlib->missingno) (1.15.0)\n",
            "Requirement already satisfied: pandas>=0.23 in /usr/local/lib/python3.7/dist-packages (from seaborn->missingno) (1.3.5)\n",
            "Requirement already satisfied: pytz>=2017.3 in /usr/local/lib/python3.7/dist-packages (from pandas>=0.23->seaborn->missingno) (2022.2.1)\n"
          ]
        }
      ],
      "source": [
        "# Libreria Core del lab.\n",
        "import numpy as np\n",
        "!pip install --upgrade pandas\n",
        "!pip install xlrd\n",
        "!pip install openpyxl\n",
        "import pandas as pd\n",
        "import datetime\n",
        "from scipy import stats\n",
        "\n",
        "from IPython.display import display, Markdown, Latex\n",
        "\n",
        "#Libreria para plotear\n",
        "!pip install --upgrade plotly\n",
        "!pip install missingno\n",
        "import matplotlib.pyplot as plt\n",
        "import missingno as msno\n",
        "import plotly.express as px"
      ]
    },
    {
      "cell_type": "code",
      "execution_count": null,
      "metadata": {
        "cell_id": "00009-ba85c0a3-286a-4df8-a94e-78588eb64ebd",
        "deepnote_cell_height": 218.53334045410156,
        "deepnote_cell_type": "code",
        "deepnote_to_be_reexecuted": false,
        "execution_millis": 4,
        "execution_start": 1634315852279,
        "id": "gQ0-zPV4NNrq",
        "source_hash": "c60dc4a7",
        "outputId": "4918438c-fadc-472c-fb90-c22895079356"
      },
      "outputs": [
        {
          "name": "stdout",
          "output_type": "stream",
          "text": [
            "Ignorando conexión drive-colab\n"
          ]
        }
      ],
      "source": [
        "# Si usted está utilizando Colabolatory le puede ser útil este código para cargar los archivos.\n",
        "# try:\n",
        "#     from google.colab import drive\n",
        "#     drive.mount(\"/content/drive\")\n",
        "#     path = 'Dirección donde tiene los archivos en el Drive'\n",
        "# except: \n",
        "print('Ignorando conexión drive-colab')"
      ]
    },
    {
      "cell_type": "code",
      "source": [
        "%%capture\n",
        "# Descarga directa de los datos desde Internet\n",
        "!wget -O online_retail_II.pickle https://drive.google.com/u/0/uc?id=1axhAS8lWGF462ceb_wvNZ6rbTvldYOxj&export=download"
      ],
      "metadata": {
        "id": "LKkogVlHc85b"
      },
      "execution_count": 2,
      "outputs": []
    },
    {
      "cell_type": "markdown",
      "metadata": {
        "cell_id": "00010-5ea0bd58-e4cf-4cd1-b34d-a6286ab74a6c",
        "deepnote_cell_height": 344.0333251953125,
        "deepnote_cell_type": "markdown",
        "tags": [],
        "id": "tzDTb_-dcgvB"
      },
      "source": [
        "<p align=\"center\"><iframe width=\"560\" height=\"315\" src=\"https://www.youtube.com/embed/MW4d8_LLYp8?rel=0&amp;controls=0&amp;showinfo=0\" frameborder=\"1\" allowfullscreen></iframe></p>"
      ]
    },
    {
      "cell_type": "markdown",
      "metadata": {
        "cell_id": "00011-0668869e-1260-4409-b506-4251e2a12350",
        "deepnote_cell_height": 133.03334045410156,
        "deepnote_cell_type": "markdown",
        "id": "QDwIXTh7bK_A"
      },
      "source": [
        "# Segmentación de Clientes en Tienda de Retail 🛍️"
      ]
    },
    {
      "cell_type": "markdown",
      "metadata": {
        "cell_id": "00012-f421236d-70fc-4317-934a-d9ca05ba774a",
        "deepnote_cell_height": 293.8500061035156,
        "deepnote_cell_type": "markdown",
        "tags": [],
        "id": "ko70_RxvcgvB"
      },
      "source": [
        "<p align=\"center\">\n",
        "  <img width=300 src=\"https://s1.eestatic.com/2018/04/14/social/la_jungla_-_social_299733421_73842361_854x640.jpg\">\n",
        "</p>"
      ]
    },
    {
      "cell_type": "markdown",
      "metadata": {
        "cell_id": "00013-b2816031-9bf6-401b-9ce5-d9a10d6d1395",
        "deepnote_cell_height": 69.03334045410156,
        "deepnote_cell_type": "markdown",
        "tags": [],
        "id": "cCw8I3XycgvB"
      },
      "source": [
        "## 1.1 Cargar Dataset"
      ]
    },
    {
      "cell_type": "markdown",
      "metadata": {
        "cell_id": "00014-d3ac5fae-56fd-4d4e-83db-be9df9d130a4",
        "deepnote_cell_height": 272.6333312988281,
        "deepnote_cell_type": "markdown",
        "tags": [],
        "id": "QRcZxTczcgvC"
      },
      "source": [
        "Mr. Lepin Mora quien es el gerente de una cotizada tienda de retail en Europa, les solicita si pueden analizar los datos de algunas de sus tiendas y si es posible extraer los diferenciar los tipos de clientes que posee el retail.\n",
        "\n",
        "Para esto, el área de ventas les entrega el archivo `online_retail_II.xlsx` con el que se les pide que cargue y visualicen algunas de las filas que componen el Dataset.\n",
        "\n",
        "Realice una primera visualización de los datos y señale los atributos que componen el dataset. Señale las columnas que conforman el dataset, el tipo de variable presente en cada columna y comente que representa cada una de estas.\n",
        "\n",
        "**Respuesta:**"
      ]
    },
    {
      "cell_type": "code",
      "source": [
        "from pandas.core.frame import DataFrame as PandasDF\n",
        "\n",
        "df_retail: PandasDF = pd.read_pickle(\"online_retail_II.pickle\")\n",
        "df_retail = df_retail.astype({\n",
        "    \"Invoice\": \"category\",\n",
        "    \"StockCode\": \"category\",\n",
        "    \"Description\": str,\n",
        "    \"Customer ID\": \"category\",\n",
        "})\n",
        "df_retail.head()"
      ],
      "metadata": {
        "colab": {
          "base_uri": "https://localhost:8080/",
          "height": 354
        },
        "id": "IId05TE5d_ss",
        "outputId": "ce227c2b-7793-4afb-eb2b-6ce7ab5ed975"
      },
      "execution_count": 3,
      "outputs": [
        {
          "output_type": "execute_result",
          "data": {
            "text/plain": [
              "  Invoice StockCode                          Description  Quantity  \\\n",
              "0  489434     85048  15CM CHRISTMAS GLASS BALL 20 LIGHTS        12   \n",
              "1  489434    79323P                   PINK CHERRY LIGHTS        12   \n",
              "2  489434    79323W                  WHITE CHERRY LIGHTS        12   \n",
              "3  489434     22041         RECORD FRAME 7\" SINGLE SIZE         48   \n",
              "4  489434     21232       STRAWBERRY CERAMIC TRINKET BOX        24   \n",
              "\n",
              "          InvoiceDate  Price Customer ID         Country  \n",
              "0 2009-12-01 07:45:00   6.95     13085.0  United Kingdom  \n",
              "1 2009-12-01 07:45:00   6.75     13085.0  United Kingdom  \n",
              "2 2009-12-01 07:45:00   6.75     13085.0  United Kingdom  \n",
              "3 2009-12-01 07:45:00   2.10     13085.0  United Kingdom  \n",
              "4 2009-12-01 07:45:00   1.25     13085.0  United Kingdom  "
            ],
            "text/html": [
              "\n",
              "  <div id=\"df-a7c32dd8-bba6-4bc2-a103-4d09211d8017\">\n",
              "    <div class=\"colab-df-container\">\n",
              "      <div>\n",
              "<style scoped>\n",
              "    .dataframe tbody tr th:only-of-type {\n",
              "        vertical-align: middle;\n",
              "    }\n",
              "\n",
              "    .dataframe tbody tr th {\n",
              "        vertical-align: top;\n",
              "    }\n",
              "\n",
              "    .dataframe thead th {\n",
              "        text-align: right;\n",
              "    }\n",
              "</style>\n",
              "<table border=\"1\" class=\"dataframe\">\n",
              "  <thead>\n",
              "    <tr style=\"text-align: right;\">\n",
              "      <th></th>\n",
              "      <th>Invoice</th>\n",
              "      <th>StockCode</th>\n",
              "      <th>Description</th>\n",
              "      <th>Quantity</th>\n",
              "      <th>InvoiceDate</th>\n",
              "      <th>Price</th>\n",
              "      <th>Customer ID</th>\n",
              "      <th>Country</th>\n",
              "    </tr>\n",
              "  </thead>\n",
              "  <tbody>\n",
              "    <tr>\n",
              "      <th>0</th>\n",
              "      <td>489434</td>\n",
              "      <td>85048</td>\n",
              "      <td>15CM CHRISTMAS GLASS BALL 20 LIGHTS</td>\n",
              "      <td>12</td>\n",
              "      <td>2009-12-01 07:45:00</td>\n",
              "      <td>6.95</td>\n",
              "      <td>13085.0</td>\n",
              "      <td>United Kingdom</td>\n",
              "    </tr>\n",
              "    <tr>\n",
              "      <th>1</th>\n",
              "      <td>489434</td>\n",
              "      <td>79323P</td>\n",
              "      <td>PINK CHERRY LIGHTS</td>\n",
              "      <td>12</td>\n",
              "      <td>2009-12-01 07:45:00</td>\n",
              "      <td>6.75</td>\n",
              "      <td>13085.0</td>\n",
              "      <td>United Kingdom</td>\n",
              "    </tr>\n",
              "    <tr>\n",
              "      <th>2</th>\n",
              "      <td>489434</td>\n",
              "      <td>79323W</td>\n",
              "      <td>WHITE CHERRY LIGHTS</td>\n",
              "      <td>12</td>\n",
              "      <td>2009-12-01 07:45:00</td>\n",
              "      <td>6.75</td>\n",
              "      <td>13085.0</td>\n",
              "      <td>United Kingdom</td>\n",
              "    </tr>\n",
              "    <tr>\n",
              "      <th>3</th>\n",
              "      <td>489434</td>\n",
              "      <td>22041</td>\n",
              "      <td>RECORD FRAME 7\" SINGLE SIZE</td>\n",
              "      <td>48</td>\n",
              "      <td>2009-12-01 07:45:00</td>\n",
              "      <td>2.10</td>\n",
              "      <td>13085.0</td>\n",
              "      <td>United Kingdom</td>\n",
              "    </tr>\n",
              "    <tr>\n",
              "      <th>4</th>\n",
              "      <td>489434</td>\n",
              "      <td>21232</td>\n",
              "      <td>STRAWBERRY CERAMIC TRINKET BOX</td>\n",
              "      <td>24</td>\n",
              "      <td>2009-12-01 07:45:00</td>\n",
              "      <td>1.25</td>\n",
              "      <td>13085.0</td>\n",
              "      <td>United Kingdom</td>\n",
              "    </tr>\n",
              "  </tbody>\n",
              "</table>\n",
              "</div>\n",
              "      <button class=\"colab-df-convert\" onclick=\"convertToInteractive('df-a7c32dd8-bba6-4bc2-a103-4d09211d8017')\"\n",
              "              title=\"Convert this dataframe to an interactive table.\"\n",
              "              style=\"display:none;\">\n",
              "        \n",
              "  <svg xmlns=\"http://www.w3.org/2000/svg\" height=\"24px\"viewBox=\"0 0 24 24\"\n",
              "       width=\"24px\">\n",
              "    <path d=\"M0 0h24v24H0V0z\" fill=\"none\"/>\n",
              "    <path d=\"M18.56 5.44l.94 2.06.94-2.06 2.06-.94-2.06-.94-.94-2.06-.94 2.06-2.06.94zm-11 1L8.5 8.5l.94-2.06 2.06-.94-2.06-.94L8.5 2.5l-.94 2.06-2.06.94zm10 10l.94 2.06.94-2.06 2.06-.94-2.06-.94-.94-2.06-.94 2.06-2.06.94z\"/><path d=\"M17.41 7.96l-1.37-1.37c-.4-.4-.92-.59-1.43-.59-.52 0-1.04.2-1.43.59L10.3 9.45l-7.72 7.72c-.78.78-.78 2.05 0 2.83L4 21.41c.39.39.9.59 1.41.59.51 0 1.02-.2 1.41-.59l7.78-7.78 2.81-2.81c.8-.78.8-2.07 0-2.86zM5.41 20L4 18.59l7.72-7.72 1.47 1.35L5.41 20z\"/>\n",
              "  </svg>\n",
              "      </button>\n",
              "      \n",
              "  <style>\n",
              "    .colab-df-container {\n",
              "      display:flex;\n",
              "      flex-wrap:wrap;\n",
              "      gap: 12px;\n",
              "    }\n",
              "\n",
              "    .colab-df-convert {\n",
              "      background-color: #E8F0FE;\n",
              "      border: none;\n",
              "      border-radius: 50%;\n",
              "      cursor: pointer;\n",
              "      display: none;\n",
              "      fill: #1967D2;\n",
              "      height: 32px;\n",
              "      padding: 0 0 0 0;\n",
              "      width: 32px;\n",
              "    }\n",
              "\n",
              "    .colab-df-convert:hover {\n",
              "      background-color: #E2EBFA;\n",
              "      box-shadow: 0px 1px 2px rgba(60, 64, 67, 0.3), 0px 1px 3px 1px rgba(60, 64, 67, 0.15);\n",
              "      fill: #174EA6;\n",
              "    }\n",
              "\n",
              "    [theme=dark] .colab-df-convert {\n",
              "      background-color: #3B4455;\n",
              "      fill: #D2E3FC;\n",
              "    }\n",
              "\n",
              "    [theme=dark] .colab-df-convert:hover {\n",
              "      background-color: #434B5C;\n",
              "      box-shadow: 0px 1px 3px 1px rgba(0, 0, 0, 0.15);\n",
              "      filter: drop-shadow(0px 1px 2px rgba(0, 0, 0, 0.3));\n",
              "      fill: #FFFFFF;\n",
              "    }\n",
              "  </style>\n",
              "\n",
              "      <script>\n",
              "        const buttonEl =\n",
              "          document.querySelector('#df-a7c32dd8-bba6-4bc2-a103-4d09211d8017 button.colab-df-convert');\n",
              "        buttonEl.style.display =\n",
              "          google.colab.kernel.accessAllowed ? 'block' : 'none';\n",
              "\n",
              "        async function convertToInteractive(key) {\n",
              "          const element = document.querySelector('#df-a7c32dd8-bba6-4bc2-a103-4d09211d8017');\n",
              "          const dataTable =\n",
              "            await google.colab.kernel.invokeFunction('convertToInteractive',\n",
              "                                                     [key], {});\n",
              "          if (!dataTable) return;\n",
              "\n",
              "          const docLinkHtml = 'Like what you see? Visit the ' +\n",
              "            '<a target=\"_blank\" href=https://colab.research.google.com/notebooks/data_table.ipynb>data table notebook</a>'\n",
              "            + ' to learn more about interactive tables.';\n",
              "          element.innerHTML = '';\n",
              "          dataTable['output_type'] = 'display_data';\n",
              "          await google.colab.output.renderOutput(dataTable, element);\n",
              "          const docLink = document.createElement('div');\n",
              "          docLink.innerHTML = docLinkHtml;\n",
              "          element.appendChild(docLink);\n",
              "        }\n",
              "      </script>\n",
              "    </div>\n",
              "  </div>\n",
              "  "
            ]
          },
          "metadata": {},
          "execution_count": 3
        }
      ]
    },
    {
      "cell_type": "markdown",
      "metadata": {
        "cell_id": "00016-95d543d8-e605-4635-98c6-8a4a1293df5a",
        "deepnote_cell_height": 332.23333740234375,
        "deepnote_cell_type": "markdown",
        "id": "Rcjs-dd1V-1u"
      },
      "source": [
        "## 1.2 Analisís Explotatorio de los Datos [0.5 puntos] \n",
        "\n",
        "En base a la primera visualización del dataset, *Don Mora* le solicita que realicen un análisis exploratorio de los datos, para esto les deberán realizar un análisis univariado y multivariado. De la revisión, ustedes deben explicar potenciales anomalías visualizadas y señalar si existe la necesidad de realizar una limpieza de datos.\n",
        "\n",
        "Explique a que nos referimos con análisis univariable, multivariable y de datos faltantes. ¿Qué beneficios nos otorga estudiar estos datos?. Sea conciso con su respuesta y no escriba mas de 5 líneas para su respuesta.\n",
        "\n",
        "**Respuesta a la Pregunta:**"
      ]
    },
    {
      "cell_type": "markdown",
      "metadata": {
        "cell_id": "00017-6d2ae959-397e-46d6-af72-1d1023615611",
        "deepnote_cell_height": 65.43333435058594,
        "deepnote_cell_type": "markdown",
        "tags": [],
        "id": "ttwbC2eVcgvD"
      },
      "source": [
        "> El análisis univariable busca comprender la distribución de los datos de cada atributo o columna presente en el *dataset*, lo que permite trabajar de forma adecuada con los mismos. El análisis multivariable busca entender la dependencia estadística entre los distintos atributos o columnas del *dataset*. El análisis de datos faltantes permite entender la naturaleza de la fuente de los datos y a su vez estimar la calidad del *dataset*. El beneficio de estudiar estos datos, es realizar una aproximación sobre que pre-procesamientos y modelos son más adecuados para tratar los mismos."
      ]
    },
    {
      "cell_type": "markdown",
      "metadata": {
        "cell_id": "00018-0d2e4dfa-8dfb-4959-b694-e5ac27dd372a",
        "deepnote_cell_height": 225.43333435058594,
        "deepnote_cell_type": "markdown",
        "tags": [],
        "id": "CGSJ_szacgvD"
      },
      "source": [
        "### 1.2.1 Análisis Univariado [2 Puntos]\n",
        "\n",
        "A continuación, se le presentan dos funciones para analizar los datos que componen un dataframe. La primera de estas es la función ``profile_serie()`` la cual recibe una serie y le entrega un análisis detallado de los datos que conforman dicha serie. \n",
        "\n",
        "Ejecute la funcion ``profile_serie()`` sobre cada serie para realizar un análisis univariado de estas. A continuación, comente acerca de el comportamiento de cada variable según las estadísticas descriptivas y los gráficos generados."
      ]
    },
    {
      "cell_type": "code",
      "execution_count": 6,
      "metadata": {
        "cell_id": "00019-075c9c6a-b956-4329-a280-abd00da1a752",
        "deepnote_cell_height": 1682.0333251953125,
        "deepnote_cell_type": "code",
        "deepnote_to_be_reexecuted": false,
        "execution_millis": 1,
        "execution_start": 1634325950632,
        "source_hash": "60609391",
        "tags": [],
        "id": "WNVFnlgRcgvD"
      },
      "outputs": [],
      "source": [
        "from pandas.core.dtypes.common import is_datetime_or_timedelta_dtype\n",
        "from plotly.graph_objs._figure import Figure as PlotlyFigure\n",
        "from pandas.core.series import Series as PandasSeries\n",
        "from pandas.api.types import is_numeric_dtype\n",
        "\n",
        "def profile_serie(serie_in: PandasSeries, n_samples: int = 1000,\n",
        "                  random_state: int = 42) -> None:\n",
        "    \"\"\"\n",
        "    Profiles a Pandas series\n",
        "\n",
        "    Parameters\n",
        "    ----------\n",
        "    serie_in: PandasSeries\n",
        "        Pandas series to profile\n",
        "    n_samples: int\n",
        "        Number of samples to consider\n",
        "    random_state: int\n",
        "        Random seed\n",
        "    \"\"\"\n",
        "    serie: PandasSeries = serie_in.copy()\n",
        "\n",
        "    profile: PandasSeries = pd.Series(dtype='object')\n",
        "    profile[\"Type\"] = serie.dtype\n",
        "    profile = pd.concat([profile, serie.describe(datetime_is_numeric=True)])\n",
        "\n",
        "    # Operations if series type is numeric\n",
        "    if is_numeric_dtype(serie):\n",
        "        profile[\"Negative\"] = (serie < 0).sum()\n",
        "        profile[\"Negative (%)\"] = (\n",
        "            str(round((serie < 0).sum() / len(serie) * 100, 2)) + \" %\"\n",
        "        )\n",
        "        profile[\"Zeros\"] = (serie == 0).sum()\n",
        "        profile[\"Zeros (%)\"] = (\n",
        "            str(round((serie == 0).sum() / len(serie) * 100, 2)) + \" %\"\n",
        "        )\n",
        "        profile[\"Kurt\"] = serie.kurt()\n",
        "        profile[\"Skew\"] = serie.skew()\n",
        "\n",
        "    profile[\" \"] = \" \"  # espacio\n",
        "\n",
        "    profile[\"Missing cells\"] = serie.isnull().sum()\n",
        "    profile[\"Missing cells (%)\"] = (\n",
        "        str(round(serie.isnull().sum() / len(serie) * 100, 2)) + \" %\"\n",
        "    )\n",
        "    profile[\"Duplicate rows\"] = serie.duplicated(False).sum()\n",
        "    profile[\"Duplicate rows (%)\"] = (\n",
        "        str(round(serie.duplicated(False).sum() / len(serie) * 100, 2)) + \" %\"\n",
        "    )\n",
        "    profile[\"Total size in memory\"] = str(\n",
        "        serie.memory_usage(index=True)\n",
        "    ) + \" bytes\"\n",
        "\n",
        "    # profile = pd.concat([profile, description])\n",
        "\n",
        "    profile = profile.rename(index={\n",
        "        \"count\": \"Number of observations\",\n",
        "        \"mean\": \"Mean\",\n",
        "        \"std\": \"Std\",\n",
        "        \"min\": \"Min\",\n",
        "        \"max\": \"Max\",\n",
        "        \"unique\": \"Unique\",\n",
        "        \"top\": \"Top\",\n",
        "        \"freq\": \"Freq\",\n",
        "    })\n",
        "    no_outliers_fig: None = None\n",
        "\n",
        "    # Numeric series\n",
        "    if is_numeric_dtype(serie):\n",
        "\n",
        "        sampled_serie: PandasSeries = serie.sample(\n",
        "            n_samples, random_state=random_state\n",
        "        )\n",
        "        fig: PlotlyFigure = px.histogram(\n",
        "            sampled_serie, marginal=\"box\",\n",
        "            title=f\"{serie.name} - With Outliers\"\n",
        "        )\n",
        "\n",
        "        no_outliers: PandasSeries = sampled_serie.loc[\n",
        "            (np.abs(stats.zscore(sampled_serie)) < 3)\n",
        "        ]\n",
        "        # zscore = https://es.wikipedia.org/wiki/Unidad_tipificada\n",
        "        \n",
        "        no_outliers_fig: PlotlyFigure = px.histogram(\n",
        "            no_outliers, marginal=\"box\",\n",
        "            title=f\"{serie.name} - Without Outliers\"\n",
        "        )\n",
        "    # Datetime or time-delta series\n",
        "    elif is_datetime_or_timedelta_dtype(serie):\n",
        "        sampled_serie: PandasSeries = serie.sample(\n",
        "            n_samples, random_state=random_state\n",
        "        )\n",
        "        fig: PlotlyFigure = px.histogram(\n",
        "            sampled_serie, marginal=\"box\", title=f\"{serie.name}\"\n",
        "        )\n",
        "    # Another series type\n",
        "    else:\n",
        "        count: PandasSeries = (\n",
        "            serie.value_counts()[0:100]\n",
        "            .reset_index()\n",
        "            .rename(columns={\"index\": serie.name, serie.name: \"Count\"})\n",
        "        )\n",
        "        fig: PlotlyFigure = px.bar(\n",
        "            x=count[serie.name].astype(str),\n",
        "            y=count[\"Count\"],\n",
        "            title=f\"100 Most common categories of {serie.name}\",\n",
        "        )\n",
        "    display(Markdown(f'## {serie.name} Profile'))\n",
        "    display(profile)\n",
        "    fig.show()\n",
        "\n",
        "    if no_outliers_fig:\n",
        "        no_outliers_fig.show()"
      ]
    },
    {
      "cell_type": "code",
      "execution_count": 14,
      "metadata": {
        "cell_id": "00020-0dd41995-78f8-4f2c-ac5d-f36288ccfda0",
        "deepnote_cell_height": 1714.0999755859375,
        "deepnote_cell_type": "code",
        "deepnote_output_heights": [
          49,
          424,
          527,
          527
        ],
        "deepnote_to_be_reexecuted": false,
        "execution_millis": 2062,
        "execution_start": 1634325955534,
        "source_hash": "6155d0f5",
        "tags": [],
        "id": "HtWZn-mHcgvE",
        "outputId": "233bfcdd-ac12-48d4-804e-accb29b28a8c",
        "colab": {
          "base_uri": "https://localhost:8080/",
          "height": 808
        }
      },
      "outputs": [
        {
          "output_type": "display_data",
          "data": {
            "text/plain": [
              "<IPython.core.display.Markdown object>"
            ],
            "text/markdown": "## Customer ID Profile"
          },
          "metadata": {}
        },
        {
          "output_type": "display_data",
          "data": {
            "text/plain": [
              "Type                           category\n",
              "Number of observations         417534.0\n",
              "Unique                           4383.0\n",
              "Top                             14911.0\n",
              "Freq                             5710.0\n",
              "                                       \n",
              "Missing cells                    107927\n",
              "Missing cells (%)               20.54 %\n",
              "Duplicate rows                   525327\n",
              "Duplicate rows (%)              99.97 %\n",
              "Total size in memory      1218250 bytes\n",
              "dtype: object"
            ]
          },
          "metadata": {}
        },
        {
          "output_type": "display_data",
          "data": {
            "text/html": [
              "<html>\n",
              "<head><meta charset=\"utf-8\" /></head>\n",
              "<body>\n",
              "    <div>            <script src=\"https://cdnjs.cloudflare.com/ajax/libs/mathjax/2.7.5/MathJax.js?config=TeX-AMS-MML_SVG\"></script><script type=\"text/javascript\">if (window.MathJax && window.MathJax.Hub && window.MathJax.Hub.Config) {window.MathJax.Hub.Config({SVG: {font: \"STIX-Web\"}});}</script>                <script type=\"text/javascript\">window.PlotlyConfig = {MathJaxConfig: 'local'};</script>\n",
              "        <script src=\"https://cdn.plot.ly/plotly-2.14.0.min.js\"></script>                <div id=\"496a09ad-6a22-4544-958a-3637ca4e8795\" class=\"plotly-graph-div\" style=\"height:525px; width:100%;\"></div>            <script type=\"text/javascript\">                                    window.PLOTLYENV=window.PLOTLYENV || {};                                    if (document.getElementById(\"496a09ad-6a22-4544-958a-3637ca4e8795\")) {                    Plotly.newPlot(                        \"496a09ad-6a22-4544-958a-3637ca4e8795\",                        [{\"alignmentgroup\":\"True\",\"hovertemplate\":\"x=%{x}<br>y=%{y}<extra></extra>\",\"legendgroup\":\"\",\"marker\":{\"color\":\"#636efa\",\"pattern\":{\"shape\":\"\"}},\"name\":\"\",\"offsetgroup\":\"\",\"orientation\":\"v\",\"showlegend\":false,\"textposition\":\"auto\",\"x\":[\"14911.0\",\"17841.0\",\"14606.0\",\"14156.0\",\"12748.0\",\"17850.0\",\"16549.0\",\"15311.0\",\"14527.0\",\"14646.0\",\"16782.0\",\"13089.0\",\"15005.0\",\"17377.0\",\"13081.0\",\"15039.0\",\"13564.0\",\"14298.0\",\"15768.0\",\"14680.0\",\"17448.0\",\"17920.0\",\"17589.0\",\"17511.0\",\"13694.0\",\"13093.0\",\"15998.0\",\"12921.0\",\"15719.0\",\"12681.0\",\"14505.0\",\"13174.0\",\"17085.0\",\"15555.0\",\"14667.0\",\"14081.0\",\"12471.0\",\"17243.0\",\"16779.0\",\"16984.0\",\"13137.0\",\"17068.0\",\"13230.0\",\"16713.0\",\"17231.0\",\"16161.0\",\"13069.0\",\"13001.0\",\"14415.0\",\"17865.0\",\"14159.0\",\"17238.0\",\"15808.0\",\"15547.0\",\"12472.0\",\"14044.0\",\"16327.0\",\"18102.0\",\"12835.0\",\"14030.0\",\"13050.0\",\"14085.0\",\"15898.0\",\"17338.0\",\"15581.0\",\"15867.0\",\"13097.0\",\"14049.0\",\"13451.0\",\"16938.0\",\"15358.0\",\"15061.0\",\"16710.0\",\"13206.0\",\"15571.0\",\"16550.0\",\"17757.0\",\"14040.0\",\"16409.0\",\"13869.0\",\"17611.0\",\"14031.0\",\"16746.0\",\"17965.0\",\"16072.0\",\"18069.0\",\"12867.0\",\"17799.0\",\"16686.0\",\"14535.0\",\"15856.0\",\"17576.0\",\"12682.0\",\"17364.0\",\"17346.0\",\"12949.0\",\"13319.0\",\"13148.0\",\"18041.0\",\"15615.0\"],\"xaxis\":\"x\",\"y\":[5710,5114,3927,2710,2665,2515,2274,2226,1826,1805,1703,1581,1388,1377,1369,1302,1233,1228,1213,1138,1133,1110,1100,1058,973,941,937,871,856,848,823,818,816,807,799,795,767,748,745,742,737,730,728,720,706,700,693,689,689,673,673,665,664,658,658,643,635,635,630,627,625,618,616,611,610,605,605,602,600,595,591,588,585,584,578,578,573,567,559,553,551,547,545,535,533,528,525,523,521,519,519,518,517,511,509,506,498,494,489,485],\"yaxis\":\"y\",\"type\":\"bar\"}],                        {\"template\":{\"data\":{\"histogram2dcontour\":[{\"type\":\"histogram2dcontour\",\"colorbar\":{\"outlinewidth\":0,\"ticks\":\"\"},\"colorscale\":[[0.0,\"#0d0887\"],[0.1111111111111111,\"#46039f\"],[0.2222222222222222,\"#7201a8\"],[0.3333333333333333,\"#9c179e\"],[0.4444444444444444,\"#bd3786\"],[0.5555555555555556,\"#d8576b\"],[0.6666666666666666,\"#ed7953\"],[0.7777777777777778,\"#fb9f3a\"],[0.8888888888888888,\"#fdca26\"],[1.0,\"#f0f921\"]]}],\"choropleth\":[{\"type\":\"choropleth\",\"colorbar\":{\"outlinewidth\":0,\"ticks\":\"\"}}],\"histogram2d\":[{\"type\":\"histogram2d\",\"colorbar\":{\"outlinewidth\":0,\"ticks\":\"\"},\"colorscale\":[[0.0,\"#0d0887\"],[0.1111111111111111,\"#46039f\"],[0.2222222222222222,\"#7201a8\"],[0.3333333333333333,\"#9c179e\"],[0.4444444444444444,\"#bd3786\"],[0.5555555555555556,\"#d8576b\"],[0.6666666666666666,\"#ed7953\"],[0.7777777777777778,\"#fb9f3a\"],[0.8888888888888888,\"#fdca26\"],[1.0,\"#f0f921\"]]}],\"heatmap\":[{\"type\":\"heatmap\",\"colorbar\":{\"outlinewidth\":0,\"ticks\":\"\"},\"colorscale\":[[0.0,\"#0d0887\"],[0.1111111111111111,\"#46039f\"],[0.2222222222222222,\"#7201a8\"],[0.3333333333333333,\"#9c179e\"],[0.4444444444444444,\"#bd3786\"],[0.5555555555555556,\"#d8576b\"],[0.6666666666666666,\"#ed7953\"],[0.7777777777777778,\"#fb9f3a\"],[0.8888888888888888,\"#fdca26\"],[1.0,\"#f0f921\"]]}],\"heatmapgl\":[{\"type\":\"heatmapgl\",\"colorbar\":{\"outlinewidth\":0,\"ticks\":\"\"},\"colorscale\":[[0.0,\"#0d0887\"],[0.1111111111111111,\"#46039f\"],[0.2222222222222222,\"#7201a8\"],[0.3333333333333333,\"#9c179e\"],[0.4444444444444444,\"#bd3786\"],[0.5555555555555556,\"#d8576b\"],[0.6666666666666666,\"#ed7953\"],[0.7777777777777778,\"#fb9f3a\"],[0.8888888888888888,\"#fdca26\"],[1.0,\"#f0f921\"]]}],\"contourcarpet\":[{\"type\":\"contourcarpet\",\"colorbar\":{\"outlinewidth\":0,\"ticks\":\"\"}}],\"contour\":[{\"type\":\"contour\",\"colorbar\":{\"outlinewidth\":0,\"ticks\":\"\"},\"colorscale\":[[0.0,\"#0d0887\"],[0.1111111111111111,\"#46039f\"],[0.2222222222222222,\"#7201a8\"],[0.3333333333333333,\"#9c179e\"],[0.4444444444444444,\"#bd3786\"],[0.5555555555555556,\"#d8576b\"],[0.6666666666666666,\"#ed7953\"],[0.7777777777777778,\"#fb9f3a\"],[0.8888888888888888,\"#fdca26\"],[1.0,\"#f0f921\"]]}],\"surface\":[{\"type\":\"surface\",\"colorbar\":{\"outlinewidth\":0,\"ticks\":\"\"},\"colorscale\":[[0.0,\"#0d0887\"],[0.1111111111111111,\"#46039f\"],[0.2222222222222222,\"#7201a8\"],[0.3333333333333333,\"#9c179e\"],[0.4444444444444444,\"#bd3786\"],[0.5555555555555556,\"#d8576b\"],[0.6666666666666666,\"#ed7953\"],[0.7777777777777778,\"#fb9f3a\"],[0.8888888888888888,\"#fdca26\"],[1.0,\"#f0f921\"]]}],\"mesh3d\":[{\"type\":\"mesh3d\",\"colorbar\":{\"outlinewidth\":0,\"ticks\":\"\"}}],\"scatter\":[{\"fillpattern\":{\"fillmode\":\"overlay\",\"size\":10,\"solidity\":0.2},\"type\":\"scatter\"}],\"parcoords\":[{\"type\":\"parcoords\",\"line\":{\"colorbar\":{\"outlinewidth\":0,\"ticks\":\"\"}}}],\"scatterpolargl\":[{\"type\":\"scatterpolargl\",\"marker\":{\"colorbar\":{\"outlinewidth\":0,\"ticks\":\"\"}}}],\"bar\":[{\"error_x\":{\"color\":\"#2a3f5f\"},\"error_y\":{\"color\":\"#2a3f5f\"},\"marker\":{\"line\":{\"color\":\"#E5ECF6\",\"width\":0.5},\"pattern\":{\"fillmode\":\"overlay\",\"size\":10,\"solidity\":0.2}},\"type\":\"bar\"}],\"scattergeo\":[{\"type\":\"scattergeo\",\"marker\":{\"colorbar\":{\"outlinewidth\":0,\"ticks\":\"\"}}}],\"scatterpolar\":[{\"type\":\"scatterpolar\",\"marker\":{\"colorbar\":{\"outlinewidth\":0,\"ticks\":\"\"}}}],\"histogram\":[{\"marker\":{\"pattern\":{\"fillmode\":\"overlay\",\"size\":10,\"solidity\":0.2}},\"type\":\"histogram\"}],\"scattergl\":[{\"type\":\"scattergl\",\"marker\":{\"colorbar\":{\"outlinewidth\":0,\"ticks\":\"\"}}}],\"scatter3d\":[{\"type\":\"scatter3d\",\"line\":{\"colorbar\":{\"outlinewidth\":0,\"ticks\":\"\"}},\"marker\":{\"colorbar\":{\"outlinewidth\":0,\"ticks\":\"\"}}}],\"scattermapbox\":[{\"type\":\"scattermapbox\",\"marker\":{\"colorbar\":{\"outlinewidth\":0,\"ticks\":\"\"}}}],\"scatterternary\":[{\"type\":\"scatterternary\",\"marker\":{\"colorbar\":{\"outlinewidth\":0,\"ticks\":\"\"}}}],\"scattercarpet\":[{\"type\":\"scattercarpet\",\"marker\":{\"colorbar\":{\"outlinewidth\":0,\"ticks\":\"\"}}}],\"carpet\":[{\"aaxis\":{\"endlinecolor\":\"#2a3f5f\",\"gridcolor\":\"white\",\"linecolor\":\"white\",\"minorgridcolor\":\"white\",\"startlinecolor\":\"#2a3f5f\"},\"baxis\":{\"endlinecolor\":\"#2a3f5f\",\"gridcolor\":\"white\",\"linecolor\":\"white\",\"minorgridcolor\":\"white\",\"startlinecolor\":\"#2a3f5f\"},\"type\":\"carpet\"}],\"table\":[{\"cells\":{\"fill\":{\"color\":\"#EBF0F8\"},\"line\":{\"color\":\"white\"}},\"header\":{\"fill\":{\"color\":\"#C8D4E3\"},\"line\":{\"color\":\"white\"}},\"type\":\"table\"}],\"barpolar\":[{\"marker\":{\"line\":{\"color\":\"#E5ECF6\",\"width\":0.5},\"pattern\":{\"fillmode\":\"overlay\",\"size\":10,\"solidity\":0.2}},\"type\":\"barpolar\"}],\"pie\":[{\"automargin\":true,\"type\":\"pie\"}]},\"layout\":{\"autotypenumbers\":\"strict\",\"colorway\":[\"#636efa\",\"#EF553B\",\"#00cc96\",\"#ab63fa\",\"#FFA15A\",\"#19d3f3\",\"#FF6692\",\"#B6E880\",\"#FF97FF\",\"#FECB52\"],\"font\":{\"color\":\"#2a3f5f\"},\"hovermode\":\"closest\",\"hoverlabel\":{\"align\":\"left\"},\"paper_bgcolor\":\"white\",\"plot_bgcolor\":\"#E5ECF6\",\"polar\":{\"bgcolor\":\"#E5ECF6\",\"angularaxis\":{\"gridcolor\":\"white\",\"linecolor\":\"white\",\"ticks\":\"\"},\"radialaxis\":{\"gridcolor\":\"white\",\"linecolor\":\"white\",\"ticks\":\"\"}},\"ternary\":{\"bgcolor\":\"#E5ECF6\",\"aaxis\":{\"gridcolor\":\"white\",\"linecolor\":\"white\",\"ticks\":\"\"},\"baxis\":{\"gridcolor\":\"white\",\"linecolor\":\"white\",\"ticks\":\"\"},\"caxis\":{\"gridcolor\":\"white\",\"linecolor\":\"white\",\"ticks\":\"\"}},\"coloraxis\":{\"colorbar\":{\"outlinewidth\":0,\"ticks\":\"\"}},\"colorscale\":{\"sequential\":[[0.0,\"#0d0887\"],[0.1111111111111111,\"#46039f\"],[0.2222222222222222,\"#7201a8\"],[0.3333333333333333,\"#9c179e\"],[0.4444444444444444,\"#bd3786\"],[0.5555555555555556,\"#d8576b\"],[0.6666666666666666,\"#ed7953\"],[0.7777777777777778,\"#fb9f3a\"],[0.8888888888888888,\"#fdca26\"],[1.0,\"#f0f921\"]],\"sequentialminus\":[[0.0,\"#0d0887\"],[0.1111111111111111,\"#46039f\"],[0.2222222222222222,\"#7201a8\"],[0.3333333333333333,\"#9c179e\"],[0.4444444444444444,\"#bd3786\"],[0.5555555555555556,\"#d8576b\"],[0.6666666666666666,\"#ed7953\"],[0.7777777777777778,\"#fb9f3a\"],[0.8888888888888888,\"#fdca26\"],[1.0,\"#f0f921\"]],\"diverging\":[[0,\"#8e0152\"],[0.1,\"#c51b7d\"],[0.2,\"#de77ae\"],[0.3,\"#f1b6da\"],[0.4,\"#fde0ef\"],[0.5,\"#f7f7f7\"],[0.6,\"#e6f5d0\"],[0.7,\"#b8e186\"],[0.8,\"#7fbc41\"],[0.9,\"#4d9221\"],[1,\"#276419\"]]},\"xaxis\":{\"gridcolor\":\"white\",\"linecolor\":\"white\",\"ticks\":\"\",\"title\":{\"standoff\":15},\"zerolinecolor\":\"white\",\"automargin\":true,\"zerolinewidth\":2},\"yaxis\":{\"gridcolor\":\"white\",\"linecolor\":\"white\",\"ticks\":\"\",\"title\":{\"standoff\":15},\"zerolinecolor\":\"white\",\"automargin\":true,\"zerolinewidth\":2},\"scene\":{\"xaxis\":{\"backgroundcolor\":\"#E5ECF6\",\"gridcolor\":\"white\",\"linecolor\":\"white\",\"showbackground\":true,\"ticks\":\"\",\"zerolinecolor\":\"white\",\"gridwidth\":2},\"yaxis\":{\"backgroundcolor\":\"#E5ECF6\",\"gridcolor\":\"white\",\"linecolor\":\"white\",\"showbackground\":true,\"ticks\":\"\",\"zerolinecolor\":\"white\",\"gridwidth\":2},\"zaxis\":{\"backgroundcolor\":\"#E5ECF6\",\"gridcolor\":\"white\",\"linecolor\":\"white\",\"showbackground\":true,\"ticks\":\"\",\"zerolinecolor\":\"white\",\"gridwidth\":2}},\"shapedefaults\":{\"line\":{\"color\":\"#2a3f5f\"}},\"annotationdefaults\":{\"arrowcolor\":\"#2a3f5f\",\"arrowhead\":0,\"arrowwidth\":1},\"geo\":{\"bgcolor\":\"white\",\"landcolor\":\"#E5ECF6\",\"subunitcolor\":\"white\",\"showland\":true,\"showlakes\":true,\"lakecolor\":\"white\"},\"title\":{\"x\":0.05},\"mapbox\":{\"style\":\"light\"}}},\"xaxis\":{\"anchor\":\"y\",\"domain\":[0.0,1.0],\"title\":{\"text\":\"x\"}},\"yaxis\":{\"anchor\":\"x\",\"domain\":[0.0,1.0],\"title\":{\"text\":\"y\"}},\"legend\":{\"tracegroupgap\":0},\"title\":{\"text\":\"100 Most common categories of Customer ID\"},\"barmode\":\"relative\"},                        {\"responsive\": true}                    ).then(function(){\n",
              "                            \n",
              "var gd = document.getElementById('496a09ad-6a22-4544-958a-3637ca4e8795');\n",
              "var x = new MutationObserver(function (mutations, observer) {{\n",
              "        var display = window.getComputedStyle(gd).display;\n",
              "        if (!display || display === 'none') {{\n",
              "            console.log([gd, 'removed!']);\n",
              "            Plotly.purge(gd);\n",
              "            observer.disconnect();\n",
              "        }}\n",
              "}});\n",
              "\n",
              "// Listen for the removal of the full notebook cells\n",
              "var notebookContainer = gd.closest('#notebook-container');\n",
              "if (notebookContainer) {{\n",
              "    x.observe(notebookContainer, {childList: true});\n",
              "}}\n",
              "\n",
              "// Listen for the clearing of the current output cell\n",
              "var outputEl = gd.closest('.output');\n",
              "if (outputEl) {{\n",
              "    x.observe(outputEl, {childList: true});\n",
              "}}\n",
              "\n",
              "                        })                };                            </script>        </div>\n",
              "</body>\n",
              "</html>"
            ]
          },
          "metadata": {}
        }
      ],
      "source": [
        "profile_serie(df_retail['Customer ID']) "
      ]
    },
    {
      "cell_type": "markdown",
      "metadata": {
        "cell_id": "00021-d9508a4a-ab9e-470f-b20e-2f3b1a095d99",
        "deepnote_cell_height": 69.83332824707031,
        "deepnote_cell_type": "markdown",
        "tags": [],
        "id": "987iyXBGcgvF"
      },
      "source": [
        "    Análisis de la primera serie..."
      ]
    },
    {
      "cell_type": "code",
      "execution_count": null,
      "metadata": {
        "cell_id": "00022-d0bb6e4c-430f-42e3-9f3f-bd372817d286",
        "deepnote_cell_height": 65.03334045410156,
        "deepnote_cell_type": "code",
        "tags": [],
        "id": "d-v0qNe5cgvF"
      },
      "outputs": [],
      "source": [
        "profile_serie(...)"
      ]
    },
    {
      "cell_type": "markdown",
      "metadata": {
        "cell_id": "00023-ecb7fa4e-63ba-490c-8da7-211532bff49b",
        "deepnote_cell_height": 69.83332824707031,
        "deepnote_cell_type": "markdown",
        "tags": [],
        "id": "N-bOmiUkcgvG"
      },
      "source": [
        "    Análisis de la primera n-esima serie..."
      ]
    },
    {
      "cell_type": "markdown",
      "metadata": {
        "cell_id": "00023-70400e15-a0f7-41f7-98a5-4b81f1d3315a",
        "deepnote_cell_height": 144.23333740234375,
        "deepnote_cell_type": "markdown",
        "tags": [],
        "id": "FAp9Kt01cgvG"
      },
      "source": [
        "### 1.2.2 Análisis Multivariado y Datos Faltantes [1 ptos]\n",
        "\n",
        "En segundo lugar encontrará la función ``profile_df()`` que recibe un dataframe como entrada y realiza un análisis bivariado de todas las variables numéricas que conforman el dataframe, un analisis de la correlación de Pearson entre las variables numericas del dataframe y la matriz de datos faltantes."
      ]
    },
    {
      "cell_type": "code",
      "execution_count": 5,
      "metadata": {
        "cell_id": "00024-527d7ab1-22cb-461d-bb32-57ed65f2f2ab",
        "deepnote_cell_height": 530.0333251953125,
        "deepnote_cell_type": "code",
        "deepnote_to_be_reexecuted": false,
        "execution_millis": 2,
        "execution_start": 1634322697785,
        "owner_user_id": "badcc427-fd3d-4615-9296-faa43ec69cfb",
        "source_hash": "ac31b9bd",
        "tags": [],
        "id": "gUqTvtoacgvH"
      },
      "outputs": [],
      "source": [
        "def profile_df(dataframe_in):\n",
        "    df = dataframe_in.copy()\n",
        "\n",
        "    list_type = []\n",
        "    for col in list(df.columns):\n",
        "        if is_numeric_dtype(df[col]) or \\\n",
        "        pd.core.dtypes.common.is_datetime_or_timedelta_dtype(df[col]):\n",
        "            list_type.append(col)\n",
        "\n",
        "    \n",
        "    display(Markdown('## Bivariant Analysis:'))\n",
        "    for i in range(len(list_type)):\n",
        "        for j in range(i+1, len(list_type)):\n",
        "            plt.scatter(df[list_type[i]], df[list_type[j]])\n",
        "            plt.xlabel(list_type[i]) \n",
        "            plt.ylabel(list_type[j]) \n",
        "            plt.title(f\"{list_type[i]} v/s {list_type[j]}\")\n",
        "            plt.show()\n",
        "\n",
        "    display(Markdown('## Correlation:'))\n",
        "    fig_corr = px.imshow(df.corr())\n",
        "    fig_corr.show()\n",
        "\n",
        "    display(Markdown('## Missing Matrix:'))\n",
        "    fig, ax = plt.subplots(figsize=[15, 10])\n",
        "    msno.matrix(df, ax=ax, sparkline=False)"
      ]
    },
    {
      "cell_type": "code",
      "source": [
        "profile_df(df_retail)"
      ],
      "metadata": {
        "id": "wa_-b-2Gz5pg",
        "outputId": "cb3c05d6-7a32-463f-bbd2-0058daa80cbe",
        "colab": {
          "base_uri": "https://localhost:8080/",
          "height": 1000
        }
      },
      "execution_count": null,
      "outputs": [
        {
          "output_type": "display_data",
          "data": {
            "text/plain": [
              "<IPython.core.display.Markdown object>"
            ],
            "text/markdown": "## Bivariant Analysis:"
          },
          "metadata": {}
        },
        {
          "output_type": "display_data",
          "data": {
            "text/plain": [
              "<Figure size 432x288 with 1 Axes>"
            ],
            "image/png": "[encoded data removed]"
          },
          "metadata": {
            "needs_background": "light"
          }
        },
        {
          "output_type": "display_data",
          "data": {
            "text/plain": [
              "<Figure size 432x288 with 1 Axes>"
            ],
            "image/png": "[encoded data removed]"
          },
          "metadata": {
            "needs_background": "light"
          }
        },
        {
          "output_type": "display_data",
          "data": {
            "text/plain": [
              "<Figure size 432x288 with 1 Axes>"
            ],
            "image/png": "[encoded data removed]"
          },
          "metadata": {
            "needs_background": "light"
          }
        },
        {
          "output_type": "display_data",
          "data": {
            "text/plain": [
              "<IPython.core.display.Markdown object>"
            ],
            "text/markdown": "## Correlation:"
          },
          "metadata": {}
        },
        {
          "output_type": "display_data",
          "data": {
            "text/html": [
              "<html>\n",
              "<head><meta charset=\"utf-8\" /></head>\n",
              "<body>\n",
              "    <div>            <script src=\"https://cdnjs.cloudflare.com/ajax/libs/mathjax/2.7.5/MathJax.js?config=TeX-AMS-MML_SVG\"></script><script type=\"text/javascript\">if (window.MathJax && window.MathJax.Hub && window.MathJax.Hub.Config) {window.MathJax.Hub.Config({SVG: {font: \"STIX-Web\"}});}</script>                <script type=\"text/javascript\">window.PlotlyConfig = {MathJaxConfig: 'local'};</script>\n",
              "        <script src=\"https://cdn.plot.ly/plotly-2.14.0.min.js\"></script>                <div id=\"aa242383-8f59-4e11-8f41-a0cf61535ae0\" class=\"plotly-graph-div\" style=\"height:525px; width:100%;\"></div>            <script type=\"text/javascript\">                                    window.PLOTLYENV=window.PLOTLYENV || {};                                    if (document.getElementById(\"aa242383-8f59-4e11-8f41-a0cf61535ae0\")) {                    Plotly.newPlot(                        \"aa242383-8f59-4e11-8f41-a0cf61535ae0\",                        [{\"coloraxis\":\"coloraxis\",\"name\":\"0\",\"x\":[\"Quantity\",\"Price\"],\"y\":[\"Quantity\",\"Price\"],\"z\":[[1.0,-0.0019313304222704135],[-0.0019313304222704135,1.0]],\"type\":\"heatmap\",\"xaxis\":\"x\",\"yaxis\":\"y\",\"hovertemplate\":\"x: %{x}<br>y: %{y}<br>color: %{z}<extra></extra>\"}],                        {\"template\":{\"data\":{\"histogram2dcontour\":[{\"type\":\"histogram2dcontour\",\"colorbar\":{\"outlinewidth\":0,\"ticks\":\"\"},\"colorscale\":[[0.0,\"#0d0887\"],[0.1111111111111111,\"#46039f\"],[0.2222222222222222,\"#7201a8\"],[0.3333333333333333,\"#9c179e\"],[0.4444444444444444,\"#bd3786\"],[0.5555555555555556,\"#d8576b\"],[0.6666666666666666,\"#ed7953\"],[0.7777777777777778,\"#fb9f3a\"],[0.8888888888888888,\"#fdca26\"],[1.0,\"#f0f921\"]]}],\"choropleth\":[{\"type\":\"choropleth\",\"colorbar\":{\"outlinewidth\":0,\"ticks\":\"\"}}],\"histogram2d\":[{\"type\":\"histogram2d\",\"colorbar\":{\"outlinewidth\":0,\"ticks\":\"\"},\"colorscale\":[[0.0,\"#0d0887\"],[0.1111111111111111,\"#46039f\"],[0.2222222222222222,\"#7201a8\"],[0.3333333333333333,\"#9c179e\"],[0.4444444444444444,\"#bd3786\"],[0.5555555555555556,\"#d8576b\"],[0.6666666666666666,\"#ed7953\"],[0.7777777777777778,\"#fb9f3a\"],[0.8888888888888888,\"#fdca26\"],[1.0,\"#f0f921\"]]}],\"heatmap\":[{\"type\":\"heatmap\",\"colorbar\":{\"outlinewidth\":0,\"ticks\":\"\"},\"colorscale\":[[0.0,\"#0d0887\"],[0.1111111111111111,\"#46039f\"],[0.2222222222222222,\"#7201a8\"],[0.3333333333333333,\"#9c179e\"],[0.4444444444444444,\"#bd3786\"],[0.5555555555555556,\"#d8576b\"],[0.6666666666666666,\"#ed7953\"],[0.7777777777777778,\"#fb9f3a\"],[0.8888888888888888,\"#fdca26\"],[1.0,\"#f0f921\"]]}],\"heatmapgl\":[{\"type\":\"heatmapgl\",\"colorbar\":{\"outlinewidth\":0,\"ticks\":\"\"},\"colorscale\":[[0.0,\"#0d0887\"],[0.1111111111111111,\"#46039f\"],[0.2222222222222222,\"#7201a8\"],[0.3333333333333333,\"#9c179e\"],[0.4444444444444444,\"#bd3786\"],[0.5555555555555556,\"#d8576b\"],[0.6666666666666666,\"#ed7953\"],[0.7777777777777778,\"#fb9f3a\"],[0.8888888888888888,\"#fdca26\"],[1.0,\"#f0f921\"]]}],\"contourcarpet\":[{\"type\":\"contourcarpet\",\"colorbar\":{\"outlinewidth\":0,\"ticks\":\"\"}}],\"contour\":[{\"type\":\"contour\",\"colorbar\":{\"outlinewidth\":0,\"ticks\":\"\"},\"colorscale\":[[0.0,\"#0d0887\"],[0.1111111111111111,\"#46039f\"],[0.2222222222222222,\"#7201a8\"],[0.3333333333333333,\"#9c179e\"],[0.4444444444444444,\"#bd3786\"],[0.5555555555555556,\"#d8576b\"],[0.6666666666666666,\"#ed7953\"],[0.7777777777777778,\"#fb9f3a\"],[0.8888888888888888,\"#fdca26\"],[1.0,\"#f0f921\"]]}],\"surface\":[{\"type\":\"surface\",\"colorbar\":{\"outlinewidth\":0,\"ticks\":\"\"},\"colorscale\":[[0.0,\"#0d0887\"],[0.1111111111111111,\"#46039f\"],[0.2222222222222222,\"#7201a8\"],[0.3333333333333333,\"#9c179e\"],[0.4444444444444444,\"#bd3786\"],[0.5555555555555556,\"#d8576b\"],[0.6666666666666666,\"#ed7953\"],[0.7777777777777778,\"#fb9f3a\"],[0.8888888888888888,\"#fdca26\"],[1.0,\"#f0f921\"]]}],\"mesh3d\":[{\"type\":\"mesh3d\",\"colorbar\":{\"outlinewidth\":0,\"ticks\":\"\"}}],\"scatter\":[{\"fillpattern\":{\"fillmode\":\"overlay\",\"size\":10,\"solidity\":0.2},\"type\":\"scatter\"}],\"parcoords\":[{\"type\":\"parcoords\",\"line\":{\"colorbar\":{\"outlinewidth\":0,\"ticks\":\"\"}}}],\"scatterpolargl\":[{\"type\":\"scatterpolargl\",\"marker\":{\"colorbar\":{\"outlinewidth\":0,\"ticks\":\"\"}}}],\"bar\":[{\"error_x\":{\"color\":\"#2a3f5f\"},\"error_y\":{\"color\":\"#2a3f5f\"},\"marker\":{\"line\":{\"color\":\"#E5ECF6\",\"width\":0.5},\"pattern\":{\"fillmode\":\"overlay\",\"size\":10,\"solidity\":0.2}},\"type\":\"bar\"}],\"scattergeo\":[{\"type\":\"scattergeo\",\"marker\":{\"colorbar\":{\"outlinewidth\":0,\"ticks\":\"\"}}}],\"scatterpolar\":[{\"type\":\"scatterpolar\",\"marker\":{\"colorbar\":{\"outlinewidth\":0,\"ticks\":\"\"}}}],\"histogram\":[{\"marker\":{\"pattern\":{\"fillmode\":\"overlay\",\"size\":10,\"solidity\":0.2}},\"type\":\"histogram\"}],\"scattergl\":[{\"type\":\"scattergl\",\"marker\":{\"colorbar\":{\"outlinewidth\":0,\"ticks\":\"\"}}}],\"scatter3d\":[{\"type\":\"scatter3d\",\"line\":{\"colorbar\":{\"outlinewidth\":0,\"ticks\":\"\"}},\"marker\":{\"colorbar\":{\"outlinewidth\":0,\"ticks\":\"\"}}}],\"scattermapbox\":[{\"type\":\"scattermapbox\",\"marker\":{\"colorbar\":{\"outlinewidth\":0,\"ticks\":\"\"}}}],\"scatterternary\":[{\"type\":\"scatterternary\",\"marker\":{\"colorbar\":{\"outlinewidth\":0,\"ticks\":\"\"}}}],\"scattercarpet\":[{\"type\":\"scattercarpet\",\"marker\":{\"colorbar\":{\"outlinewidth\":0,\"ticks\":\"\"}}}],\"carpet\":[{\"aaxis\":{\"endlinecolor\":\"#2a3f5f\",\"gridcolor\":\"white\",\"linecolor\":\"white\",\"minorgridcolor\":\"white\",\"startlinecolor\":\"#2a3f5f\"},\"baxis\":{\"endlinecolor\":\"#2a3f5f\",\"gridcolor\":\"white\",\"linecolor\":\"white\",\"minorgridcolor\":\"white\",\"startlinecolor\":\"#2a3f5f\"},\"type\":\"carpet\"}],\"table\":[{\"cells\":{\"fill\":{\"color\":\"#EBF0F8\"},\"line\":{\"color\":\"white\"}},\"header\":{\"fill\":{\"color\":\"#C8D4E3\"},\"line\":{\"color\":\"white\"}},\"type\":\"table\"}],\"barpolar\":[{\"marker\":{\"line\":{\"color\":\"#E5ECF6\",\"width\":0.5},\"pattern\":{\"fillmode\":\"overlay\",\"size\":10,\"solidity\":0.2}},\"type\":\"barpolar\"}],\"pie\":[{\"automargin\":true,\"type\":\"pie\"}]},\"layout\":{\"autotypenumbers\":\"strict\",\"colorway\":[\"#636efa\",\"#EF553B\",\"#00cc96\",\"#ab63fa\",\"#FFA15A\",\"#19d3f3\",\"#FF6692\",\"#B6E880\",\"#FF97FF\",\"#FECB52\"],\"font\":{\"color\":\"#2a3f5f\"},\"hovermode\":\"closest\",\"hoverlabel\":{\"align\":\"left\"},\"paper_bgcolor\":\"white\",\"plot_bgcolor\":\"#E5ECF6\",\"polar\":{\"bgcolor\":\"#E5ECF6\",\"angularaxis\":{\"gridcolor\":\"white\",\"linecolor\":\"white\",\"ticks\":\"\"},\"radialaxis\":{\"gridcolor\":\"white\",\"linecolor\":\"white\",\"ticks\":\"\"}},\"ternary\":{\"bgcolor\":\"#E5ECF6\",\"aaxis\":{\"gridcolor\":\"white\",\"linecolor\":\"white\",\"ticks\":\"\"},\"baxis\":{\"gridcolor\":\"white\",\"linecolor\":\"white\",\"ticks\":\"\"},\"caxis\":{\"gridcolor\":\"white\",\"linecolor\":\"white\",\"ticks\":\"\"}},\"coloraxis\":{\"colorbar\":{\"outlinewidth\":0,\"ticks\":\"\"}},\"colorscale\":{\"sequential\":[[0.0,\"#0d0887\"],[0.1111111111111111,\"#46039f\"],[0.2222222222222222,\"#7201a8\"],[0.3333333333333333,\"#9c179e\"],[0.4444444444444444,\"#bd3786\"],[0.5555555555555556,\"#d8576b\"],[0.6666666666666666,\"#ed7953\"],[0.7777777777777778,\"#fb9f3a\"],[0.8888888888888888,\"#fdca26\"],[1.0,\"#f0f921\"]],\"sequentialminus\":[[0.0,\"#0d0887\"],[0.1111111111111111,\"#46039f\"],[0.2222222222222222,\"#7201a8\"],[0.3333333333333333,\"#9c179e\"],[0.4444444444444444,\"#bd3786\"],[0.5555555555555556,\"#d8576b\"],[0.6666666666666666,\"#ed7953\"],[0.7777777777777778,\"#fb9f3a\"],[0.8888888888888888,\"#fdca26\"],[1.0,\"#f0f921\"]],\"diverging\":[[0,\"#8e0152\"],[0.1,\"#c51b7d\"],[0.2,\"#de77ae\"],[0.3,\"#f1b6da\"],[0.4,\"#fde0ef\"],[0.5,\"#f7f7f7\"],[0.6,\"#e6f5d0\"],[0.7,\"#b8e186\"],[0.8,\"#7fbc41\"],[0.9,\"#4d9221\"],[1,\"#276419\"]]},\"xaxis\":{\"gridcolor\":\"white\",\"linecolor\":\"white\",\"ticks\":\"\",\"title\":{\"standoff\":15},\"zerolinecolor\":\"white\",\"automargin\":true,\"zerolinewidth\":2},\"yaxis\":{\"gridcolor\":\"white\",\"linecolor\":\"white\",\"ticks\":\"\",\"title\":{\"standoff\":15},\"zerolinecolor\":\"white\",\"automargin\":true,\"zerolinewidth\":2},\"scene\":{\"xaxis\":{\"backgroundcolor\":\"#E5ECF6\",\"gridcolor\":\"white\",\"linecolor\":\"white\",\"showbackground\":true,\"ticks\":\"\",\"zerolinecolor\":\"white\",\"gridwidth\":2},\"yaxis\":{\"backgroundcolor\":\"#E5ECF6\",\"gridcolor\":\"white\",\"linecolor\":\"white\",\"showbackground\":true,\"ticks\":\"\",\"zerolinecolor\":\"white\",\"gridwidth\":2},\"zaxis\":{\"backgroundcolor\":\"#E5ECF6\",\"gridcolor\":\"white\",\"linecolor\":\"white\",\"showbackground\":true,\"ticks\":\"\",\"zerolinecolor\":\"white\",\"gridwidth\":2}},\"shapedefaults\":{\"line\":{\"color\":\"#2a3f5f\"}},\"annotationdefaults\":{\"arrowcolor\":\"#2a3f5f\",\"arrowhead\":0,\"arrowwidth\":1},\"geo\":{\"bgcolor\":\"white\",\"landcolor\":\"#E5ECF6\",\"subunitcolor\":\"white\",\"showland\":true,\"showlakes\":true,\"lakecolor\":\"white\"},\"title\":{\"x\":0.05},\"mapbox\":{\"style\":\"light\"}}},\"xaxis\":{\"anchor\":\"y\",\"domain\":[0.0,1.0],\"scaleanchor\":\"y\",\"constrain\":\"domain\"},\"yaxis\":{\"anchor\":\"x\",\"domain\":[0.0,1.0],\"autorange\":\"reversed\",\"constrain\":\"domain\"},\"coloraxis\":{\"colorscale\":[[0.0,\"#0d0887\"],[0.1111111111111111,\"#46039f\"],[0.2222222222222222,\"#7201a8\"],[0.3333333333333333,\"#9c179e\"],[0.4444444444444444,\"#bd3786\"],[0.5555555555555556,\"#d8576b\"],[0.6666666666666666,\"#ed7953\"],[0.7777777777777778,\"#fb9f3a\"],[0.8888888888888888,\"#fdca26\"],[1.0,\"#f0f921\"]]},\"margin\":{\"t\":60}},                        {\"responsive\": true}                    ).then(function(){\n",
              "                            \n",
              "var gd = document.getElementById('aa242383-8f59-4e11-8f41-a0cf61535ae0');\n",
              "var x = new MutationObserver(function (mutations, observer) {{\n",
              "        var display = window.getComputedStyle(gd).display;\n",
              "        if (!display || display === 'none') {{\n",
              "            console.log([gd, 'removed!']);\n",
              "            Plotly.purge(gd);\n",
              "            observer.disconnect();\n",
              "        }}\n",
              "}});\n",
              "\n",
              "// Listen for the removal of the full notebook cells\n",
              "var notebookContainer = gd.closest('#notebook-container');\n",
              "if (notebookContainer) {{\n",
              "    x.observe(notebookContainer, {childList: true});\n",
              "}}\n",
              "\n",
              "// Listen for the clearing of the current output cell\n",
              "var outputEl = gd.closest('.output');\n",
              "if (outputEl) {{\n",
              "    x.observe(outputEl, {childList: true});\n",
              "}}\n",
              "\n",
              "                        })                };                            </script>        </div>\n",
              "</body>\n",
              "</html>"
            ]
          },
          "metadata": {}
        },
        {
          "output_type": "display_data",
          "data": {
            "text/plain": [
              "<IPython.core.display.Markdown object>"
            ],
            "text/markdown": "## Missing Matrix:"
          },
          "metadata": {}
        },
        {
          "output_type": "display_data",
          "data": {
            "text/plain": [
              "<Figure size 1080x720 with 1 Axes>"
            ],
            "image/png": "[encoded data removed]"
          },
          "metadata": {
            "needs_background": "light"
          }
        }
      ]
    },
    {
      "cell_type": "markdown",
      "source": [
        "A partir de los análisis bivariados se puede ver que el dataset presenta valores errónos.\n",
        "El gráfico \"Quantity vs Invoice Date\" muestra que hay varios registros de productos con cantidad negativa.\n",
        "\n",
        "Y los gráficos \"Quantity vs Price\" y \"Invoice Date vs Price\" muestran que hay 3 registros de productos con precio negativo.\n",
        "\n",
        "Por otro lado, a partir de la matriz de correlación se puede concluir, tal como era esperado, que la cantidad de cada producto no está correlacionada con su precio.\n",
        "\n",
        "Finalmente, la matriz de datos faltantes muestra que hay valores faltantes en la columna \"Customer ID\""
      ],
      "metadata": {
        "id": "7jrOEk-71hri"
      }
    },
    {
      "cell_type": "markdown",
      "metadata": {
        "cell_id": "00026-df20962a-a04e-4edd-9d19-3acc252a7f29",
        "deepnote_cell_height": 239.43333435058594,
        "deepnote_cell_type": "markdown",
        "tags": [],
        "id": "LsO54_7_cgvH"
      },
      "source": [
        "### 1.2.3 Limpieza de Datos [1 pto]\n",
        "\n",
        "Como pudo ver en las secciones anteriores, los datos presentan valores erroneos, es por esto que se le solicita que realice una función que permita limpiar el dataset. Realice esta función en base observaciones propias y considere como imposible tener cantidades negativas en las ventas.\n",
        "\n",
        "Una vez realizada la función, realice nuevamente el análisis exploratorio y comente las principales diferencias.\n",
        "\n",
        "**Respuesta:**"
      ]
    },
    {
      "cell_type": "code",
      "execution_count": 7,
      "metadata": {
        "cell_id": "00027-c103a1ac-7b8e-4ad8-af70-1385769b6c33",
        "deepnote_cell_height": 65.03334045410156,
        "deepnote_cell_type": "code",
        "tags": [],
        "id": "9oOXKQ0ZcgvH"
      },
      "outputs": [],
      "source": [
        "def clean_df(dataframe_in):\n",
        "    \"\"\"\n",
        "    Limpia un dataset y entrega una copia sin los valores erroneos\n",
        "\n",
        "    Parameter\n",
        "    ----------\n",
        "    dataframe_in: dataframe entregado para ser limpiado\n",
        "\n",
        "    \"\"\"\n",
        "    df = dataframe_in.copy()\n",
        "    if df.duplicated().sum()>0:\n",
        "        df = df.drop_duplicates()\n",
        "    if df.isna().sum().sum()>0: \n",
        "        df = df.dropna()\n",
        "\n",
        "    for col in list(df.columns):\n",
        "        if is_numeric_dtype(df[col]):\n",
        "            df = df[df[col]>0]\n",
        "\n",
        "    return df"
      ]
    },
    {
      "cell_type": "code",
      "source": [
        "cleaned = clean_df(df_retail)"
      ],
      "metadata": {
        "id": "C8iz8sDqStb0"
      },
      "execution_count": 9,
      "outputs": []
    },
    {
      "cell_type": "code",
      "source": [
        "profile_serie(cleaned['Price']) "
      ],
      "metadata": {
        "id": "0kl3VwqTRcTp",
        "outputId": "33b88d40-2f38-47f7-dff4-440c1d8ae8cc",
        "colab": {
          "base_uri": "https://localhost:8080/",
          "height": 1000
        }
      },
      "execution_count": 10,
      "outputs": [
        {
          "output_type": "display_data",
          "data": {
            "text/plain": [
              "<IPython.core.display.Markdown object>"
            ],
            "text/markdown": "## Price Profile"
          },
          "metadata": {}
        },
        {
          "output_type": "display_data",
          "data": {
            "text/plain": [
              "Type                            float64\n",
              "Number of observations         400916.0\n",
              "Mean                           3.305826\n",
              "Std                           35.047719\n",
              "Min                               0.001\n",
              "25%                                1.25\n",
              "50%                                1.95\n",
              "75%                                3.75\n",
              "Max                             10953.5\n",
              "Negative                              0\n",
              "Negative (%)                      0.0 %\n",
              "Zeros                                 0\n",
              "Zeros (%)                         0.0 %\n",
              "Kurt                       62818.874688\n",
              "Skew                         233.142978\n",
              "                                       \n",
              "Missing cells                         0\n",
              "Missing cells (%)                 0.0 %\n",
              "Duplicate rows                   400730\n",
              "Duplicate rows (%)              99.95 %\n",
              "Total size in memory      6414656 bytes\n",
              "dtype: object"
            ]
          },
          "metadata": {}
        },
        {
          "output_type": "display_data",
          "data": {
            "text/html": [
              "<html>\n",
              "<head><meta charset=\"utf-8\" /></head>\n",
              "<body>\n",
              "    <div>            <script src=\"https://cdnjs.cloudflare.com/ajax/libs/mathjax/2.7.5/MathJax.js?config=TeX-AMS-MML_SVG\"></script><script type=\"text/javascript\">if (window.MathJax && window.MathJax.Hub && window.MathJax.Hub.Config) {window.MathJax.Hub.Config({SVG: {font: \"STIX-Web\"}});}</script>                <script type=\"text/javascript\">window.PlotlyConfig = {MathJaxConfig: 'local'};</script>\n",
              "        <script src=\"https://cdn.plot.ly/plotly-2.14.0.min.js\"></script>                <div id=\"1674bae2-7129-4ec7-a1b3-83214bc2b287\" class=\"plotly-graph-div\" style=\"height:525px; width:100%;\"></div>            <script type=\"text/javascript\">                                    window.PLOTLYENV=window.PLOTLYENV || {};                                    if (document.getElementById(\"1674bae2-7129-4ec7-a1b3-83214bc2b287\")) {                    Plotly.newPlot(                        \"1674bae2-7129-4ec7-a1b3-83214bc2b287\",                        [{\"alignmentgroup\":\"True\",\"bingroup\":\"x\",\"hovertemplate\":\"variable=Price<br>value=%{x}<br>count=%{y}<extra></extra>\",\"legendgroup\":\"Price\",\"marker\":{\"color\":\"#636efa\",\"pattern\":{\"shape\":\"\"}},\"name\":\"Price\",\"offsetgroup\":\"Price\",\"orientation\":\"v\",\"showlegend\":true,\"x\":[2.95,6.75,7.95,3.95,2.95,1.65,2.55,1.25,0.85,0.85,0.85,0.29,0.85,2.1,2.1,1.65,0.72,0.85,7.95,1.69,1.95,7.49,2.1,3.75,2.55,2.95,4.95,12.75,1.25,2.55,5.95,1.65,18.0,0.42,2.95,9.95,4.25,0.42,2.1,3.75,0.55,0.55,0.85,1.06,4.65,1.65,1.95,1.25,1.25,2.1,0.85,4.95,2.95,12.75,4.95,0.85,5.45,1.25,0.65,1.69,0.85,7.95,3.75,2.1,0.65,4.95,0.85,3.95,4.25,1.65,0.85,0.85,0.85,2.95,1.65,1.25,3.75,2.95,2.1,1.65,0.29,0.85,4.25,0.36,2.1,0.85,1.65,0.29,0.55,2.95,1.25,2.95,3.25,6.35,2.95,18.0,3.75,0.55,1.25,1.45,1.65,1.45,7.65,3.75,2.1,2.55,2.1,3.75,4.95,0.21,0.85,1.45,0.85,12.75,1.25,1.65,1.95,0.85,2.95,2.1,0.36,1.25,0.65,2.1,4.95,1.65,1.25,1.25,2.95,2.95,1.95,0.85,0.72,0.85,2.55,1.25,10.95,2.95,2.55,5.95,0.18,1.95,2.95,1.65,0.36,1.45,1.25,0.85,1.25,1.65,1.25,4.95,2.95,1.45,2.95,1.25,5.95,0.65,0.79,1.55,5.95,2.95,1.65,0.85,1.65,1.95,1.25,2.1,1.25,1.95,1.45,2.55,1.65,1.65,1.65,3.75,2.95,1.95,1.65,2.95,0.55,1.65,1.45,4.95,1.65,4.95,7.95,0.42,2.1,1.25,4.95,2.1,4.95,0.42,4.25,2.95,2.95,3.75,4.65,1.65,0.85,0.85,1.25,1.06,6.35,2.95,0.21,12.75,2.95,2.95,15.95,4.95,2.1,0.85,1.95,1.25,1.25,2.55,2.95,0.55,2.95,2.55,7.65,12.75,2.95,8.5,4.95,0.55,9.95,1.65,1.65,0.55,2.1,0.55,0.55,1.25,1.65,3.95,1.25,5.95,1.65,1.25,9.95,7.95,1.95,1.25,6.75,1.25,1.06,1.65,0.42,7.95,1.25,0.42,2.95,1.45,0.21,0.19,0.65,0.65,2.95,0.29,5.95,5.95,1.65,5.95,1.25,0.55,1.25,5.95,1.49,1.45,1.25,1.25,0.85,0.85,5.95,4.95,1.25,2.95,1.69,1.65,7.49,2.1,0.85,2.95,1.95,1.25,4.25,0.85,18.0,1.25,7.95,2.55,0.55,0.72,2.1,3.75,50.0,3.75,5.95,2.1,1.25,1.49,16.95,1.65,9.95,1.65,9.95,1.45,1.69,0.42,0.42,0.85,1.65,7.95,3.75,3.75,2.95,1.25,3.75,1.65,0.65,4.25,2.1,7.49,0.65,2.55,3.75,5.95,3.75,2.95,1.25,0.21,2.95,1.65,0.55,2.95,2.1,0.42,2.1,4.25,0.29,0.85,1.25,2.95,0.85,1.45,2.95,5.95,2.1,2.55,12.75,2.95,0.85,1.95,1.25,2.95,1.95,0.85,0.72,4.25,3.75,1.25,4.25,0.42,1.65,0.85,1.25,6.75,0.25,3.75,2.95,0.85,1.25,1.45,2.1,2.95,0.85,2.95,1.95,1.95,0.21,3.75,2.95,2.95,1.65,0.85,2.95,5.95,2.55,3.75,1.95,1.65,12.75,4.95,2.1,1.65,3.39,0.55,0.55,0.85,3.75,3.75,0.85,0.65,1.25,0.55,2.1,2.95,2.55,1.25,2.95,1.25,0.85,1.65,1.65,2.95,7.95,1.25,0.85,0.85,9.95,16.95,1.25,1.95,3.75,2.95,12.75,2.95,1.45,4.95,1.25,4.95,3.75,0.85,0.85,2.95,12.75,5.95,1.65,2.55,1.25,2.1,3.75,1.65,9.95,2.1,3.75,1.25,3.75,1.95,1.25,2.95,2.95,3.75,1.65,7.95,0.85,2.55,0.65,0.29,2.1,6.75,2.1,3.45,2.1,4.25,3.75,2.55,2.95,4.95,2.95,14.95,0.65,1.25,1.25,7.95,1.65,0.42,0.21,0.29,4.95,1.25,3.75,0.85,5.95,2.95,2.95,1.25,4.95,4.65,3.75,8.5,3.75,1.25,2.1,1.25,3.75,1.95,2.95,1.45,1.95,0.21,1.25,1.95,1.65,1.65,1.25,5.95,1.45,1.25,5.95,1.25,2.95,0.42,6.35,2.95,2.95,2.1,1.25,0.42,1.65,0.55,3.25,3.75,0.42,2.95,4.25,0.85,2.95,5.95,1.25,2.95,1.65,0.42,0.85,2.95,0.85,0.85,6.95,0.42,12.75,0.42,2.55,5.95,5.45,0.85,3.75,3.75,2.55,1.95,1.25,0.42,1.65,2.55,2.55,5.95,0.42,1.95,1.69,1.45,9.95,0.55,4.25,1.65,1.25,5.95,0.85,1.45,1.25,1.65,39.95,2.95,12.75,1.85,0.29,12.75,2.95,0.85,0.42,1.25,1.65,0.42,1.25,1.25,0.55,7.95,0.95,1.25,1.25,7.95,1.25,6.95,8.5,1.65,1.69,1.65,1.65,2.55,6.75,0.85,0.85,2.55,0.65,1.25,2.95,1.95,5.95,1.25,2.1,1.95,0.42,4.95,0.85,1.95,0.85,3.75,1.95,2.55,1.95,1.25,1.65,1.65,0.42,1.45,4.65,2.95,1.95,0.65,2.95,12.75,0.85,2.55,2.1,0.85,3.75,12.75,0.85,2.95,1.95,2.1,1.65,1.25,0.85,14.95,1.65,1.65,4.95,0.85,2.1,2.95,1.25,2.55,18.0,2.95,1.65,6.75,2.1,1.25,0.42,0.85,1.95,1.06,4.25,0.85,1.25,0.38,12.75,2.95,9.95,0.55,3.75,1.45,3.75,1.65,0.42,1.65,2.1,5.95,3.75,4.95,3.75,1.25,7.49,1.25,1.95,1.95,1.65,9.95,1.65,1.25,1.25,1.65,5.95,1.95,0.42,0.95,14.95,0.85,0.29,1.25,0.85,1.65,1.69,0.42,0.42,1.95,0.29,2.95,0.85,1.65,1.06,50.0,1.25,2.1,4.95,4.25,0.65,1.95,2.95,2.1,2.95,4.25,3.75,1.25,2.95,1.25,0.85,10.95,0.85,0.42,3.75,2.1,3.45,1.65,2.95,2.95,3.75,6.35,1.25,1.65,2.95,1.25,2.95,1.25,8.5,1.95,2.95,1.25,2.95,3.75,3.75,4.95,0.65,1.65,4.95,1.65,1.95,2.95,3.95,2.1,1.25,4.95,1.65,12.75,1.25,0.55,0.85,1.25,0.85,3.75,3.95,1.65,2.95,2.1,1.25,1.95,0.42,5.95,2.1,3.39,4.25,4.19,4.25,1.95,0.85,5.95,2.1,1.25,1.95,7.5,8.5,3.75,0.21,1.95,4.95,1.65,2.55,1.95,2.1,7.95,1.25,1.25,0.65,4.95,7.95,3.75,2.55,1.95,0.21,5.95,1.65,12.75,2.55,29.95,1.95,0.65,1.69,2.95,1.25,3.95,4.65,2.95,2.55,6.75,1.95,2.1,0.85,2.1,1.65,6.75,2.95,0.29,2.1,2.1,1.45,4.95,1.95,3.75,1.25,0.36,1.65,0.65,1.45,3.75,1.25,3.75,5.95,1.25,1.49,2.55,2.95,1.45,0.42,0.85,0.42,1.65,4.95,0.85,2.55,5.45,0.42,7.95,6.75,0.36,1.65,2.95,0.85,10.95,1.25,0.29,2.95,0.55,7.95,0.55,101.99,2.1,9.95,1.45,4.95,2.95,5.95,0.42,1.65,6.75,4.95,2.55,1.25,4.95,0.17,1.06,2.95,1.25,4.25,2.55,12.75,8.5,1.45,1.25,1.25,7.95,1.65,1.95,1.65,0.42,2.95,3.75,2.95,1.65,7.49,1.65,2.1,1.45,4.95,0.42,3.75,1.25,0.85,1.45,1.65,0.85,1.25,0.85,2.95,1.95,1.65,0.85,2.55,4.95,0.85,2.95,2.1,1.95,4.95,0.85,1.25,2.95,3.75,3.75,3.75,6.75,2.1,3.75,8.5,0.85,2.55,1.95,0.42,1.65,1.95,1.65,0.85,1.65,2.95,1.65,2.95,12.75,1.95,0.29,0.65,1.95,4.95,2.1,9.95,1.65,1.25,0.85,1.95,3.95,5.95,12.75,1.25,4.25,5.95,7.49,1.25,2.1,2.95,1.65,3.75,2.95,2.1,0.42,2.95,5.95,2.1,1.65,1.69,4.95,2.95,2.55,2.55,1.25,2.1,2.95,1.25,1.69,2.1,1.65],\"xaxis\":\"x\",\"yaxis\":\"y\",\"type\":\"histogram\"},{\"alignmentgroup\":\"True\",\"hovertemplate\":\"variable=Price<br>value=%{x}<extra></extra>\",\"legendgroup\":\"Price\",\"marker\":{\"color\":\"#636efa\"},\"name\":\"Price\",\"notched\":true,\"offsetgroup\":\"Price\",\"showlegend\":false,\"x\":[2.95,6.75,7.95,3.95,2.95,1.65,2.55,1.25,0.85,0.85,0.85,0.29,0.85,2.1,2.1,1.65,0.72,0.85,7.95,1.69,1.95,7.49,2.1,3.75,2.55,2.95,4.95,12.75,1.25,2.55,5.95,1.65,18.0,0.42,2.95,9.95,4.25,0.42,2.1,3.75,0.55,0.55,0.85,1.06,4.65,1.65,1.95,1.25,1.25,2.1,0.85,4.95,2.95,12.75,4.95,0.85,5.45,1.25,0.65,1.69,0.85,7.95,3.75,2.1,0.65,4.95,0.85,3.95,4.25,1.65,0.85,0.85,0.85,2.95,1.65,1.25,3.75,2.95,2.1,1.65,0.29,0.85,4.25,0.36,2.1,0.85,1.65,0.29,0.55,2.95,1.25,2.95,3.25,6.35,2.95,18.0,3.75,0.55,1.25,1.45,1.65,1.45,7.65,3.75,2.1,2.55,2.1,3.75,4.95,0.21,0.85,1.45,0.85,12.75,1.25,1.65,1.95,0.85,2.95,2.1,0.36,1.25,0.65,2.1,4.95,1.65,1.25,1.25,2.95,2.95,1.95,0.85,0.72,0.85,2.55,1.25,10.95,2.95,2.55,5.95,0.18,1.95,2.95,1.65,0.36,1.45,1.25,0.85,1.25,1.65,1.25,4.95,2.95,1.45,2.95,1.25,5.95,0.65,0.79,1.55,5.95,2.95,1.65,0.85,1.65,1.95,1.25,2.1,1.25,1.95,1.45,2.55,1.65,1.65,1.65,3.75,2.95,1.95,1.65,2.95,0.55,1.65,1.45,4.95,1.65,4.95,7.95,0.42,2.1,1.25,4.95,2.1,4.95,0.42,4.25,2.95,2.95,3.75,4.65,1.65,0.85,0.85,1.25,1.06,6.35,2.95,0.21,12.75,2.95,2.95,15.95,4.95,2.1,0.85,1.95,1.25,1.25,2.55,2.95,0.55,2.95,2.55,7.65,12.75,2.95,8.5,4.95,0.55,9.95,1.65,1.65,0.55,2.1,0.55,0.55,1.25,1.65,3.95,1.25,5.95,1.65,1.25,9.95,7.95,1.95,1.25,6.75,1.25,1.06,1.65,0.42,7.95,1.25,0.42,2.95,1.45,0.21,0.19,0.65,0.65,2.95,0.29,5.95,5.95,1.65,5.95,1.25,0.55,1.25,5.95,1.49,1.45,1.25,1.25,0.85,0.85,5.95,4.95,1.25,2.95,1.69,1.65,7.49,2.1,0.85,2.95,1.95,1.25,4.25,0.85,18.0,1.25,7.95,2.55,0.55,0.72,2.1,3.75,50.0,3.75,5.95,2.1,1.25,1.49,16.95,1.65,9.95,1.65,9.95,1.45,1.69,0.42,0.42,0.85,1.65,7.95,3.75,3.75,2.95,1.25,3.75,1.65,0.65,4.25,2.1,7.49,0.65,2.55,3.75,5.95,3.75,2.95,1.25,0.21,2.95,1.65,0.55,2.95,2.1,0.42,2.1,4.25,0.29,0.85,1.25,2.95,0.85,1.45,2.95,5.95,2.1,2.55,12.75,2.95,0.85,1.95,1.25,2.95,1.95,0.85,0.72,4.25,3.75,1.25,4.25,0.42,1.65,0.85,1.25,6.75,0.25,3.75,2.95,0.85,1.25,1.45,2.1,2.95,0.85,2.95,1.95,1.95,0.21,3.75,2.95,2.95,1.65,0.85,2.95,5.95,2.55,3.75,1.95,1.65,12.75,4.95,2.1,1.65,3.39,0.55,0.55,0.85,3.75,3.75,0.85,0.65,1.25,0.55,2.1,2.95,2.55,1.25,2.95,1.25,0.85,1.65,1.65,2.95,7.95,1.25,0.85,0.85,9.95,16.95,1.25,1.95,3.75,2.95,12.75,2.95,1.45,4.95,1.25,4.95,3.75,0.85,0.85,2.95,12.75,5.95,1.65,2.55,1.25,2.1,3.75,1.65,9.95,2.1,3.75,1.25,3.75,1.95,1.25,2.95,2.95,3.75,1.65,7.95,0.85,2.55,0.65,0.29,2.1,6.75,2.1,3.45,2.1,4.25,3.75,2.55,2.95,4.95,2.95,14.95,0.65,1.25,1.25,7.95,1.65,0.42,0.21,0.29,4.95,1.25,3.75,0.85,5.95,2.95,2.95,1.25,4.95,4.65,3.75,8.5,3.75,1.25,2.1,1.25,3.75,1.95,2.95,1.45,1.95,0.21,1.25,1.95,1.65,1.65,1.25,5.95,1.45,1.25,5.95,1.25,2.95,0.42,6.35,2.95,2.95,2.1,1.25,0.42,1.65,0.55,3.25,3.75,0.42,2.95,4.25,0.85,2.95,5.95,1.25,2.95,1.65,0.42,0.85,2.95,0.85,0.85,6.95,0.42,12.75,0.42,2.55,5.95,5.45,0.85,3.75,3.75,2.55,1.95,1.25,0.42,1.65,2.55,2.55,5.95,0.42,1.95,1.69,1.45,9.95,0.55,4.25,1.65,1.25,5.95,0.85,1.45,1.25,1.65,39.95,2.95,12.75,1.85,0.29,12.75,2.95,0.85,0.42,1.25,1.65,0.42,1.25,1.25,0.55,7.95,0.95,1.25,1.25,7.95,1.25,6.95,8.5,1.65,1.69,1.65,1.65,2.55,6.75,0.85,0.85,2.55,0.65,1.25,2.95,1.95,5.95,1.25,2.1,1.95,0.42,4.95,0.85,1.95,0.85,3.75,1.95,2.55,1.95,1.25,1.65,1.65,0.42,1.45,4.65,2.95,1.95,0.65,2.95,12.75,0.85,2.55,2.1,0.85,3.75,12.75,0.85,2.95,1.95,2.1,1.65,1.25,0.85,14.95,1.65,1.65,4.95,0.85,2.1,2.95,1.25,2.55,18.0,2.95,1.65,6.75,2.1,1.25,0.42,0.85,1.95,1.06,4.25,0.85,1.25,0.38,12.75,2.95,9.95,0.55,3.75,1.45,3.75,1.65,0.42,1.65,2.1,5.95,3.75,4.95,3.75,1.25,7.49,1.25,1.95,1.95,1.65,9.95,1.65,1.25,1.25,1.65,5.95,1.95,0.42,0.95,14.95,0.85,0.29,1.25,0.85,1.65,1.69,0.42,0.42,1.95,0.29,2.95,0.85,1.65,1.06,50.0,1.25,2.1,4.95,4.25,0.65,1.95,2.95,2.1,2.95,4.25,3.75,1.25,2.95,1.25,0.85,10.95,0.85,0.42,3.75,2.1,3.45,1.65,2.95,2.95,3.75,6.35,1.25,1.65,2.95,1.25,2.95,1.25,8.5,1.95,2.95,1.25,2.95,3.75,3.75,4.95,0.65,1.65,4.95,1.65,1.95,2.95,3.95,2.1,1.25,4.95,1.65,12.75,1.25,0.55,0.85,1.25,0.85,3.75,3.95,1.65,2.95,2.1,1.25,1.95,0.42,5.95,2.1,3.39,4.25,4.19,4.25,1.95,0.85,5.95,2.1,1.25,1.95,7.5,8.5,3.75,0.21,1.95,4.95,1.65,2.55,1.95,2.1,7.95,1.25,1.25,0.65,4.95,7.95,3.75,2.55,1.95,0.21,5.95,1.65,12.75,2.55,29.95,1.95,0.65,1.69,2.95,1.25,3.95,4.65,2.95,2.55,6.75,1.95,2.1,0.85,2.1,1.65,6.75,2.95,0.29,2.1,2.1,1.45,4.95,1.95,3.75,1.25,0.36,1.65,0.65,1.45,3.75,1.25,3.75,5.95,1.25,1.49,2.55,2.95,1.45,0.42,0.85,0.42,1.65,4.95,0.85,2.55,5.45,0.42,7.95,6.75,0.36,1.65,2.95,0.85,10.95,1.25,0.29,2.95,0.55,7.95,0.55,101.99,2.1,9.95,1.45,4.95,2.95,5.95,0.42,1.65,6.75,4.95,2.55,1.25,4.95,0.17,1.06,2.95,1.25,4.25,2.55,12.75,8.5,1.45,1.25,1.25,7.95,1.65,1.95,1.65,0.42,2.95,3.75,2.95,1.65,7.49,1.65,2.1,1.45,4.95,0.42,3.75,1.25,0.85,1.45,1.65,0.85,1.25,0.85,2.95,1.95,1.65,0.85,2.55,4.95,0.85,2.95,2.1,1.95,4.95,0.85,1.25,2.95,3.75,3.75,3.75,6.75,2.1,3.75,8.5,0.85,2.55,1.95,0.42,1.65,1.95,1.65,0.85,1.65,2.95,1.65,2.95,12.75,1.95,0.29,0.65,1.95,4.95,2.1,9.95,1.65,1.25,0.85,1.95,3.95,5.95,12.75,1.25,4.25,5.95,7.49,1.25,2.1,2.95,1.65,3.75,2.95,2.1,0.42,2.95,5.95,2.1,1.65,1.69,4.95,2.95,2.55,2.55,1.25,2.1,2.95,1.25,1.69,2.1,1.65],\"xaxis\":\"x2\",\"yaxis\":\"y2\",\"type\":\"box\"}],                        {\"template\":{\"data\":{\"histogram2dcontour\":[{\"type\":\"histogram2dcontour\",\"colorbar\":{\"outlinewidth\":0,\"ticks\":\"\"},\"colorscale\":[[0.0,\"#0d0887\"],[0.1111111111111111,\"#46039f\"],[0.2222222222222222,\"#7201a8\"],[0.3333333333333333,\"#9c179e\"],[0.4444444444444444,\"#bd3786\"],[0.5555555555555556,\"#d8576b\"],[0.6666666666666666,\"#ed7953\"],[0.7777777777777778,\"#fb9f3a\"],[0.8888888888888888,\"#fdca26\"],[1.0,\"#f0f921\"]]}],\"choropleth\":[{\"type\":\"choropleth\",\"colorbar\":{\"outlinewidth\":0,\"ticks\":\"\"}}],\"histogram2d\":[{\"type\":\"histogram2d\",\"colorbar\":{\"outlinewidth\":0,\"ticks\":\"\"},\"colorscale\":[[0.0,\"#0d0887\"],[0.1111111111111111,\"#46039f\"],[0.2222222222222222,\"#7201a8\"],[0.3333333333333333,\"#9c179e\"],[0.4444444444444444,\"#bd3786\"],[0.5555555555555556,\"#d8576b\"],[0.6666666666666666,\"#ed7953\"],[0.7777777777777778,\"#fb9f3a\"],[0.8888888888888888,\"#fdca26\"],[1.0,\"#f0f921\"]]}],\"heatmap\":[{\"type\":\"heatmap\",\"colorbar\":{\"outlinewidth\":0,\"ticks\":\"\"},\"colorscale\":[[0.0,\"#0d0887\"],[0.1111111111111111,\"#46039f\"],[0.2222222222222222,\"#7201a8\"],[0.3333333333333333,\"#9c179e\"],[0.4444444444444444,\"#bd3786\"],[0.5555555555555556,\"#d8576b\"],[0.6666666666666666,\"#ed7953\"],[0.7777777777777778,\"#fb9f3a\"],[0.8888888888888888,\"#fdca26\"],[1.0,\"#f0f921\"]]}],\"heatmapgl\":[{\"type\":\"heatmapgl\",\"colorbar\":{\"outlinewidth\":0,\"ticks\":\"\"},\"colorscale\":[[0.0,\"#0d0887\"],[0.1111111111111111,\"#46039f\"],[0.2222222222222222,\"#7201a8\"],[0.3333333333333333,\"#9c179e\"],[0.4444444444444444,\"#bd3786\"],[0.5555555555555556,\"#d8576b\"],[0.6666666666666666,\"#ed7953\"],[0.7777777777777778,\"#fb9f3a\"],[0.8888888888888888,\"#fdca26\"],[1.0,\"#f0f921\"]]}],\"contourcarpet\":[{\"type\":\"contourcarpet\",\"colorbar\":{\"outlinewidth\":0,\"ticks\":\"\"}}],\"contour\":[{\"type\":\"contour\",\"colorbar\":{\"outlinewidth\":0,\"ticks\":\"\"},\"colorscale\":[[0.0,\"#0d0887\"],[0.1111111111111111,\"#46039f\"],[0.2222222222222222,\"#7201a8\"],[0.3333333333333333,\"#9c179e\"],[0.4444444444444444,\"#bd3786\"],[0.5555555555555556,\"#d8576b\"],[0.6666666666666666,\"#ed7953\"],[0.7777777777777778,\"#fb9f3a\"],[0.8888888888888888,\"#fdca26\"],[1.0,\"#f0f921\"]]}],\"surface\":[{\"type\":\"surface\",\"colorbar\":{\"outlinewidth\":0,\"ticks\":\"\"},\"colorscale\":[[0.0,\"#0d0887\"],[0.1111111111111111,\"#46039f\"],[0.2222222222222222,\"#7201a8\"],[0.3333333333333333,\"#9c179e\"],[0.4444444444444444,\"#bd3786\"],[0.5555555555555556,\"#d8576b\"],[0.6666666666666666,\"#ed7953\"],[0.7777777777777778,\"#fb9f3a\"],[0.8888888888888888,\"#fdca26\"],[1.0,\"#f0f921\"]]}],\"mesh3d\":[{\"type\":\"mesh3d\",\"colorbar\":{\"outlinewidth\":0,\"ticks\":\"\"}}],\"scatter\":[{\"fillpattern\":{\"fillmode\":\"overlay\",\"size\":10,\"solidity\":0.2},\"type\":\"scatter\"}],\"parcoords\":[{\"type\":\"parcoords\",\"line\":{\"colorbar\":{\"outlinewidth\":0,\"ticks\":\"\"}}}],\"scatterpolargl\":[{\"type\":\"scatterpolargl\",\"marker\":{\"colorbar\":{\"outlinewidth\":0,\"ticks\":\"\"}}}],\"bar\":[{\"error_x\":{\"color\":\"#2a3f5f\"},\"error_y\":{\"color\":\"#2a3f5f\"},\"marker\":{\"line\":{\"color\":\"#E5ECF6\",\"width\":0.5},\"pattern\":{\"fillmode\":\"overlay\",\"size\":10,\"solidity\":0.2}},\"type\":\"bar\"}],\"scattergeo\":[{\"type\":\"scattergeo\",\"marker\":{\"colorbar\":{\"outlinewidth\":0,\"ticks\":\"\"}}}],\"scatterpolar\":[{\"type\":\"scatterpolar\",\"marker\":{\"colorbar\":{\"outlinewidth\":0,\"ticks\":\"\"}}}],\"histogram\":[{\"marker\":{\"pattern\":{\"fillmode\":\"overlay\",\"size\":10,\"solidity\":0.2}},\"type\":\"histogram\"}],\"scattergl\":[{\"type\":\"scattergl\",\"marker\":{\"colorbar\":{\"outlinewidth\":0,\"ticks\":\"\"}}}],\"scatter3d\":[{\"type\":\"scatter3d\",\"line\":{\"colorbar\":{\"outlinewidth\":0,\"ticks\":\"\"}},\"marker\":{\"colorbar\":{\"outlinewidth\":0,\"ticks\":\"\"}}}],\"scattermapbox\":[{\"type\":\"scattermapbox\",\"marker\":{\"colorbar\":{\"outlinewidth\":0,\"ticks\":\"\"}}}],\"scatterternary\":[{\"type\":\"scatterternary\",\"marker\":{\"colorbar\":{\"outlinewidth\":0,\"ticks\":\"\"}}}],\"scattercarpet\":[{\"type\":\"scattercarpet\",\"marker\":{\"colorbar\":{\"outlinewidth\":0,\"ticks\":\"\"}}}],\"carpet\":[{\"aaxis\":{\"endlinecolor\":\"#2a3f5f\",\"gridcolor\":\"white\",\"linecolor\":\"white\",\"minorgridcolor\":\"white\",\"startlinecolor\":\"#2a3f5f\"},\"baxis\":{\"endlinecolor\":\"#2a3f5f\",\"gridcolor\":\"white\",\"linecolor\":\"white\",\"minorgridcolor\":\"white\",\"startlinecolor\":\"#2a3f5f\"},\"type\":\"carpet\"}],\"table\":[{\"cells\":{\"fill\":{\"color\":\"#EBF0F8\"},\"line\":{\"color\":\"white\"}},\"header\":{\"fill\":{\"color\":\"#C8D4E3\"},\"line\":{\"color\":\"white\"}},\"type\":\"table\"}],\"barpolar\":[{\"marker\":{\"line\":{\"color\":\"#E5ECF6\",\"width\":0.5},\"pattern\":{\"fillmode\":\"overlay\",\"size\":10,\"solidity\":0.2}},\"type\":\"barpolar\"}],\"pie\":[{\"automargin\":true,\"type\":\"pie\"}]},\"layout\":{\"autotypenumbers\":\"strict\",\"colorway\":[\"#636efa\",\"#EF553B\",\"#00cc96\",\"#ab63fa\",\"#FFA15A\",\"#19d3f3\",\"#FF6692\",\"#B6E880\",\"#FF97FF\",\"#FECB52\"],\"font\":{\"color\":\"#2a3f5f\"},\"hovermode\":\"closest\",\"hoverlabel\":{\"align\":\"left\"},\"paper_bgcolor\":\"white\",\"plot_bgcolor\":\"#E5ECF6\",\"polar\":{\"bgcolor\":\"#E5ECF6\",\"angularaxis\":{\"gridcolor\":\"white\",\"linecolor\":\"white\",\"ticks\":\"\"},\"radialaxis\":{\"gridcolor\":\"white\",\"linecolor\":\"white\",\"ticks\":\"\"}},\"ternary\":{\"bgcolor\":\"#E5ECF6\",\"aaxis\":{\"gridcolor\":\"white\",\"linecolor\":\"white\",\"ticks\":\"\"},\"baxis\":{\"gridcolor\":\"white\",\"linecolor\":\"white\",\"ticks\":\"\"},\"caxis\":{\"gridcolor\":\"white\",\"linecolor\":\"white\",\"ticks\":\"\"}},\"coloraxis\":{\"colorbar\":{\"outlinewidth\":0,\"ticks\":\"\"}},\"colorscale\":{\"sequential\":[[0.0,\"#0d0887\"],[0.1111111111111111,\"#46039f\"],[0.2222222222222222,\"#7201a8\"],[0.3333333333333333,\"#9c179e\"],[0.4444444444444444,\"#bd3786\"],[0.5555555555555556,\"#d8576b\"],[0.6666666666666666,\"#ed7953\"],[0.7777777777777778,\"#fb9f3a\"],[0.8888888888888888,\"#fdca26\"],[1.0,\"#f0f921\"]],\"sequentialminus\":[[0.0,\"#0d0887\"],[0.1111111111111111,\"#46039f\"],[0.2222222222222222,\"#7201a8\"],[0.3333333333333333,\"#9c179e\"],[0.4444444444444444,\"#bd3786\"],[0.5555555555555556,\"#d8576b\"],[0.6666666666666666,\"#ed7953\"],[0.7777777777777778,\"#fb9f3a\"],[0.8888888888888888,\"#fdca26\"],[1.0,\"#f0f921\"]],\"diverging\":[[0,\"#8e0152\"],[0.1,\"#c51b7d\"],[0.2,\"#de77ae\"],[0.3,\"#f1b6da\"],[0.4,\"#fde0ef\"],[0.5,\"#f7f7f7\"],[0.6,\"#e6f5d0\"],[0.7,\"#b8e186\"],[0.8,\"#7fbc41\"],[0.9,\"#4d9221\"],[1,\"#276419\"]]},\"xaxis\":{\"gridcolor\":\"white\",\"linecolor\":\"white\",\"ticks\":\"\",\"title\":{\"standoff\":15},\"zerolinecolor\":\"white\",\"automargin\":true,\"zerolinewidth\":2},\"yaxis\":{\"gridcolor\":\"white\",\"linecolor\":\"white\",\"ticks\":\"\",\"title\":{\"standoff\":15},\"zerolinecolor\":\"white\",\"automargin\":true,\"zerolinewidth\":2},\"scene\":{\"xaxis\":{\"backgroundcolor\":\"#E5ECF6\",\"gridcolor\":\"white\",\"linecolor\":\"white\",\"showbackground\":true,\"ticks\":\"\",\"zerolinecolor\":\"white\",\"gridwidth\":2},\"yaxis\":{\"backgroundcolor\":\"#E5ECF6\",\"gridcolor\":\"white\",\"linecolor\":\"white\",\"showbackground\":true,\"ticks\":\"\",\"zerolinecolor\":\"white\",\"gridwidth\":2},\"zaxis\":{\"backgroundcolor\":\"#E5ECF6\",\"gridcolor\":\"white\",\"linecolor\":\"white\",\"showbackground\":true,\"ticks\":\"\",\"zerolinecolor\":\"white\",\"gridwidth\":2}},\"shapedefaults\":{\"line\":{\"color\":\"#2a3f5f\"}},\"annotationdefaults\":{\"arrowcolor\":\"#2a3f5f\",\"arrowhead\":0,\"arrowwidth\":1},\"geo\":{\"bgcolor\":\"white\",\"landcolor\":\"#E5ECF6\",\"subunitcolor\":\"white\",\"showland\":true,\"showlakes\":true,\"lakecolor\":\"white\"},\"title\":{\"x\":0.05},\"mapbox\":{\"style\":\"light\"}}},\"xaxis\":{\"anchor\":\"y\",\"domain\":[0.0,1.0],\"title\":{\"text\":\"value\"}},\"yaxis\":{\"anchor\":\"x\",\"domain\":[0.0,0.7326],\"title\":{\"text\":\"count\"}},\"xaxis2\":{\"anchor\":\"y2\",\"domain\":[0.0,1.0],\"matches\":\"x\",\"showticklabels\":false,\"showgrid\":true},\"yaxis2\":{\"anchor\":\"x2\",\"domain\":[0.7426,1.0],\"matches\":\"y2\",\"showticklabels\":false,\"showline\":false,\"ticks\":\"\",\"showgrid\":false},\"legend\":{\"title\":{\"text\":\"variable\"},\"tracegroupgap\":0},\"title\":{\"text\":\"Price - With Outliers\"},\"barmode\":\"relative\"},                        {\"responsive\": true}                    ).then(function(){\n",
              "                            \n",
              "var gd = document.getElementById('1674bae2-7129-4ec7-a1b3-83214bc2b287');\n",
              "var x = new MutationObserver(function (mutations, observer) {{\n",
              "        var display = window.getComputedStyle(gd).display;\n",
              "        if (!display || display === 'none') {{\n",
              "            console.log([gd, 'removed!']);\n",
              "            Plotly.purge(gd);\n",
              "            observer.disconnect();\n",
              "        }}\n",
              "}});\n",
              "\n",
              "// Listen for the removal of the full notebook cells\n",
              "var notebookContainer = gd.closest('#notebook-container');\n",
              "if (notebookContainer) {{\n",
              "    x.observe(notebookContainer, {childList: true});\n",
              "}}\n",
              "\n",
              "// Listen for the clearing of the current output cell\n",
              "var outputEl = gd.closest('.output');\n",
              "if (outputEl) {{\n",
              "    x.observe(outputEl, {childList: true});\n",
              "}}\n",
              "\n",
              "                        })                };                            </script>        </div>\n",
              "</body>\n",
              "</html>"
            ]
          },
          "metadata": {}
        },
        {
          "output_type": "display_data",
          "data": {
            "text/html": [
              "<html>\n",
              "<head><meta charset=\"utf-8\" /></head>\n",
              "<body>\n",
              "    <div>            <script src=\"https://cdnjs.cloudflare.com/ajax/libs/mathjax/2.7.5/MathJax.js?config=TeX-AMS-MML_SVG\"></script><script type=\"text/javascript\">if (window.MathJax && window.MathJax.Hub && window.MathJax.Hub.Config) {window.MathJax.Hub.Config({SVG: {font: \"STIX-Web\"}});}</script>                <script type=\"text/javascript\">window.PlotlyConfig = {MathJaxConfig: 'local'};</script>\n",
              "        <script src=\"https://cdn.plot.ly/plotly-2.14.0.min.js\"></script>                <div id=\"236e18ed-b87d-4b9e-9b1f-16ad6ae192e0\" class=\"plotly-graph-div\" style=\"height:525px; width:100%;\"></div>            <script type=\"text/javascript\">                                    window.PLOTLYENV=window.PLOTLYENV || {};                                    if (document.getElementById(\"236e18ed-b87d-4b9e-9b1f-16ad6ae192e0\")) {                    Plotly.newPlot(                        \"236e18ed-b87d-4b9e-9b1f-16ad6ae192e0\",                        [{\"alignmentgroup\":\"True\",\"bingroup\":\"x\",\"hovertemplate\":\"variable=Price<br>value=%{x}<br>count=%{y}<extra></extra>\",\"legendgroup\":\"Price\",\"marker\":{\"color\":\"#636efa\",\"pattern\":{\"shape\":\"\"}},\"name\":\"Price\",\"offsetgroup\":\"Price\",\"orientation\":\"v\",\"showlegend\":true,\"x\":[2.95,6.75,7.95,3.95,2.95,1.65,2.55,1.25,0.85,0.85,0.85,0.29,0.85,2.1,2.1,1.65,0.72,0.85,7.95,1.69,1.95,7.49,2.1,3.75,2.55,2.95,4.95,12.75,1.25,2.55,5.95,1.65,0.42,2.95,9.95,4.25,0.42,2.1,3.75,0.55,0.55,0.85,1.06,4.65,1.65,1.95,1.25,1.25,2.1,0.85,4.95,2.95,12.75,4.95,0.85,5.45,1.25,0.65,1.69,0.85,7.95,3.75,2.1,0.65,4.95,0.85,3.95,4.25,1.65,0.85,0.85,0.85,2.95,1.65,1.25,3.75,2.95,2.1,1.65,0.29,0.85,4.25,0.36,2.1,0.85,1.65,0.29,0.55,2.95,1.25,2.95,3.25,6.35,2.95,3.75,0.55,1.25,1.45,1.65,1.45,7.65,3.75,2.1,2.55,2.1,3.75,4.95,0.21,0.85,1.45,0.85,12.75,1.25,1.65,1.95,0.85,2.95,2.1,0.36,1.25,0.65,2.1,4.95,1.65,1.25,1.25,2.95,2.95,1.95,0.85,0.72,0.85,2.55,1.25,10.95,2.95,2.55,5.95,0.18,1.95,2.95,1.65,0.36,1.45,1.25,0.85,1.25,1.65,1.25,4.95,2.95,1.45,2.95,1.25,5.95,0.65,0.79,1.55,5.95,2.95,1.65,0.85,1.65,1.95,1.25,2.1,1.25,1.95,1.45,2.55,1.65,1.65,1.65,3.75,2.95,1.95,1.65,2.95,0.55,1.65,1.45,4.95,1.65,4.95,7.95,0.42,2.1,1.25,4.95,2.1,4.95,0.42,4.25,2.95,2.95,3.75,4.65,1.65,0.85,0.85,1.25,1.06,6.35,2.95,0.21,12.75,2.95,2.95,15.95,4.95,2.1,0.85,1.95,1.25,1.25,2.55,2.95,0.55,2.95,2.55,7.65,12.75,2.95,8.5,4.95,0.55,9.95,1.65,1.65,0.55,2.1,0.55,0.55,1.25,1.65,3.95,1.25,5.95,1.65,1.25,9.95,7.95,1.95,1.25,6.75,1.25,1.06,1.65,0.42,7.95,1.25,0.42,2.95,1.45,0.21,0.19,0.65,0.65,2.95,0.29,5.95,5.95,1.65,5.95,1.25,0.55,1.25,5.95,1.49,1.45,1.25,1.25,0.85,0.85,5.95,4.95,1.25,2.95,1.69,1.65,7.49,2.1,0.85,2.95,1.95,1.25,4.25,0.85,1.25,7.95,2.55,0.55,0.72,2.1,3.75,3.75,5.95,2.1,1.25,1.49,16.95,1.65,9.95,1.65,9.95,1.45,1.69,0.42,0.42,0.85,1.65,7.95,3.75,3.75,2.95,1.25,3.75,1.65,0.65,4.25,2.1,7.49,0.65,2.55,3.75,5.95,3.75,2.95,1.25,0.21,2.95,1.65,0.55,2.95,2.1,0.42,2.1,4.25,0.29,0.85,1.25,2.95,0.85,1.45,2.95,5.95,2.1,2.55,12.75,2.95,0.85,1.95,1.25,2.95,1.95,0.85,0.72,4.25,3.75,1.25,4.25,0.42,1.65,0.85,1.25,6.75,0.25,3.75,2.95,0.85,1.25,1.45,2.1,2.95,0.85,2.95,1.95,1.95,0.21,3.75,2.95,2.95,1.65,0.85,2.95,5.95,2.55,3.75,1.95,1.65,12.75,4.95,2.1,1.65,3.39,0.55,0.55,0.85,3.75,3.75,0.85,0.65,1.25,0.55,2.1,2.95,2.55,1.25,2.95,1.25,0.85,1.65,1.65,2.95,7.95,1.25,0.85,0.85,9.95,16.95,1.25,1.95,3.75,2.95,12.75,2.95,1.45,4.95,1.25,4.95,3.75,0.85,0.85,2.95,12.75,5.95,1.65,2.55,1.25,2.1,3.75,1.65,9.95,2.1,3.75,1.25,3.75,1.95,1.25,2.95,2.95,3.75,1.65,7.95,0.85,2.55,0.65,0.29,2.1,6.75,2.1,3.45,2.1,4.25,3.75,2.55,2.95,4.95,2.95,14.95,0.65,1.25,1.25,7.95,1.65,0.42,0.21,0.29,4.95,1.25,3.75,0.85,5.95,2.95,2.95,1.25,4.95,4.65,3.75,8.5,3.75,1.25,2.1,1.25,3.75,1.95,2.95,1.45,1.95,0.21,1.25,1.95,1.65,1.65,1.25,5.95,1.45,1.25,5.95,1.25,2.95,0.42,6.35,2.95,2.95,2.1,1.25,0.42,1.65,0.55,3.25,3.75,0.42,2.95,4.25,0.85,2.95,5.95,1.25,2.95,1.65,0.42,0.85,2.95,0.85,0.85,6.95,0.42,12.75,0.42,2.55,5.95,5.45,0.85,3.75,3.75,2.55,1.95,1.25,0.42,1.65,2.55,2.55,5.95,0.42,1.95,1.69,1.45,9.95,0.55,4.25,1.65,1.25,5.95,0.85,1.45,1.25,1.65,2.95,12.75,1.85,0.29,12.75,2.95,0.85,0.42,1.25,1.65,0.42,1.25,1.25,0.55,7.95,0.95,1.25,1.25,7.95,1.25,6.95,8.5,1.65,1.69,1.65,1.65,2.55,6.75,0.85,0.85,2.55,0.65,1.25,2.95,1.95,5.95,1.25,2.1,1.95,0.42,4.95,0.85,1.95,0.85,3.75,1.95,2.55,1.95,1.25,1.65,1.65,0.42,1.45,4.65,2.95,1.95,0.65,2.95,12.75,0.85,2.55,2.1,0.85,3.75,12.75,0.85,2.95,1.95,2.1,1.65,1.25,0.85,14.95,1.65,1.65,4.95,0.85,2.1,2.95,1.25,2.55,2.95,1.65,6.75,2.1,1.25,0.42,0.85,1.95,1.06,4.25,0.85,1.25,0.38,12.75,2.95,9.95,0.55,3.75,1.45,3.75,1.65,0.42,1.65,2.1,5.95,3.75,4.95,3.75,1.25,7.49,1.25,1.95,1.95,1.65,9.95,1.65,1.25,1.25,1.65,5.95,1.95,0.42,0.95,14.95,0.85,0.29,1.25,0.85,1.65,1.69,0.42,0.42,1.95,0.29,2.95,0.85,1.65,1.06,1.25,2.1,4.95,4.25,0.65,1.95,2.95,2.1,2.95,4.25,3.75,1.25,2.95,1.25,0.85,10.95,0.85,0.42,3.75,2.1,3.45,1.65,2.95,2.95,3.75,6.35,1.25,1.65,2.95,1.25,2.95,1.25,8.5,1.95,2.95,1.25,2.95,3.75,3.75,4.95,0.65,1.65,4.95,1.65,1.95,2.95,3.95,2.1,1.25,4.95,1.65,12.75,1.25,0.55,0.85,1.25,0.85,3.75,3.95,1.65,2.95,2.1,1.25,1.95,0.42,5.95,2.1,3.39,4.25,4.19,4.25,1.95,0.85,5.95,2.1,1.25,1.95,7.5,8.5,3.75,0.21,1.95,4.95,1.65,2.55,1.95,2.1,7.95,1.25,1.25,0.65,4.95,7.95,3.75,2.55,1.95,0.21,5.95,1.65,12.75,2.55,1.95,0.65,1.69,2.95,1.25,3.95,4.65,2.95,2.55,6.75,1.95,2.1,0.85,2.1,1.65,6.75,2.95,0.29,2.1,2.1,1.45,4.95,1.95,3.75,1.25,0.36,1.65,0.65,1.45,3.75,1.25,3.75,5.95,1.25,1.49,2.55,2.95,1.45,0.42,0.85,0.42,1.65,4.95,0.85,2.55,5.45,0.42,7.95,6.75,0.36,1.65,2.95,0.85,10.95,1.25,0.29,2.95,0.55,7.95,0.55,2.1,9.95,1.45,4.95,2.95,5.95,0.42,1.65,6.75,4.95,2.55,1.25,4.95,0.17,1.06,2.95,1.25,4.25,2.55,12.75,8.5,1.45,1.25,1.25,7.95,1.65,1.95,1.65,0.42,2.95,3.75,2.95,1.65,7.49,1.65,2.1,1.45,4.95,0.42,3.75,1.25,0.85,1.45,1.65,0.85,1.25,0.85,2.95,1.95,1.65,0.85,2.55,4.95,0.85,2.95,2.1,1.95,4.95,0.85,1.25,2.95,3.75,3.75,3.75,6.75,2.1,3.75,8.5,0.85,2.55,1.95,0.42,1.65,1.95,1.65,0.85,1.65,2.95,1.65,2.95,12.75,1.95,0.29,0.65,1.95,4.95,2.1,9.95,1.65,1.25,0.85,1.95,3.95,5.95,12.75,1.25,4.25,5.95,7.49,1.25,2.1,2.95,1.65,3.75,2.95,2.1,0.42,2.95,5.95,2.1,1.65,1.69,4.95,2.95,2.55,2.55,1.25,2.1,2.95,1.25,1.69,2.1,1.65],\"xaxis\":\"x\",\"yaxis\":\"y\",\"type\":\"histogram\"},{\"alignmentgroup\":\"True\",\"hovertemplate\":\"variable=Price<br>value=%{x}<extra></extra>\",\"legendgroup\":\"Price\",\"marker\":{\"color\":\"#636efa\"},\"name\":\"Price\",\"notched\":true,\"offsetgroup\":\"Price\",\"showlegend\":false,\"x\":[2.95,6.75,7.95,3.95,2.95,1.65,2.55,1.25,0.85,0.85,0.85,0.29,0.85,2.1,2.1,1.65,0.72,0.85,7.95,1.69,1.95,7.49,2.1,3.75,2.55,2.95,4.95,12.75,1.25,2.55,5.95,1.65,0.42,2.95,9.95,4.25,0.42,2.1,3.75,0.55,0.55,0.85,1.06,4.65,1.65,1.95,1.25,1.25,2.1,0.85,4.95,2.95,12.75,4.95,0.85,5.45,1.25,0.65,1.69,0.85,7.95,3.75,2.1,0.65,4.95,0.85,3.95,4.25,1.65,0.85,0.85,0.85,2.95,1.65,1.25,3.75,2.95,2.1,1.65,0.29,0.85,4.25,0.36,2.1,0.85,1.65,0.29,0.55,2.95,1.25,2.95,3.25,6.35,2.95,3.75,0.55,1.25,1.45,1.65,1.45,7.65,3.75,2.1,2.55,2.1,3.75,4.95,0.21,0.85,1.45,0.85,12.75,1.25,1.65,1.95,0.85,2.95,2.1,0.36,1.25,0.65,2.1,4.95,1.65,1.25,1.25,2.95,2.95,1.95,0.85,0.72,0.85,2.55,1.25,10.95,2.95,2.55,5.95,0.18,1.95,2.95,1.65,0.36,1.45,1.25,0.85,1.25,1.65,1.25,4.95,2.95,1.45,2.95,1.25,5.95,0.65,0.79,1.55,5.95,2.95,1.65,0.85,1.65,1.95,1.25,2.1,1.25,1.95,1.45,2.55,1.65,1.65,1.65,3.75,2.95,1.95,1.65,2.95,0.55,1.65,1.45,4.95,1.65,4.95,7.95,0.42,2.1,1.25,4.95,2.1,4.95,0.42,4.25,2.95,2.95,3.75,4.65,1.65,0.85,0.85,1.25,1.06,6.35,2.95,0.21,12.75,2.95,2.95,15.95,4.95,2.1,0.85,1.95,1.25,1.25,2.55,2.95,0.55,2.95,2.55,7.65,12.75,2.95,8.5,4.95,0.55,9.95,1.65,1.65,0.55,2.1,0.55,0.55,1.25,1.65,3.95,1.25,5.95,1.65,1.25,9.95,7.95,1.95,1.25,6.75,1.25,1.06,1.65,0.42,7.95,1.25,0.42,2.95,1.45,0.21,0.19,0.65,0.65,2.95,0.29,5.95,5.95,1.65,5.95,1.25,0.55,1.25,5.95,1.49,1.45,1.25,1.25,0.85,0.85,5.95,4.95,1.25,2.95,1.69,1.65,7.49,2.1,0.85,2.95,1.95,1.25,4.25,0.85,1.25,7.95,2.55,0.55,0.72,2.1,3.75,3.75,5.95,2.1,1.25,1.49,16.95,1.65,9.95,1.65,9.95,1.45,1.69,0.42,0.42,0.85,1.65,7.95,3.75,3.75,2.95,1.25,3.75,1.65,0.65,4.25,2.1,7.49,0.65,2.55,3.75,5.95,3.75,2.95,1.25,0.21,2.95,1.65,0.55,2.95,2.1,0.42,2.1,4.25,0.29,0.85,1.25,2.95,0.85,1.45,2.95,5.95,2.1,2.55,12.75,2.95,0.85,1.95,1.25,2.95,1.95,0.85,0.72,4.25,3.75,1.25,4.25,0.42,1.65,0.85,1.25,6.75,0.25,3.75,2.95,0.85,1.25,1.45,2.1,2.95,0.85,2.95,1.95,1.95,0.21,3.75,2.95,2.95,1.65,0.85,2.95,5.95,2.55,3.75,1.95,1.65,12.75,4.95,2.1,1.65,3.39,0.55,0.55,0.85,3.75,3.75,0.85,0.65,1.25,0.55,2.1,2.95,2.55,1.25,2.95,1.25,0.85,1.65,1.65,2.95,7.95,1.25,0.85,0.85,9.95,16.95,1.25,1.95,3.75,2.95,12.75,2.95,1.45,4.95,1.25,4.95,3.75,0.85,0.85,2.95,12.75,5.95,1.65,2.55,1.25,2.1,3.75,1.65,9.95,2.1,3.75,1.25,3.75,1.95,1.25,2.95,2.95,3.75,1.65,7.95,0.85,2.55,0.65,0.29,2.1,6.75,2.1,3.45,2.1,4.25,3.75,2.55,2.95,4.95,2.95,14.95,0.65,1.25,1.25,7.95,1.65,0.42,0.21,0.29,4.95,1.25,3.75,0.85,5.95,2.95,2.95,1.25,4.95,4.65,3.75,8.5,3.75,1.25,2.1,1.25,3.75,1.95,2.95,1.45,1.95,0.21,1.25,1.95,1.65,1.65,1.25,5.95,1.45,1.25,5.95,1.25,2.95,0.42,6.35,2.95,2.95,2.1,1.25,0.42,1.65,0.55,3.25,3.75,0.42,2.95,4.25,0.85,2.95,5.95,1.25,2.95,1.65,0.42,0.85,2.95,0.85,0.85,6.95,0.42,12.75,0.42,2.55,5.95,5.45,0.85,3.75,3.75,2.55,1.95,1.25,0.42,1.65,2.55,2.55,5.95,0.42,1.95,1.69,1.45,9.95,0.55,4.25,1.65,1.25,5.95,0.85,1.45,1.25,1.65,2.95,12.75,1.85,0.29,12.75,2.95,0.85,0.42,1.25,1.65,0.42,1.25,1.25,0.55,7.95,0.95,1.25,1.25,7.95,1.25,6.95,8.5,1.65,1.69,1.65,1.65,2.55,6.75,0.85,0.85,2.55,0.65,1.25,2.95,1.95,5.95,1.25,2.1,1.95,0.42,4.95,0.85,1.95,0.85,3.75,1.95,2.55,1.95,1.25,1.65,1.65,0.42,1.45,4.65,2.95,1.95,0.65,2.95,12.75,0.85,2.55,2.1,0.85,3.75,12.75,0.85,2.95,1.95,2.1,1.65,1.25,0.85,14.95,1.65,1.65,4.95,0.85,2.1,2.95,1.25,2.55,2.95,1.65,6.75,2.1,1.25,0.42,0.85,1.95,1.06,4.25,0.85,1.25,0.38,12.75,2.95,9.95,0.55,3.75,1.45,3.75,1.65,0.42,1.65,2.1,5.95,3.75,4.95,3.75,1.25,7.49,1.25,1.95,1.95,1.65,9.95,1.65,1.25,1.25,1.65,5.95,1.95,0.42,0.95,14.95,0.85,0.29,1.25,0.85,1.65,1.69,0.42,0.42,1.95,0.29,2.95,0.85,1.65,1.06,1.25,2.1,4.95,4.25,0.65,1.95,2.95,2.1,2.95,4.25,3.75,1.25,2.95,1.25,0.85,10.95,0.85,0.42,3.75,2.1,3.45,1.65,2.95,2.95,3.75,6.35,1.25,1.65,2.95,1.25,2.95,1.25,8.5,1.95,2.95,1.25,2.95,3.75,3.75,4.95,0.65,1.65,4.95,1.65,1.95,2.95,3.95,2.1,1.25,4.95,1.65,12.75,1.25,0.55,0.85,1.25,0.85,3.75,3.95,1.65,2.95,2.1,1.25,1.95,0.42,5.95,2.1,3.39,4.25,4.19,4.25,1.95,0.85,5.95,2.1,1.25,1.95,7.5,8.5,3.75,0.21,1.95,4.95,1.65,2.55,1.95,2.1,7.95,1.25,1.25,0.65,4.95,7.95,3.75,2.55,1.95,0.21,5.95,1.65,12.75,2.55,1.95,0.65,1.69,2.95,1.25,3.95,4.65,2.95,2.55,6.75,1.95,2.1,0.85,2.1,1.65,6.75,2.95,0.29,2.1,2.1,1.45,4.95,1.95,3.75,1.25,0.36,1.65,0.65,1.45,3.75,1.25,3.75,5.95,1.25,1.49,2.55,2.95,1.45,0.42,0.85,0.42,1.65,4.95,0.85,2.55,5.45,0.42,7.95,6.75,0.36,1.65,2.95,0.85,10.95,1.25,0.29,2.95,0.55,7.95,0.55,2.1,9.95,1.45,4.95,2.95,5.95,0.42,1.65,6.75,4.95,2.55,1.25,4.95,0.17,1.06,2.95,1.25,4.25,2.55,12.75,8.5,1.45,1.25,1.25,7.95,1.65,1.95,1.65,0.42,2.95,3.75,2.95,1.65,7.49,1.65,2.1,1.45,4.95,0.42,3.75,1.25,0.85,1.45,1.65,0.85,1.25,0.85,2.95,1.95,1.65,0.85,2.55,4.95,0.85,2.95,2.1,1.95,4.95,0.85,1.25,2.95,3.75,3.75,3.75,6.75,2.1,3.75,8.5,0.85,2.55,1.95,0.42,1.65,1.95,1.65,0.85,1.65,2.95,1.65,2.95,12.75,1.95,0.29,0.65,1.95,4.95,2.1,9.95,1.65,1.25,0.85,1.95,3.95,5.95,12.75,1.25,4.25,5.95,7.49,1.25,2.1,2.95,1.65,3.75,2.95,2.1,0.42,2.95,5.95,2.1,1.65,1.69,4.95,2.95,2.55,2.55,1.25,2.1,2.95,1.25,1.69,2.1,1.65],\"xaxis\":\"x2\",\"yaxis\":\"y2\",\"type\":\"box\"}],                        {\"template\":{\"data\":{\"histogram2dcontour\":[{\"type\":\"histogram2dcontour\",\"colorbar\":{\"outlinewidth\":0,\"ticks\":\"\"},\"colorscale\":[[0.0,\"#0d0887\"],[0.1111111111111111,\"#46039f\"],[0.2222222222222222,\"#7201a8\"],[0.3333333333333333,\"#9c179e\"],[0.4444444444444444,\"#bd3786\"],[0.5555555555555556,\"#d8576b\"],[0.6666666666666666,\"#ed7953\"],[0.7777777777777778,\"#fb9f3a\"],[0.8888888888888888,\"#fdca26\"],[1.0,\"#f0f921\"]]}],\"choropleth\":[{\"type\":\"choropleth\",\"colorbar\":{\"outlinewidth\":0,\"ticks\":\"\"}}],\"histogram2d\":[{\"type\":\"histogram2d\",\"colorbar\":{\"outlinewidth\":0,\"ticks\":\"\"},\"colorscale\":[[0.0,\"#0d0887\"],[0.1111111111111111,\"#46039f\"],[0.2222222222222222,\"#7201a8\"],[0.3333333333333333,\"#9c179e\"],[0.4444444444444444,\"#bd3786\"],[0.5555555555555556,\"#d8576b\"],[0.6666666666666666,\"#ed7953\"],[0.7777777777777778,\"#fb9f3a\"],[0.8888888888888888,\"#fdca26\"],[1.0,\"#f0f921\"]]}],\"heatmap\":[{\"type\":\"heatmap\",\"colorbar\":{\"outlinewidth\":0,\"ticks\":\"\"},\"colorscale\":[[0.0,\"#0d0887\"],[0.1111111111111111,\"#46039f\"],[0.2222222222222222,\"#7201a8\"],[0.3333333333333333,\"#9c179e\"],[0.4444444444444444,\"#bd3786\"],[0.5555555555555556,\"#d8576b\"],[0.6666666666666666,\"#ed7953\"],[0.7777777777777778,\"#fb9f3a\"],[0.8888888888888888,\"#fdca26\"],[1.0,\"#f0f921\"]]}],\"heatmapgl\":[{\"type\":\"heatmapgl\",\"colorbar\":{\"outlinewidth\":0,\"ticks\":\"\"},\"colorscale\":[[0.0,\"#0d0887\"],[0.1111111111111111,\"#46039f\"],[0.2222222222222222,\"#7201a8\"],[0.3333333333333333,\"#9c179e\"],[0.4444444444444444,\"#bd3786\"],[0.5555555555555556,\"#d8576b\"],[0.6666666666666666,\"#ed7953\"],[0.7777777777777778,\"#fb9f3a\"],[0.8888888888888888,\"#fdca26\"],[1.0,\"#f0f921\"]]}],\"contourcarpet\":[{\"type\":\"contourcarpet\",\"colorbar\":{\"outlinewidth\":0,\"ticks\":\"\"}}],\"contour\":[{\"type\":\"contour\",\"colorbar\":{\"outlinewidth\":0,\"ticks\":\"\"},\"colorscale\":[[0.0,\"#0d0887\"],[0.1111111111111111,\"#46039f\"],[0.2222222222222222,\"#7201a8\"],[0.3333333333333333,\"#9c179e\"],[0.4444444444444444,\"#bd3786\"],[0.5555555555555556,\"#d8576b\"],[0.6666666666666666,\"#ed7953\"],[0.7777777777777778,\"#fb9f3a\"],[0.8888888888888888,\"#fdca26\"],[1.0,\"#f0f921\"]]}],\"surface\":[{\"type\":\"surface\",\"colorbar\":{\"outlinewidth\":0,\"ticks\":\"\"},\"colorscale\":[[0.0,\"#0d0887\"],[0.1111111111111111,\"#46039f\"],[0.2222222222222222,\"#7201a8\"],[0.3333333333333333,\"#9c179e\"],[0.4444444444444444,\"#bd3786\"],[0.5555555555555556,\"#d8576b\"],[0.6666666666666666,\"#ed7953\"],[0.7777777777777778,\"#fb9f3a\"],[0.8888888888888888,\"#fdca26\"],[1.0,\"#f0f921\"]]}],\"mesh3d\":[{\"type\":\"mesh3d\",\"colorbar\":{\"outlinewidth\":0,\"ticks\":\"\"}}],\"scatter\":[{\"fillpattern\":{\"fillmode\":\"overlay\",\"size\":10,\"solidity\":0.2},\"type\":\"scatter\"}],\"parcoords\":[{\"type\":\"parcoords\",\"line\":{\"colorbar\":{\"outlinewidth\":0,\"ticks\":\"\"}}}],\"scatterpolargl\":[{\"type\":\"scatterpolargl\",\"marker\":{\"colorbar\":{\"outlinewidth\":0,\"ticks\":\"\"}}}],\"bar\":[{\"error_x\":{\"color\":\"#2a3f5f\"},\"error_y\":{\"color\":\"#2a3f5f\"},\"marker\":{\"line\":{\"color\":\"#E5ECF6\",\"width\":0.5},\"pattern\":{\"fillmode\":\"overlay\",\"size\":10,\"solidity\":0.2}},\"type\":\"bar\"}],\"scattergeo\":[{\"type\":\"scattergeo\",\"marker\":{\"colorbar\":{\"outlinewidth\":0,\"ticks\":\"\"}}}],\"scatterpolar\":[{\"type\":\"scatterpolar\",\"marker\":{\"colorbar\":{\"outlinewidth\":0,\"ticks\":\"\"}}}],\"histogram\":[{\"marker\":{\"pattern\":{\"fillmode\":\"overlay\",\"size\":10,\"solidity\":0.2}},\"type\":\"histogram\"}],\"scattergl\":[{\"type\":\"scattergl\",\"marker\":{\"colorbar\":{\"outlinewidth\":0,\"ticks\":\"\"}}}],\"scatter3d\":[{\"type\":\"scatter3d\",\"line\":{\"colorbar\":{\"outlinewidth\":0,\"ticks\":\"\"}},\"marker\":{\"colorbar\":{\"outlinewidth\":0,\"ticks\":\"\"}}}],\"scattermapbox\":[{\"type\":\"scattermapbox\",\"marker\":{\"colorbar\":{\"outlinewidth\":0,\"ticks\":\"\"}}}],\"scatterternary\":[{\"type\":\"scatterternary\",\"marker\":{\"colorbar\":{\"outlinewidth\":0,\"ticks\":\"\"}}}],\"scattercarpet\":[{\"type\":\"scattercarpet\",\"marker\":{\"colorbar\":{\"outlinewidth\":0,\"ticks\":\"\"}}}],\"carpet\":[{\"aaxis\":{\"endlinecolor\":\"#2a3f5f\",\"gridcolor\":\"white\",\"linecolor\":\"white\",\"minorgridcolor\":\"white\",\"startlinecolor\":\"#2a3f5f\"},\"baxis\":{\"endlinecolor\":\"#2a3f5f\",\"gridcolor\":\"white\",\"linecolor\":\"white\",\"minorgridcolor\":\"white\",\"startlinecolor\":\"#2a3f5f\"},\"type\":\"carpet\"}],\"table\":[{\"cells\":{\"fill\":{\"color\":\"#EBF0F8\"},\"line\":{\"color\":\"white\"}},\"header\":{\"fill\":{\"color\":\"#C8D4E3\"},\"line\":{\"color\":\"white\"}},\"type\":\"table\"}],\"barpolar\":[{\"marker\":{\"line\":{\"color\":\"#E5ECF6\",\"width\":0.5},\"pattern\":{\"fillmode\":\"overlay\",\"size\":10,\"solidity\":0.2}},\"type\":\"barpolar\"}],\"pie\":[{\"automargin\":true,\"type\":\"pie\"}]},\"layout\":{\"autotypenumbers\":\"strict\",\"colorway\":[\"#636efa\",\"#EF553B\",\"#00cc96\",\"#ab63fa\",\"#FFA15A\",\"#19d3f3\",\"#FF6692\",\"#B6E880\",\"#FF97FF\",\"#FECB52\"],\"font\":{\"color\":\"#2a3f5f\"},\"hovermode\":\"closest\",\"hoverlabel\":{\"align\":\"left\"},\"paper_bgcolor\":\"white\",\"plot_bgcolor\":\"#E5ECF6\",\"polar\":{\"bgcolor\":\"#E5ECF6\",\"angularaxis\":{\"gridcolor\":\"white\",\"linecolor\":\"white\",\"ticks\":\"\"},\"radialaxis\":{\"gridcolor\":\"white\",\"linecolor\":\"white\",\"ticks\":\"\"}},\"ternary\":{\"bgcolor\":\"#E5ECF6\",\"aaxis\":{\"gridcolor\":\"white\",\"linecolor\":\"white\",\"ticks\":\"\"},\"baxis\":{\"gridcolor\":\"white\",\"linecolor\":\"white\",\"ticks\":\"\"},\"caxis\":{\"gridcolor\":\"white\",\"linecolor\":\"white\",\"ticks\":\"\"}},\"coloraxis\":{\"colorbar\":{\"outlinewidth\":0,\"ticks\":\"\"}},\"colorscale\":{\"sequential\":[[0.0,\"#0d0887\"],[0.1111111111111111,\"#46039f\"],[0.2222222222222222,\"#7201a8\"],[0.3333333333333333,\"#9c179e\"],[0.4444444444444444,\"#bd3786\"],[0.5555555555555556,\"#d8576b\"],[0.6666666666666666,\"#ed7953\"],[0.7777777777777778,\"#fb9f3a\"],[0.8888888888888888,\"#fdca26\"],[1.0,\"#f0f921\"]],\"sequentialminus\":[[0.0,\"#0d0887\"],[0.1111111111111111,\"#46039f\"],[0.2222222222222222,\"#7201a8\"],[0.3333333333333333,\"#9c179e\"],[0.4444444444444444,\"#bd3786\"],[0.5555555555555556,\"#d8576b\"],[0.6666666666666666,\"#ed7953\"],[0.7777777777777778,\"#fb9f3a\"],[0.8888888888888888,\"#fdca26\"],[1.0,\"#f0f921\"]],\"diverging\":[[0,\"#8e0152\"],[0.1,\"#c51b7d\"],[0.2,\"#de77ae\"],[0.3,\"#f1b6da\"],[0.4,\"#fde0ef\"],[0.5,\"#f7f7f7\"],[0.6,\"#e6f5d0\"],[0.7,\"#b8e186\"],[0.8,\"#7fbc41\"],[0.9,\"#4d9221\"],[1,\"#276419\"]]},\"xaxis\":{\"gridcolor\":\"white\",\"linecolor\":\"white\",\"ticks\":\"\",\"title\":{\"standoff\":15},\"zerolinecolor\":\"white\",\"automargin\":true,\"zerolinewidth\":2},\"yaxis\":{\"gridcolor\":\"white\",\"linecolor\":\"white\",\"ticks\":\"\",\"title\":{\"standoff\":15},\"zerolinecolor\":\"white\",\"automargin\":true,\"zerolinewidth\":2},\"scene\":{\"xaxis\":{\"backgroundcolor\":\"#E5ECF6\",\"gridcolor\":\"white\",\"linecolor\":\"white\",\"showbackground\":true,\"ticks\":\"\",\"zerolinecolor\":\"white\",\"gridwidth\":2},\"yaxis\":{\"backgroundcolor\":\"#E5ECF6\",\"gridcolor\":\"white\",\"linecolor\":\"white\",\"showbackground\":true,\"ticks\":\"\",\"zerolinecolor\":\"white\",\"gridwidth\":2},\"zaxis\":{\"backgroundcolor\":\"#E5ECF6\",\"gridcolor\":\"white\",\"linecolor\":\"white\",\"showbackground\":true,\"ticks\":\"\",\"zerolinecolor\":\"white\",\"gridwidth\":2}},\"shapedefaults\":{\"line\":{\"color\":\"#2a3f5f\"}},\"annotationdefaults\":{\"arrowcolor\":\"#2a3f5f\",\"arrowhead\":0,\"arrowwidth\":1},\"geo\":{\"bgcolor\":\"white\",\"landcolor\":\"#E5ECF6\",\"subunitcolor\":\"white\",\"showland\":true,\"showlakes\":true,\"lakecolor\":\"white\"},\"title\":{\"x\":0.05},\"mapbox\":{\"style\":\"light\"}}},\"xaxis\":{\"anchor\":\"y\",\"domain\":[0.0,1.0],\"title\":{\"text\":\"value\"}},\"yaxis\":{\"anchor\":\"x\",\"domain\":[0.0,0.7326],\"title\":{\"text\":\"count\"}},\"xaxis2\":{\"anchor\":\"y2\",\"domain\":[0.0,1.0],\"matches\":\"x\",\"showticklabels\":false,\"showgrid\":true},\"yaxis2\":{\"anchor\":\"x2\",\"domain\":[0.7426,1.0],\"matches\":\"y2\",\"showticklabels\":false,\"showline\":false,\"ticks\":\"\",\"showgrid\":false},\"legend\":{\"title\":{\"text\":\"variable\"},\"tracegroupgap\":0},\"title\":{\"text\":\"Price - Without Outliers\"},\"barmode\":\"relative\"},                        {\"responsive\": true}                    ).then(function(){\n",
              "                            \n",
              "var gd = document.getElementById('236e18ed-b87d-4b9e-9b1f-16ad6ae192e0');\n",
              "var x = new MutationObserver(function (mutations, observer) {{\n",
              "        var display = window.getComputedStyle(gd).display;\n",
              "        if (!display || display === 'none') {{\n",
              "            console.log([gd, 'removed!']);\n",
              "            Plotly.purge(gd);\n",
              "            observer.disconnect();\n",
              "        }}\n",
              "}});\n",
              "\n",
              "// Listen for the removal of the full notebook cells\n",
              "var notebookContainer = gd.closest('#notebook-container');\n",
              "if (notebookContainer) {{\n",
              "    x.observe(notebookContainer, {childList: true});\n",
              "}}\n",
              "\n",
              "// Listen for the clearing of the current output cell\n",
              "var outputEl = gd.closest('.output');\n",
              "if (outputEl) {{\n",
              "    x.observe(outputEl, {childList: true});\n",
              "}}\n",
              "\n",
              "                        })                };                            </script>        </div>\n",
              "</body>\n",
              "</html>"
            ]
          },
          "metadata": {}
        }
      ]
    },
    {
      "cell_type": "code",
      "source": [
        "profile_serie(cleaned['Quantity']) "
      ],
      "metadata": {
        "id": "nyK4lxh9RfE4",
        "outputId": "0cb622a4-27fa-43f4-a2fc-328a22ffb108",
        "colab": {
          "base_uri": "https://localhost:8080/",
          "height": 1000
        }
      },
      "execution_count": 11,
      "outputs": [
        {
          "output_type": "display_data",
          "data": {
            "text/plain": [
              "<IPython.core.display.Markdown object>"
            ],
            "text/markdown": "## Quantity Profile"
          },
          "metadata": {}
        },
        {
          "output_type": "display_data",
          "data": {
            "text/plain": [
              "Type                              int64\n",
              "Number of observations         400916.0\n",
              "Mean                          13.767418\n",
              "Std                           97.638385\n",
              "Min                                 1.0\n",
              "25%                                 2.0\n",
              "50%                                 5.0\n",
              "75%                                12.0\n",
              "Max                             19152.0\n",
              "Negative                              0\n",
              "Negative (%)                      0.0 %\n",
              "Zeros                                 0\n",
              "Zeros (%)                         0.0 %\n",
              "Kurt                        9418.363882\n",
              "Skew                          79.281875\n",
              "                                       \n",
              "Missing cells                         0\n",
              "Missing cells (%)                 0.0 %\n",
              "Duplicate rows                   400802\n",
              "Duplicate rows (%)              99.97 %\n",
              "Total size in memory      6414656 bytes\n",
              "dtype: object"
            ]
          },
          "metadata": {}
        },
        {
          "output_type": "display_data",
          "data": {
            "text/html": [
              "<html>\n",
              "<head><meta charset=\"utf-8\" /></head>\n",
              "<body>\n",
              "    <div>            <script src=\"https://cdnjs.cloudflare.com/ajax/libs/mathjax/2.7.5/MathJax.js?config=TeX-AMS-MML_SVG\"></script><script type=\"text/javascript\">if (window.MathJax && window.MathJax.Hub && window.MathJax.Hub.Config) {window.MathJax.Hub.Config({SVG: {font: \"STIX-Web\"}});}</script>                <script type=\"text/javascript\">window.PlotlyConfig = {MathJaxConfig: 'local'};</script>\n",
              "        <script src=\"https://cdn.plot.ly/plotly-2.14.0.min.js\"></script>                <div id=\"52424f01-6bf2-4b3a-a9f9-3da959b70dd1\" class=\"plotly-graph-div\" style=\"height:525px; width:100%;\"></div>            <script type=\"text/javascript\">                                    window.PLOTLYENV=window.PLOTLYENV || {};                                    if (document.getElementById(\"52424f01-6bf2-4b3a-a9f9-3da959b70dd1\")) {                    Plotly.newPlot(                        \"52424f01-6bf2-4b3a-a9f9-3da959b70dd1\",                        [{\"alignmentgroup\":\"True\",\"bingroup\":\"x\",\"hovertemplate\":\"variable=Quantity<br>value=%{x}<br>count=%{y}<extra></extra>\",\"legendgroup\":\"Quantity\",\"marker\":{\"color\":\"#636efa\",\"pattern\":{\"shape\":\"\"}},\"name\":\"Quantity\",\"offsetgroup\":\"Quantity\",\"orientation\":\"v\",\"showlegend\":true,\"x\":[1,2,4,9,12,7,1,12,1,2,12,504,20,12,1,200,24,12,1,24,3,1,2,1,6,6,3,2,1,3,2,10,2,24,4,2,4,12,60,2,12,2,1,40,3,1,10,8,1,6,12,3,3,1,2,12,2,5,12,24,12,1,1,2,24,4,1,4,1,5,12,12,2,2,3,12,1,1,15,24,24,2,6,12,4,12,48,48,24,2,2,6,8,12,4,6,6,3,2,1,1,12,8,12,5,3,4,1,2,48,2,1,12,2,1,8,20,12,8,4,144,5,5,8,2,8,3,8,1,1,16,10,100,12,2,2,3,4,6,9,288,20,6,1,12,2,2,24,12,12,2,3,4,12,6,12,4,1,288,10,1,1,20,24,10,12,2,8,6,4,12,8,10,10,100,400,6,1,24,30,8,1,3,3,5,4,2,12,36,24,2,1,3,15,4,6,2,2,10,1,1,24,6,12,2,6,10,2,6,5,1,3,2,2,4,1,1,2,6,1,2,1,12,1,6,1,12,5,4,1,12,1,12,12,24,1,1,1,4,2,2,12,1,2,3,20,10,4,144,3,24,1,1,48,4,1,48,1,3,10,6,1,2,1,1,1,48,12,1,4,4,2,12,12,12,6,3,1,2,6,8,200,2,1,1,6,3,2,4,12,2,3,2,12,1,100,2,6,1,4,1,12,12,12,2,2,2,3,1,9,2,2,12,12,5,2,4,4,12,12,12,12,96,1,1,1,4,24,12,10,1,8,4,30,5,2,2,1,8,12,12,2,6,2,12,2,1,4,6,3,6,6,2,6,1,12,8,4,2,6,100,2,2,2,1,12,2,12,24,1,4,4,12,12,144,12,6,16,24,6,4,2,36,12,6,30,12,3,12,10,1,2,1,1,1,4,6,8,24,24,12,1,12,1,3,6,12,24,4,1,64,1,6,12,8,10,4,3,2,12,3,12,1,1,10,12,1,1,1,2,2,3,4,3,1,12,2,4,2,2,12,2,4,1,4,36,1,4,4,8,4,8,10,4,6,4,12,2,24,6,1,36,2,1,10,24,1,2,8,6,4,1,1,1,12,2,3,3,1,12,288,48,2,6,2,10,2,2,3,20,3,1,1,16,4,24,12,2,1,10,6,1,20,30,12,4,12,2,6,1,1,1,3,12,4,12,60,6,18,1,1,25,2,12,12,1,24,3,6,10,2,1,10,6,1,16,12,12,24,2,2,24,1,25,3,15,3,6,12,24,3,10,8,120,12,6,6,2,24,2,1,12,2,24,1,1,2,2,8,12,1,8,1,3,4,48,141,1,12,24,12,10,10,12,12,12,2,2,36,6,6,1,3,2,8,2,16,100,12,6,1,52,1,4,12,9,1,10,10,4,6,8,12,4,1,20,10,4,10,3,10,12,40,4,16,8,2,1,2,3,3,1,2,1,1,3,8,2,2,6,12,1,1,32,3,1,2,10,6,3,2,1,12,64,3,1,20,2,6,3,2,8,10,144,1,2,12,60,1,1,1,12,4,4,6,1,12,100,1,3,13,3,1,1,1,12,12,2,12,1,24,12,12,1,3,7,12,2,2,2,48,1,2,2,48,25,25,1,1,1,32,8,36,1,12,4,6,4,8,10,12,6,18,4,1,12,2,12,24,16,12,12,4,5,2,12,6,6,2,24,12,24,2,6,2,3,3,10,6,1,6,1,2,2,12,10,3,3,3,6,1,1,6,3,3,2,12,24,20,12,2,4,48,10,24,12,10,24,25,2,10,24,3,100,2,10,24,3,24,16,20,2,2,4,100,5,4,12,2,36,6,2,12,12,2,1,1,1,4,36,25,6,1,2,6,1,10,1,6,4,7,20,1,2,2,2,1,3,6,2,1,2,1,12,1,1,4,4,10,6,2,12,1,48,4,1,6,1,10,12,4,3,6,1,24,10,24,20,9,12,4,2,25,2,1,72,24,5,2,16,3,12,5,24,2,24,1,1,1,12,6,3,2,48,2,2,3,6,12,1,300,6,2,12,1,2,1,4,9,24,12,2,1,12,1,12,12,1,1,2,2,5,1,9,19,12,1,8,24,12,2,4,12,12,1,2,24,12,12,3,24,3,6,12,2,1,8,2,4,2,2,2,6,6,1,1,2,10,24,8,8,20,12,12,6,100,1,1,4,48,7,1,8,2,20,10,1,5,2,20,2,2,4,2,2,1,3,24,2,4,2,6,3,4,12,1,2,24,48,3,6,3,2,12,6,2,12,24,6,24],\"xaxis\":\"x\",\"yaxis\":\"y\",\"type\":\"histogram\"},{\"alignmentgroup\":\"True\",\"hovertemplate\":\"variable=Quantity<br>value=%{x}<extra></extra>\",\"legendgroup\":\"Quantity\",\"marker\":{\"color\":\"#636efa\"},\"name\":\"Quantity\",\"notched\":true,\"offsetgroup\":\"Quantity\",\"showlegend\":false,\"x\":[1,2,4,9,12,7,1,12,1,2,12,504,20,12,1,200,24,12,1,24,3,1,2,1,6,6,3,2,1,3,2,10,2,24,4,2,4,12,60,2,12,2,1,40,3,1,10,8,1,6,12,3,3,1,2,12,2,5,12,24,12,1,1,2,24,4,1,4,1,5,12,12,2,2,3,12,1,1,15,24,24,2,6,12,4,12,48,48,24,2,2,6,8,12,4,6,6,3,2,1,1,12,8,12,5,3,4,1,2,48,2,1,12,2,1,8,20,12,8,4,144,5,5,8,2,8,3,8,1,1,16,10,100,12,2,2,3,4,6,9,288,20,6,1,12,2,2,24,12,12,2,3,4,12,6,12,4,1,288,10,1,1,20,24,10,12,2,8,6,4,12,8,10,10,100,400,6,1,24,30,8,1,3,3,5,4,2,12,36,24,2,1,3,15,4,6,2,2,10,1,1,24,6,12,2,6,10,2,6,5,1,3,2,2,4,1,1,2,6,1,2,1,12,1,6,1,12,5,4,1,12,1,12,12,24,1,1,1,4,2,2,12,1,2,3,20,10,4,144,3,24,1,1,48,4,1,48,1,3,10,6,1,2,1,1,1,48,12,1,4,4,2,12,12,12,6,3,1,2,6,8,200,2,1,1,6,3,2,4,12,2,3,2,12,1,100,2,6,1,4,1,12,12,12,2,2,2,3,1,9,2,2,12,12,5,2,4,4,12,12,12,12,96,1,1,1,4,24,12,10,1,8,4,30,5,2,2,1,8,12,12,2,6,2,12,2,1,4,6,3,6,6,2,6,1,12,8,4,2,6,100,2,2,2,1,12,2,12,24,1,4,4,12,12,144,12,6,16,24,6,4,2,36,12,6,30,12,3,12,10,1,2,1,1,1,4,6,8,24,24,12,1,12,1,3,6,12,24,4,1,64,1,6,12,8,10,4,3,2,12,3,12,1,1,10,12,1,1,1,2,2,3,4,3,1,12,2,4,2,2,12,2,4,1,4,36,1,4,4,8,4,8,10,4,6,4,12,2,24,6,1,36,2,1,10,24,1,2,8,6,4,1,1,1,12,2,3,3,1,12,288,48,2,6,2,10,2,2,3,20,3,1,1,16,4,24,12,2,1,10,6,1,20,30,12,4,12,2,6,1,1,1,3,12,4,12,60,6,18,1,1,25,2,12,12,1,24,3,6,10,2,1,10,6,1,16,12,12,24,2,2,24,1,25,3,15,3,6,12,24,3,10,8,120,12,6,6,2,24,2,1,12,2,24,1,1,2,2,8,12,1,8,1,3,4,48,141,1,12,24,12,10,10,12,12,12,2,2,36,6,6,1,3,2,8,2,16,100,12,6,1,52,1,4,12,9,1,10,10,4,6,8,12,4,1,20,10,4,10,3,10,12,40,4,16,8,2,1,2,3,3,1,2,1,1,3,8,2,2,6,12,1,1,32,3,1,2,10,6,3,2,1,12,64,3,1,20,2,6,3,2,8,10,144,1,2,12,60,1,1,1,12,4,4,6,1,12,100,1,3,13,3,1,1,1,12,12,2,12,1,24,12,12,1,3,7,12,2,2,2,48,1,2,2,48,25,25,1,1,1,32,8,36,1,12,4,6,4,8,10,12,6,18,4,1,12,2,12,24,16,12,12,4,5,2,12,6,6,2,24,12,24,2,6,2,3,3,10,6,1,6,1,2,2,12,10,3,3,3,6,1,1,6,3,3,2,12,24,20,12,2,4,48,10,24,12,10,24,25,2,10,24,3,100,2,10,24,3,24,16,20,2,2,4,100,5,4,12,2,36,6,2,12,12,2,1,1,1,4,36,25,6,1,2,6,1,10,1,6,4,7,20,1,2,2,2,1,3,6,2,1,2,1,12,1,1,4,4,10,6,2,12,1,48,4,1,6,1,10,12,4,3,6,1,24,10,24,20,9,12,4,2,25,2,1,72,24,5,2,16,3,12,5,24,2,24,1,1,1,12,6,3,2,48,2,2,3,6,12,1,300,6,2,12,1,2,1,4,9,24,12,2,1,12,1,12,12,1,1,2,2,5,1,9,19,12,1,8,24,12,2,4,12,12,1,2,24,12,12,3,24,3,6,12,2,1,8,2,4,2,2,2,6,6,1,1,2,10,24,8,8,20,12,12,6,100,1,1,4,48,7,1,8,2,20,10,1,5,2,20,2,2,4,2,2,1,3,24,2,4,2,6,3,4,12,1,2,24,48,3,6,3,2,12,6,2,12,24,6,24],\"xaxis\":\"x2\",\"yaxis\":\"y2\",\"type\":\"box\"}],                        {\"template\":{\"data\":{\"histogram2dcontour\":[{\"type\":\"histogram2dcontour\",\"colorbar\":{\"outlinewidth\":0,\"ticks\":\"\"},\"colorscale\":[[0.0,\"#0d0887\"],[0.1111111111111111,\"#46039f\"],[0.2222222222222222,\"#7201a8\"],[0.3333333333333333,\"#9c179e\"],[0.4444444444444444,\"#bd3786\"],[0.5555555555555556,\"#d8576b\"],[0.6666666666666666,\"#ed7953\"],[0.7777777777777778,\"#fb9f3a\"],[0.8888888888888888,\"#fdca26\"],[1.0,\"#f0f921\"]]}],\"choropleth\":[{\"type\":\"choropleth\",\"colorbar\":{\"outlinewidth\":0,\"ticks\":\"\"}}],\"histogram2d\":[{\"type\":\"histogram2d\",\"colorbar\":{\"outlinewidth\":0,\"ticks\":\"\"},\"colorscale\":[[0.0,\"#0d0887\"],[0.1111111111111111,\"#46039f\"],[0.2222222222222222,\"#7201a8\"],[0.3333333333333333,\"#9c179e\"],[0.4444444444444444,\"#bd3786\"],[0.5555555555555556,\"#d8576b\"],[0.6666666666666666,\"#ed7953\"],[0.7777777777777778,\"#fb9f3a\"],[0.8888888888888888,\"#fdca26\"],[1.0,\"#f0f921\"]]}],\"heatmap\":[{\"type\":\"heatmap\",\"colorbar\":{\"outlinewidth\":0,\"ticks\":\"\"},\"colorscale\":[[0.0,\"#0d0887\"],[0.1111111111111111,\"#46039f\"],[0.2222222222222222,\"#7201a8\"],[0.3333333333333333,\"#9c179e\"],[0.4444444444444444,\"#bd3786\"],[0.5555555555555556,\"#d8576b\"],[0.6666666666666666,\"#ed7953\"],[0.7777777777777778,\"#fb9f3a\"],[0.8888888888888888,\"#fdca26\"],[1.0,\"#f0f921\"]]}],\"heatmapgl\":[{\"type\":\"heatmapgl\",\"colorbar\":{\"outlinewidth\":0,\"ticks\":\"\"},\"colorscale\":[[0.0,\"#0d0887\"],[0.1111111111111111,\"#46039f\"],[0.2222222222222222,\"#7201a8\"],[0.3333333333333333,\"#9c179e\"],[0.4444444444444444,\"#bd3786\"],[0.5555555555555556,\"#d8576b\"],[0.6666666666666666,\"#ed7953\"],[0.7777777777777778,\"#fb9f3a\"],[0.8888888888888888,\"#fdca26\"],[1.0,\"#f0f921\"]]}],\"contourcarpet\":[{\"type\":\"contourcarpet\",\"colorbar\":{\"outlinewidth\":0,\"ticks\":\"\"}}],\"contour\":[{\"type\":\"contour\",\"colorbar\":{\"outlinewidth\":0,\"ticks\":\"\"},\"colorscale\":[[0.0,\"#0d0887\"],[0.1111111111111111,\"#46039f\"],[0.2222222222222222,\"#7201a8\"],[0.3333333333333333,\"#9c179e\"],[0.4444444444444444,\"#bd3786\"],[0.5555555555555556,\"#d8576b\"],[0.6666666666666666,\"#ed7953\"],[0.7777777777777778,\"#fb9f3a\"],[0.8888888888888888,\"#fdca26\"],[1.0,\"#f0f921\"]]}],\"surface\":[{\"type\":\"surface\",\"colorbar\":{\"outlinewidth\":0,\"ticks\":\"\"},\"colorscale\":[[0.0,\"#0d0887\"],[0.1111111111111111,\"#46039f\"],[0.2222222222222222,\"#7201a8\"],[0.3333333333333333,\"#9c179e\"],[0.4444444444444444,\"#bd3786\"],[0.5555555555555556,\"#d8576b\"],[0.6666666666666666,\"#ed7953\"],[0.7777777777777778,\"#fb9f3a\"],[0.8888888888888888,\"#fdca26\"],[1.0,\"#f0f921\"]]}],\"mesh3d\":[{\"type\":\"mesh3d\",\"colorbar\":{\"outlinewidth\":0,\"ticks\":\"\"}}],\"scatter\":[{\"fillpattern\":{\"fillmode\":\"overlay\",\"size\":10,\"solidity\":0.2},\"type\":\"scatter\"}],\"parcoords\":[{\"type\":\"parcoords\",\"line\":{\"colorbar\":{\"outlinewidth\":0,\"ticks\":\"\"}}}],\"scatterpolargl\":[{\"type\":\"scatterpolargl\",\"marker\":{\"colorbar\":{\"outlinewidth\":0,\"ticks\":\"\"}}}],\"bar\":[{\"error_x\":{\"color\":\"#2a3f5f\"},\"error_y\":{\"color\":\"#2a3f5f\"},\"marker\":{\"line\":{\"color\":\"#E5ECF6\",\"width\":0.5},\"pattern\":{\"fillmode\":\"overlay\",\"size\":10,\"solidity\":0.2}},\"type\":\"bar\"}],\"scattergeo\":[{\"type\":\"scattergeo\",\"marker\":{\"colorbar\":{\"outlinewidth\":0,\"ticks\":\"\"}}}],\"scatterpolar\":[{\"type\":\"scatterpolar\",\"marker\":{\"colorbar\":{\"outlinewidth\":0,\"ticks\":\"\"}}}],\"histogram\":[{\"marker\":{\"pattern\":{\"fillmode\":\"overlay\",\"size\":10,\"solidity\":0.2}},\"type\":\"histogram\"}],\"scattergl\":[{\"type\":\"scattergl\",\"marker\":{\"colorbar\":{\"outlinewidth\":0,\"ticks\":\"\"}}}],\"scatter3d\":[{\"type\":\"scatter3d\",\"line\":{\"colorbar\":{\"outlinewidth\":0,\"ticks\":\"\"}},\"marker\":{\"colorbar\":{\"outlinewidth\":0,\"ticks\":\"\"}}}],\"scattermapbox\":[{\"type\":\"scattermapbox\",\"marker\":{\"colorbar\":{\"outlinewidth\":0,\"ticks\":\"\"}}}],\"scatterternary\":[{\"type\":\"scatterternary\",\"marker\":{\"colorbar\":{\"outlinewidth\":0,\"ticks\":\"\"}}}],\"scattercarpet\":[{\"type\":\"scattercarpet\",\"marker\":{\"colorbar\":{\"outlinewidth\":0,\"ticks\":\"\"}}}],\"carpet\":[{\"aaxis\":{\"endlinecolor\":\"#2a3f5f\",\"gridcolor\":\"white\",\"linecolor\":\"white\",\"minorgridcolor\":\"white\",\"startlinecolor\":\"#2a3f5f\"},\"baxis\":{\"endlinecolor\":\"#2a3f5f\",\"gridcolor\":\"white\",\"linecolor\":\"white\",\"minorgridcolor\":\"white\",\"startlinecolor\":\"#2a3f5f\"},\"type\":\"carpet\"}],\"table\":[{\"cells\":{\"fill\":{\"color\":\"#EBF0F8\"},\"line\":{\"color\":\"white\"}},\"header\":{\"fill\":{\"color\":\"#C8D4E3\"},\"line\":{\"color\":\"white\"}},\"type\":\"table\"}],\"barpolar\":[{\"marker\":{\"line\":{\"color\":\"#E5ECF6\",\"width\":0.5},\"pattern\":{\"fillmode\":\"overlay\",\"size\":10,\"solidity\":0.2}},\"type\":\"barpolar\"}],\"pie\":[{\"automargin\":true,\"type\":\"pie\"}]},\"layout\":{\"autotypenumbers\":\"strict\",\"colorway\":[\"#636efa\",\"#EF553B\",\"#00cc96\",\"#ab63fa\",\"#FFA15A\",\"#19d3f3\",\"#FF6692\",\"#B6E880\",\"#FF97FF\",\"#FECB52\"],\"font\":{\"color\":\"#2a3f5f\"},\"hovermode\":\"closest\",\"hoverlabel\":{\"align\":\"left\"},\"paper_bgcolor\":\"white\",\"plot_bgcolor\":\"#E5ECF6\",\"polar\":{\"bgcolor\":\"#E5ECF6\",\"angularaxis\":{\"gridcolor\":\"white\",\"linecolor\":\"white\",\"ticks\":\"\"},\"radialaxis\":{\"gridcolor\":\"white\",\"linecolor\":\"white\",\"ticks\":\"\"}},\"ternary\":{\"bgcolor\":\"#E5ECF6\",\"aaxis\":{\"gridcolor\":\"white\",\"linecolor\":\"white\",\"ticks\":\"\"},\"baxis\":{\"gridcolor\":\"white\",\"linecolor\":\"white\",\"ticks\":\"\"},\"caxis\":{\"gridcolor\":\"white\",\"linecolor\":\"white\",\"ticks\":\"\"}},\"coloraxis\":{\"colorbar\":{\"outlinewidth\":0,\"ticks\":\"\"}},\"colorscale\":{\"sequential\":[[0.0,\"#0d0887\"],[0.1111111111111111,\"#46039f\"],[0.2222222222222222,\"#7201a8\"],[0.3333333333333333,\"#9c179e\"],[0.4444444444444444,\"#bd3786\"],[0.5555555555555556,\"#d8576b\"],[0.6666666666666666,\"#ed7953\"],[0.7777777777777778,\"#fb9f3a\"],[0.8888888888888888,\"#fdca26\"],[1.0,\"#f0f921\"]],\"sequentialminus\":[[0.0,\"#0d0887\"],[0.1111111111111111,\"#46039f\"],[0.2222222222222222,\"#7201a8\"],[0.3333333333333333,\"#9c179e\"],[0.4444444444444444,\"#bd3786\"],[0.5555555555555556,\"#d8576b\"],[0.6666666666666666,\"#ed7953\"],[0.7777777777777778,\"#fb9f3a\"],[0.8888888888888888,\"#fdca26\"],[1.0,\"#f0f921\"]],\"diverging\":[[0,\"#8e0152\"],[0.1,\"#c51b7d\"],[0.2,\"#de77ae\"],[0.3,\"#f1b6da\"],[0.4,\"#fde0ef\"],[0.5,\"#f7f7f7\"],[0.6,\"#e6f5d0\"],[0.7,\"#b8e186\"],[0.8,\"#7fbc41\"],[0.9,\"#4d9221\"],[1,\"#276419\"]]},\"xaxis\":{\"gridcolor\":\"white\",\"linecolor\":\"white\",\"ticks\":\"\",\"title\":{\"standoff\":15},\"zerolinecolor\":\"white\",\"automargin\":true,\"zerolinewidth\":2},\"yaxis\":{\"gridcolor\":\"white\",\"linecolor\":\"white\",\"ticks\":\"\",\"title\":{\"standoff\":15},\"zerolinecolor\":\"white\",\"automargin\":true,\"zerolinewidth\":2},\"scene\":{\"xaxis\":{\"backgroundcolor\":\"#E5ECF6\",\"gridcolor\":\"white\",\"linecolor\":\"white\",\"showbackground\":true,\"ticks\":\"\",\"zerolinecolor\":\"white\",\"gridwidth\":2},\"yaxis\":{\"backgroundcolor\":\"#E5ECF6\",\"gridcolor\":\"white\",\"linecolor\":\"white\",\"showbackground\":true,\"ticks\":\"\",\"zerolinecolor\":\"white\",\"gridwidth\":2},\"zaxis\":{\"backgroundcolor\":\"#E5ECF6\",\"gridcolor\":\"white\",\"linecolor\":\"white\",\"showbackground\":true,\"ticks\":\"\",\"zerolinecolor\":\"white\",\"gridwidth\":2}},\"shapedefaults\":{\"line\":{\"color\":\"#2a3f5f\"}},\"annotationdefaults\":{\"arrowcolor\":\"#2a3f5f\",\"arrowhead\":0,\"arrowwidth\":1},\"geo\":{\"bgcolor\":\"white\",\"landcolor\":\"#E5ECF6\",\"subunitcolor\":\"white\",\"showland\":true,\"showlakes\":true,\"lakecolor\":\"white\"},\"title\":{\"x\":0.05},\"mapbox\":{\"style\":\"light\"}}},\"xaxis\":{\"anchor\":\"y\",\"domain\":[0.0,1.0],\"title\":{\"text\":\"value\"}},\"yaxis\":{\"anchor\":\"x\",\"domain\":[0.0,0.7326],\"title\":{\"text\":\"count\"}},\"xaxis2\":{\"anchor\":\"y2\",\"domain\":[0.0,1.0],\"matches\":\"x\",\"showticklabels\":false,\"showgrid\":true},\"yaxis2\":{\"anchor\":\"x2\",\"domain\":[0.7426,1.0],\"matches\":\"y2\",\"showticklabels\":false,\"showline\":false,\"ticks\":\"\",\"showgrid\":false},\"legend\":{\"title\":{\"text\":\"variable\"},\"tracegroupgap\":0},\"title\":{\"text\":\"Quantity - With Outliers\"},\"barmode\":\"relative\"},                        {\"responsive\": true}                    ).then(function(){\n",
              "                            \n",
              "var gd = document.getElementById('52424f01-6bf2-4b3a-a9f9-3da959b70dd1');\n",
              "var x = new MutationObserver(function (mutations, observer) {{\n",
              "        var display = window.getComputedStyle(gd).display;\n",
              "        if (!display || display === 'none') {{\n",
              "            console.log([gd, 'removed!']);\n",
              "            Plotly.purge(gd);\n",
              "            observer.disconnect();\n",
              "        }}\n",
              "}});\n",
              "\n",
              "// Listen for the removal of the full notebook cells\n",
              "var notebookContainer = gd.closest('#notebook-container');\n",
              "if (notebookContainer) {{\n",
              "    x.observe(notebookContainer, {childList: true});\n",
              "}}\n",
              "\n",
              "// Listen for the clearing of the current output cell\n",
              "var outputEl = gd.closest('.output');\n",
              "if (outputEl) {{\n",
              "    x.observe(outputEl, {childList: true});\n",
              "}}\n",
              "\n",
              "                        })                };                            </script>        </div>\n",
              "</body>\n",
              "</html>"
            ]
          },
          "metadata": {}
        },
        {
          "output_type": "display_data",
          "data": {
            "text/html": [
              "<html>\n",
              "<head><meta charset=\"utf-8\" /></head>\n",
              "<body>\n",
              "    <div>            <script src=\"https://cdnjs.cloudflare.com/ajax/libs/mathjax/2.7.5/MathJax.js?config=TeX-AMS-MML_SVG\"></script><script type=\"text/javascript\">if (window.MathJax && window.MathJax.Hub && window.MathJax.Hub.Config) {window.MathJax.Hub.Config({SVG: {font: \"STIX-Web\"}});}</script>                <script type=\"text/javascript\">window.PlotlyConfig = {MathJaxConfig: 'local'};</script>\n",
              "        <script src=\"https://cdn.plot.ly/plotly-2.14.0.min.js\"></script>                <div id=\"c8e597ef-5842-4163-8472-877c75f5217a\" class=\"plotly-graph-div\" style=\"height:525px; width:100%;\"></div>            <script type=\"text/javascript\">                                    window.PLOTLYENV=window.PLOTLYENV || {};                                    if (document.getElementById(\"c8e597ef-5842-4163-8472-877c75f5217a\")) {                    Plotly.newPlot(                        \"c8e597ef-5842-4163-8472-877c75f5217a\",                        [{\"alignmentgroup\":\"True\",\"bingroup\":\"x\",\"hovertemplate\":\"variable=Quantity<br>value=%{x}<br>count=%{y}<extra></extra>\",\"legendgroup\":\"Quantity\",\"marker\":{\"color\":\"#636efa\",\"pattern\":{\"shape\":\"\"}},\"name\":\"Quantity\",\"offsetgroup\":\"Quantity\",\"orientation\":\"v\",\"showlegend\":true,\"x\":[1,2,4,9,12,7,1,12,1,2,12,20,12,1,24,12,1,24,3,1,2,1,6,6,3,2,1,3,2,10,2,24,4,2,4,12,60,2,12,2,1,40,3,1,10,8,1,6,12,3,3,1,2,12,2,5,12,24,12,1,1,2,24,4,1,4,1,5,12,12,2,2,3,12,1,1,15,24,24,2,6,12,4,12,48,48,24,2,2,6,8,12,4,6,6,3,2,1,1,12,8,12,5,3,4,1,2,48,2,1,12,2,1,8,20,12,8,4,5,5,8,2,8,3,8,1,1,16,10,100,12,2,2,3,4,6,9,20,6,1,12,2,2,24,12,12,2,3,4,12,6,12,4,1,10,1,1,20,24,10,12,2,8,6,4,12,8,10,10,100,6,1,24,30,8,1,3,3,5,4,2,12,36,24,2,1,3,15,4,6,2,2,10,1,1,24,6,12,2,6,10,2,6,5,1,3,2,2,4,1,1,2,6,1,2,1,12,1,6,1,12,5,4,1,12,1,12,12,24,1,1,1,4,2,2,12,1,2,3,20,10,4,3,24,1,1,48,4,1,48,1,3,10,6,1,2,1,1,1,48,12,1,4,4,2,12,12,12,6,3,1,2,6,8,2,1,1,6,3,2,4,12,2,3,2,12,1,100,2,6,1,4,1,12,12,12,2,2,2,3,1,9,2,2,12,12,5,2,4,4,12,12,12,12,96,1,1,1,4,24,12,10,1,8,4,30,5,2,2,1,8,12,12,2,6,2,12,2,1,4,6,3,6,6,2,6,1,12,8,4,2,6,100,2,2,2,1,12,2,12,24,1,4,4,12,12,12,6,16,24,6,4,2,36,12,6,30,12,3,12,10,1,2,1,1,1,4,6,8,24,24,12,1,12,1,3,6,12,24,4,1,64,1,6,12,8,10,4,3,2,12,3,12,1,1,10,12,1,1,1,2,2,3,4,3,1,12,2,4,2,2,12,2,4,1,4,36,1,4,4,8,4,8,10,4,6,4,12,2,24,6,1,36,2,1,10,24,1,2,8,6,4,1,1,1,12,2,3,3,1,12,48,2,6,2,10,2,2,3,20,3,1,1,16,4,24,12,2,1,10,6,1,20,30,12,4,12,2,6,1,1,1,3,12,4,12,60,6,18,1,1,25,2,12,12,1,24,3,6,10,2,1,10,6,1,16,12,12,24,2,2,24,1,25,3,15,3,6,12,24,3,10,8,12,6,6,2,24,2,1,12,2,24,1,1,2,2,8,12,1,8,1,3,4,48,1,12,24,12,10,10,12,12,12,2,2,36,6,6,1,3,2,8,2,16,100,12,6,1,52,1,4,12,9,1,10,10,4,6,8,12,4,1,20,10,4,10,3,10,12,40,4,16,8,2,1,2,3,3,1,2,1,1,3,8,2,2,6,12,1,1,32,3,1,2,10,6,3,2,1,12,64,3,1,20,2,6,3,2,8,10,1,2,12,60,1,1,1,12,4,4,6,1,12,100,1,3,13,3,1,1,1,12,12,2,12,1,24,12,12,1,3,7,12,2,2,2,48,1,2,2,48,25,25,1,1,1,32,8,36,1,12,4,6,4,8,10,12,6,18,4,1,12,2,12,24,16,12,12,4,5,2,12,6,6,2,24,12,24,2,6,2,3,3,10,6,1,6,1,2,2,12,10,3,3,3,6,1,1,6,3,3,2,12,24,20,12,2,4,48,10,24,12,10,24,25,2,10,24,3,100,2,10,24,3,24,16,20,2,2,4,100,5,4,12,2,36,6,2,12,12,2,1,1,1,4,36,25,6,1,2,6,1,10,1,6,4,7,20,1,2,2,2,1,3,6,2,1,2,1,12,1,1,4,4,10,6,2,12,1,48,4,1,6,1,10,12,4,3,6,1,24,10,24,20,9,12,4,2,25,2,1,72,24,5,2,16,3,12,5,24,2,24,1,1,1,12,6,3,2,48,2,2,3,6,12,1,6,2,12,1,2,1,4,9,24,12,2,1,12,1,12,12,1,1,2,2,5,1,9,19,12,1,8,24,12,2,4,12,12,1,2,24,12,12,3,24,3,6,12,2,1,8,2,4,2,2,2,6,6,1,1,2,10,24,8,8,20,12,12,6,100,1,1,4,48,7,1,8,2,20,10,1,5,2,20,2,2,4,2,2,1,3,24,2,4,2,6,3,4,12,1,2,24,48,3,6,3,2,12,6,2,12,24,6,24],\"xaxis\":\"x\",\"yaxis\":\"y\",\"type\":\"histogram\"},{\"alignmentgroup\":\"True\",\"hovertemplate\":\"variable=Quantity<br>value=%{x}<extra></extra>\",\"legendgroup\":\"Quantity\",\"marker\":{\"color\":\"#636efa\"},\"name\":\"Quantity\",\"notched\":true,\"offsetgroup\":\"Quantity\",\"showlegend\":false,\"x\":[1,2,4,9,12,7,1,12,1,2,12,20,12,1,24,12,1,24,3,1,2,1,6,6,3,2,1,3,2,10,2,24,4,2,4,12,60,2,12,2,1,40,3,1,10,8,1,6,12,3,3,1,2,12,2,5,12,24,12,1,1,2,24,4,1,4,1,5,12,12,2,2,3,12,1,1,15,24,24,2,6,12,4,12,48,48,24,2,2,6,8,12,4,6,6,3,2,1,1,12,8,12,5,3,4,1,2,48,2,1,12,2,1,8,20,12,8,4,5,5,8,2,8,3,8,1,1,16,10,100,12,2,2,3,4,6,9,20,6,1,12,2,2,24,12,12,2,3,4,12,6,12,4,1,10,1,1,20,24,10,12,2,8,6,4,12,8,10,10,100,6,1,24,30,8,1,3,3,5,4,2,12,36,24,2,1,3,15,4,6,2,2,10,1,1,24,6,12,2,6,10,2,6,5,1,3,2,2,4,1,1,2,6,1,2,1,12,1,6,1,12,5,4,1,12,1,12,12,24,1,1,1,4,2,2,12,1,2,3,20,10,4,3,24,1,1,48,4,1,48,1,3,10,6,1,2,1,1,1,48,12,1,4,4,2,12,12,12,6,3,1,2,6,8,2,1,1,6,3,2,4,12,2,3,2,12,1,100,2,6,1,4,1,12,12,12,2,2,2,3,1,9,2,2,12,12,5,2,4,4,12,12,12,12,96,1,1,1,4,24,12,10,1,8,4,30,5,2,2,1,8,12,12,2,6,2,12,2,1,4,6,3,6,6,2,6,1,12,8,4,2,6,100,2,2,2,1,12,2,12,24,1,4,4,12,12,12,6,16,24,6,4,2,36,12,6,30,12,3,12,10,1,2,1,1,1,4,6,8,24,24,12,1,12,1,3,6,12,24,4,1,64,1,6,12,8,10,4,3,2,12,3,12,1,1,10,12,1,1,1,2,2,3,4,3,1,12,2,4,2,2,12,2,4,1,4,36,1,4,4,8,4,8,10,4,6,4,12,2,24,6,1,36,2,1,10,24,1,2,8,6,4,1,1,1,12,2,3,3,1,12,48,2,6,2,10,2,2,3,20,3,1,1,16,4,24,12,2,1,10,6,1,20,30,12,4,12,2,6,1,1,1,3,12,4,12,60,6,18,1,1,25,2,12,12,1,24,3,6,10,2,1,10,6,1,16,12,12,24,2,2,24,1,25,3,15,3,6,12,24,3,10,8,12,6,6,2,24,2,1,12,2,24,1,1,2,2,8,12,1,8,1,3,4,48,1,12,24,12,10,10,12,12,12,2,2,36,6,6,1,3,2,8,2,16,100,12,6,1,52,1,4,12,9,1,10,10,4,6,8,12,4,1,20,10,4,10,3,10,12,40,4,16,8,2,1,2,3,3,1,2,1,1,3,8,2,2,6,12,1,1,32,3,1,2,10,6,3,2,1,12,64,3,1,20,2,6,3,2,8,10,1,2,12,60,1,1,1,12,4,4,6,1,12,100,1,3,13,3,1,1,1,12,12,2,12,1,24,12,12,1,3,7,12,2,2,2,48,1,2,2,48,25,25,1,1,1,32,8,36,1,12,4,6,4,8,10,12,6,18,4,1,12,2,12,24,16,12,12,4,5,2,12,6,6,2,24,12,24,2,6,2,3,3,10,6,1,6,1,2,2,12,10,3,3,3,6,1,1,6,3,3,2,12,24,20,12,2,4,48,10,24,12,10,24,25,2,10,24,3,100,2,10,24,3,24,16,20,2,2,4,100,5,4,12,2,36,6,2,12,12,2,1,1,1,4,36,25,6,1,2,6,1,10,1,6,4,7,20,1,2,2,2,1,3,6,2,1,2,1,12,1,1,4,4,10,6,2,12,1,48,4,1,6,1,10,12,4,3,6,1,24,10,24,20,9,12,4,2,25,2,1,72,24,5,2,16,3,12,5,24,2,24,1,1,1,12,6,3,2,48,2,2,3,6,12,1,6,2,12,1,2,1,4,9,24,12,2,1,12,1,12,12,1,1,2,2,5,1,9,19,12,1,8,24,12,2,4,12,12,1,2,24,12,12,3,24,3,6,12,2,1,8,2,4,2,2,2,6,6,1,1,2,10,24,8,8,20,12,12,6,100,1,1,4,48,7,1,8,2,20,10,1,5,2,20,2,2,4,2,2,1,3,24,2,4,2,6,3,4,12,1,2,24,48,3,6,3,2,12,6,2,12,24,6,24],\"xaxis\":\"x2\",\"yaxis\":\"y2\",\"type\":\"box\"}],                        {\"template\":{\"data\":{\"histogram2dcontour\":[{\"type\":\"histogram2dcontour\",\"colorbar\":{\"outlinewidth\":0,\"ticks\":\"\"},\"colorscale\":[[0.0,\"#0d0887\"],[0.1111111111111111,\"#46039f\"],[0.2222222222222222,\"#7201a8\"],[0.3333333333333333,\"#9c179e\"],[0.4444444444444444,\"#bd3786\"],[0.5555555555555556,\"#d8576b\"],[0.6666666666666666,\"#ed7953\"],[0.7777777777777778,\"#fb9f3a\"],[0.8888888888888888,\"#fdca26\"],[1.0,\"#f0f921\"]]}],\"choropleth\":[{\"type\":\"choropleth\",\"colorbar\":{\"outlinewidth\":0,\"ticks\":\"\"}}],\"histogram2d\":[{\"type\":\"histogram2d\",\"colorbar\":{\"outlinewidth\":0,\"ticks\":\"\"},\"colorscale\":[[0.0,\"#0d0887\"],[0.1111111111111111,\"#46039f\"],[0.2222222222222222,\"#7201a8\"],[0.3333333333333333,\"#9c179e\"],[0.4444444444444444,\"#bd3786\"],[0.5555555555555556,\"#d8576b\"],[0.6666666666666666,\"#ed7953\"],[0.7777777777777778,\"#fb9f3a\"],[0.8888888888888888,\"#fdca26\"],[1.0,\"#f0f921\"]]}],\"heatmap\":[{\"type\":\"heatmap\",\"colorbar\":{\"outlinewidth\":0,\"ticks\":\"\"},\"colorscale\":[[0.0,\"#0d0887\"],[0.1111111111111111,\"#46039f\"],[0.2222222222222222,\"#7201a8\"],[0.3333333333333333,\"#9c179e\"],[0.4444444444444444,\"#bd3786\"],[0.5555555555555556,\"#d8576b\"],[0.6666666666666666,\"#ed7953\"],[0.7777777777777778,\"#fb9f3a\"],[0.8888888888888888,\"#fdca26\"],[1.0,\"#f0f921\"]]}],\"heatmapgl\":[{\"type\":\"heatmapgl\",\"colorbar\":{\"outlinewidth\":0,\"ticks\":\"\"},\"colorscale\":[[0.0,\"#0d0887\"],[0.1111111111111111,\"#46039f\"],[0.2222222222222222,\"#7201a8\"],[0.3333333333333333,\"#9c179e\"],[0.4444444444444444,\"#bd3786\"],[0.5555555555555556,\"#d8576b\"],[0.6666666666666666,\"#ed7953\"],[0.7777777777777778,\"#fb9f3a\"],[0.8888888888888888,\"#fdca26\"],[1.0,\"#f0f921\"]]}],\"contourcarpet\":[{\"type\":\"contourcarpet\",\"colorbar\":{\"outlinewidth\":0,\"ticks\":\"\"}}],\"contour\":[{\"type\":\"contour\",\"colorbar\":{\"outlinewidth\":0,\"ticks\":\"\"},\"colorscale\":[[0.0,\"#0d0887\"],[0.1111111111111111,\"#46039f\"],[0.2222222222222222,\"#7201a8\"],[0.3333333333333333,\"#9c179e\"],[0.4444444444444444,\"#bd3786\"],[0.5555555555555556,\"#d8576b\"],[0.6666666666666666,\"#ed7953\"],[0.7777777777777778,\"#fb9f3a\"],[0.8888888888888888,\"#fdca26\"],[1.0,\"#f0f921\"]]}],\"surface\":[{\"type\":\"surface\",\"colorbar\":{\"outlinewidth\":0,\"ticks\":\"\"},\"colorscale\":[[0.0,\"#0d0887\"],[0.1111111111111111,\"#46039f\"],[0.2222222222222222,\"#7201a8\"],[0.3333333333333333,\"#9c179e\"],[0.4444444444444444,\"#bd3786\"],[0.5555555555555556,\"#d8576b\"],[0.6666666666666666,\"#ed7953\"],[0.7777777777777778,\"#fb9f3a\"],[0.8888888888888888,\"#fdca26\"],[1.0,\"#f0f921\"]]}],\"mesh3d\":[{\"type\":\"mesh3d\",\"colorbar\":{\"outlinewidth\":0,\"ticks\":\"\"}}],\"scatter\":[{\"fillpattern\":{\"fillmode\":\"overlay\",\"size\":10,\"solidity\":0.2},\"type\":\"scatter\"}],\"parcoords\":[{\"type\":\"parcoords\",\"line\":{\"colorbar\":{\"outlinewidth\":0,\"ticks\":\"\"}}}],\"scatterpolargl\":[{\"type\":\"scatterpolargl\",\"marker\":{\"colorbar\":{\"outlinewidth\":0,\"ticks\":\"\"}}}],\"bar\":[{\"error_x\":{\"color\":\"#2a3f5f\"},\"error_y\":{\"color\":\"#2a3f5f\"},\"marker\":{\"line\":{\"color\":\"#E5ECF6\",\"width\":0.5},\"pattern\":{\"fillmode\":\"overlay\",\"size\":10,\"solidity\":0.2}},\"type\":\"bar\"}],\"scattergeo\":[{\"type\":\"scattergeo\",\"marker\":{\"colorbar\":{\"outlinewidth\":0,\"ticks\":\"\"}}}],\"scatterpolar\":[{\"type\":\"scatterpolar\",\"marker\":{\"colorbar\":{\"outlinewidth\":0,\"ticks\":\"\"}}}],\"histogram\":[{\"marker\":{\"pattern\":{\"fillmode\":\"overlay\",\"size\":10,\"solidity\":0.2}},\"type\":\"histogram\"}],\"scattergl\":[{\"type\":\"scattergl\",\"marker\":{\"colorbar\":{\"outlinewidth\":0,\"ticks\":\"\"}}}],\"scatter3d\":[{\"type\":\"scatter3d\",\"line\":{\"colorbar\":{\"outlinewidth\":0,\"ticks\":\"\"}},\"marker\":{\"colorbar\":{\"outlinewidth\":0,\"ticks\":\"\"}}}],\"scattermapbox\":[{\"type\":\"scattermapbox\",\"marker\":{\"colorbar\":{\"outlinewidth\":0,\"ticks\":\"\"}}}],\"scatterternary\":[{\"type\":\"scatterternary\",\"marker\":{\"colorbar\":{\"outlinewidth\":0,\"ticks\":\"\"}}}],\"scattercarpet\":[{\"type\":\"scattercarpet\",\"marker\":{\"colorbar\":{\"outlinewidth\":0,\"ticks\":\"\"}}}],\"carpet\":[{\"aaxis\":{\"endlinecolor\":\"#2a3f5f\",\"gridcolor\":\"white\",\"linecolor\":\"white\",\"minorgridcolor\":\"white\",\"startlinecolor\":\"#2a3f5f\"},\"baxis\":{\"endlinecolor\":\"#2a3f5f\",\"gridcolor\":\"white\",\"linecolor\":\"white\",\"minorgridcolor\":\"white\",\"startlinecolor\":\"#2a3f5f\"},\"type\":\"carpet\"}],\"table\":[{\"cells\":{\"fill\":{\"color\":\"#EBF0F8\"},\"line\":{\"color\":\"white\"}},\"header\":{\"fill\":{\"color\":\"#C8D4E3\"},\"line\":{\"color\":\"white\"}},\"type\":\"table\"}],\"barpolar\":[{\"marker\":{\"line\":{\"color\":\"#E5ECF6\",\"width\":0.5},\"pattern\":{\"fillmode\":\"overlay\",\"size\":10,\"solidity\":0.2}},\"type\":\"barpolar\"}],\"pie\":[{\"automargin\":true,\"type\":\"pie\"}]},\"layout\":{\"autotypenumbers\":\"strict\",\"colorway\":[\"#636efa\",\"#EF553B\",\"#00cc96\",\"#ab63fa\",\"#FFA15A\",\"#19d3f3\",\"#FF6692\",\"#B6E880\",\"#FF97FF\",\"#FECB52\"],\"font\":{\"color\":\"#2a3f5f\"},\"hovermode\":\"closest\",\"hoverlabel\":{\"align\":\"left\"},\"paper_bgcolor\":\"white\",\"plot_bgcolor\":\"#E5ECF6\",\"polar\":{\"bgcolor\":\"#E5ECF6\",\"angularaxis\":{\"gridcolor\":\"white\",\"linecolor\":\"white\",\"ticks\":\"\"},\"radialaxis\":{\"gridcolor\":\"white\",\"linecolor\":\"white\",\"ticks\":\"\"}},\"ternary\":{\"bgcolor\":\"#E5ECF6\",\"aaxis\":{\"gridcolor\":\"white\",\"linecolor\":\"white\",\"ticks\":\"\"},\"baxis\":{\"gridcolor\":\"white\",\"linecolor\":\"white\",\"ticks\":\"\"},\"caxis\":{\"gridcolor\":\"white\",\"linecolor\":\"white\",\"ticks\":\"\"}},\"coloraxis\":{\"colorbar\":{\"outlinewidth\":0,\"ticks\":\"\"}},\"colorscale\":{\"sequential\":[[0.0,\"#0d0887\"],[0.1111111111111111,\"#46039f\"],[0.2222222222222222,\"#7201a8\"],[0.3333333333333333,\"#9c179e\"],[0.4444444444444444,\"#bd3786\"],[0.5555555555555556,\"#d8576b\"],[0.6666666666666666,\"#ed7953\"],[0.7777777777777778,\"#fb9f3a\"],[0.8888888888888888,\"#fdca26\"],[1.0,\"#f0f921\"]],\"sequentialminus\":[[0.0,\"#0d0887\"],[0.1111111111111111,\"#46039f\"],[0.2222222222222222,\"#7201a8\"],[0.3333333333333333,\"#9c179e\"],[0.4444444444444444,\"#bd3786\"],[0.5555555555555556,\"#d8576b\"],[0.6666666666666666,\"#ed7953\"],[0.7777777777777778,\"#fb9f3a\"],[0.8888888888888888,\"#fdca26\"],[1.0,\"#f0f921\"]],\"diverging\":[[0,\"#8e0152\"],[0.1,\"#c51b7d\"],[0.2,\"#de77ae\"],[0.3,\"#f1b6da\"],[0.4,\"#fde0ef\"],[0.5,\"#f7f7f7\"],[0.6,\"#e6f5d0\"],[0.7,\"#b8e186\"],[0.8,\"#7fbc41\"],[0.9,\"#4d9221\"],[1,\"#276419\"]]},\"xaxis\":{\"gridcolor\":\"white\",\"linecolor\":\"white\",\"ticks\":\"\",\"title\":{\"standoff\":15},\"zerolinecolor\":\"white\",\"automargin\":true,\"zerolinewidth\":2},\"yaxis\":{\"gridcolor\":\"white\",\"linecolor\":\"white\",\"ticks\":\"\",\"title\":{\"standoff\":15},\"zerolinecolor\":\"white\",\"automargin\":true,\"zerolinewidth\":2},\"scene\":{\"xaxis\":{\"backgroundcolor\":\"#E5ECF6\",\"gridcolor\":\"white\",\"linecolor\":\"white\",\"showbackground\":true,\"ticks\":\"\",\"zerolinecolor\":\"white\",\"gridwidth\":2},\"yaxis\":{\"backgroundcolor\":\"#E5ECF6\",\"gridcolor\":\"white\",\"linecolor\":\"white\",\"showbackground\":true,\"ticks\":\"\",\"zerolinecolor\":\"white\",\"gridwidth\":2},\"zaxis\":{\"backgroundcolor\":\"#E5ECF6\",\"gridcolor\":\"white\",\"linecolor\":\"white\",\"showbackground\":true,\"ticks\":\"\",\"zerolinecolor\":\"white\",\"gridwidth\":2}},\"shapedefaults\":{\"line\":{\"color\":\"#2a3f5f\"}},\"annotationdefaults\":{\"arrowcolor\":\"#2a3f5f\",\"arrowhead\":0,\"arrowwidth\":1},\"geo\":{\"bgcolor\":\"white\",\"landcolor\":\"#E5ECF6\",\"subunitcolor\":\"white\",\"showland\":true,\"showlakes\":true,\"lakecolor\":\"white\"},\"title\":{\"x\":0.05},\"mapbox\":{\"style\":\"light\"}}},\"xaxis\":{\"anchor\":\"y\",\"domain\":[0.0,1.0],\"title\":{\"text\":\"value\"}},\"yaxis\":{\"anchor\":\"x\",\"domain\":[0.0,0.7326],\"title\":{\"text\":\"count\"}},\"xaxis2\":{\"anchor\":\"y2\",\"domain\":[0.0,1.0],\"matches\":\"x\",\"showticklabels\":false,\"showgrid\":true},\"yaxis2\":{\"anchor\":\"x2\",\"domain\":[0.7426,1.0],\"matches\":\"y2\",\"showticklabels\":false,\"showline\":false,\"ticks\":\"\",\"showgrid\":false},\"legend\":{\"title\":{\"text\":\"variable\"},\"tracegroupgap\":0},\"title\":{\"text\":\"Quantity - Without Outliers\"},\"barmode\":\"relative\"},                        {\"responsive\": true}                    ).then(function(){\n",
              "                            \n",
              "var gd = document.getElementById('c8e597ef-5842-4163-8472-877c75f5217a');\n",
              "var x = new MutationObserver(function (mutations, observer) {{\n",
              "        var display = window.getComputedStyle(gd).display;\n",
              "        if (!display || display === 'none') {{\n",
              "            console.log([gd, 'removed!']);\n",
              "            Plotly.purge(gd);\n",
              "            observer.disconnect();\n",
              "        }}\n",
              "}});\n",
              "\n",
              "// Listen for the removal of the full notebook cells\n",
              "var notebookContainer = gd.closest('#notebook-container');\n",
              "if (notebookContainer) {{\n",
              "    x.observe(notebookContainer, {childList: true});\n",
              "}}\n",
              "\n",
              "// Listen for the clearing of the current output cell\n",
              "var outputEl = gd.closest('.output');\n",
              "if (outputEl) {{\n",
              "    x.observe(outputEl, {childList: true});\n",
              "}}\n",
              "\n",
              "                        })                };                            </script>        </div>\n",
              "</body>\n",
              "</html>"
            ]
          },
          "metadata": {}
        }
      ]
    },
    {
      "cell_type": "code",
      "source": [
        "profile_serie(cleaned['Customer ID']) "
      ],
      "metadata": {
        "id": "HuN08mEERfjx",
        "outputId": "d360f80a-7d37-4fb8-b13c-27434ddf3189",
        "colab": {
          "base_uri": "https://localhost:8080/",
          "height": 808
        }
      },
      "execution_count": 13,
      "outputs": [
        {
          "output_type": "display_data",
          "data": {
            "text/plain": [
              "<IPython.core.display.Markdown object>"
            ],
            "text/markdown": "## Customer ID Profile"
          },
          "metadata": {}
        },
        {
          "output_type": "display_data",
          "data": {
            "text/plain": [
              "Type                           category\n",
              "Number of observations         400916.0\n",
              "Unique                           4312.0\n",
              "Top                             14911.0\n",
              "Freq                             5568.0\n",
              "                                       \n",
              "Missing cells                         0\n",
              "Missing cells (%)                 0.0 %\n",
              "Duplicate rows                   400825\n",
              "Duplicate rows (%)              99.98 %\n",
              "Total size in memory      4176360 bytes\n",
              "dtype: object"
            ]
          },
          "metadata": {}
        },
        {
          "output_type": "display_data",
          "data": {
            "text/html": [
              "<html>\n",
              "<head><meta charset=\"utf-8\" /></head>\n",
              "<body>\n",
              "    <div>            <script src=\"https://cdnjs.cloudflare.com/ajax/libs/mathjax/2.7.5/MathJax.js?config=TeX-AMS-MML_SVG\"></script><script type=\"text/javascript\">if (window.MathJax && window.MathJax.Hub && window.MathJax.Hub.Config) {window.MathJax.Hub.Config({SVG: {font: \"STIX-Web\"}});}</script>                <script type=\"text/javascript\">window.PlotlyConfig = {MathJaxConfig: 'local'};</script>\n",
              "        <script src=\"https://cdn.plot.ly/plotly-2.14.0.min.js\"></script>                <div id=\"b95ccd95-549f-4340-8669-4cec9511d87f\" class=\"plotly-graph-div\" style=\"height:525px; width:100%;\"></div>            <script type=\"text/javascript\">                                    window.PLOTLYENV=window.PLOTLYENV || {};                                    if (document.getElementById(\"b95ccd95-549f-4340-8669-4cec9511d87f\")) {                    Plotly.newPlot(                        \"b95ccd95-549f-4340-8669-4cec9511d87f\",                        [{\"alignmentgroup\":\"True\",\"hovertemplate\":\"x=%{x}<br>y=%{y}<extra></extra>\",\"legendgroup\":\"\",\"marker\":{\"color\":\"#636efa\",\"pattern\":{\"shape\":\"\"}},\"name\":\"\",\"offsetgroup\":\"\",\"orientation\":\"v\",\"showlegend\":false,\"textposition\":\"auto\",\"x\":[\"14911.0\",\"17841.0\",\"14606.0\",\"14156.0\",\"12748.0\",\"17850.0\",\"16549.0\",\"15311.0\",\"14646.0\",\"14527.0\",\"16782.0\",\"13089.0\",\"17377.0\",\"13081.0\",\"15005.0\",\"15039.0\",\"14298.0\",\"15768.0\",\"13564.0\",\"17448.0\",\"17920.0\",\"17589.0\",\"14680.0\",\"13694.0\",\"17511.0\",\"15998.0\",\"13093.0\",\"15719.0\",\"12681.0\",\"12921.0\",\"17085.0\",\"13174.0\",\"14505.0\",\"14667.0\",\"15555.0\",\"14081.0\",\"17068.0\",\"16779.0\",\"16713.0\",\"13137.0\",\"17243.0\",\"16161.0\",\"13001.0\",\"13230.0\",\"12471.0\",\"16984.0\",\"17231.0\",\"14159.0\",\"13069.0\",\"14415.0\",\"17238.0\",\"17865.0\",\"15547.0\",\"15808.0\",\"18102.0\",\"16327.0\",\"14044.0\",\"12835.0\",\"14085.0\",\"14030.0\",\"13050.0\",\"15898.0\",\"16938.0\",\"15867.0\",\"13451.0\",\"15061.0\",\"17338.0\",\"13097.0\",\"14049.0\",\"15358.0\",\"12472.0\",\"16710.0\",\"13206.0\",\"17757.0\",\"15581.0\",\"16550.0\",\"14040.0\",\"17611.0\",\"16409.0\",\"15571.0\",\"16746.0\",\"13869.0\",\"14031.0\",\"12867.0\",\"17965.0\",\"12682.0\",\"18069.0\",\"16072.0\",\"15856.0\",\"12949.0\",\"17799.0\",\"17576.0\",\"17364.0\",\"14535.0\",\"16686.0\",\"13319.0\",\"15615.0\",\"18041.0\",\"17346.0\",\"13969.0\"],\"xaxis\":\"x\",\"y\":[5568,4944,3802,2646,2531,2499,2168,2038,1773,1725,1546,1542,1343,1330,1303,1272,1227,1181,1159,1115,1057,1049,1030,957,948,921,891,839,827,814,801,797,790,775,773,763,724,718,707,707,697,678,678,677,676,672,670,661,657,655,644,640,637,632,627,626,620,615,609,609,599,597,589,589,589,584,584,583,583,579,572,569,566,559,559,552,552,545,544,543,539,534,528,516,515,514,513,508,504,500,500,499,498,497,484,479,478,475,471,470],\"yaxis\":\"y\",\"type\":\"bar\"}],                        {\"template\":{\"data\":{\"histogram2dcontour\":[{\"type\":\"histogram2dcontour\",\"colorbar\":{\"outlinewidth\":0,\"ticks\":\"\"},\"colorscale\":[[0.0,\"#0d0887\"],[0.1111111111111111,\"#46039f\"],[0.2222222222222222,\"#7201a8\"],[0.3333333333333333,\"#9c179e\"],[0.4444444444444444,\"#bd3786\"],[0.5555555555555556,\"#d8576b\"],[0.6666666666666666,\"#ed7953\"],[0.7777777777777778,\"#fb9f3a\"],[0.8888888888888888,\"#fdca26\"],[1.0,\"#f0f921\"]]}],\"choropleth\":[{\"type\":\"choropleth\",\"colorbar\":{\"outlinewidth\":0,\"ticks\":\"\"}}],\"histogram2d\":[{\"type\":\"histogram2d\",\"colorbar\":{\"outlinewidth\":0,\"ticks\":\"\"},\"colorscale\":[[0.0,\"#0d0887\"],[0.1111111111111111,\"#46039f\"],[0.2222222222222222,\"#7201a8\"],[0.3333333333333333,\"#9c179e\"],[0.4444444444444444,\"#bd3786\"],[0.5555555555555556,\"#d8576b\"],[0.6666666666666666,\"#ed7953\"],[0.7777777777777778,\"#fb9f3a\"],[0.8888888888888888,\"#fdca26\"],[1.0,\"#f0f921\"]]}],\"heatmap\":[{\"type\":\"heatmap\",\"colorbar\":{\"outlinewidth\":0,\"ticks\":\"\"},\"colorscale\":[[0.0,\"#0d0887\"],[0.1111111111111111,\"#46039f\"],[0.2222222222222222,\"#7201a8\"],[0.3333333333333333,\"#9c179e\"],[0.4444444444444444,\"#bd3786\"],[0.5555555555555556,\"#d8576b\"],[0.6666666666666666,\"#ed7953\"],[0.7777777777777778,\"#fb9f3a\"],[0.8888888888888888,\"#fdca26\"],[1.0,\"#f0f921\"]]}],\"heatmapgl\":[{\"type\":\"heatmapgl\",\"colorbar\":{\"outlinewidth\":0,\"ticks\":\"\"},\"colorscale\":[[0.0,\"#0d0887\"],[0.1111111111111111,\"#46039f\"],[0.2222222222222222,\"#7201a8\"],[0.3333333333333333,\"#9c179e\"],[0.4444444444444444,\"#bd3786\"],[0.5555555555555556,\"#d8576b\"],[0.6666666666666666,\"#ed7953\"],[0.7777777777777778,\"#fb9f3a\"],[0.8888888888888888,\"#fdca26\"],[1.0,\"#f0f921\"]]}],\"contourcarpet\":[{\"type\":\"contourcarpet\",\"colorbar\":{\"outlinewidth\":0,\"ticks\":\"\"}}],\"contour\":[{\"type\":\"contour\",\"colorbar\":{\"outlinewidth\":0,\"ticks\":\"\"},\"colorscale\":[[0.0,\"#0d0887\"],[0.1111111111111111,\"#46039f\"],[0.2222222222222222,\"#7201a8\"],[0.3333333333333333,\"#9c179e\"],[0.4444444444444444,\"#bd3786\"],[0.5555555555555556,\"#d8576b\"],[0.6666666666666666,\"#ed7953\"],[0.7777777777777778,\"#fb9f3a\"],[0.8888888888888888,\"#fdca26\"],[1.0,\"#f0f921\"]]}],\"surface\":[{\"type\":\"surface\",\"colorbar\":{\"outlinewidth\":0,\"ticks\":\"\"},\"colorscale\":[[0.0,\"#0d0887\"],[0.1111111111111111,\"#46039f\"],[0.2222222222222222,\"#7201a8\"],[0.3333333333333333,\"#9c179e\"],[0.4444444444444444,\"#bd3786\"],[0.5555555555555556,\"#d8576b\"],[0.6666666666666666,\"#ed7953\"],[0.7777777777777778,\"#fb9f3a\"],[0.8888888888888888,\"#fdca26\"],[1.0,\"#f0f921\"]]}],\"mesh3d\":[{\"type\":\"mesh3d\",\"colorbar\":{\"outlinewidth\":0,\"ticks\":\"\"}}],\"scatter\":[{\"fillpattern\":{\"fillmode\":\"overlay\",\"size\":10,\"solidity\":0.2},\"type\":\"scatter\"}],\"parcoords\":[{\"type\":\"parcoords\",\"line\":{\"colorbar\":{\"outlinewidth\":0,\"ticks\":\"\"}}}],\"scatterpolargl\":[{\"type\":\"scatterpolargl\",\"marker\":{\"colorbar\":{\"outlinewidth\":0,\"ticks\":\"\"}}}],\"bar\":[{\"error_x\":{\"color\":\"#2a3f5f\"},\"error_y\":{\"color\":\"#2a3f5f\"},\"marker\":{\"line\":{\"color\":\"#E5ECF6\",\"width\":0.5},\"pattern\":{\"fillmode\":\"overlay\",\"size\":10,\"solidity\":0.2}},\"type\":\"bar\"}],\"scattergeo\":[{\"type\":\"scattergeo\",\"marker\":{\"colorbar\":{\"outlinewidth\":0,\"ticks\":\"\"}}}],\"scatterpolar\":[{\"type\":\"scatterpolar\",\"marker\":{\"colorbar\":{\"outlinewidth\":0,\"ticks\":\"\"}}}],\"histogram\":[{\"marker\":{\"pattern\":{\"fillmode\":\"overlay\",\"size\":10,\"solidity\":0.2}},\"type\":\"histogram\"}],\"scattergl\":[{\"type\":\"scattergl\",\"marker\":{\"colorbar\":{\"outlinewidth\":0,\"ticks\":\"\"}}}],\"scatter3d\":[{\"type\":\"scatter3d\",\"line\":{\"colorbar\":{\"outlinewidth\":0,\"ticks\":\"\"}},\"marker\":{\"colorbar\":{\"outlinewidth\":0,\"ticks\":\"\"}}}],\"scattermapbox\":[{\"type\":\"scattermapbox\",\"marker\":{\"colorbar\":{\"outlinewidth\":0,\"ticks\":\"\"}}}],\"scatterternary\":[{\"type\":\"scatterternary\",\"marker\":{\"colorbar\":{\"outlinewidth\":0,\"ticks\":\"\"}}}],\"scattercarpet\":[{\"type\":\"scattercarpet\",\"marker\":{\"colorbar\":{\"outlinewidth\":0,\"ticks\":\"\"}}}],\"carpet\":[{\"aaxis\":{\"endlinecolor\":\"#2a3f5f\",\"gridcolor\":\"white\",\"linecolor\":\"white\",\"minorgridcolor\":\"white\",\"startlinecolor\":\"#2a3f5f\"},\"baxis\":{\"endlinecolor\":\"#2a3f5f\",\"gridcolor\":\"white\",\"linecolor\":\"white\",\"minorgridcolor\":\"white\",\"startlinecolor\":\"#2a3f5f\"},\"type\":\"carpet\"}],\"table\":[{\"cells\":{\"fill\":{\"color\":\"#EBF0F8\"},\"line\":{\"color\":\"white\"}},\"header\":{\"fill\":{\"color\":\"#C8D4E3\"},\"line\":{\"color\":\"white\"}},\"type\":\"table\"}],\"barpolar\":[{\"marker\":{\"line\":{\"color\":\"#E5ECF6\",\"width\":0.5},\"pattern\":{\"fillmode\":\"overlay\",\"size\":10,\"solidity\":0.2}},\"type\":\"barpolar\"}],\"pie\":[{\"automargin\":true,\"type\":\"pie\"}]},\"layout\":{\"autotypenumbers\":\"strict\",\"colorway\":[\"#636efa\",\"#EF553B\",\"#00cc96\",\"#ab63fa\",\"#FFA15A\",\"#19d3f3\",\"#FF6692\",\"#B6E880\",\"#FF97FF\",\"#FECB52\"],\"font\":{\"color\":\"#2a3f5f\"},\"hovermode\":\"closest\",\"hoverlabel\":{\"align\":\"left\"},\"paper_bgcolor\":\"white\",\"plot_bgcolor\":\"#E5ECF6\",\"polar\":{\"bgcolor\":\"#E5ECF6\",\"angularaxis\":{\"gridcolor\":\"white\",\"linecolor\":\"white\",\"ticks\":\"\"},\"radialaxis\":{\"gridcolor\":\"white\",\"linecolor\":\"white\",\"ticks\":\"\"}},\"ternary\":{\"bgcolor\":\"#E5ECF6\",\"aaxis\":{\"gridcolor\":\"white\",\"linecolor\":\"white\",\"ticks\":\"\"},\"baxis\":{\"gridcolor\":\"white\",\"linecolor\":\"white\",\"ticks\":\"\"},\"caxis\":{\"gridcolor\":\"white\",\"linecolor\":\"white\",\"ticks\":\"\"}},\"coloraxis\":{\"colorbar\":{\"outlinewidth\":0,\"ticks\":\"\"}},\"colorscale\":{\"sequential\":[[0.0,\"#0d0887\"],[0.1111111111111111,\"#46039f\"],[0.2222222222222222,\"#7201a8\"],[0.3333333333333333,\"#9c179e\"],[0.4444444444444444,\"#bd3786\"],[0.5555555555555556,\"#d8576b\"],[0.6666666666666666,\"#ed7953\"],[0.7777777777777778,\"#fb9f3a\"],[0.8888888888888888,\"#fdca26\"],[1.0,\"#f0f921\"]],\"sequentialminus\":[[0.0,\"#0d0887\"],[0.1111111111111111,\"#46039f\"],[0.2222222222222222,\"#7201a8\"],[0.3333333333333333,\"#9c179e\"],[0.4444444444444444,\"#bd3786\"],[0.5555555555555556,\"#d8576b\"],[0.6666666666666666,\"#ed7953\"],[0.7777777777777778,\"#fb9f3a\"],[0.8888888888888888,\"#fdca26\"],[1.0,\"#f0f921\"]],\"diverging\":[[0,\"#8e0152\"],[0.1,\"#c51b7d\"],[0.2,\"#de77ae\"],[0.3,\"#f1b6da\"],[0.4,\"#fde0ef\"],[0.5,\"#f7f7f7\"],[0.6,\"#e6f5d0\"],[0.7,\"#b8e186\"],[0.8,\"#7fbc41\"],[0.9,\"#4d9221\"],[1,\"#276419\"]]},\"xaxis\":{\"gridcolor\":\"white\",\"linecolor\":\"white\",\"ticks\":\"\",\"title\":{\"standoff\":15},\"zerolinecolor\":\"white\",\"automargin\":true,\"zerolinewidth\":2},\"yaxis\":{\"gridcolor\":\"white\",\"linecolor\":\"white\",\"ticks\":\"\",\"title\":{\"standoff\":15},\"zerolinecolor\":\"white\",\"automargin\":true,\"zerolinewidth\":2},\"scene\":{\"xaxis\":{\"backgroundcolor\":\"#E5ECF6\",\"gridcolor\":\"white\",\"linecolor\":\"white\",\"showbackground\":true,\"ticks\":\"\",\"zerolinecolor\":\"white\",\"gridwidth\":2},\"yaxis\":{\"backgroundcolor\":\"#E5ECF6\",\"gridcolor\":\"white\",\"linecolor\":\"white\",\"showbackground\":true,\"ticks\":\"\",\"zerolinecolor\":\"white\",\"gridwidth\":2},\"zaxis\":{\"backgroundcolor\":\"#E5ECF6\",\"gridcolor\":\"white\",\"linecolor\":\"white\",\"showbackground\":true,\"ticks\":\"\",\"zerolinecolor\":\"white\",\"gridwidth\":2}},\"shapedefaults\":{\"line\":{\"color\":\"#2a3f5f\"}},\"annotationdefaults\":{\"arrowcolor\":\"#2a3f5f\",\"arrowhead\":0,\"arrowwidth\":1},\"geo\":{\"bgcolor\":\"white\",\"landcolor\":\"#E5ECF6\",\"subunitcolor\":\"white\",\"showland\":true,\"showlakes\":true,\"lakecolor\":\"white\"},\"title\":{\"x\":0.05},\"mapbox\":{\"style\":\"light\"}}},\"xaxis\":{\"anchor\":\"y\",\"domain\":[0.0,1.0],\"title\":{\"text\":\"x\"}},\"yaxis\":{\"anchor\":\"x\",\"domain\":[0.0,1.0],\"title\":{\"text\":\"y\"}},\"legend\":{\"tracegroupgap\":0},\"title\":{\"text\":\"100 Most common categories of Customer ID\"},\"barmode\":\"relative\"},                        {\"responsive\": true}                    ).then(function(){\n",
              "                            \n",
              "var gd = document.getElementById('b95ccd95-549f-4340-8669-4cec9511d87f');\n",
              "var x = new MutationObserver(function (mutations, observer) {{\n",
              "        var display = window.getComputedStyle(gd).display;\n",
              "        if (!display || display === 'none') {{\n",
              "            console.log([gd, 'removed!']);\n",
              "            Plotly.purge(gd);\n",
              "            observer.disconnect();\n",
              "        }}\n",
              "}});\n",
              "\n",
              "// Listen for the removal of the full notebook cells\n",
              "var notebookContainer = gd.closest('#notebook-container');\n",
              "if (notebookContainer) {{\n",
              "    x.observe(notebookContainer, {childList: true});\n",
              "}}\n",
              "\n",
              "// Listen for the clearing of the current output cell\n",
              "var outputEl = gd.closest('.output');\n",
              "if (outputEl) {{\n",
              "    x.observe(outputEl, {childList: true});\n",
              "}}\n",
              "\n",
              "                        })                };                            </script>        </div>\n",
              "</body>\n",
              "</html>"
            ]
          },
          "metadata": {}
        }
      ]
    },
    {
      "cell_type": "code",
      "source": [
        "profile_df(cleaned)"
      ],
      "metadata": {
        "id": "ngq8Z9lW6v64",
        "outputId": "2811a1b4-6f80-4256-83e5-cf340543f728",
        "colab": {
          "base_uri": "https://localhost:8080/",
          "height": 1000
        }
      },
      "execution_count": null,
      "outputs": [
        {
          "output_type": "display_data",
          "data": {
            "text/plain": [
              "<IPython.core.display.Markdown object>"
            ],
            "text/markdown": "## Bivariant Analysis:"
          },
          "metadata": {}
        },
        {
          "output_type": "display_data",
          "data": {
            "text/plain": [
              "<Figure size 432x288 with 1 Axes>"
            ],
            "image/png": "[encoded data removed]"
          },
          "metadata": {
            "needs_background": "light"
          }
        },
        {
          "output_type": "display_data",
          "data": {
            "text/plain": [
              "<Figure size 432x288 with 1 Axes>"
            ],
            "image/png": "[encoded data removed]"
          },
          "metadata": {
            "needs_background": "light"
          }
        },
        {
          "output_type": "display_data",
          "data": {
            "text/plain": [
              "<Figure size 432x288 with 1 Axes>"
            ],
            "image/png": "[encoded data removed]"
          },
          "metadata": {
            "needs_background": "light"
          }
        },
        {
          "output_type": "display_data",
          "data": {
            "text/plain": [
              "<IPython.core.display.Markdown object>"
            ],
            "text/markdown": "## Correlation:"
          },
          "metadata": {}
        },
        {
          "output_type": "display_data",
          "data": {
            "text/html": [
              "<html>\n",
              "<head><meta charset=\"utf-8\" /></head>\n",
              "<body>\n",
              "    <div>            <script src=\"https://cdnjs.cloudflare.com/ajax/libs/mathjax/2.7.5/MathJax.js?config=TeX-AMS-MML_SVG\"></script><script type=\"text/javascript\">if (window.MathJax && window.MathJax.Hub && window.MathJax.Hub.Config) {window.MathJax.Hub.Config({SVG: {font: \"STIX-Web\"}});}</script>                <script type=\"text/javascript\">window.PlotlyConfig = {MathJaxConfig: 'local'};</script>\n",
              "        <script src=\"https://cdn.plot.ly/plotly-2.14.0.min.js\"></script>                <div id=\"ac241e32-89dd-40ca-b3e8-3a2ffcb7278a\" class=\"plotly-graph-div\" style=\"height:525px; width:100%;\"></div>            <script type=\"text/javascript\">                                    window.PLOTLYENV=window.PLOTLYENV || {};                                    if (document.getElementById(\"ac241e32-89dd-40ca-b3e8-3a2ffcb7278a\")) {                    Plotly.newPlot(                        \"ac241e32-89dd-40ca-b3e8-3a2ffcb7278a\",                        [{\"coloraxis\":\"coloraxis\",\"name\":\"0\",\"x\":[\"Quantity\",\"Price\"],\"y\":[\"Quantity\",\"Price\"],\"z\":[[1.0,-0.006887025102004567],[-0.006887025102004567,1.0]],\"type\":\"heatmap\",\"xaxis\":\"x\",\"yaxis\":\"y\",\"hovertemplate\":\"x: %{x}<br>y: %{y}<br>color: %{z}<extra></extra>\"}],                        {\"template\":{\"data\":{\"histogram2dcontour\":[{\"type\":\"histogram2dcontour\",\"colorbar\":{\"outlinewidth\":0,\"ticks\":\"\"},\"colorscale\":[[0.0,\"#0d0887\"],[0.1111111111111111,\"#46039f\"],[0.2222222222222222,\"#7201a8\"],[0.3333333333333333,\"#9c179e\"],[0.4444444444444444,\"#bd3786\"],[0.5555555555555556,\"#d8576b\"],[0.6666666666666666,\"#ed7953\"],[0.7777777777777778,\"#fb9f3a\"],[0.8888888888888888,\"#fdca26\"],[1.0,\"#f0f921\"]]}],\"choropleth\":[{\"type\":\"choropleth\",\"colorbar\":{\"outlinewidth\":0,\"ticks\":\"\"}}],\"histogram2d\":[{\"type\":\"histogram2d\",\"colorbar\":{\"outlinewidth\":0,\"ticks\":\"\"},\"colorscale\":[[0.0,\"#0d0887\"],[0.1111111111111111,\"#46039f\"],[0.2222222222222222,\"#7201a8\"],[0.3333333333333333,\"#9c179e\"],[0.4444444444444444,\"#bd3786\"],[0.5555555555555556,\"#d8576b\"],[0.6666666666666666,\"#ed7953\"],[0.7777777777777778,\"#fb9f3a\"],[0.8888888888888888,\"#fdca26\"],[1.0,\"#f0f921\"]]}],\"heatmap\":[{\"type\":\"heatmap\",\"colorbar\":{\"outlinewidth\":0,\"ticks\":\"\"},\"colorscale\":[[0.0,\"#0d0887\"],[0.1111111111111111,\"#46039f\"],[0.2222222222222222,\"#7201a8\"],[0.3333333333333333,\"#9c179e\"],[0.4444444444444444,\"#bd3786\"],[0.5555555555555556,\"#d8576b\"],[0.6666666666666666,\"#ed7953\"],[0.7777777777777778,\"#fb9f3a\"],[0.8888888888888888,\"#fdca26\"],[1.0,\"#f0f921\"]]}],\"heatmapgl\":[{\"type\":\"heatmapgl\",\"colorbar\":{\"outlinewidth\":0,\"ticks\":\"\"},\"colorscale\":[[0.0,\"#0d0887\"],[0.1111111111111111,\"#46039f\"],[0.2222222222222222,\"#7201a8\"],[0.3333333333333333,\"#9c179e\"],[0.4444444444444444,\"#bd3786\"],[0.5555555555555556,\"#d8576b\"],[0.6666666666666666,\"#ed7953\"],[0.7777777777777778,\"#fb9f3a\"],[0.8888888888888888,\"#fdca26\"],[1.0,\"#f0f921\"]]}],\"contourcarpet\":[{\"type\":\"contourcarpet\",\"colorbar\":{\"outlinewidth\":0,\"ticks\":\"\"}}],\"contour\":[{\"type\":\"contour\",\"colorbar\":{\"outlinewidth\":0,\"ticks\":\"\"},\"colorscale\":[[0.0,\"#0d0887\"],[0.1111111111111111,\"#46039f\"],[0.2222222222222222,\"#7201a8\"],[0.3333333333333333,\"#9c179e\"],[0.4444444444444444,\"#bd3786\"],[0.5555555555555556,\"#d8576b\"],[0.6666666666666666,\"#ed7953\"],[0.7777777777777778,\"#fb9f3a\"],[0.8888888888888888,\"#fdca26\"],[1.0,\"#f0f921\"]]}],\"surface\":[{\"type\":\"surface\",\"colorbar\":{\"outlinewidth\":0,\"ticks\":\"\"},\"colorscale\":[[0.0,\"#0d0887\"],[0.1111111111111111,\"#46039f\"],[0.2222222222222222,\"#7201a8\"],[0.3333333333333333,\"#9c179e\"],[0.4444444444444444,\"#bd3786\"],[0.5555555555555556,\"#d8576b\"],[0.6666666666666666,\"#ed7953\"],[0.7777777777777778,\"#fb9f3a\"],[0.8888888888888888,\"#fdca26\"],[1.0,\"#f0f921\"]]}],\"mesh3d\":[{\"type\":\"mesh3d\",\"colorbar\":{\"outlinewidth\":0,\"ticks\":\"\"}}],\"scatter\":[{\"fillpattern\":{\"fillmode\":\"overlay\",\"size\":10,\"solidity\":0.2},\"type\":\"scatter\"}],\"parcoords\":[{\"type\":\"parcoords\",\"line\":{\"colorbar\":{\"outlinewidth\":0,\"ticks\":\"\"}}}],\"scatterpolargl\":[{\"type\":\"scatterpolargl\",\"marker\":{\"colorbar\":{\"outlinewidth\":0,\"ticks\":\"\"}}}],\"bar\":[{\"error_x\":{\"color\":\"#2a3f5f\"},\"error_y\":{\"color\":\"#2a3f5f\"},\"marker\":{\"line\":{\"color\":\"#E5ECF6\",\"width\":0.5},\"pattern\":{\"fillmode\":\"overlay\",\"size\":10,\"solidity\":0.2}},\"type\":\"bar\"}],\"scattergeo\":[{\"type\":\"scattergeo\",\"marker\":{\"colorbar\":{\"outlinewidth\":0,\"ticks\":\"\"}}}],\"scatterpolar\":[{\"type\":\"scatterpolar\",\"marker\":{\"colorbar\":{\"outlinewidth\":0,\"ticks\":\"\"}}}],\"histogram\":[{\"marker\":{\"pattern\":{\"fillmode\":\"overlay\",\"size\":10,\"solidity\":0.2}},\"type\":\"histogram\"}],\"scattergl\":[{\"type\":\"scattergl\",\"marker\":{\"colorbar\":{\"outlinewidth\":0,\"ticks\":\"\"}}}],\"scatter3d\":[{\"type\":\"scatter3d\",\"line\":{\"colorbar\":{\"outlinewidth\":0,\"ticks\":\"\"}},\"marker\":{\"colorbar\":{\"outlinewidth\":0,\"ticks\":\"\"}}}],\"scattermapbox\":[{\"type\":\"scattermapbox\",\"marker\":{\"colorbar\":{\"outlinewidth\":0,\"ticks\":\"\"}}}],\"scatterternary\":[{\"type\":\"scatterternary\",\"marker\":{\"colorbar\":{\"outlinewidth\":0,\"ticks\":\"\"}}}],\"scattercarpet\":[{\"type\":\"scattercarpet\",\"marker\":{\"colorbar\":{\"outlinewidth\":0,\"ticks\":\"\"}}}],\"carpet\":[{\"aaxis\":{\"endlinecolor\":\"#2a3f5f\",\"gridcolor\":\"white\",\"linecolor\":\"white\",\"minorgridcolor\":\"white\",\"startlinecolor\":\"#2a3f5f\"},\"baxis\":{\"endlinecolor\":\"#2a3f5f\",\"gridcolor\":\"white\",\"linecolor\":\"white\",\"minorgridcolor\":\"white\",\"startlinecolor\":\"#2a3f5f\"},\"type\":\"carpet\"}],\"table\":[{\"cells\":{\"fill\":{\"color\":\"#EBF0F8\"},\"line\":{\"color\":\"white\"}},\"header\":{\"fill\":{\"color\":\"#C8D4E3\"},\"line\":{\"color\":\"white\"}},\"type\":\"table\"}],\"barpolar\":[{\"marker\":{\"line\":{\"color\":\"#E5ECF6\",\"width\":0.5},\"pattern\":{\"fillmode\":\"overlay\",\"size\":10,\"solidity\":0.2}},\"type\":\"barpolar\"}],\"pie\":[{\"automargin\":true,\"type\":\"pie\"}]},\"layout\":{\"autotypenumbers\":\"strict\",\"colorway\":[\"#636efa\",\"#EF553B\",\"#00cc96\",\"#ab63fa\",\"#FFA15A\",\"#19d3f3\",\"#FF6692\",\"#B6E880\",\"#FF97FF\",\"#FECB52\"],\"font\":{\"color\":\"#2a3f5f\"},\"hovermode\":\"closest\",\"hoverlabel\":{\"align\":\"left\"},\"paper_bgcolor\":\"white\",\"plot_bgcolor\":\"#E5ECF6\",\"polar\":{\"bgcolor\":\"#E5ECF6\",\"angularaxis\":{\"gridcolor\":\"white\",\"linecolor\":\"white\",\"ticks\":\"\"},\"radialaxis\":{\"gridcolor\":\"white\",\"linecolor\":\"white\",\"ticks\":\"\"}},\"ternary\":{\"bgcolor\":\"#E5ECF6\",\"aaxis\":{\"gridcolor\":\"white\",\"linecolor\":\"white\",\"ticks\":\"\"},\"baxis\":{\"gridcolor\":\"white\",\"linecolor\":\"white\",\"ticks\":\"\"},\"caxis\":{\"gridcolor\":\"white\",\"linecolor\":\"white\",\"ticks\":\"\"}},\"coloraxis\":{\"colorbar\":{\"outlinewidth\":0,\"ticks\":\"\"}},\"colorscale\":{\"sequential\":[[0.0,\"#0d0887\"],[0.1111111111111111,\"#46039f\"],[0.2222222222222222,\"#7201a8\"],[0.3333333333333333,\"#9c179e\"],[0.4444444444444444,\"#bd3786\"],[0.5555555555555556,\"#d8576b\"],[0.6666666666666666,\"#ed7953\"],[0.7777777777777778,\"#fb9f3a\"],[0.8888888888888888,\"#fdca26\"],[1.0,\"#f0f921\"]],\"sequentialminus\":[[0.0,\"#0d0887\"],[0.1111111111111111,\"#46039f\"],[0.2222222222222222,\"#7201a8\"],[0.3333333333333333,\"#9c179e\"],[0.4444444444444444,\"#bd3786\"],[0.5555555555555556,\"#d8576b\"],[0.6666666666666666,\"#ed7953\"],[0.7777777777777778,\"#fb9f3a\"],[0.8888888888888888,\"#fdca26\"],[1.0,\"#f0f921\"]],\"diverging\":[[0,\"#8e0152\"],[0.1,\"#c51b7d\"],[0.2,\"#de77ae\"],[0.3,\"#f1b6da\"],[0.4,\"#fde0ef\"],[0.5,\"#f7f7f7\"],[0.6,\"#e6f5d0\"],[0.7,\"#b8e186\"],[0.8,\"#7fbc41\"],[0.9,\"#4d9221\"],[1,\"#276419\"]]},\"xaxis\":{\"gridcolor\":\"white\",\"linecolor\":\"white\",\"ticks\":\"\",\"title\":{\"standoff\":15},\"zerolinecolor\":\"white\",\"automargin\":true,\"zerolinewidth\":2},\"yaxis\":{\"gridcolor\":\"white\",\"linecolor\":\"white\",\"ticks\":\"\",\"title\":{\"standoff\":15},\"zerolinecolor\":\"white\",\"automargin\":true,\"zerolinewidth\":2},\"scene\":{\"xaxis\":{\"backgroundcolor\":\"#E5ECF6\",\"gridcolor\":\"white\",\"linecolor\":\"white\",\"showbackground\":true,\"ticks\":\"\",\"zerolinecolor\":\"white\",\"gridwidth\":2},\"yaxis\":{\"backgroundcolor\":\"#E5ECF6\",\"gridcolor\":\"white\",\"linecolor\":\"white\",\"showbackground\":true,\"ticks\":\"\",\"zerolinecolor\":\"white\",\"gridwidth\":2},\"zaxis\":{\"backgroundcolor\":\"#E5ECF6\",\"gridcolor\":\"white\",\"linecolor\":\"white\",\"showbackground\":true,\"ticks\":\"\",\"zerolinecolor\":\"white\",\"gridwidth\":2}},\"shapedefaults\":{\"line\":{\"color\":\"#2a3f5f\"}},\"annotationdefaults\":{\"arrowcolor\":\"#2a3f5f\",\"arrowhead\":0,\"arrowwidth\":1},\"geo\":{\"bgcolor\":\"white\",\"landcolor\":\"#E5ECF6\",\"subunitcolor\":\"white\",\"showland\":true,\"showlakes\":true,\"lakecolor\":\"white\"},\"title\":{\"x\":0.05},\"mapbox\":{\"style\":\"light\"}}},\"xaxis\":{\"anchor\":\"y\",\"domain\":[0.0,1.0],\"scaleanchor\":\"y\",\"constrain\":\"domain\"},\"yaxis\":{\"anchor\":\"x\",\"domain\":[0.0,1.0],\"autorange\":\"reversed\",\"constrain\":\"domain\"},\"coloraxis\":{\"colorscale\":[[0.0,\"#0d0887\"],[0.1111111111111111,\"#46039f\"],[0.2222222222222222,\"#7201a8\"],[0.3333333333333333,\"#9c179e\"],[0.4444444444444444,\"#bd3786\"],[0.5555555555555556,\"#d8576b\"],[0.6666666666666666,\"#ed7953\"],[0.7777777777777778,\"#fb9f3a\"],[0.8888888888888888,\"#fdca26\"],[1.0,\"#f0f921\"]]},\"margin\":{\"t\":60}},                        {\"responsive\": true}                    ).then(function(){\n",
              "                            \n",
              "var gd = document.getElementById('ac241e32-89dd-40ca-b3e8-3a2ffcb7278a');\n",
              "var x = new MutationObserver(function (mutations, observer) {{\n",
              "        var display = window.getComputedStyle(gd).display;\n",
              "        if (!display || display === 'none') {{\n",
              "            console.log([gd, 'removed!']);\n",
              "            Plotly.purge(gd);\n",
              "            observer.disconnect();\n",
              "        }}\n",
              "}});\n",
              "\n",
              "// Listen for the removal of the full notebook cells\n",
              "var notebookContainer = gd.closest('#notebook-container');\n",
              "if (notebookContainer) {{\n",
              "    x.observe(notebookContainer, {childList: true});\n",
              "}}\n",
              "\n",
              "// Listen for the clearing of the current output cell\n",
              "var outputEl = gd.closest('.output');\n",
              "if (outputEl) {{\n",
              "    x.observe(outputEl, {childList: true});\n",
              "}}\n",
              "\n",
              "                        })                };                            </script>        </div>\n",
              "</body>\n",
              "</html>"
            ]
          },
          "metadata": {}
        },
        {
          "output_type": "display_data",
          "data": {
            "text/plain": [
              "<IPython.core.display.Markdown object>"
            ],
            "text/markdown": "## Missing Matrix:"
          },
          "metadata": {}
        },
        {
          "output_type": "display_data",
          "data": {
            "text/plain": [
              "<Figure size 1080x720 with 1 Axes>"
            ],
            "image/png": "[encoded data removed]"
          },
          "metadata": {
            "needs_background": "light"
          }
        }
      ]
    },
    {
      "cell_type": "markdown",
      "source": [
        "Luego de la limpieza se hace nuevamente el análisis exploratorio.\n",
        "El nuevo dataset presenta 400.916 filas, en comparación con las 525.461 del dataset original.\n",
        "Las 124.545 filas de diferencia fueron eliminadas por datos erróneos.\n",
        "\n",
        "Se puede ver en el nuevo dataset que ya no hay registros de productos con precio negativo. Los valores de esta columna disminuyeron su desviación estándar de 146.13 a 35, por lo que luego de la limpieza se tienen precios más homogéneos.\n",
        "\n",
        "Por otro lado solo hay registros de productos con cantidades mayores o iguales a 1\n",
        "\n",
        "Ambos cambios en las columnas \"Price\" y \"Quantity\" se pueden ver numéricamente en el análisis univariado y gráficamente en el análisis bivariado.\n",
        "Gracias a esta limpieza no existirán ventas negativas.\n",
        "\n",
        "\n",
        "Por otro lado, el análisis univariado de \"Customer ID\" muestra que esta columna ya no presenta valores faltantes. Lo que se puede corroborar en la matriz de datos faltantes, en la cual se puede ver que todas las columnas están completas."
      ],
      "metadata": {
        "id": "qf4nxX1OCus0"
      }
    },
    {
      "cell_type": "markdown",
      "metadata": {
        "cell_id": "00028-b5630b67-565d-42f3-a387-f67a80dda8ea",
        "deepnote_cell_height": 61.03334045410156,
        "deepnote_cell_type": "markdown",
        "id": "dkyp81nkBghF"
      },
      "source": [
        "### 1.2.4 Obtención de TOPs [0.75 ptos]"
      ]
    },
    {
      "cell_type": "markdown",
      "metadata": {
        "cell_id": "00029-71382778-46fe-4d49-9481-afec1667525a",
        "deepnote_cell_height": 177.43333435058594,
        "deepnote_cell_type": "markdown",
        "id": "FqWpKnmn6W0y"
      },
      "source": [
        "Sin considerar los comentarios realizados en la sección 1.2 , *Don Mora* les pide obtener el **Top de 30 productos que generan más ganancias** para la tienda de retail. Deben considerar todo el registro temporal presente en el dataset y entregar la información en un gráfico de barras de los ingresos/cantidades v/s el nombre de los productos (Utilice `plotly`). ¿Los artículos más vendidos son los mismos que generan más ganancias?, Comente los resultados obtenidos.\n",
        "\n",
        "**Resultados:**"
      ]
    },
    {
      "cell_type": "code",
      "execution_count": null,
      "metadata": {
        "cell_id": "00029-6e40375f-f1de-4643-8460-b3b2f74ec335",
        "deepnote_cell_height": 65.03334045410156,
        "deepnote_cell_type": "code",
        "tags": [],
        "id": "LBHMUpf0cgvI"
      },
      "outputs": [],
      "source": [
        "> Código Aquí"
      ]
    },
    {
      "cell_type": "markdown",
      "metadata": {
        "cell_id": "00032-61832905-3832-49f7-884b-4ffdd1045252",
        "deepnote_cell_height": 61.03334045410156,
        "deepnote_cell_type": "markdown",
        "tags": [],
        "id": "ue-pImYQcgvJ"
      },
      "source": [
        "### 1.2.5 Visualización del registro temporal [0,75 ptos]"
      ]
    },
    {
      "cell_type": "markdown",
      "metadata": {
        "cell_id": "00033-7886e714-8ad0-4387-b204-9d01f927df14",
        "deepnote_cell_height": 118.63333129882812,
        "deepnote_cell_type": "markdown",
        "tags": [],
        "id": "0QNpdD8kcgvJ"
      },
      "source": [
        "El dueño del retail en su afán por saber más sobre los datos de su firma les solicita que grafiquen las ventas respecto al tiempo. Con esto les aclara que durante el día tienen muchas variaciones en sus ventas, por lo que les recomienda que consideren el registro temporal como `año-mes-día`. ¿Es posible observar datos extraños?, Comente lo que observa del gráfico."
      ]
    },
    {
      "cell_type": "code",
      "execution_count": null,
      "metadata": {
        "cell_id": "00034-de869967-0472-43f2-b4c7-63ec649e6447",
        "deepnote_cell_height": 98.03334045410156,
        "deepnote_cell_type": "code",
        "deepnote_to_be_reexecuted": false,
        "execution_millis": 1,
        "execution_start": 1634274396771,
        "id": "SBr7gQOAkmGV",
        "source_hash": "1c692b9d"
      },
      "outputs": [],
      "source": [
        "def plot_ventas(dataframe):\n",
        "    pass"
      ]
    },
    {
      "cell_type": "markdown",
      "metadata": {
        "cell_id": "00043-719d1a35-6773-42d7-8f88-1cc37eda7a1b",
        "deepnote_cell_height": 491.23333740234375,
        "deepnote_cell_type": "markdown",
        "id": "Rg4ZMq8ezAH6"
      },
      "source": [
        "# Conclusión\n",
        "Eso ha sido todo para el lab de hoy, recuerden que el laboratorio tiene un plazo de entrega de una semana y que **los días de atraso no se pueden utilizar para entregas de lab** solo para tareas. Cualquier duda del laboratorio, no duden en contactarnos por mail o U-cursos.\n",
        "\n",
        "![Gracias Totales!](https://i.pinimg.com/originals/65/ae/27/65ae270df87c3c4adcea997e48f60852.gif \"bruno\")\n"
      ]
    },
    {
      "cell_type": "markdown",
      "metadata": {
        "cell_id": "00044-b636da8f-c28b-4f2c-894e-1326a421926b",
        "deepnote_cell_height": 170.4499969482422,
        "deepnote_cell_type": "markdown",
        "id": "wCL1lACBzAH7"
      },
      "source": [
        "<br>\n",
        "<center>\n",
        "<img src=\"https://i.kym-cdn.com/photos/images/original/001/194/195/b18.png\" width=100 height=50 />\n",
        "</center>\n",
        "<br>"
      ]
    }
  ],
  "metadata": {
    "colab": {
      "collapsed_sections": [
        "Rcjs-dd1V-1u",
        "dkyp81nkBghF",
        "THmFfYs1AhAW"
      ],
      "provenance": [],
      "include_colab_link": true
    },
    "deepnote": {},
    "deepnote_execution_queue": [],
    "deepnote_notebook_id": "15b5ce14-e074-4f33-9c56-8f169cc96a69",
    "kernelspec": {
      "display_name": "Python 3",
      "language": "python",
      "name": "python3"
    },
    "language_info": {
      "codemirror_mode": {
        "name": "ipython",
        "version": 3
      },
      "file_extension": ".py",
      "mimetype": "text/x-python",
      "name": "python",
      "nbconvert_exporter": "python",
      "pygments_lexer": "ipython3",
      "version": "3.8.3"
    },
    "toc": {
      "base_numbering": 1,
      "nav_menu": {},
      "number_sections": true,
      "sideBar": true,
      "skip_h1_title": true,
      "title_cell": "Tabla de Contenidos",
      "title_sidebar": "Contenidos",
      "toc_cell": false,
      "toc_position": {
        "height": "calc(100% - 180px)",
        "left": "10px",
        "top": "150px",
        "width": "241.867px"
      },
      "toc_section_display": true,
      "toc_window_display": true
    },
    "varInspector": {
      "cols": {
        "lenName": 16,
        "lenType": 16,
        "lenVar": 40
      },
      "kernels_config": {
        "python": {
          "delete_cmd_postfix": "",
          "delete_cmd_prefix": "del ",
          "library": "var_list.py",
          "varRefreshCmd": "print(var_dic_list())"
        },
        "r": {
          "delete_cmd_postfix": ") ",
          "delete_cmd_prefix": "rm(",
          "library": "var_list.r",
          "varRefreshCmd": "cat(var_dic_list()) "
        }
      },
      "types_to_exclude": [
        "module",
        "function",
        "builtin_function_or_method",
        "instance",
        "_Feature"
      ],
      "window_display": false
    }
  },
  "nbformat": 4,
  "nbformat_minor": 0
}